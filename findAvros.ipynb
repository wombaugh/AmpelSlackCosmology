{
 "cells": [
  {
   "cell_type": "code",
   "execution_count": 1,
   "metadata": {},
   "outputs": [
    {
     "name": "stderr",
     "output_type": "stream",
     "text": [
      "/home/jnordin/local/miniconda2/envs/py36/lib/python3.6/importlib/_bootstrap.py:219: RuntimeWarning: numpy.dtype size changed, may indicate binary incompatibility. Expected 96, got 88\n",
      "  return f(*args, **kwds)\n",
      "/home/jnordin/local/miniconda2/envs/py36/lib/python3.6/importlib/_bootstrap.py:219: RuntimeWarning: numpy.dtype size changed, may indicate binary incompatibility. Expected 96, got 88\n",
      "  return f(*args, **kwds)\n"
     ]
    }
   ],
   "source": [
    "#%matplotlib inline\n",
    "import numpy as np\n",
    "import pandas as pd\n",
    "import matplotlib.pyplot as plt\n",
    "import marshaltools\n",
    "from ast import literal_eval\n",
    "import logging\n",
    "from astropy.time import Time\n",
    "from ipywidgets import interactive\n",
    "import ipywidgets as widgets\n",
    "import re, os\n",
    "import requests\n",
    "import sncosmo\n",
    "import json\n",
    "\n",
    "from utils import get_config\n"
   ]
  },
  {
   "cell_type": "code",
   "execution_count": 83,
   "metadata": {},
   "outputs": [],
   "source": [
    "downloadversion = 5"
   ]
  },
  {
   "cell_type": "code",
   "execution_count": 76,
   "metadata": {},
   "outputs": [],
   "source": [
    "config = get_config()\n",
    "\n",
    "date = '2018-12-09'\n",
    "username = config['username']\n",
    "marshal_saveprogs = 'AMPEL'   # Candidates already in this program will not be scanned. Reg exp string, eg 'AMPEL|RCF'\n",
    "marshal_savid = 42\n",
    "logpath = 'logs/'\n",
    "slackfilepath = config['slackfilepath']\n"
   ]
  },
  {
   "cell_type": "code",
   "execution_count": 84,
   "metadata": {},
   "outputs": [
    {
     "ename": "FileNotFoundError",
     "evalue": "File b'/home/jnordin/Downloads/Summary_2018-12-09 (5).csv' does not exist",
     "output_type": "error",
     "traceback": [
      "\u001b[0;31m---------------------------------------------------------------------------\u001b[0m",
      "\u001b[0;31mFileNotFoundError\u001b[0m                         Traceback (most recent call last)",
      "\u001b[0;32m<ipython-input-84-5ea4cd6bb866>\u001b[0m in \u001b[0;36m<module>\u001b[0;34m()\u001b[0m\n\u001b[1;32m      2\u001b[0m \u001b[0;32mif\u001b[0m \u001b[0mdownloadversion\u001b[0m\u001b[0;34m>\u001b[0m\u001b[0;36m0\u001b[0m\u001b[0;34m:\u001b[0m\u001b[0;34m\u001b[0m\u001b[0m\n\u001b[1;32m      3\u001b[0m         \u001b[0mpath\u001b[0m \u001b[0;34m=\u001b[0m \u001b[0mre\u001b[0m\u001b[0;34m.\u001b[0m\u001b[0msub\u001b[0m\u001b[0;34m(\u001b[0m\u001b[0;34m'.csv'\u001b[0m\u001b[0;34m,\u001b[0m \u001b[0;34m' ({0}).csv'\u001b[0m\u001b[0;34m.\u001b[0m\u001b[0mformat\u001b[0m\u001b[0;34m(\u001b[0m\u001b[0mdownloadversion\u001b[0m\u001b[0;34m)\u001b[0m\u001b[0;34m,\u001b[0m\u001b[0mpath\u001b[0m\u001b[0;34m)\u001b[0m\u001b[0;34m\u001b[0m\u001b[0m\n\u001b[0;32m----> 4\u001b[0;31m \u001b[0mdf_sum\u001b[0m \u001b[0;34m=\u001b[0m \u001b[0mpd\u001b[0m\u001b[0;34m.\u001b[0m\u001b[0mread_csv\u001b[0m\u001b[0;34m(\u001b[0m\u001b[0mpath\u001b[0m\u001b[0;34m)\u001b[0m\u001b[0;34m\u001b[0m\u001b[0m\n\u001b[0m\u001b[1;32m      5\u001b[0m \u001b[0mpath\u001b[0m \u001b[0;34m=\u001b[0m \u001b[0mos\u001b[0m\u001b[0;34m.\u001b[0m\u001b[0mpath\u001b[0m\u001b[0;34m.\u001b[0m\u001b[0mjoin\u001b[0m\u001b[0;34m(\u001b[0m\u001b[0mslackfilepath\u001b[0m\u001b[0;34m,\u001b[0m \u001b[0;34m\"Photometry_%s.csv\"\u001b[0m\u001b[0;34m%\u001b[0m\u001b[0;34m(\u001b[0m\u001b[0mdate\u001b[0m\u001b[0;34m)\u001b[0m\u001b[0;34m)\u001b[0m\u001b[0;34m\u001b[0m\u001b[0m\n\u001b[1;32m      6\u001b[0m \u001b[0;32mif\u001b[0m \u001b[0mdownloadversion\u001b[0m\u001b[0;34m>\u001b[0m\u001b[0;36m0\u001b[0m\u001b[0;34m:\u001b[0m\u001b[0;34m\u001b[0m\u001b[0m\n",
      "\u001b[0;32m~/.local/lib/python3.6/site-packages/pandas/io/parsers.py\u001b[0m in \u001b[0;36mparser_f\u001b[0;34m(filepath_or_buffer, sep, delimiter, header, names, index_col, usecols, squeeze, prefix, mangle_dupe_cols, dtype, engine, converters, true_values, false_values, skipinitialspace, skiprows, nrows, na_values, keep_default_na, na_filter, verbose, skip_blank_lines, parse_dates, infer_datetime_format, keep_date_col, date_parser, dayfirst, iterator, chunksize, compression, thousands, decimal, lineterminator, quotechar, quoting, escapechar, comment, encoding, dialect, tupleize_cols, error_bad_lines, warn_bad_lines, skipfooter, doublequote, delim_whitespace, low_memory, memory_map, float_precision)\u001b[0m\n\u001b[1;32m    676\u001b[0m                     skip_blank_lines=skip_blank_lines)\n\u001b[1;32m    677\u001b[0m \u001b[0;34m\u001b[0m\u001b[0m\n\u001b[0;32m--> 678\u001b[0;31m         \u001b[0;32mreturn\u001b[0m \u001b[0m_read\u001b[0m\u001b[0;34m(\u001b[0m\u001b[0mfilepath_or_buffer\u001b[0m\u001b[0;34m,\u001b[0m \u001b[0mkwds\u001b[0m\u001b[0;34m)\u001b[0m\u001b[0;34m\u001b[0m\u001b[0m\n\u001b[0m\u001b[1;32m    679\u001b[0m \u001b[0;34m\u001b[0m\u001b[0m\n\u001b[1;32m    680\u001b[0m     \u001b[0mparser_f\u001b[0m\u001b[0;34m.\u001b[0m\u001b[0m__name__\u001b[0m \u001b[0;34m=\u001b[0m \u001b[0mname\u001b[0m\u001b[0;34m\u001b[0m\u001b[0m\n",
      "\u001b[0;32m~/.local/lib/python3.6/site-packages/pandas/io/parsers.py\u001b[0m in \u001b[0;36m_read\u001b[0;34m(filepath_or_buffer, kwds)\u001b[0m\n\u001b[1;32m    438\u001b[0m \u001b[0;34m\u001b[0m\u001b[0m\n\u001b[1;32m    439\u001b[0m     \u001b[0;31m# Create the parser.\u001b[0m\u001b[0;34m\u001b[0m\u001b[0;34m\u001b[0m\u001b[0m\n\u001b[0;32m--> 440\u001b[0;31m     \u001b[0mparser\u001b[0m \u001b[0;34m=\u001b[0m \u001b[0mTextFileReader\u001b[0m\u001b[0;34m(\u001b[0m\u001b[0mfilepath_or_buffer\u001b[0m\u001b[0;34m,\u001b[0m \u001b[0;34m**\u001b[0m\u001b[0mkwds\u001b[0m\u001b[0;34m)\u001b[0m\u001b[0;34m\u001b[0m\u001b[0m\n\u001b[0m\u001b[1;32m    441\u001b[0m \u001b[0;34m\u001b[0m\u001b[0m\n\u001b[1;32m    442\u001b[0m     \u001b[0;32mif\u001b[0m \u001b[0mchunksize\u001b[0m \u001b[0;32mor\u001b[0m \u001b[0miterator\u001b[0m\u001b[0;34m:\u001b[0m\u001b[0;34m\u001b[0m\u001b[0m\n",
      "\u001b[0;32m~/.local/lib/python3.6/site-packages/pandas/io/parsers.py\u001b[0m in \u001b[0;36m__init__\u001b[0;34m(self, f, engine, **kwds)\u001b[0m\n\u001b[1;32m    785\u001b[0m             \u001b[0mself\u001b[0m\u001b[0;34m.\u001b[0m\u001b[0moptions\u001b[0m\u001b[0;34m[\u001b[0m\u001b[0;34m'has_index_names'\u001b[0m\u001b[0;34m]\u001b[0m \u001b[0;34m=\u001b[0m \u001b[0mkwds\u001b[0m\u001b[0;34m[\u001b[0m\u001b[0;34m'has_index_names'\u001b[0m\u001b[0;34m]\u001b[0m\u001b[0;34m\u001b[0m\u001b[0m\n\u001b[1;32m    786\u001b[0m \u001b[0;34m\u001b[0m\u001b[0m\n\u001b[0;32m--> 787\u001b[0;31m         \u001b[0mself\u001b[0m\u001b[0;34m.\u001b[0m\u001b[0m_make_engine\u001b[0m\u001b[0;34m(\u001b[0m\u001b[0mself\u001b[0m\u001b[0;34m.\u001b[0m\u001b[0mengine\u001b[0m\u001b[0;34m)\u001b[0m\u001b[0;34m\u001b[0m\u001b[0m\n\u001b[0m\u001b[1;32m    788\u001b[0m \u001b[0;34m\u001b[0m\u001b[0m\n\u001b[1;32m    789\u001b[0m     \u001b[0;32mdef\u001b[0m \u001b[0mclose\u001b[0m\u001b[0;34m(\u001b[0m\u001b[0mself\u001b[0m\u001b[0;34m)\u001b[0m\u001b[0;34m:\u001b[0m\u001b[0;34m\u001b[0m\u001b[0m\n",
      "\u001b[0;32m~/.local/lib/python3.6/site-packages/pandas/io/parsers.py\u001b[0m in \u001b[0;36m_make_engine\u001b[0;34m(self, engine)\u001b[0m\n\u001b[1;32m   1012\u001b[0m     \u001b[0;32mdef\u001b[0m \u001b[0m_make_engine\u001b[0m\u001b[0;34m(\u001b[0m\u001b[0mself\u001b[0m\u001b[0;34m,\u001b[0m \u001b[0mengine\u001b[0m\u001b[0;34m=\u001b[0m\u001b[0;34m'c'\u001b[0m\u001b[0;34m)\u001b[0m\u001b[0;34m:\u001b[0m\u001b[0;34m\u001b[0m\u001b[0m\n\u001b[1;32m   1013\u001b[0m         \u001b[0;32mif\u001b[0m \u001b[0mengine\u001b[0m \u001b[0;34m==\u001b[0m \u001b[0;34m'c'\u001b[0m\u001b[0;34m:\u001b[0m\u001b[0;34m\u001b[0m\u001b[0m\n\u001b[0;32m-> 1014\u001b[0;31m             \u001b[0mself\u001b[0m\u001b[0;34m.\u001b[0m\u001b[0m_engine\u001b[0m \u001b[0;34m=\u001b[0m \u001b[0mCParserWrapper\u001b[0m\u001b[0;34m(\u001b[0m\u001b[0mself\u001b[0m\u001b[0;34m.\u001b[0m\u001b[0mf\u001b[0m\u001b[0;34m,\u001b[0m \u001b[0;34m**\u001b[0m\u001b[0mself\u001b[0m\u001b[0;34m.\u001b[0m\u001b[0moptions\u001b[0m\u001b[0;34m)\u001b[0m\u001b[0;34m\u001b[0m\u001b[0m\n\u001b[0m\u001b[1;32m   1015\u001b[0m         \u001b[0;32melse\u001b[0m\u001b[0;34m:\u001b[0m\u001b[0;34m\u001b[0m\u001b[0m\n\u001b[1;32m   1016\u001b[0m             \u001b[0;32mif\u001b[0m \u001b[0mengine\u001b[0m \u001b[0;34m==\u001b[0m \u001b[0;34m'python'\u001b[0m\u001b[0;34m:\u001b[0m\u001b[0;34m\u001b[0m\u001b[0m\n",
      "\u001b[0;32m~/.local/lib/python3.6/site-packages/pandas/io/parsers.py\u001b[0m in \u001b[0;36m__init__\u001b[0;34m(self, src, **kwds)\u001b[0m\n\u001b[1;32m   1706\u001b[0m         \u001b[0mkwds\u001b[0m\u001b[0;34m[\u001b[0m\u001b[0;34m'usecols'\u001b[0m\u001b[0;34m]\u001b[0m \u001b[0;34m=\u001b[0m \u001b[0mself\u001b[0m\u001b[0;34m.\u001b[0m\u001b[0musecols\u001b[0m\u001b[0;34m\u001b[0m\u001b[0m\n\u001b[1;32m   1707\u001b[0m \u001b[0;34m\u001b[0m\u001b[0m\n\u001b[0;32m-> 1708\u001b[0;31m         \u001b[0mself\u001b[0m\u001b[0;34m.\u001b[0m\u001b[0m_reader\u001b[0m \u001b[0;34m=\u001b[0m \u001b[0mparsers\u001b[0m\u001b[0;34m.\u001b[0m\u001b[0mTextReader\u001b[0m\u001b[0;34m(\u001b[0m\u001b[0msrc\u001b[0m\u001b[0;34m,\u001b[0m \u001b[0;34m**\u001b[0m\u001b[0mkwds\u001b[0m\u001b[0;34m)\u001b[0m\u001b[0;34m\u001b[0m\u001b[0m\n\u001b[0m\u001b[1;32m   1709\u001b[0m \u001b[0;34m\u001b[0m\u001b[0m\n\u001b[1;32m   1710\u001b[0m         \u001b[0mpassed_names\u001b[0m \u001b[0;34m=\u001b[0m \u001b[0mself\u001b[0m\u001b[0;34m.\u001b[0m\u001b[0mnames\u001b[0m \u001b[0;32mis\u001b[0m \u001b[0;32mNone\u001b[0m\u001b[0;34m\u001b[0m\u001b[0m\n",
      "\u001b[0;32mpandas/_libs/parsers.pyx\u001b[0m in \u001b[0;36mpandas._libs.parsers.TextReader.__cinit__\u001b[0;34m()\u001b[0m\n",
      "\u001b[0;32mpandas/_libs/parsers.pyx\u001b[0m in \u001b[0;36mpandas._libs.parsers.TextReader._setup_parser_source\u001b[0;34m()\u001b[0m\n",
      "\u001b[0;31mFileNotFoundError\u001b[0m: File b'/home/jnordin/Downloads/Summary_2018-12-09 (5).csv' does not exist"
     ]
    }
   ],
   "source": [
    "path = os.path.join(slackfilepath, \"Summary_%s.csv\"%(date))\n",
    "if downloadversion>0:\n",
    "        path = re.sub('.csv', ' ({0}).csv'.format(downloadversion),path)\n",
    "df_sum = pd.read_csv(path)\n",
    "path = os.path.join(slackfilepath, \"Photometry_%s.csv\"%(date))\n",
    "if downloadversion>0:\n",
    "        path = re.sub('.csv', ' ({0}).csv'.format(downloadversion),path)\n",
    "df_phot = pd.read_csv(path)\n"
   ]
  },
  {
   "cell_type": "code",
   "execution_count": 78,
   "metadata": {},
   "outputs": [
    {
     "name": "stderr",
     "output_type": "stream",
     "text": [
      "INFO:marshaltools.ProgramList:Initialized ProgramList for program AMPEL Test (ID 4)\n",
      "INFO:marshaltools.ProgramList:Loaded 1041 saved sources for program AMPEL Test.\n",
      "INFO:marshaltools.ProgramList:Getting scanning page transient for program AMPEL Test between 2018-03-01 00:00:00 and 2018-12-12 13:03:44 using dt: 120.00 h\n",
      "INFO:marshaltools.ProgramList:Downloading candidates. Iteration number 0: 58 jobs to do\n",
      "INFO:marshaltools.ProgramList:jobs are done: total 58, failed: 0\n",
      "WARNING:marshaltools.ProgramList:Duplicate candidates!\n",
      "INFO:marshaltools.ProgramList:Fetched 4299 candidates in 2.58e+01 sec\n"
     ]
    }
   ],
   "source": [
    "pl = marshaltools.ProgramList('AMPEL Test',load_candidates=True)\n"
   ]
  },
  {
   "cell_type": "code",
   "execution_count": 79,
   "metadata": {},
   "outputs": [
    {
     "name": "stderr",
     "output_type": "stream",
     "text": [
      "INFO:marshaltools.ProgramList:Trying to ingest 9 candidate(s) to to marhsal program AMPEL Test using ingest ID 4\n"
     ]
    },
    {
     "name": "stdout",
     "output_type": "stream",
     "text": [
      "ZTF18aaeqget\n",
      "ZTF18aaeqget already saved in cosmology!\n",
      "ZTF18aajhfdm\n",
      "ZTF18aajhfdm already saved in cosmology!\n",
      "ZTF18acdvuzj\n",
      "Trying to ingest ZTF18acdvuzj through avroid 707481974315015026\n",
      "ZTF18acrdlrp\n",
      "ZTF18acrdlrp already saved in cosmology!\n",
      "ZTF18acrdmmw\n",
      "ZTF18acrdmmw already saved in cosmology!\n",
      "ZTF18acrhiia\n",
      "ZTF18acrhiia already saved in cosmology!\n",
      "ZTF18acrxnme\n",
      "Trying to ingest ZTF18acrxnme through avroid 707447905115015017\n",
      "ZTF18acrxppd\n",
      "Trying to ingest ZTF18acrxppd through avroid 707464225515015014\n",
      "ZTF18acrxpxd\n",
      "Trying to ingest ZTF18acrxpxd through avroid 707467950515015005\n",
      "ZTF18acrxpzx\n",
      "Trying to ingest ZTF18acrxpzx through avroid 707467955415015014\n",
      "ZTF18acrxtrv\n",
      "Trying to ingest ZTF18acrxtrv through avroid 707470383715015027\n",
      "ZTF18acrxtul\n",
      "Trying to ingest ZTF18acrxtul through avroid 707470386015015011\n",
      "ZTF18acrxwxm\n",
      "ZTF18acrxwxm already saved in cosmology!\n",
      "ZTF18acsonov\n",
      "ZTF18acsonov already saved in cosmology!\n",
      "ZTF18acsoptf\n",
      "ZTF18acsoptf already saved in cosmology!\n",
      "ZTF18acsotqw\n",
      "ZTF18acsotqw already saved in cosmology!\n",
      "ZTF18acsouto\n",
      "ZTF18acsouto already saved in cosmology!\n",
      "ZTF18acsouxk\n",
      "ZTF18acsouxk already saved in cosmology!\n",
      "ZTF18acsovsw\n",
      "ZTF18acsovsw already saved in cosmology!\n",
      "ZTF18acsowmi\n",
      "ZTF18acsowmi already saved in cosmology!\n",
      "ZTF18acsozcp\n",
      "ZTF18acsozcp already saved in cosmology!\n",
      "ZTF18acsptko\n",
      "ZTF18acsptko already saved in cosmology!\n",
      "ZTF18acueemg\n",
      "ZTF18acueemg already saved in cosmology!\n",
      "ZTF18acueeoo\n",
      "Trying to ingest ZTF18acueeoo through avroid 707480125515015003\n",
      "ZTF18acuqxyf\n",
      "ZTF18acuqxyf already saved in cosmology!\n",
      "ZTF18acurkie\n",
      "Trying to ingest ZTF18acurkie through avroid 707477333515015018\n",
      "Starting ingesting at 2018-12-12 13:04:10.627262 (useful if you want to check scanning page directly)\n"
     ]
    },
    {
     "name": "stderr",
     "output_type": "stream",
     "text": [
      "INFO:marshaltools.ProgramList:Attempt 1: done ingesting candidates.\n",
      "INFO:marshaltools.ProgramList:veryfying ingestion looking at candidates ingested between 2018-12-11 13:04:10.706 and 2018-12-12 13:14:34.198\n",
      "INFO:marshaltools.ProgramList:attempt # 1. Of the desired candidates 4 successfully ingested, 5 failed\n",
      "INFO:marshaltools.ProgramList:Attempt 2: done ingesting candidates.\n",
      "INFO:marshaltools.ProgramList:veryfying ingestion looking at candidates ingested between 2018-12-11 13:04:10.706 and 2018-12-12 13:14:51.943\n",
      "INFO:marshaltools.ProgramList:attempt # 2. Of the desired candidates 0 successfully ingested, 5 failed\n",
      "INFO:marshaltools.ProgramList:Attempt 3: done ingesting candidates.\n",
      "INFO:marshaltools.ProgramList:veryfying ingestion looking at candidates ingested between 2018-12-11 13:04:10.706 and 2018-12-12 13:15:08.776\n",
      "INFO:marshaltools.ProgramList:attempt # 3. Of the desired candidates 0 successfully ingested, 5 failed\n"
     ]
    },
    {
     "name": "stdout",
     "output_type": "stream",
     "text": [
      "Tried to ingest [707481974315015026, 707447905115015017, 707464225515015014, 707467950515015005, 707467955415015014, 707470383715015027, 707470386015015011, 707480125515015003, 707477333515015018], failed for ['707467950515015005', '707467955415015014', '707470383715015027', '707470386015015011', '707480125515015003']\n",
      "Stoppedingesting at 2018-12-12 13:05:12.794003 (useful if you want to check scanning page directly)\n"
     ]
    }
   ],
   "source": [
    "ingestoldcand_start = Time.now()\n",
    "toingest = []\n",
    "for sne in df_sum.iterrows():\n",
    "    print( sne[1][\"ztf_name\"] )\n",
    "    name = sne[1][\"ztf_name\"]\n",
    "    phot = df_phot[ df_phot[\"ztf_name\"]==sne[1][\"ztf_name\"] ]\n",
    "    filters = phot[\"fid\"]\n",
    "    jd = phot[\"jd\"]\n",
    "    magpsf = phot['magpsf']\n",
    "    \n",
    "            \n",
    "    if name in pl.sources:\n",
    "        print(\"%s already saved in cosmology!\"%(name))\n",
    "        continue\n",
    "        \n",
    "    avroid =  np.max( df_phot['_id'][ df_phot[\"ztf_name\"]==name ]  )\n",
    "    print(\"Trying to ingest %s through avroid %s\"%(name,avroid))\n",
    "    canddate = pl.find_source(name,include_candidates=True)\n",
    "    if not canddate is None:\n",
    "        print('... already a candidate with id %s'%(canddate['candid']))\n",
    "        continue\n",
    "    toingest.append(avroid)\n",
    "\n",
    "    \n",
    "print(\"Starting ingesting at %s (useful if you want to check scanning page directly)\"%(ingestoldcand_start))\n",
    "failed = pl.ingest_avro(toingest)\n",
    "print(\"Tried to ingest %s, failed for %s\"%(toingest,failed))\n",
    "ingestoldcand_end = Time.now()\n",
    "print(\"Stoppedingesting at %s (useful if you want to check scanning page directly)\"%(ingestoldcand_end))"
   ]
  },
  {
   "cell_type": "code",
   "execution_count": 80,
   "metadata": {},
   "outputs": [
    {
     "name": "stderr",
     "output_type": "stream",
     "text": [
      "INFO:marshaltools.ProgramList:Saving source ZTF18acdvuzj into program 42\n"
     ]
    },
    {
     "name": "stdout",
     "output_type": "stream",
     "text": [
      "ZTF18aaeqget\n",
      "ZTF18aaeqget already saved in cosmology!\n",
      "ZTF18aajhfdm\n",
      "ZTF18aajhfdm already saved in cosmology!\n",
      "ZTF18acdvuzj\n"
     ]
    },
    {
     "name": "stderr",
     "output_type": "stream",
     "text": [
      "INFO:marshaltools.ProgramList:Saving source ZTF18acrxnme into program 42\n"
     ]
    },
    {
     "name": "stdout",
     "output_type": "stream",
     "text": [
      "ZTF18acrdlrp\n",
      "ZTF18acrdlrp already saved in cosmology!\n",
      "ZTF18acrdmmw\n",
      "ZTF18acrdmmw already saved in cosmology!\n",
      "ZTF18acrhiia\n",
      "ZTF18acrhiia already saved in cosmology!\n",
      "ZTF18acrxnme\n"
     ]
    },
    {
     "name": "stderr",
     "output_type": "stream",
     "text": [
      "INFO:marshaltools.ProgramList:Saving source ZTF18acrxppd into program 42\n"
     ]
    },
    {
     "name": "stdout",
     "output_type": "stream",
     "text": [
      "ZTF18acrxppd\n"
     ]
    },
    {
     "name": "stderr",
     "output_type": "stream",
     "text": [
      "INFO:marshaltools.ProgramList:Saving source ZTF18acrxpxd into program 42\n"
     ]
    },
    {
     "name": "stdout",
     "output_type": "stream",
     "text": [
      "ZTF18acrxpxd\n"
     ]
    },
    {
     "name": "stderr",
     "output_type": "stream",
     "text": [
      "INFO:marshaltools.ProgramList:Saving source ZTF18acrxpzx into program 42\n"
     ]
    },
    {
     "name": "stdout",
     "output_type": "stream",
     "text": [
      "ZTF18acrxpzx\n"
     ]
    },
    {
     "name": "stderr",
     "output_type": "stream",
     "text": [
      "INFO:marshaltools.ProgramList:Saving source ZTF18acrxtrv into program 42\n"
     ]
    },
    {
     "name": "stdout",
     "output_type": "stream",
     "text": [
      "ZTF18acrxtrv\n"
     ]
    },
    {
     "name": "stderr",
     "output_type": "stream",
     "text": [
      "INFO:marshaltools.ProgramList:Saving source ZTF18acrxtul into program 42\n"
     ]
    },
    {
     "name": "stdout",
     "output_type": "stream",
     "text": [
      "ZTF18acrxtul\n"
     ]
    },
    {
     "name": "stderr",
     "output_type": "stream",
     "text": [
      "INFO:marshaltools.ProgramList:Saving source ZTF18acueeoo into program 42\n"
     ]
    },
    {
     "name": "stdout",
     "output_type": "stream",
     "text": [
      "ZTF18acrxwxm\n",
      "ZTF18acrxwxm already saved in cosmology!\n",
      "ZTF18acsonov\n",
      "ZTF18acsonov already saved in cosmology!\n",
      "ZTF18acsoptf\n",
      "ZTF18acsoptf already saved in cosmology!\n",
      "ZTF18acsotqw\n",
      "ZTF18acsotqw already saved in cosmology!\n",
      "ZTF18acsouto\n",
      "ZTF18acsouto already saved in cosmology!\n",
      "ZTF18acsouxk\n",
      "ZTF18acsouxk already saved in cosmology!\n",
      "ZTF18acsovsw\n",
      "ZTF18acsovsw already saved in cosmology!\n",
      "ZTF18acsowmi\n",
      "ZTF18acsowmi already saved in cosmology!\n",
      "ZTF18acsozcp\n",
      "ZTF18acsozcp already saved in cosmology!\n",
      "ZTF18acsptko\n",
      "ZTF18acsptko already saved in cosmology!\n",
      "ZTF18acueemg\n",
      "ZTF18acueemg already saved in cosmology!\n",
      "ZTF18acueeoo\n"
     ]
    },
    {
     "name": "stderr",
     "output_type": "stream",
     "text": [
      "INFO:marshaltools.ProgramList:Saving source ZTF18acurkie into program 42\n"
     ]
    },
    {
     "name": "stdout",
     "output_type": "stream",
     "text": [
      "ZTF18acuqxyf\n",
      "ZTF18acuqxyf already saved in cosmology!\n",
      "ZTF18acurkie\n",
      "Tried to save:\n",
      "['ZTF18acdvuzj', 'ZTF18acrxnme', 'ZTF18acrxppd', 'ZTF18acrxpxd', 'ZTF18acrxpzx', 'ZTF18acrxtrv', 'ZTF18acrxtul', 'ZTF18acueeoo', 'ZTF18acurkie']\n"
     ]
    }
   ],
   "source": [
    "# Ingested, now try saving\n",
    "tosave = []\n",
    "for sne in df_sum.iterrows():\n",
    "    print( sne[1][\"ztf_name\"] )\n",
    "    name = sne[1][\"ztf_name\"]\n",
    "            \n",
    "    if name in pl.sources:\n",
    "        print(\"%s already saved in cosmology!\"%(name))\n",
    "        continue\n",
    "        \n",
    "    tosave.append(name)\n",
    "    pl.save_source_name(name,42)\n",
    "\n",
    "print('Tried to save:')\n",
    "print(tosave)\n",
    "    \n"
   ]
  },
  {
   "cell_type": "code",
   "execution_count": 81,
   "metadata": {},
   "outputs": [
    {
     "name": "stderr",
     "output_type": "stream",
     "text": [
      "INFO:marshaltools.ProgramList:Initialized ProgramList for program AMPEL Test (ID 4)\n",
      "INFO:marshaltools.ProgramList:Loaded 1050 saved sources for program AMPEL Test.\n"
     ]
    }
   ],
   "source": [
    "# Check whether they were saved\n",
    "pl = marshaltools.ProgramList('AMPEL Test',load_candidates=False)\n"
   ]
  },
  {
   "cell_type": "code",
   "execution_count": 82,
   "metadata": {},
   "outputs": [
    {
     "name": "stdout",
     "output_type": "stream",
     "text": [
      "ZTF18acdvuzj already saved\n",
      "ZTF18acrxnme already saved\n",
      "ZTF18acrxppd already saved\n",
      "ZTF18acrxpxd already saved\n",
      "ZTF18acrxpzx already saved\n",
      "ZTF18acrxtrv already saved\n",
      "ZTF18acrxtul already saved\n",
      "ZTF18acueeoo already saved\n",
      "ZTF18acurkie already saved\n"
     ]
    }
   ],
   "source": [
    "for name in tosave:\n",
    "    if name in pl.sources:\n",
    "        print(\"%s already saved\"%(name))\n",
    "        continue\n",
    "        \n",
    "    print('no? %s'%(name))"
   ]
  },
  {
   "cell_type": "code",
   "execution_count": 20,
   "metadata": {},
   "outputs": [],
   "source": [
    "# First set of failed avros\n",
    "tried1 = [708276792215015012, 708273146215015014, 708279084015015061, 708299946115015010, 708272683815015008, 708276795015015000, 708277704015015028, 708277705215015014, 708276342515015013, 708275873415015000, 708275423415015005, 708275422415015017, 708274510615015000, 708274512615015006]\n",
    "failed1 =  ['708276792215015012', '708273146215015014', '708299946115015010', '708272683815015008', '708276795015015000', '708275423415015005', '708275422415015017', '708274510615015000', '708274512615015006']\n",
    "#Stoppedingesting at 2018-12-12 12:14:07.950674 (useful if you want to check scanning page directly)\n",
    "failed2 = ['708264276015015019', '708264270515015003']\n",
    "failed3 = ['707480125315015020', '707512243615015036', '707535943115015041', '707505253515015007', '707541632715015009', '707505705315015002']\n",
    "['707257983915015016', '707259350715015008', '707502965115015016']\n",
    "failed for ['707541143215015015', '707529403815015011', '707536414315015036', '707541633215015002', '707542566115015004', '707545313115015031', '707546225815015000', '707543020415015010', '707541632315015002', '707541631415015018', '707530853015015019', '707530854215015005', '707533620415015026', '707542083215015001', '707538344815015017', '707547142415015006']\n",
    "'707523500615015001', '707523501815015021', '707505701115015029', '707488855815015012', '707518784415015004', '707493021915015000', '707523506015015028', '707512245315015043', '707517832915015003', '707519713715015002', '707494032015015004', '707514096115015012', '707514543115015004', '707514542815015016', '707502045315015004', '707523002815015072', '707495431115015001', '707494032115015007', '707505701815015010', '707518780915015003', '707513170115015028', '707519710015015005', '707506165215015023', '707498194215015011', '707503422115015009']"
   ]
  },
  {
   "cell_type": "code",
   "execution_count": null,
   "metadata": {},
   "outputs": [],
   "source": [
    "no? ZTF18acsotcf\n",
    "no? ZTF18acsotqw\n",
    "no? ZTF18acsovsw"
   ]
  },
  {
   "cell_type": "code",
   "execution_count": null,
   "metadata": {},
   "outputs": [],
   "source": [
    "Trying to ingest ZTF18acsotcf through avroid 707502045315015004\n",
    "ZTF18acsotqw\n",
    "Trying to ingest ZTF18acsotqw through avroid 707503423715015034\n",
    "ZTF18acsovsw\n",
    "Trying to ingest ZTF18acsovsw through avroid 707523002815015072"
   ]
  }
 ],
 "metadata": {
  "kernelspec": {
   "display_name": "Python 3",
   "language": "python",
   "name": "python3"
  },
  "language_info": {
   "codemirror_mode": {
    "name": "ipython",
    "version": 3
   },
   "file_extension": ".py",
   "mimetype": "text/x-python",
   "name": "python",
   "nbconvert_exporter": "python",
   "pygments_lexer": "ipython3",
   "version": "3.6.3"
  }
 },
 "nbformat": 4,
 "nbformat_minor": 2
}
