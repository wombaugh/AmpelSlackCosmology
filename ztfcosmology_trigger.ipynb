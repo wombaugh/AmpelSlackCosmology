{
 "cells": [
  {
   "cell_type": "code",
   "execution_count": null,
   "metadata": {},
   "outputs": [],
   "source": [
    "#%matplotlib inline\n",
    "import numpy as np\n",
    "import pandas as pd\n",
    "import matplotlib.pyplot as plt\n",
    "import marshaltools\n",
    "from ast import literal_eval\n",
    "import logging\n",
    "from astropy.time import Time\n",
    "from ipywidgets import interactive\n",
    "import ipywidgets as widgets\n",
    "import re, os\n",
    "import sncosmo\n",
    "import json\n",
    "\n",
    "from utils import get_config"
   ]
  },
  {
   "cell_type": "code",
   "execution_count": null,
   "metadata": {},
   "outputs": [],
   "source": [
    "# If you are running this notebook for the first time, you will be prompted to enter your username and\n",
    "# the path to your downloads from slack. If you entered something incorrectly, you can correct this in .config\n",
    "config = get_config()\n",
    "\n",
    "username = config['username']\n",
    "date = '2018-09-26'\n",
    "maxz = 0.1\n",
    "minpeakmag = 19.5   # A candidate need to have at least one detection brigther than this\n",
    "mindet = 5          # A candidate need to have at least this many detections\n",
    "maxage = 30         # If a detection has an age older than this, skip (stars,age). \n",
    "                    # Q: How can histories be older than 30days?\n",
    "                    # At this stage we will also cut history older than this in fit\n",
    "SNcut = 5           # Need at least some photometry with this Signal to Noise\n",
    "\n",
    "marshal_savid = 42\n",
    "logpath = 'logs/'\n",
    "\n",
    "# Get the other set of marshal source ids. Lets not talk about, took too much of my life alrady\n",
    "with open('sne_following.json', 'r') as fp:\n",
    "    sne_following = json.load(fp)\n",
    "\n",
    "# log\n",
    "logger = logging.getLogger(username)\n",
    "handler = logging.FileHandler(os.path.join(logpath, 'ztfcosmo_trigger_%s_%s.log'%(date,username)))\n",
    "handler.setLevel(logging.INFO)\n",
    "formatter = logging.Formatter('%(asctime)s - %(name)s - %(levelname)s - %(message)s')\n",
    "handler.setFormatter(formatter)\n",
    "logger.addHandler(handler)\n",
    "\n",
    "manual_inspection=[]"
   ]
  },
  {
   "cell_type": "code",
   "execution_count": null,
   "metadata": {},
   "outputs": [],
   "source": [
    "# Now fun starts for real. \n",
    "pl = marshaltools.ProgramList('AMPEL Test',load_candidates=False)"
   ]
  },
  {
   "cell_type": "code",
   "execution_count": null,
   "metadata": {},
   "outputs": [],
   "source": []
  },
  {
   "cell_type": "code",
   "execution_count": null,
   "metadata": {},
   "outputs": [],
   "source": [
    "# This is the timeconsuming part. Downloading all the data and do saltfits. Let it start and get a coffee\n",
    "for count, sn in enumerate(pl.sources.keys()):\n",
    "    if not pl.sources[sn]['classification'] is None:\n",
    "        logger.info(\"SN %s classified with type %s, skipping.\"%(sn,pl.sources[sn]['classification']))\n",
    "        continue\n",
    "\n",
    "    if 'SNCOSMOFIT' in pl.sources[sn]:\n",
    "        print('already done')\n",
    "        continue\n",
    "        \n",
    "    # Download specific LC\n",
    "    lc = pl.get_lightcurve(sn)\n",
    "    del pl.lightcurves[sn]\n",
    "\n",
    "    # Check nbr filters filters\n",
    "    if len(np.unique(lc.table[\"filter\"][lc.table[\"magpsf\"]<99] ))<2:\n",
    "        logger.info(\"SN %s has too few filters for saltfit.\"%(sn))\n",
    "        continue\n",
    "    \n",
    "    \n",
    "    # create a model\n",
    "    model = sncosmo.Model(source='salt2')\n",
    "    \n",
    "    # Massage data\n",
    "    data = lc.table_sncosmo\n",
    "    data[\"mjd\"] = data[\"mjd\"]-Time.now().mjd\n",
    "    data = data[ (data[\"mjd\"]>-maxage) ]\n",
    "    \n",
    "    # Replicating data quality checks\n",
    "    signalNoise = np.abs(data[\"flux\"])/data[\"fluxerr\"]\n",
    "    data = data[ (signalNoise>SNcut) ]\n",
    "    \n",
    "    \n",
    "    \n",
    "    # run the fit\n",
    "    if len(signalNoise[signalNoise>SNcut])==0:\n",
    "        manual_inspection.append(sn)\n",
    "        logger.info(\"Not enugh good data for SN %s. Manual inspection prob needed.\"%(sn))\n",
    "        continue    \n",
    "        \n",
    "    try:\n",
    "        result, fitted_model = sncosmo.fit_lc(\n",
    "            data, model,\n",
    "            ['z', 't0', 'x0', 'x1', 'c'],  # parameters of model to vary\n",
    "            bounds={'z':(0., 0.2),'x1':(-5.,5.),'t0':(-20.,15.),'c':(-1.,10.)})  # bounds on parameters (if any)\n",
    "        pl.sources[sn]['SNCOSMOfit'] = result, fitted_model, data\n",
    "#        sncosmo.plot_lc(data, model=fitted_model, errors=result.errors)\n",
    "#        plt.show()\n",
    "\n",
    "            \n",
    "    except ValueError:\n",
    "        print(\"Why does fit fail for %s?\"%(sn))\n",
    "        manual_inspection.append(sn)\n",
    "        logger.info(\"SALT fit fails for SN %s. Manual inspection prob needed.\"%(sn))\n",
    "        continue\n",
    "\n",
    "        \n",
    "        "
   ]
  },
  {
   "cell_type": "code",
   "execution_count": null,
   "metadata": {},
   "outputs": [],
   "source": [
    "visual_inspect = []\n",
    "for sn in pl.sources.keys():\n",
    "    if not 'SNCOSMOfit' in pl.sources[sn].keys():\n",
    "        continue\n",
    "    visual_inspect.append(sn)\n",
    "print(\"Found %s lightcurves to inspect\"%(len(visual_inspect)))     \n",
    "\n"
   ]
  },
  {
   "cell_type": "code",
   "execution_count": null,
   "metadata": {},
   "outputs": [],
   "source": []
  },
  {
   "cell_type": "code",
   "execution_count": null,
   "metadata": {},
   "outputs": [],
   "source": []
  },
  {
   "cell_type": "code",
   "execution_count": null,
   "metadata": {},
   "outputs": [],
   "source": []
  },
  {
   "cell_type": "code",
   "execution_count": null,
   "metadata": {},
   "outputs": [],
   "source": []
  },
  {
   "cell_type": "code",
   "execution_count": null,
   "metadata": {},
   "outputs": [],
   "source": []
  },
  {
   "cell_type": "code",
   "execution_count": null,
   "metadata": {},
   "outputs": [],
   "source": [
    "# Function to make stupid plot of a SN lightcurve\n",
    "def plotty(i):\n",
    "    \"\"\"\n",
    "    Flash SNCOSMO fit plot\n",
    "    \"\"\"\n",
    "    \n",
    "    global snnbr\n",
    "    \n",
    "    \n",
    "    # Evaluate reply\n",
    "    snname = visual_inspect[snnbr]\n",
    "    if i == 'TooLate':\n",
    "        logger.info(\"%s Faded too much while waiting. Call P200 or Keck?\"%(snname))\n",
    "        decisions[snnbr] = i\n",
    "        snnbr += 1\n",
    "    elif i == 'VeryGood':\n",
    "        logger.info(\"Nice looking likely SN %s.\"%(snname))\n",
    "        decisions[snnbr] = i\n",
    "        snnbr += 1\n",
    "    elif i == 'Possibly':\n",
    "        logger.info(\"Get SN %s if we can.\"%(snname))\n",
    "        decisions[snnbr] = i\n",
    "        snnbr += 1    \n",
    "    elif i == 'NoSNIa':\n",
    "        logger.info(\"Object %s most likely not SNIa. \"%(snname))\n",
    "        decisions[snnbr] = i\n",
    "        snnbr += 1\n",
    "    elif i == 'BadData':\n",
    "        logger.info(\"Too little data of %s, skip. \"%(snname))\n",
    "        decisions[snnbr] = i\n",
    "        snnbr += 1    \n",
    "    elif i == 'GoBack':\n",
    "        logger.info(\"I want to scan some more, go back!\")\n",
    "        snnbr -= 1\n",
    "    elif i=='Nothing':\n",
    "        # Lets do nothing\n",
    "        pass\n",
    "    \n",
    "    # Are we done?\n",
    "    if snnbr==len(visual_inspect):\n",
    "        print( \"Seems like we are all done. How do we exit?\")\n",
    "        return False\n",
    "    \n",
    "    \n",
    "    \n",
    "    # Reset    \n",
    "    snname = visual_inspect[snnbr]\n",
    "    \n",
    "    # Retrieve saltfit\n",
    "    result, fitted_model, data = pl.sources[snname]['SNCOSMOfit']  \n",
    "    sncosmo.plot_lc(data, model=fitted_model, errors=result.errors, \n",
    "                    figtext='%s (%i/%i)'%(snname,snnbr+1,len(visual_inspect)))\n",
    "    plt.show()\n",
    "    wiggy.value = 'Nothing'\n",
    "    \n",
    "    return (i)\n",
    "\n",
    "\n",
    "wiggy = widgets.RadioButtons(\n",
    "    options=['Nothing','TooLate', 'VeryGood', 'Possibly','NoSNIa','BadData','GoBack'],\n",
    "    value='Nothing',\n",
    "    description='Action:',\n",
    "    disabled=False\n",
    ")\n",
    "y = interactive(plotty,i = wiggy)"
   ]
  },
  {
   "cell_type": "code",
   "execution_count": null,
   "metadata": {},
   "outputs": [],
   "source": [
    "# Presumably you want to scan from the first SN, but you can change this and run display again to revisit something\n",
    "# You cant jump ahead in the list though\n",
    "snnbr = 0\n"
   ]
  },
  {
   "cell_type": "code",
   "execution_count": null,
   "metadata": {},
   "outputs": [],
   "source": [
    "# This is the all important list of decisions you have made\n",
    "decisions = {}"
   ]
  },
  {
   "cell_type": "code",
   "execution_count": null,
   "metadata": {},
   "outputs": [],
   "source": [
    "# This is the scanning box! \n",
    "# You have three choices (Nothing is not a choice and GoBack steps lets you go back in order)\n",
    "# - Wait : Select this if the transient is rizing and might get into RCF range (~<18.7)\n",
    "# - Submit : Should probably get a spectrum (you do not need to worry about where just yet)\n",
    "# - Garbage : Variable star or clearly non SNIa. Evanetually these will be rejected and never more show up\n",
    "display(y)"
   ]
  },
  {
   "cell_type": "code",
   "execution_count": null,
   "metadata": {},
   "outputs": [],
   "source": [
    "# Go through current list of SNe on the obs queue. If already \n",
    "for snnbr, choice in decisions.items():\n",
    "    if not (choice=='VeryGood' or choice=='Possibly'):\n",
    "        continue\n",
    "    sn = visual_inspect[snnbr]\n",
    "    print(\"%s %s\"%(sn,choice))\n",
    "    if sn in sne_following.keys():\n",
    "        logger.info(\"%s already in obs queue. Adding with setting %s.\"%(sn,choice))\n",
    "        sne_following[sn].append([choice,username,date])\n",
    "    else:\n",
    "        logger.info(\"Adding %s to obs queue with setting %s.\"%(sn,choice))\n",
    "        sne_following[sn] = [ [choice,username,date] ]"
   ]
  },
  {
   "cell_type": "code",
   "execution_count": null,
   "metadata": {},
   "outputs": [],
   "source": [
    "# Unfortunately not done yet. First check whether any of our SNe to obs are bright enough for RCF.\n",
    "for snname in sne_following.keys():\n",
    "    \n",
    "    lc = pl.get_lightcurve(snname)\n",
    "    del pl.lightcurves[snname]\n",
    "    peakmag = np.min(lc.table['magpsf'])\n",
    "    recentmag =  np.mean(lc.table['magpsf'][ (lc.table['jdobs']-Time.now().jd)>-5 ] )\n",
    "    \n",
    "    lastchoice = sne_following[snname][-1][0]\n",
    "    \n",
    "    if peakmag<18.7 and recentmag < 20:\n",
    "        logger.info(\"%s could be RCF target? peakmag %s recentmag %s.\"%(sn,peakmag,recentmag))\n",
    "        msg = 'http://skipper.caltech.edu:8080/cgi-bin/growth/view_source.cgi?name=%s'%(snname)\n",
    "        print( \"Follow link and trigger (RCF) SEDM obs with prio %s\"%(lastchoice) )\n",
    "        print(msg)\n",
    "    elif peakmag<19.5 and recentmag < 20:\n",
    "        logger.info(\"%s could be Cosmology SEDM target? peakmag %s recentmag %s.\"%(sn,peakmag,recentmag))\n",
    "        msg = 'http://skipper.caltech.edu:8080/cgi-bin/growth/view_source.cgi?name=%s'%(snname)\n",
    "        print( \"Follow link and trigger (Cosmologz) SEDM obs with prio %s\"%(lastchoice) )\n",
    "        print(msg)\n",
    "    \n"
   ]
  },
  {
   "cell_type": "code",
   "execution_count": null,
   "metadata": {},
   "outputs": [],
   "source": []
  },
  {
   "cell_type": "code",
   "execution_count": null,
   "metadata": {},
   "outputs": [],
   "source": [
    "# Now we have to go back to the sne selected for manual verification below:\n",
    "# Trigger observations of these and add name below\n",
    "for sn in manual_inspection:\n",
    "    msg = 'http://skipper.caltech.edu:8080/cgi-bin/growth/view_source.cgi?name=%s'%(sn)\n",
    "    print( \"Suggested have a manual look at %s\"%(sn) )\n",
    "    print(msg)\n",
    "    "
   ]
  },
  {
   "cell_type": "code",
   "execution_count": null,
   "metadata": {},
   "outputs": [],
   "source": [
    "# Save the list of SN w triggered obs\n",
    "with open('sne_following.json', 'w') as fp:\n",
    "    json.dump(sne_following, fp)\n"
   ]
  },
  {
   "cell_type": "code",
   "execution_count": null,
   "metadata": {},
   "outputs": [],
   "source": [
    "# Enter the names of the SNe you triggered SEDM obs for\n",
    "sedmtrig = []\n",
    "logger.info(\"Triggered SEDM obs of: %s\"%(sedmtrig))"
   ]
  },
  {
   "cell_type": "code",
   "execution_count": null,
   "metadata": {},
   "outputs": [],
   "source": []
  },
  {
   "cell_type": "code",
   "execution_count": null,
   "metadata": {},
   "outputs": [],
   "source": []
  },
  {
   "cell_type": "code",
   "execution_count": null,
   "metadata": {},
   "outputs": [],
   "source": []
  },
  {
   "cell_type": "code",
   "execution_count": null,
   "metadata": {},
   "outputs": [],
   "source": []
  },
  {
   "cell_type": "code",
   "execution_count": null,
   "metadata": {},
   "outputs": [],
   "source": []
  },
  {
   "cell_type": "code",
   "execution_count": null,
   "metadata": {},
   "outputs": [],
   "source": []
  },
  {
   "cell_type": "code",
   "execution_count": null,
   "metadata": {},
   "outputs": [],
   "source": []
  },
  {
   "cell_type": "code",
   "execution_count": null,
   "metadata": {},
   "outputs": [],
   "source": []
  },
  {
   "cell_type": "code",
   "execution_count": null,
   "metadata": {},
   "outputs": [],
   "source": []
  }
 ],
 "metadata": {
  "kernelspec": {
   "display_name": "Python 3",
   "language": "python",
   "name": "python3"
  },
  "language_info": {
   "codemirror_mode": {
    "name": "ipython",
    "version": 3
   },
   "file_extension": ".py",
   "mimetype": "text/x-python",
   "name": "python",
   "nbconvert_exporter": "python",
   "pygments_lexer": "ipython3",
   "version": "3.6.5"
  }
 },
 "nbformat": 4,
 "nbformat_minor": 2
}
