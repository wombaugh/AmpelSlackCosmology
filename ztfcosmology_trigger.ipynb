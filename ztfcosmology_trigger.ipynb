{
 "cells": [
  {
   "cell_type": "code",
   "execution_count": 1,
   "metadata": {},
   "outputs": [],
   "source": [
    "#%matplotlib inline\n",
    "import numpy as np\n",
    "import pandas as pd\n",
    "import matplotlib.pyplot as plt\n",
    "import marshaltools\n",
    "from ast import literal_eval\n",
    "import logging\n",
    "from astropy.time import Time\n",
    "from ipywidgets import interactive\n",
    "import ipywidgets as widgets\n",
    "import re, os\n",
    "import sncosmo\n",
    "import json\n",
    "\n",
    "from utils import get_config\n",
    "from utils import has_iband\n"
   ]
  },
  {
   "cell_type": "code",
   "execution_count": null,
   "metadata": {},
   "outputs": [],
   "source": []
  },
  {
   "cell_type": "code",
   "execution_count": 2,
   "metadata": {},
   "outputs": [],
   "source": [
    "# If you are running this notebook for the first time, you will be prompted to enter your username and\n",
    "# the path to your downloads from slack. If you entered something incorrectly, you can correct this in .config\n",
    "config = get_config()\n",
    "\n",
    "username = config['username']\n",
    "date = '2018-09-29'\n",
    "maxz = 0.1\n",
    "minpeakmag = 19.5   # A candidate need to have at least one detection brigther than this\n",
    "mindet = 5          # A candidate need to have at least this many detections\n",
    "maxage = 40         # If a detection has an age older than this, skip (stars,age). \n",
    "                    # Q: How can histories be older than 30days?\n",
    "                    # At this stage we will also cut history older than this in fit\n",
    "SNcut = 5           # Need at least some photometry with this Signal to Noise\n",
    "minrefframes = 1    # Cut away alert information where this is not positive (how can it not be, but ok...)\n",
    "lastobsage = 5      # Do not display objects for which the last obs is older than this\n",
    "\n",
    "\n",
    "marshal_savid = 42\n",
    "logpath = 'logs/'\n",
    "\n",
    "# Get the other set of marshal source ids. Lets not talk about, took too much of my life alrady\n",
    "with open('sne_following.json', 'r') as fp:\n",
    "    sne_following = json.load(fp)\n",
    "\n",
    "# log\n",
    "logger = logging.getLogger(username)\n",
    "handler = logging.FileHandler(os.path.join(logpath, 'ztfcosmo_trigger_%s_%s.log'%(date,username)))\n",
    "handler.setLevel(logging.INFO)\n",
    "formatter = logging.Formatter('%(asctime)s - %(name)s - %(levelname)s - %(message)s')\n",
    "handler.setFormatter(formatter)\n",
    "logger.addHandler(handler)\n",
    "\n",
    "manual_inspection=[]"
   ]
  },
  {
   "cell_type": "code",
   "execution_count": 3,
   "metadata": {},
   "outputs": [
    {
     "name": "stderr",
     "output_type": "stream",
     "text": [
      "INFO:marshaltools.ProgramList:Initialized ProgramList for program AMPEL Test (ID 4)\n",
      "INFO:marshaltools.ProgramList:Loaded 213 saved sources for program AMPEL Test.\n",
      "INFO:marshaltools.ProgramList:Initialized ProgramList for program Cosmology (ID 2)\n",
      "INFO:marshaltools.ProgramList:Loaded 454 saved sources for program Cosmology.\n"
     ]
    }
   ],
   "source": [
    "# Now fun starts for real. Also load cosmology list to make sure we are not missing types from there\n",
    "pl = marshaltools.ProgramList('AMPEL Test',load_candidates=False)\n",
    "cpl = marshaltools.ProgramList('Cosmology',load_candidates=False)\n"
   ]
  },
  {
   "cell_type": "code",
   "execution_count": 4,
   "metadata": {},
   "outputs": [
    {
     "name": "stderr",
     "output_type": "stream",
     "text": [
      "INFO:jnordin:Cutting down alert info to subset with nrefframes keyword\n"
     ]
    }
   ],
   "source": [
    "df_phot = pd.read_csv(os.path.join(config['slackfilepath'], \"Photometry_%s.csv\"%(date)))\n",
    "if minrefframes>0:\n",
    "    df_phot = df_phot[df_phot[\"nframesref\"]>minrefframes]\n",
    "    logger.info(\"Cutting down alert info to subset with nrefframes keyword\")"
   ]
  },
  {
   "cell_type": "code",
   "execution_count": 5,
   "metadata": {},
   "outputs": [
    {
     "name": "stderr",
     "output_type": "stream",
     "text": [
      "INFO:jnordin:SN ZTF18aakgsmi had last obs -6.6480160854625865 days go, skipping.\n",
      "INFO:jnordin:SN ZTF18aasdted classified with type SN Ia, skipping.\n",
      "INFO:jnordin:SN ZTF18aauvptt classified with type AGN, skipping.\n",
      "INFO:jnordin:SN ZTF18abmwzws had last obs -16.650724694096425 days go, skipping.\n",
      "INFO:jnordin:SN ZTF18aawlhkh classified with type AGN, skipping.\n",
      "INFO:jnordin:SN ZTF18abddhaa had last obs -12.602442462564795 days go, skipping.\n",
      "INFO:jnordin:SN ZTF18abgucjb had last obs -11.413845602313813 days go, skipping.\n",
      "INFO:jnordin:SN ZTF18ablvpuj had last obs -16.64146792019892 days go, skipping.\n",
      "INFO:jnordin:SN ZTF18ablqqeb had last obs -18.611489111739502 days go, skipping.\n",
      "INFO:jnordin:Not enugh good data for SN ZTF18ablviog. Manual inspection prob needed.\n",
      "INFO:jnordin:SN ZTF18ablwwwb had last obs -20.647526439141075 days go, skipping.\n",
      "INFO:jnordin:SN ZTF18ablowct had last obs -17.50210701017204 days go, skipping.\n",
      "INFO:jnordin:SN ZTF18ablprcf classified with type AGN, skipping.\n",
      "INFO:jnordin:SN ZTF18abmxfrc classified with type SN Ia, skipping.\n",
      "INFO:jnordin:SN ZTF18abmjzjq had last obs -12.666728271324246 days go, skipping.\n",
      "INFO:jnordin:SN ZTF18abnxhmc classified with type SN Ia, skipping.\n",
      "INFO:jnordin:SN ZTF18abnvnqb classified with type SN Ia, skipping.\n",
      "INFO:jnordin:SN ZTF18abkxlcz classified with type SN Ia, skipping.\n",
      "INFO:jnordin:SN ZTF18abokvkt had last obs -15.455705927604868 days go, skipping.\n",
      "INFO:jnordin:SN ZTF18abmnvkx classified with type AGN, skipping.\n",
      "INFO:jnordin:SN ZTF18aboaeqy classified with type SN Ia, skipping.\n",
      "INFO:jnordin:SN ZTF18aboivnq had last obs -12.586226324157906 days go, skipping.\n",
      "INFO:jnordin:SN ZTF18abmjayl had last obs -38.47654860466719 days go, skipping.\n",
      "INFO:jnordin:SN ZTF18abnblil had last obs -19.55042690402479 days go, skipping.\n",
      "/home/jnordin/local/github/marshaltools/marshaltools/MarshalLightcurve.py:120: RuntimeWarning: overflow encountered in double_scalars\n",
      "  eflux[n] = 10**(-0.4*(r['limmag']-zp[n]))/5.\n",
      "INFO:jnordin:SN ZTF18abmszpd had last obs -37.58424732527055 days go, skipping.\n",
      "INFO:jnordin:SN ZTF18ablovvu had last obs -26.452966931035917 days go, skipping.\n",
      "INFO:jnordin:SN ZTF18abmacke had last obs -24.467385635107348 days go, skipping.\n",
      "INFO:jnordin:SN ZTF18abntwvr has too few filters for saltfit.\n",
      "INFO:jnordin:SN ZTF18abmrqmv had last obs -11.480709805146034 days go, skipping.\n",
      "INFO:jnordin:SN ZTF18abmdxst had last obs -19.456529026909266 days go, skipping.\n",
      "INFO:jnordin:SN ZTF18ablxhtc had last obs -13.645638343223254 days go, skipping.\n",
      "INFO:jnordin:SN ZTF18ablxjic had last obs -16.611984989591292 days go, skipping.\n",
      "INFO:jnordin:SN ZTF18abmadcc had last obs -39.39236188909854 days go, skipping.\n",
      "INFO:jnordin:SN ZTF18ablrwlk had last obs -37.50528179460525 days go, skipping.\n",
      "INFO:jnordin:SN ZTF18abmdfba had last obs -38.45890310835239 days go, skipping.\n",
      "INFO:jnordin:SN ZTF18abmorft had last obs -38.52448154564627 days go, skipping.\n",
      "INFO:jnordin:SN ZTF18abmpbjy had last obs -35.52890197416855 days go, skipping.\n",
      "INFO:jnordin:SN ZTF18abmmxpg had last obs -11.525321530811198 days go, skipping.\n",
      "INFO:jnordin:SN ZTF18ablpztl had last obs -22.428998647832486 days go, skipping.\n",
      "INFO:jnordin:SN ZTF18ablskwf had last obs -13.511116587767901 days go, skipping.\n",
      "INFO:jnordin:SN ZTF18abmwuml has too few filters for saltfit.\n",
      "INFO:jnordin:SN ZTF18abmnssw had last obs -33.4419154707648 days go, skipping.\n",
      "INFO:jnordin:SN ZTF18ablvibs had last obs -24.46953485908307 days go, skipping.\n",
      "INFO:jnordin:SN ZTF18abnunsl had last obs -23.45625508599187 days go, skipping.\n",
      "INFO:jnordin:SN ZTF18abnpbjv had last obs -24.57215167148388 days go, skipping.\n",
      "INFO:jnordin:SN ZTF18abncqfx has too few filters for saltfit.\n",
      "INFO:jnordin:SN ZTF18abnudmu had last obs -14.567451437666023 days go, skipping.\n",
      "INFO:jnordin:SN ZTF18abnzgwe had last obs -39.365370335763146 days go, skipping.\n",
      "INFO:jnordin:SN ZTF18abobtul had last obs -24.57229091217596 days go, skipping.\n",
      "INFO:jnordin:SN ZTF18aboqwkr had last obs -8.494669155035808 days go, skipping.\n",
      "INFO:jnordin:SN ZTF18abmkdun had last obs -13.629987913147488 days go, skipping.\n",
      "INFO:jnordin:SN ZTF18abnucig classified with type SN Ia, skipping.\n",
      "INFO:jnordin:SN ZTF18abglwpn classified with type AGN, skipping.\n",
      "INFO:jnordin:SN ZTF18abmaewl classified with type SN Ia, skipping.\n",
      "INFO:jnordin:SN ZTF18abnbhpu had last obs -17.526808208531293 days go, skipping.\n",
      "INFO:jnordin:SN ZTF18ablwafp classified with type SLSN-I?, skipping.\n",
      "INFO:jnordin:SN ZTF18abmjcbs classified with type SN Ia, skipping.\n",
      "INFO:jnordin:SN ZTF18abmnbne had last obs -10.452587701875018 days go, skipping.\n",
      "INFO:jnordin:SN ZTF18abmkaca had last obs -12.67000755987101 days go, skipping.\n",
      "INFO:jnordin:SN ZTF18abncimo classified with type SN Ia, skipping.\n",
      "INFO:jnordin:SN ZTF18abnygkb classified with type SN Ia, skipping.\n",
      "INFO:jnordin:SN ZTF18abnvzah had last obs -14.60052921253373 days go, skipping.\n",
      "INFO:jnordin:SN ZTF18abnvoel classified with type SN Ia, skipping.\n",
      "INFO:jnordin:SN ZTF18aboqvfa had last obs -36.44220499973744 days go, skipping.\n",
      "INFO:jnordin:SN ZTF18aborbhi had last obs -37.423222788915155 days go, skipping.\n",
      "INFO:jnordin:SN ZTF18aborkxd has too few filters for saltfit.\n",
      "INFO:jnordin:SN ZTF18aborkox has too few filters for saltfit.\n",
      "INFO:jnordin:SN ZTF18abmkbqo had last obs -37.562337538016436 days go, skipping.\n",
      "INFO:jnordin:SN ZTF18abotaki has too few filters for saltfit.\n",
      "INFO:jnordin:SN ZTF18abpavnx has too few filters for saltfit.\n",
      "INFO:jnordin:SN ZTF18abpaywm classified with type SN Ia, skipping.\n",
      "INFO:jnordin:SN ZTF18aboztta classified with type SN Ia, skipping.\n",
      "INFO:jnordin:SN ZTF18abmwpyl classified with type SN Ia, skipping.\n",
      "INFO:jnordin:SN ZTF18abpttky classified with type SN Ia, skipping.\n",
      "INFO:jnordin:Not enugh good data for SN ZTF18abanjoi. Manual inspection prob needed.\n",
      "INFO:jnordin:SN ZTF18abnuhuy classified with type AGN, skipping.\n",
      "INFO:jnordin:SN ZTF18abrlupd classified with type SN Ia, skipping.\n",
      "INFO:jnordin:SN ZTF18abmskzu has too few filters for saltfit.\n",
      "INFO:jnordin:SN ZTF18abnujcx had last obs -15.456780315675132 days go, skipping.\n",
      "INFO:jnordin:SN ZTF18abqbdcd had last obs -17.638999321898154 days go, skipping.\n",
      "INFO:jnordin:SN ZTF18abqbuaj classified with type SN Ibn, skipping.\n",
      "INFO:jnordin:SN ZTF18abqboud classified with type CV, skipping.\n",
      "INFO:jnordin:SN ZTF18abqlpgq classified with type SN Ia, skipping.\n",
      "INFO:jnordin:SN ZTF18abqbavl classified with type SN Ia, skipping.\n",
      "INFO:jnordin:SN ZTF18abqdadp classified with type SN Ia, skipping.\n",
      "INFO:jnordin:SN ZTF18aaovssm had last obs -19.638578766294813 days go, skipping.\n",
      "INFO:jnordin:SN ZTF18ablruzq had last obs -15.642199948604684 days go, skipping.\n",
      "INFO:jnordin:SN ZTF18abrwudp classified with type SN Ia, skipping.\n",
      "INFO:jnordin:SN ZTF18ablwtla had last obs -18.625420178010245 days go, skipping.\n",
      "INFO:jnordin:SN ZTF18abglikj had last obs -13.637597342072695 days go, skipping.\n",
      "INFO:jnordin:SN ZTF18abqjvyl classified with type SN Ia, skipping.\n",
      "INFO:jnordin:SN ZTF18abpaori has too few filters for saltfit.\n",
      "INFO:jnordin:SN ZTF18ablrmnj had last obs -19.673626338619215 days go, skipping.\n",
      "INFO:jnordin:SN ZTF18abolvoh classified with type SN Ia, skipping.\n",
      "INFO:jnordin:SN ZTF18abrxwon had last obs -17.50284588665818 days go, skipping.\n",
      "INFO:jnordin:SN ZTF18abqcyqv had last obs -25.458165608193667 days go, skipping.\n",
      "INFO:jnordin:SN ZTF18abrzevz classified with type SN Ia, skipping.\n",
      "INFO:jnordin:SN ZTF18abqyvzy classified with type SN II, skipping.\n",
      "INFO:jnordin:SN ZTF18absbsoz classified with type SN Ia, skipping.\n",
      "INFO:jnordin:SN ZTF18ablvime classified with type SN Ia, skipping.\n",
      "INFO:jnordin:SN ZTF18absdxpk classified with type SN Ia, skipping.\n",
      "INFO:jnordin:SN ZTF18absliyc classified with type SN Ia pec, skipping.\n",
      "INFO:jnordin:SN ZTF18abptskn had last obs -5.611665186217579 days go, skipping.\n",
      "INFO:jnordin:SN ZTF18absldfl classified with type SN II, skipping.\n",
      "INFO:jnordin:SN ZTF18aayejrb had last obs -13.541785282061028 days go, skipping.\n",
      "INFO:jnordin:SN ZTF18abrwwlv had last obs -21.58896352398733 days go, skipping.\n",
      "INFO:jnordin:SN ZTF18absdeij had last obs -18.67178368230816 days go, skipping.\n",
      "INFO:jnordin:SN ZTF18abotcjv classified with type SN Ia, skipping.\n",
      "INFO:jnordin:SN ZTF18abnysyy classified with type SN Ia, skipping.\n"
     ]
    },
    {
     "name": "stderr",
     "output_type": "stream",
     "text": [
      "INFO:jnordin:SN ZTF18abshezu classified with type SLSN-I, skipping.\n",
      "INFO:jnordin:SN ZTF18abryewg classified with type SN Ia 91T-like, skipping.\n",
      "INFO:jnordin:SN ZTF18abssukb classified with type SN Ia, skipping.\n",
      "INFO:jnordin:SN ZTF18abscygs classified with type SN Ia, skipping.\n",
      "INFO:jnordin:SN ZTF18absdjms classified with type SN Ia, skipping.\n",
      "INFO:jnordin:SN ZTF18ablhsgt had last obs -25.646490191895282 days go, skipping.\n",
      "INFO:jnordin:SN ZTF18abnorzb had last obs -13.641410492164141 days go, skipping.\n",
      "INFO:jnordin:SN ZTF18abottbj had last obs -13.39882947467413 days go, skipping.\n",
      "INFO:jnordin:SN ZTF18absqsey had last obs -17.30760765557352 days go, skipping.\n",
      "INFO:jnordin:SN ZTF18abufaej classified with type SN II, skipping.\n",
      "INFO:jnordin:SN ZTF18abtogdl classified with type SN Ia, skipping.\n",
      "INFO:jnordin:SN ZTF18absumwc has too few filters for saltfit.\n",
      "INFO:jnordin:SN ZTF18absmqmw had last obs -20.627401166930213 days go, skipping.\n",
      "INFO:jnordin:SN ZTF18abmwxvv had last obs -24.594326878002903 days go, skipping.\n",
      "INFO:jnordin:SN ZTF18abukmty classified with type SN Ia, skipping.\n",
      "INFO:jnordin:SN ZTF18abvbayb classified with type SN Ia, skipping.\n",
      "INFO:jnordin:SN ZTF18abuhiaj has too few filters for saltfit.\n",
      "INFO:jnordin:SN ZTF18abqapch classified with type SN Ia, skipping.\n",
      "INFO:jnordin:SN ZTF18abuiknd classified with type SN Ia, skipping.\n",
      "INFO:jnordin:SN ZTF18abslxhz classified with type SN Ia, skipping.\n",
      "INFO:jnordin:SN ZTF18abwdcdv classified with type SN Ia, skipping.\n",
      "INFO:jnordin:SN ZTF18abwclem has too few filters for saltfit.\n",
      "INFO:jnordin:SN ZTF18aabhooi had last obs -7.307994154980406 days go, skipping.\n",
      "INFO:jnordin:SN ZTF18abwblyl had last obs -7.290112462098477 days go, skipping.\n",
      "INFO:jnordin:SN ZTF18abwtops classified with type SN Ia, skipping.\n",
      "INFO:jnordin:SN ZTF18abwbaim has too few filters for saltfit.\n",
      "INFO:jnordin:SN ZTF18abwlonm has too few filters for saltfit.\n",
      "INFO:jnordin:SN ZTF18abtywgf had last obs -13.400328842290037 days go, skipping.\n",
      "INFO:jnordin:SN ZTF18abwxhjo has too few filters for saltfit.\n",
      "INFO:jnordin:SN ZTF18abucvbf classified with type SN Ia, skipping.\n",
      "INFO:jnordin:SN ZTF18abwlopg has too few filters for saltfit.\n",
      "INFO:jnordin:SN ZTF18abxygvv classified with type SN Ia, skipping.\n",
      "INFO:jnordin:SN ZTF18abwkhdc had last obs -10.382130454549042 days go, skipping.\n",
      "INFO:jnordin:SN ZTF18abvkhul classified with type SN Ia, skipping.\n",
      "INFO:jnordin:SN ZTF18abxfcql has too few filters for saltfit.\n",
      "INFO:jnordin:SN ZTF18abvtrnc classified with type SN Ia, skipping.\n",
      "INFO:jnordin:SN ZTF18abtcdfv classified with type SN Ia, skipping.\n",
      "INFO:jnordin:SN ZTF18absiymj classified with type SN Ia, skipping.\n",
      "INFO:jnordin:SN ZTF18abwnsoc classified with type SN Ia, skipping.\n",
      "INFO:jnordin:SN ZTF18abylgru has too few filters for saltfit.\n",
      "INFO:jnordin:SN ZTF18abvhasp had last obs -6.656015563494293 days go, skipping.\n",
      "INFO:jnordin:SN ZTF18abbgdto had last obs -6.5293407126446255 days go, skipping.\n",
      "INFO:jnordin:SN ZTF18abdkkwa classified with type SN Ic, skipping.\n",
      "INFO:jnordin:SN ZTF18absoomk classified with type SN Ia, skipping.\n",
      "INFO:jnordin:SN ZTF18abyxwrf classified with type SN Ia, skipping.\n",
      "INFO:jnordin:SN ZTF18aampiwv classified with type AGN, skipping.\n"
     ]
    }
   ],
   "source": [
    "# This is the timeconsuming part. Downloading all the data and do saltfits. Let it start and get a coffee\n",
    "for count, sn in enumerate(pl.sources.keys()):\n",
    "    if not pl.sources[sn]['classification'] is None:\n",
    "        logger.info(\"SN %s classified with type %s, skipping.\"%(sn,pl.sources[sn]['classification']))\n",
    "        continue\n",
    "    if sn in cpl.sources.keys() and not cpl.sources[sn]['classification'] is None:\n",
    "        logger.info(\"SN %s classified with type %s in Cosmology, skipping.\"%(sn,cpl.sources[sn]['classification']))\n",
    "        continue\n",
    "    \n",
    "\n",
    "    if 'SNCOSMOFIT' in pl.sources[sn]:\n",
    "        print('already done')\n",
    "        continue\n",
    "        \n",
    "    # Download specific LC\n",
    "    lc = pl.get_lightcurve(sn)\n",
    "    del pl.lightcurves[sn]\n",
    "\n",
    "    # Check nbr filters filters\n",
    "    if len(np.unique(lc.table[\"filter\"][lc.table[\"magpsf\"]<99] ))<2:\n",
    "        logger.info(\"SN %s has too few filters for saltfit.\"%(sn))\n",
    "        continue\n",
    "    \n",
    "    \n",
    "    # create a model\n",
    "    model = sncosmo.Model(source='salt2')\n",
    "    \n",
    "    # Massage data\n",
    "    data = lc.table_sncosmo\n",
    "    data[\"mjd\"] = data[\"mjd\"]-Time.now().mjd\n",
    "    data = data[ (data[\"mjd\"]>-maxage) ]\n",
    "    \n",
    "    # Replicating data quality checks\n",
    "    signalNoise = np.abs(data[\"flux\"])/data[\"fluxerr\"]\n",
    "    data = data[ (signalNoise>SNcut) ]\n",
    "    \n",
    "    \n",
    "    \n",
    "    # run the fit\n",
    "    if len(signalNoise[signalNoise>SNcut])==0:\n",
    "        manual_inspection.append(sn)\n",
    "        logger.info(\"Not enugh good data for SN %s. Manual inspection prob needed.\"%(sn))\n",
    "        continue    \n",
    " \n",
    "    if np.max(data[\"mjd\"])<-lastobsage:\n",
    "        logger.info(\"SN %s had last obs %s days go, skipping.\"%(sn,np.max(data[\"mjd\"])))\n",
    "        continue\n",
    "\n",
    "\n",
    "\n",
    "    try:\n",
    "        result, fitted_model = sncosmo.fit_lc(\n",
    "            data, model,\n",
    "            ['z', 't0', 'x0', 'x1', 'c'],  # parameters of model to vary\n",
    "            bounds={'z':(0., 0.2),'x1':(-5.,5.),'t0':(-20.,15.),'c':(-1.,10.)})  # bounds on parameters (if any)\n",
    "        pl.sources[sn]['SNCOSMOfit'] = result, fitted_model, data\n",
    "#        sncosmo.plot_lc(data, model=fitted_model, errors=result.errors)\n",
    "#        plt.show()\n",
    "\n",
    "            \n",
    "    except ValueError:\n",
    "        print(\"Why does fit fail for %s?\"%(sn))\n",
    "        manual_inspection.append(sn)\n",
    "        logger.info(\"SALT fit fails for SN %s. Manual inspection prob needed.\"%(sn))\n",
    "        continue\n",
    "\n",
    "        \n",
    "        "
   ]
  },
  {
   "cell_type": "code",
   "execution_count": 6,
   "metadata": {},
   "outputs": [
    {
     "name": "stdout",
     "output_type": "stream",
     "text": [
      "Found 58 lightcurves  to inspect\n",
      "... out of these 23 have iband\n"
     ]
    }
   ],
   "source": [
    "visual_inspect = []\n",
    "iband_sne = []\n",
    "for sn in pl.sources.keys():\n",
    "    if not 'SNCOSMOfit' in pl.sources[sn].keys():\n",
    "        continue\n",
    "        \n",
    "    # Look for Iband coverage\n",
    "    fields = np.unique( df_phot['field'][ df_phot[\"ztf_name\"]==sn ] )\n",
    "    if len(fields)>0 and has_iband(fields,['September','October']):\n",
    "        iband_sne.append(sn)      \n",
    "    \n",
    "    visual_inspect.append(sn)\n",
    "        \n",
    "        \n",
    "#    visual_inspect.append(sn)\n",
    "print(\"Found %s lightcurves  to inspect\"%(len(visual_inspect)))     \n",
    "print(\"... out of these %s have iband\"%(len(iband_sne)))     \n",
    "\n"
   ]
  },
  {
   "cell_type": "code",
   "execution_count": 7,
   "metadata": {},
   "outputs": [
    {
     "name": "stdout",
     "output_type": "stream",
     "text": [
      "['ZTF18aaupjtd', 'ZTF18abddgzz', 'ZTF18ablllyw', 'ZTF18aayhpph', 'ZTF17aaaafcd', 'ZTF18abcqvhs', 'ZTF18abnujuy', 'ZTF18abnnnzk', 'ZTF18abporae', 'ZTF18abpudlt', 'ZTF18abrwswl', 'ZTF18abrzuqw', 'ZTF18ablmduj', 'ZTF18absloer', 'ZTF18abtkctg', 'ZTF18abklshn', 'ZTF18abthaii', 'ZTF18absnsqx', 'ZTF18abrwrch', 'ZTF18abuicad', 'ZTF18absbspk', 'ZTF18abuluko', 'ZTF18abtghbi', 'ZTF18abtswjk', 'ZTF18aburkuo', 'ZTF18abuksxd', 'ZTF18abvrzqj', 'ZTF18abtxvhy', 'ZTF18abvnqqk', 'ZTF18abwbtco', 'ZTF18abvxqtp', 'ZTF18abuioue', 'ZTF18abvvqtf', 'ZTF18abwntpz', 'ZTF18abwqgsc', 'ZTF18abwktmm', 'ZTF18abucflq', 'ZTF18abxyudf', 'ZTF18abvrgjc', 'ZTF18abxwiqz', 'ZTF18abxbhov', 'ZTF18abwkxgo', 'ZTF18abwlejr', 'ZTF18abxdkny', 'ZTF18abwlpzf', 'ZTF18abqdwze', 'ZTF18abxumzx', 'ZTF18abvfecb', 'ZTF18abxdkni', 'ZTF18abwzedh', 'ZTF18absmogv', 'ZTF17aaaadqv', 'ZTF18abwfmot', 'ZTF18abvnwzz', 'ZTF18absgvqb', 'ZTF17aabihdn', 'ZTF18abmmszc', 'ZTF18abbmenz']\n"
     ]
    }
   ],
   "source": [
    "print(visual_inspect)"
   ]
  },
  {
   "cell_type": "code",
   "execution_count": 8,
   "metadata": {},
   "outputs": [],
   "source": [
    "if \"ZTF18abscygs\" in visual_inspect:\n",
    "    print(\"bu\")"
   ]
  },
  {
   "cell_type": "code",
   "execution_count": null,
   "metadata": {},
   "outputs": [],
   "source": []
  },
  {
   "cell_type": "code",
   "execution_count": null,
   "metadata": {},
   "outputs": [],
   "source": []
  },
  {
   "cell_type": "code",
   "execution_count": null,
   "metadata": {},
   "outputs": [],
   "source": []
  },
  {
   "cell_type": "code",
   "execution_count": 9,
   "metadata": {},
   "outputs": [],
   "source": [
    "# Function to make stupid plot of a SN lightcurve\n",
    "def plotty(i):\n",
    "    \"\"\"\n",
    "    Flash SNCOSMO fit plot\n",
    "    \"\"\"\n",
    "    \n",
    "    global snnbr\n",
    "    \n",
    "    \n",
    "    # Evaluate reply\n",
    "    snname = visual_inspect[snnbr]\n",
    "    if i == 'TooLate':\n",
    "        logger.info(\"%s Faded too much while waiting. Call P200 or Keck?\"%(snname))\n",
    "        decisions[snnbr] = i\n",
    "        snnbr += 1\n",
    "    elif i == 'VeryGood':\n",
    "        logger.info(\"Nice looking likely SN %s.\"%(snname))\n",
    "        decisions[snnbr] = i\n",
    "        snnbr += 1\n",
    "    elif i == 'Possibly':\n",
    "        logger.info(\"Get SN %s if we can.\"%(snname))\n",
    "        decisions[snnbr] = i\n",
    "        snnbr += 1    \n",
    "    elif i == 'NoSNIa':\n",
    "        logger.info(\"Object %s most likely not SNIa. \"%(snname))\n",
    "        decisions[snnbr] = i\n",
    "        snnbr += 1\n",
    "    elif i == 'BadData':\n",
    "        logger.info(\"Too little data of %s, skip. \"%(snname))\n",
    "        decisions[snnbr] = i\n",
    "        snnbr += 1    \n",
    "    elif i == 'GoBack':\n",
    "        logger.info(\"I want to scan some more, go back!\")\n",
    "        snnbr -= 1\n",
    "    elif i=='Nothing':\n",
    "        # Lets do nothing\n",
    "        pass\n",
    "    \n",
    "    # Are we done?\n",
    "    if snnbr==len(visual_inspect):\n",
    "        print( \"Seems like we are all done. How do we exit?\")\n",
    "        return False\n",
    "    \n",
    "    \n",
    "    \n",
    "    # Reset    \n",
    "    snname = visual_inspect[snnbr]\n",
    "    \n",
    "    # Retrieve saltfit\n",
    "    result, fitted_model, data = pl.sources[snname]['SNCOSMOfit']  \n",
    "    sncosmo.plot_lc(data, model=fitted_model, errors=result.errors, \n",
    "                    figtext='%s (%i/%i)'%(snname,snnbr+1,len(visual_inspect)))\n",
    "    plt.show()\n",
    "    wiggy.value = 'Nothing'\n",
    "    \n",
    "    return (i)\n",
    "\n",
    "\n",
    "wiggy = widgets.RadioButtons(\n",
    "    options=['Nothing','TooLate', 'VeryGood', 'Possibly','NoSNIa','BadData','GoBack'],\n",
    "    value='Nothing',\n",
    "    description='Action:',\n",
    "    disabled=False\n",
    ")\n",
    "y = interactive(plotty,i = wiggy)"
   ]
  },
  {
   "cell_type": "code",
   "execution_count": 10,
   "metadata": {},
   "outputs": [],
   "source": [
    "# Presumably you want to scan from the first SN, but you can change this and run display again to revisit something\n",
    "# You cant jump ahead in the list though\n",
    "snnbr = 0\n",
    "# This is the all imuportant list of decisions you have made\n",
    "decisions = {}"
   ]
  },
  {
   "cell_type": "code",
   "execution_count": null,
   "metadata": {},
   "outputs": [],
   "source": []
  },
  {
   "cell_type": "code",
   "execution_count": 11,
   "metadata": {},
   "outputs": [
    {
     "data": {
      "application/vnd.jupyter.widget-view+json": {
       "model_id": "f0f11ce67e2b41cda65c71052e257c2b",
       "version_major": 2,
       "version_minor": 0
      },
      "text/plain": [
       "interactive(children=(RadioButtons(description='Action:', options=('Nothing', 'TooLate', 'VeryGood', 'Possibly…"
      ]
     },
     "metadata": {},
     "output_type": "display_data"
    }
   ],
   "source": [
    "# This is the scanning box! \n",
    "# You have three choices (Nothing is not a choice and GoBack steps lets you go back in order)\n",
    "# - Wait : Select this if the transient is rizing and might get into RCF range (~<18.7)\n",
    "# - Submit : Should probably get a spectrum (you do not need to worry about where just yet)\n",
    "# - Garbage : Variable star or clearly non SNIa. Evanetually these will be rejected and never more show up\n",
    "display(y)"
   ]
  },
  {
   "cell_type": "code",
   "execution_count": 12,
   "metadata": {},
   "outputs": [
    {
     "name": "stderr",
     "output_type": "stream",
     "text": [
      "INFO:jnordin:ZTF18ablllyw already in obs queue. Adding with setting Possibly.\n",
      "INFO:jnordin:...with I-band!\n",
      "INFO:jnordin:ZTF18abrwswl already in obs queue. Adding with setting VeryGood.\n",
      "INFO:jnordin:ZTF18abtkctg already in obs queue. Adding with setting VeryGood.\n",
      "INFO:jnordin:...with I-band!\n",
      "INFO:jnordin:ZTF18abthaii already in obs queue. Adding with setting Possibly.\n",
      "INFO:jnordin:ZTF18absnsqx already in obs queue. Adding with setting VeryGood.\n",
      "INFO:jnordin:...with I-band!\n",
      "INFO:jnordin:ZTF18abrwrch already in obs queue. Adding with setting VeryGood.\n",
      "INFO:jnordin:...with I-band!\n",
      "INFO:jnordin:ZTF18abuicad already in obs queue. Adding with setting VeryGood.\n",
      "INFO:jnordin:ZTF18absbspk already in obs queue. Adding with setting Possibly.\n",
      "INFO:jnordin:ZTF18abuluko already in obs queue. Adding with setting Possibly.\n",
      "INFO:jnordin:...with I-band!\n",
      "INFO:jnordin:ZTF18abtghbi already in obs queue. Adding with setting VeryGood.\n",
      "INFO:jnordin:ZTF18abtswjk already in obs queue. Adding with setting Possibly.\n",
      "INFO:jnordin:...with I-band!\n",
      "INFO:jnordin:ZTF18aburkuo already in obs queue. Adding with setting VeryGood.\n",
      "INFO:jnordin:...with I-band!\n",
      "INFO:jnordin:ZTF18abuksxd already in obs queue. Adding with setting Possibly.\n",
      "INFO:jnordin:ZTF18abvrzqj already in obs queue. Adding with setting VeryGood.\n",
      "INFO:jnordin:ZTF18abtxvhy already in obs queue. Adding with setting Possibly.\n",
      "INFO:jnordin:...with I-band!\n",
      "INFO:jnordin:ZTF18abvnqqk already in obs queue. Adding with setting VeryGood.\n",
      "INFO:jnordin:...with I-band!\n",
      "INFO:jnordin:ZTF18abwbtco already in obs queue. Adding with setting Possibly.\n",
      "INFO:jnordin:Adding ZTF18abvxqtp to obs queue with setting Possibly.\n",
      "INFO:jnordin:...with I-band!\n",
      "INFO:jnordin:ZTF18abuioue already in obs queue. Adding with setting VeryGood.\n",
      "INFO:jnordin:ZTF18abvvqtf already in obs queue. Adding with setting Possibly.\n",
      "INFO:jnordin:Adding ZTF18abwqgsc to obs queue with setting Possibly.\n",
      "INFO:jnordin:...with I-band!\n",
      "INFO:jnordin:ZTF18abwktmm already in obs queue. Adding with setting VeryGood.\n",
      "INFO:jnordin:ZTF18abucflq already in obs queue. Adding with setting VeryGood.\n",
      "INFO:jnordin:ZTF18abxbhov already in obs queue. Adding with setting Possibly.\n",
      "INFO:jnordin:ZTF18abwkxgo already in obs queue. Adding with setting Possibly.\n",
      "INFO:jnordin:ZTF18abwlejr already in obs queue. Adding with setting Possibly.\n",
      "INFO:jnordin:ZTF18abxdkny already in obs queue. Adding with setting Possibly.\n",
      "INFO:jnordin:...with I-band!\n",
      "INFO:jnordin:ZTF18abwlpzf already in obs queue. Adding with setting Possibly.\n",
      "INFO:jnordin:...with I-band!\n",
      "INFO:jnordin:ZTF18abxdkni already in obs queue. Adding with setting Possibly.\n",
      "INFO:jnordin:Adding ZTF18abwzedh to obs queue with setting Possibly.\n",
      "INFO:jnordin:...with I-band!\n",
      "INFO:jnordin:ZTF18absgvqb already in obs queue. Adding with setting VeryGood.\n"
     ]
    },
    {
     "name": "stdout",
     "output_type": "stream",
     "text": [
      "ZTF18ablllyw Possibly\n",
      "ZTF18abrwswl VeryGood\n",
      "ZTF18abtkctg VeryGood\n",
      "ZTF18abthaii Possibly\n",
      "ZTF18absnsqx VeryGood\n",
      "ZTF18abrwrch VeryGood\n",
      "ZTF18abuicad VeryGood\n",
      "ZTF18absbspk Possibly\n",
      "ZTF18abuluko Possibly\n",
      "ZTF18abtghbi VeryGood\n",
      "ZTF18abtswjk Possibly\n",
      "ZTF18aburkuo VeryGood\n",
      "ZTF18abuksxd Possibly\n",
      "ZTF18abvrzqj VeryGood\n",
      "ZTF18abtxvhy Possibly\n",
      "ZTF18abvnqqk VeryGood\n",
      "ZTF18abwbtco Possibly\n",
      "ZTF18abvxqtp Possibly\n",
      "ZTF18abuioue VeryGood\n",
      "ZTF18abvvqtf Possibly\n",
      "ZTF18abwqgsc Possibly\n",
      "ZTF18abwktmm VeryGood\n",
      "ZTF18abucflq VeryGood\n",
      "ZTF18abxbhov Possibly\n",
      "ZTF18abwkxgo Possibly\n",
      "ZTF18abwlejr Possibly\n",
      "ZTF18abxdkny Possibly\n",
      "ZTF18abwlpzf Possibly\n",
      "ZTF18abxdkni Possibly\n",
      "ZTF18abwzedh Possibly\n",
      "ZTF18absgvqb VeryGood\n"
     ]
    }
   ],
   "source": [
    "# Go through current list of SNe on the obs queue. If already \n",
    "for snnbr, choice in decisions.items():\n",
    "    if not (choice=='VeryGood' or choice=='Possibly'):\n",
    "        continue\n",
    "    sn = visual_inspect[snnbr]\n",
    "    print(\"%s %s\"%(sn,choice))\n",
    "\n",
    "    \n",
    "    if sn in sne_following.keys():\n",
    "        logger.info(\"%s already in obs queue. Adding with setting %s.\"%(sn,choice))\n",
    "        sne_following[sn].append([choice,username,date])\n",
    "    else:\n",
    "        logger.info(\"Adding %s to obs queue with setting %s.\"%(sn,choice))\n",
    "        sne_following[sn] = [ [choice,username,date] ]\n",
    "\n",
    "    if sn in iband_sne:\n",
    "        sne_following[sn][-1].append(\"I-band\")\n",
    "        logger.info(\"...with I-band!\")\n",
    "\n",
    "        "
   ]
  },
  {
   "cell_type": "code",
   "execution_count": 13,
   "metadata": {},
   "outputs": [
    {
     "name": "stderr",
     "output_type": "stream",
     "text": [
      "INFO:jnordin:ZTF18absgvqb could be RCF target? peakmag 18.35 recentmag 19.86.\n"
     ]
    },
    {
     "name": "stdout",
     "output_type": "stream",
     "text": [
      "Follow link and trigger (RCF) SEDM obs. Our prio was Possibly\n",
      "http://skipper.caltech.edu:8080/cgi-bin/growth/view_source.cgi?name=ZTF18abcqvhs\n"
     ]
    },
    {
     "name": "stderr",
     "output_type": "stream",
     "text": [
      "/home/jnordin/local/miniconda2/envs/py36/lib/python3.6/site-packages/numpy/core/fromnumeric.py:2954: RuntimeWarning: Mean of empty slice.\n",
      "  return mean(axis=axis, dtype=dtype, out=out, **kwargs)\n",
      "/home/jnordin/local/miniconda2/envs/py36/lib/python3.6/site-packages/numpy/core/_methods.py:80: RuntimeWarning: invalid value encountered in double_scalars\n",
      "  ret = ret.dtype.type(ret / rcount)\n",
      "INFO:jnordin:ZTF18absgvqb could be RCF target? peakmag 18.21 recentmag 19.017999999999997.\n"
     ]
    },
    {
     "name": "stdout",
     "output_type": "stream",
     "text": [
      "Follow link and trigger (RCF) SEDM obs. Our prio was VeryGood\n",
      "http://skipper.caltech.edu:8080/cgi-bin/growth/view_source.cgi?name=ZTF18abscygs\n"
     ]
    },
    {
     "name": "stderr",
     "output_type": "stream",
     "text": [
      "INFO:jnordin:ZTF18absgvqb could be RCF target? peakmag 18.76 recentmag 19.084285714285716.\n"
     ]
    },
    {
     "name": "stdout",
     "output_type": "stream",
     "text": [
      "Follow link and trigger (RCF) SEDM obs. Our prio was VeryGood\n",
      "http://skipper.caltech.edu:8080/cgi-bin/growth/view_source.cgi?name=ZTF18abtogdl\n"
     ]
    },
    {
     "name": "stderr",
     "output_type": "stream",
     "text": [
      "INFO:jnordin:ZTF18absgvqb could be RCF target? peakmag 18.59 recentmag 18.85582089552239.\n"
     ]
    },
    {
     "name": "stdout",
     "output_type": "stream",
     "text": [
      "Follow link and trigger (RCF) SEDM obs. Our prio was VeryGood\n",
      "http://skipper.caltech.edu:8080/cgi-bin/growth/view_source.cgi?name=ZTF18abxygvv\n"
     ]
    },
    {
     "name": "stderr",
     "output_type": "stream",
     "text": [
      "INFO:jnordin:ZTF18absgvqb could be RCF target? peakmag 18.73 recentmag 19.285714285714285.\n"
     ]
    },
    {
     "name": "stdout",
     "output_type": "stream",
     "text": [
      "Follow link and trigger (RCF) SEDM obs. Our prio was Possibly\n",
      "http://skipper.caltech.edu:8080/cgi-bin/growth/view_source.cgi?name=ZTF18ablllyw\n"
     ]
    },
    {
     "name": "stderr",
     "output_type": "stream",
     "text": [
      "INFO:jnordin:ZTF18absgvqb could be RCF target? peakmag 18.37 recentmag 18.820000000000004.\n"
     ]
    },
    {
     "name": "stdout",
     "output_type": "stream",
     "text": [
      "Follow link and trigger (RCF) SEDM obs. Our prio was Possibly\n",
      "http://skipper.caltech.edu:8080/cgi-bin/growth/view_source.cgi?name=ZTF18abthaii\n"
     ]
    },
    {
     "name": "stderr",
     "output_type": "stream",
     "text": [
      "INFO:jnordin:ZTF18absgvqb could be RCF target? peakmag 17.4 recentmag 17.453333333333333.\n"
     ]
    },
    {
     "name": "stdout",
     "output_type": "stream",
     "text": [
      "Follow link and trigger (RCF) SEDM obs. Our prio was Possibly\n",
      "http://skipper.caltech.edu:8080/cgi-bin/growth/view_source.cgi?name=ZTF18abtswjk\n"
     ]
    },
    {
     "name": "stderr",
     "output_type": "stream",
     "text": [
      "INFO:jnordin:ZTF18absgvqb could be RCF target? peakmag 18.65 recentmag 19.525.\n"
     ]
    },
    {
     "name": "stdout",
     "output_type": "stream",
     "text": [
      "Follow link and trigger (RCF) SEDM obs. Our prio was Possibly\n",
      "http://skipper.caltech.edu:8080/cgi-bin/growth/view_source.cgi?name=ZTF18abwfmot\n"
     ]
    },
    {
     "name": "stderr",
     "output_type": "stream",
     "text": [
      "INFO:jnordin:ZTF18absgvqb could be RCF target? peakmag 17.99 recentmag 18.775.\n"
     ]
    },
    {
     "name": "stdout",
     "output_type": "stream",
     "text": [
      "Follow link and trigger (RCF) SEDM obs. Our prio was VeryGood\n",
      "http://skipper.caltech.edu:8080/cgi-bin/growth/view_source.cgi?name=ZTF18absoomk\n"
     ]
    },
    {
     "name": "stderr",
     "output_type": "stream",
     "text": [
      "INFO:jnordin:ZTF18absgvqb could be RCF target? peakmag 18.13 recentmag 19.38.\n"
     ]
    },
    {
     "name": "stdout",
     "output_type": "stream",
     "text": [
      "Follow link and trigger (RCF) SEDM obs. Our prio was Possibly\n",
      "http://skipper.caltech.edu:8080/cgi-bin/growth/view_source.cgi?name=ZTF18abvnwzz\n"
     ]
    },
    {
     "name": "stderr",
     "output_type": "stream",
     "text": [
      "INFO:jnordin:ZTF18absgvqb could be RCF target? peakmag 18.18 recentmag 18.455000000000002.\n"
     ]
    },
    {
     "name": "stdout",
     "output_type": "stream",
     "text": [
      "Follow link and trigger (RCF) SEDM obs. Our prio was Possibly\n",
      "http://skipper.caltech.edu:8080/cgi-bin/growth/view_source.cgi?name=ZTF18abtxvhy\n"
     ]
    },
    {
     "name": "stderr",
     "output_type": "stream",
     "text": [
      "INFO:jnordin:ZTF18absgvqb could be RCF target? peakmag 18.85 recentmag 18.98.\n"
     ]
    },
    {
     "name": "stdout",
     "output_type": "stream",
     "text": [
      "Follow link and trigger (RCF) SEDM obs. Our prio was Possibly\n",
      "http://skipper.caltech.edu:8080/cgi-bin/growth/view_source.cgi?name=ZTF18abvfecb\n"
     ]
    },
    {
     "name": "stderr",
     "output_type": "stream",
     "text": [
      "INFO:jnordin:ZTF18absgvqb could be RCF target? peakmag 18.26 recentmag 18.35.\n"
     ]
    },
    {
     "name": "stdout",
     "output_type": "stream",
     "text": [
      "Follow link and trigger (RCF) SEDM obs. Our prio was VeryGood\n",
      "http://skipper.caltech.edu:8080/cgi-bin/growth/view_source.cgi?name=ZTF18abwktmm\n"
     ]
    },
    {
     "name": "stderr",
     "output_type": "stream",
     "text": [
      "INFO:jnordin:ZTF18absgvqb could be RCF target? peakmag 18.68 recentmag 18.878.\n"
     ]
    },
    {
     "name": "stdout",
     "output_type": "stream",
     "text": [
      "Follow link and trigger (RCF) SEDM obs. Our prio was Possibly\n",
      "http://skipper.caltech.edu:8080/cgi-bin/growth/view_source.cgi?name=ZTF18abxyudf\n"
     ]
    },
    {
     "name": "stderr",
     "output_type": "stream",
     "text": [
      "INFO:jnordin:ZTF18absgvqb could be RCF target? peakmag 18.53 recentmag 18.9875.\n"
     ]
    },
    {
     "name": "stdout",
     "output_type": "stream",
     "text": [
      "Follow link and trigger (RCF) SEDM obs. Our prio was Possibly\n",
      "http://skipper.caltech.edu:8080/cgi-bin/growth/view_source.cgi?name=ZTF18abxwiqz\n"
     ]
    },
    {
     "name": "stderr",
     "output_type": "stream",
     "text": [
      "INFO:jnordin:ZTF18absgvqb could be RCF target? peakmag 18.84 recentmag 18.9025.\n"
     ]
    },
    {
     "name": "stdout",
     "output_type": "stream",
     "text": [
      "Follow link and trigger (RCF) SEDM obs. Our prio was Possibly\n",
      "http://skipper.caltech.edu:8080/cgi-bin/growth/view_source.cgi?name=ZTF18abxbhov\n"
     ]
    },
    {
     "name": "stderr",
     "output_type": "stream",
     "text": [
      "INFO:jnordin:ZTF18absgvqb could be RCF target? peakmag 18.88 recentmag 19.05625.\n"
     ]
    },
    {
     "name": "stdout",
     "output_type": "stream",
     "text": [
      "Follow link and trigger (RCF) SEDM obs. Our prio was VeryGood\n",
      "http://skipper.caltech.edu:8080/cgi-bin/growth/view_source.cgi?name=ZTF18abvtrnc\n"
     ]
    },
    {
     "name": "stderr",
     "output_type": "stream",
     "text": [
      "INFO:jnordin:ZTF18absgvqb could be RCF target? peakmag 18.43 recentmag 18.476666666666667.\n"
     ]
    },
    {
     "name": "stdout",
     "output_type": "stream",
     "text": [
      "Follow link and trigger (RCF) SEDM obs. Our prio was Possibly\n",
      "http://skipper.caltech.edu:8080/cgi-bin/growth/view_source.cgi?name=ZTF18abvxqtp\n"
     ]
    }
   ],
   "source": [
    "# Unfortunately not done yet. First check whether any of our SNe to obs are bright enough for RCF.\n",
    "for snname in sne_following.keys():\n",
    "    \n",
    "    lc = pl.get_lightcurve(snname)\n",
    "    del pl.lightcurves[snname]\n",
    "    peakmag = np.min(lc.table['magpsf'])\n",
    "    recentmag =  np.mean(lc.table['magpsf'][ (lc.table['jdobs']-Time.now().jd)>-5 ] )\n",
    "    \n",
    "    lastchoice = sne_following[snname][-1][0]\n",
    "    \n",
    "    if peakmag<18.9 and recentmag < 20:\n",
    "        logger.info(\"%s could be RCF target? peakmag %s recentmag %s.\"%(sn,peakmag,recentmag))\n",
    "        msg = 'http://skipper.caltech.edu:8080/cgi-bin/growth/view_source.cgi?name=%s'%(snname)\n",
    "        print( \"Follow link and trigger (RCF) SEDM obs. Our prio was %s\"%(lastchoice) )\n",
    "        print(msg)\n",
    "        \n",
    "    # Have disabled the Cosmology SEDM triggers as we have no time currently\n",
    "    #elif peakmag<19.5 and recentmag < 20:\n",
    "    #    logger.info(\"%s could be Cosmology SEDM target? peakmag %s recentmag %s.\"%(sn,peakmag,recentmag))\n",
    "    #    msg = 'http://skipper.caltech.edu:8080/cgi-bin/growth/view_source.cgi?name=%s'%(snname)\n",
    "    #    print( \"Follow link and trigger (Cosmologz) SEDM obs with prio %s\"%(lastchoice) )\n",
    "    #    print(msg)\n",
    "    \n"
   ]
  },
  {
   "cell_type": "code",
   "execution_count": null,
   "metadata": {},
   "outputs": [],
   "source": []
  },
  {
   "cell_type": "code",
   "execution_count": null,
   "metadata": {},
   "outputs": [],
   "source": [
    "# Now we have to go back to the sne selected for manual verification below:\n",
    "# Trigger observations of these and add name below\n",
    "for sn in manual_inspection:\n",
    "    msg = 'http://skipper.caltech.edu:8080/cgi-bin/growth/view_source.cgi?name=%s'%(sn)\n",
    "    print( \"Suggested have a manual look at %s\"%(sn) )\n",
    "    print(msg)\n",
    "    "
   ]
  },
  {
   "cell_type": "code",
   "execution_count": 22,
   "metadata": {},
   "outputs": [],
   "source": [
    "# Save the list of SN w triggered obs\n",
    "with open('sne_following.json', 'w') as fp:\n",
    "    json.dump(sne_following, fp)\n"
   ]
  },
  {
   "cell_type": "code",
   "execution_count": null,
   "metadata": {},
   "outputs": [],
   "source": [
    "# Enter the names of the SNe you triggered SEDM obs for\n",
    "sedmtrig = []\n",
    "logger.info(\"Triggered SEDM obs of: %s\"%(sedmtrig))"
   ]
  },
  {
   "cell_type": "code",
   "execution_count": null,
   "metadata": {},
   "outputs": [],
   "source": []
  },
  {
   "cell_type": "code",
   "execution_count": 14,
   "metadata": {},
   "outputs": [
    {
     "name": "stdout",
     "output_type": "stream",
     "text": [
      "ZTF18abscygs has been typed as SN Ia!\n",
      "ZTF18abtogdl has been typed as SN Ia!\n",
      "ZTF18abwtops has been typed as SN Ia!\n",
      "ZTF18abxygvv has been typed as SN Ia!\n",
      "ZTF18abwnsoc has been typed as SN Ia!\n",
      "ZTF18absoomk has been typed as SN Ia!\n",
      "ZTF18abvtrnc has been typed as SN Ia!\n"
     ]
    }
   ],
   "source": [
    "# Check how many of the followed SNe now have types:\n",
    "for snname in sne_following.keys():\n",
    "     if not pl.sources[snname]['classification'] is None:\n",
    "        print(\"%s has been typed as %s!\"%(snname,pl.sources[snname]['classification']))\n"
   ]
  },
  {
   "cell_type": "code",
   "execution_count": null,
   "metadata": {},
   "outputs": [],
   "source": []
  },
  {
   "cell_type": "code",
   "execution_count": 7,
   "metadata": {},
   "outputs": [],
   "source": [
    "scandec = {0: 'Garbage', 1: 'Wait', 2: 'Garbage', 3: 'Garbage', 4: 'Garbage', 5: 'Submit', 6: 'Submit', 7: 'Wait', 8: 'Submit', 9: 'Garbage', 10: 'Garbage', 11: 'Wait', 12: 'Wait', 13: 'Garbage', 14: 'Garbage', 15: 'Garbage', 16: 'Garbage', 17: 'Submit', 18: 'Garbage', 19: 'Garbage', 20: 'Garbage', 21: 'Garbage', 22: 'Garbage', 23: 'Wait', 24: 'Wait', 25: 'Garbage', 26: 'Garbage', 27: 'Garbage', 28: 'Garbage', 29: 'Submit', 30: 'Garbage', 31: 'Garbage', 32: 'Wait', 33: 'Garbage', 34: 'Garbage', 35: 'Garbage', 36: 'Garbage', 37: 'Garbage', 38: 'Garbage', 39: 'Garbage', 40: 'Wait', 41: 'Submit', 42: 'Submit', 43: 'Submit', 44: 'Garbage', 45: 'Submit', 46: 'Garbage', 47: 'Wait', 48: 'Garbage', 49: 'Garbage'}\n"
   ]
  },
  {
   "cell_type": "code",
   "execution_count": null,
   "metadata": {},
   "outputs": [],
   "source": []
  },
  {
   "cell_type": "code",
   "execution_count": 17,
   "metadata": {},
   "outputs": [
    {
     "name": "stdout",
     "output_type": "stream",
     "text": [
      "{'rcid': 37, 'creationdate': '2018-09-04', 'name': 'ZTF18abscygs', 'classification': 'SN Ia', 'redshift': '0.03', 'iauname': None, 'release_status': 'pending', 'field': 743, 'candid': 611487213715015101, 'ra': 73.5278345, 'lastmodified': '2018-09-27', 'release_auth': None, 'dec': 48.9004181, 'id': 4416, 'fields': array([ 743, 1781]), 'ccds': array([9, 1])}\n"
     ]
    }
   ],
   "source": [
    "print(pl.sources[\"ZTF18abscygs\"])"
   ]
  },
  {
   "cell_type": "code",
   "execution_count": 18,
   "metadata": {},
   "outputs": [
    {
     "name": "stdout",
     "output_type": "stream",
     "text": [
      "{'rcid': 27, 'creationdate': '2018-09-08', 'name': 'ZTF18abtogdl', 'classification': 'SN Ia', 'redshift': '0.105', 'iauname': None, 'release_status': 'pending', 'field': 797, 'candid': 615259722715015081, 'ra': 267.7971078, 'lastmodified': '2018-09-27', 'release_auth': None, 'dec': 53.3144701, 'id': 4671, 'fields': array([797]), 'ccds': array([6])}\n"
     ]
    }
   ],
   "source": [
    "print(pl.sources[\"ZTF18abtogdl\"])"
   ]
  },
  {
   "cell_type": "code",
   "execution_count": null,
   "metadata": {},
   "outputs": [],
   "source": []
  },
  {
   "cell_type": "code",
   "execution_count": null,
   "metadata": {},
   "outputs": [],
   "source": []
  }
 ],
 "metadata": {
  "kernelspec": {
   "display_name": "Python 3",
   "language": "python",
   "name": "python3"
  },
  "language_info": {
   "codemirror_mode": {
    "name": "ipython",
    "version": 3
   },
   "file_extension": ".py",
   "mimetype": "text/x-python",
   "name": "python",
   "nbconvert_exporter": "python",
   "pygments_lexer": "ipython3",
   "version": "3.6.3"
  }
 },
 "nbformat": 4,
 "nbformat_minor": 2
}
