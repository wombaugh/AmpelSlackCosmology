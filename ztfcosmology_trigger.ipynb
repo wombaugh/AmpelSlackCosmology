{
 "cells": [
  {
   "cell_type": "code",
   "execution_count": 47,
   "metadata": {},
   "outputs": [],
   "source": [
    "#%matplotlib inline\n",
    "import numpy as np\n",
    "import pandas as pd\n",
    "import matplotlib.pyplot as plt\n",
    "import marshaltools\n",
    "from ast import literal_eval\n",
    "import logging\n",
    "from astropy.time import Time\n",
    "from ipywidgets import interactive\n",
    "import ipywidgets as widgets\n",
    "import re, os\n",
    "import sncosmo\n",
    "import json"
   ]
  },
  {
   "cell_type": "code",
   "execution_count": 21,
   "metadata": {},
   "outputs": [],
   "source": [
    "username = 'jnordin'\n",
    "date = '2018-09-23'\n",
    "maxz = 0.1\n",
    "minpeakmag = 19.5   # A candidate need to have at least one detection brigther than this\n",
    "mindet = 5          # A candidate need to have at least this many detections\n",
    "maxage = 30         # If a detection has an age older than this, skip (stars,age). \n",
    "                    # Q: How can histories be older than 30days?\n",
    "                    # At this stage we will also cut history older than this in fit\n",
    "SNcut = 5           # Need at least some photometry with this Signal to Noise\n",
    "\n",
    "marshal_savid = 42\n",
    "logpath = '/home/jnordin/local/github/AmpelSlackCosmology/'\n",
    "\n",
    "# Get the other set of marshal source ids. Lets not talk about, took too much of my life alrady\n",
    "with open('sne_following.json', 'r') as fp:\n",
    "    sne_following = json.load(fp)\n",
    "\n",
    "# log\n",
    "logger = logging.getLogger(username)\n",
    "handler = logging.FileHandler(logpath+'ztfcosmo_trigger_%s_%s.log'%(date,username))\n",
    "handler.setLevel(logging.INFO)\n",
    "formatter = logging.Formatter('%(asctime)s - %(name)s - %(levelname)s - %(message)s')\n",
    "handler.setFormatter(formatter)\n",
    "logger.addHandler(handler)\n",
    "\n",
    "manual_inspection=[]"
   ]
  },
  {
   "cell_type": "code",
   "execution_count": 3,
   "metadata": {},
   "outputs": [
    {
     "name": "stderr",
     "output_type": "stream",
     "text": [
      "DEBUG:marshaltools.ProgramList:listing accessible programs\n",
      "DEBUG:marshaltools.ProgramList:Starting list_programs.cgi post. Attempt # 0\n",
      "DEBUG:marshaltools.ProgramList:request URL: http://skipper.caltech.edu:8080/cgi-bin/growth/list_programs.cgi?None\n",
      "DEBUG:marshaltools.ProgramList:Successful growth connection.\n",
      "INFO:marshaltools.ProgramList:Initialized ProgramList for program AMPEL Test (ID 4)\n",
      "DEBUG:marshaltools.ProgramList:Starting list_program_sources.cgi post. Attempt # 0\n",
      "DEBUG:marshaltools.ProgramList:request URL: http://skipper.caltech.edu:8080/cgi-bin/growth/list_program_sources.cgi?programidx=4&getredshift=1&getclassification=1\n",
      "DEBUG:marshaltools.ProgramList:Successful growth connection.\n",
      "INFO:marshaltools.ProgramList:Loaded 184 saved sources for program AMPEL Test.\n"
     ]
    }
   ],
   "source": [
    "# Now fun starts for real. \n",
    "pl = marshaltools.ProgramList('AMPEL Test',load_candidates=False)"
   ]
  },
  {
   "cell_type": "code",
   "execution_count": null,
   "metadata": {},
   "outputs": [],
   "source": []
  },
  {
   "cell_type": "code",
   "execution_count": 30,
   "metadata": {},
   "outputs": [
    {
     "name": "stderr",
     "output_type": "stream",
     "text": [
      "INFO:jnordin:SN ZTF18aasdted classified with type SN Ia, skipping.\n",
      "INFO:jnordin:SN ZTF18aauvptt classified with type AGN, skipping.\n",
      "INFO:jnordin:Not enugh good data for SN ZTF18ablviog. Manual inspection prob needed.\n",
      "INFO:jnordin:SN ZTF18abmxfrc classified with type SN Ia, skipping.\n",
      "INFO:jnordin:SN ZTF18abnxhmc classified with type SN Ia, skipping.\n",
      "INFO:jnordin:SN ZTF18abnvnqb classified with type SN Ia, skipping.\n",
      "INFO:jnordin:SN ZTF18abkxlcz classified with type SN Ia, skipping.\n",
      "INFO:jnordin:SN ZTF18aboaeqy classified with type SN Ia, skipping.\n",
      "INFO:jnordin:Not enugh good data for SN ZTF18abmjayl. Manual inspection prob needed.\n",
      "/home/jnordin/local/github/marshaltools/marshaltools/MarshalLightcurve.py:120: RuntimeWarning: overflow encountered in double_scalars\n",
      "  eflux[n] = 10**(-0.4*(r['limmag']-zp[n]))/5.\n",
      "INFO:jnordin:Not enugh good data for SN ZTF18abmszpd. Manual inspection prob needed.\n",
      "INFO:jnordin:SN ZTF18abntwvr has too few filters for saltfit.\n",
      "INFO:jnordin:Not enugh good data for SN ZTF18abmadcc. Manual inspection prob needed.\n",
      "INFO:jnordin:Not enugh good data for SN ZTF18ablrwlk. Manual inspection prob needed.\n",
      "INFO:jnordin:Not enugh good data for SN ZTF18abmdfba. Manual inspection prob needed.\n",
      "INFO:jnordin:Not enugh good data for SN ZTF18abmorft. Manual inspection prob needed.\n",
      "INFO:jnordin:Not enugh good data for SN ZTF18abmpbjy. Manual inspection prob needed.\n",
      "INFO:jnordin:SN ZTF18abmwuml has too few filters for saltfit.\n",
      "INFO:jnordin:SN ZTF18abncqfx has too few filters for saltfit.\n",
      "INFO:jnordin:Not enugh good data for SN ZTF18abnzgwe. Manual inspection prob needed.\n",
      "INFO:jnordin:SN ZTF18abnucig classified with type SN Ia, skipping.\n",
      "INFO:jnordin:SN ZTF18abglwpn classified with type AGN, skipping.\n",
      "INFO:jnordin:SN ZTF18abmaewl classified with type SN Ia, skipping.\n",
      "INFO:jnordin:SN ZTF18ablwafp classified with type SLSN-I?, skipping.\n",
      "INFO:jnordin:SN ZTF18abmjcbs classified with type SN Ia, skipping.\n",
      "INFO:jnordin:SN ZTF18abncimo classified with type SN Ia, skipping.\n",
      "INFO:jnordin:SN ZTF18abnygkb classified with type SN Ia, skipping.\n",
      "INFO:jnordin:SN ZTF18abnvoel classified with type SN Ia, skipping.\n",
      "INFO:jnordin:Not enugh good data for SN ZTF18aboqvfa. Manual inspection prob needed.\n",
      "INFO:jnordin:Not enugh good data for SN ZTF18aborbhi. Manual inspection prob needed.\n",
      "INFO:jnordin:SN ZTF18aborkxd has too few filters for saltfit.\n",
      "INFO:jnordin:SN ZTF18aborkox has too few filters for saltfit.\n",
      "INFO:jnordin:Not enugh good data for SN ZTF18abmkbqo. Manual inspection prob needed.\n",
      "INFO:jnordin:SN ZTF18abotaki has too few filters for saltfit.\n",
      "INFO:jnordin:SN ZTF18abpavnx has too few filters for saltfit.\n",
      "INFO:jnordin:SN ZTF18abpaywm classified with type SN Ia, skipping.\n",
      "INFO:jnordin:SN ZTF18aboztta classified with type SN Ia, skipping.\n",
      "INFO:jnordin:SN ZTF18abmwpyl classified with type SN Ia, skipping.\n",
      "INFO:jnordin:SN ZTF18abpttky classified with type SN Ia, skipping.\n",
      "INFO:jnordin:Not enugh good data for SN ZTF18abanjoi. Manual inspection prob needed.\n",
      "INFO:jnordin:SN ZTF18abnuhuy classified with type AGN, skipping.\n",
      "INFO:jnordin:SN ZTF18abrlupd classified with type SN Ia, skipping.\n",
      "INFO:jnordin:SN ZTF18abmskzu has too few filters for saltfit.\n",
      "INFO:jnordin:SN ZTF18abqbuaj classified with type SN Ibn, skipping.\n",
      "INFO:jnordin:SN ZTF18abqboud classified with type CV, skipping.\n",
      "INFO:jnordin:SN ZTF18abqlpgq classified with type SN Ia, skipping.\n",
      "INFO:jnordin:SN ZTF18abqbavl classified with type SN Ia, skipping.\n",
      "INFO:jnordin:SN ZTF18abqdadp classified with type SN Ia, skipping.\n",
      "INFO:jnordin:SN ZTF18abrwudp classified with type SN Ia, skipping.\n",
      "INFO:jnordin:SN ZTF18abqjvyl classified with type SN Ia, skipping.\n",
      "INFO:jnordin:SN ZTF18abpaori has too few filters for saltfit.\n",
      "INFO:jnordin:SN ZTF18abolvoh classified with type SN Ia, skipping.\n",
      "INFO:jnordin:SN ZTF18abrzevz classified with type SN Ia, skipping.\n",
      "INFO:jnordin:SN ZTF18abqyvzy classified with type SN II, skipping.\n",
      "INFO:jnordin:SN ZTF18absbsoz classified with type SN Ia, skipping.\n",
      "INFO:jnordin:SN ZTF18ablvime classified with type SN Ia, skipping.\n",
      "INFO:jnordin:SN ZTF18absdxpk classified with type SN Ia, skipping.\n",
      "INFO:jnordin:SN ZTF18absliyc classified with type SN Ia pec, skipping.\n",
      "INFO:jnordin:SN ZTF18absldfl classified with type SN II, skipping.\n",
      "INFO:jnordin:SN ZTF18abotcjv classified with type SN Ia, skipping.\n",
      "INFO:jnordin:SN ZTF18abnysyy classified with type SN Ia, skipping.\n",
      "INFO:jnordin:SN ZTF18abshezu classified with type SLSN-I, skipping.\n",
      "INFO:jnordin:SN ZTF18abryewg classified with type SN Ia 91T-like, skipping.\n",
      "INFO:jnordin:SN ZTF18abssukb classified with type SN Ia, skipping.\n",
      "INFO:jnordin:SN ZTF18absdjms classified with type SN Ia, skipping.\n",
      "INFO:jnordin:SN ZTF18absumwc has too few filters for saltfit.\n",
      "INFO:jnordin:SN ZTF18abukmty classified with type SN Ia, skipping.\n",
      "INFO:jnordin:SN ZTF18abvbayb classified with type SN Ia, skipping.\n",
      "INFO:jnordin:SN ZTF18abuhiaj has too few filters for saltfit.\n",
      "INFO:jnordin:SN ZTF18abqapch classified with type SN Ia, skipping.\n",
      "INFO:jnordin:SN ZTF18abuiknd classified with type SN Ia, skipping.\n",
      "INFO:jnordin:SN ZTF18abtxvhy has too few filters for saltfit.\n",
      "INFO:jnordin:SN ZTF18abslxhz classified with type SN Ia, skipping.\n",
      "INFO:jnordin:SN ZTF18abwdcdv classified with type SN Ia, skipping.\n",
      "INFO:jnordin:SN ZTF18abwclem has too few filters for saltfit.\n",
      "INFO:jnordin:SN ZTF18abwlonm has too few filters for saltfit.\n",
      "INFO:jnordin:SN ZTF18abwbaim has too few filters for saltfit.\n",
      "INFO:jnordin:SN ZTF18abwxhjo has too few filters for saltfit.\n",
      "INFO:jnordin:SN ZTF18abucvbf classified with type SN Ia, skipping.\n",
      "INFO:jnordin:SN ZTF18abwlopg has too few filters for saltfit.\n",
      "INFO:jnordin:SN ZTF18abvkhul classified with type SN Ia, skipping.\n",
      "INFO:jnordin:SN ZTF18abxfcql has too few filters for saltfit.\n",
      "INFO:jnordin:SN ZTF18abtcdfv classified with type SN Ia, skipping.\n",
      "INFO:jnordin:SN ZTF18absiymj classified with type SN Ia, skipping.\n",
      "INFO:jnordin:SN ZTF18abylgru has too few filters for saltfit.\n",
      "DEBUG:marshaltools.gci_utils:Starting print_lc.cgi post. Attempt # 0\n",
      "DEBUG:marshaltools.gci_utils:request URL: http://skipper.caltech.edu:8080/cgi-bin/growth/print_lc.cgi?name=ZTF17aaaadqv\n",
      "DEBUG:marshaltools.gci_utils:Successful growth connection.\n",
      "DEBUG:marshaltools.gci_utils:Starting print_lc.cgi post. Attempt # 0\n",
      "DEBUG:marshaltools.gci_utils:request URL: http://skipper.caltech.edu:8080/cgi-bin/growth/print_lc.cgi?name=ZTF18abbgdto\n",
      "DEBUG:marshaltools.gci_utils:Successful growth connection.\n",
      "INFO:jnordin:SN ZTF18abdkkwa classified with type SN Ic, skipping.\n",
      "DEBUG:marshaltools.gci_utils:Starting print_lc.cgi post. Attempt # 0\n",
      "DEBUG:marshaltools.gci_utils:request URL: http://skipper.caltech.edu:8080/cgi-bin/growth/print_lc.cgi?name=ZTF18abwfmot\n",
      "DEBUG:marshaltools.gci_utils:Successful growth connection.\n"
     ]
    }
   ],
   "source": [
    "# This is the timeconsuming part. Downloading all the data and do saltfits. Let it start and get a coffee\n",
    "for count, sn in enumerate(pl.sources.keys()):\n",
    "    if not pl.sources[sn]['classification'] is None:\n",
    "        logger.info(\"SN %s classified with type %s, skipping.\"%(sn,pl.sources[sn]['classification']))\n",
    "        continue\n",
    "\n",
    "    if 'SNCOSMOFIT' in pl.sources[sn]:\n",
    "        print('already done')\n",
    "        continue\n",
    "        \n",
    "    # Download specific LC\n",
    "    lc = pl.get_lightcurve(sn)\n",
    "\n",
    "    # Check nbr filters filters\n",
    "    if len(np.unique(lc.table[\"filter\"][lc.table[\"magpsf\"]<99] ))<2:\n",
    "        logger.info(\"SN %s has too few filters for saltfit.\"%(sn))\n",
    "        continue\n",
    "    \n",
    "    \n",
    "    # create a model\n",
    "    model = sncosmo.Model(source='salt2')\n",
    "    \n",
    "    # Massage data\n",
    "    data = lc.table_sncosmo\n",
    "    data[\"mjd\"] = data[\"mjd\"]-Time.now().mjd\n",
    "    data = data[ (data[\"mjd\"]>-maxage) ]\n",
    "    \n",
    "    # Replicating data quality checks\n",
    "    signalNoise = np.abs(data[\"flux\"])/data[\"fluxerr\"]\n",
    "    \n",
    "    \n",
    "    \n",
    "    # run the fit\n",
    "    if len(signalNoise[signalNoise>SNcut])==0:\n",
    "        manual_inspection.append(sn)\n",
    "        logger.info(\"Not enugh good data for SN %s. Manual inspection prob needed.\"%(sn))\n",
    "        continue    \n",
    "        \n",
    "    try:\n",
    "        result, fitted_model = sncosmo.fit_lc(\n",
    "            data, model,\n",
    "            ['z', 't0', 'x0', 'x1', 'c'],  # parameters of model to vary\n",
    "            bounds={'z':(0., 0.2),'x1':(-5.,5.),'t0':(-20.,15.),'c':(-1.,10.)})  # bounds on parameters (if any)\n",
    "        pl.sources[sn]['SNCOSMOfit'] = result, fitted_model, data\n",
    "#        sncosmo.plot_lc(data, model=fitted_model, errors=result.errors)\n",
    "#        plt.show()\n",
    "\n",
    "            \n",
    "    except ValueError:\n",
    "        print(\"Why does fit fail for %s?\"%(sn))\n",
    "        manual_inspection.append(sn)\n",
    "        logger.info(\"SALT fit fails for SN %s. Manual inspection prob needed.\"%(sn))\n",
    "        continue\n",
    "\n",
    "        \n",
    "        "
   ]
  },
  {
   "cell_type": "code",
   "execution_count": 31,
   "metadata": {},
   "outputs": [
    {
     "name": "stdout",
     "output_type": "stream",
     "text": [
      "Found 99 lightcurves to inspect\n"
     ]
    }
   ],
   "source": [
    "visual_inspect = []\n",
    "for sn in pl.sources.keys():\n",
    "    if not 'SNCOSMOfit' in pl.sources[sn].keys():\n",
    "        continue\n",
    "    visual_inspect.append(sn)\n",
    "print(\"Found %s lightcurves to inspect\"%(len(visual_inspect)))     \n",
    "\n"
   ]
  },
  {
   "cell_type": "code",
   "execution_count": 32,
   "metadata": {},
   "outputs": [],
   "source": []
  },
  {
   "cell_type": "code",
   "execution_count": null,
   "metadata": {},
   "outputs": [],
   "source": []
  },
  {
   "cell_type": "code",
   "execution_count": null,
   "metadata": {},
   "outputs": [],
   "source": []
  },
  {
   "cell_type": "code",
   "execution_count": null,
   "metadata": {},
   "outputs": [],
   "source": []
  },
  {
   "cell_type": "code",
   "execution_count": null,
   "metadata": {},
   "outputs": [],
   "source": []
  },
  {
   "cell_type": "code",
   "execution_count": 42,
   "metadata": {},
   "outputs": [],
   "source": [
    "# Function to make stupid plot of a SN lightcurve\n",
    "def plotty(i):\n",
    "    \"\"\"\n",
    "    Flash SNCOSMO fit plot\n",
    "    \"\"\"\n",
    "    \n",
    "    global snnbr\n",
    "    \n",
    "    \n",
    "    # Evaluate reply\n",
    "    snname = visual_inspect[snnbr]\n",
    "    if i == 'TooLate':\n",
    "        logger.info(\"%s Faded too much while waiting. Call P200 or Keck?\"%(snname))\n",
    "        decisions[snnbr] = i\n",
    "        snnbr += 1\n",
    "    elif i == 'VeryGood':\n",
    "        logger.info(\"Nice looking likely SN %s.\"%(snname))\n",
    "        decisions[snnbr] = i\n",
    "        snnbr += 1\n",
    "    elif i == 'Possibly':\n",
    "        logger.info(\"Get SN %s if we can.\"%(snname))\n",
    "        decisions[snnbr] = i\n",
    "        snnbr += 1    \n",
    "    elif i == 'NoSNIa':\n",
    "        logger.info(\"Object %s most likely not SNIa. \"%(snname))\n",
    "        decisions[snnbr] = i\n",
    "        snnbr += 1\n",
    "    elif i == 'BadData':\n",
    "        logger.info(\"Too little data of %s, skip. \"%(snname))\n",
    "        decisions[snnbr] = i\n",
    "        snnbr += 1    \n",
    "    elif i == 'GoBack':\n",
    "        logger.info(\"I want to scan some more, go back!\")\n",
    "        snnbr -= 1\n",
    "    elif i=='Nothing':\n",
    "        # Lets do nothing\n",
    "        pass\n",
    "    \n",
    "    # Are we done?\n",
    "    if snnbr==len(visual_inspect):\n",
    "        print( \"Seems like we are all done. How do we exit?\")\n",
    "        return False\n",
    "    \n",
    "    if snnbr==30:\n",
    "        return False\n",
    "    \n",
    "    \n",
    "    # Reset    \n",
    "    snname = visual_inspect[snnbr]\n",
    "    \n",
    "    # Retrieve saltfit\n",
    "    result, fitted_model, data = pl.sources[snname]['SNCOSMOfit']  \n",
    "    sncosmo.plot_lc(data, model=fitted_model, errors=result.errors)\n",
    "    plt.show()\n",
    "    wiggy.value = 'Nothing'\n",
    "    \n",
    "    return (i)\n",
    "\n",
    "\n",
    "wiggy = widgets.RadioButtons(\n",
    "    options=['Nothing','TooLate', 'VeryGood', 'Possibly','NoSNIa','BadData','GoBack'],\n",
    "    value='Nothing',\n",
    "    description='Action:',\n",
    "    disabled=False\n",
    ")\n",
    "y = interactive(plotty,i = wiggy)"
   ]
  },
  {
   "cell_type": "code",
   "execution_count": 43,
   "metadata": {},
   "outputs": [],
   "source": [
    "# Presumably you want to scan from the first SN, but you can change this and run display again to revisit something\n",
    "# You cant jump ahead in the list though\n",
    "snnbr = 20\n"
   ]
  },
  {
   "cell_type": "code",
   "execution_count": 9,
   "metadata": {},
   "outputs": [],
   "source": [
    "# This is the all important list of decisions you have made\n",
    "decisions = {}"
   ]
  },
  {
   "cell_type": "code",
   "execution_count": 44,
   "metadata": {},
   "outputs": [
    {
     "data": {
      "application/vnd.jupyter.widget-view+json": {
       "model_id": "f18ad2d35c1845e698d884fc192099b5",
       "version_major": 2,
       "version_minor": 0
      },
      "text/plain": [
       "interactive(children=(RadioButtons(description='Action:', options=('Nothing', 'TooLate', 'VeryGood', 'Possibly…"
      ]
     },
     "metadata": {},
     "output_type": "display_data"
    }
   ],
   "source": [
    "# This is the scanning box! \n",
    "# You have three choices (Nothing is not a choice and GoBack steps lets you go back in order)\n",
    "# - Wait : Select this if the transient is rizing and might get into RCF range (~<18.7)\n",
    "# - Submit : Should probably get a spectrum (you do not need to worry about where just yet)\n",
    "# - Garbage : Variable star or clearly non SNIa. Evanetually these will be rejected and never more show up\n",
    "display(y)"
   ]
  },
  {
   "cell_type": "code",
   "execution_count": 71,
   "metadata": {},
   "outputs": [
    {
     "name": "stderr",
     "output_type": "stream",
     "text": [
      "INFO:jnordin:Adding ZTF18abcqvhs to obs queue with setting VeryGood.\n",
      "INFO:jnordin:Adding ZTF18abnujuy to obs queue with setting Possibly.\n"
     ]
    },
    {
     "name": "stdout",
     "output_type": "stream",
     "text": [
      "ZTF18abcqvhs VeryGood\n",
      "ZTF18abnujuy Possibly\n"
     ]
    }
   ],
   "source": [
    "# Go through current list of SNe on the obs queue. If already \n",
    "for snnbr, choice in decisions.items():\n",
    "    if not (choice=='VeryGood' or choice=='Possibly'):\n",
    "        continue\n",
    "    sn = visual_inspect[snnbr]\n",
    "    print(\"%s %s\"%(sn,choice))\n",
    "    if sn in sne_following.keys():\n",
    "        logger.info(\"%s already in obs queue. Adding with setting %s.\"%(sn,choice))\n",
    "        sne_following[sn].append([choice,username,date])\n",
    "    else:\n",
    "        logger.info(\"Adding %s to obs queue with setting %s.\"%(sn,choice))\n",
    "        sne_following[sn] = [ [choice,username,date] ]"
   ]
  },
  {
   "cell_type": "code",
   "execution_count": 72,
   "metadata": {},
   "outputs": [
    {
     "name": "stderr",
     "output_type": "stream",
     "text": [
      "INFO:jnordin:ZTF18abnujuy could be RCF target? peakmag 18.35 recentmag 19.52.\n",
      "INFO:jnordin:ZTF18abnujuy could be Cosmology SEDM target? peakmag 19.47 recentmag 19.86.\n"
     ]
    },
    {
     "name": "stdout",
     "output_type": "stream",
     "text": [
      "Follow link and trigger (RCF) SEDM obs with prio VeryGood\n",
      "http://skipper.caltech.edu:8080/cgi-bin/growth/view_source.cgi?name=ZTF18abcqvhs\n",
      "Follow link and trigger (Cosmologz) SEDM obs with prio Possibly\n",
      "http://skipper.caltech.edu:8080/cgi-bin/growth/view_source.cgi?name=ZTF18abnujuy\n"
     ]
    }
   ],
   "source": [
    "# Unfortunately not done yet. First check whether any of our SNe to obs are bright enough for RCF.\n",
    "for snname in sne_following.keys():\n",
    "    \n",
    "    lc = pl.get_lightcurve(snname)\n",
    "    peakmag = np.min(lc.table['magpsf'])\n",
    "    recentmag =  np.mean(lc.table['magpsf'][ (lc.table['jdobs']-Time.now().jd)>-5 ] )\n",
    "    \n",
    "    lastchoice = sne_following[snname][-1][0]\n",
    "    \n",
    "    if peakmag<18.7 and recentmag < 20:\n",
    "        logger.info(\"%s could be RCF target? peakmag %s recentmag %s.\"%(sn,peakmag,recentmag))\n",
    "        msg = 'http://skipper.caltech.edu:8080/cgi-bin/growth/view_source.cgi?name=%s'%(snname)\n",
    "        print( \"Follow link and trigger (RCF) SEDM obs with prio %s\"%(lastchoice) )\n",
    "        print(msg)\n",
    "    elif peakmag<19.5 and recentmag < 20:\n",
    "        logger.info(\"%s could be Cosmology SEDM target? peakmag %s recentmag %s.\"%(sn,peakmag,recentmag))\n",
    "        msg = 'http://skipper.caltech.edu:8080/cgi-bin/growth/view_source.cgi?name=%s'%(snname)\n",
    "        print( \"Follow link and trigger (Cosmologz) SEDM obs with prio %s\"%(lastchoice) )\n",
    "        print(msg)\n",
    "    \n"
   ]
  },
  {
   "cell_type": "code",
   "execution_count": 73,
   "metadata": {},
   "outputs": [
    {
     "name": "stderr",
     "output_type": "stream",
     "text": [
      "INFO:jnordin:Triggered SEDM obs of: []\n"
     ]
    }
   ],
   "source": [
    "# Enter the names of the SNe you triggered SEDM obs for\n",
    "sedmtrig = []\n",
    "logger.info(\"Triggered SEDM obs of: %s\"%(sedmtrig))"
   ]
  },
  {
   "cell_type": "code",
   "execution_count": 74,
   "metadata": {},
   "outputs": [],
   "source": [
    "# Save the list of SN w triggered obs\n",
    "with open('sne_following.json', 'w') as fp:\n",
    "    json.dump(sne_following, fp)\n"
   ]
  },
  {
   "cell_type": "code",
   "execution_count": null,
   "metadata": {},
   "outputs": [],
   "source": []
  },
  {
   "cell_type": "code",
   "execution_count": null,
   "metadata": {},
   "outputs": [],
   "source": []
  },
  {
   "cell_type": "code",
   "execution_count": null,
   "metadata": {},
   "outputs": [],
   "source": []
  },
  {
   "cell_type": "code",
   "execution_count": null,
   "metadata": {},
   "outputs": [],
   "source": []
  },
  {
   "cell_type": "code",
   "execution_count": null,
   "metadata": {},
   "outputs": [],
   "source": []
  },
  {
   "cell_type": "code",
   "execution_count": null,
   "metadata": {},
   "outputs": [],
   "source": []
  },
  {
   "cell_type": "code",
   "execution_count": null,
   "metadata": {},
   "outputs": [],
   "source": []
  },
  {
   "cell_type": "code",
   "execution_count": null,
   "metadata": {},
   "outputs": [],
   "source": []
  },
  {
   "cell_type": "code",
   "execution_count": 70,
   "metadata": {},
   "outputs": [],
   "source": []
  },
  {
   "cell_type": "code",
   "execution_count": null,
   "metadata": {},
   "outputs": [],
   "source": []
  }
 ],
 "metadata": {
  "kernelspec": {
   "display_name": "Python 3",
   "language": "python",
   "name": "python3"
  },
  "language_info": {
   "codemirror_mode": {
    "name": "ipython",
    "version": 3
   },
   "file_extension": ".py",
   "mimetype": "text/x-python",
   "name": "python",
   "nbconvert_exporter": "python",
   "pygments_lexer": "ipython3",
   "version": "3.6.5"
  }
 },
 "nbformat": 4,
 "nbformat_minor": 2
}
