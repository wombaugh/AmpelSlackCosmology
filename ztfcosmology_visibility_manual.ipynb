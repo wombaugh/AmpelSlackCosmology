{
 "cells": [
  {
   "cell_type": "code",
   "execution_count": 1,
   "metadata": {},
   "outputs": [],
   "source": [
    "import numpy as np\n",
    "import matplotlib.pyplot as plt\n",
    "%matplotlib inline\n",
    "\n",
    "import json\n",
    "import logging\n",
    "from marshaltools import ProgramList\n",
    "from astropy.time import Time\n",
    "import astropy.units as u\n",
    "import os\n",
    "\n",
    "from Observatory import Observatory\n",
    "from utils import get_config, plot_visibility, prepare_snifs_schedule"
   ]
  },
  {
   "cell_type": "code",
   "execution_count": 2,
   "metadata": {},
   "outputs": [],
   "source": [
    "# If you are running this notebook for the first time, you will be prompted to enter your username and\n",
    "# the path to your downloads from slack. If you entered something incorrectly, you can correct this in .config\n",
    "config = get_config()\n",
    "\n",
    "username = config['username']\n",
    "date = '2019-07-25'\n",
    "obs = 'uh88'\n",
    "tshift = {'ntt': -0.25, 'uh88': 0}  # In units of days\n",
    "trange = [Time(Time(date).jd+tshift[obs],format='jd'), Time(Time(date).jd+1.+tshift[obs],format='jd')]\n",
    "\n",
    "logpath = 'logs/'\n",
    "\n",
    "# log\n",
    "logger = logging.getLogger(username)\n",
    "handler = logging.FileHandler(os.path.join(logpath, 'ztfcosmo_visibilty_%s_%s_%s.log'%(obs,date,username)))\n",
    "handler.setLevel(logging.INFO)\n",
    "formatter = logging.Formatter('%(asctime)s - %(name)s - %(levelname)s - %(message)s')\n",
    "handler.setFormatter(formatter)\n",
    "logger.addHandler(handler)"
   ]
  },
  {
   "cell_type": "code",
   "execution_count": 3,
   "metadata": {},
   "outputs": [
    {
     "name": "stderr",
     "output_type": "stream",
     "text": [
      "INFO:ufeindt:Initialized Observatory uh88 at position (lon 19.82 deg, lat -155.47 deg, alt: 4205.0 m)\n",
      "INFO:ufeindt:Initialized Observatory ntt at position (lon -29.25 deg, lat -70.73 deg, alt: 2375.0 m)\n"
     ]
    }
   ],
   "source": [
    "observatories ={\n",
    "    'uh88': Observatory('uh88', 19.8231, -155.47, 4205, sun_alt_th=-17, logger=logger),\n",
    "    'ntt': Observatory('ntt', -29.25, -70.73, 2375, sun_alt_th=-12, logger=logger), # What's the twilight limit for ePESSTO?\n",
    "}"
   ]
  },
  {
   "cell_type": "code",
   "execution_count": 4,
   "metadata": {},
   "outputs": [
    {
     "name": "stderr",
     "output_type": "stream",
     "text": [
      "INFO:ufeindt:computed dark times (sun_alt: -17.00) between 2019-07-25 00:00:00.000 and 2019-07-25 23:55:00.000. Total of 8.33 hours of dark\n"
     ]
    }
   ],
   "source": [
    "# Calculate dark time and observation windows\n",
    "dark_time = observatories[obs].get_dark_times(trange)"
   ]
  },
  {
   "cell_type": "code",
   "execution_count": 5,
   "metadata": {},
   "outputs": [
    {
     "name": "stderr",
     "output_type": "stream",
     "text": [
      "INFO:marshaltools.ProgramList:Initialized ProgramList for program Redshift Completeness Factor (ID 2)\n",
      "INFO:marshaltools.ProgramList:Loaded 2985 saved sources for program Redshift Completeness Factor.\n"
     ]
    }
   ],
   "source": [
    "# Load one of the marshal programs to get the coordinates of your targets (pick one that has all/most of them)\n",
    "pl = ProgramList('Redshift Completeness Factor')"
   ]
  },
  {
   "cell_type": "code",
   "execution_count": 14,
   "metadata": {},
   "outputs": [],
   "source": [
    "# If you have a commented list of \n",
    "\n",
    "targets_raw = \"\"\"High prio\n",
    "ZTF19abgdcyx    -     Weird SEDM spec, weird lightcurve\n",
    "ZTF19abfioty    - missing from marshal\n",
    "ZTF19abctosq - I band lc and faint host\n",
    "Unidentified sn like LC (in some very weak order of priority)\n",
    "ZTF19abfpupe (would be good, bright and still not done by SEDM)\n",
    "ZTF19abfaqqo (sn after peak, hostless, so would be good)\n",
    "ZTF19abfwfei (would be good, bright and still not done by SEDM)\n",
    "ZTF19abfdsbu\n",
    "ZTF19abfwtkw\n",
    "ZTF19abgbbpx\n",
    "ZTF19abguzsx\n",
    "Known SNIa at peak:\n",
    "ZTF19abgcbey\n",
    "ZTF19abgnuri\n",
    "ZTF19abgprpq\n",
    "ZTF19abglmpf\n",
    "ZTF19abfhszx (possibly declining already)\n",
    "Fillers:\n",
    "ZTF19abfzhzc\n",
    "ZTF19abgawrv\n",
    "ZTF19abgkfed\"\"\""
   ]
  },
  {
   "cell_type": "code",
   "execution_count": 15,
   "metadata": {},
   "outputs": [],
   "source": [
    "# List your targets here\n",
    "targets = [a.split(' ')[0] for a in targets_raw.split('\\n') if a.startswith('ZTF1')]"
   ]
  },
  {
   "cell_type": "code",
   "execution_count": 21,
   "metadata": {},
   "outputs": [],
   "source": [
    "# Check whether targets are in the loaded program\n",
    "for snname in targets:\n",
    "    if snname not in pl.sources.keys():\n",
    "        print(snname)"
   ]
  },
  {
   "cell_type": "code",
   "execution_count": 20,
   "metadata": {},
   "outputs": [
    {
     "name": "stderr",
     "output_type": "stream",
     "text": [
      "INFO:marshaltools.ProgramList:Initialized ProgramList for program AMPEL Test (ID 10)\n",
      "INFO:marshaltools.ProgramList:Loaded 2437 saved sources for program AMPEL Test.\n",
      "INFO:marshaltools.ProgramList:Initialized ProgramList for program Superluminous Supernovae II (ID 9)\n",
      "INFO:marshaltools.ProgramList:Loaded 1127 saved sources for program Superluminous Supernovae II.\n"
     ]
    }
   ],
   "source": [
    "# Load some more programs to make sure you have all the coordinates\n",
    "for p_ in ['AMPEL Test', \n",
    "           #'AmpelTNS',\n",
    "           #'Redshift Completeness Factor', \n",
    "           #'Infant Supernovae',\n",
    "           'Superluminous Supernovae II'\n",
    "          ]:\n",
    "    pl_tmp = ProgramList(p_)\n",
    "    for k, v in pl_tmp.sources.items():\n",
    "        if k not in pl.sources.keys():\n",
    "            pl.sources[k] = v"
   ]
  },
  {
   "cell_type": "code",
   "execution_count": 41,
   "metadata": {},
   "outputs": [],
   "source": [
    "obs_windows = {}"
   ]
  },
  {
   "cell_type": "code",
   "execution_count": 42,
   "metadata": {},
   "outputs": [],
   "source": [
    "observatories[obs].min_moon_dist = 30"
   ]
  },
  {
   "cell_type": "code",
   "execution_count": 43,
   "metadata": {
    "scrolled": true
   },
   "outputs": [
    {
     "name": "stderr",
     "output_type": "stream",
     "text": [
      "INFO:ufeindt:Calculating visibility of source ZTF19abgdcyx (ra: 250.761373, dec: 58.751249) with uh88.\n",
      "INFO:ufeindt:computing visibility of source at (ra: 250.761373, dec: 58.751249) from observatory uh88\n",
      "INFO:ufeindt:using visibility constraints:\n",
      "\t\t\t\t\t-Time resolution: 5.00 min\n",
      "\t\t\t\t\t-Airmass limit: 2.00\n",
      "\t\t\t\t\t-Sun altitude: -17.00 deg\n",
      "\t\t\t\t\t-Moon distance: 30.00 deg\n",
      "INFO:ufeindt:computed dark times (sun_alt: -17.00) between 2019-07-25 00:00:00.000 and 2019-07-25 23:55:00.000. Total of 8.33 hours of dark\n",
      "INFO:ufeindt:source is visible for a total of 5.167 hours. Took 1.38e+00 sec\n",
      "INFO:ufeindt:Calculating visibility of source ZTF19abfioty (ra: 35.270327, dec: 23.603841) with uh88.\n",
      "INFO:ufeindt:computing visibility of source at (ra: 35.270327, dec: 23.603841) from observatory uh88\n",
      "INFO:ufeindt:using visibility constraints:\n",
      "\t\t\t\t\t-Time resolution: 5.00 min\n",
      "\t\t\t\t\t-Airmass limit: 2.00\n",
      "\t\t\t\t\t-Sun altitude: -17.00 deg\n",
      "\t\t\t\t\t-Moon distance: 30.00 deg\n",
      "INFO:ufeindt:computed dark times (sun_alt: -17.00) between 2019-07-25 00:00:00.000 and 2019-07-25 23:55:00.000. Total of 8.33 hours of dark\n",
      "INFO:ufeindt:Too close the the moon.\n",
      "INFO:ufeindt:source is visible for a total of 0.000 hours. Took 1.12e+00 sec\n",
      "INFO:ufeindt:Source ZTF19abfioty (ra: 35.270327, dec: 23.603841) not observable with uh88.\n",
      "INFO:ufeindt:Calculating visibility of source ZTF19abctosq (ra: 342.438484, dec: 35.022883) with uh88.\n",
      "INFO:ufeindt:computing visibility of source at (ra: 342.438484, dec: 35.022883) from observatory uh88\n",
      "INFO:ufeindt:using visibility constraints:\n",
      "\t\t\t\t\t-Time resolution: 5.00 min\n",
      "\t\t\t\t\t-Airmass limit: 2.00\n",
      "\t\t\t\t\t-Sun altitude: -17.00 deg\n",
      "\t\t\t\t\t-Moon distance: 30.00 deg\n",
      "INFO:ufeindt:computed dark times (sun_alt: -17.00) between 2019-07-25 00:00:00.000 and 2019-07-25 23:55:00.000. Total of 8.33 hours of dark\n",
      "INFO:ufeindt:source is visible for a total of 6.250 hours. Took 1.10e+00 sec\n",
      "INFO:ufeindt:Calculating visibility of source ZTF19abfpupe (ra: 319.914993, dec: -13.747623) with uh88.\n",
      "INFO:ufeindt:computing visibility of source at (ra: 319.914993, dec: -13.747623) from observatory uh88\n",
      "INFO:ufeindt:using visibility constraints:\n",
      "\t\t\t\t\t-Time resolution: 5.00 min\n",
      "\t\t\t\t\t-Airmass limit: 2.00\n",
      "\t\t\t\t\t-Sun altitude: -17.00 deg\n",
      "\t\t\t\t\t-Moon distance: 30.00 deg\n",
      "INFO:ufeindt:computed dark times (sun_alt: -17.00) between 2019-07-25 00:00:00.000 and 2019-07-25 23:55:00.000. Total of 8.33 hours of dark\n",
      "INFO:ufeindt:source is visible for a total of 6.667 hours. Took 1.07e+00 sec\n",
      "INFO:ufeindt:Calculating visibility of source ZTF19abfaqqo (ra: 197.311108, dec: 51.585801) with uh88.\n",
      "INFO:ufeindt:computing visibility of source at (ra: 197.311108, dec: 51.585801) from observatory uh88\n",
      "INFO:ufeindt:using visibility constraints:\n",
      "\t\t\t\t\t-Time resolution: 5.00 min\n",
      "\t\t\t\t\t-Airmass limit: 2.00\n",
      "\t\t\t\t\t-Sun altitude: -17.00 deg\n",
      "\t\t\t\t\t-Moon distance: 30.00 deg\n",
      "INFO:ufeindt:computed dark times (sun_alt: -17.00) between 2019-07-25 00:00:00.000 and 2019-07-25 23:55:00.000. Total of 8.33 hours of dark\n",
      "INFO:ufeindt:source is visible for a total of 1.750 hours. Took 1.21e+00 sec\n",
      "INFO:ufeindt:Calculating visibility of source ZTF19abfwfei (ra: 187.648514, dec: 42.971295) with uh88.\n",
      "INFO:ufeindt:computing visibility of source at (ra: 187.648514, dec: 42.971295) from observatory uh88\n",
      "INFO:ufeindt:using visibility constraints:\n",
      "\t\t\t\t\t-Time resolution: 5.00 min\n",
      "\t\t\t\t\t-Airmass limit: 2.00\n",
      "\t\t\t\t\t-Sun altitude: -17.00 deg\n",
      "\t\t\t\t\t-Moon distance: 30.00 deg\n",
      "INFO:ufeindt:computed dark times (sun_alt: -17.00) between 2019-07-25 00:00:00.000 and 2019-07-25 23:55:00.000. Total of 8.33 hours of dark\n",
      "INFO:ufeindt:source is visible for a total of 1.083 hours. Took 1.08e+00 sec\n",
      "INFO:ufeindt:Calculating visibility of source ZTF19abfdsbu (ra: 224.799341, dec: 48.349181) with uh88.\n",
      "INFO:ufeindt:computing visibility of source at (ra: 224.799341, dec: 48.349181) from observatory uh88\n",
      "INFO:ufeindt:using visibility constraints:\n",
      "\t\t\t\t\t-Time resolution: 5.00 min\n",
      "\t\t\t\t\t-Airmass limit: 2.00\n",
      "\t\t\t\t\t-Sun altitude: -17.00 deg\n",
      "\t\t\t\t\t-Moon distance: 30.00 deg\n",
      "INFO:ufeindt:computed dark times (sun_alt: -17.00) between 2019-07-25 00:00:00.000 and 2019-07-25 23:55:00.000. Total of 8.33 hours of dark\n",
      "INFO:ufeindt:source is visible for a total of 3.583 hours. Took 1.08e+00 sec\n",
      "INFO:ufeindt:Calculating visibility of source ZTF19abfwtkw (ra: 255.839095, dec: 55.726501) with uh88.\n",
      "INFO:ufeindt:computing visibility of source at (ra: 255.839095, dec: 55.726501) from observatory uh88\n",
      "INFO:ufeindt:using visibility constraints:\n",
      "\t\t\t\t\t-Time resolution: 5.00 min\n",
      "\t\t\t\t\t-Airmass limit: 2.00\n",
      "\t\t\t\t\t-Sun altitude: -17.00 deg\n",
      "\t\t\t\t\t-Moon distance: 30.00 deg\n",
      "INFO:ufeindt:computed dark times (sun_alt: -17.00) between 2019-07-25 00:00:00.000 and 2019-07-25 23:55:00.000. Total of 8.33 hours of dark\n",
      "INFO:ufeindt:source is visible for a total of 5.583 hours. Took 1.08e+00 sec\n",
      "INFO:ufeindt:Calculating visibility of source ZTF19abgbbpx (ra: 192.165824, dec: 30.577645) with uh88.\n",
      "INFO:ufeindt:computing visibility of source at (ra: 192.165824, dec: 30.577645) from observatory uh88\n",
      "INFO:ufeindt:using visibility constraints:\n",
      "\t\t\t\t\t-Time resolution: 5.00 min\n",
      "\t\t\t\t\t-Airmass limit: 2.00\n",
      "\t\t\t\t\t-Sun altitude: -17.00 deg\n",
      "\t\t\t\t\t-Moon distance: 30.00 deg\n",
      "INFO:ufeindt:computed dark times (sun_alt: -17.00) between 2019-07-25 00:00:00.000 and 2019-07-25 23:55:00.000. Total of 8.33 hours of dark\n",
      "INFO:ufeindt:source is visible for a total of 1.333 hours. Took 9.96e-01 sec\n",
      "INFO:ufeindt:Calculating visibility of source ZTF19abguzsx (ra: 226.783459, dec: 3.783081) with uh88.\n",
      "INFO:ufeindt:computing visibility of source at (ra: 226.783459, dec: 3.783081) from observatory uh88\n",
      "INFO:ufeindt:using visibility constraints:\n",
      "\t\t\t\t\t-Time resolution: 5.00 min\n",
      "\t\t\t\t\t-Airmass limit: 2.00\n",
      "\t\t\t\t\t-Sun altitude: -17.00 deg\n",
      "\t\t\t\t\t-Moon distance: 30.00 deg\n",
      "INFO:ufeindt:computed dark times (sun_alt: -17.00) between 2019-07-25 00:00:00.000 and 2019-07-25 23:55:00.000. Total of 8.33 hours of dark\n",
      "INFO:ufeindt:source is visible for a total of 3.167 hours. Took 9.40e-01 sec\n",
      "INFO:ufeindt:Calculating visibility of source ZTF19abgcbey (ra: 272.610100, dec: 43.754851) with uh88.\n",
      "INFO:ufeindt:computing visibility of source at (ra: 272.610100, dec: 43.754851) from observatory uh88\n",
      "INFO:ufeindt:using visibility constraints:\n",
      "\t\t\t\t\t-Time resolution: 5.00 min\n",
      "\t\t\t\t\t-Airmass limit: 2.00\n",
      "\t\t\t\t\t-Sun altitude: -17.00 deg\n",
      "\t\t\t\t\t-Moon distance: 30.00 deg\n",
      "INFO:ufeindt:computed dark times (sun_alt: -17.00) between 2019-07-25 00:00:00.000 and 2019-07-25 23:55:00.000. Total of 8.33 hours of dark\n",
      "INFO:ufeindt:source is visible for a total of 6.750 hours. Took 9.85e-01 sec\n",
      "INFO:ufeindt:Calculating visibility of source ZTF19abgnuri (ra: 247.231342, dec: 70.033102) with uh88.\n",
      "INFO:ufeindt:computing visibility of source at (ra: 247.231342, dec: 70.033102) from observatory uh88\n",
      "INFO:ufeindt:using visibility constraints:\n",
      "\t\t\t\t\t-Time resolution: 5.00 min\n",
      "\t\t\t\t\t-Airmass limit: 2.00\n",
      "\t\t\t\t\t-Sun altitude: -17.00 deg\n",
      "\t\t\t\t\t-Moon distance: 30.00 deg\n",
      "INFO:ufeindt:computed dark times (sun_alt: -17.00) between 2019-07-25 00:00:00.000 and 2019-07-25 23:55:00.000. Total of 8.33 hours of dark\n",
      "INFO:ufeindt:source is visible for a total of 4.500 hours. Took 9.98e-01 sec\n",
      "INFO:ufeindt:Calculating visibility of source ZTF19abgprpq (ra: 265.751664, dec: 25.099253) with uh88.\n",
      "INFO:ufeindt:computing visibility of source at (ra: 265.751664, dec: 25.099253) from observatory uh88\n",
      "INFO:ufeindt:using visibility constraints:\n",
      "\t\t\t\t\t-Time resolution: 5.00 min\n",
      "\t\t\t\t\t-Airmass limit: 2.00\n",
      "\t\t\t\t\t-Sun altitude: -17.00 deg\n",
      "\t\t\t\t\t-Moon distance: 30.00 deg\n",
      "INFO:ufeindt:computed dark times (sun_alt: -17.00) between 2019-07-25 00:00:00.000 and 2019-07-25 23:55:00.000. Total of 8.33 hours of dark\n",
      "INFO:ufeindt:source is visible for a total of 6.083 hours. Took 1.03e+00 sec\n",
      "INFO:ufeindt:Calculating visibility of source ZTF19abglmpf (ra: 291.813042, dec: 43.909393) with uh88.\n",
      "INFO:ufeindt:computing visibility of source at (ra: 291.813042, dec: 43.909393) from observatory uh88\n",
      "INFO:ufeindt:using visibility constraints:\n",
      "\t\t\t\t\t-Time resolution: 5.00 min\n",
      "\t\t\t\t\t-Airmass limit: 2.00\n",
      "\t\t\t\t\t-Sun altitude: -17.00 deg\n",
      "\t\t\t\t\t-Moon distance: 30.00 deg\n",
      "INFO:ufeindt:computed dark times (sun_alt: -17.00) between 2019-07-25 00:00:00.000 and 2019-07-25 23:55:00.000. Total of 8.33 hours of dark\n"
     ]
    },
    {
     "name": "stderr",
     "output_type": "stream",
     "text": [
      "INFO:ufeindt:source is visible for a total of 8.000 hours. Took 1.00e+00 sec\n",
      "INFO:ufeindt:Calculating visibility of source ZTF19abfhszx (ra: 316.213949, dec: -22.041078) with uh88.\n",
      "INFO:ufeindt:computing visibility of source at (ra: 316.213949, dec: -22.041078) from observatory uh88\n",
      "INFO:ufeindt:using visibility constraints:\n",
      "\t\t\t\t\t-Time resolution: 5.00 min\n",
      "\t\t\t\t\t-Airmass limit: 2.00\n",
      "\t\t\t\t\t-Sun altitude: -17.00 deg\n",
      "\t\t\t\t\t-Moon distance: 30.00 deg\n",
      "INFO:ufeindt:computed dark times (sun_alt: -17.00) between 2019-07-25 00:00:00.000 and 2019-07-25 23:55:00.000. Total of 8.33 hours of dark\n",
      "INFO:ufeindt:source is visible for a total of 6.250 hours. Took 1.02e+00 sec\n",
      "INFO:ufeindt:Calculating visibility of source ZTF19abfzhzc (ra: 26.616914, dec: 22.297318) with uh88.\n",
      "INFO:ufeindt:computing visibility of source at (ra: 26.616914, dec: 22.297318) from observatory uh88\n",
      "INFO:ufeindt:using visibility constraints:\n",
      "\t\t\t\t\t-Time resolution: 5.00 min\n",
      "\t\t\t\t\t-Airmass limit: 2.00\n",
      "\t\t\t\t\t-Sun altitude: -17.00 deg\n",
      "\t\t\t\t\t-Moon distance: 30.00 deg\n",
      "INFO:ufeindt:computed dark times (sun_alt: -17.00) between 2019-07-25 00:00:00.000 and 2019-07-25 23:55:00.000. Total of 8.33 hours of dark\n",
      "INFO:ufeindt:Too close the the moon.\n",
      "INFO:ufeindt:source is visible for a total of 0.000 hours. Took 9.74e-01 sec\n",
      "INFO:ufeindt:Source ZTF19abfzhzc (ra: 26.616914, dec: 22.297318) not observable with uh88.\n",
      "INFO:ufeindt:Calculating visibility of source ZTF19abgawrv (ra: 18.225781, dec: 4.371099) with uh88.\n",
      "INFO:ufeindt:computing visibility of source at (ra: 18.225781, dec: 4.371099) from observatory uh88\n",
      "INFO:ufeindt:using visibility constraints:\n",
      "\t\t\t\t\t-Time resolution: 5.00 min\n",
      "\t\t\t\t\t-Airmass limit: 2.00\n",
      "\t\t\t\t\t-Sun altitude: -17.00 deg\n",
      "\t\t\t\t\t-Moon distance: 30.00 deg\n",
      "INFO:ufeindt:computed dark times (sun_alt: -17.00) between 2019-07-25 00:00:00.000 and 2019-07-25 23:55:00.000. Total of 8.33 hours of dark\n",
      "INFO:ufeindt:Too close the the moon.\n",
      "INFO:ufeindt:source is visible for a total of 0.000 hours. Took 9.87e-01 sec\n",
      "INFO:ufeindt:Source ZTF19abgawrv (ra: 18.225781, dec: 4.371099) not observable with uh88.\n",
      "INFO:ufeindt:Calculating visibility of source ZTF19abgkfed (ra: 211.008189, dec: 15.900821) with uh88.\n",
      "INFO:ufeindt:computing visibility of source at (ra: 211.008189, dec: 15.900821) from observatory uh88\n",
      "INFO:ufeindt:using visibility constraints:\n",
      "\t\t\t\t\t-Time resolution: 5.00 min\n",
      "\t\t\t\t\t-Airmass limit: 2.00\n",
      "\t\t\t\t\t-Sun altitude: -17.00 deg\n",
      "\t\t\t\t\t-Moon distance: 30.00 deg\n",
      "INFO:ufeindt:computed dark times (sun_alt: -17.00) between 2019-07-25 00:00:00.000 and 2019-07-25 23:55:00.000. Total of 8.33 hours of dark\n",
      "INFO:ufeindt:source is visible for a total of 2.333 hours. Took 9.57e-01 sec\n"
     ]
    }
   ],
   "source": [
    "for snname in targets:\n",
    "    ra = pl.sources[snname]['ra']\n",
    "    dec = pl.sources[snname]['dec']\n",
    "    logger.info('Calculating visibility of source %s (ra: %f, dec: %f) with %s.'%(snname, ra, dec, obs))\n",
    "    obs_w = observatories[obs].compute_visibility(ra, dec, trange)\n",
    "    if len(obs_w['visible']) > 0:\n",
    "        obs_windows[snname] = obs_w\n",
    "    else:\n",
    "        logger.info('Source %s (ra: %f, dec: %f) not observable with %s.'%(snname, ra, dec, obs))"
   ]
  },
  {
   "cell_type": "code",
   "execution_count": 44,
   "metadata": {},
   "outputs": [
    {
     "name": "stdout",
     "output_type": "stream",
     "text": [
      "15 of 18 targets are observable with uh88.\n"
     ]
    }
   ],
   "source": [
    "print('%i of %i targets are observable with %s.'%(len(obs_windows.keys()), len(targets), obs))"
   ]
  },
  {
   "cell_type": "code",
   "execution_count": 45,
   "metadata": {},
   "outputs": [
    {
     "name": "stdout",
     "output_type": "stream",
     "text": [
      "['ZTF19abfioty', 'ZTF19abfzhzc', 'ZTF19abgawrv']\n"
     ]
    }
   ],
   "source": [
    "print([n_ for n_ in targets if n_ not in obs_windows.keys()])"
   ]
  },
  {
   "cell_type": "code",
   "execution_count": null,
   "metadata": {},
   "outputs": [],
   "source": []
  },
  {
   "cell_type": "code",
   "execution_count": 46,
   "metadata": {},
   "outputs": [],
   "source": [
    "# Sort the SNe by time of lowest airmass etc\n",
    "snnames = [k for k in obs_windows.keys()]\n",
    "\n",
    "# Sort by end of visibility\n",
    "f_sort = lambda a: np.where(dark_time == obs_windows[a]['visible'][-1])[0][0]\n",
    "snnames = sorted(snnames, key=f_sort)\n",
    "# Sort by start of visibility\n",
    "f_sort = lambda a: np.where(dark_time == obs_windows[a]['visible'][0])[0][0]\n",
    "snnames = sorted(snnames, key=f_sort)\n",
    "# Sort by time of best airmass\n",
    "f_sort = lambda a: np.where(dark_time == obs_windows[a]['visible'][obs_windows[a]['airmass'] == min(obs_windows[a]['airmass'])])[0][0]\n",
    "snnames = sorted(snnames, key=f_sort)\n",
    "\n",
    "# Priorities need to be assigned (semi)-manually using a dictionary of the target names \n",
    "# (easy if they are sorted by prio already) \n",
    "sort_dict = {}\n",
    "for k, n_ in enumerate(targets):\n",
    "    if n_ in targets[:3]:\n",
    "        sort_dict[n_] = 0\n",
    "    elif n_ in targets[:10]:\n",
    "        sort_dict[n_] = 1\n",
    "    elif n_ in targets[:15]:\n",
    "        sort_dict[n_] = 2\n",
    "    else:\n",
    "        sort_dict[n_] = 3\n",
    "    \n",
    "f_sort = lambda a: sort_dict[a]\n",
    "snnames = sorted(snnames, key=f_sort)\n",
    "priorities = [f_sort(a) for a in snnames]"
   ]
  },
  {
   "cell_type": "code",
   "execution_count": 47,
   "metadata": {},
   "outputs": [
    {
     "data": {
      "text/plain": [
       "[0, 0, 1, 1, 1, 1, 1, 1, 1, 2, 2, 2, 2, 2, 3]"
      ]
     },
     "execution_count": 47,
     "metadata": {},
     "output_type": "execute_result"
    }
   ],
   "source": [
    "priorities"
   ]
  },
  {
   "cell_type": "code",
   "execution_count": 48,
   "metadata": {
    "scrolled": false
   },
   "outputs": [
    {
     "data": {
      "image/png": "[encoded data removed]",
      "text/plain": [
       "<Figure size 1296x432 with 2 Axes>"
      ]
     },
     "metadata": {},
     "output_type": "display_data"
    }
   ],
   "source": [
    "_ = plot_visibility(snnames, obs_windows, dark_time, priorities)"
   ]
  },
  {
   "cell_type": "code",
   "execution_count": 49,
   "metadata": {
    "scrolled": false
   },
   "outputs": [
    {
     "name": "stdout",
     "output_type": "stream",
     "text": [
      "13 SNe selected\n"
     ]
    },
    {
     "data": {
      "image/png": "[encoded data removed]",
      "text/plain": [
       "<Figure size 1296x384 with 2 Axes>"
      ]
     },
     "metadata": {},
     "output_type": "display_data"
    }
   ],
   "source": [
    "# Selected the targets by their indices\n",
    "selected = [0, 1, 4, 5, 6, 7, 8, 9, 10, 11, 12, 13, 14]\n",
    "# Set manual priorities if you wish\n",
    "prio_new = []\n",
    "print('%i SNe selected'%len(selected))\n",
    "\n",
    "snnames_selected = [snnames[k] for k in selected]\n",
    "priorities_selected = [priorities[k] for k in selected]\n",
    "\n",
    "sort_again = False\n",
    "if sort_again:\n",
    "    # sort them by time of lowest airmass again\n",
    "    f_sort = lambda a: np.where(dark_time == obs_windows[a]['visible'][obs_windows[a]['airmass'] == min(obs_windows[a]['airmass'])])[0][0]\n",
    "    if len(prio_new) < len(selected):\n",
    "        tmp = sorted(zip(snnames_selected, priorities_selected) , key=lambda a: f_sort(a[0]))\n",
    "    else:\n",
    "        tmp = sorted(zip(snnames_selected, prio_new) , key=lambda a: f_sort(a[0]))\n",
    "    snnames_selected = [a[0] for a in tmp]\n",
    "    priorities_selected = [a[1] for a in tmp]\n",
    "\n",
    "_ = plot_visibility(snnames_selected, obs_windows, dark_time, priorities_selected, labeltype='priority')\n",
    "plt.savefig('snifs/targets_snifs_%s.png'%date)"
   ]
  },
  {
   "cell_type": "code",
   "execution_count": 50,
   "metadata": {},
   "outputs": [],
   "source": [
    "if obs == 'uh88':\n",
    "    if len(prio_new) == len(selected):\n",
    "        snnames_out = [snnames[k] for k, p in sorted(zip(selected, prio_new), key=lambda a: a[1])]\n",
    "    else:\n",
    "        snnames_out = [snnames[k] for k in selected]\n",
    "    prepare_snifs_schedule(snnames_out, pl.sources, obs_windows, date, logger=logger)"
   ]
  },
  {
   "cell_type": "code",
   "execution_count": null,
   "metadata": {},
   "outputs": [],
   "source": []
  }
 ],
 "metadata": {
  "kernelspec": {
   "display_name": "Python 3",
   "language": "python",
   "name": "python3"
  },
  "language_info": {
   "codemirror_mode": {
    "name": "ipython",
    "version": 3
   },
   "file_extension": ".py",
   "mimetype": "text/x-python",
   "name": "python",
   "nbconvert_exporter": "python",
   "pygments_lexer": "ipython3",
   "version": "3.6.7"
  }
 },
 "nbformat": 4,
 "nbformat_minor": 2
}
