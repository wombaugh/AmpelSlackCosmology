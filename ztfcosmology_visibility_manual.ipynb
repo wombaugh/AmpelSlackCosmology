{
 "cells": [
  {
   "cell_type": "code",
   "execution_count": null,
   "metadata": {},
   "outputs": [],
   "source": [
    "import numpy as np\n",
    "import matplotlib.pyplot as plt\n",
    "%matplotlib inline\n",
    "\n",
    "import json\n",
    "import logging\n",
    "from marshaltools import ProgramList\n",
    "from astropy.time import Time\n",
    "import astropy.units as u\n",
    "import os\n",
    "\n",
    "from Observatory import Observatory\n",
    "from utils import get_config, plot_visibility, prepare_snifs_schedule"
   ]
  },
  {
   "cell_type": "code",
   "execution_count": null,
   "metadata": {},
   "outputs": [],
   "source": [
    "# If you are running this notebook for the first time, you will be prompted to enter your username and\n",
    "# the path to your downloads from slack. If you entered something incorrectly, you can correct this in .config\n",
    "#config = get_config()\n",
    "\n",
    "username = 'jnordin'\n",
    "date = '2021-02-14'\n",
    "obs = 'uh88'\n",
    "tshift = {'ntt': -0.25, 'uh88': 0}  # In units of days\n",
    "trange = [Time(Time(date).jd+tshift[obs],format='jd'), Time(Time(date).jd+1.+tshift[obs],format='jd')]\n",
    "\n",
    "logpath = 'logs/'\n",
    "\n",
    "# log\n",
    "logger = logging.getLogger(username)\n",
    "handler = logging.FileHandler(os.path.join(logpath, 'ztfcosmo_visibilty_%s_%s_%s.log'%(obs,date,username)))\n",
    "handler.setLevel(logging.INFO)\n",
    "formatter = logging.Formatter('%(asctime)s - %(name)s - %(levelname)s - %(message)s')\n",
    "handler.setFormatter(formatter)\n",
    "logger.addHandler(handler)"
   ]
  },
  {
   "cell_type": "code",
   "execution_count": null,
   "metadata": {},
   "outputs": [],
   "source": [
    "observatories ={\n",
    "    'uh88': Observatory('uh88', 19.8231, -155.47, 4205, sun_alt_th=-17, logger=logger),\n",
    "    'ntt': Observatory('ntt', -29.25, -70.73, 2375, sun_alt_th=-12, logger=logger), # What's the twilight limit for ePESSTO?\n",
    "}"
   ]
  },
  {
   "cell_type": "code",
   "execution_count": null,
   "metadata": {},
   "outputs": [],
   "source": [
    "# Calculate dark time and observation windows\n",
    "dark_time = observatories[obs].get_dark_times(trange)"
   ]
  },
  {
   "cell_type": "code",
   "execution_count": null,
   "metadata": {},
   "outputs": [],
   "source": [
    "# Load one of the marshal programs to get the coordinates of your targets (pick one that has all/most of them)\n",
    "pl = ProgramList('Redshift Completeness Factor')"
   ]
  },
  {
   "cell_type": "code",
   "execution_count": null,
   "metadata": {},
   "outputs": [],
   "source": [
    "# If you have a commented list of \n",
    "\n",
    "targets_raw = \"\"\"\n",
    "https://fritz.science/source/ZTF21aakilyd P1\n",
    "FBOT\n",
    "https://fritz.science/source/ZTF21aagpbkj P1\n",
    "https://fritz.science/source/ZTF18aatgdph P1\n",
    "https://fritz.science/source/ZTF21aagkwjc P1\n",
    "https://fritz.science/source/ZTF21aagmqic P4\n",
    "https://fritz.science/source/ZTF21aaffxdt P2\n",
    "https://fritz.science/source/ZTF21aagkzwn P4\n",
    "https://fritz.science/source/ZTF21aagogqe P4\n",
    "https://fritz.science/source/ZTF21aagsypp P2\n",
    "https://fritz.science/source/ZTF21aagqcnl P3\n",
    "https://fritz.science/source/ZTF21aagojfe P4\n",
    "\n",
    "https://fritz.science/source/ZTF21aagmudi P3\n",
    "https://fritz.science/source/ZTF21aahptas P2\n",
    "https://fritz.science/source/ZTF21aaixlfe P4\n",
    "extinction\n",
    "https://fritz.science/source/ZTF21aahvuvi P3\n",
    "https://fritz.science/source/ZTF21aakupth P1\n",
    "https://fritz.science/source/ZTF21aahsgan P2\n",
    "(fairly early)\n",
    "\n",
    "\n",
    "https://fritz.science/source/ZTF21aaglret P3\"\"\""
   ]
  },
  {
   "cell_type": "code",
   "execution_count": null,
   "metadata": {},
   "outputs": [],
   "source": [
    "# List your targets here\n",
    "targets_prio = [a.split('/')[-1] for a in targets_raw.split('\\n') if a.startswith('https')]\n",
    "print(targets_prio)"
   ]
  },
  {
   "cell_type": "code",
   "execution_count": null,
   "metadata": {},
   "outputs": [],
   "source": [
    "import requests\n",
    "root_token = \"enter_token\"\n",
    "base_url = \"https://fritz.science\"\n",
    "session = requests.Session()"
   ]
  },
  {
   "cell_type": "code",
   "execution_count": null,
   "metadata": {},
   "outputs": [],
   "source": [
    "# Obtaincoordinates\n",
    "targets = {}\n",
    "for t in targets_prio:\n",
    "    print(t)\n",
    "    name, prio = t.split(' ')\n",
    "    print(name)\n",
    "    reply = session.request( \"GET\", base_url+\"/api/candidates/\"+name, headers =  {\"Authorization\": f\"token {root_token}\"})\n",
    "    print(reply)\n",
    "    print(reply.json()['data']['ra'])\n",
    "    targets[name] = {'ra':reply.json()['data']['ra'], 'dec': reply.json()['data']['dec'], 'prio':prio}"
   ]
  },
  {
   "cell_type": "code",
   "execution_count": null,
   "metadata": {},
   "outputs": [],
   "source": [
    "targets"
   ]
  },
  {
   "cell_type": "code",
   "execution_count": null,
   "metadata": {},
   "outputs": [],
   "source": []
  },
  {
   "cell_type": "code",
   "execution_count": null,
   "metadata": {},
   "outputs": [],
   "source": [
    "obs_windows = {}"
   ]
  },
  {
   "cell_type": "code",
   "execution_count": null,
   "metadata": {},
   "outputs": [],
   "source": [
    "observatories[obs].min_moon_dist = 30"
   ]
  },
  {
   "cell_type": "code",
   "execution_count": null,
   "metadata": {
    "scrolled": true
   },
   "outputs": [],
   "source": [
    "for snname in targets.keys():\n",
    "    ra = targets[snname]['ra']\n",
    "    dec = targets[snname]['dec']\n",
    "    logger.info('Calculating visibility of source %s (ra: %f, dec: %f) with %s.'%(snname, ra, dec, obs))\n",
    "    obs_w = observatories[obs].compute_visibility(ra, dec, trange)\n",
    "    if len(obs_w['visible']) > 0:\n",
    "        obs_windows[snname] = obs_w\n",
    "    else:\n",
    "        logger.info('Source %s (ra: %f, dec: %f) not observable with %s.'%(snname, ra, dec, obs))"
   ]
  },
  {
   "cell_type": "code",
   "execution_count": null,
   "metadata": {},
   "outputs": [],
   "source": [
    "print('%i of %i targets are observable with %s.'%(len(obs_windows.keys()), len(targets), obs))"
   ]
  },
  {
   "cell_type": "code",
   "execution_count": null,
   "metadata": {},
   "outputs": [],
   "source": [
    "print([n_ for n_ in targets if n_ not in obs_windows.keys()])"
   ]
  },
  {
   "cell_type": "code",
   "execution_count": null,
   "metadata": {},
   "outputs": [],
   "source": []
  },
  {
   "cell_type": "code",
   "execution_count": null,
   "metadata": {},
   "outputs": [],
   "source": [
    "# Sort the SNe by time of lowest airmass etc\n",
    "snnames = [k for k in obs_windows.keys()]\n",
    "\n",
    "# Sort by end of visibility\n",
    "f_sort = lambda a: np.where(dark_time == obs_windows[a]['visible'][-1])[0][0]\n",
    "snnames = sorted(snnames, key=f_sort)\n",
    "# Sort by start of visibility\n",
    "f_sort = lambda a: np.where(dark_time == obs_windows[a]['visible'][0])[0][0]\n",
    "snnames = sorted(snnames, key=f_sort)\n",
    "# Sort by time of best airmass\n",
    "f_sort = lambda a: np.where(dark_time == obs_windows[a]['visible'][obs_windows[a]['airmass'] == min(obs_windows[a]['airmass'])])[0][0]\n",
    "snnames = sorted(snnames, key=f_sort)\n",
    "\n",
    "# Priorities need to be assigned (semi)-manually using a dictionary of the target names \n",
    "# (easy if they are sorted by prio already) \n",
    "sort_dict = {}\n",
    "for k, n_ in enumerate(targets):\n",
    "    if targets[n_]['prio']=='P1':\n",
    "        sort_dict[n_] = 0\n",
    "    elif targets[n_]['prio']=='P2':\n",
    "        sort_dict[n_] = 1\n",
    "    elif targets[n_]['prio']=='P3':\n",
    "        sort_dict[n_] = 2\n",
    "    elif targets[n_]['prio']=='P4':\n",
    "        sort_dict[n_] = 3\n",
    "    else:\n",
    "        sort_dict[n_] = 4\n",
    "    \n",
    "f_sort = lambda a: sort_dict[a]\n",
    "snnames = sorted(snnames, key=f_sort)\n",
    "priorities = [f_sort(a) for a in snnames]"
   ]
  },
  {
   "cell_type": "code",
   "execution_count": null,
   "metadata": {},
   "outputs": [],
   "source": [
    "priorities"
   ]
  },
  {
   "cell_type": "code",
   "execution_count": null,
   "metadata": {
    "scrolled": false
   },
   "outputs": [],
   "source": [
    "_ = plot_visibility(snnames, obs_windows, dark_time, priorities)"
   ]
  },
  {
   "cell_type": "code",
   "execution_count": null,
   "metadata": {
    "scrolled": false
   },
   "outputs": [],
   "source": [
    "# Selected the targets by their indices\n",
    "selected = [0, 1, 2, 3, 4, 6, 7, 8, 9, 10, 11, 12, 13, 14, 15]\n",
    "# Set manual priorities if you wish\n",
    "prio_new = []\n",
    "print('%i SNe selected'%len(selected))\n",
    "\n",
    "snnames_selected = [snnames[k] for k in selected]\n",
    "priorities_selected = [priorities[k] for k in selected]\n",
    "\n",
    "sort_again = False\n",
    "if sort_again:\n",
    "    # sort them by time of lowest airmass again\n",
    "    f_sort = lambda a: np.where(dark_time == obs_windows[a]['visible'][obs_windows[a]['airmass'] == min(obs_windows[a]['airmass'])])[0][0]\n",
    "    if len(prio_new) < len(selected):\n",
    "        tmp = sorted(zip(snnames_selected, priorities_selected) , key=lambda a: f_sort(a[0]))\n",
    "    else:\n",
    "        tmp = sorted(zip(snnames_selected, prio_new) , key=lambda a: f_sort(a[0]))\n",
    "    snnames_selected = [a[0] for a in tmp]\n",
    "    priorities_selected = [a[1] for a in tmp]\n",
    "\n",
    "_ = plot_visibility(snnames_selected, obs_windows, dark_time, priorities_selected, labeltype='priority')\n",
    "plt.savefig('snifs/targets_snifs_%s.png'%date)"
   ]
  },
  {
   "cell_type": "code",
   "execution_count": null,
   "metadata": {},
   "outputs": [],
   "source": [
    "if obs == 'uh88':\n",
    "    if len(prio_new) == len(selected):\n",
    "        snnames_out = [snnames[k] for k, p in sorted(zip(selected, prio_new), key=lambda a: a[1])]\n",
    "    else:\n",
    "        snnames_out = [snnames[k] for k in selected]\n",
    "    prepare_snifs_schedule(snnames_out, targets, obs_windows, date, logger=logger)"
   ]
  },
  {
   "cell_type": "code",
   "execution_count": null,
   "metadata": {},
   "outputs": [],
   "source": []
  }
 ],
 "metadata": {
  "kernelspec": {
   "display_name": "Python 3",
   "language": "python",
   "name": "python3"
  },
  "language_info": {
   "codemirror_mode": {
    "name": "ipython",
    "version": 3
   },
   "file_extension": ".py",
   "mimetype": "text/x-python",
   "name": "python",
   "nbconvert_exporter": "python",
   "pygments_lexer": "ipython3",
   "version": "3.8.2"
  }
 },
 "nbformat": 4,
 "nbformat_minor": 2
}
