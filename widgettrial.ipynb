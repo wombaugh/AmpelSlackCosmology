{
 "cells": [
  {
   "cell_type": "code",
   "execution_count": 1,
   "metadata": {},
   "outputs": [],
   "source": [
    "from __future__ import print_function\n",
    "from widgets.ToggleButtons(\n",
    "    options=['Slow', 'Regular', 'Fast'],\n",
    "    description='Speed:',\n",
    "    disabled=False,\n",
    "    button_style='', # 'success', 'info', 'warning', 'danger' or ''\n",
    "    tooltips=['Description of slow', 'Description of regular', 'Description of fast'],\n",
    "#     icons=['check'] * 3\n",
    ") import interact, interactive, fixed, interact_manual\n",
    "import ipywidgets as widgets"
   ]
  },
  {
   "cell_type": "code",
   "execution_count": 2,
   "metadata": {},
   "outputs": [],
   "source": [
    "def f(x):\n",
    "    return x"
   ]
  },
  {
   "cell_type": "code",
   "execution_count": 3,
   "metadata": {},
   "outputs": [
    {
     "data": {
      "application/vnd.jupyter.widget-view+json": {
       "model_id": "0ccd9b86a86c4e199e359ff54bcfe3a8",
       "version_major": 2,
       "version_minor": 0
      },
      "text/plain": [
       "interactive(children=(IntSlider(value=10, description='x', max=30, min=-10), Output()), _dom_classes=('widget-…"
      ]
     },
     "metadata": {},
     "output_type": "display_data"
    }
   ],
   "source": [
    "interact(f, x=10);"
   ]
  },
  {
   "cell_type": "code",
   "execution_count": 39,
   "metadata": {},
   "outputs": [],
   "source": [
    "togg = widgets.ToggleButtons(\n",
    "    options=['Slow', 'Regular', 'Fast'],\n",
    "    description='Speed:',\n",
    "    disabled=False,\n",
    "    button_style='', # 'success', 'info', 'warning', 'danger' or ''\n",
    "    tooltips=['Description of slow', 'Description of regular', 'Description of fast'],\n",
    "#     icons=['check'] * 3\n",
    ")\n"
   ]
  },
  {
   "cell_type": "code",
   "execution_count": 10,
   "metadata": {},
   "outputs": [
    {
     "data": {
      "application/vnd.jupyter.widget-view+json": {
       "model_id": "84d308d6527b449fa7dd6270c03826df",
       "version_major": 2,
       "version_minor": 0
      },
      "text/plain": [
       "Button(description='hepp', style=ButtonStyle())"
      ]
     },
     "metadata": {},
     "output_type": "display_data"
    },
    {
     "name": "stdout",
     "output_type": "stream",
     "text": [
      "zeyy Button(description='hepp', style=ButtonStyle())\n"
     ]
    }
   ],
   "source": [
    "butten = widgets.Button(description='hepp')\n",
    "display(butten)\n",
    "\n",
    "def on_botton(b):\n",
    "    print(\"zeyy %s\"%(b))\n",
    "    \n",
    "butten.on_click(on_botton)"
   ]
  },
  {
   "cell_type": "code",
   "execution_count": 40,
   "metadata": {},
   "outputs": [
    {
     "data": {
      "application/vnd.jupyter.widget-view+json": {
       "model_id": "96755fca8a184029a26e797a1ec31b90",
       "version_major": 2,
       "version_minor": 0
      },
      "text/plain": [
       "ToggleButtons(description='Speed:', options=('Slow', 'Regular', 'Fast'), tooltips=('Description of slow', 'Des…"
      ]
     },
     "metadata": {},
     "output_type": "display_data"
    },
    {
     "ename": "AttributeError",
     "evalue": "'ToggleButtons' object has no attribute 'on_click'",
     "output_type": "error",
     "traceback": [
      "\u001b[0;31m---------------------------------------------------------------------------\u001b[0m",
      "\u001b[0;31mAttributeError\u001b[0m                            Traceback (most recent call last)",
      "\u001b[0;32m<ipython-input-40-b1a1fec39530>\u001b[0m in \u001b[0;36m<module>\u001b[0;34m()\u001b[0m\n\u001b[1;32m      1\u001b[0m \u001b[0mdisplay\u001b[0m\u001b[0;34m(\u001b[0m\u001b[0mtogg\u001b[0m\u001b[0;34m)\u001b[0m\u001b[0;34m\u001b[0m\u001b[0m\n\u001b[0;32m----> 2\u001b[0;31m \u001b[0mtogg\u001b[0m\u001b[0;34m.\u001b[0m\u001b[0mon_click\u001b[0m\u001b[0;34m(\u001b[0m\u001b[0mon_botton\u001b[0m\u001b[0;34m)\u001b[0m\u001b[0;34m\u001b[0m\u001b[0m\n\u001b[0m",
      "\u001b[0;31mAttributeError\u001b[0m: 'ToggleButtons' object has no attribute 'on_click'"
     ]
    }
   ],
   "source": [
    "display(togg)\n",
    "togg.on_click(on_botton)"
   ]
  },
  {
   "cell_type": "code",
   "execution_count": 47,
   "metadata": {},
   "outputs": [],
   "source": [
    "toggle = widgets.ToggleButton(description='click me')\n",
    "\n",
    "def on_click(change):\n",
    "#    print(change)\n",
    "    print(change['old'])\n",
    "    print(change['type'])\n",
    "    print(change['new'])\n",
    "\n",
    "togg.observe(on_click, 'value')"
   ]
  },
  {
   "cell_type": "code",
   "execution_count": 34,
   "metadata": {},
   "outputs": [],
   "source": [
    "# Interact, other option\n",
    "#@interact\n",
    "#def clicked(a=ToggleButton()):\n",
    "#    print(a)"
   ]
  },
  {
   "cell_type": "code",
   "execution_count": 48,
   "metadata": {},
   "outputs": [
    {
     "data": {
      "application/vnd.jupyter.widget-view+json": {
       "model_id": "96755fca8a184029a26e797a1ec31b90",
       "version_major": 2,
       "version_minor": 0
      },
      "text/plain": [
       "ToggleButtons(description='Speed:', index=1, options=('Slow', 'Regular', 'Fast'), tooltips=('Description of sl…"
      ]
     },
     "metadata": {},
     "output_type": "display_data"
    },
    {
     "name": "stdout",
     "output_type": "stream",
     "text": [
      "Slow\n",
      "{'name': 'value', 'old': 'Regular', 'new': 'Slow', 'owner': ToggleButtons(description='Speed:', options=('Slow', 'Regular', 'Fast'), tooltips=('Description of slow', 'Description of regular', 'Description of fast'), value='Slow'), 'type': 'change'}\n",
      "Slow\n",
      "{'name': 'value', 'old': 'Regular', 'new': 'Slow', 'owner': ToggleButtons(description='Speed:', options=('Slow', 'Regular', 'Fast'), tooltips=('Description of slow', 'Description of regular', 'Description of fast'), value='Slow'), 'type': 'change'}\n",
      "Regular\n",
      "change\n",
      "Slow\n",
      "Regular\n",
      "change\n",
      "Slow\n",
      "Regular\n",
      "{'name': 'value', 'old': 'Slow', 'new': 'Regular', 'owner': ToggleButtons(description='Speed:', index=1, options=('Slow', 'Regular', 'Fast'), tooltips=('Description of slow', 'Description of regular', 'Description of fast'), value='Regular'), 'type': 'change'}\n",
      "Regular\n",
      "{'name': 'value', 'old': 'Slow', 'new': 'Regular', 'owner': ToggleButtons(description='Speed:', index=1, options=('Slow', 'Regular', 'Fast'), tooltips=('Description of slow', 'Description of regular', 'Description of fast'), value='Regular'), 'type': 'change'}\n",
      "Slow\n",
      "change\n",
      "Regular\n",
      "Slow\n",
      "change\n",
      "Regular\n",
      "Fast\n",
      "{'name': 'value', 'old': 'Regular', 'new': 'Fast', 'owner': ToggleButtons(description='Speed:', index=2, options=('Slow', 'Regular', 'Fast'), tooltips=('Description of slow', 'Description of regular', 'Description of fast'), value='Fast'), 'type': 'change'}\n",
      "Fast\n",
      "{'name': 'value', 'old': 'Regular', 'new': 'Fast', 'owner': ToggleButtons(description='Speed:', index=2, options=('Slow', 'Regular', 'Fast'), tooltips=('Description of slow', 'Description of regular', 'Description of fast'), value='Fast'), 'type': 'change'}\n",
      "Regular\n",
      "change\n",
      "Fast\n",
      "Regular\n",
      "change\n",
      "Fast\n"
     ]
    }
   ],
   "source": [
    "display(togg)"
   ]
  },
  {
   "cell_type": "code",
   "execution_count": null,
   "metadata": {},
   "outputs": [],
   "source": []
  }
 ],
 "metadata": {
  "kernelspec": {
   "display_name": "Python 3",
   "language": "python",
   "name": "python3"
  },
  "language_info": {
   "codemirror_mode": {
    "name": "ipython",
    "version": 3
   },
   "file_extension": ".py",
   "mimetype": "text/x-python",
   "name": "python",
   "nbconvert_exporter": "python",
   "pygments_lexer": "ipython3",
   "version": "3.6.3"
  }
 },
 "nbformat": 4,
 "nbformat_minor": 2
}
