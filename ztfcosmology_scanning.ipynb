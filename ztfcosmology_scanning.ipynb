{
 "cells": [
  {
   "cell_type": "code",
   "execution_count": 1,
   "metadata": {},
   "outputs": [
    {
     "name": "stderr",
     "output_type": "stream",
     "text": [
      "DEBUG:matplotlib.backends:backend module://ipykernel.pylab.backend_inline version unknown\n"
     ]
    }
   ],
   "source": [
    "#%matplotlib inline\n",
    "import numpy as np\n",
    "import pandas as pd\n",
    "import matplotlib.pyplot as plt\n",
    "import marshaltools\n",
    "from ast import literal_eval\n",
    "import logging\n",
    "from astropy.time import Time\n",
    "from ipywidgets import interactive\n",
    "import ipywidgets as widgets\n",
    "import re, os\n",
    "import requests\n",
    "import sncosmo\n",
    "import json"
   ]
  },
  {
   "cell_type": "code",
   "execution_count": 4,
   "metadata": {},
   "outputs": [],
   "source": [
    "username = 'jnordin'\n",
    "date = '2018-09-23'\n",
    "maxz = 0.1\n",
    "minpeakmag = 19.5   # A candidate need to have at least one detection brigther than this\n",
    "mindet = 5          # A candidate need to have at least this many detections\n",
    "maxage = 30         # If a detection has an age older than this, skip (stars,age). \n",
    "                    # Q: How can histories be older than 30days?\n",
    "minfilters = 2      # Reported detections in at least this many filters\n",
    "minrefframes = 1    # Cut away alert information where this is not positive (how can it not be, but ok...)\n",
    "\n",
    "marshal_saveprogs = 'AMPEL'   # Candidates already in this program will not be scanned. Reg exp string, eg 'AMPEL|RCF'\n",
    "marshal_savid = 42\n",
    "logpath = '/home/jnordin/local/github/AmpelSlackCosmology/'\n",
    "slackfilepath = '/home/jnordin/Downloads/'\n",
    "\n",
    "# Get the other set of marshal source ids. Lets not talk about, took too much of my life alrady\n",
    "with open('sncandid_soup.json', 'r') as fp:\n",
    "    soupids = json.load(open('sncandid_soup.json', 'r'))\n",
    "\n",
    "# log. This should be saved and pushed to github. If everyone does this we should have the full scanning\n",
    "# history for this run\n",
    "logger = logging.getLogger(username)\n",
    "handler = logging.FileHandler(logpath+'ztfcosmo_%s_%s.log'%(date,username))\n",
    "handler.setLevel(logging.INFO)\n",
    "formatter = logging.Formatter('%(asctime)s - %(name)s - %(levelname)s - %(message)s')\n",
    "handler.setFormatter(formatter)\n",
    "logger.addHandler(handler)\n",
    "\n"
   ]
  },
  {
   "cell_type": "code",
   "execution_count": 5,
   "metadata": {},
   "outputs": [
    {
     "name": "stderr",
     "output_type": "stream",
     "text": [
      "INFO:jnordin:Cutting down alert info to subset with nrefframes keyword\n"
     ]
    }
   ],
   "source": [
    "df_sum = pd.read_csv(slackfilepath+\"Summary_%s.csv\"%(date))\n",
    "df_phot = pd.read_csv(slackfilepath+\"Photometry_%s.csv\"%(date))\n",
    "\n",
    "if minrefframes>0:\n",
    "    df_phot = df_phot[df_phot[\"nframesref\"]>minrefframes]\n",
    "    logger.info(\"Cutting down alert info to subset with nrefframes keyword\")"
   ]
  },
  {
   "cell_type": "code",
   "execution_count": 6,
   "metadata": {},
   "outputs": [
    {
     "name": "stderr",
     "output_type": "stream",
     "text": [
      "INFO:jnordin:There were 183 candidates reported 2018-09-23\n"
     ]
    }
   ],
   "source": [
    "logger.info(\"There were %s candidates reported %s\"%(df_sum.shape[0],date))"
   ]
  },
  {
   "cell_type": "code",
   "execution_count": 7,
   "metadata": {},
   "outputs": [
    {
     "name": "stderr",
     "output_type": "stream",
     "text": [
      "INFO:jnordin:Out of these 47 already have Marshal type and will be skipped.\n"
     ]
    }
   ],
   "source": [
    "# Find already classified SNe\n",
    "i_untyped = (df_sum[\"T2-classification\"]== \"None\") | (df_sum[\"T2-classification\"].isnull())\n",
    "df_classified = df_sum[ ~i_untyped]\n",
    "df_tmp = df_sum[ i_untyped]\n",
    "logger.info(\"Out of these %s already have Marshal type and will be skipped.\"%len(df_classified))\n"
   ]
  },
  {
   "cell_type": "code",
   "execution_count": 8,
   "metadata": {},
   "outputs": [
    {
     "name": "stderr",
     "output_type": "stream",
     "text": [
      "INFO:jnordin:3 have a catalog z larger than 0.1  and will be skipped.\n"
     ]
    }
   ],
   "source": [
    "# Are there any remaining candidates with spectroscopic redshifts above limit\n",
    "i_highz = ( (df_tmp['T2-NEDz_z']>maxz) | (df_tmp['T2-milliquas_redshift']>maxz)  | (df_tmp['T2-SDSS_spec_z']>maxz) ) \n",
    "df_classified = df_tmp[ i_highz]\n",
    "df_tmp2 = df_tmp[~i_highz]\n",
    "logger.info(\"%s have a catalog z larger than %s  and will be skipped.\"%(np.sum(i_highz),maxz))\n"
   ]
  },
  {
   "cell_type": "code",
   "execution_count": 9,
   "metadata": {},
   "outputs": [
    {
     "name": "stderr",
     "output_type": "stream",
     "text": [
      "INFO:jnordin:Detected 9 already saved candidates and 124 new\n"
     ]
    }
   ],
   "source": [
    "# Which are already saved in the marshal?\n",
    "i_saved = df_tmp2[\"T2-programs\"].str.contains(marshal_saveprogs, regex=True, na=False, flags=re.IGNORECASE)\n",
    "df_saved = df_tmp2[i_saved]\n",
    "df_candidates = df_tmp2[~i_saved]\n",
    "logger.info(\"Detected %s already saved candidates and %s new\"%(len(df_saved),len(df_candidates)))"
   ]
  },
  {
   "cell_type": "code",
   "execution_count": null,
   "metadata": {},
   "outputs": [],
   "source": []
  },
  {
   "cell_type": "code",
   "execution_count": null,
   "metadata": {},
   "outputs": [],
   "source": []
  },
  {
   "cell_type": "code",
   "execution_count": 10,
   "metadata": {},
   "outputs": [
    {
     "name": "stderr",
     "output_type": "stream",
     "text": [
      "INFO:jnordin:2018-09-23: Skipping ZTF18abwusgl, less than 5 detections\n",
      "INFO:jnordin:2018-09-23: Skipping ZTF18abyenql, less than 5 detections\n",
      "INFO:jnordin:2018-09-23: Skipping ZTF18ablwolq, never reached limit 19.5\n",
      "INFO:jnordin:2018-09-23: Skipping ZTF18aamhnti, only 1 filters\n",
      "INFO:jnordin:2018-09-23: Skipping ZTF18abhpdpk, never reached limit 19.5\n",
      "INFO:jnordin:2018-09-23: Skipping ZTF18abvvyro, less than 5 detections\n",
      "INFO:jnordin:2018-09-23: Skipping ZTF18abehrdw, less than 5 detections\n",
      "INFO:jnordin:2018-09-23: Skipping ZTF18absmsbm, never reached limit 19.5\n",
      "INFO:jnordin:2018-09-23: Skipping ZTF18aaodyze, less than 5 detections\n",
      "INFO:jnordin:2018-09-23: Skipping ZTF18abhfurc, less than 5 detections\n",
      "INFO:jnordin:2018-09-23: Skipping ZTF18abtrktm, less than 5 detections\n",
      "INFO:jnordin:2018-09-23: Skipping ZTF18abtcdfv, never reached limit 19.5\n",
      "INFO:jnordin:2018-09-23: Skipping ZTF18abwxhjo, less than 5 detections\n",
      "INFO:jnordin:2018-09-23: Skipping ZTF18abyfxdr, less than 5 detections\n",
      "INFO:jnordin:2018-09-23: Skipping ZTF18abwlpzf, less than 5 detections\n",
      "INFO:jnordin:2018-09-23: Skipping ZTF18aatycgd, less than 5 detections\n",
      "INFO:jnordin:2018-09-23: Skipping ZTF18abkmfaj, never reached limit 19.5\n",
      "INFO:jnordin:2018-09-23: Skipping ZTF18abgzylm, never reached limit 19.5\n",
      "INFO:jnordin:2018-09-23: Skipping ZTF18aarpdcg, never reached limit 19.5\n",
      "INFO:jnordin:2018-09-23: Skipping ZTF18abvvkoh, less than 5 detections\n",
      "INFO:jnordin:2018-09-23: Skipping ZTF18abtkzfi, less than 5 detections\n",
      "INFO:jnordin:2018-09-23: Skipping ZTF18aakvxqj, less than 5 detections\n",
      "INFO:jnordin:2018-09-23: Skipping ZTF18abtnwpa, never reached limit 19.5\n"
     ]
    },
    {
     "name": "stdout",
     "output_type": "stream",
     "text": [
      "ZTF18abwusgl\n",
      "2018-09-23: Skipping ZTF18abwusgl, less than 5 detections\n",
      "ZTF18abvnwzz\n",
      "ZTF18abslxpd\n",
      "ZTF18abyenql\n",
      "2018-09-23: Skipping ZTF18abyenql, less than 5 detections\n",
      "ZTF18aaupjtd\n",
      "ZTF18abecggb\n",
      "ZTF18ablwolq\n",
      "2018-09-23: Skipping ZTF18ablwolq, never reached limit 19.5\n",
      "ZTF18aayaphx\n",
      "ZTF18aamhnti\n",
      "2018-09-23: Skipping ZTF18aamhnti, only 1 filters\n",
      "ZTF18abnvotk\n",
      "ZTF18abqboud\n",
      "ZTF18abvhasp\n",
      "ZTF18abhpdpk\n",
      "2018-09-23: Skipping ZTF18abhpdpk, never reached limit 19.5\n",
      "ZTF18abvvyro\n",
      "2018-09-23: Skipping ZTF18abvvyro, less than 5 detections\n",
      "ZTF18abehrdw\n",
      "2018-09-23: Skipping ZTF18abehrdw, less than 5 detections\n",
      "ZTF18absmsbm\n",
      "2018-09-23: Skipping ZTF18absmsbm, never reached limit 19.5\n",
      "ZTF18aaodyze\n",
      "2018-09-23: Skipping ZTF18aaodyze, less than 5 detections\n",
      "ZTF18abhfurc\n",
      "2018-09-23: Skipping ZTF18abhfurc, less than 5 detections\n",
      "ZTF18abtrktm\n",
      "2018-09-23: Skipping ZTF18abtrktm, less than 5 detections\n",
      "ZTF18abtcdfv\n",
      "2018-09-23: Skipping ZTF18abtcdfv, never reached limit 19.5\n",
      "ZTF18aawlhkh\n",
      "ZTF18abwxhjo\n",
      "2018-09-23: Skipping ZTF18abwxhjo, less than 5 detections\n",
      "ZTF18abyfxdr\n",
      "2018-09-23: Skipping ZTF18abyfxdr, less than 5 detections\n",
      "ZTF18abgrlpv\n",
      "ZTF18aavoyoq\n",
      "ZTF18abflqxq\n",
      "ZTF18abucvbf\n",
      "ZTF18abwlpzf\n",
      "2018-09-23: Skipping ZTF18abwlpzf, less than 5 detections\n",
      "ZTF18aatycgd\n",
      "2018-09-23: Skipping ZTF18aatycgd, less than 5 detections\n",
      "ZTF18aampjcm\n",
      "ZTF18abkmfaj\n",
      "2018-09-23: Skipping ZTF18abkmfaj, never reached limit 19.5\n",
      "ZTF18abgzylm\n",
      "2018-09-23: Skipping ZTF18abgzylm, never reached limit 19.5\n",
      "ZTF18abmiqbv\n",
      "ZTF18abwqbxc\n",
      "ZTF18aarpdcg\n",
      "2018-09-23: Skipping ZTF18aarpdcg, never reached limit 19.5\n",
      "ZTF18abvvkoh\n",
      "2018-09-23: Skipping ZTF18abvvkoh, less than 5 detections\n",
      "ZTF18abtkzfi\n",
      "2018-09-23: Skipping ZTF18abtkzfi, less than 5 detections\n",
      "ZTF18absmogv\n",
      "ZTF18aakvxqj\n",
      "2018-09-23: Skipping ZTF18aakvxqj, less than 5 detections\n",
      "ZTF18abtnwpa\n",
      "2018-09-23: Skipping ZTF18abtnwpa, never reached limit 19.5\n",
      "ZTF17aaaadqv\n",
      "ZTF18absnsqx\n",
      "ZTF18absloer\n",
      "ZTF18abxishs"
     ]
    },
    {
     "name": "stderr",
     "output_type": "stream",
     "text": [
      "INFO:jnordin:2018-09-23: Skipping ZTF18abxishs, less than 5 detections\n",
      "INFO:jnordin:2018-09-23: Skipping ZTF18aazydub, never reached limit 19.5\n",
      "INFO:jnordin:2018-09-23: Skipping ZTF18abmsmnc, only 1 filters\n",
      "INFO:jnordin:2018-09-23: Skipping ZTF18abxfcql, less than 5 detections\n",
      "INFO:jnordin:2018-09-23: Skipping ZTF18abytyjb, never reached limit 19.5\n",
      "INFO:jnordin:2018-09-23: Skipping ZTF18abvwpnt, less than 5 detections\n",
      "INFO:jnordin:2018-09-23: Skipping ZTF18abtzisn, never reached limit 19.5\n",
      "INFO:jnordin:2018-09-23: Skipping ZTF18abmsngt, only 1 filters\n",
      "INFO:jnordin:2018-09-23: Skipping ZTF18abwdcdv, less than 5 detections\n",
      "INFO:jnordin:2018-09-23: Skipping ZTF18aboncwu, never reached limit 19.5\n",
      "INFO:jnordin:2018-09-23: Skipping ZTF18aburkuo, never reached limit 19.5\n",
      "INFO:jnordin:2018-09-23: Skipping ZTF18abvvmdf, less than 5 detections\n",
      "INFO:jnordin:2018-09-23: Skipping ZTF18abyteqb, less than 5 detections\n",
      "INFO:jnordin:2018-09-23: Skipping ZTF17aacdtdm, less than 5 detections\n",
      "INFO:jnordin:2018-09-23: Skipping ZTF18abtobub, never reached limit 19.5\n",
      "INFO:jnordin:2018-09-23: Skipping ZTF18abxikgn, less than 5 detections\n",
      "INFO:jnordin:2018-09-23: Skipping ZTF18abwugyc, less than 5 detections\n",
      "INFO:jnordin:2018-09-23: Skipping ZTF18abydspi, less than 5 detections\n",
      "INFO:jnordin:2018-09-23: Skipping ZTF18aauedot, never reached limit 19.5\n"
     ]
    },
    {
     "name": "stdout",
     "output_type": "stream",
     "text": [
      "\n",
      "2018-09-23: Skipping ZTF18abxishs, less than 5 detections\n",
      "ZTF18abwcgyo\n",
      "ZTF18abslxhz\n",
      "ZTF18aazydub\n",
      "2018-09-23: Skipping ZTF18aazydub, never reached limit 19.5\n",
      "ZTF18abmsmnc\n",
      "2018-09-23: Skipping ZTF18abmsmnc, only 1 filters\n",
      "ZTF18abxfcql\n",
      "2018-09-23: Skipping ZTF18abxfcql, less than 5 detections\n",
      "ZTF18abytyjb\n",
      "2018-09-23: Skipping ZTF18abytyjb, never reached limit 19.5\n",
      "ZTF18abvwpnt\n",
      "2018-09-23: Skipping ZTF18abvwpnt, less than 5 detections\n",
      "ZTF18abtzisn\n",
      "2018-09-23: Skipping ZTF18abtzisn, never reached limit 19.5\n",
      "ZTF18abnvnqb\n",
      "ZTF18abmsngt\n",
      "2018-09-23: Skipping ZTF18abmsngt, only 1 filters\n",
      "ZTF17aabihdn\n",
      "ZTF18aampiwv\n",
      "ZTF18abrwrch\n",
      "ZTF18abwdcdv\n",
      "2018-09-23: Skipping ZTF18abwdcdv, less than 5 detections\n",
      "ZTF18aboncwu\n",
      "2018-09-23: Skipping ZTF18aboncwu, never reached limit 19.5\n",
      "ZTF18aburkuo\n",
      "2018-09-23: Skipping ZTF18aburkuo, never reached limit 19.5\n",
      "ZTF18abnvirx\n",
      "ZTF18abvxdou\n",
      "ZTF18ablllyw\n",
      "ZTF18abmmszc\n",
      "ZTF18abwntpz\n",
      "ZTF18abbgdto\n",
      "ZTF18aagteoy\n",
      "ZTF18abptskn\n",
      "ZTF18abvvmdf\n",
      "2018-09-23: Skipping ZTF18abvvmdf, less than 5 detections\n",
      "ZTF18abyteqb\n",
      "2018-09-23: Skipping ZTF18abyteqb, less than 5 detections\n",
      "ZTF17aacdtdm\n",
      "2018-09-23: Skipping ZTF17aacdtdm, less than 5 detections\n",
      "ZTF18aakgsmi\n",
      "ZTF18abtobub\n",
      "2018-09-23: Skipping ZTF18abtobub, never reached limit 19.5\n",
      "ZTF18abxikgn\n",
      "2018-09-23: Skipping ZTF18abxikgn, less than 5 detections\n",
      "ZTF18abdkkwa\n",
      "ZTF18abwugyc\n",
      "2018-09-23: Skipping ZTF18abwugyc, less than 5 detections\n",
      "ZTF18abydspi\n",
      "2018-09-23: Skipping ZTF18abydspi, less than 5 detections\n",
      "ZTF18aauedot\n",
      "2018-09-23: Skipping ZTF18aauedot, never reached limit 19.5\n",
      "ZTF18abmsmtt\n"
     ]
    },
    {
     "name": "stderr",
     "output_type": "stream",
     "text": [
      "INFO:jnordin:2018-09-23: Skipping ZTF18abmsmtt, only 1 filters\n",
      "INFO:jnordin:2018-09-23: Skipping ZTF18abucoyd, only 1 filters\n",
      "INFO:jnordin:2018-09-23: Skipping ZTF18abuxpun, less than 5 detections\n",
      "INFO:jnordin:2018-09-23: Skipping ZTF18aaowwgf, less than 5 detections\n",
      "INFO:jnordin:2018-09-23: Skipping ZTF18aaakpmq, less than 5 detections\n",
      "INFO:jnordin:2018-09-23: Skipping ZTF18abwlsoi, less than 5 detections\n",
      "INFO:jnordin:2018-09-23: Skipping ZTF18abyckee, less than 5 detections\n",
      "INFO:jnordin:2018-09-23: Skipping ZTF18abxazsz, never reached limit 19.5\n",
      "INFO:jnordin:2018-09-23: Skipping ZTF18abyckme, less than 5 detections\n",
      "INFO:jnordin:2018-09-23: Skipping ZTF18absnmdd, never reached limit 19.5\n",
      "INFO:jnordin:2018-09-23: Skipping ZTF18abytfxc, never reached limit 19.5\n",
      "INFO:jnordin:2018-09-23: Skipping ZTF18abxqzih, less than 5 detections\n",
      "INFO:jnordin:2018-09-23: Skipping ZTF18abfkzjd, less than 5 detections\n",
      "INFO:jnordin:2018-09-23: Skipping ZTF18abvxoty, less than 5 detections\n",
      "INFO:jnordin:2018-09-23: Skipping ZTF18abuzxek, less than 5 detections\n",
      "INFO:jnordin:2018-09-23: Skipping ZTF18abyjhpd, never reached limit 19.5\n",
      "INFO:jnordin:2018-09-23: Skipping ZTF18abygdtf, less than 5 detections\n",
      "INFO:jnordin:2018-09-23: Skipping ZTF18abfxphb, never reached limit 19.5\n",
      "INFO:jnordin:2018-09-23: Skipping ZTF18abvcrsv, only 1 filters\n",
      "INFO:jnordin:2018-09-23: Skipping ZTF18abdklhh, never reached limit 19.5\n",
      "INFO:jnordin:2018-09-23: Skipping ZTF18aawurif, less than 5 detections\n",
      "INFO:jnordin:2018-09-23: Skipping ZTF18abuqffh, never reached limit 19.5\n",
      "INFO:jnordin:2018-09-23: Skipping ZTF18abvvokw, never reached limit 19.5\n",
      "INFO:jnordin:2018-09-23: Skipping ZTF18aanvpol, less than 5 detections\n",
      "INFO:jnordin:2018-09-23: Skipping ZTF18abvxbfh, only 1 filters\n",
      "INFO:jnordin:2018-09-23: Skipping ZTF18abitwua, never reached limit 19.5\n"
     ]
    },
    {
     "name": "stdout",
     "output_type": "stream",
     "text": [
      "2018-09-23: Skipping ZTF18abmsmtt, only 1 filters\n",
      "ZTF18abucoyd\n",
      "2018-09-23: Skipping ZTF18abucoyd, only 1 filters\n",
      "ZTF18abuxpun\n",
      "2018-09-23: Skipping ZTF18abuxpun, less than 5 detections\n",
      "ZTF18aaowwgf\n",
      "2018-09-23: Skipping ZTF18aaowwgf, less than 5 detections\n",
      "ZTF18aaakpmq\n",
      "2018-09-23: Skipping ZTF18aaakpmq, less than 5 detections\n",
      "ZTF18aaqzomm\n",
      "ZTF18abwlsoi\n",
      "2018-09-23: Skipping ZTF18abwlsoi, less than 5 detections\n",
      "ZTF18abyckee\n",
      "2018-09-23: Skipping ZTF18abyckee, less than 5 detections\n",
      "ZTF18abwfmot\n",
      "ZTF18abxazsz\n",
      "2018-09-23: Skipping ZTF18abxazsz, never reached limit 19.5\n",
      "ZTF18abyckme\n",
      "2018-09-23: Skipping ZTF18abyckme, less than 5 detections\n",
      "ZTF18absnmdd\n",
      "2018-09-23: Skipping ZTF18absnmdd, never reached limit 19.5\n",
      "ZTF18abytfxc\n",
      "2018-09-23: Skipping ZTF18abytfxc, never reached limit 19.5\n",
      "ZTF18abxqzih\n",
      "2018-09-23: Skipping ZTF18abxqzih, less than 5 detections\n",
      "ZTF18abfkzjd\n",
      "2018-09-23: Skipping ZTF18abfkzjd, less than 5 detections\n",
      "ZTF18aaxudip\n",
      "ZTF18abvxoty\n",
      "2018-09-23: Skipping ZTF18abvxoty, less than 5 detections\n",
      "ZTF18abuzxek\n",
      "2018-09-23: Skipping ZTF18abuzxek, less than 5 detections\n",
      "ZTF18abujamb\n",
      "ZTF18abvlkyj\n",
      "ZTF18abwktmm\n",
      "ZTF18abyjhpd\n",
      "2018-09-23: Skipping ZTF18abyjhpd, never reached limit 19.5\n",
      "ZTF18abygdtf\n",
      "2018-09-23: Skipping ZTF18abygdtf, less than 5 detections\n",
      "ZTF18abfxphb\n",
      "2018-09-23: Skipping ZTF18abfxphb, never reached limit 19.5\n",
      "ZTF18abvnqqk\n",
      "ZTF18abtogdl\n",
      "ZTF18abvcrsv\n",
      "2018-09-23: Skipping ZTF18abvcrsv, only 1 filters\n",
      "ZTF18abtghbi\n",
      "ZTF18abdklhh\n",
      "2018-09-23: Skipping ZTF18abdklhh, never reached limit 19.5\n",
      "ZTF18aawurif\n",
      "2018-09-23: Skipping ZTF18aawurif, less than 5 detections\n",
      "ZTF18abuqffh\n",
      "2018-09-23: Skipping ZTF18abuqffh, never reached limit 19.5\n",
      "ZTF18abvvokw\n",
      "2018-09-23: Skipping ZTF18abvvokw, never reached limit 19.5\n",
      "ZTF18aanvpol\n",
      "2018-09-23: Skipping ZTF18aanvpol, less than 5 detections\n",
      "ZTF18abvxbfh\n",
      "2018-09-23: Skipping ZTF18abvxbfh, only 1 filters\n",
      "ZTF18abitwua\n",
      "2018-09-23: Skipping ZTF18abitwua, never reached limit 19.5\n",
      "ZTF18abukmty\n",
      "ZTF18abbmenz\n"
     ]
    },
    {
     "name": "stderr",
     "output_type": "stream",
     "text": [
      "INFO:jnordin:2018-09-23: Skipping ZTF18abwtops, never reached limit 19.5\n",
      "INFO:jnordin:2018-09-23: Skipping ZTF18abpfbri, never reached limit 19.5\n",
      "INFO:jnordin:2018-09-23: Skipping ZTF18abwklar, less than 5 detections\n",
      "INFO:jnordin:2018-09-23: Skipping ZTF18abytwah, never reached limit 19.5\n",
      "INFO:jnordin:2018-09-23: Skipping ZTF18abcleke, less than 5 detections\n",
      "INFO:jnordin:2018-09-23: Skipping ZTF18abuakku, never reached limit 19.5\n"
     ]
    },
    {
     "name": "stdout",
     "output_type": "stream",
     "text": [
      "ZTF18abwtops\n",
      "2018-09-23: Skipping ZTF18abwtops, never reached limit 19.5\n",
      "ZTF18abpfbri\n",
      "2018-09-23: Skipping ZTF18abpfbri, never reached limit 19.5\n",
      "ZTF18abwklar\n",
      "2018-09-23: Skipping ZTF18abwklar, less than 5 detections\n",
      "ZTF18abytwah\n",
      "2018-09-23: Skipping ZTF18abytwah, never reached limit 19.5\n",
      "ZTF18abcleke\n",
      "2018-09-23: Skipping ZTF18abcleke, less than 5 detections\n",
      "ZTF18abgqvwv\n",
      "ZTF18abubmjo\n",
      "ZTF18abuakku\n",
      "2018-09-23: Skipping ZTF18abuakku, never reached limit 19.5\n",
      "ZTF18abwdhgw\n",
      "Left with 50 candidates to scan\n"
     ]
    }
   ],
   "source": [
    "# Examine new candidates, build a list of the onces fulfilling basic criteria\n",
    "sncandidates = []\n",
    "for sne in df_candidates.iterrows():\n",
    "    print( sne[1][\"ztf_name\"] )\n",
    "    phot = df_phot[ df_phot[\"ztf_name\"]==sne[1][\"ztf_name\"] ]\n",
    "    filters = phot[\"fid\"]\n",
    "    jd = phot[\"jd\"]\n",
    "    magpsf = phot['magpsf']\n",
    "    if np.min(magpsf)> minpeakmag:\n",
    "        msg = \"%s: Skipping %s, never reached limit %s\"%(date,sne[1][\"ztf_name\"],minpeakmag)\n",
    "        logger.info(msg)\n",
    "        print(msg)\n",
    "        continue\n",
    "    if len(magpsf)< mindet:\n",
    "        msg = \"%s: Skipping %s, less than %s detections\"%(date,sne[1][\"ztf_name\"],mindet)\n",
    "        logger.info(msg)\n",
    "        print(msg)\n",
    "        continue\n",
    "\n",
    "    age = np.max(jd)-np.min(jd)\n",
    "    if age>maxage:\n",
    "        msg = \"%s: Skipping %s, age %s longer than limit %s\"%(date,sne[1][\"ztf_name\"],age,maxage)\n",
    "        logger.info(msg)\n",
    "        print(msg)\n",
    "        continue\n",
    "        \n",
    "    phot = df_phot[ df_phot[\"ztf_name\"]==sne[1][\"ztf_name\"] ]\n",
    "    if len(np.unique(phot[\"fid\"]))<minfilters:\n",
    "        msg = \"%s: Skipping %s, only %s filters\"%(date,sne[1][\"ztf_name\"],len(np.unique(phot[\"fid\"])))\n",
    "        logger.info(msg)\n",
    "        print(msg)\n",
    "        continue\n",
    "        \n",
    "    sncandidates.append(sne[1][\"ztf_name\"])\n",
    "    continue\n",
    "        \n",
    "    \n",
    "\n",
    "print(\"Left with %s candidates to scan\"%(len(sncandidates)))"
   ]
  },
  {
   "cell_type": "code",
   "execution_count": null,
   "metadata": {},
   "outputs": [],
   "source": [
    "# Function to make stupid plot of a SN lightcurve\n",
    "def plotty(i):\n",
    "    \"\"\"\n",
    "    Quick plot of SN nbr k\n",
    "    i : {0:undecided, 1:submit, 2:wait 3:bogus}\n",
    "    \"\"\"\n",
    "    \n",
    "    global snnbr\n",
    "    \n",
    "    \n",
    "    # Evaluate reply\n",
    "    snname = sncandidates[snnbr]\n",
    "    if i == 'Wait':\n",
    "        logger.info(\"Waiting for further obs for SN %s %s\"%(snnbr,snname))\n",
    "        decisions[snnbr] = i\n",
    "        snnbr += 1\n",
    "    elif i == 'Submit':\n",
    "        logger.info(\"Sending SN %s %s for possible follow-up\"%(snnbr,snname))\n",
    "        decisions[snnbr] = i\n",
    "        snnbr += 1\n",
    "\n",
    "    elif i == 'Garbage':\n",
    "        logger.info(\"I never want to see SN %s %s again!\"%(snnbr,snname))\n",
    "        decisions[snnbr] = i\n",
    "        snnbr += 1\n",
    "\n",
    "    elif i == 'GoBack':\n",
    "        logger.info(\"I want to scan some more, go back!\")\n",
    "        snnbr -= 1\n",
    "    elif i=='Nothing':\n",
    "        # Lets do nothing\n",
    "        pass\n",
    "    \n",
    "    # Are we done?\n",
    "    if snnbr==len(sncandidates):\n",
    "        print( \"Seems like we are all done. How do we exit?\")\n",
    "        return False\n",
    "    \n",
    "    \n",
    "    # Reset    \n",
    "    snname = sncandidates[snnbr]\n",
    "    \n",
    "\n",
    "    phot = df_phot[ df_phot[\"ztf_name\"]==snname ]\n",
    "    filters = phot[\"fid\"]\n",
    "    jd = phot[\"jd\"]\n",
    "    magpsf = phot['magpsf']\n",
    "\n",
    "\n",
    "    plt.title(snname + ' ' + str(snnbr) + ' out of '+str(len(sncandidates)))\n",
    "    plt.plot(jd[filters==1]-Time.now().jd,magpsf[filters==1],'go')\n",
    "    plt.plot(jd[filters==2]-Time.now().jd,magpsf[filters==2],'ro')\n",
    "    plt.plot(jd[filters==3]-Time.now().jd,magpsf[filters==3],'ko')\n",
    "    plt.gca().invert_yaxis()\n",
    "    plt.show()\n",
    "    wiggy.value = 'Nothing'\n",
    "    \n",
    "    return (i)\n",
    "wiggy = widgets.RadioButtons(\n",
    "    options=['Nothing','Wait', 'Submit', 'Garbage','GoBack'],\n",
    "    value='Nothing',\n",
    "    description='Action:',\n",
    "    disabled=False\n",
    ")\n",
    "y = interactive(plotty,i = wiggy)"
   ]
  },
  {
   "cell_type": "code",
   "execution_count": null,
   "metadata": {},
   "outputs": [],
   "source": [
    "# Presumably you want to scan from the first SN, but you can change this and run display again to revisit something\n",
    "# You cant jump ahead in the list though\n",
    "snnbr = 0\n"
   ]
  },
  {
   "cell_type": "code",
   "execution_count": null,
   "metadata": {},
   "outputs": [],
   "source": [
    "# This is the all important list of decisions you have made\n",
    "decisions = {}"
   ]
  },
  {
   "cell_type": "code",
   "execution_count": null,
   "metadata": {},
   "outputs": [],
   "source": [
    "# This is the scanning box! \n",
    "# You have three choices (Nothing is not a choice and GoBack steps lets you go back in order)\n",
    "# - Wait : Select this if the transient is rizing and might get into RCF range (~<18.7)\n",
    "# - Submit : Should probably get a spectrum (you do not need to worry about where just yet)\n",
    "# - Garbage : Variable star or clearly non SNIa. Evanetually these will be rejected and never more show up\n",
    "display(y)"
   ]
  },
  {
   "cell_type": "code",
   "execution_count": null,
   "metadata": {},
   "outputs": [],
   "source": []
  },
  {
   "cell_type": "code",
   "execution_count": null,
   "metadata": {},
   "outputs": [],
   "source": [
    "# Now fun starts for real. Lets download all the candidates and check whether we find all the candidate ids there\n",
    "# (cause are the only that are useful for saving). This will take a while.\n",
    "pl = marshaltools.ProgramList('AMPEL Test',load_candidates=True)"
   ]
  },
  {
   "cell_type": "code",
   "execution_count": null,
   "metadata": {},
   "outputs": [],
   "source": [
    "ingestoldcand_start = Time.now()\n",
    "print(\"Starting ingesting at %s (useful if you want to check scanning page directly)\"%(ingestoldcand_start))\n",
    "for snnbr, choice in decisions.items():\n",
    "    if not choice=='Submit' : continue\n",
    "\n",
    "    avroid =  np.max( df_phot['_id'][ df_phot[\"ztf_name\"]==sncandidates[snnbr] ]  )\n",
    "    logger.info(\"Trying to ingest %s through avroid %s\"%(sncandidates[snnbr],avroid))\n",
    "    canddate = pl.find_source(sncandidates[snnbr],include_candidates=True)\n",
    "    if not canddate is None:\n",
    "        logger.info('... already a candidate with id %s'%(canddate['candid']))\n",
    "        continue\n",
    "    \n",
    "    pl.ingest_avro(avroid)\n",
    "ingestoldcand_end = Time.now()\n",
    "print(\"Stoppedingesting at %s (useful if you want to check scanning page directly)\"%(ingestoldcand_end))"
   ]
  },
  {
   "cell_type": "code",
   "execution_count": null,
   "metadata": {},
   "outputs": [],
   "source": [
    "# We do this again because it is soo funny\n",
    "pl = marshaltools.ProgramList('AMPEL Test',load_candidates=True)"
   ]
  },
  {
   "cell_type": "code",
   "execution_count": null,
   "metadata": {},
   "outputs": [],
   "source": [
    "# And we do this again as well. If this worked we should now have all candidates saved\n",
    "togrowth = []\n",
    "for snnbr, choice in decisions.items():\n",
    "    if not choice=='Submit' : continue\n",
    "\n",
    "    canddate = pl.find_source(sncandidates[snnbr],include_candidates=True)\n",
    "    if not canddate is None:\n",
    "        continue\n",
    "    avroid =  np.max( df_phot['_id'][ df_phot[\"ztf_name\"]==sncandidates[snnbr] ]  )\n",
    "    msg = \"Failed to ingest alert %s for SN %s\"%(avroid,sncandidates[snnbr])\n",
    "    logger.info(msg)\n",
    "    togrowth.append(msg)\n",
    "    \n"
   ]
  },
  {
   "cell_type": "code",
   "execution_count": null,
   "metadata": {},
   "outputs": [],
   "source": [
    "# Write an email to Mansi/Growth team with the following content\n",
    "print(togrowth)\n",
    "# And when we hear back from them this SN should be saved. I hope they do it for us"
   ]
  },
  {
   "cell_type": "code",
   "execution_count": 16,
   "metadata": {},
   "outputs": [
    {
     "name": "stderr",
     "output_type": "stream",
     "text": [
      "INFO:jnordin:Try to save ZTF18abqboud through candid 1540747\n",
      "INFO:marshaltools.ProgramList:Saving source 1540747 into program 42\n",
      "DEBUG:marshaltools.ProgramList:Starting save_cand_growth.cgi post. Attempt # 0\n"
     ]
    },
    {
     "name": "stdout",
     "output_type": "stream",
     "text": [
      "Starting saving at 2018-09-25 23:03:06.329114 (not really that useful)\n"
     ]
    },
    {
     "name": "stderr",
     "output_type": "stream",
     "text": [
      "DEBUG:marshaltools.ProgramList:request URL: http://skipper.caltech.edu:8080/cgi-bin/growth/save_cand_growth.cgi?program=42&candid=1540747\n",
      "DEBUG:marshaltools.ProgramList:Successful growth connection.\n",
      "ERROR:marshaltools.ProgramList:No json returned: status 200\n",
      "INFO:jnordin:Try to save ZTF18abvhasp through candid 1539854\n",
      "INFO:marshaltools.ProgramList:Saving source 1539854 into program 42\n",
      "DEBUG:marshaltools.ProgramList:Starting save_cand_growth.cgi post. Attempt # 0\n",
      "DEBUG:marshaltools.ProgramList:request URL: http://skipper.caltech.edu:8080/cgi-bin/growth/save_cand_growth.cgi?program=42&candid=1539854\n",
      "DEBUG:marshaltools.ProgramList:Successful growth connection.\n",
      "ERROR:marshaltools.ProgramList:No json returned: status 200\n",
      "INFO:jnordin:Try to save ZTF18absmogv through candid 1545807\n",
      "INFO:marshaltools.ProgramList:Saving source 1545807 into program 42\n",
      "DEBUG:marshaltools.ProgramList:Starting save_cand_growth.cgi post. Attempt # 0\n",
      "DEBUG:marshaltools.ProgramList:request URL: http://skipper.caltech.edu:8080/cgi-bin/growth/save_cand_growth.cgi?program=42&candid=1545807\n",
      "DEBUG:marshaltools.ProgramList:Successful growth connection.\n",
      "ERROR:marshaltools.ProgramList:No json returned: status 200\n",
      "INFO:jnordin:Try to save ZTF17aaaadqv through candid 1546330\n",
      "INFO:marshaltools.ProgramList:Saving source 1546330 into program 42\n",
      "DEBUG:marshaltools.ProgramList:Starting save_cand_growth.cgi post. Attempt # 0\n",
      "DEBUG:marshaltools.ProgramList:request URL: http://skipper.caltech.edu:8080/cgi-bin/growth/save_cand_growth.cgi?program=42&candid=1546330\n",
      "DEBUG:marshaltools.ProgramList:Successful growth connection.\n",
      "ERROR:marshaltools.ProgramList:No json returned: status 200\n",
      "INFO:jnordin:Try to save ZTF18absnsqx through candid 1545866\n",
      "INFO:marshaltools.ProgramList:Saving source 1545866 into program 42\n",
      "DEBUG:marshaltools.ProgramList:Starting save_cand_growth.cgi post. Attempt # 0\n",
      "DEBUG:marshaltools.ProgramList:request URL: http://skipper.caltech.edu:8080/cgi-bin/growth/save_cand_growth.cgi?program=42&candid=1545866\n",
      "DEBUG:marshaltools.ProgramList:Successful growth connection.\n",
      "ERROR:marshaltools.ProgramList:No json returned: status 200\n",
      "INFO:jnordin:Try to save ZTF18abwntpz through candid 1546687\n",
      "INFO:marshaltools.ProgramList:Saving source 1546687 into program 42\n",
      "DEBUG:marshaltools.ProgramList:Starting save_cand_growth.cgi post. Attempt # 0\n",
      "DEBUG:marshaltools.ProgramList:request URL: http://skipper.caltech.edu:8080/cgi-bin/growth/save_cand_growth.cgi?program=42&candid=1546687\n",
      "DEBUG:marshaltools.ProgramList:Successful growth connection.\n",
      "ERROR:marshaltools.ProgramList:No json returned: status 200\n",
      "INFO:jnordin:Try to save ZTF18abbgdto through candid 1541686\n",
      "INFO:marshaltools.ProgramList:Saving source 1541686 into program 42\n",
      "DEBUG:marshaltools.ProgramList:Starting save_cand_growth.cgi post. Attempt # 0\n",
      "DEBUG:marshaltools.ProgramList:request URL: http://skipper.caltech.edu:8080/cgi-bin/growth/save_cand_growth.cgi?program=42&candid=1541686\n",
      "DEBUG:marshaltools.ProgramList:Successful growth connection.\n",
      "ERROR:marshaltools.ProgramList:No json returned: status 200\n",
      "INFO:jnordin:Try to save ZTF18abptskn through candid 1542725\n",
      "INFO:marshaltools.ProgramList:Saving source 1542725 into program 42\n",
      "DEBUG:marshaltools.ProgramList:Starting save_cand_growth.cgi post. Attempt # 0\n",
      "DEBUG:marshaltools.ProgramList:request URL: http://skipper.caltech.edu:8080/cgi-bin/growth/save_cand_growth.cgi?program=42&candid=1542725\n",
      "DEBUG:marshaltools.ProgramList:Successful growth connection.\n",
      "ERROR:marshaltools.ProgramList:No json returned: status 200\n",
      "INFO:jnordin:Try to save ZTF18aakgsmi through candid 1539693\n",
      "INFO:marshaltools.ProgramList:Saving source 1539693 into program 42\n",
      "DEBUG:marshaltools.ProgramList:Starting save_cand_growth.cgi post. Attempt # 0\n",
      "DEBUG:marshaltools.ProgramList:request URL: http://skipper.caltech.edu:8080/cgi-bin/growth/save_cand_growth.cgi?program=42&candid=1539693\n",
      "DEBUG:marshaltools.ProgramList:Successful growth connection.\n",
      "ERROR:marshaltools.ProgramList:No json returned: status 200\n",
      "INFO:jnordin:Try to save ZTF18abdkkwa through candid 1539964\n",
      "INFO:marshaltools.ProgramList:Saving source 1539964 into program 42\n",
      "DEBUG:marshaltools.ProgramList:Starting save_cand_growth.cgi post. Attempt # 0\n",
      "DEBUG:marshaltools.ProgramList:request URL: http://skipper.caltech.edu:8080/cgi-bin/growth/save_cand_growth.cgi?program=42&candid=1539964\n",
      "DEBUG:marshaltools.ProgramList:Successful growth connection.\n",
      "ERROR:marshaltools.ProgramList:No json returned: status 200\n",
      "INFO:jnordin:Try to save ZTF18abwfmot through candid 1545975\n",
      "INFO:marshaltools.ProgramList:Saving source 1545975 into program 42\n",
      "DEBUG:marshaltools.ProgramList:Starting save_cand_growth.cgi post. Attempt # 0\n",
      "DEBUG:marshaltools.ProgramList:request URL: http://skipper.caltech.edu:8080/cgi-bin/growth/save_cand_growth.cgi?program=42&candid=1545975\n",
      "DEBUG:marshaltools.ProgramList:Successful growth connection.\n",
      "ERROR:marshaltools.ProgramList:No json returned: status 200\n"
     ]
    },
    {
     "name": "stdout",
     "output_type": "stream",
     "text": [
      "Stopped saving at 2018-09-25 23:03:50.759826\n"
     ]
    }
   ],
   "source": [
    "# Ok - this does not work since we have the wrong candidate id...\n",
    "\n",
    "# Now it is time to save remaining candidates\n",
    "savecand_start = Time.now()\n",
    "print(\"Starting saving at %s (not really that useful)\"%(savecand_start))\n",
    "for snnbr, choice in decisions.items():\n",
    "    if not choice=='Submit' : continue\n",
    "\n",
    "    candid = soupids[sncandidates[snnbr]]\n",
    "    logger.info(\"Try to save %s through candid %s\"%(sncandidates[snnbr],candid))\n",
    "    pl.save_source(candid,42)\n",
    "\n",
    "\n",
    "        \n",
    "savecand_end = Time.now()\n",
    "print(\"Stopped saving at %s\"%(savecand_end))"
   ]
  },
  {
   "cell_type": "code",
   "execution_count": 17,
   "metadata": {},
   "outputs": [
    {
     "name": "stderr",
     "output_type": "stream",
     "text": [
      "DEBUG:marshaltools.ProgramList:listing accessible programs\n",
      "DEBUG:marshaltools.ProgramList:Starting list_programs.cgi post. Attempt # 0\n",
      "DEBUG:marshaltools.ProgramList:request URL: http://skipper.caltech.edu:8080/cgi-bin/growth/list_programs.cgi?None\n",
      "DEBUG:marshaltools.ProgramList:Successful growth connection.\n",
      "INFO:marshaltools.ProgramList:Initialized ProgramList for program AMPEL Test (ID 4)\n",
      "DEBUG:marshaltools.ProgramList:Starting list_program_sources.cgi post. Attempt # 0\n",
      "DEBUG:marshaltools.ProgramList:request URL: http://skipper.caltech.edu:8080/cgi-bin/growth/list_program_sources.cgi?programidx=4&getredshift=1&getclassification=1\n",
      "DEBUG:marshaltools.ProgramList:Successful growth connection.\n",
      "INFO:marshaltools.ProgramList:Loaded 184 saved sources for program AMPEL Test.\n"
     ]
    }
   ],
   "source": [
    "# Reload saved sources\n",
    "pl = marshaltools.ProgramList('AMPEL Test',load_candidates=False)"
   ]
  },
  {
   "cell_type": "code",
   "execution_count": 18,
   "metadata": {},
   "outputs": [
    {
     "name": "stderr",
     "output_type": "stream",
     "text": [
      "DEBUG:marshaltools.ProgramList:found source ZTF18abqboud among saved sources of program AMPEL Test\n",
      "INFO:jnordin:SN ZTF18abqboud was saved\n",
      "DEBUG:marshaltools.ProgramList:found source ZTF18abvhasp among saved sources of program AMPEL Test\n",
      "INFO:jnordin:SN ZTF18abvhasp was saved\n",
      "DEBUG:marshaltools.ProgramList:found source ZTF18absmogv among saved sources of program AMPEL Test\n",
      "INFO:jnordin:SN ZTF18absmogv was saved\n",
      "DEBUG:marshaltools.ProgramList:found source ZTF17aaaadqv among saved sources of program AMPEL Test\n",
      "INFO:jnordin:SN ZTF17aaaadqv was saved\n",
      "DEBUG:marshaltools.ProgramList:found source ZTF18absnsqx among saved sources of program AMPEL Test\n",
      "INFO:jnordin:SN ZTF18absnsqx was saved\n",
      "DEBUG:marshaltools.ProgramList:found source ZTF18abwntpz among saved sources of program AMPEL Test\n",
      "INFO:jnordin:SN ZTF18abwntpz was saved\n",
      "DEBUG:marshaltools.ProgramList:found source ZTF18abbgdto among saved sources of program AMPEL Test\n",
      "INFO:jnordin:SN ZTF18abbgdto was saved\n",
      "DEBUG:marshaltools.ProgramList:found source ZTF18abptskn among saved sources of program AMPEL Test\n",
      "INFO:jnordin:SN ZTF18abptskn was saved\n",
      "DEBUG:marshaltools.ProgramList:found source ZTF18aakgsmi among saved sources of program AMPEL Test\n",
      "INFO:jnordin:SN ZTF18aakgsmi was saved\n",
      "DEBUG:marshaltools.ProgramList:found source ZTF18abdkkwa among saved sources of program AMPEL Test\n",
      "INFO:jnordin:SN ZTF18abdkkwa was saved\n",
      "DEBUG:marshaltools.ProgramList:found source ZTF18abwfmot among saved sources of program AMPEL Test\n",
      "INFO:jnordin:SN ZTF18abwfmot was saved\n"
     ]
    }
   ],
   "source": [
    "# Loop through them again to check they are all saved\n",
    "for snnbr, choice in decisions.items():\n",
    "    if not choice=='Submit' : continue\n",
    "\n",
    "    canddate = pl.find_source(sncandidates[snnbr],include_candidates=False)\n",
    "    if canddate is None:\n",
    "        logger.info('SN %s was not saved. Oj oj.'%(sncandidates[snnbr]))\n",
    "        continue\n",
    "\n",
    "    logger.info('SN %s was saved'%(sncandidates[snnbr]))\n"
   ]
  },
  {
   "cell_type": "code",
   "execution_count": null,
   "metadata": {},
   "outputs": [],
   "source": [
    "## Hopefully done. If all of the candidates were saved (no ojojs) you are done with scanning!\n",
    "# If candidate IDs are still missing you have to try to scrape the webpages for them as below. Have fun!\n"
   ]
  },
  {
   "cell_type": "code",
   "execution_count": null,
   "metadata": {},
   "outputs": [],
   "source": [
    "# Trying to get candid through the seargant\n",
    "from ampel.pipeline.t3.sergeant import marshal_functions\n",
    "tbase = Time.now()\n",
    "allcandidates = []"
   ]
  },
  {
   "cell_type": "code",
   "execution_count": null,
   "metadata": {},
   "outputs": [],
   "source": [
    "for k in range(10):\n",
    "    print(k)\n",
    "    tend = Time(tbase.jd-k,format='jd')\n",
    "    tstart = Time(tbase.jd-k-1,format='jd')\n",
    "    ser = marshal_functions.Sergeant(program_name='AMPEL Test',start_date=tstart.iso,end_date=tend.iso)\n",
    "    ser.cutprogramidx = 42\n",
    "    cands = ser.list_scan_sources()\n",
    "    print(\"Found %s cands\"%(len(cands)))\n",
    "    allcandidates.extend(cands)"
   ]
  },
  {
   "cell_type": "code",
   "execution_count": null,
   "metadata": {},
   "outputs": [],
   "source": [
    "for cand in allcandidates:\n",
    "    if cand[\"name\"] in soupids.keys():\n",
    "        print(\"duplicate candidate %s\"%(cand[\"name\"]))\n",
    "    soupids[cand[\"name\"]] = cand[\"candid\"]"
   ]
  },
  {
   "cell_type": "code",
   "execution_count": null,
   "metadata": {},
   "outputs": [],
   "source": [
    "with open('sncandid_soup.json', 'w') as fp:\n",
    "    json.dump(soupids, fp)"
   ]
  },
  {
   "cell_type": "code",
   "execution_count": null,
   "metadata": {},
   "outputs": [],
   "source": []
  },
  {
   "cell_type": "code",
   "execution_count": null,
   "metadata": {
    "scrolled": true
   },
   "outputs": [],
   "source": []
  },
  {
   "cell_type": "code",
   "execution_count": null,
   "metadata": {},
   "outputs": [],
   "source": []
  },
  {
   "cell_type": "code",
   "execution_count": null,
   "metadata": {},
   "outputs": [],
   "source": [
    "print(len(cands))"
   ]
  },
  {
   "cell_type": "code",
   "execution_count": null,
   "metadata": {},
   "outputs": [],
   "source": [
    "for row in table_rows:\n",
    "    print( row )\n",
    "    x = row.findAll('td')[6].findAll('select')[0].findAll('option')\n",
    "    print(x)\n",
    "#    if self.program_name in x.text:\n",
    "#        self.program = x[\"value\"]\n"
   ]
  },
  {
   "cell_type": "code",
   "execution_count": 12,
   "metadata": {},
   "outputs": [],
   "source": [
    "# cheat\n",
    "decisions = {0: 'Garbage', 1: 'Garbage', 2: 'Garbage', 3: 'Garbage', 4: 'Wait', 5: 'Garbage', 6: 'Submit', 7: 'Submit', 8: 'Garbage', 9: 'Garbage', 10: 'Garbage', 11: 'Garbage', 12: 'Garbage', 13: 'Garbage', 14: 'Garbage', 15: 'Garbage', 16: 'Submit', 17: 'Submit', 18: 'Submit', 19: 'Garbage', 20: 'Garbage', 21: 'Garbage', 22: 'Garbage', 23: 'Garbage', 24: 'Garbage', 25: 'Garbage', 26: 'Garbage', 27: 'Garbage', 28: 'Garbage', 29: 'Garbage', 30: 'Submit', 31: 'Submit', 32: 'Garbage', 33: 'Submit', 34: 'Submit', 35: 'Submit', 36: 'Garbage', 37: 'Submit', 38: 'Garbage', 39: 'Garbage', 40: 'Garbage'}"
   ]
  },
  {
   "cell_type": "code",
   "execution_count": null,
   "metadata": {},
   "outputs": [],
   "source": [
    "table[4]"
   ]
  },
  {
   "cell_type": "code",
   "execution_count": null,
   "metadata": {},
   "outputs": [],
   "source": [
    "foo2 = foo[foo[\"jd\"]==2458374.6575 ]"
   ]
  },
  {
   "cell_type": "code",
   "execution_count": null,
   "metadata": {},
   "outputs": [],
   "source": [
    "print(foo2)"
   ]
  },
  {
   "cell_type": "code",
   "execution_count": null,
   "metadata": {},
   "outputs": [],
   "source": [
    "sources = []\n",
    "for source in table_rows:\n",
    "\n",
    "    pop = source.findAll('td')[6].findAll('input', {\"name\":'candid'})[0][\"value\"]\n",
    "    print(pop)\n",
    "    continue\n",
    "    \n"
   ]
  },
  {
   "cell_type": "code",
   "execution_count": null,
   "metadata": {},
   "outputs": [],
   "source": []
  }
 ],
 "metadata": {
  "kernelspec": {
   "display_name": "Python 3",
   "language": "python",
   "name": "python3"
  },
  "language_info": {
   "codemirror_mode": {
    "name": "ipython",
    "version": 3
   },
   "file_extension": ".py",
   "mimetype": "text/x-python",
   "name": "python",
   "nbconvert_exporter": "python",
   "pygments_lexer": "ipython3",
   "version": "3.6.5"
  }
 },
 "nbformat": 4,
 "nbformat_minor": 2
}
