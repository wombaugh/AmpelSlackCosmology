{
 "cells": [
  {
   "cell_type": "code",
   "execution_count": 2,
   "metadata": {},
   "outputs": [
    {
     "name": "stderr",
     "output_type": "stream",
     "text": [
      "/home/jnordin/local/miniconda2/envs/py36/lib/python3.6/importlib/_bootstrap.py:219: RuntimeWarning: numpy.dtype size changed, may indicate binary incompatibility. Expected 96, got 88\n",
      "  return f(*args, **kwds)\n",
      "/home/jnordin/local/miniconda2/envs/py36/lib/python3.6/importlib/_bootstrap.py:219: RuntimeWarning: numpy.dtype size changed, may indicate binary incompatibility. Expected 96, got 88\n",
      "  return f(*args, **kwds)\n"
     ]
    }
   ],
   "source": [
    "#%matplotlib inline\n",
    "import numpy as np\n",
    "import pandas as pd\n",
    "import matplotlib.pyplot as plt\n",
    "import marshaltools\n",
    "from ast import literal_eval\n",
    "import logging\n",
    "from astropy.time import Time\n",
    "from ipywidgets import interactive\n",
    "import ipywidgets as widgets\n",
    "import re, os\n",
    "import requests\n",
    "import sncosmo\n",
    "import json\n",
    "\n",
    "from utils import get_config"
   ]
  },
  {
   "cell_type": "code",
   "execution_count": 6,
   "metadata": {},
   "outputs": [],
   "source": [
    "# If you are running this notebook for the first time, you will be prompted to enter your username and\n",
    "# the path to your downloads from slack. If you entered something incorrectly, you can correct this in .config\n",
    "config = get_config()\n",
    "\n",
    "username = config['username']\n",
    "date = '2018-09-27'\n",
    "maxz = 0.1\n",
    "minpeakmag = 19.5   # A candidate need to have at least one detection brigther than this\n",
    "mindet = 5          # A candidate need to have at least this many detections\n",
    "maxage = 30         # If a detection has an age older than this, skip (stars,age). \n",
    "                    # Q: How can histories be older than 30days?\n",
    "minfilters = 2      # Reported detections in at least this many filters\n",
    "minrefframes = 1    # Cut away alert information where this is not positive (how can it not be, but ok...)\n",
    "\n",
    "marshal_saveprogs = 'AMPEL'   # Candidates already in this program will not be scanned. Reg exp string, eg 'AMPEL|RCF'\n",
    "marshal_savid = 42\n",
    "logpath = 'logs/'\n",
    "slackfilepath = config['slackfilepath']\n",
    "\n",
    "# Get the other set of marshal source ids. Lets not talk about, took too much of my life alrady\n",
    "with open('sncandid_soup.json', 'r') as fp:\n",
    "    soupids = json.load(fp)\n",
    "\n",
    "# log. This should be saved and pushed to github. If everyone does this we should have the full scanning\n",
    "# history for this run\n",
    "logger = logging.getLogger(username)\n",
    "handler = logging.FileHandler(os.path.join(logpath, 'ztfcosmo_%s_%s.log'%(date,username)))\n",
    "handler.setLevel(logging.INFO)\n",
    "formatter = logging.Formatter('%(asctime)s - %(name)s - %(levelname)s - %(message)s')\n",
    "handler.setFormatter(formatter)\n",
    "logger.addHandler(handler)\n",
    "\n"
   ]
  },
  {
   "cell_type": "code",
   "execution_count": 4,
   "metadata": {},
   "outputs": [
    {
     "name": "stderr",
     "output_type": "stream",
     "text": [
      "/home/jnordin/.local/lib/python3.6/site-packages/IPython/core/interactiveshell.py:2785: DtypeWarning: Columns (162) have mixed types. Specify dtype option on import or set low_memory=False.\n",
      "  interactivity=interactivity, compiler=compiler, result=result)\n",
      "INFO:jnordin:Cutting down alert info to subset with nrefframes keyword\n"
     ]
    }
   ],
   "source": [
    "df_sum = pd.read_csv(os.path.join(slackfilepath, \"Summary_%s.csv\"%(date)))\n",
    "df_phot = pd.read_csv(os.path.join(slackfilepath, \"Photometry_%s.csv\"%(date)))\n",
    "\n",
    "if minrefframes>0:\n",
    "    df_phot = df_phot[df_phot[\"nframesref\"]>minrefframes]\n",
    "    logger.info(\"Cutting down alert info to subset with nrefframes keyword\")"
   ]
  },
  {
   "cell_type": "code",
   "execution_count": 5,
   "metadata": {},
   "outputs": [
    {
     "name": "stderr",
     "output_type": "stream",
     "text": [
      "INFO:jnordin:There were 337 candidates reported 2018-09-27\n"
     ]
    }
   ],
   "source": [
    "logger.info(\"There were %s candidates reported %s\"%(df_sum.shape[0],date))"
   ]
  },
  {
   "cell_type": "code",
   "execution_count": 6,
   "metadata": {},
   "outputs": [
    {
     "name": "stderr",
     "output_type": "stream",
     "text": [
      "INFO:jnordin:Out of these 82 already have Marshal type and will be skipped.\n"
     ]
    }
   ],
   "source": [
    "# Find already classified SNe\n",
    "i_untyped = (df_sum[\"T2-classification\"]== \"None\") | (df_sum[\"T2-classification\"].isnull())\n",
    "df_classified = df_sum[ ~i_untyped]\n",
    "df_tmp = df_sum[ i_untyped]\n",
    "logger.info(\"Out of these %s already have Marshal type and will be skipped.\"%len(df_classified))\n"
   ]
  },
  {
   "cell_type": "code",
   "execution_count": 7,
   "metadata": {},
   "outputs": [
    {
     "name": "stderr",
     "output_type": "stream",
     "text": [
      "INFO:jnordin:27 have a catalog z larger than 0.1  and will be skipped.\n"
     ]
    }
   ],
   "source": [
    "# Are there any remaining candidates with spectroscopic redshifts above limit\n",
    "i_highz = ( (df_tmp['T2-NEDz_z']>maxz) | (df_tmp['T2-milliquas_redshift']>maxz)  | (df_tmp['T2-SDSS_spec_z']>maxz) ) \n",
    "df_classified = df_tmp[ i_highz]\n",
    "df_tmp2 = df_tmp[~i_highz]\n",
    "logger.info(\"%s have a catalog z larger than %s  and will be skipped.\"%(np.sum(i_highz),maxz))\n"
   ]
  },
  {
   "cell_type": "code",
   "execution_count": 8,
   "metadata": {},
   "outputs": [
    {
     "name": "stderr",
     "output_type": "stream",
     "text": [
      "INFO:jnordin:Detected 27 already saved candidates and 201 new\n"
     ]
    }
   ],
   "source": [
    "# Which are already saved in the marshal?\n",
    "i_saved = df_tmp2[\"T2-programs\"].str.contains(marshal_saveprogs, regex=True, na=False, flags=re.IGNORECASE)\n",
    "df_saved = df_tmp2[i_saved]\n",
    "df_candidates = df_tmp2[~i_saved]\n",
    "logger.info(\"Detected %s already saved candidates and %s new\"%(len(df_saved),len(df_candidates)))"
   ]
  },
  {
   "cell_type": "code",
   "execution_count": null,
   "metadata": {},
   "outputs": [],
   "source": []
  },
  {
   "cell_type": "code",
   "execution_count": null,
   "metadata": {},
   "outputs": [],
   "source": []
  },
  {
   "cell_type": "code",
   "execution_count": 9,
   "metadata": {},
   "outputs": [
    {
     "name": "stderr",
     "output_type": "stream",
     "text": [
      "INFO:jnordin:2018-09-27: Skipping ZTF18aaoiaac, less than 5 detections\n",
      "INFO:jnordin:2018-09-27: Skipping ZTF18abmsngt, only 1 filters\n",
      "INFO:jnordin:2018-09-27: Skipping ZTF18abecjrr, only 1 filters\n",
      "INFO:jnordin:2018-09-27: Skipping ZTF18aaqzhib, only 1 filters\n",
      "INFO:jnordin:2018-09-27: Skipping ZTF18abehrdw, less than 5 detections\n",
      "INFO:jnordin:2018-09-27: Skipping ZTF18aamofne, never reached limit 19.5\n",
      "INFO:jnordin:2018-09-27: Skipping ZTF18abtnfnq, only 1 filters\n",
      "INFO:jnordin:2018-09-27: Skipping ZTF18abtlrrt, never reached limit 19.5\n",
      "INFO:jnordin:2018-09-27: Skipping ZTF18abrwvkr, never reached limit 19.5\n",
      "INFO:jnordin:2018-09-27: Skipping ZTF18aawrbuc, never reached limit 19.5\n",
      "INFO:jnordin:2018-09-27: Skipping ZTF18abimrqx, never reached limit 19.5\n",
      "INFO:jnordin:2018-09-27: Skipping ZTF18abaaeip, never reached limit 19.5\n",
      "INFO:jnordin:2018-09-27: Skipping ZTF18abnblhi, less than 5 detections\n",
      "INFO:jnordin:2018-09-27: Skipping ZTF18aaowwgf, less than 5 detections\n",
      "INFO:jnordin:2018-09-27: Skipping ZTF17aaafiwn, only 1 filters\n",
      "INFO:jnordin:2018-09-27: Skipping ZTF18abuksoh, never reached limit 19.5\n",
      "INFO:jnordin:2018-09-27: Skipping ZTF18abkmfaj, never reached limit 19.5\n",
      "INFO:jnordin:2018-09-27: Skipping ZTF18aaimsgg, only 1 filters\n",
      "INFO:jnordin:2018-09-27: Skipping ZTF18aamhnti, only 1 filters\n",
      "INFO:jnordin:2018-09-27: Skipping ZTF18abuyxsw, never reached limit 19.5\n",
      "INFO:jnordin:2018-09-27: Skipping ZTF18aaolhsy, never reached limit 19.5\n",
      "INFO:jnordin:2018-09-27: Skipping ZTF18abmnxny, less than 5 detections\n",
      "INFO:jnordin:2018-09-27: Skipping ZTF18abeiqpq, never reached limit 19.5\n",
      "INFO:jnordin:2018-09-27: Skipping ZTF18abnwufa, never reached limit 19.5\n",
      "INFO:jnordin:2018-09-27: Skipping ZTF18abshgbq, never reached limit 19.5\n",
      "INFO:jnordin:2018-09-27: Skipping ZTF18abmezaq, only 1 filters\n",
      "INFO:jnordin:2018-09-27: Skipping ZTF18abukiix, never reached limit 19.5\n"
     ]
    },
    {
     "name": "stdout",
     "output_type": "stream",
     "text": [
      "ZTF18abslxpd\n",
      "ZTF18ablrndb\n",
      "ZTF18aaoiaac\n",
      "2018-09-27: Skipping ZTF18aaoiaac, less than 5 detections\n",
      "ZTF18abtqrwa\n",
      "ZTF18abgrlpv\n",
      "ZTF18abmsngt\n",
      "2018-09-27: Skipping ZTF18abmsngt, only 1 filters\n",
      "ZTF18abecjrr\n",
      "2018-09-27: Skipping ZTF18abecjrr, only 1 filters\n",
      "ZTF18aaqzhib\n",
      "2018-09-27: Skipping ZTF18aaqzhib, only 1 filters\n",
      "ZTF18abehrdw\n",
      "2018-09-27: Skipping ZTF18abehrdw, less than 5 detections\n",
      "ZTF18aamofne\n",
      "2018-09-27: Skipping ZTF18aamofne, never reached limit 19.5\n",
      "ZTF18abtnfnq\n",
      "2018-09-27: Skipping ZTF18abtnfnq, only 1 filters\n",
      "ZTF18abtlrrt\n",
      "2018-09-27: Skipping ZTF18abtlrrt, never reached limit 19.5\n",
      "ZTF17aabihdn\n",
      "ZTF18aawlhkh\n",
      "ZTF18abrwvkr\n",
      "2018-09-27: Skipping ZTF18abrwvkr, never reached limit 19.5\n",
      "ZTF18aawrbuc\n",
      "2018-09-27: Skipping ZTF18aawrbuc, never reached limit 19.5\n",
      "ZTF18abporae\n",
      "ZTF18abimrqx\n",
      "2018-09-27: Skipping ZTF18abimrqx, never reached limit 19.5\n",
      "ZTF18abaaeip\n",
      "2018-09-27: Skipping ZTF18abaaeip, never reached limit 19.5\n",
      "ZTF18abulqzb\n",
      "ZTF18abnblhi\n",
      "2018-09-27: Skipping ZTF18abnblhi, less than 5 detections\n",
      "ZTF18abjhatv\n",
      "ZTF18aaowwgf\n",
      "2018-09-27: Skipping ZTF18aaowwgf, less than 5 detections\n",
      "ZTF17aaafiwn\n",
      "2018-09-27: Skipping ZTF17aaafiwn, only 1 filters\n",
      "ZTF18abuksoh\n",
      "2018-09-27: Skipping ZTF18abuksoh, never reached limit 19.5\n",
      "ZTF18abkmfaj\n",
      "2018-09-27: Skipping ZTF18abkmfaj, never reached limit 19.5\n",
      "ZTF18aaimsgg\n",
      "2018-09-27: Skipping ZTF18aaimsgg, only 1 filters\n",
      "ZTF18abnvirx\n",
      "ZTF18abtlqub\n",
      "ZTF18aamhnti\n",
      "2018-09-27: Skipping ZTF18aamhnti, only 1 filters\n",
      "ZTF18aaupjtd\n",
      "ZTF18abtjrbt\n",
      "ZTF18abuyxsw\n",
      "2018-09-27: Skipping ZTF18abuyxsw, never reached limit 19.5\n",
      "ZTF18aaolhsy\n",
      "2018-09-27: Skipping ZTF18aaolhsy, never reached limit 19.5\n",
      "ZTF18abgoodz\n",
      "ZTF18absgvqb\n",
      "ZTF18abmnxny\n",
      "2018-09-27: Skipping ZTF18abmnxny, less than 5 detections\n",
      "ZTF18aajswer\n",
      "ZTF18abeiqpq\n",
      "2018-09-27: Skipping ZTF18abeiqpq, never reached limit 19.5\n",
      "ZTF18abmwfxd\n",
      "ZTF18ablqjws\n",
      "ZTF18abnwufa\n",
      "2018-09-27: Skipping ZTF18abnwufa, never reached limit 19.5\n",
      "ZTF18abshgbq\n",
      "2018-09-27: Skipping ZTF18abshgbq, never reached limit 19.5\n",
      "ZTF18abmarax\n",
      "ZTF18aamnrdd\n",
      "ZTF18abmezaq\n",
      "2018-09-27: Skipping ZTF18abmezaq, only 1 filters\n",
      "ZTF18abmxatl\n",
      "ZTF18aayebnz\n",
      "ZTF18abukiix\n",
      "2018-09-27: Skipping ZTF18abukiix, never reached limit 19.5\n",
      "ZTF18aagteoy\n",
      "ZTF18aampjcm\n",
      "ZTF18aampiwv\n",
      "ZTF18absljwl\n",
      "ZTF18abuyuqy\n"
     ]
    },
    {
     "name": "stderr",
     "output_type": "stream",
     "text": [
      "INFO:jnordin:2018-09-27: Skipping ZTF18abuyuqy, never reached limit 19.5\n",
      "INFO:jnordin:2018-09-27: Skipping ZTF18abosrco, only 1 filters\n",
      "INFO:jnordin:2018-09-27: Skipping ZTF18abskuxt, never reached limit 19.5\n",
      "INFO:jnordin:2018-09-27: Skipping ZTF18abtphnh, less than 5 detections\n",
      "INFO:jnordin:2018-09-27: Skipping ZTF18abtnwpa, never reached limit 19.5\n",
      "INFO:jnordin:2018-09-27: Skipping ZTF18absnmdd, never reached limit 19.5\n",
      "INFO:jnordin:2018-09-27: Skipping ZTF18abuleom, never reached limit 19.5\n",
      "INFO:jnordin:2018-09-27: Skipping ZTF18abtnryk, never reached limit 19.5\n",
      "INFO:jnordin:2018-09-27: Skipping ZTF18abtoily, never reached limit 19.5\n",
      "INFO:jnordin:2018-09-27: Skipping ZTF18aapgbfm, never reached limit 19.5\n",
      "INFO:jnordin:2018-09-27: Skipping ZTF18aanxtko, never reached limit 19.5\n",
      "INFO:jnordin:2018-09-27: Skipping ZTF18abdklhh, never reached limit 19.5\n",
      "INFO:jnordin:2018-09-27: Skipping ZTF18aanvpol, less than 5 detections\n",
      "INFO:jnordin:2018-09-27: Skipping ZTF18abtkzfi, only 1 filters\n",
      "INFO:jnordin:2018-09-27: Skipping ZTF18abiinnl, only 1 filters\n",
      "INFO:jnordin:2018-09-27: Skipping ZTF18aayfoev, never reached limit 19.5\n",
      "INFO:jnordin:2018-09-27: Skipping ZTF18abfdais, less than 5 detections\n",
      "INFO:jnordin:2018-09-27: Skipping ZTF18aaxugta, never reached limit 19.5\n",
      "INFO:jnordin:2018-09-27: Skipping ZTF18abadbbb, never reached limit 19.5\n"
     ]
    },
    {
     "name": "stdout",
     "output_type": "stream",
     "text": [
      "2018-09-27: Skipping ZTF18abuyuqy, never reached limit 19.5\n",
      "ZTF18abosrco\n",
      "2018-09-27: Skipping ZTF18abosrco, only 1 filters\n",
      "ZTF18abskuxt\n",
      "2018-09-27: Skipping ZTF18abskuxt, never reached limit 19.5\n",
      "ZTF18abtphnh\n",
      "2018-09-27: Skipping ZTF18abtphnh, less than 5 detections\n",
      "ZTF18aaqzomm\n",
      "ZTF18abtnwpa\n",
      "2018-09-27: Skipping ZTF18abtnwpa, never reached limit 19.5\n",
      "ZTF18abslbyb\n",
      "ZTF18aamntui\n",
      "ZTF18abbmenz\n",
      "ZTF18abmjokl\n",
      "ZTF18abtghbi\n",
      "ZTF18abnvotk\n",
      "ZTF18absnmdd\n",
      "2018-09-27: Skipping ZTF18absnmdd, never reached limit 19.5\n",
      "ZTF18abuleom\n",
      "2018-09-27: Skipping ZTF18abuleom, never reached limit 19.5\n",
      "ZTF18aaxudip\n",
      "ZTF18abtnryk\n",
      "2018-09-27: Skipping ZTF18abtnryk, never reached limit 19.5\n",
      "ZTF18abtoily\n",
      "2018-09-27: Skipping ZTF18abtoily, never reached limit 19.5\n",
      "ZTF18aapgbfm\n",
      "2018-09-27: Skipping ZTF18aapgbfm, never reached limit 19.5\n",
      "ZTF18abujobx\n",
      "ZTF18aanxtko\n",
      "2018-09-27: Skipping ZTF18aanxtko, never reached limit 19.5\n",
      "ZTF18ablprcf\n",
      "ZTF18abdklhh\n",
      "2018-09-27: Skipping ZTF18abdklhh, never reached limit 19.5\n",
      "ZTF18aanvpol\n",
      "2018-09-27: Skipping ZTF18aanvpol, less than 5 detections\n",
      "ZTF18absnsqx\n",
      "ZTF18abtkzfi\n",
      "2018-09-27: Skipping ZTF18abtkzfi, only 1 filters\n",
      "ZTF18abiinnl\n",
      "2018-09-27: Skipping ZTF18abiinnl, only 1 filters\n",
      "ZTF18aayfoev\n",
      "2018-09-27: Skipping ZTF18aayfoev, never reached limit 19.5\n",
      "ZTF18abfdais\n",
      "2018-09-27: Skipping ZTF18abfdais, less than 5 detections\n",
      "ZTF18ababqeh\n",
      "ZTF18aajupnt\n",
      "ZTF18aaxugta\n",
      "2018-09-27: Skipping ZTF18aaxugta, never reached limit 19.5\n",
      "ZTF18abflqxq\n",
      "ZTF18abkhqww\n",
      "ZTF18abadbbb\n",
      "2018-09-27: Skipping ZTF18abadbbb, never reached limit 19.5\n",
      "ZTF18abufaej\n",
      "ZTF18absrcps\n"
     ]
    },
    {
     "name": "stderr",
     "output_type": "stream",
     "text": [
      "INFO:jnordin:2018-09-27: Skipping ZTF18abmmnqf, never reached limit 19.5\n",
      "INFO:jnordin:2018-09-27: Skipping ZTF18abtpgms, never reached limit 19.5\n",
      "INFO:jnordin:2018-09-27: Skipping ZTF18abyzdoo, less than 5 detections\n",
      "INFO:jnordin:2018-09-27: Skipping ZTF18abvvokw, less than 5 detections\n",
      "INFO:jnordin:2018-09-27: Skipping ZTF18abvglon, less than 5 detections\n",
      "INFO:jnordin:2018-09-27: Skipping ZTF18abxxviy, less than 5 detections\n",
      "INFO:jnordin:2018-09-27: Skipping ZTF18abyxwrf, less than 5 detections\n",
      "INFO:jnordin:2018-09-27: Skipping ZTF18ablcwde, less than 5 detections\n",
      "INFO:jnordin:2018-09-27: Skipping ZTF18abwgaek, never reached limit 19.5\n",
      "INFO:jnordin:2018-09-27: Skipping ZTF18absksjy, never reached limit 19.5\n",
      "INFO:jnordin:2018-09-27: Skipping ZTF18abyvbat, less than 5 detections\n",
      "INFO:jnordin:2018-09-27: Skipping ZTF18abuwqdi, never reached limit 19.5\n",
      "INFO:jnordin:2018-09-27: Skipping ZTF18abtrktm, only 1 filters\n",
      "INFO:jnordin:2018-09-27: Skipping ZTF18abxqzih, only 1 filters\n",
      "INFO:jnordin:2018-09-27: Skipping ZTF18abxyvqf, never reached limit 19.5\n",
      "INFO:jnordin:2018-09-27: Skipping ZTF18abxelyl, less than 5 detections\n",
      "INFO:jnordin:2018-09-27: Skipping ZTF18abzpkec, less than 5 detections\n",
      "INFO:jnordin:2018-09-27: Skipping ZTF18abywcnl, less than 5 detections\n",
      "INFO:jnordin:2018-09-27: Skipping ZTF18abxbugc, less than 5 detections\n",
      "INFO:jnordin:2018-09-27: Skipping ZTF18abwdzxe, never reached limit 19.5\n",
      "INFO:jnordin:2018-09-27: Skipping ZTF18abyfcns, less than 5 detections\n"
     ]
    },
    {
     "name": "stdout",
     "output_type": "stream",
     "text": [
      "ZTF18abmmnqf\n",
      "2018-09-27: Skipping ZTF18abmmnqf, never reached limit 19.5\n",
      "ZTF18aawhlgv\n",
      "ZTF18abtpgms\n",
      "2018-09-27: Skipping ZTF18abtpgms, never reached limit 19.5\n",
      "ZTF18abyzdoo\n",
      "2018-09-27: Skipping ZTF18abyzdoo, less than 5 detections\n",
      "ZTF18abvvokw\n",
      "2018-09-27: Skipping ZTF18abvvokw, less than 5 detections\n",
      "ZTF18abvglon\n",
      "2018-09-27: Skipping ZTF18abvglon, less than 5 detections\n",
      "ZTF18abxxviy\n",
      "2018-09-27: Skipping ZTF18abxxviy, less than 5 detections\n",
      "ZTF18abyxwrf\n",
      "2018-09-27: Skipping ZTF18abyxwrf, less than 5 detections\n",
      "ZTF18ablcwde\n",
      "2018-09-27: Skipping ZTF18ablcwde, less than 5 detections\n",
      "ZTF18abwgaek\n",
      "2018-09-27: Skipping ZTF18abwgaek, never reached limit 19.5\n",
      "ZTF18abygdtf\n",
      "ZTF18abulemm\n",
      "ZTF18absksjy\n",
      "2018-09-27: Skipping ZTF18absksjy, never reached limit 19.5\n",
      "ZTF18abyvbat\n",
      "2018-09-27: Skipping ZTF18abyvbat, less than 5 detections\n",
      "ZTF18abuwqdi\n",
      "2018-09-27: Skipping ZTF18abuwqdi, never reached limit 19.5\n",
      "ZTF18abtrktm\n",
      "2018-09-27: Skipping ZTF18abtrktm, only 1 filters\n",
      "ZTF18abxqzih\n",
      "2018-09-27: Skipping ZTF18abxqzih, only 1 filters\n",
      "ZTF18abvxdou\n",
      "ZTF18abxyvqf\n",
      "2018-09-27: Skipping ZTF18abxyvqf, never reached limit 19.5\n",
      "ZTF18abxcbny\n",
      "ZTF18abxelyl\n",
      "2018-09-27: Skipping ZTF18abxelyl, less than 5 detections\n",
      "ZTF18abzpkec\n",
      "2018-09-27: Skipping ZTF18abzpkec, less than 5 detections\n",
      "ZTF18abxcues\n",
      "ZTF18abywcnl\n",
      "2018-09-27: Skipping ZTF18abywcnl, less than 5 detections\n",
      "ZTF18abxbugc\n",
      "2018-09-27: Skipping ZTF18abxbugc, less than 5 detections\n",
      "ZTF18abxxvza\n",
      "ZTF18abwdzxe\n",
      "2018-09-27: Skipping ZTF18abwdzxe, never reached limit 19.5\n",
      "ZTF18abyfcns\n",
      "2018-09-27: Skipping ZTF18abyfcns, less than 5 detections\n",
      "ZTF18aavoyoq\n"
     ]
    },
    {
     "name": "stderr",
     "output_type": "stream",
     "text": [
      "INFO:jnordin:2018-09-27: Skipping ZTF18abxzcky, less than 5 detections\n",
      "INFO:jnordin:2018-09-27: Skipping ZTF18abyadtx, less than 5 detections\n",
      "INFO:jnordin:2018-09-27: Skipping ZTF18abyzmsb, less than 5 detections\n",
      "INFO:jnordin:2018-09-27: Skipping ZTF18abwhsnx, never reached limit 19.5\n",
      "INFO:jnordin:2018-09-27: Skipping ZTF18abxxssh, less than 5 detections\n",
      "INFO:jnordin:2018-09-27: Skipping ZTF18abxphmy, never reached limit 19.5\n",
      "INFO:jnordin:2018-09-27: Skipping ZTF18abvkszn, never reached limit 19.5\n",
      "INFO:jnordin:2018-09-27: Skipping ZTF18abxbmqh, less than 5 detections\n",
      "INFO:jnordin:2018-09-27: Skipping ZTF18abyaxyu, never reached limit 19.5\n",
      "INFO:jnordin:2018-09-27: Skipping ZTF18abyzeub, less than 5 detections\n",
      "INFO:jnordin:2018-09-27: Skipping ZTF18abzpwvn, never reached limit 19.5\n",
      "INFO:jnordin:2018-09-27: Skipping ZTF18abwugyc, less than 5 detections\n",
      "INFO:jnordin:2018-09-27: Skipping ZTF18abyldss, never reached limit 19.5\n",
      "INFO:jnordin:2018-09-27: Skipping ZTF18abvosry, never reached limit 19.5\n",
      "INFO:jnordin:2018-09-27: Skipping ZTF18abzbknn, less than 5 detections\n",
      "INFO:jnordin:2018-09-27: Skipping ZTF18abxzwzd, less than 5 detections\n",
      "INFO:jnordin:2018-09-27: Skipping ZTF18abvxbfh, only 1 filters\n",
      "INFO:jnordin:2018-09-27: Skipping ZTF18abxazsz, never reached limit 19.5\n",
      "INFO:jnordin:2018-09-27: Skipping ZTF18abxfiec, less than 5 detections\n",
      "INFO:jnordin:2018-09-27: Skipping ZTF18abyvenk, less than 5 detections\n",
      "INFO:jnordin:2018-09-27: Skipping ZTF18abwemfk, never reached limit 19.5\n",
      "INFO:jnordin:2018-09-27: Skipping ZTF18abybyqw, less than 5 detections\n",
      "INFO:jnordin:2018-09-27: Skipping ZTF18abymhpa, never reached limit 19.5\n",
      "INFO:jnordin:2018-09-27: Skipping ZTF18abxyuzo, less than 5 detections\n",
      "INFO:jnordin:2018-09-27: Skipping ZTF18abuiiqm, less than 5 detections\n",
      "INFO:jnordin:2018-09-27: Skipping ZTF18abztrmk, never reached limit 19.5\n",
      "INFO:jnordin:2018-09-27: Skipping ZTF18abzmujj, less than 5 detections\n",
      "INFO:jnordin:2018-09-27: Skipping ZTF18abwkhjf, never reached limit 19.5\n"
     ]
    },
    {
     "name": "stdout",
     "output_type": "stream",
     "text": [
      "ZTF18abxzcky\n",
      "2018-09-27: Skipping ZTF18abxzcky, less than 5 detections\n",
      "ZTF18abyadtx\n",
      "2018-09-27: Skipping ZTF18abyadtx, less than 5 detections\n",
      "ZTF18abyzmsb\n",
      "2018-09-27: Skipping ZTF18abyzmsb, less than 5 detections\n",
      "ZTF18abxyudf\n",
      "ZTF18abfsglv\n",
      "ZTF18abwhsnx\n",
      "2018-09-27: Skipping ZTF18abwhsnx, never reached limit 19.5\n",
      "ZTF18abxxssh\n",
      "2018-09-27: Skipping ZTF18abxxssh, less than 5 detections\n",
      "ZTF18abxphmy\n",
      "2018-09-27: Skipping ZTF18abxphmy, never reached limit 19.5\n",
      "ZTF18abvkszn\n",
      "2018-09-27: Skipping ZTF18abvkszn, never reached limit 19.5\n",
      "ZTF18abxbmqh\n",
      "2018-09-27: Skipping ZTF18abxbmqh, less than 5 detections\n",
      "ZTF18abecggb\n",
      "ZTF18abyaxyu\n",
      "2018-09-27: Skipping ZTF18abyaxyu, never reached limit 19.5\n",
      "ZTF18abyzeub\n",
      "2018-09-27: Skipping ZTF18abyzeub, less than 5 detections\n",
      "ZTF18abvfecb\n",
      "ZTF18abzpwvn\n",
      "2018-09-27: Skipping ZTF18abzpwvn, never reached limit 19.5\n",
      "ZTF18abwugyc\n",
      "2018-09-27: Skipping ZTF18abwugyc, less than 5 detections\n",
      "ZTF18abyldss\n",
      "2018-09-27: Skipping ZTF18abyldss, never reached limit 19.5\n",
      "ZTF18abvosry\n",
      "2018-09-27: Skipping ZTF18abvosry, never reached limit 19.5\n",
      "ZTF18abzbknn\n",
      "2018-09-27: Skipping ZTF18abzbknn, less than 5 detections\n",
      "ZTF18abxzwzd\n",
      "2018-09-27: Skipping ZTF18abxzwzd, less than 5 detections\n",
      "ZTF18abvmqnk\n",
      "ZTF18abvxbfh\n",
      "2018-09-27: Skipping ZTF18abvxbfh, only 1 filters\n",
      "ZTF18abxazsz\n",
      "2018-09-27: Skipping ZTF18abxazsz, never reached limit 19.5\n",
      "ZTF18abxfiec\n",
      "2018-09-27: Skipping ZTF18abxfiec, less than 5 detections\n",
      "ZTF18abyvenk\n",
      "2018-09-27: Skipping ZTF18abyvenk, less than 5 detections\n",
      "ZTF18abwemfk\n",
      "2018-09-27: Skipping ZTF18abwemfk, never reached limit 19.5\n",
      "ZTF18abybyqw\n",
      "2018-09-27: Skipping ZTF18abybyqw, less than 5 detections\n",
      "ZTF18abymhpa\n",
      "2018-09-27: Skipping ZTF18abymhpa, never reached limit 19.5\n",
      "ZTF18abxyuzo\n",
      "2018-09-27: Skipping ZTF18abxyuzo, less than 5 detections\n",
      "ZTF18abuiiqm\n",
      "2018-09-27: Skipping ZTF18abuiiqm, less than 5 detections\n",
      "ZTF18abztrmk\n",
      "2018-09-27: Skipping ZTF18abztrmk, never reached limit 19.5\n",
      "ZTF18abzmujj\n",
      "2018-09-27: Skipping ZTF18abzmujj, less than 5 detections\n",
      "ZTF18abwkhjf\n"
     ]
    },
    {
     "name": "stderr",
     "output_type": "stream",
     "text": [
      "INFO:jnordin:2018-09-27: Skipping ZTF18abxmdan, never reached limit 19.5\n",
      "INFO:jnordin:2018-09-27: Skipping ZTF18abwnciz, never reached limit 19.5\n",
      "INFO:jnordin:2018-09-27: Skipping ZTF18abyfcqp, less than 5 detections\n",
      "INFO:jnordin:2018-09-27: Skipping ZTF18aaaeczy, never reached limit 19.5\n",
      "INFO:jnordin:2018-09-27: Skipping ZTF18abxywlg, less than 5 detections\n",
      "INFO:jnordin:2018-09-27: Skipping ZTF18abyikou, never reached limit 19.5\n",
      "INFO:jnordin:2018-09-27: Skipping ZTF18abxzyss, less than 5 detections\n",
      "INFO:jnordin:2018-09-27: Skipping ZTF18abvgizn, never reached limit 19.5\n",
      "INFO:jnordin:2018-09-27: Skipping ZTF18abtwyej, never reached limit 19.5\n",
      "INFO:jnordin:2018-09-27: Skipping ZTF18abxftqm, less than 5 detections\n",
      "INFO:jnordin:2018-09-27: Skipping ZTF18abxwvnq, less than 5 detections\n",
      "INFO:jnordin:2018-09-27: Skipping ZTF18abzppse, never reached limit 19.5\n",
      "INFO:jnordin:2018-09-27: Skipping ZTF18abxavdf, never reached limit 19.5\n",
      "INFO:jnordin:2018-09-27: Skipping ZTF18abvxoty, only 1 filters\n",
      "INFO:jnordin:2018-09-27: Skipping ZTF18abxzbdj, less than 5 detections\n",
      "INFO:jnordin:2018-09-27: Skipping ZTF18abznred, less than 5 detections\n",
      "INFO:jnordin:2018-09-27: Skipping ZTF18abyvbmj, less than 5 detections\n",
      "INFO:jnordin:2018-09-27: Skipping ZTF18abyvccs, less than 5 detections\n",
      "INFO:jnordin:2018-09-27: Skipping ZTF18abyfhuv, less than 5 detections\n",
      "INFO:jnordin:2018-09-27: Skipping ZTF18abolvzu, less than 5 detections\n",
      "INFO:jnordin:2018-09-27: Skipping ZTF18abywive, never reached limit 19.5\n",
      "INFO:jnordin:2018-09-27: Skipping ZTF18abxfott, never reached limit 19.5\n",
      "INFO:jnordin:2018-09-27: Skipping ZTF18abxyvdr, less than 5 detections\n",
      "INFO:jnordin:2018-09-27: Skipping ZTF18aazunkw, less than 5 detections\n",
      "INFO:jnordin:2018-09-27: Skipping ZTF18abvgivy, less than 5 detections\n",
      "INFO:jnordin:2018-09-27: Skipping ZTF18abnzljz, less than 5 detections\n"
     ]
    },
    {
     "name": "stdout",
     "output_type": "stream",
     "text": [
      "2018-09-27: Skipping ZTF18abwkhjf, never reached limit 19.5\n",
      "ZTF18abxmdan\n",
      "2018-09-27: Skipping ZTF18abxmdan, never reached limit 19.5\n",
      "ZTF18abwnciz\n",
      "2018-09-27: Skipping ZTF18abwnciz, never reached limit 19.5\n",
      "ZTF18abyfcqp\n",
      "2018-09-27: Skipping ZTF18abyfcqp, less than 5 detections\n",
      "ZTF18abwbtco\n",
      "ZTF18aaaeczy\n",
      "2018-09-27: Skipping ZTF18aaaeczy, never reached limit 19.5\n",
      "ZTF18abxywlg\n",
      "2018-09-27: Skipping ZTF18abxywlg, less than 5 detections\n",
      "ZTF18abyikou\n",
      "2018-09-27: Skipping ZTF18abyikou, never reached limit 19.5\n",
      "ZTF18abxzyss\n",
      "2018-09-27: Skipping ZTF18abxzyss, less than 5 detections\n",
      "ZTF18abvgizn\n",
      "2018-09-27: Skipping ZTF18abvgizn, never reached limit 19.5\n",
      "ZTF18abtwyej\n",
      "2018-09-27: Skipping ZTF18abtwyej, never reached limit 19.5\n",
      "ZTF18abxftqm\n",
      "2018-09-27: Skipping ZTF18abxftqm, less than 5 detections\n",
      "ZTF18abxwvnq\n",
      "2018-09-27: Skipping ZTF18abxwvnq, less than 5 detections\n",
      "ZTF18abzacuc\n",
      "ZTF18abzppse\n",
      "2018-09-27: Skipping ZTF18abzppse, never reached limit 19.5\n",
      "ZTF18abxavdf\n",
      "2018-09-27: Skipping ZTF18abxavdf, never reached limit 19.5\n",
      "ZTF18abwqbxc\n",
      "ZTF18abvxoty\n",
      "2018-09-27: Skipping ZTF18abvxoty, only 1 filters\n",
      "ZTF18abxdkni\n",
      "ZTF18abxzbdj\n",
      "2018-09-27: Skipping ZTF18abxzbdj, less than 5 detections\n",
      "ZTF18abznred\n",
      "2018-09-27: Skipping ZTF18abznred, less than 5 detections\n",
      "ZTF18abyvbmj\n",
      "2018-09-27: Skipping ZTF18abyvbmj, less than 5 detections\n",
      "ZTF18abxdtyz\n",
      "ZTF18abvrzqj\n",
      "ZTF18abyvccs\n",
      "2018-09-27: Skipping ZTF18abyvccs, less than 5 detections\n",
      "ZTF18abyfhuv\n",
      "2018-09-27: Skipping ZTF18abyfhuv, less than 5 detections\n",
      "ZTF18abolvzu\n",
      "2018-09-27: Skipping ZTF18abolvzu, less than 5 detections\n",
      "ZTF18abywive\n",
      "2018-09-27: Skipping ZTF18abywive, never reached limit 19.5\n",
      "ZTF18abxfott\n",
      "2018-09-27: Skipping ZTF18abxfott, never reached limit 19.5\n",
      "ZTF18abymhbx\n",
      "ZTF18abxyvdr\n",
      "2018-09-27: Skipping ZTF18abxyvdr, less than 5 detections\n",
      "ZTF18aazunkw\n",
      "2018-09-27: Skipping ZTF18aazunkw, less than 5 detections\n",
      "ZTF18abvgivy\n",
      "2018-09-27: Skipping ZTF18abvgivy, less than 5 detections\n",
      "ZTF18abnzljz\n",
      "2018-09-27: Skipping ZTF18abnzljz, less than 5 detections\n",
      "ZTF18abtokcw\n"
     ]
    },
    {
     "name": "stderr",
     "output_type": "stream",
     "text": [
      "INFO:jnordin:2018-09-27: Skipping ZTF18abtokcw, only 1 filters\n",
      "INFO:jnordin:2018-09-27: Skipping ZTF18abxznky, less than 5 detections\n",
      "INFO:jnordin:2018-09-27: Skipping ZTF17aadhcyv, less than 5 detections\n",
      "INFO:jnordin:2018-09-27: Skipping ZTF18abzqkui, never reached limit 19.5\n",
      "INFO:jnordin:2018-09-27: Skipping ZTF18abztltu, never reached limit 19.5\n",
      "INFO:jnordin:2018-09-27: Skipping ZTF18abxvwca, less than 5 detections\n",
      "INFO:jnordin:2018-09-27: Skipping ZTF18abyckme, less than 5 detections\n",
      "INFO:jnordin:2018-09-27: Skipping ZTF18abyekoi, never reached limit 19.5\n",
      "INFO:jnordin:2018-09-27: Skipping ZTF18abujiho, only 1 filters\n",
      "INFO:jnordin:2018-09-27: Skipping ZTF18abybuhw, less than 5 detections\n",
      "INFO:jnordin:2018-09-27: Skipping ZTF18abvgjgb, less than 5 detections\n",
      "INFO:jnordin:2018-09-27: Skipping ZTF18abcleke, less than 5 detections\n",
      "INFO:jnordin:2018-09-27: Skipping ZTF18abywclh, less than 5 detections\n",
      "INFO:jnordin:2018-09-27: Skipping ZTF18abflihq, never reached limit 19.5\n"
     ]
    },
    {
     "name": "stdout",
     "output_type": "stream",
     "text": [
      "2018-09-27: Skipping ZTF18abtokcw, only 1 filters\n",
      "ZTF18abxznky\n",
      "2018-09-27: Skipping ZTF18abxznky, less than 5 detections\n",
      "ZTF17aadhcyv\n",
      "2018-09-27: Skipping ZTF17aadhcyv, less than 5 detections\n",
      "ZTF18abzqkui\n",
      "2018-09-27: Skipping ZTF18abzqkui, never reached limit 19.5\n",
      "ZTF18abydspi\n",
      "ZTF18abztltu\n",
      "2018-09-27: Skipping ZTF18abztltu, never reached limit 19.5\n",
      "ZTF18abxvwca\n",
      "2018-09-27: Skipping ZTF18abxvwca, less than 5 detections\n",
      "ZTF18aazfthy\n",
      "ZTF18abyckme\n",
      "2018-09-27: Skipping ZTF18abyckme, less than 5 detections\n",
      "ZTF18abyekoi\n",
      "2018-09-27: Skipping ZTF18abyekoi, never reached limit 19.5\n",
      "ZTF18abujiho\n",
      "2018-09-27: Skipping ZTF18abujiho, only 1 filters\n",
      "ZTF18abybuhw\n",
      "2018-09-27: Skipping ZTF18abybuhw, less than 5 detections\n",
      "ZTF18abyenql\n",
      "ZTF18abvgjgb\n",
      "2018-09-27: Skipping ZTF18abvgjgb, less than 5 detections\n",
      "ZTF18abcleke\n",
      "2018-09-27: Skipping ZTF18abcleke, less than 5 detections\n",
      "ZTF18abywclh\n",
      "2018-09-27: Skipping ZTF18abywclh, less than 5 detections\n",
      "ZTF18abflihq\n",
      "2018-09-27: Skipping ZTF18abflihq, never reached limit 19.5\n",
      "Left with 66 candidates to scan\n"
     ]
    }
   ],
   "source": [
    "# Examine new candidates, build a list of the onces fulfilling basic criteria\n",
    "sncandidates = []\n",
    "for sne in df_candidates.iterrows():\n",
    "    print( sne[1][\"ztf_name\"] )\n",
    "    phot = df_phot[ df_phot[\"ztf_name\"]==sne[1][\"ztf_name\"] ]\n",
    "    filters = phot[\"fid\"]\n",
    "    jd = phot[\"jd\"]\n",
    "    magpsf = phot['magpsf']\n",
    "    if np.min(magpsf)> minpeakmag:\n",
    "        msg = \"%s: Skipping %s, never reached limit %s\"%(date,sne[1][\"ztf_name\"],minpeakmag)\n",
    "        logger.info(msg)\n",
    "        print(msg)\n",
    "        continue\n",
    "    if len(magpsf)< mindet:\n",
    "        msg = \"%s: Skipping %s, less than %s detections\"%(date,sne[1][\"ztf_name\"],mindet)\n",
    "        logger.info(msg)\n",
    "        print(msg)\n",
    "        continue\n",
    "\n",
    "    age = np.max(jd)-np.min(jd)\n",
    "    if age>maxage:\n",
    "        msg = \"%s: Skipping %s, age %s longer than limit %s\"%(date,sne[1][\"ztf_name\"],age,maxage)\n",
    "        logger.info(msg)\n",
    "        print(msg)\n",
    "        continue\n",
    "        \n",
    "    phot = df_phot[ df_phot[\"ztf_name\"]==sne[1][\"ztf_name\"] ]\n",
    "    if len(np.unique(phot[\"fid\"]))<minfilters:\n",
    "        msg = \"%s: Skipping %s, only %s filters\"%(date,sne[1][\"ztf_name\"],len(np.unique(phot[\"fid\"])))\n",
    "        logger.info(msg)\n",
    "        print(msg)\n",
    "        continue\n",
    "        \n",
    "    sncandidates.append(sne[1][\"ztf_name\"])\n",
    "    continue\n",
    "        \n",
    "    \n",
    "\n",
    "print(\"Left with %s candidates to scan\"%(len(sncandidates)))"
   ]
  },
  {
   "cell_type": "code",
   "execution_count": 10,
   "metadata": {},
   "outputs": [],
   "source": [
    "# Function to make stupid plot of a SN lightcurve\n",
    "def plotty(i):\n",
    "    \"\"\"\n",
    "    Quick plot of SN nbr k\n",
    "    i : {0:undecided, 1:submit, 2:wait 3:bogus}\n",
    "    \"\"\"\n",
    "    \n",
    "    global snnbr\n",
    "    \n",
    "    \n",
    "    # Evaluate reply\n",
    "    snname = sncandidates[snnbr]\n",
    "    if i == 'Wait':\n",
    "        logger.info(\"Waiting for further obs for SN %s %s\"%(snnbr,snname))\n",
    "        decisions[snnbr] = i\n",
    "        snnbr += 1\n",
    "    elif i == 'Submit':\n",
    "        logger.info(\"Sending SN %s %s for possible follow-up\"%(snnbr,snname))\n",
    "        decisions[snnbr] = i\n",
    "        snnbr += 1\n",
    "\n",
    "    elif i == 'Garbage':\n",
    "        logger.info(\"I never want to see SN %s %s again!\"%(snnbr,snname))\n",
    "        decisions[snnbr] = i\n",
    "        snnbr += 1\n",
    "\n",
    "    elif i == 'GoBack':\n",
    "        logger.info(\"I want to scan some more, go back!\")\n",
    "        snnbr -= 1\n",
    "    elif i=='Nothing':\n",
    "        # Lets do nothing\n",
    "        pass\n",
    "    \n",
    "    # Are we done?\n",
    "    if snnbr==len(sncandidates):\n",
    "        print( \"Seems like we are all done. How do we exit?\")\n",
    "        return False\n",
    "    \n",
    "    \n",
    "    # Reset    \n",
    "    snname = sncandidates[snnbr]\n",
    "    \n",
    "\n",
    "    phot = df_phot[ df_phot[\"ztf_name\"]==snname ]\n",
    "    filters = phot[\"fid\"]\n",
    "    jd = phot[\"jd\"]\n",
    "    magpsf = phot['magpsf']\n",
    "\n",
    "\n",
    "    plt.title(snname + ' ' + str(snnbr+1) + ' out of '+str(len(sncandidates)))\n",
    "    plt.plot(jd[filters==1]-Time.now().jd,magpsf[filters==1],'go')\n",
    "    plt.plot(jd[filters==2]-Time.now().jd,magpsf[filters==2],'ro')\n",
    "    plt.plot(jd[filters==3]-Time.now().jd,magpsf[filters==3],'ko')\n",
    "    plt.gca().invert_yaxis()\n",
    "    plt.show()\n",
    "    wiggy.value = 'Nothing'\n",
    "    \n",
    "    return (i)\n",
    "wiggy = widgets.RadioButtons(\n",
    "    options=['Nothing','Wait', 'Submit', 'Garbage','GoBack'],\n",
    "    value='Nothing',\n",
    "    description='Action:',\n",
    "    disabled=False\n",
    ")\n",
    "y = interactive(plotty,i = wiggy)"
   ]
  },
  {
   "cell_type": "code",
   "execution_count": 11,
   "metadata": {},
   "outputs": [],
   "source": [
    "# Presumably you want to scan from the first SN, but you can change this and run display again to revisit something\n",
    "# You cant jump ahead in the list though\n",
    "snnbr = 0\n"
   ]
  },
  {
   "cell_type": "code",
   "execution_count": 12,
   "metadata": {},
   "outputs": [],
   "source": [
    "# This is the all important list of decisions you have made\n",
    "decisions = {}"
   ]
  },
  {
   "cell_type": "code",
   "execution_count": null,
   "metadata": {},
   "outputs": [],
   "source": [
    "# This is the scanning box! \n",
    "# You have three choices (Nothing is not a choice and GoBack steps lets you go back in order)\n",
    "# - Wait : Select this if the transient is rizing and might get into RCF range (~<18.7)\n",
    "# - Submit : Should probably get a spectrum (you do not need to worry about where just yet)\n",
    "# - Garbage : Variable star or clearly non SNIa. Evanetually these will be rejected and never more show up\n",
    "display(y)"
   ]
  },
  {
   "cell_type": "code",
   "execution_count": null,
   "metadata": {},
   "outputs": [],
   "source": [
    "# Save the full decisions to the log\n",
    "logger.info(\"Full decision set: %s\"%(decisions))"
   ]
  },
  {
   "cell_type": "code",
   "execution_count": 13,
   "metadata": {},
   "outputs": [
    {
     "name": "stderr",
     "output_type": "stream",
     "text": [
      "INFO:marshaltools.ProgramList:Initialized ProgramList for program AMPEL Test (ID 4)\n",
      "INFO:marshaltools.ProgramList:Loaded 192 saved sources for program AMPEL Test.\n",
      "INFO:marshaltools.ProgramList:Getting scanning page transient for program AMPEL Test between 2018-03-01 00:00:00 and 2018-09-28 11:51:13 using dt: 120.00 h\n",
      "INFO:marshaltools.ProgramList:Downloading candidates. Iteration number 0: 43 jobs to do\n",
      "INFO:marshaltools.ProgramList:jobs are done: total 43, failed: 0\n",
      "INFO:marshaltools.ProgramList:Fetched 3263 candidates in 1.57e+01 sec\n"
     ]
    }
   ],
   "source": [
    "# Now fun starts for real. Lets download all the candidates and check whether we find all the candidate ids there\n",
    "# (cause are the only that are useful for saving). This will take a while.\n",
    "pl = marshaltools.ProgramList('AMPEL Test',load_candidates=True)"
   ]
  },
  {
   "cell_type": "code",
   "execution_count": 14,
   "metadata": {},
   "outputs": [
    {
     "name": "stderr",
     "output_type": "stream",
     "text": [
      "INFO:marshaltools.ProgramList:Trying to ingest 10 candidate(s) to marshal program AMPEL Test (ingest ID 4)\n"
     ]
    },
    {
     "name": "stdout",
     "output_type": "stream",
     "text": [
      "Starting ingesting at 2018-09-28 11:52:04.913613 (useful if you want to check scanning page directly)\n"
     ]
    },
    {
     "name": "stderr",
     "output_type": "stream",
     "text": [
      "INFO:marshaltools.ProgramList:Attempt 1: done ingesting candidates.\n",
      "INFO:marshaltools.ProgramList:veryfying ingestion looking at candidates ingested between 2018-09-28 11:52:04.916 and 2018-09-28 11:52:33.736\n",
      "INFO:marshaltools.ProgramList:attempt # 1. Of the desired candidates 7 successfully ingested, 3 failed\n",
      "INFO:marshaltools.ProgramList:Attempt 2: done ingesting candidates.\n",
      "INFO:marshaltools.ProgramList:veryfying ingestion looking at candidates ingested between 2018-09-28 11:52:04.916 and 2018-09-28 11:52:44.740\n",
      "INFO:marshaltools.ProgramList:attempt # 2. Of the desired candidates 0 successfully ingested, 3 failed\n",
      "INFO:marshaltools.ProgramList:Attempt 3: done ingesting candidates.\n",
      "INFO:marshaltools.ProgramList:veryfying ingestion looking at candidates ingested between 2018-09-28 11:52:04.916 and 2018-09-28 11:52:56.041\n",
      "INFO:marshaltools.ProgramList:attempt # 3. Of the desired candidates 0 successfully ingested, 3 failed\n",
      "INFO:jnordin:Tried to ingest [634445152015015010, 633163410315015008, 634211893715015190, 634306734915015002, 634274383415015037, 634182006115015005, 634523275415015006, 634418762815015009, 634226450415015028, 634356423615015001], failed for [633163410315015008, 634274383415015037, 634356423615015001]\n"
     ]
    },
    {
     "name": "stdout",
     "output_type": "stream",
     "text": [
      "Stoppedingesting at 2018-09-28 11:52:58.220543 (useful if you want to check scanning page directly)\n"
     ]
    }
   ],
   "source": [
    "ingestoldcand_start = Time.now()\n",
    "toingest = []\n",
    "for snnbr, choice in decisions.items():\n",
    "    if not choice=='Submit' : continue\n",
    "\n",
    "    avroid =  np.max( df_phot['_id'][ df_phot[\"ztf_name\"]==sncandidates[snnbr] ]  )\n",
    "    logger.info(\"Trying to ingest %s through avroid %s\"%(sncandidates[snnbr],avroid))\n",
    "    canddate = pl.find_source(sncandidates[snnbr],include_candidates=True)\n",
    "    if not canddate is None:\n",
    "        logger.info('... already a candidate with id %s'%(canddate['candid']))\n",
    "        continue\n",
    "    toingest.append(avroid)\n",
    "\n",
    "toingest = [634445152015015010, 633163410315015008, 634211893715015190, 634306734915015002, 634274383415015037, 634182006115015005, 634523275415015006, 634418762815015009, 634226450415015028, 634356423615015001]\n",
    "    \n",
    "print(\"Starting ingesting at %s (useful if you want to check scanning page directly)\"%(ingestoldcand_start))\n",
    "failed = pl.ingest_avro(toingest)\n",
    "logger.info(\"Tried to ingest %s, failed for %s\"%(toingest,failed))\n",
    "ingestoldcand_end = Time.now()\n",
    "print(\"Stoppedingesting at %s (useful if you want to check scanning page directly)\"%(ingestoldcand_end))"
   ]
  },
  {
   "cell_type": "code",
   "execution_count": 15,
   "metadata": {},
   "outputs": [
    {
     "name": "stderr",
     "output_type": "stream",
     "text": [
      "INFO:marshaltools.ProgramList:Initialized ProgramList for program AMPEL Test (ID 4)\n",
      "INFO:marshaltools.ProgramList:Loaded 192 saved sources for program AMPEL Test.\n",
      "INFO:marshaltools.ProgramList:Getting scanning page transient for program AMPEL Test between 2018-03-01 00:00:00 and 2018-09-28 11:53:39 using dt: 120.00 h\n",
      "INFO:marshaltools.ProgramList:Downloading candidates. Iteration number 0: 43 jobs to do\n",
      "INFO:marshaltools.ProgramList:jobs are done: total 43, failed: 0\n",
      "INFO:marshaltools.ProgramList:Fetched 3263 candidates in 1.61e+01 sec\n"
     ]
    }
   ],
   "source": [
    "# We do this again because it is soo funny\n",
    "pl = marshaltools.ProgramList('AMPEL Test',load_candidates=True)"
   ]
  },
  {
   "cell_type": "code",
   "execution_count": null,
   "metadata": {},
   "outputs": [],
   "source": [
    "# And we do this again as well. If this worked we should now have all candidates saved\n",
    "togrowth = []\n",
    "for snnbr, choice in decisions.items():\n",
    "    if not choice=='Submit' : continue\n",
    "\n",
    "    canddate = pl.find_source(sncandidates[snnbr],include_candidates=True)\n",
    "    if not canddate is None:\n",
    "        continue\n",
    "    avroid =  np.max( df_phot['_id'][ df_phot[\"ztf_name\"]==sncandidates[snnbr] ]  )\n",
    "    msg = \"Failed to ingest alert %s for SN %s\"%(avroid,sncandidates[snnbr])\n",
    "    logger.info(msg)\n",
    "    togrowth.append(msg)\n",
    "    \n"
   ]
  },
  {
   "cell_type": "code",
   "execution_count": null,
   "metadata": {},
   "outputs": [],
   "source": [
    "# Write an email to Mansi/Growth team with the following content\n",
    "print(togrowth)\n",
    "# And when we hear back from them this SN should be saved. I hope they do it for us"
   ]
  },
  {
   "cell_type": "code",
   "execution_count": null,
   "metadata": {},
   "outputs": [],
   "source": [
    "# Ok - this does not work since we have the wrong candidate id...\n",
    "missing_candidsne = []\n",
    "# Now it is time to save remaining candidates\n",
    "savecand_start = Time.now()\n",
    "print(\"Starting saving at %s (not really that useful)\"%(savecand_start))\n",
    "for snnbr, choice in decisions.items():\n",
    "    if not choice=='Submit' : continue\n",
    "\n",
    "    try:\n",
    "        candid = soupids[sncandidates[snnbr]]\n",
    "        logger.info(\"Try to save %s through candid %s\"%(sncandidates[snnbr],candid))\n",
    "        pl.save_source(candid,42)\n",
    "    except KeyError:\n",
    "        logger.info(\"Lacking candid for %s\"%(sncandidates[snnbr]))\n",
    "        missing_candidsne.append(snnbr)\n",
    "\n",
    "\n",
    "        \n",
    "savecand_end = Time.now()\n",
    "print(\"Stopped saving at %s\"%(savecand_end))"
   ]
  },
  {
   "cell_type": "code",
   "execution_count": null,
   "metadata": {},
   "outputs": [],
   "source": [
    "# Check whether we have missing candidate ids\n",
    "print(\"Missing candidate id for these sne: %s\"%(missing_candidsne))"
   ]
  },
  {
   "cell_type": "code",
   "execution_count": 25,
   "metadata": {},
   "outputs": [
    {
     "name": "stderr",
     "output_type": "stream",
     "text": [
      "INFO:marshaltools.ProgramList:Initialized ProgramList for program AMPEL Test (ID 4)\n",
      "INFO:marshaltools.ProgramList:Loaded 200 saved sources for program AMPEL Test.\n"
     ]
    }
   ],
   "source": [
    "# Reload saved sources\n",
    "pl = marshaltools.ProgramList('AMPEL Test',load_candidates=False)"
   ]
  },
  {
   "cell_type": "code",
   "execution_count": null,
   "metadata": {},
   "outputs": [],
   "source": [
    "# Loop through them again to check they are all saved\n",
    "for snnbr, choice in decisions.items():\n",
    "    if not choice=='Submit' : continue\n",
    "\n",
    "    canddate = pl.find_source(sncandidates[snnbr],include_candidates=False)\n",
    "    if canddate is None:\n",
    "        logger.info('SN %s was not saved. Oj oj.'%(sncandidates[snnbr]))\n",
    "        continue\n",
    "\n",
    "    logger.info('SN %s was saved'%(sncandidates[snnbr]))\n"
   ]
  },
  {
   "cell_type": "code",
   "execution_count": null,
   "metadata": {},
   "outputs": [],
   "source": [
    "## Hopefully done. If all of the candidates were saved (no ojojs) you are done with scanning!\n",
    "# If candidate IDs are still missing you have to try to scrape the webpages for them as below. Have fun!"
   ]
  },
  {
   "cell_type": "code",
   "execution_count": 3,
   "metadata": {},
   "outputs": [],
   "source": [
    "# Trying to get candid through the seargant\n",
    "from ampel.pipeline.t3.sergeant import marshal_functions\n",
    "tbase = Time.now()\n",
    "allcandidates = []"
   ]
  },
  {
   "cell_type": "code",
   "execution_count": 4,
   "metadata": {},
   "outputs": [
    {
     "name": "stdout",
     "output_type": "stream",
     "text": [
      "0\n",
      "Found 40 cands\n",
      "1\n",
      "Found 39 cands\n",
      "2\n",
      "Found 24 cands\n"
     ]
    }
   ],
   "source": [
    "for k in range(3):\n",
    "    print(k)\n",
    "    tend = Time(tbase.jd-k,format='jd')\n",
    "    tstart = Time(tbase.jd-k-1,format='jd')\n",
    "    ser = marshal_functions.Sergeant(program_name='AMPEL Test',start_date=tstart.iso,end_date=tend.iso, marshalusr='jnordin',marshalpwd='oskarthebaseplayer')\n",
    "    ser.cutprogramidx = 42\n",
    "    cands = ser.list_scan_sources()\n",
    "    print(\"Found %s cands\"%(len(cands)))\n",
    "    allcandidates.extend(cands)"
   ]
  },
  {
   "cell_type": "code",
   "execution_count": 7,
   "metadata": {},
   "outputs": [
    {
     "name": "stdout",
     "output_type": "stream",
     "text": [
      "new candidate ZTF18abufaej\n",
      "new candidate ZTF18abvrzqj\n",
      "new candidate ZTF18abvxqtp\n",
      "new candidate ZTF18abmfmos\n",
      "new candidate ZTF18abvfecb\n",
      "new candidate ZTF18abwbtco\n",
      "new candidate ZTF18abulqzb\n",
      "new candidate ZTF18ablprcf\n",
      "new candidate ZTF18abmwfxd\n",
      "new candidate ZTF18abxdkni\n",
      "new candidate ZTF18absgvqb\n",
      "new candidate ZTF18abporae\n",
      "new candidate ZTF18ablqjws\n",
      "new candidate ZTF18abmrhkl\n",
      "new candidate ZTF18abmoqpm\n",
      "new candidate ZTF18abysimb\n",
      "new candidate ZTF18abxbmcl\n",
      "new candidate ZTF18abytsmi\n",
      "new candidate ZTF18abzotbm\n",
      "new candidate ZTF18abyymsl\n",
      "new candidate ZTF18abnoedw\n",
      "new candidate ZTF18abwpddc\n",
      "new candidate ZTF18abxqdlm\n",
      "new candidate ZTF18abwwfyo\n",
      "new candidate ZTF18abxbwwf\n",
      "new candidate ZTF18ablrlbm\n",
      "new candidate ZTF18abymobs\n",
      "new candidate ZTF18abylttk\n",
      "new candidate ZTF18abymonp\n",
      "new candidate ZTF18aatycgd\n",
      "new candidate ZTF18abywfme\n",
      "new candidate ZTF18abywgcs\n",
      "new candidate ZTF18abrwqze\n",
      "new candidate ZTF18abcftam\n"
     ]
    }
   ],
   "source": [
    "for cand in allcandidates:\n",
    "    if cand[\"name\"] in soupids.keys():\n",
    "        continue\n",
    "    print(\"new candidate %s\"%(cand[\"name\"]))\n",
    "    soupids[cand[\"name\"]] = cand[\"candid\"]"
   ]
  },
  {
   "cell_type": "code",
   "execution_count": 8,
   "metadata": {},
   "outputs": [],
   "source": [
    "# Save the added dict of candidate id\n",
    "with open('sncandid_soup.json', 'w') as fp:\n",
    "    json.dump(soupids, fp)"
   ]
  },
  {
   "cell_type": "code",
   "execution_count": null,
   "metadata": {},
   "outputs": [],
   "source": []
  },
  {
   "cell_type": "code",
   "execution_count": null,
   "metadata": {
    "scrolled": true
   },
   "outputs": [],
   "source": []
  },
  {
   "cell_type": "code",
   "execution_count": 10,
   "metadata": {},
   "outputs": [],
   "source": [
    "foo = \"\"\"ZTF18ablrndb \n",
    "ZTF18aawlhkh\n",
    "ZTF18abporae\n",
    "ZTF17aabihdn\n",
    "ZTF18aawlhkh\n",
    "ZTF18absgvqb\n",
    "ZTF18ablprcf\n",
    "ZTF18abufaej\n",
    "ZTF18absrcps\n",
    "ZTF18abvfecb\n",
    "ZTF18abwbtco\n",
    "ZTF18abxdkni\n",
    "ZTF18abvrzqj\"\"\""
   ]
  },
  {
   "cell_type": "code",
   "execution_count": 11,
   "metadata": {},
   "outputs": [],
   "source": [
    "foo2 = foo.split(\"\\n\")"
   ]
  },
  {
   "cell_type": "code",
   "execution_count": 12,
   "metadata": {},
   "outputs": [
    {
     "name": "stdout",
     "output_type": "stream",
     "text": [
      "['ZTF18ablrndb ', 'ZTF18aawlhkh', 'ZTF18abporae', 'ZTF17aabihdn', 'ZTF18aawlhkh', 'ZTF18absgvqb', 'ZTF18ablprcf', 'ZTF18abufaej', 'ZTF18absrcps', 'ZTF18abvfecb', 'ZTF18abwbtco', 'ZTF18abxdkni', 'ZTF18abvrzqj']\n"
     ]
    }
   ],
   "source": [
    "print(foo2)"
   ]
  },
  {
   "cell_type": "code",
   "execution_count": null,
   "metadata": {},
   "outputs": [],
   "source": [
    "# cheat for 09 23\n"
   ]
  },
  {
   "cell_type": "code",
   "execution_count": 23,
   "metadata": {},
   "outputs": [
    {
     "name": "stderr",
     "output_type": "stream",
     "text": [
      "INFO:jnordin:Lacking candid for ZTF18ablrndb \n",
      "INFO:jnordin:Try to save ZTF18aawlhkh through candid 1545871\n",
      "INFO:marshaltools.ProgramList:Saving source 1545871 into program 42\n",
      "ERROR:marshaltools.ProgramList:No json returned: status 200\n",
      "INFO:jnordin:Try to save ZTF18abporae through candid 1554627\n",
      "INFO:marshaltools.ProgramList:Saving source 1554627 into program 42\n",
      "ERROR:marshaltools.ProgramList:No json returned: status 200\n",
      "INFO:jnordin:Try to save ZTF17aabihdn through candid 1546760\n",
      "INFO:marshaltools.ProgramList:Saving source 1546760 into program 42\n",
      "ERROR:marshaltools.ProgramList:No json returned: status 200\n",
      "INFO:jnordin:Try to save ZTF18aawlhkh through candid 1545871\n",
      "INFO:marshaltools.ProgramList:Saving source 1545871 into program 42\n",
      "ERROR:marshaltools.ProgramList:No json returned: status 200\n",
      "INFO:jnordin:Try to save ZTF18absgvqb through candid 1559399\n",
      "INFO:marshaltools.ProgramList:Saving source 1559399 into program 42\n",
      "ERROR:marshaltools.ProgramList:No json returned: status 200\n",
      "INFO:jnordin:Try to save ZTF18ablprcf through candid 1555641\n",
      "INFO:marshaltools.ProgramList:Saving source 1555641 into program 42\n",
      "ERROR:marshaltools.ProgramList:No json returned: status 200\n",
      "INFO:jnordin:Try to save ZTF18abufaej through candid 1559090\n",
      "INFO:marshaltools.ProgramList:Saving source 1559090 into program 42\n",
      "ERROR:marshaltools.ProgramList:No json returned: status 200\n",
      "INFO:jnordin:Try to save ZTF18absrcps through candid 1535950\n",
      "INFO:marshaltools.ProgramList:Saving source 1535950 into program 42\n",
      "ERROR:marshaltools.ProgramList:No json returned: status 200\n",
      "INFO:jnordin:Try to save ZTF18abvfecb through candid 1556357\n",
      "INFO:marshaltools.ProgramList:Saving source 1556357 into program 42\n",
      "ERROR:marshaltools.ProgramList:No json returned: status 200\n",
      "INFO:jnordin:Try to save ZTF18abwbtco through candid 1556215\n",
      "INFO:marshaltools.ProgramList:Saving source 1556215 into program 42\n",
      "ERROR:marshaltools.ProgramList:No json returned: status 200\n",
      "INFO:jnordin:Try to save ZTF18abxdkni through candid 1554861\n",
      "INFO:marshaltools.ProgramList:Saving source 1554861 into program 42\n",
      "ERROR:marshaltools.ProgramList:No json returned: status 200\n",
      "INFO:jnordin:Try to save ZTF18abvrzqj through candid 1558952\n",
      "INFO:marshaltools.ProgramList:Saving source 1558952 into program 42\n",
      "ERROR:marshaltools.ProgramList:No json returned: status 200\n"
     ]
    }
   ],
   "source": [
    "for snname in foo2:\n",
    "\n",
    "    try:\n",
    "        candid = soupids[snname]\n",
    "        logger.info(\"Try to save %s through candid %s\"%(snname,candid))\n",
    "        pl.save_source(candid,42)\n",
    "    except KeyError:\n",
    "        logger.info(\"Lacking candid for %s\"%(snname))\n"
   ]
  },
  {
   "cell_type": "code",
   "execution_count": null,
   "metadata": {},
   "outputs": [],
   "source": []
  },
  {
   "cell_type": "code",
   "execution_count": 26,
   "metadata": {},
   "outputs": [
    {
     "name": "stderr",
     "output_type": "stream",
     "text": [
      "INFO:jnordin:SN ZTF18ablrndb  was not saved. Oj oj.\n",
      "INFO:jnordin:SN ZTF18aawlhkh was not saved. Oj oj.\n",
      "INFO:jnordin:SN ZTF18abporae was saved\n",
      "INFO:jnordin:SN ZTF17aabihdn was not saved. Oj oj.\n",
      "INFO:jnordin:SN ZTF18aawlhkh was not saved. Oj oj.\n",
      "INFO:jnordin:SN ZTF18absgvqb was saved\n",
      "INFO:jnordin:SN ZTF18ablprcf was saved\n",
      "INFO:jnordin:SN ZTF18abufaej was saved\n",
      "INFO:jnordin:SN ZTF18absrcps was not saved. Oj oj.\n",
      "INFO:jnordin:SN ZTF18abvfecb was saved\n",
      "INFO:jnordin:SN ZTF18abwbtco was saved\n",
      "INFO:jnordin:SN ZTF18abxdkni was saved\n",
      "INFO:jnordin:SN ZTF18abvrzqj was saved\n"
     ]
    }
   ],
   "source": [
    "for snname in foo2:\n",
    "    canddate = pl.find_source(snname,include_candidates=False)\n",
    "    if canddate is None:\n",
    "        logger.info('SN %s was not saved. Oj oj.'%(snname))\n",
    "        continue\n",
    "\n",
    "    logger.info('SN %s was saved'%(snname))"
   ]
  },
  {
   "cell_type": "code",
   "execution_count": null,
   "metadata": {},
   "outputs": [],
   "source": []
  },
  {
   "cell_type": "code",
   "execution_count": 28,
   "metadata": {},
   "outputs": [
    {
     "name": "stdout",
     "output_type": "stream",
     "text": [
      "noooo.. ZTF18ablrndb \n",
      "ZTF18aawlhkh 1545871\n",
      "ZTF18abporae 1554627\n",
      "ZTF17aabihdn 1546760\n",
      "ZTF18aawlhkh 1545871\n",
      "ZTF18absgvqb 1559399\n",
      "ZTF18ablprcf 1555641\n",
      "ZTF18abufaej 1559090\n",
      "ZTF18absrcps 1535950\n",
      "ZTF18abvfecb 1556357\n",
      "ZTF18abwbtco 1556215\n",
      "ZTF18abxdkni 1554861\n",
      "ZTF18abvrzqj 1558952\n"
     ]
    }
   ],
   "source": [
    "for snname in foo2:\n",
    "    try:\n",
    "        print('%s %s'%(snname,soupids[snname]))\n",
    "    except KeyError:\n",
    "        print(\"noooo.. %s\"%(snname))"
   ]
  },
  {
   "cell_type": "code",
   "execution_count": null,
   "metadata": {},
   "outputs": [],
   "source": []
  }
 ],
 "metadata": {
  "kernelspec": {
   "display_name": "Python 3",
   "language": "python",
   "name": "python3"
  },
  "language_info": {
   "codemirror_mode": {
    "name": "ipython",
    "version": 3
   },
   "file_extension": ".py",
   "mimetype": "text/x-python",
   "name": "python",
   "nbconvert_exporter": "python",
   "pygments_lexer": "ipython3",
   "version": "3.6.3"
  }
 },
 "nbformat": 4,
 "nbformat_minor": 2
}
