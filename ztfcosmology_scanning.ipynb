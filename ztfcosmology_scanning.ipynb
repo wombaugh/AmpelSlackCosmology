{
 "cells": [
  {
   "cell_type": "code",
   "execution_count": 1,
   "metadata": {},
   "outputs": [],
   "source": [
    "#%matplotlib inline\n",
    "import numpy as np\n",
    "import pandas as pd\n",
    "import matplotlib.pyplot as plt\n",
    "import marshaltools\n",
    "from ast import literal_eval\n",
    "import logging\n",
    "from astropy.time import Time\n",
    "from ipywidgets import interactive\n",
    "import ipywidgets as widgets\n",
    "import re, os\n",
    "import requests\n",
    "import sncosmo\n",
    "import json\n",
    "\n",
    "from utils import get_config\n"
   ]
  },
  {
   "cell_type": "code",
   "execution_count": 2,
   "metadata": {},
   "outputs": [],
   "source": [
    "# If you are running this notebook for the first time, you will be prompted to enter your username and\n",
    "# the path to your downloads from slack. If you entered something incorrectly, you can correct this in .config\n",
    "config = get_config()\n",
    "\n",
    "username = config['username']\n",
    "date = '2018-09-29'\n",
    "maxz = 0.1\n",
    "minpeakmag = 19.5   # A candidate need to have at least one detection brigther than this\n",
    "mindet = 5          # A candidate need to have at least this many detections\n",
    "maxage = 30         # If a detection has an age older than this, skip (stars,age). \n",
    "                    # Q: How can histories be older than 30days?\n",
    "minfilters = 2      # Reported detections in at least this many filters\n",
    "minrefframes = 1    # Cut away alert information where this is not positive (how can it not be, but ok...)\n",
    "\n",
    "marshal_saveprogs = 'AMPEL'   # Candidates already in this program will not be scanned. Reg exp string, eg 'AMPEL|RCF'\n",
    "marshal_savid = 42\n",
    "logpath = 'logs/'\n",
    "slackfilepath = config['slackfilepath']\n",
    "\n",
    "# Get the other set of marshal source ids. Lets not talk about, took too much of my life alrady\n",
    "with open('sncandid_soup.json', 'r') as fp:\n",
    "    soupids = json.load(fp)\n",
    "\n",
    "# log. This should be saved and pushed to github. If everyone does this we should have the full scanning\n",
    "# history for this run\n",
    "logger = logging.getLogger(username)\n",
    "handler = logging.FileHandler(os.path.join(logpath, 'ztfcosmo_%s_%s.log'%(date,username)))\n",
    "handler.setLevel(logging.INFO)\n",
    "formatter = logging.Formatter('%(asctime)s - %(name)s - %(levelname)s - %(message)s')\n",
    "handler.setFormatter(formatter)\n",
    "logger.addHandler(handler)\n",
    "\n"
   ]
  },
  {
   "cell_type": "code",
   "execution_count": 3,
   "metadata": {},
   "outputs": [
    {
     "name": "stderr",
     "output_type": "stream",
     "text": [
      "INFO:jnordin:Cutting down alert info to subset with nrefframes keyword\n"
     ]
    }
   ],
   "source": [
    "df_sum = pd.read_csv(os.path.join(slackfilepath, \"Summary_%s.csv\"%(date)))\n",
    "df_phot = pd.read_csv(os.path.join(slackfilepath, \"Photometry_%s.csv\"%(date)))\n",
    "\n",
    "if minrefframes>0:\n",
    "    df_phot = df_phot[df_phot[\"nframesref\"]>minrefframes]\n",
    "    logger.info(\"Cutting down alert info to subset with nrefframes keyword\")"
   ]
  },
  {
   "cell_type": "code",
   "execution_count": 4,
   "metadata": {},
   "outputs": [
    {
     "name": "stderr",
     "output_type": "stream",
     "text": [
      "INFO:jnordin:There were 356 candidates reported 2018-09-29\n"
     ]
    }
   ],
   "source": [
    "logger.info(\"There were %s candidates reported %s\"%(df_sum.shape[0],date))"
   ]
  },
  {
   "cell_type": "code",
   "execution_count": 5,
   "metadata": {},
   "outputs": [
    {
     "name": "stderr",
     "output_type": "stream",
     "text": [
      "INFO:jnordin:Out of these 76 already have Marshal type and will be skipped.\n"
     ]
    }
   ],
   "source": [
    "# Find already classified SNe\n",
    "i_untyped = (df_sum[\"T2-classification\"]== \"None\") | (df_sum[\"T2-classification\"].isnull())\n",
    "df_classified = df_sum[ ~i_untyped]\n",
    "df_tmp = df_sum[ i_untyped]\n",
    "logger.info(\"Out of these %s already have Marshal type and will be skipped.\"%len(df_classified))\n"
   ]
  },
  {
   "cell_type": "code",
   "execution_count": 6,
   "metadata": {},
   "outputs": [
    {
     "name": "stderr",
     "output_type": "stream",
     "text": [
      "INFO:jnordin:43 have a catalog z larger than 0.1  and will be skipped.\n"
     ]
    }
   ],
   "source": [
    "# Are there any remaining candidates with spectroscopic redshifts above limit\n",
    "i_highz = ( (df_tmp['T2-NEDz_z']>maxz) | (df_tmp['T2-milliquas_redshift']>maxz)  | (df_tmp['T2-SDSS_spec_z']>maxz) ) \n",
    "df_classified = df_tmp[ i_highz]\n",
    "df_tmp2 = df_tmp[~i_highz]\n",
    "logger.info(\"%s have a catalog z larger than %s  and will be skipped.\"%(np.sum(i_highz),maxz))\n"
   ]
  },
  {
   "cell_type": "code",
   "execution_count": 7,
   "metadata": {},
   "outputs": [
    {
     "name": "stderr",
     "output_type": "stream",
     "text": [
      "INFO:jnordin:Detected 28 already saved candidates and 209 new\n"
     ]
    }
   ],
   "source": [
    "# Which are already saved in the marshal?\n",
    "i_saved = df_tmp2[\"T2-programs\"].str.contains(marshal_saveprogs, regex=True, na=False, flags=re.IGNORECASE)\n",
    "df_saved = df_tmp2[i_saved]\n",
    "df_candidates = df_tmp2[~i_saved]\n",
    "logger.info(\"Detected %s already saved candidates and %s new\"%(len(df_saved),len(df_candidates)))"
   ]
  },
  {
   "cell_type": "code",
   "execution_count": null,
   "metadata": {},
   "outputs": [],
   "source": []
  },
  {
   "cell_type": "code",
   "execution_count": null,
   "metadata": {},
   "outputs": [],
   "source": []
  },
  {
   "cell_type": "code",
   "execution_count": 8,
   "metadata": {},
   "outputs": [
    {
     "name": "stderr",
     "output_type": "stream",
     "text": [
      "INFO:jnordin:2018-09-29: Skipping ZTF18abuetml, never reached limit 19.5\n",
      "INFO:jnordin:2018-09-29: Skipping ZTF18abklshn, never reached limit 19.5\n",
      "INFO:jnordin:2018-09-29: Skipping ZTF18aaoiaac, less than 5 detections\n",
      "INFO:jnordin:2018-09-29: Skipping ZTF18absrdom, never reached limit 19.5\n",
      "INFO:jnordin:2018-09-29: Skipping ZTF18aaqzhib, only 1 filters\n",
      "INFO:jnordin:2018-09-29: Skipping ZTF18abehrdw, less than 5 detections\n",
      "INFO:jnordin:2018-09-29: Skipping ZTF18absmsbm, never reached limit 19.5\n",
      "INFO:jnordin:2018-09-29: Skipping ZTF18aawrbuc, never reached limit 19.5\n",
      "INFO:jnordin:2018-09-29: Skipping ZTF18abmsngt, only 1 filters\n",
      "INFO:jnordin:2018-09-29: Skipping ZTF18aatzuep, never reached limit 19.5\n",
      "INFO:jnordin:2018-09-29: Skipping ZTF18aaowwgf, less than 5 detections\n",
      "INFO:jnordin:2018-09-29: Skipping ZTF18aamhnti, only 1 filters\n",
      "INFO:jnordin:2018-09-29: Skipping ZTF18aarrqrn, less than 5 detections\n",
      "INFO:jnordin:2018-09-29: Skipping ZTF18abihisa, never reached limit 19.5\n",
      "INFO:jnordin:2018-09-29: Skipping ZTF18aaimsgg, only 1 filters\n",
      "INFO:jnordin:2018-09-29: Skipping ZTF18abihjwv, never reached limit 19.5\n",
      "INFO:jnordin:2018-09-29: Skipping ZTF18abdklhh, never reached limit 19.5\n",
      "INFO:jnordin:2018-09-29: Skipping ZTF18aartdln, never reached limit 19.5\n",
      "INFO:jnordin:2018-09-29: Skipping ZTF18abuluko, never reached limit 19.5\n",
      "INFO:jnordin:2018-09-29: Skipping ZTF18abuyxsw, never reached limit 19.5\n",
      "INFO:jnordin:2018-09-29: Skipping ZTF18aaolhsy, never reached limit 19.5\n",
      "INFO:jnordin:2018-09-29: Skipping ZTF18abgyjlk, never reached limit 19.5\n",
      "INFO:jnordin:2018-09-29: Skipping ZTF18aazydub, never reached limit 19.5\n",
      "INFO:jnordin:2018-09-29: Skipping ZTF18abesery, less than 5 detections\n",
      "INFO:jnordin:2018-09-29: Skipping ZTF18aasjdpy, never reached limit 19.5\n",
      "INFO:jnordin:2018-09-29: Skipping ZTF18abmezaq, only 1 filters\n",
      "INFO:jnordin:2018-09-29: Skipping ZTF18abukiix, never reached limit 19.5\n",
      "INFO:jnordin:2018-09-29: Skipping ZTF18aavtant, never reached limit 19.5\n",
      "INFO:jnordin:2018-09-29: Skipping ZTF18abltbxa, never reached limit 19.5\n",
      "INFO:jnordin:2018-09-29: Skipping ZTF18abeiqpq, never reached limit 19.5\n",
      "INFO:jnordin:2018-09-29: Skipping ZTF18aaptcqq, less than 5 detections\n",
      "INFO:jnordin:2018-09-29: Skipping ZTF18abtobub, never reached limit 19.5\n"
     ]
    },
    {
     "name": "stdout",
     "output_type": "stream",
     "text": [
      "ZTF18abnvirx\n",
      "ZTF18abuetml\n",
      "2018-09-29: Skipping ZTF18abuetml, never reached limit 19.5\n",
      "ZTF18abklshn\n",
      "2018-09-29: Skipping ZTF18abklshn, never reached limit 19.5\n",
      "ZTF18aaoiaac\n",
      "2018-09-29: Skipping ZTF18aaoiaac, less than 5 detections\n",
      "ZTF18abgrlpv\n",
      "ZTF18absrdom\n",
      "2018-09-29: Skipping ZTF18absrdom, never reached limit 19.5\n",
      "ZTF18aaqzhib\n",
      "2018-09-29: Skipping ZTF18aaqzhib, only 1 filters\n",
      "ZTF18abehrdw\n",
      "2018-09-29: Skipping ZTF18abehrdw, less than 5 detections\n",
      "ZTF18absmsbm\n",
      "2018-09-29: Skipping ZTF18absmsbm, never reached limit 19.5\n",
      "ZTF18aawrbuc\n",
      "2018-09-29: Skipping ZTF18aawrbuc, never reached limit 19.5\n",
      "ZTF18abmsngt\n",
      "2018-09-29: Skipping ZTF18abmsngt, only 1 filters\n",
      "ZTF18aatzuep\n",
      "2018-09-29: Skipping ZTF18aatzuep, never reached limit 19.5\n",
      "ZTF18aaydzjl\n",
      "ZTF18aaowwgf\n",
      "2018-09-29: Skipping ZTF18aaowwgf, less than 5 detections\n",
      "ZTF18abeecwe\n",
      "ZTF18aamhnti\n",
      "2018-09-29: Skipping ZTF18aamhnti, only 1 filters\n",
      "ZTF18aarrqrn\n",
      "2018-09-29: Skipping ZTF18aarrqrn, less than 5 detections\n",
      "ZTF18abihisa\n",
      "2018-09-29: Skipping ZTF18abihisa, never reached limit 19.5\n",
      "ZTF18aaqzomm\n",
      "ZTF18aaimsgg\n",
      "2018-09-29: Skipping ZTF18aaimsgg, only 1 filters\n",
      "ZTF18abihjwv\n",
      "2018-09-29: Skipping ZTF18abihjwv, never reached limit 19.5\n",
      "ZTF18abdklhh\n",
      "2018-09-29: Skipping ZTF18abdklhh, never reached limit 19.5\n",
      "ZTF18aartdln\n",
      "2018-09-29: Skipping ZTF18aartdln, never reached limit 19.5\n",
      "ZTF18abuluko\n",
      "2018-09-29: Skipping ZTF18abuluko, never reached limit 19.5\n",
      "ZTF18abuyxsw\n",
      "2018-09-29: Skipping ZTF18abuyxsw, never reached limit 19.5\n",
      "ZTF18aaolhsy\n",
      "2018-09-29: Skipping ZTF18aaolhsy, never reached limit 19.5\n",
      "ZTF18abgyjlk\n",
      "2018-09-29: Skipping ZTF18abgyjlk, never reached limit 19.5\n",
      "ZTF18aazydub\n",
      "2018-09-29: Skipping ZTF18aazydub, never reached limit 19.5\n",
      "ZTF18abesery\n",
      "2018-09-29: Skipping ZTF18abesery, less than 5 detections\n",
      "ZTF18aasjdpy\n",
      "2018-09-29: Skipping ZTF18aasjdpy, never reached limit 19.5\n",
      "ZTF18abgqvwv\n",
      "ZTF18abmezaq\n",
      "2018-09-29: Skipping ZTF18abmezaq, only 1 filters\n",
      "ZTF18abukiix\n",
      "2018-09-29: Skipping ZTF18abukiix, never reached limit 19.5\n",
      "ZTF18aampiwv\n",
      "ZTF18aavtant\n",
      "2018-09-29: Skipping ZTF18aavtant, never reached limit 19.5\n",
      "ZTF18abltbxa\n",
      "2018-09-29: Skipping ZTF18abltbxa, never reached limit 19.5\n",
      "ZTF18abeiqpq\n",
      "2018-09-29: Skipping ZTF18abeiqpq, never reached limit 19.5\n",
      "ZTF18aaptcqq\n",
      "2018-09-29: Skipping ZTF18aaptcqq, less than 5 detections\n",
      "ZTF18abmmszc\n",
      "ZTF18abtobub\n",
      "2018-09-29: Skipping ZTF18abtobub, never reached limit 19.5\n",
      "ZTF18aagteoy\n"
     ]
    },
    {
     "name": "stderr",
     "output_type": "stream",
     "text": [
      "INFO:jnordin:2018-09-29: Skipping ZTF18aburrut, never reached limit 19.5\n",
      "INFO:jnordin:2018-09-29: Skipping ZTF18abfmzaf, never reached limit 19.5\n",
      "INFO:jnordin:2018-09-29: Skipping ZTF18abimsyv, never reached limit 19.5\n",
      "INFO:jnordin:2018-09-29: Skipping ZTF18abskuxt, never reached limit 19.5\n",
      "INFO:jnordin:2018-09-29: Skipping ZTF18abkkbsn, never reached limit 19.5\n",
      "INFO:jnordin:2018-09-29: Skipping ZTF18abkbwhs, less than 5 detections\n",
      "INFO:jnordin:2018-09-29: Skipping ZTF18abacmps, only 1 filters\n",
      "INFO:jnordin:2018-09-29: Skipping ZTF18abtjyji, never reached limit 19.5\n",
      "INFO:jnordin:2018-09-29: Skipping ZTF18abkmfaj, never reached limit 19.5\n",
      "INFO:jnordin:2018-09-29: Skipping ZTF18aaltyor, never reached limit 19.5\n",
      "INFO:jnordin:2018-09-29: Skipping ZTF18aauayco, never reached limit 19.5\n",
      "INFO:jnordin:2018-09-29: Skipping ZTF18abtnwpa, never reached limit 19.5\n",
      "INFO:jnordin:2018-09-29: Skipping ZTF18abecbks, less than 5 detections\n",
      "INFO:jnordin:2018-09-29: Skipping ZTF18abitwua, never reached limit 19.5\n",
      "INFO:jnordin:2018-09-29: Skipping ZTF18aanhtig, never reached limit 19.5\n",
      "INFO:jnordin:2018-09-29: Skipping ZTF18absnmdd, never reached limit 19.5\n",
      "INFO:jnordin:2018-09-29: Skipping ZTF18abtoily, never reached limit 19.5\n",
      "INFO:jnordin:2018-09-29: Skipping ZTF18abnwufa, never reached limit 19.5\n",
      "INFO:jnordin:2018-09-29: Skipping ZTF18aazyefz, never reached limit 19.5\n",
      "INFO:jnordin:2018-09-29: Skipping ZTF18abecjrr, only 1 filters\n",
      "INFO:jnordin:2018-09-29: Skipping ZTF18aanxtko, never reached limit 19.5\n",
      "INFO:jnordin:2018-09-29: Skipping ZTF18abszxqc, never reached limit 19.5\n",
      "INFO:jnordin:2018-09-29: Skipping ZTF18aanvpol, less than 5 detections\n",
      "INFO:jnordin:2018-09-29: Skipping ZTF18abtkzfi, only 1 filters\n",
      "INFO:jnordin:2018-09-29: Skipping ZTF18aaxugta, never reached limit 19.5\n",
      "INFO:jnordin:2018-09-29: Skipping ZTF18abubjqi, never reached limit 19.5\n",
      "INFO:jnordin:2018-09-29: Skipping ZTF18abmmnqf, never reached limit 19.5\n"
     ]
    },
    {
     "name": "stdout",
     "output_type": "stream",
     "text": [
      "ZTF18abptskn\n",
      "ZTF18aampjcm\n",
      "ZTF18aburrut\n",
      "2018-09-29: Skipping ZTF18aburrut, never reached limit 19.5\n",
      "ZTF18aazffjy\n",
      "ZTF18abomklq\n",
      "ZTF18abfmzaf\n",
      "2018-09-29: Skipping ZTF18abfmzaf, never reached limit 19.5\n",
      "ZTF18abimsyv\n",
      "2018-09-29: Skipping ZTF18abimsyv, never reached limit 19.5\n",
      "ZTF18abskuxt\n",
      "2018-09-29: Skipping ZTF18abskuxt, never reached limit 19.5\n",
      "ZTF18abkkbsn\n",
      "2018-09-29: Skipping ZTF18abkkbsn, never reached limit 19.5\n",
      "ZTF18abkbwhs\n",
      "2018-09-29: Skipping ZTF18abkbwhs, less than 5 detections\n",
      "ZTF18abacmps\n",
      "2018-09-29: Skipping ZTF18abacmps, only 1 filters\n",
      "ZTF18abtjyji\n",
      "2018-09-29: Skipping ZTF18abtjyji, never reached limit 19.5\n",
      "ZTF18aaxndxa\n",
      "ZTF18abkmfaj\n",
      "2018-09-29: Skipping ZTF18abkmfaj, never reached limit 19.5\n",
      "ZTF18aaltyor\n",
      "2018-09-29: Skipping ZTF18aaltyor, never reached limit 19.5\n",
      "ZTF18abbmenz\n",
      "ZTF18aauayco\n",
      "2018-09-29: Skipping ZTF18aauayco, never reached limit 19.5\n",
      "ZTF18abtnwpa\n",
      "2018-09-29: Skipping ZTF18abtnwpa, never reached limit 19.5\n",
      "ZTF18abnvotk\n",
      "ZTF18abecbks\n",
      "2018-09-29: Skipping ZTF18abecbks, less than 5 detections\n",
      "ZTF18abitwua\n",
      "2018-09-29: Skipping ZTF18abitwua, never reached limit 19.5\n",
      "ZTF18aanhtig\n",
      "2018-09-29: Skipping ZTF18aanhtig, never reached limit 19.5\n",
      "ZTF18absnmdd\n",
      "2018-09-29: Skipping ZTF18absnmdd, never reached limit 19.5\n",
      "ZTF18abtoily\n",
      "2018-09-29: Skipping ZTF18abtoily, never reached limit 19.5\n",
      "ZTF18abpplqk\n",
      "ZTF18abnwufa\n",
      "2018-09-29: Skipping ZTF18abnwufa, never reached limit 19.5\n",
      "ZTF18aazyefz\n",
      "2018-09-29: Skipping ZTF18aazyefz, never reached limit 19.5\n",
      "ZTF18abecjrr\n",
      "2018-09-29: Skipping ZTF18abecjrr, only 1 filters\n",
      "ZTF18aaqovfv\n",
      "ZTF18aanxtko\n",
      "2018-09-29: Skipping ZTF18aanxtko, never reached limit 19.5\n",
      "ZTF18abszxqc\n",
      "2018-09-29: Skipping ZTF18abszxqc, never reached limit 19.5\n",
      "ZTF18aanvpol\n",
      "2018-09-29: Skipping ZTF18aanvpol, less than 5 detections\n",
      "ZTF18absnsqx\n",
      "ZTF18abtkzfi\n",
      "2018-09-29: Skipping ZTF18abtkzfi, only 1 filters\n",
      "ZTF18ablqjws\n",
      "ZTF18abslxpd\n",
      "ZTF18aaxugta\n",
      "2018-09-29: Skipping ZTF18aaxugta, never reached limit 19.5\n",
      "ZTF18aaibiuc\n",
      "ZTF18abtlqub\n",
      "ZTF18abkhqww\n",
      "ZTF18abubjqi\n",
      "2018-09-29: Skipping ZTF18abubjqi, never reached limit 19.5\n",
      "ZTF18absrcps\n",
      "ZTF18abmmnqf\n",
      "2018-09-29: Skipping ZTF18abmmnqf, never reached limit 19.5\n",
      "ZTF18aawhlgv\n",
      "ZTF18abxypzj\n"
     ]
    },
    {
     "name": "stderr",
     "output_type": "stream",
     "text": [
      "INFO:jnordin:2018-09-29: Skipping ZTF18abxypzj, never reached limit 19.5\n",
      "INFO:jnordin:2018-09-29: Skipping ZTF18abvvokw, less than 5 detections\n",
      "INFO:jnordin:2018-09-29: Skipping ZTF18abuyuqy, never reached limit 19.5\n",
      "INFO:jnordin:2018-09-29: Skipping ZTF18abzqxti, never reached limit 19.5\n",
      "INFO:jnordin:2018-09-29: Skipping ZTF18abzuvxy, never reached limit 19.5\n",
      "INFO:jnordin:2018-09-29: Skipping ZTF18abxxhzh, less than 5 detections\n",
      "INFO:jnordin:2018-09-29: Skipping ZTF18acacrzj, never reached limit 19.5\n",
      "INFO:jnordin:2018-09-29: Skipping ZTF18abuqmxl, never reached limit 19.5\n",
      "INFO:jnordin:2018-09-29: Skipping ZTF18abzpmud, never reached limit 19.5\n",
      "INFO:jnordin:2018-09-29: Skipping ZTF18abzsdju, less than 5 detections\n",
      "INFO:jnordin:2018-09-29: Skipping ZTF18abvgjft, only 1 filters\n",
      "INFO:jnordin:2018-09-29: Skipping ZTF18aakvxqj, less than 5 detections\n",
      "INFO:jnordin:2018-09-29: Skipping ZTF18abzvnsn, never reached limit 19.5\n",
      "INFO:jnordin:2018-09-29: Skipping ZTF18aaadrhw, less than 5 detections\n",
      "INFO:jnordin:2018-09-29: Skipping ZTF18abyukaz, less than 5 detections\n",
      "INFO:jnordin:2018-09-29: Skipping ZTF18abzvpif, less than 5 detections\n",
      "INFO:jnordin:2018-09-29: Skipping ZTF18abvoydx, never reached limit 19.5\n",
      "INFO:jnordin:2018-09-29: Skipping ZTF18abvidjo, never reached limit 19.5\n",
      "INFO:jnordin:2018-09-29: Skipping ZTF18abzvugp, less than 5 detections\n",
      "INFO:jnordin:2018-09-29: Skipping ZTF18abxybvx, never reached limit 19.5\n",
      "INFO:jnordin:2018-09-29: Skipping ZTF18ablcwde, less than 5 detections\n",
      "INFO:jnordin:2018-09-29: Skipping ZTF18abwlvna, never reached limit 19.5\n",
      "INFO:jnordin:2018-09-29: Skipping ZTF18abwfhqb, never reached limit 19.5\n",
      "INFO:jnordin:2018-09-29: Skipping ZTF18acacufr, never reached limit 19.5\n",
      "INFO:jnordin:2018-09-29: Skipping ZTF18acacedu, never reached limit 19.5\n",
      "INFO:jnordin:2018-09-29: Skipping ZTF18abahnpw, never reached limit 19.5\n",
      "INFO:jnordin:2018-09-29: Skipping ZTF18aboemtu, less than 5 detections\n",
      "INFO:jnordin:2018-09-29: Skipping ZTF18acacfgt, never reached limit 19.5\n",
      "INFO:jnordin:2018-09-29: Skipping ZTF18abcvcgs, less than 5 detections\n",
      "INFO:jnordin:2018-09-29: Skipping ZTF18abywive, never reached limit 19.5\n",
      "INFO:jnordin:2018-09-29: Skipping ZTF18acaednl, never reached limit 19.5\n",
      "INFO:jnordin:2018-09-29: Skipping ZTF18abxjekh, less than 5 detections\n",
      "INFO:jnordin:2018-09-29: Skipping ZTF18abxxssh, less than 5 detections\n",
      "INFO:jnordin:2018-09-29: Skipping ZTF18abxphmy, never reached limit 19.5\n",
      "INFO:jnordin:2018-09-29: Skipping ZTF18abymobs, less than 5 detections\n",
      "INFO:jnordin:2018-09-29: Skipping ZTF18aayehab, less than 5 detections\n",
      "INFO:jnordin:2018-09-29: Skipping ZTF18abzujwn, never reached limit 19.5\n"
     ]
    },
    {
     "name": "stdout",
     "output_type": "stream",
     "text": [
      "2018-09-29: Skipping ZTF18abxypzj, never reached limit 19.5\n",
      "ZTF18abvvokw\n",
      "2018-09-29: Skipping ZTF18abvvokw, less than 5 detections\n",
      "ZTF18abuyuqy\n",
      "2018-09-29: Skipping ZTF18abuyuqy, never reached limit 19.5\n",
      "ZTF18abzqxti\n",
      "2018-09-29: Skipping ZTF18abzqxti, never reached limit 19.5\n",
      "ZTF18abymhbx\n",
      "ZTF18abwusgl\n",
      "ZTF18abzuvxy\n",
      "2018-09-29: Skipping ZTF18abzuvxy, never reached limit 19.5\n",
      "ZTF18aazfthy\n",
      "ZTF18abxxhzh\n",
      "2018-09-29: Skipping ZTF18abxxhzh, less than 5 detections\n",
      "ZTF18acacrzj\n",
      "2018-09-29: Skipping ZTF18acacrzj, never reached limit 19.5\n",
      "ZTF18abuqmxl\n",
      "2018-09-29: Skipping ZTF18abuqmxl, never reached limit 19.5\n",
      "ZTF18abzpmud\n",
      "2018-09-29: Skipping ZTF18abzpmud, never reached limit 19.5\n",
      "ZTF18abzsdju\n",
      "2018-09-29: Skipping ZTF18abzsdju, less than 5 detections\n",
      "ZTF18abvgjft\n",
      "2018-09-29: Skipping ZTF18abvgjft, only 1 filters\n",
      "ZTF18aakvxqj\n",
      "2018-09-29: Skipping ZTF18aakvxqj, less than 5 detections\n",
      "ZTF18abzvnsn\n",
      "2018-09-29: Skipping ZTF18abzvnsn, never reached limit 19.5\n",
      "ZTF18abvxqtp\n",
      "ZTF18aaadrhw\n",
      "2018-09-29: Skipping ZTF18aaadrhw, less than 5 detections\n",
      "ZTF18abvvmdf\n",
      "ZTF18abyukaz\n",
      "2018-09-29: Skipping ZTF18abyukaz, less than 5 detections\n",
      "ZTF18abzvpif\n",
      "2018-09-29: Skipping ZTF18abzvpif, less than 5 detections\n",
      "ZTF18abvoydx\n",
      "2018-09-29: Skipping ZTF18abvoydx, never reached limit 19.5\n",
      "ZTF18abvidjo\n",
      "2018-09-29: Skipping ZTF18abvidjo, never reached limit 19.5\n",
      "ZTF18abfxqmz\n",
      "ZTF18abzvugp\n",
      "2018-09-29: Skipping ZTF18abzvugp, less than 5 detections\n",
      "ZTF18abvyvlr\n",
      "ZTF18abxybvx\n",
      "2018-09-29: Skipping ZTF18abxybvx, never reached limit 19.5\n",
      "ZTF18ablcwde\n",
      "2018-09-29: Skipping ZTF18ablcwde, less than 5 detections\n",
      "ZTF18abwlvna\n",
      "2018-09-29: Skipping ZTF18abwlvna, never reached limit 19.5\n",
      "ZTF18abwfhqb\n",
      "2018-09-29: Skipping ZTF18abwfhqb, never reached limit 19.5\n",
      "ZTF18acacufr\n",
      "2018-09-29: Skipping ZTF18acacufr, never reached limit 19.5\n",
      "ZTF18acacedu\n",
      "2018-09-29: Skipping ZTF18acacedu, never reached limit 19.5\n",
      "ZTF18abahnpw\n",
      "2018-09-29: Skipping ZTF18abahnpw, never reached limit 19.5\n",
      "ZTF18aboemtu\n",
      "2018-09-29: Skipping ZTF18aboemtu, less than 5 detections\n",
      "ZTF18acacfgt\n",
      "2018-09-29: Skipping ZTF18acacfgt, never reached limit 19.5\n",
      "ZTF18abzacuc\n",
      "ZTF18abzbknn\n",
      "ZTF18abcvcgs\n",
      "2018-09-29: Skipping ZTF18abcvcgs, less than 5 detections\n",
      "ZTF18abmiqbv\n",
      "ZTF18abywive\n",
      "2018-09-29: Skipping ZTF18abywive, never reached limit 19.5\n",
      "ZTF18acaednl\n",
      "2018-09-29: Skipping ZTF18acaednl, never reached limit 19.5\n",
      "ZTF18abxjekh\n",
      "2018-09-29: Skipping ZTF18abxjekh, less than 5 detections\n",
      "ZTF18abxxssh\n",
      "2018-09-29: Skipping ZTF18abxxssh, less than 5 detections\n",
      "ZTF18abxphmy\n",
      "2018-09-29: Skipping ZTF18abxphmy, never reached limit 19.5\n",
      "ZTF18abymobs\n",
      "2018-09-29: Skipping ZTF18abymobs, less than 5 detections\n",
      "ZTF18abecggb\n",
      "ZTF18aayehab\n",
      "2018-09-29: Skipping ZTF18aayehab, less than 5 detections\n",
      "ZTF18abzujwn\n"
     ]
    },
    {
     "name": "stderr",
     "output_type": "stream",
     "text": [
      "INFO:jnordin:2018-09-29: Skipping ZTF18abyaxyu, never reached limit 19.5\n",
      "INFO:jnordin:2018-09-29: Skipping ZTF18aawurfo, less than 5 detections\n",
      "INFO:jnordin:2018-09-29: Skipping ZTF18abyzeub, less than 5 detections\n",
      "INFO:jnordin:2018-09-29: Skipping ZTF18abxroxl, less than 5 detections\n",
      "INFO:jnordin:2018-09-29: Skipping ZTF18abwkvem, never reached limit 19.5\n",
      "INFO:jnordin:2018-09-29: Skipping ZTF18abwugyc, less than 5 detections\n",
      "INFO:jnordin:2018-09-29: Skipping ZTF18abvxyyb, never reached limit 19.5\n",
      "INFO:jnordin:2018-09-29: Skipping ZTF18abvosry, never reached limit 19.5\n",
      "INFO:jnordin:2018-09-29: Skipping ZTF18abzqpto, less than 5 detections\n",
      "INFO:jnordin:2018-09-29: Skipping ZTF18abznmjb, less than 5 detections\n",
      "INFO:jnordin:2018-09-29: Skipping ZTF18acacnmu, never reached limit 19.5\n",
      "INFO:jnordin:2018-09-29: Skipping ZTF18acafzqg, never reached limit 19.5\n",
      "INFO:jnordin:2018-09-29: Skipping ZTF18abyvenk, less than 5 detections\n",
      "INFO:jnordin:2018-09-29: Skipping ZTF18abuclli, only 1 filters\n",
      "INFO:jnordin:2018-09-29: Skipping ZTF18abybyqw, less than 5 detections\n",
      "INFO:jnordin:2018-09-29: Skipping ZTF18abvvqyt, never reached limit 19.5\n",
      "INFO:jnordin:2018-09-29: Skipping ZTF18abzvdux, never reached limit 19.5\n",
      "INFO:jnordin:2018-09-29: Skipping ZTF18abmmcdm, never reached limit 19.5\n",
      "INFO:jnordin:2018-09-29: Skipping ZTF18aaqomly, less than 5 detections\n",
      "INFO:jnordin:2018-09-29: Skipping ZTF18abvxoty, only 1 filters\n",
      "INFO:jnordin:2018-09-29: Skipping ZTF17aadhcyv, only 1 filters\n",
      "INFO:jnordin:2018-09-29: Skipping ZTF18abwnciz, never reached limit 19.5\n",
      "INFO:jnordin:2018-09-29: Skipping ZTF18abxiaql, less than 5 detections\n",
      "INFO:jnordin:2018-09-29: Skipping ZTF18abxzyss, less than 5 detections\n",
      "INFO:jnordin:2018-09-29: Skipping ZTF18abycxao, never reached limit 19.5\n",
      "INFO:jnordin:2018-09-29: Skipping ZTF18acabphv, never reached limit 19.5\n",
      "INFO:jnordin:2018-09-29: Skipping ZTF18aayecnq, less than 5 detections\n",
      "INFO:jnordin:2018-09-29: Skipping ZTF18abojqff, less than 5 detections\n",
      "INFO:jnordin:2018-09-29: Skipping ZTF18abtivcl, only 1 filters\n",
      "INFO:jnordin:2018-09-29: Skipping ZTF18abyanoj, never reached limit 19.5\n",
      "INFO:jnordin:2018-09-29: Skipping ZTF18abzpbpi, less than 5 detections\n",
      "INFO:jnordin:2018-09-29: Skipping ZTF18abwwfyo, less than 5 detections\n",
      "INFO:jnordin:2018-09-29: Skipping ZTF18acacesy, never reached limit 19.5\n",
      "INFO:jnordin:2018-09-29: Skipping ZTF18abzppse, never reached limit 19.5\n",
      "INFO:jnordin:2018-09-29: Skipping ZTF18abwckzf, less than 5 detections\n",
      "INFO:jnordin:2018-09-29: Skipping ZTF18acaekjn, less than 5 detections\n",
      "INFO:jnordin:2018-09-29: Skipping ZTF18acagagq, less than 5 detections\n",
      "INFO:jnordin:2018-09-29: Skipping ZTF18acafdth, never reached limit 19.5\n",
      "INFO:jnordin:2018-09-29: Skipping ZTF18abcreml, less than 5 detections\n",
      "INFO:jnordin:2018-09-29: Skipping ZTF18abyfjcy, never reached limit 19.5\n",
      "INFO:jnordin:2018-09-29: Skipping ZTF18acacooh, never reached limit 19.5\n"
     ]
    },
    {
     "name": "stdout",
     "output_type": "stream",
     "text": [
      "2018-09-29: Skipping ZTF18abzujwn, never reached limit 19.5\n",
      "ZTF18abyaxyu\n",
      "2018-09-29: Skipping ZTF18abyaxyu, never reached limit 19.5\n",
      "ZTF18aawurfo\n",
      "2018-09-29: Skipping ZTF18aawurfo, less than 5 detections\n",
      "ZTF18abyzeub\n",
      "2018-09-29: Skipping ZTF18abyzeub, less than 5 detections\n",
      "ZTF18abxroxl\n",
      "2018-09-29: Skipping ZTF18abxroxl, less than 5 detections\n",
      "ZTF18abwkvem\n",
      "2018-09-29: Skipping ZTF18abwkvem, never reached limit 19.5\n",
      "ZTF18abwugyc\n",
      "2018-09-29: Skipping ZTF18abwugyc, less than 5 detections\n",
      "ZTF18abvxyyb\n",
      "2018-09-29: Skipping ZTF18abvxyyb, never reached limit 19.5\n",
      "ZTF18abvosry\n",
      "2018-09-29: Skipping ZTF18abvosry, never reached limit 19.5\n",
      "ZTF18abzqpto\n",
      "2018-09-29: Skipping ZTF18abzqpto, less than 5 detections\n",
      "ZTF18abvxdou\n",
      "ZTF18abznmjb\n",
      "2018-09-29: Skipping ZTF18abznmjb, less than 5 detections\n",
      "ZTF18acacnmu\n",
      "2018-09-29: Skipping ZTF18acacnmu, never reached limit 19.5\n",
      "ZTF18acafzqg\n",
      "2018-09-29: Skipping ZTF18acafzqg, never reached limit 19.5\n",
      "ZTF18abyvenk\n",
      "2018-09-29: Skipping ZTF18abyvenk, less than 5 detections\n",
      "ZTF18abuclli\n",
      "2018-09-29: Skipping ZTF18abuclli, only 1 filters\n",
      "ZTF18abybyqw\n",
      "2018-09-29: Skipping ZTF18abybyqw, less than 5 detections\n",
      "ZTF18abyenql\n",
      "ZTF18abwqbxc\n",
      "ZTF18abvvqyt\n",
      "2018-09-29: Skipping ZTF18abvvqyt, never reached limit 19.5\n",
      "ZTF18abzvdux\n",
      "2018-09-29: Skipping ZTF18abzvdux, never reached limit 19.5\n",
      "ZTF18abmmcdm\n",
      "2018-09-29: Skipping ZTF18abmmcdm, never reached limit 19.5\n",
      "ZTF18abxxvza\n",
      "ZTF18aaqomly\n",
      "2018-09-29: Skipping ZTF18aaqomly, less than 5 detections\n",
      "ZTF18abvxoty\n",
      "2018-09-29: Skipping ZTF18abvxoty, only 1 filters\n",
      "ZTF17aadhcyv\n",
      "2018-09-29: Skipping ZTF17aadhcyv, only 1 filters\n",
      "ZTF18abwnciz\n",
      "2018-09-29: Skipping ZTF18abwnciz, never reached limit 19.5\n",
      "ZTF18abxiaql\n",
      "2018-09-29: Skipping ZTF18abxiaql, less than 5 detections\n",
      "ZTF18abxzyss\n",
      "2018-09-29: Skipping ZTF18abxzyss, less than 5 detections\n",
      "ZTF18abycxao\n",
      "2018-09-29: Skipping ZTF18abycxao, never reached limit 19.5\n",
      "ZTF18acabphv\n",
      "2018-09-29: Skipping ZTF18acabphv, never reached limit 19.5\n",
      "ZTF18abwzedh\n",
      "ZTF18aayecnq\n",
      "2018-09-29: Skipping ZTF18aayecnq, less than 5 detections\n",
      "ZTF18abojqff\n",
      "2018-09-29: Skipping ZTF18abojqff, less than 5 detections\n",
      "ZTF18abtivcl\n",
      "2018-09-29: Skipping ZTF18abtivcl, only 1 filters\n",
      "ZTF18abyanoj\n",
      "2018-09-29: Skipping ZTF18abyanoj, never reached limit 19.5\n",
      "ZTF18abzpbpi\n",
      "2018-09-29: Skipping ZTF18abzpbpi, less than 5 detections\n",
      "ZTF18abwwfyo\n",
      "2018-09-29: Skipping ZTF18abwwfyo, less than 5 detections\n",
      "ZTF18acacesy\n",
      "2018-09-29: Skipping ZTF18acacesy, never reached limit 19.5\n",
      "ZTF18abzppse\n",
      "2018-09-29: Skipping ZTF18abzppse, never reached limit 19.5\n",
      "ZTF18abwckzf\n",
      "2018-09-29: Skipping ZTF18abwckzf, less than 5 detections\n",
      "ZTF18acaekjn\n",
      "2018-09-29: Skipping ZTF18acaekjn, less than 5 detections\n",
      "ZTF18acagagq\n",
      "2018-09-29: Skipping ZTF18acagagq, less than 5 detections\n",
      "ZTF18acafdth\n",
      "2018-09-29: Skipping ZTF18acafdth, never reached limit 19.5\n",
      "ZTF18abcreml\n",
      "2018-09-29: Skipping ZTF18abcreml, less than 5 detections\n",
      "ZTF18abyfjcy\n",
      "2018-09-29: Skipping ZTF18abyfjcy, never reached limit 19.5\n",
      "ZTF18acacooh\n"
     ]
    },
    {
     "name": "stderr",
     "output_type": "stream",
     "text": [
      "INFO:jnordin:2018-09-29: Skipping ZTF18acacoog, never reached limit 19.5\n",
      "INFO:jnordin:2018-09-29: Skipping ZTF18abvnqzb, never reached limit 19.5\n",
      "INFO:jnordin:2018-09-29: Skipping ZTF18abtnryk, never reached limit 19.5\n",
      "INFO:jnordin:2018-09-29: Skipping ZTF18acacrxx, never reached limit 19.5\n",
      "INFO:jnordin:2018-09-29: Skipping ZTF18aayvegv, never reached limit 19.5\n",
      "INFO:jnordin:2018-09-29: Skipping ZTF18abywclh, less than 5 detections\n",
      "INFO:jnordin:2018-09-29: Skipping ZTF18abznvol, never reached limit 19.5\n",
      "INFO:jnordin:2018-09-29: Skipping ZTF18abymchm, less than 5 detections\n",
      "INFO:jnordin:2018-09-29: Skipping ZTF18acabvtg, never reached limit 19.5\n",
      "INFO:jnordin:2018-09-29: Skipping ZTF18abxqdlm, less than 5 detections\n",
      "INFO:jnordin:2018-09-29: Skipping ZTF18abylttk, less than 5 detections\n",
      "INFO:jnordin:2018-09-29: Skipping ZTF18aauqiar, never reached limit 19.5\n",
      "INFO:jnordin:2018-09-29: Skipping ZTF18abzmujj, less than 5 detections\n",
      "INFO:jnordin:2018-09-29: Skipping ZTF18abuzzyn, less than 5 detections\n",
      "INFO:jnordin:2018-09-29: Skipping ZTF18abzsqjw, less than 5 detections\n",
      "INFO:jnordin:2018-09-29: Skipping ZTF18abzmxax, never reached limit 19.5\n",
      "INFO:jnordin:2018-09-29: Skipping ZTF18abwgaek, only 1 filters\n",
      "INFO:jnordin:2018-09-29: Skipping ZTF18aaxypml, never reached limit 19.5\n",
      "INFO:jnordin:2018-09-29: Skipping ZTF18abvttfl, less than 5 detections\n",
      "INFO:jnordin:2018-09-29: Skipping ZTF18abwdhgj, never reached limit 19.5\n",
      "INFO:jnordin:2018-09-29: Skipping ZTF18abzphnn, less than 5 detections\n",
      "INFO:jnordin:2018-09-29: Skipping ZTF18abwpddc, less than 5 detections\n",
      "INFO:jnordin:2018-09-29: Skipping ZTF18abyloto, less than 5 detections\n",
      "INFO:jnordin:2018-09-29: Skipping ZTF18abvvmvw, less than 5 detections\n",
      "INFO:jnordin:2018-09-29: Skipping ZTF18abxdvvr, never reached limit 19.5\n",
      "INFO:jnordin:2018-09-29: Skipping ZTF18abcleke, less than 5 detections\n",
      "INFO:jnordin:2018-09-29: Skipping ZTF18abybuhw, less than 5 detections\n"
     ]
    },
    {
     "name": "stdout",
     "output_type": "stream",
     "text": [
      "2018-09-29: Skipping ZTF18acacooh, never reached limit 19.5\n",
      "ZTF18acacoog\n",
      "2018-09-29: Skipping ZTF18acacoog, never reached limit 19.5\n",
      "ZTF18abvnqzb\n",
      "2018-09-29: Skipping ZTF18abvnqzb, never reached limit 19.5\n",
      "ZTF18abtnryk\n",
      "2018-09-29: Skipping ZTF18abtnryk, never reached limit 19.5\n",
      "ZTF18acacrxx\n",
      "2018-09-29: Skipping ZTF18acacrxx, never reached limit 19.5\n",
      "ZTF18aayvegv\n",
      "2018-09-29: Skipping ZTF18aayvegv, never reached limit 19.5\n",
      "ZTF18abywclh\n",
      "2018-09-29: Skipping ZTF18abywclh, less than 5 detections\n",
      "ZTF18abznvol\n",
      "2018-09-29: Skipping ZTF18abznvol, never reached limit 19.5\n",
      "ZTF18abymchm\n",
      "2018-09-29: Skipping ZTF18abymchm, less than 5 detections\n",
      "ZTF18acabvtg\n",
      "2018-09-29: Skipping ZTF18acabvtg, never reached limit 19.5\n",
      "ZTF18abxqdlm\n",
      "2018-09-29: Skipping ZTF18abxqdlm, less than 5 detections\n",
      "ZTF18abylttk\n",
      "2018-09-29: Skipping ZTF18abylttk, less than 5 detections\n",
      "ZTF18aauqiar\n",
      "2018-09-29: Skipping ZTF18aauqiar, never reached limit 19.5\n",
      "ZTF18abzmujj\n",
      "2018-09-29: Skipping ZTF18abzmujj, less than 5 detections\n",
      "ZTF18abuzzyn\n",
      "2018-09-29: Skipping ZTF18abuzzyn, less than 5 detections\n",
      "ZTF18abzsqjw\n",
      "2018-09-29: Skipping ZTF18abzsqjw, less than 5 detections\n",
      "ZTF18aazunkw\n",
      "ZTF18abzmxax\n",
      "2018-09-29: Skipping ZTF18abzmxax, never reached limit 19.5\n",
      "ZTF18abwgaek\n",
      "2018-09-29: Skipping ZTF18abwgaek, only 1 filters\n",
      "ZTF18aaxypml\n",
      "2018-09-29: Skipping ZTF18aaxypml, never reached limit 19.5\n",
      "ZTF18abvttfl\n",
      "2018-09-29: Skipping ZTF18abvttfl, less than 5 detections\n",
      "ZTF18abwdhgj\n",
      "2018-09-29: Skipping ZTF18abwdhgj, never reached limit 19.5\n",
      "ZTF18abygdtf\n",
      "ZTF18abzphnn\n",
      "2018-09-29: Skipping ZTF18abzphnn, less than 5 detections\n",
      "ZTF18abwpddc\n",
      "2018-09-29: Skipping ZTF18abwpddc, less than 5 detections\n",
      "ZTF18abyloto\n",
      "2018-09-29: Skipping ZTF18abyloto, less than 5 detections\n",
      "ZTF18abvvmvw\n",
      "2018-09-29: Skipping ZTF18abvvmvw, less than 5 detections\n",
      "ZTF18abznred\n",
      "ZTF18abxdvvr\n",
      "2018-09-29: Skipping ZTF18abxdvvr, never reached limit 19.5\n",
      "ZTF18abcleke\n",
      "2018-09-29: Skipping ZTF18abcleke, less than 5 detections\n",
      "ZTF18abybuhw\n",
      "2018-09-29: Skipping ZTF18abybuhw, less than 5 detections\n",
      "Left with 45 candidates to scan\n"
     ]
    }
   ],
   "source": [
    "# Examine new candidates, build a list of the onces fulfilling basic criteria\n",
    "sncandidates = []\n",
    "for sne in df_candidates.iterrows():\n",
    "    print( sne[1][\"ztf_name\"] )\n",
    "    phot = df_phot[ df_phot[\"ztf_name\"]==sne[1][\"ztf_name\"] ]\n",
    "    filters = phot[\"fid\"]\n",
    "    jd = phot[\"jd\"]\n",
    "    magpsf = phot['magpsf']\n",
    "    if np.min(magpsf)> minpeakmag:\n",
    "        msg = \"%s: Skipping %s, never reached limit %s\"%(date,sne[1][\"ztf_name\"],minpeakmag)\n",
    "        logger.info(msg)\n",
    "        print(msg)\n",
    "        continue\n",
    "    if len(magpsf)< mindet:\n",
    "        msg = \"%s: Skipping %s, less than %s detections\"%(date,sne[1][\"ztf_name\"],mindet)\n",
    "        logger.info(msg)\n",
    "        print(msg)\n",
    "        continue\n",
    "\n",
    "    age = np.max(jd)-np.min(jd)\n",
    "    if age>maxage:\n",
    "        msg = \"%s: Skipping %s, age %s longer than limit %s\"%(date,sne[1][\"ztf_name\"],age,maxage)\n",
    "        logger.info(msg)\n",
    "        print(msg)\n",
    "        continue\n",
    "        \n",
    "    phot = df_phot[ df_phot[\"ztf_name\"]==sne[1][\"ztf_name\"] ]\n",
    "    if len(np.unique(phot[\"fid\"]))<minfilters:\n",
    "        msg = \"%s: Skipping %s, only %s filters\"%(date,sne[1][\"ztf_name\"],len(np.unique(phot[\"fid\"])))\n",
    "        logger.info(msg)\n",
    "        print(msg)\n",
    "        continue\n",
    "        \n",
    "    sncandidates.append(sne[1][\"ztf_name\"])\n",
    "    continue\n",
    "        \n",
    "    \n",
    "\n",
    "print(\"Left with %s candidates to scan\"%(len(sncandidates)))"
   ]
  },
  {
   "cell_type": "code",
   "execution_count": 9,
   "metadata": {},
   "outputs": [],
   "source": [
    "# Function to make stupid plot of a SN lightcurve\n",
    "def plotty(i):\n",
    "    \"\"\"\n",
    "    Quick plot of SN nbr k\n",
    "    i : {0:undecided, 1:submit, 2:wait 3:bogus}\n",
    "    \"\"\"\n",
    "    \n",
    "    global snnbr\n",
    "    \n",
    "    \n",
    "    # Evaluate reply\n",
    "    snname = sncandidates[snnbr]\n",
    "    if i == 'Wait':\n",
    "        logger.info(\"Waiting for further obs for SN %s %s\"%(snnbr,snname))\n",
    "        decisions[snnbr] = i\n",
    "        snnbr += 1\n",
    "    elif i == 'Submit':\n",
    "        logger.info(\"Sending SN %s %s for possible follow-up\"%(snnbr,snname))\n",
    "        decisions[snnbr] = i\n",
    "        snnbr += 1\n",
    "\n",
    "    elif i == 'Garbage':\n",
    "        logger.info(\"I never want to see SN %s %s again!\"%(snnbr,snname))\n",
    "        decisions[snnbr] = i\n",
    "        snnbr += 1\n",
    "\n",
    "    elif i == 'GoBack':\n",
    "        logger.info(\"I want to scan some more, go back!\")\n",
    "        snnbr -= 1\n",
    "    elif i=='Nothing':\n",
    "        # Lets do nothing\n",
    "        pass\n",
    "    \n",
    "    # Are we done?\n",
    "    if snnbr==len(sncandidates):\n",
    "        print( \"Seems like we are all done. How do we exit?\")\n",
    "        return False\n",
    "    \n",
    "    \n",
    "    # Reset    \n",
    "    snname = sncandidates[snnbr]\n",
    "    \n",
    "\n",
    "    phot = df_phot[ df_phot[\"ztf_name\"]==snname ]\n",
    "    filters = phot[\"fid\"]\n",
    "    jd = phot[\"jd\"]\n",
    "    magpsf = phot['magpsf']\n",
    "\n",
    "\n",
    "    plt.title(snname + ' ' + str(snnbr+1) + ' out of '+str(len(sncandidates)))\n",
    "    plt.plot(jd[filters==1]-Time.now().jd,magpsf[filters==1],'go')\n",
    "    plt.plot(jd[filters==2]-Time.now().jd,magpsf[filters==2],'ro')\n",
    "    plt.plot(jd[filters==3]-Time.now().jd,magpsf[filters==3],'ko')\n",
    "    plt.gca().invert_yaxis()\n",
    "    plt.show()\n",
    "    wiggy.value = 'Nothing'\n",
    "    \n",
    "    return (i)\n",
    "wiggy = widgets.RadioButtons(\n",
    "    options=['Nothing','Wait', 'Submit', 'Garbage','GoBack'],\n",
    "    value='Nothing',\n",
    "    description='Action:',\n",
    "    disabled=False\n",
    ")\n",
    "y = interactive(plotty,i = wiggy)"
   ]
  },
  {
   "cell_type": "code",
   "execution_count": 10,
   "metadata": {},
   "outputs": [],
   "source": [
    "# Presumably you want to scan from the first SN, but you can change this and run display again to revisit something\n",
    "# You cant jump ahead in the list though\n",
    "snnbr = 0\n"
   ]
  },
  {
   "cell_type": "code",
   "execution_count": 11,
   "metadata": {},
   "outputs": [],
   "source": [
    "# This is the all important list of decisions you have made\n",
    "decisions = {}"
   ]
  },
  {
   "cell_type": "code",
   "execution_count": 12,
   "metadata": {},
   "outputs": [
    {
     "data": {
      "application/vnd.jupyter.widget-view+json": {
       "model_id": "40232145555c4eb397daf0fb4b5a6884",
       "version_major": 2,
       "version_minor": 0
      },
      "text/plain": [
       "interactive(children=(RadioButtons(description='Action:', options=('Nothing', 'Wait', 'Submit', 'Garbage', 'Go…"
      ]
     },
     "metadata": {},
     "output_type": "display_data"
    }
   ],
   "source": [
    "# This is the scanning box! \n",
    "# You have three choices (Nothing is not a choice and GoBack steps lets you go back in order)\n",
    "# - Wait : Select this if the transient is rizing and might get into RCF range (~<18.7)\n",
    "# - Submit : Should probably get a spectrum (you do not need to worry about where just yet)\n",
    "# - Garbage : Variable star or clearly non SNIa. Evanetually these will be rejected and never more show up\n",
    "display(y)"
   ]
  },
  {
   "cell_type": "code",
   "execution_count": 13,
   "metadata": {},
   "outputs": [
    {
     "name": "stderr",
     "output_type": "stream",
     "text": [
      "INFO:jnordin:Full decision set: {0: 'Garbage', 1: 'Wait', 2: 'Wait', 3: 'Wait', 4: 'Wait', 5: 'Garbage', 6: 'Submit', 7: 'Submit', 8: 'Garbage', 9: 'Garbage', 10: 'Garbage', 11: 'Garbage', 12: 'Garbage', 13: 'Garbage', 14: 'Submit', 15: 'Garbage', 16: 'Garbage', 17: 'Garbage', 18: 'Garbage', 19: 'Garbage', 20: 'Wait', 21: 'Garbage', 22: 'Garbage', 23: 'Garbage', 24: 'Garbage', 25: 'Garbage', 26: 'Garbage', 27: 'Garbage', 28: 'Garbage', 29: 'Submit', 30: 'Garbage', 31: 'Garbage', 32: 'Garbage', 33: 'Wait', 34: 'Wait', 35: 'Garbage', 36: 'Garbage', 37: 'Garbage', 38: 'Garbage', 39: 'Garbage', 40: 'Garbage', 41: 'Submit', 42: 'Garbage', 43: 'Garbage', 44: 'Garbage'}\n"
     ]
    }
   ],
   "source": [
    "# Save the full decisions to the log\n",
    "logger.info(\"Full decision set: %s\"%(decisions))"
   ]
  },
  {
   "cell_type": "code",
   "execution_count": 14,
   "metadata": {},
   "outputs": [
    {
     "name": "stderr",
     "output_type": "stream",
     "text": [
      "INFO:marshaltools.ProgramList:Initialized ProgramList for program AMPEL Test (ID 4)\n",
      "INFO:marshaltools.ProgramList:Loaded 208 saved sources for program AMPEL Test.\n",
      "INFO:marshaltools.ProgramList:Getting scanning page transient for program AMPEL Test between 2018-03-01 00:00:00 and 2018-09-29 18:56:32 using dt: 120.00 h\n",
      "INFO:marshaltools.ProgramList:Downloading candidates. Iteration number 0: 43 jobs to do\n",
      "INFO:marshaltools.ProgramList:jobs are done: total 43, failed: 0\n",
      "INFO:marshaltools.ProgramList:Fetched 3555 candidates in 4.10e+01 sec\n",
      "INFO:marshaltools.ProgramList:Initialized ProgramList for program Cosmology (ID 2)\n",
      "INFO:marshaltools.ProgramList:Loaded 454 saved sources for program Cosmology.\n"
     ]
    }
   ],
   "source": [
    "# Now fun starts for real. Lets download all the candidates and check whether we find all the candidate ids there\n",
    "# (cause are the only that are useful for saving). This will take a while.\n",
    "pl = marshaltools.ProgramList('AMPEL Test',load_candidates=True)\n",
    "cpl = marshaltools.ProgramList('Cosmology',load_candidates=False)\n"
   ]
  },
  {
   "cell_type": "code",
   "execution_count": 15,
   "metadata": {},
   "outputs": [
    {
     "name": "stderr",
     "output_type": "stream",
     "text": [
      "INFO:jnordin:Trying to ingest ZTF18aampiwv through avroid 635142595715015003\n",
      "INFO:jnordin:... already a candidate with id 636222741415015023\n",
      "INFO:jnordin:Trying to ingest ZTF18abmmszc through avroid 636309501015010006\n",
      "INFO:jnordin:... already a candidate with id 636309501015010006\n",
      "INFO:jnordin:Trying to ingest ZTF18abbmenz through avroid 634180094915015018\n",
      "INFO:jnordin:... already a candidate with id 636199644915015015\n",
      "INFO:jnordin:Trying to ingest ZTF18abvxqtp through avroid 636302985215015010\n",
      "INFO:jnordin:... already a candidate with id 636303905215015008\n",
      "INFO:jnordin:Trying to ingest ZTF18abwzedh through avroid 636377563715015010\n",
      "INFO:jnordin:... already a candidate with id 636377563715015010\n",
      "INFO:marshaltools.ProgramList:Trying to ingest 0 candidate(s) to to marhsal program AMPEL Test using ingest ID 4\n"
     ]
    },
    {
     "name": "stdout",
     "output_type": "stream",
     "text": [
      "Starting ingesting at 2018-09-29 18:57:45.719926 (useful if you want to check scanning page directly)\n"
     ]
    },
    {
     "ename": "UnboundLocalError",
     "evalue": "local variable 'failed' referenced before assignment",
     "output_type": "error",
     "traceback": [
      "\u001b[0;31m---------------------------------------------------------------------------\u001b[0m",
      "\u001b[0;31mUnboundLocalError\u001b[0m                         Traceback (most recent call last)",
      "\u001b[0;32m<ipython-input-15-3cf16cebc448>\u001b[0m in \u001b[0;36m<module>\u001b[0;34m()\u001b[0m\n\u001b[1;32m     17\u001b[0m \u001b[0;34m\u001b[0m\u001b[0m\n\u001b[1;32m     18\u001b[0m \u001b[0mprint\u001b[0m\u001b[0;34m(\u001b[0m\u001b[0;34m\"Starting ingesting at %s (useful if you want to check scanning page directly)\"\u001b[0m\u001b[0;34m%\u001b[0m\u001b[0;34m(\u001b[0m\u001b[0mingestoldcand_start\u001b[0m\u001b[0;34m)\u001b[0m\u001b[0;34m)\u001b[0m\u001b[0;34m\u001b[0m\u001b[0m\n\u001b[0;32m---> 19\u001b[0;31m \u001b[0mfailed\u001b[0m \u001b[0;34m=\u001b[0m \u001b[0mpl\u001b[0m\u001b[0;34m.\u001b[0m\u001b[0mingest_avro\u001b[0m\u001b[0;34m(\u001b[0m\u001b[0mtoingest\u001b[0m\u001b[0;34m)\u001b[0m\u001b[0;34m\u001b[0m\u001b[0m\n\u001b[0m\u001b[1;32m     20\u001b[0m \u001b[0mlogger\u001b[0m\u001b[0;34m.\u001b[0m\u001b[0minfo\u001b[0m\u001b[0;34m(\u001b[0m\u001b[0;34m\"Tried to ingest %s, failed for %s\"\u001b[0m\u001b[0;34m%\u001b[0m\u001b[0;34m(\u001b[0m\u001b[0mtoingest\u001b[0m\u001b[0;34m,\u001b[0m\u001b[0mfailed\u001b[0m\u001b[0;34m)\u001b[0m\u001b[0;34m)\u001b[0m\u001b[0;34m\u001b[0m\u001b[0m\n\u001b[1;32m     21\u001b[0m \u001b[0mingestoldcand_end\u001b[0m \u001b[0;34m=\u001b[0m \u001b[0mTime\u001b[0m\u001b[0;34m.\u001b[0m\u001b[0mnow\u001b[0m\u001b[0;34m(\u001b[0m\u001b[0;34m)\u001b[0m\u001b[0;34m\u001b[0m\u001b[0m\n",
      "\u001b[0;32m~/local/github/marshaltools/marshaltools/ProgramList.py\u001b[0m in \u001b[0;36mingest_avro\u001b[0;34m(self, avro_id, be_anal, max_attempts)\u001b[0m\n\u001b[1;32m    143\u001b[0m             \u001b[0mmax_attempts\u001b[0m \u001b[0;34m=\u001b[0m \u001b[0mmax_attempts\u001b[0m\u001b[0;34m,\u001b[0m\u001b[0;34m\u001b[0m\u001b[0m\n\u001b[1;32m    144\u001b[0m             \u001b[0mauth\u001b[0m\u001b[0;34m=\u001b[0m\u001b[0;34m(\u001b[0m\u001b[0mself\u001b[0m\u001b[0;34m.\u001b[0m\u001b[0muser\u001b[0m\u001b[0;34m,\u001b[0m \u001b[0mself\u001b[0m\u001b[0;34m.\u001b[0m\u001b[0mpasswd\u001b[0m\u001b[0;34m)\u001b[0m\u001b[0;34m,\u001b[0m\u001b[0;34m\u001b[0m\u001b[0m\n\u001b[0;32m--> 145\u001b[0;31m             \u001b[0mlogger\u001b[0m\u001b[0;34m=\u001b[0m\u001b[0mself\u001b[0m\u001b[0;34m.\u001b[0m\u001b[0mlogger\u001b[0m\u001b[0;34m\u001b[0m\u001b[0m\n\u001b[0m\u001b[1;32m    146\u001b[0m             )\n\u001b[1;32m    147\u001b[0m \u001b[0;34m\u001b[0m\u001b[0m\n",
      "\u001b[0;32m~/local/github/marshaltools/marshaltools/gci_utils.py\u001b[0m in \u001b[0;36mingest_candidates\u001b[0;34m(avro_ids, program_name, program_id, be_anal, max_attempts, auth, logger)\u001b[0m\n\u001b[1;32m    238\u001b[0m \u001b[0;34m\u001b[0m\u001b[0m\n\u001b[1;32m    239\u001b[0m     \u001b[0;31m# return the list of ids that failed consistently after all the attempts\u001b[0m\u001b[0;34m\u001b[0m\u001b[0;34m\u001b[0m\u001b[0m\n\u001b[0;32m--> 240\u001b[0;31m     \u001b[0;32mreturn\u001b[0m \u001b[0mfailed\u001b[0m\u001b[0;34m\u001b[0m\u001b[0m\n\u001b[0m\u001b[1;32m    241\u001b[0m \u001b[0;34m\u001b[0m\u001b[0m\n\u001b[1;32m    242\u001b[0m \u001b[0;34m\u001b[0m\u001b[0m\n",
      "\u001b[0;31mUnboundLocalError\u001b[0m: local variable 'failed' referenced before assignment"
     ]
    }
   ],
   "source": [
    "ingestoldcand_start = Time.now()\n",
    "toingest = []\n",
    "for snnbr, choice in decisions.items():\n",
    "    if not choice=='Submit' : continue\n",
    "        \n",
    "    if sncandidates[snnbr] in cpl.sources:\n",
    "        print(\"%s already saved in cosmology!\"%(sncandidates[snnbr]))\n",
    "\n",
    "    avroid =  np.max( df_phot['_id'][ df_phot[\"ztf_name\"]==sncandidates[snnbr] ]  )\n",
    "    logger.info(\"Trying to ingest %s through avroid %s\"%(sncandidates[snnbr],avroid))\n",
    "    canddate = pl.find_source(sncandidates[snnbr],include_candidates=True)\n",
    "    if not canddate is None:\n",
    "        logger.info('... already a candidate with id %s'%(canddate['candid']))\n",
    "        continue\n",
    "    toingest.append(avroid)\n",
    "\n",
    "    \n",
    "print(\"Starting ingesting at %s (useful if you want to check scanning page directly)\"%(ingestoldcand_start))\n",
    "failed = pl.ingest_avro(toingest)\n",
    "logger.info(\"Tried to ingest %s, failed for %s\"%(toingest,failed))\n",
    "ingestoldcand_end = Time.now()\n",
    "print(\"Stoppedingesting at %s (useful if you want to check scanning page directly)\"%(ingestoldcand_end))"
   ]
  },
  {
   "cell_type": "code",
   "execution_count": 16,
   "metadata": {},
   "outputs": [
    {
     "name": "stderr",
     "output_type": "stream",
     "text": [
      "INFO:marshaltools.ProgramList:Initialized ProgramList for program AMPEL Test (ID 4)\n",
      "INFO:marshaltools.ProgramList:Loaded 208 saved sources for program AMPEL Test.\n",
      "INFO:marshaltools.ProgramList:Getting scanning page transient for program AMPEL Test between 2018-03-01 00:00:00 and 2018-09-29 18:58:33 using dt: 120.00 h\n",
      "INFO:marshaltools.ProgramList:Downloading candidates. Iteration number 0: 43 jobs to do\n",
      "INFO:marshaltools.ProgramList:jobs are done: total 43, failed: 0\n",
      "INFO:marshaltools.ProgramList:Fetched 3555 candidates in 3.63e+01 sec\n"
     ]
    }
   ],
   "source": [
    "# We do this again because it is soo funny\n",
    "pl = marshaltools.ProgramList('AMPEL Test',load_candidates=True)"
   ]
  },
  {
   "cell_type": "code",
   "execution_count": 17,
   "metadata": {},
   "outputs": [],
   "source": [
    "# And we do this again as well. If this worked we should now have all candidates saved\n",
    "togrowth = []\n",
    "for snnbr, choice in decisions.items():\n",
    "    if not choice=='Submit' : continue\n",
    "\n",
    "    canddate = pl.find_source(sncandidates[snnbr],include_candidates=True)\n",
    "    if not canddate is None:\n",
    "        continue\n",
    "    avroid =  np.max( df_phot['_id'][ df_phot[\"ztf_name\"]==sncandidates[snnbr] ]  )\n",
    "    msg = \"Failed to ingest alert %s for SN %s\"%(avroid,sncandidates[snnbr])\n",
    "    logger.info(msg)\n",
    "    togrowth.append(msg)\n",
    "    \n"
   ]
  },
  {
   "cell_type": "code",
   "execution_count": 18,
   "metadata": {},
   "outputs": [
    {
     "name": "stdout",
     "output_type": "stream",
     "text": [
      "[]\n"
     ]
    }
   ],
   "source": [
    "# Write an email to Mansi/Growth team with the following content\n",
    "print(togrowth)\n",
    "# And when we hear back from them this SN should be saved. I hope they do it for us"
   ]
  },
  {
   "cell_type": "code",
   "execution_count": 27,
   "metadata": {},
   "outputs": [
    {
     "name": "stderr",
     "output_type": "stream",
     "text": [
      "INFO:jnordin:Try to save ZTF18aampiwv through candid 1545342\n",
      "INFO:marshaltools.ProgramList:Saving source ZTF18aampiwv into program 42\n"
     ]
    },
    {
     "name": "stdout",
     "output_type": "stream",
     "text": [
      "Starting saving at 2018-09-29 19:05:12.266935 (not really that useful)\n"
     ]
    },
    {
     "name": "stderr",
     "output_type": "stream",
     "text": [
      "INFO:jnordin:Try to save ZTF18abmmszc through candid 1541678\n",
      "INFO:marshaltools.ProgramList:Saving source ZTF18abmmszc into program 42\n",
      "INFO:jnordin:Try to save ZTF18abbmenz through candid 1545046\n",
      "INFO:marshaltools.ProgramList:Saving source ZTF18abbmenz into program 42\n",
      "INFO:jnordin:Try to save ZTF18abvxqtp through candid 1558718\n",
      "INFO:marshaltools.ProgramList:Saving source ZTF18abvxqtp into program 42\n",
      "INFO:jnordin:Try to save ZTF18abwzedh through candid 1564237\n",
      "INFO:marshaltools.ProgramList:Saving source ZTF18abwzedh into program 42\n"
     ]
    },
    {
     "name": "stdout",
     "output_type": "stream",
     "text": [
      "Stopped saving at 2018-09-29 19:05:31.209390\n"
     ]
    }
   ],
   "source": [
    "# NOTE: This regularly failes to be recieved at the Marshal ends. As long as one or more\n",
    "# SNe are not properly saved you will have to rerun these cells with some breaks inbetween.\n",
    "# At the other hand we can now saved based on the name, so it does not look like we have to worry about missing ids\n",
    "missing_candidsne = []\n",
    "# Now it is time to save remaining candidates\n",
    "savecand_start = Time.now()\n",
    "print(\"Starting saving at %s (not really that useful)\"%(savecand_start))\n",
    "for snnbr, choice in decisions.items():\n",
    "    if not choice=='Submit' : continue\n",
    "\n",
    "    try:\n",
    "        candid = soupids[sncandidates[snnbr]]\n",
    "        logger.info(\"Try to save %s through candid %s\"%(sncandidates[snnbr],candid))\n",
    "        pl.save_source_name(sncandidates[snnbr],42)\n",
    "#        pl.save_source(candid,42)\n",
    "    except KeyError:\n",
    "        logger.info(\"Lacking candid for %s\"%(sncandidates[snnbr]))\n",
    "        missing_candidsne.append(snnbr)\n",
    "\n",
    "\n",
    "        \n",
    "savecand_end = Time.now()\n",
    "print(\"Stopped saving at %s\"%(savecand_end))"
   ]
  },
  {
   "cell_type": "code",
   "execution_count": 28,
   "metadata": {},
   "outputs": [
    {
     "name": "stdout",
     "output_type": "stream",
     "text": [
      "Missing candidate id for these sne: []\n"
     ]
    }
   ],
   "source": [
    "# Check whether we have missing candidate ids\n",
    "print(\"Missing candidate id for these sne: %s\"%(missing_candidsne))"
   ]
  },
  {
   "cell_type": "code",
   "execution_count": 30,
   "metadata": {},
   "outputs": [
    {
     "name": "stderr",
     "output_type": "stream",
     "text": [
      "INFO:marshaltools.ProgramList:Initialized ProgramList for program AMPEL Test (ID 4)\n",
      "INFO:marshaltools.ProgramList:Loaded 213 saved sources for program AMPEL Test.\n"
     ]
    }
   ],
   "source": [
    "# Reload saved sources\n",
    "pl = marshaltools.ProgramList('AMPEL Test',load_candidates=False)"
   ]
  },
  {
   "cell_type": "code",
   "execution_count": 31,
   "metadata": {},
   "outputs": [
    {
     "name": "stderr",
     "output_type": "stream",
     "text": [
      "INFO:jnordin:SN ZTF18aampiwv was saved\n",
      "INFO:jnordin:SN ZTF18abmmszc was saved\n",
      "INFO:jnordin:SN ZTF18abbmenz was saved\n",
      "INFO:jnordin:SN ZTF18abvxqtp was saved\n",
      "INFO:jnordin:SN ZTF18abwzedh was saved\n"
     ]
    }
   ],
   "source": [
    "# Loop through them again to check they are all saved\n",
    "for snnbr, choice in decisions.items():\n",
    "    if not choice=='Submit' : continue\n",
    "\n",
    "    canddate = pl.find_source(sncandidates[snnbr],include_candidates=False)\n",
    "    if canddate is None:\n",
    "        logger.info('SN %s was not saved. Oj oj.'%(sncandidates[snnbr]))\n",
    "        continue\n",
    "\n",
    "    logger.info('SN %s was saved'%(sncandidates[snnbr]))\n"
   ]
  },
  {
   "cell_type": "code",
   "execution_count": null,
   "metadata": {},
   "outputs": [],
   "source": [
    "## Hopefully done. If all of the candidates were saved (no ojojs) you are done with scanning!\n",
    "# If candidate IDs are still missing you have to try to scrape the webpages for them as below. Have fun!"
   ]
  },
  {
   "cell_type": "code",
   "execution_count": 23,
   "metadata": {},
   "outputs": [],
   "source": [
    "# Trying to get candid through the seargant\n",
    "from ampel.pipeline.t3.sergeant import marshal_functions\n",
    "tbase = Time.now()\n",
    "allcandidates = []"
   ]
  },
  {
   "cell_type": "code",
   "execution_count": 24,
   "metadata": {},
   "outputs": [
    {
     "name": "stdout",
     "output_type": "stream",
     "text": [
      "0\n",
      "Found 191 cands\n"
     ]
    }
   ],
   "source": [
    "for k in range(1):\n",
    "    print(k)\n",
    "    tend = Time(tbase.jd-k,format='jd')\n",
    "    tstart = Time(tbase.jd-k-1,format='jd')\n",
    "    ser = marshal_functions.Sergeant(program_name='AMPEL Test',start_date=tstart.iso,end_date=tend.iso, marshalusr='jnordin',marshalpwd='oskarthebaseplayer')\n",
    "    ser.cutprogramidx = 42\n",
    "    cands = ser.list_scan_sources()\n",
    "    print(\"Found %s cands\"%(len(cands)))\n",
    "    allcandidates.extend(cands)"
   ]
  },
  {
   "cell_type": "code",
   "execution_count": 25,
   "metadata": {},
   "outputs": [
    {
     "name": "stdout",
     "output_type": "stream",
     "text": [
      "new candidate ZTF18abuqmxl\n",
      "new candidate ZTF18abwkvem\n",
      "new candidate ZTF18abvsvjs\n",
      "new candidate ZTF18aboemtu\n",
      "new candidate ZTF18abvttfl\n",
      "new candidate ZTF18abyloto\n",
      "new candidate ZTF18abzpbpi\n",
      "new candidate ZTF18acafzqg\n",
      "new candidate ZTF18abxjekh\n",
      "new candidate ZTF18acagagq\n",
      "new candidate ZTF18abuhyjv\n",
      "new candidate ZTF18abxiaql\n",
      "new candidate ZTF18abycxao\n",
      "new candidate ZTF18acaekjn\n",
      "new candidate ZTF18abtmbaz\n",
      "new candidate ZTF18abwzedh\n",
      "new candidate ZTF18abwkrbl\n",
      "new candidate ZTF18abyzlhn\n",
      "new candidate ZTF18absclsr\n",
      "new candidate ZTF18abzsdju\n",
      "new candidate ZTF18abzsllv\n",
      "new candidate ZTF18aaadrhw\n",
      "new candidate ZTF18abxroxl\n",
      "new candidate ZTF18abybuhw\n",
      "new candidate ZTF18abryqnn\n",
      "new candidate ZTF18abodiov\n",
      "new candidate ZTF18acafdth\n",
      "new candidate ZTF18abznvol\n",
      "new candidate ZTF18abyanoj\n",
      "new candidate ZTF18abvyvlr\n",
      "new candidate ZTF18abwfhqb\n",
      "new candidate ZTF18abxdvvr\n",
      "new candidate ZTF18abomklq\n",
      "new candidate ZTF18acaednl\n",
      "new candidate ZTF18abkhqww\n",
      "new candidate ZTF18abcvcgs\n",
      "new candidate ZTF18abkmfaj\n",
      "new candidate ZTF18abdklhh\n",
      "new candidate ZTF18abtnryk\n",
      "new candidate ZTF18aawhlgv\n",
      "new candidate ZTF18abxczhc\n",
      "new candidate ZTF18abtnwpa\n",
      "new candidate ZTF18abzvugp\n",
      "new candidate ZTF18abuzzyn\n",
      "new candidate ZTF18abzpknj\n",
      "new candidate ZTF18aaqomly\n",
      "new candidate ZTF18aaimsgg\n",
      "new candidate ZTF18aaxudip\n",
      "new candidate ZTF18abwdhgj\n",
      "new candidate ZTF18aayaphx\n",
      "new candidate ZTF18abdmejr\n",
      "new candidate ZTF18aaqovfv\n",
      "new candidate ZTF18aaptcqq\n",
      "new candidate ZTF18abzvdux\n",
      "new candidate ZTF18abyukaz\n",
      "new candidate ZTF18abtobub\n",
      "new candidate ZTF18aaltyor\n",
      "new candidate ZTF18abznmjb\n",
      "new candidate ZTF18aayehab\n",
      "new candidate ZTF18aaxypml\n",
      "new candidate ZTF18abbxisr\n",
      "new candidate ZTF18abzpmud\n",
      "new candidate ZTF18abzvnsn\n",
      "new candidate ZTF18acacufr\n"
     ]
    }
   ],
   "source": [
    "for cand in allcandidates:\n",
    "    if cand[\"name\"] in soupids.keys():\n",
    "        continue\n",
    "    print(\"new candidate %s\"%(cand[\"name\"]))\n",
    "    soupids[cand[\"name\"]] = cand[\"candid\"]"
   ]
  },
  {
   "cell_type": "code",
   "execution_count": 26,
   "metadata": {},
   "outputs": [],
   "source": [
    "# Save the added dict of candidate id\n",
    "with open('sncandid_soup.json', 'w') as fp:\n",
    "    json.dump(soupids, fp)"
   ]
  },
  {
   "cell_type": "code",
   "execution_count": null,
   "metadata": {},
   "outputs": [],
   "source": []
  },
  {
   "cell_type": "code",
   "execution_count": null,
   "metadata": {
    "scrolled": true
   },
   "outputs": [],
   "source": []
  },
  {
   "cell_type": "code",
   "execution_count": 11,
   "metadata": {},
   "outputs": [],
   "source": [
    "foo = \"\"\"ZTF18ablrndb \n",
    "ZTF18aawlhkh\n",
    "ZTF18abporae\n",
    "ZTF17aabihdn\n",
    "ZTF18aawlhkh\n",
    "ZTF18absgvqb\n",
    "ZTF18ablprcf\n",
    "ZTF18abufaej\n",
    "ZTF18absrcps\n",
    "ZTF18abvfecb\n",
    "ZTF18abwbtco\n",
    "ZTF18abxdkni\n",
    "ZTF18abvrzqj\"\"\""
   ]
  },
  {
   "cell_type": "code",
   "execution_count": 12,
   "metadata": {},
   "outputs": [],
   "source": [
    "foo2 = foo.split(\"\\n\")"
   ]
  },
  {
   "cell_type": "code",
   "execution_count": 13,
   "metadata": {},
   "outputs": [
    {
     "name": "stdout",
     "output_type": "stream",
     "text": [
      "['ZTF18ablrndb ', 'ZTF18aawlhkh', 'ZTF18abporae', 'ZTF17aabihdn', 'ZTF18aawlhkh', 'ZTF18absgvqb', 'ZTF18ablprcf', 'ZTF18abufaej', 'ZTF18absrcps', 'ZTF18abvfecb', 'ZTF18abwbtco', 'ZTF18abxdkni', 'ZTF18abvrzqj']\n"
     ]
    }
   ],
   "source": [
    "print(foo2)"
   ]
  },
  {
   "cell_type": "code",
   "execution_count": 17,
   "metadata": {},
   "outputs": [
    {
     "name": "stdout",
     "output_type": "stream",
     "text": [
      "0 ZTF18abslxpd\n",
      "1 ZTF18ablrndb\n",
      "2 ZTF18abtqrwa\n",
      "3 ZTF18abgrlpv\n",
      "4 ZTF17aabihdn\n",
      "5 ZTF18aawlhkh\n",
      "6 ZTF18abporae\n",
      "7 ZTF18abulqzb\n",
      "8 ZTF18abjhatv\n",
      "9 ZTF18abnvirx\n",
      "10 ZTF18abtlqub\n",
      "11 ZTF18aaupjtd\n",
      "12 ZTF18abtjrbt\n",
      "13 ZTF18abgoodz\n",
      "14 ZTF18absgvqb\n",
      "15 ZTF18aajswer\n",
      "16 ZTF18abmwfxd\n",
      "17 ZTF18ablqjws\n",
      "18 ZTF18abmarax\n",
      "19 ZTF18aamnrdd\n",
      "20 ZTF18abmxatl\n",
      "21 ZTF18aayebnz\n",
      "22 ZTF18aagteoy\n",
      "23 ZTF18aampjcm\n",
      "24 ZTF18aampiwv\n",
      "25 ZTF18absljwl\n",
      "26 ZTF18aaqzomm\n",
      "27 ZTF18abslbyb\n",
      "28 ZTF18aamntui\n",
      "29 ZTF18abbmenz\n",
      "30 ZTF18abmjokl\n",
      "31 ZTF18abtghbi\n",
      "32 ZTF18abnvotk\n",
      "33 ZTF18aaxudip\n",
      "34 ZTF18abujobx\n",
      "35 ZTF18ablprcf\n",
      "36 ZTF18absnsqx\n",
      "37 ZTF18ababqeh\n",
      "38 ZTF18aajupnt\n",
      "39 ZTF18abflqxq\n",
      "40 ZTF18abkhqww\n",
      "41 ZTF18abufaej\n",
      "42 ZTF18absrcps\n",
      "43 ZTF18aawhlgv\n",
      "44 ZTF18abygdtf\n",
      "45 ZTF18abulemm\n",
      "46 ZTF18abvxdou\n",
      "47 ZTF18abxcbny\n",
      "48 ZTF18abxcues\n",
      "49 ZTF18abxxvza\n",
      "50 ZTF18aavoyoq\n",
      "51 ZTF18abxyudf\n",
      "52 ZTF18abfsglv\n",
      "53 ZTF18abecggb\n",
      "54 ZTF18abvfecb\n",
      "55 ZTF18abvmqnk\n",
      "56 ZTF18abwbtco\n",
      "57 ZTF18abzacuc\n",
      "58 ZTF18abwqbxc\n",
      "59 ZTF18abxdkni\n",
      "60 ZTF18abxdtyz\n",
      "61 ZTF18abvrzqj\n",
      "62 ZTF18abymhbx\n",
      "63 ZTF18abydspi\n",
      "64 ZTF18aazfthy\n",
      "65 ZTF18abyenql\n"
     ]
    }
   ],
   "source": [
    "for k,name in enumerate(sncandidates):\n",
    "    print(\"%s %s\"%(k,name))\n",
    "    if name in foo2:\n",
    "        decisions[k]=\"Submit\"\n",
    "    else:\n",
    "        decisions[k]='foo'\n"
   ]
  },
  {
   "cell_type": "code",
   "execution_count": 23,
   "metadata": {},
   "outputs": [
    {
     "name": "stderr",
     "output_type": "stream",
     "text": [
      "INFO:jnordin:Lacking candid for ZTF18ablrndb \n",
      "INFO:jnordin:Try to save ZTF18aawlhkh through candid 1545871\n",
      "INFO:marshaltools.ProgramList:Saving source 1545871 into program 42\n",
      "ERROR:marshaltools.ProgramList:No json returned: status 200\n",
      "INFO:jnordin:Try to save ZTF18abporae through candid 1554627\n",
      "INFO:marshaltools.ProgramList:Saving source 1554627 into program 42\n",
      "ERROR:marshaltools.ProgramList:No json returned: status 200\n",
      "INFO:jnordin:Try to save ZTF17aabihdn through candid 1546760\n",
      "INFO:marshaltools.ProgramList:Saving source 1546760 into program 42\n",
      "ERROR:marshaltools.ProgramList:No json returned: status 200\n",
      "INFO:jnordin:Try to save ZTF18aawlhkh through candid 1545871\n",
      "INFO:marshaltools.ProgramList:Saving source 1545871 into program 42\n",
      "ERROR:marshaltools.ProgramList:No json returned: status 200\n",
      "INFO:jnordin:Try to save ZTF18absgvqb through candid 1559399\n",
      "INFO:marshaltools.ProgramList:Saving source 1559399 into program 42\n",
      "ERROR:marshaltools.ProgramList:No json returned: status 200\n",
      "INFO:jnordin:Try to save ZTF18ablprcf through candid 1555641\n",
      "INFO:marshaltools.ProgramList:Saving source 1555641 into program 42\n",
      "ERROR:marshaltools.ProgramList:No json returned: status 200\n",
      "INFO:jnordin:Try to save ZTF18abufaej through candid 1559090\n",
      "INFO:marshaltools.ProgramList:Saving source 1559090 into program 42\n",
      "ERROR:marshaltools.ProgramList:No json returned: status 200\n",
      "INFO:jnordin:Try to save ZTF18absrcps through candid 1535950\n",
      "INFO:marshaltools.ProgramList:Saving source 1535950 into program 42\n",
      "ERROR:marshaltools.ProgramList:No json returned: status 200\n",
      "INFO:jnordin:Try to save ZTF18abvfecb through candid 1556357\n",
      "INFO:marshaltools.ProgramList:Saving source 1556357 into program 42\n",
      "ERROR:marshaltools.ProgramList:No json returned: status 200\n",
      "INFO:jnordin:Try to save ZTF18abwbtco through candid 1556215\n",
      "INFO:marshaltools.ProgramList:Saving source 1556215 into program 42\n",
      "ERROR:marshaltools.ProgramList:No json returned: status 200\n",
      "INFO:jnordin:Try to save ZTF18abxdkni through candid 1554861\n",
      "INFO:marshaltools.ProgramList:Saving source 1554861 into program 42\n",
      "ERROR:marshaltools.ProgramList:No json returned: status 200\n",
      "INFO:jnordin:Try to save ZTF18abvrzqj through candid 1558952\n",
      "INFO:marshaltools.ProgramList:Saving source 1558952 into program 42\n",
      "ERROR:marshaltools.ProgramList:No json returned: status 200\n"
     ]
    }
   ],
   "source": [
    "for snname in foo2:\n",
    "\n",
    "    try:\n",
    "        candid = soupids[snname]\n",
    "        logger.info(\"Try to save %s through candid %s\"%(snname,candid))\n",
    "        pl.save_source(candid,42)\n",
    "    except KeyError:\n",
    "        logger.info(\"Lacking candid for %s\"%(snname))\n"
   ]
  },
  {
   "cell_type": "code",
   "execution_count": null,
   "metadata": {},
   "outputs": [],
   "source": []
  },
  {
   "cell_type": "code",
   "execution_count": 26,
   "metadata": {},
   "outputs": [
    {
     "name": "stderr",
     "output_type": "stream",
     "text": [
      "INFO:jnordin:SN ZTF18ablrndb  was not saved. Oj oj.\n",
      "INFO:jnordin:SN ZTF18aawlhkh was not saved. Oj oj.\n",
      "INFO:jnordin:SN ZTF18abporae was saved\n",
      "INFO:jnordin:SN ZTF17aabihdn was not saved. Oj oj.\n",
      "INFO:jnordin:SN ZTF18aawlhkh was not saved. Oj oj.\n",
      "INFO:jnordin:SN ZTF18absgvqb was saved\n",
      "INFO:jnordin:SN ZTF18ablprcf was saved\n",
      "INFO:jnordin:SN ZTF18abufaej was saved\n",
      "INFO:jnordin:SN ZTF18absrcps was not saved. Oj oj.\n",
      "INFO:jnordin:SN ZTF18abvfecb was saved\n",
      "INFO:jnordin:SN ZTF18abwbtco was saved\n",
      "INFO:jnordin:SN ZTF18abxdkni was saved\n",
      "INFO:jnordin:SN ZTF18abvrzqj was saved\n"
     ]
    }
   ],
   "source": [
    "for snname in foo2:\n",
    "    canddate = pl.find_source(snname,include_candidates=False)\n",
    "    if canddate is None:\n",
    "        logger.info('SN %s was not saved. Oj oj.'%(snname))\n",
    "        continue\n",
    "\n",
    "    logger.info('SN %s was saved'%(snname))"
   ]
  },
  {
   "cell_type": "code",
   "execution_count": null,
   "metadata": {},
   "outputs": [],
   "source": []
  },
  {
   "cell_type": "code",
   "execution_count": 28,
   "metadata": {},
   "outputs": [
    {
     "name": "stdout",
     "output_type": "stream",
     "text": [
      "noooo.. ZTF18ablrndb \n",
      "ZTF18aawlhkh 1545871\n",
      "ZTF18abporae 1554627\n",
      "ZTF17aabihdn 1546760\n",
      "ZTF18aawlhkh 1545871\n",
      "ZTF18absgvqb 1559399\n",
      "ZTF18ablprcf 1555641\n",
      "ZTF18abufaej 1559090\n",
      "ZTF18absrcps 1535950\n",
      "ZTF18abvfecb 1556357\n",
      "ZTF18abwbtco 1556215\n",
      "ZTF18abxdkni 1554861\n",
      "ZTF18abvrzqj 1558952\n"
     ]
    }
   ],
   "source": [
    "for snname in foo2:\n",
    "    try:\n",
    "        print('%s %s'%(snname,soupids[snname]))\n",
    "    except KeyError:\n",
    "        print(\"noooo.. %s\"%(snname))"
   ]
  },
  {
   "cell_type": "code",
   "execution_count": 31,
   "metadata": {},
   "outputs": [
    {
     "name": "stdout",
     "output_type": "stream",
     "text": [
      "{0: 'Garbage', 1: 'Wait', 2: 'Garbage', 3: 'Garbage', 4: 'Garbage', 5: 'Submit', 6: 'Submit', 7: 'Wait', 8: 'Submit', 9: 'Garbage', 10: 'Garbage', 11: 'Wait', 12: 'Wait', 13: 'Garbage', 14: 'Garbage', 15: 'Garbage', 16: 'Garbage', 17: 'Submit', 18: 'Garbage', 19: 'Garbage', 20: 'Garbage', 21: 'Garbage', 22: 'Garbage', 23: 'Wait', 24: 'Wait', 25: 'Garbage', 26: 'Garbage', 27: 'Garbage', 28: 'Garbage', 29: 'Submit', 30: 'Garbage', 31: 'Garbage', 32: 'Wait', 33: 'Garbage', 34: 'Garbage', 35: 'Garbage', 36: 'Garbage', 37: 'Garbage', 38: 'Garbage', 39: 'Garbage', 40: 'Wait', 41: 'Submit', 42: 'Submit', 43: 'Submit', 44: 'Garbage', 45: 'Submit', 46: 'Garbage', 47: 'Wait', 48: 'Garbage', 49: 'Garbage'}\n"
     ]
    }
   ],
   "source": [
    "print(decisions)"
   ]
  },
  {
   "cell_type": "code",
   "execution_count": 9,
   "metadata": {},
   "outputs": [],
   "source": [
    "decisions = {0: 'Garbage', 1: 'Wait', 2: 'Garbage', 3: 'Garbage', 4: 'Garbage', 5: 'Submit', 6: 'Submit', 7: 'Wait', 8: 'Submit', 9: 'Garbage', 10: 'Garbage', 11: 'Wait', 12: 'Wait', 13: 'Garbage', 14: 'Garbage', 15: 'Garbage', 16: 'Garbage', 17: 'Submit', 18: 'Garbage', 19: 'Garbage', 20: 'Garbage', 21: 'Garbage', 22: 'Garbage', 23: 'Wait', 24: 'Wait', 25: 'Garbage', 26: 'Garbage', 27: 'Garbage', 28: 'Garbage', 29: 'Submit', 30: 'Garbage', 31: 'Garbage', 32: 'Wait', 33: 'Garbage', 34: 'Garbage', 35: 'Garbage', 36: 'Garbage', 37: 'Garbage', 38: 'Garbage', 39: 'Garbage', 40: 'Wait', 41: 'Submit', 42: 'Submit', 43: 'Submit', 44: 'Garbage', 45: 'Submit', 46: 'Garbage', 47: 'Wait', 48: 'Garbage', 49: 'Garbage'}\n"
   ]
  },
  {
   "cell_type": "code",
   "execution_count": 23,
   "metadata": {},
   "outputs": [
    {
     "name": "stdout",
     "output_type": "stream",
     "text": [
      "['ZTF18absgvqb', 'ZTF18aawlhkh', 'ZTF18aaupjtd', 'ZTF18abvtrnc', 'ZTF17aabihdn', 'ZTF18abxyudf', 'ZTF18abxwiqz', 'ZTF18abwktmm', 'ZTF18abxbhov']\n"
     ]
    }
   ],
   "source": [
    "bla = []\n",
    "for snnbr, choice in decisions.items():\n",
    "    if not choice=='Submit' : continue\n",
    "        \n",
    "    bla.append(sncandidates[snnbr])\n",
    "print(bla)"
   ]
  },
  {
   "cell_type": "code",
   "execution_count": null,
   "metadata": {},
   "outputs": [],
   "source": []
  }
 ],
 "metadata": {
  "kernelspec": {
   "display_name": "Python 3",
   "language": "python",
   "name": "python3"
  },
  "language_info": {
   "codemirror_mode": {
    "name": "ipython",
    "version": 3
   },
   "file_extension": ".py",
   "mimetype": "text/x-python",
   "name": "python",
   "nbconvert_exporter": "python",
   "pygments_lexer": "ipython3",
   "version": "3.6.5"
  }
 },
 "nbformat": 4,
 "nbformat_minor": 2
}
