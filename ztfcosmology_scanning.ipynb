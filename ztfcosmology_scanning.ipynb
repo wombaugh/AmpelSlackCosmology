{
 "cells": [
  {
   "cell_type": "code",
   "execution_count": null,
   "metadata": {},
   "outputs": [],
   "source": [
    "#%matplotlib inline\n",
    "import numpy as np\n",
    "import pandas as pd\n",
    "import matplotlib.pyplot as plt\n",
    "import marshaltools\n",
    "from ast import literal_eval\n",
    "import logging\n",
    "from astropy.time import Time\n",
    "from ipywidgets import interactive\n",
    "import ipywidgets as widgets\n",
    "import re, os\n",
    "import requests\n",
    "import sncosmo\n",
    "import json\n",
    "\n",
    "from utils import get_config"
   ]
  },
  {
   "cell_type": "code",
   "execution_count": null,
   "metadata": {},
   "outputs": [],
   "source": [
    "# If you are running this notebook for the first time, you will be prompted to enter your username and\n",
    "# the path to your downloads from slack. If you entered something incorrectly, you can correct this in .config\n",
    "config = get_config()\n",
    "\n",
    "username = config['username']\n",
    "date = '2018-09-26'\n",
    "maxz = 0.1\n",
    "minpeakmag = 19.5   # A candidate need to have at least one detection brigther than this\n",
    "mindet = 5          # A candidate need to have at least this many detections\n",
    "maxage = 30         # If a detection has an age older than this, skip (stars,age). \n",
    "                    # Q: How can histories be older than 30days?\n",
    "minfilters = 2      # Reported detections in at least this many filters\n",
    "minrefframes = 1    # Cut away alert information where this is not positive (how can it not be, but ok...)\n",
    "\n",
    "marshal_saveprogs = 'AMPEL'   # Candidates already in this program will not be scanned. Reg exp string, eg 'AMPEL|RCF'\n",
    "marshal_savid = 42\n",
    "logpath = 'logs/'\n",
    "slackfilepath = config['slackfilepath']\n",
    "\n",
    "# Get the other set of marshal source ids. Lets not talk about, took too much of my life alrady\n",
    "with open('sncandid_soup.json', 'r') as fp:\n",
    "    soupids = json.load(fp)\n",
    "\n",
    "# log. This should be saved and pushed to github. If everyone does this we should have the full scanning\n",
    "# history for this run\n",
    "logger = logging.getLogger(username)\n",
    "handler = logging.FileHandler(os.path.join(logpath, 'ztfcosmo_%s_%s.log'%(date,username)))\n",
    "handler.setLevel(logging.INFO)\n",
    "formatter = logging.Formatter('%(asctime)s - %(name)s - %(levelname)s - %(message)s')\n",
    "handler.setFormatter(formatter)\n",
    "logger.addHandler(handler)\n",
    "\n"
   ]
  },
  {
   "cell_type": "code",
   "execution_count": null,
   "metadata": {},
   "outputs": [],
   "source": [
    "df_sum = pd.read_csv(os.path.join(slackfilepath, \"Summary_%s.csv\"%(date)))\n",
    "df_phot = pd.read_csv(os.path.join(slackfilepath, \"Photometry_%s.csv\"%(date)))\n",
    "\n",
    "if minrefframes>0:\n",
    "    df_phot = df_phot[df_phot[\"nframesref\"]>minrefframes]\n",
    "    logger.info(\"Cutting down alert info to subset with nrefframes keyword\")"
   ]
  },
  {
   "cell_type": "code",
   "execution_count": null,
   "metadata": {},
   "outputs": [],
   "source": [
    "logger.info(\"There were %s candidates reported %s\"%(df_sum.shape[0],date))"
   ]
  },
  {
   "cell_type": "code",
   "execution_count": null,
   "metadata": {},
   "outputs": [],
   "source": [
    "# Find already classified SNe\n",
    "i_untyped = (df_sum[\"T2-classification\"]== \"None\") | (df_sum[\"T2-classification\"].isnull())\n",
    "df_classified = df_sum[ ~i_untyped]\n",
    "df_tmp = df_sum[ i_untyped]\n",
    "logger.info(\"Out of these %s already have Marshal type and will be skipped.\"%len(df_classified))\n"
   ]
  },
  {
   "cell_type": "code",
   "execution_count": null,
   "metadata": {},
   "outputs": [],
   "source": [
    "# Are there any remaining candidates with spectroscopic redshifts above limit\n",
    "i_highz = ( (df_tmp['T2-NEDz_z']>maxz) | (df_tmp['T2-milliquas_redshift']>maxz)  | (df_tmp['T2-SDSS_spec_z']>maxz) ) \n",
    "df_classified = df_tmp[ i_highz]\n",
    "df_tmp2 = df_tmp[~i_highz]\n",
    "logger.info(\"%s have a catalog z larger than %s  and will be skipped.\"%(np.sum(i_highz),maxz))\n"
   ]
  },
  {
   "cell_type": "code",
   "execution_count": null,
   "metadata": {},
   "outputs": [],
   "source": [
    "# Which are already saved in the marshal?\n",
    "i_saved = df_tmp2[\"T2-programs\"].str.contains(marshal_saveprogs, regex=True, na=False, flags=re.IGNORECASE)\n",
    "df_saved = df_tmp2[i_saved]\n",
    "df_candidates = df_tmp2[~i_saved]\n",
    "logger.info(\"Detected %s already saved candidates and %s new\"%(len(df_saved),len(df_candidates)))"
   ]
  },
  {
   "cell_type": "code",
   "execution_count": null,
   "metadata": {},
   "outputs": [],
   "source": []
  },
  {
   "cell_type": "code",
   "execution_count": null,
   "metadata": {},
   "outputs": [],
   "source": []
  },
  {
   "cell_type": "code",
   "execution_count": null,
   "metadata": {},
   "outputs": [],
   "source": [
    "# Examine new candidates, build a list of the onces fulfilling basic criteria\n",
    "sncandidates = []\n",
    "for sne in df_candidates.iterrows():\n",
    "    print( sne[1][\"ztf_name\"] )\n",
    "    phot = df_phot[ df_phot[\"ztf_name\"]==sne[1][\"ztf_name\"] ]\n",
    "    filters = phot[\"fid\"]\n",
    "    jd = phot[\"jd\"]\n",
    "    magpsf = phot['magpsf']\n",
    "    if np.min(magpsf)> minpeakmag:\n",
    "        msg = \"%s: Skipping %s, never reached limit %s\"%(date,sne[1][\"ztf_name\"],minpeakmag)\n",
    "        logger.info(msg)\n",
    "        print(msg)\n",
    "        continue\n",
    "    if len(magpsf)< mindet:\n",
    "        msg = \"%s: Skipping %s, less than %s detections\"%(date,sne[1][\"ztf_name\"],mindet)\n",
    "        logger.info(msg)\n",
    "        print(msg)\n",
    "        continue\n",
    "\n",
    "    age = np.max(jd)-np.min(jd)\n",
    "    if age>maxage:\n",
    "        msg = \"%s: Skipping %s, age %s longer than limit %s\"%(date,sne[1][\"ztf_name\"],age,maxage)\n",
    "        logger.info(msg)\n",
    "        print(msg)\n",
    "        continue\n",
    "        \n",
    "    phot = df_phot[ df_phot[\"ztf_name\"]==sne[1][\"ztf_name\"] ]\n",
    "    if len(np.unique(phot[\"fid\"]))<minfilters:\n",
    "        msg = \"%s: Skipping %s, only %s filters\"%(date,sne[1][\"ztf_name\"],len(np.unique(phot[\"fid\"])))\n",
    "        logger.info(msg)\n",
    "        print(msg)\n",
    "        continue\n",
    "        \n",
    "    sncandidates.append(sne[1][\"ztf_name\"])\n",
    "    continue\n",
    "        \n",
    "    \n",
    "\n",
    "print(\"Left with %s candidates to scan\"%(len(sncandidates)))"
   ]
  },
  {
   "cell_type": "code",
   "execution_count": null,
   "metadata": {},
   "outputs": [],
   "source": [
    "# Function to make stupid plot of a SN lightcurve\n",
    "def plotty(i):\n",
    "    \"\"\"\n",
    "    Quick plot of SN nbr k\n",
    "    i : {0:undecided, 1:submit, 2:wait 3:bogus}\n",
    "    \"\"\"\n",
    "    \n",
    "    global snnbr\n",
    "    \n",
    "    \n",
    "    # Evaluate reply\n",
    "    snname = sncandidates[snnbr]\n",
    "    if i == 'Wait':\n",
    "        logger.info(\"Waiting for further obs for SN %s %s\"%(snnbr,snname))\n",
    "        decisions[snnbr] = i\n",
    "        snnbr += 1\n",
    "    elif i == 'Submit':\n",
    "        logger.info(\"Sending SN %s %s for possible follow-up\"%(snnbr,snname))\n",
    "        decisions[snnbr] = i\n",
    "        snnbr += 1\n",
    "\n",
    "    elif i == 'Garbage':\n",
    "        logger.info(\"I never want to see SN %s %s again!\"%(snnbr,snname))\n",
    "        decisions[snnbr] = i\n",
    "        snnbr += 1\n",
    "\n",
    "    elif i == 'GoBack':\n",
    "        logger.info(\"I want to scan some more, go back!\")\n",
    "        snnbr -= 1\n",
    "    elif i=='Nothing':\n",
    "        # Lets do nothing\n",
    "        pass\n",
    "    \n",
    "    # Are we done?\n",
    "    if snnbr==len(sncandidates):\n",
    "        print( \"Seems like we are all done. How do we exit?\")\n",
    "        return False\n",
    "    \n",
    "    \n",
    "    # Reset    \n",
    "    snname = sncandidates[snnbr]\n",
    "    \n",
    "\n",
    "    phot = df_phot[ df_phot[\"ztf_name\"]==snname ]\n",
    "    filters = phot[\"fid\"]\n",
    "    jd = phot[\"jd\"]\n",
    "    magpsf = phot['magpsf']\n",
    "\n",
    "\n",
    "    plt.title(snname + ' ' + str(snnbr+1) + ' out of '+str(len(sncandidates)))\n",
    "    plt.plot(jd[filters==1]-Time.now().jd,magpsf[filters==1],'go')\n",
    "    plt.plot(jd[filters==2]-Time.now().jd,magpsf[filters==2],'ro')\n",
    "    plt.plot(jd[filters==3]-Time.now().jd,magpsf[filters==3],'ko')\n",
    "    plt.gca().invert_yaxis()\n",
    "    plt.show()\n",
    "    wiggy.value = 'Nothing'\n",
    "    \n",
    "    return (i)\n",
    "wiggy = widgets.RadioButtons(\n",
    "    options=['Nothing','Wait', 'Submit', 'Garbage','GoBack'],\n",
    "    value='Nothing',\n",
    "    description='Action:',\n",
    "    disabled=False\n",
    ")\n",
    "y = interactive(plotty,i = wiggy)"
   ]
  },
  {
   "cell_type": "code",
   "execution_count": null,
   "metadata": {},
   "outputs": [],
   "source": [
    "# Presumably you want to scan from the first SN, but you can change this and run display again to revisit something\n",
    "# You cant jump ahead in the list though\n",
    "snnbr = 0\n"
   ]
  },
  {
   "cell_type": "code",
   "execution_count": null,
   "metadata": {},
   "outputs": [],
   "source": [
    "# This is the all important list of decisions you have made\n",
    "decisions = {}"
   ]
  },
  {
   "cell_type": "code",
   "execution_count": null,
   "metadata": {},
   "outputs": [],
   "source": [
    "# This is the scanning box! \n",
    "# You have three choices (Nothing is not a choice and GoBack steps lets you go back in order)\n",
    "# - Wait : Select this if the transient is rizing and might get into RCF range (~<18.7)\n",
    "# - Submit : Should probably get a spectrum (you do not need to worry about where just yet)\n",
    "# - Garbage : Variable star or clearly non SNIa. Evanetually these will be rejected and never more show up\n",
    "display(y)"
   ]
  },
  {
   "cell_type": "code",
   "execution_count": null,
   "metadata": {},
   "outputs": [],
   "source": []
  },
  {
   "cell_type": "code",
   "execution_count": null,
   "metadata": {},
   "outputs": [],
   "source": [
    "# Now fun starts for real. Lets download all the candidates and check whether we find all the candidate ids there\n",
    "# (cause are the only that are useful for saving). This will take a while.\n",
    "pl = marshaltools.ProgramList('AMPEL Test',load_candidates=True)"
   ]
  },
  {
   "cell_type": "code",
   "execution_count": null,
   "metadata": {},
   "outputs": [],
   "source": [
    "ingestoldcand_start = Time.now()\n",
    "print(\"Starting ingesting at %s (useful if you want to check scanning page directly)\"%(ingestoldcand_start))\n",
    "for snnbr, choice in decisions.items():\n",
    "    if not choice=='Submit' : continue\n",
    "\n",
    "    avroid =  np.max( df_phot['_id'][ df_phot[\"ztf_name\"]==sncandidates[snnbr] ]  )\n",
    "    logger.info(\"Trying to ingest %s through avroid %s\"%(sncandidates[snnbr],avroid))\n",
    "    canddate = pl.find_source(sncandidates[snnbr],include_candidates=True)\n",
    "    if not canddate is None:\n",
    "        logger.info('... already a candidate with id %s'%(canddate['candid']))\n",
    "        continue\n",
    "    \n",
    "    pl.ingest_avro(avroid)\n",
    "ingestoldcand_end = Time.now()\n",
    "print(\"Stoppedingesting at %s (useful if you want to check scanning page directly)\"%(ingestoldcand_end))"
   ]
  },
  {
   "cell_type": "code",
   "execution_count": null,
   "metadata": {},
   "outputs": [],
   "source": [
    "# We do this again because it is soo funny\n",
    "pl = marshaltools.ProgramList('AMPEL Test',load_candidates=True)"
   ]
  },
  {
   "cell_type": "code",
   "execution_count": null,
   "metadata": {},
   "outputs": [],
   "source": [
    "# And we do this again as well. If this worked we should now have all candidates saved\n",
    "togrowth = []\n",
    "for snnbr, choice in decisions.items():\n",
    "    if not choice=='Submit' : continue\n",
    "\n",
    "    canddate = pl.find_source(sncandidates[snnbr],include_candidates=True)\n",
    "    if not canddate is None:\n",
    "        continue\n",
    "    avroid =  np.max( df_phot['_id'][ df_phot[\"ztf_name\"]==sncandidates[snnbr] ]  )\n",
    "    msg = \"Failed to ingest alert %s for SN %s\"%(avroid,sncandidates[snnbr])\n",
    "    logger.info(msg)\n",
    "    togrowth.append(msg)\n",
    "    \n"
   ]
  },
  {
   "cell_type": "code",
   "execution_count": null,
   "metadata": {},
   "outputs": [],
   "source": [
    "# Write an email to Mansi/Growth team with the following content\n",
    "print(togrowth)\n",
    "# And when we hear back from them this SN should be saved. I hope they do it for us"
   ]
  },
  {
   "cell_type": "code",
   "execution_count": null,
   "metadata": {},
   "outputs": [],
   "source": [
    "# Ok - this does not work since we have the wrong candidate id...\n",
    "missing_candidsne = []\n",
    "# Now it is time to save remaining candidates\n",
    "savecand_start = Time.now()\n",
    "print(\"Starting saving at %s (not really that useful)\"%(savecand_start))\n",
    "for snnbr, choice in decisions.items():\n",
    "    if not choice=='Submit' : continue\n",
    "\n",
    "    try:\n",
    "        candid = soupids[sncandidates[snnbr]]\n",
    "        logger.info(\"Try to save %s through candid %s\"%(sncandidates[snnbr],candid))\n",
    "        pl.save_source(candid,42)\n",
    "    except KeyError:\n",
    "        logger.info(\"Lacking candid for %s\"%(sncandidates[snnbr]))\n",
    "        missing_candidsne.append(snnbr)\n",
    "\n",
    "\n",
    "        \n",
    "savecand_end = Time.now()\n",
    "print(\"Stopped saving at %s\"%(savecand_end))"
   ]
  },
  {
   "cell_type": "code",
   "execution_count": null,
   "metadata": {},
   "outputs": [],
   "source": [
    "# Check whether we have missing candidate ids\n",
    "print(\"Missing candidate id for these sne: %s\"%(missing_candidsne))"
   ]
  },
  {
   "cell_type": "code",
   "execution_count": null,
   "metadata": {},
   "outputs": [],
   "source": [
    "# Reload saved sources\n",
    "pl = marshaltools.ProgramList('AMPEL Test',load_candidates=False)"
   ]
  },
  {
   "cell_type": "code",
   "execution_count": null,
   "metadata": {},
   "outputs": [],
   "source": [
    "# Loop through them again to check they are all saved\n",
    "for snnbr, choice in decisions.items():\n",
    "    if not choice=='Submit' : continue\n",
    "\n",
    "    canddate = pl.find_source(sncandidates[snnbr],include_candidates=False)\n",
    "    if canddate is None:\n",
    "        logger.info('SN %s was not saved. Oj oj.'%(sncandidates[snnbr]))\n",
    "        continue\n",
    "\n",
    "    logger.info('SN %s was saved'%(sncandidates[snnbr]))\n"
   ]
  },
  {
   "cell_type": "code",
   "execution_count": null,
   "metadata": {},
   "outputs": [],
   "source": [
    "## Hopefully done. If all of the candidates were saved (no ojojs) you are done with scanning!\n",
    "# If candidate IDs are still missing you have to try to scrape the webpages for them as below. Have fun!"
   ]
  },
  {
   "cell_type": "code",
   "execution_count": null,
   "metadata": {},
   "outputs": [],
   "source": [
    "# Trying to get candid through the seargant\n",
    "from ampel.pipeline.t3.sergeant import marshal_functions\n",
    "tbase = Time.now()\n",
    "allcandidates = []"
   ]
  },
  {
   "cell_type": "code",
   "execution_count": null,
   "metadata": {},
   "outputs": [],
   "source": [
    "for k in range(2):\n",
    "    print(k)\n",
    "    tend = Time(tbase.jd-k,format='jd')\n",
    "    tstart = Time(tbase.jd-k-1,format='jd')\n",
    "    ser = marshal_functions.Sergeant(program_name='AMPEL Test',start_date=tstart.iso,end_date=tend.iso)\n",
    "    ser.cutprogramidx = 42\n",
    "    cands = ser.list_scan_sources()\n",
    "    print(\"Found %s cands\"%(len(cands)))\n",
    "    allcandidates.extend(cands)"
   ]
  },
  {
   "cell_type": "code",
   "execution_count": null,
   "metadata": {},
   "outputs": [],
   "source": [
    "for cand in allcandidates:\n",
    "    if cand[\"name\"] in soupids.keys():\n",
    "        continue\n",
    "    print(\"new candidate %s\"%(cand[\"name\"]))\n",
    "    soupids[cand[\"name\"]] = cand[\"candid\"]"
   ]
  },
  {
   "cell_type": "code",
   "execution_count": null,
   "metadata": {},
   "outputs": [],
   "source": [
    "# Save the added dict of candidate id\n",
    "with open('sncandid_soup.json', 'w') as fp:\n",
    "    json.dump(soupids, fp)"
   ]
  },
  {
   "cell_type": "code",
   "execution_count": null,
   "metadata": {},
   "outputs": [],
   "source": []
  },
  {
   "cell_type": "code",
   "execution_count": null,
   "metadata": {
    "scrolled": true
   },
   "outputs": [],
   "source": []
  },
  {
   "cell_type": "code",
   "execution_count": null,
   "metadata": {},
   "outputs": [],
   "source": []
  },
  {
   "cell_type": "code",
   "execution_count": null,
   "metadata": {},
   "outputs": [],
   "source": []
  },
  {
   "cell_type": "code",
   "execution_count": null,
   "metadata": {},
   "outputs": [],
   "source": []
  },
  {
   "cell_type": "code",
   "execution_count": null,
   "metadata": {},
   "outputs": [],
   "source": [
    "# cheat for 09 23\n",
    "decisions = {0: 'Garbage', 1: 'Garbage', 2: 'Garbage', 3: 'Garbage', 4: 'Wait', 5: 'Garbage', 6: 'Submit', 7: 'Submit', 8: 'Garbage', 9: 'Garbage', 10: 'Garbage', 11: 'Garbage', 12: 'Garbage', 13: 'Garbage', 14: 'Garbage', 15: 'Garbage', 16: 'Submit', 17: 'Submit', 18: 'Submit', 19: 'Garbage', 20: 'Garbage', 21: 'Garbage', 22: 'Garbage', 23: 'Garbage', 24: 'Garbage', 25: 'Garbage', 26: 'Garbage', 27: 'Garbage', 28: 'Garbage', 29: 'Garbage', 30: 'Submit', 31: 'Submit', 32: 'Garbage', 33: 'Submit', 34: 'Submit', 35: 'Submit', 36: 'Garbage', 37: 'Submit', 38: 'Garbage', 39: 'Garbage', 40: 'Garbage'}"
   ]
  },
  {
   "cell_type": "code",
   "execution_count": null,
   "metadata": {},
   "outputs": [],
   "source": []
  },
  {
   "cell_type": "code",
   "execution_count": null,
   "metadata": {},
   "outputs": [],
   "source": []
  },
  {
   "cell_type": "code",
   "execution_count": null,
   "metadata": {},
   "outputs": [],
   "source": []
  },
  {
   "cell_type": "code",
   "execution_count": null,
   "metadata": {},
   "outputs": [],
   "source": []
  },
  {
   "cell_type": "code",
   "execution_count": null,
   "metadata": {},
   "outputs": [],
   "source": []
  }
 ],
 "metadata": {
  "kernelspec": {
   "display_name": "Python 3",
   "language": "python",
   "name": "python3"
  },
  "language_info": {
   "codemirror_mode": {
    "name": "ipython",
    "version": 3
   },
   "file_extension": ".py",
   "mimetype": "text/x-python",
   "name": "python",
   "nbconvert_exporter": "python",
   "pygments_lexer": "ipython3",
   "version": "3.6.5"
  }
 },
 "nbformat": 4,
 "nbformat_minor": 2
}
