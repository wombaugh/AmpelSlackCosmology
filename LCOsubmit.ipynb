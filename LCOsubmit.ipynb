{
 "cells": [
  {
   "cell_type": "code",
   "execution_count": 1,
   "metadata": {},
   "outputs": [],
   "source": [
    "# Somehow figure out what to send to LCO, and preferably edit submit files manually"
   ]
  },
  {
   "cell_type": "code",
   "execution_count": 98,
   "metadata": {},
   "outputs": [],
   "source": [
    "#%matplotlib inline\n",
    "import numpy as np\n",
    "import pandas as pd\n",
    "import matplotlib.pyplot as plt\n",
    "import marshaltools\n",
    "import re\n",
    "from Observatory import Observatory\n",
    "from utils import get_config, plot_visibility, prepare_snifs_schedule\n",
    "from astropy.time import Time\n",
    "import astropy.units as u\n",
    "from astropy.coordinates import SkyCoord\n",
    "from astroquery.sdss import SDSS\n",
    "from io import StringIO\n",
    "import json, copy\n",
    "import requests"
   ]
  },
  {
   "cell_type": "code",
   "execution_count": 78,
   "metadata": {},
   "outputs": [],
   "source": [
    "# Get the lco token\n",
    "apitoken = { \"token\": \"bf81e4a699d2f65529753cb65f8cce176b47d897\" }"
   ]
  },
  {
   "cell_type": "code",
   "execution_count": 3,
   "metadata": {},
   "outputs": [
    {
     "name": "stderr",
     "output_type": "stream",
     "text": [
      "INFO:marshaltools.ProgramList:Initialized ProgramList for program AMPEL Test (ID 4)\n",
      "INFO:marshaltools.ProgramList:Loaded 523 saved sources for program AMPEL Test.\n",
      "INFO:marshaltools.ProgramList:Initialized ProgramList for program Cosmology (ID 2)\n",
      "INFO:marshaltools.ProgramList:Loaded 496 saved sources for program Cosmology.\n"
     ]
    }
   ],
   "source": [
    "apl = marshaltools.ProgramList('AMPEL Test',load_candidates=False)\n",
    "cpl = marshaltools.ProgramList('Cosmology',load_candidates=False)"
   ]
  },
  {
   "cell_type": "code",
   "execution_count": 43,
   "metadata": {},
   "outputs": [],
   "source": [
    "# Look at which of the live SNe can be triggered\n",
    "# Stupid manual list\n",
    "trigger = 'ZTF18aceyjfx ZTF18acbwghc ZTF18acbzvuu ZTF18acbzoxo ZTF18acepbxq ZTF18acbycjw ZTF18accnbgw ZTF18acbzvrn ZTF18acbxsec ZTF18acbvgqw ZTF18acbvugp ZTF18accvmgs ZTF18accndxn ZTF18acejgrz ZTF18acemhyb ZTF18acebefc ZTF18acchhpe ZTF18acbvkwl'.split(' ')\n",
    "lcodone = 'ZTF18acbxsec ZTF18acbvugp'.split('\\ ')"
   ]
  },
  {
   "cell_type": "code",
   "execution_count": 36,
   "metadata": {},
   "outputs": [
    {
     "name": "stderr",
     "output_type": "stream",
     "text": [
      "INFO:root:Initialized Observatory uh88 at position (lon 19.82 deg, lat -155.47 deg, alt: 4205.0 m)\n"
     ]
    }
   ],
   "source": [
    "# Check visibility\n",
    "observatories ={\n",
    "    'uh88': Observatory('uh88', 19.8231, -155.47, 4205, sun_alt_th=-17, logger=None),\n",
    "}\n",
    "obs = 'uh88'\n",
    "date = '2018-11-14'\n",
    "tshift = {'ntt': -0.25, 'uh88': 0}  # In units of days\n",
    "trange = [Time(Time(date).jd+tshift[obs],format='jd'), Time(Time(date).jd+7.+tshift[obs],format='jd')]"
   ]
  },
  {
   "cell_type": "code",
   "execution_count": 99,
   "metadata": {},
   "outputs": [
    {
     "name": "stderr",
     "output_type": "stream",
     "text": [
      "INFO:root:computing visibility of source at (ra: 187.092185, dec: 62.383324) from observatory uh88\n",
      "INFO:root:using visibility constraints:\n",
      "\t\t\t\t\t-Time resolution: 30.00 min\n",
      "\t\t\t\t\t-Airmass limit: 1.60\n",
      "\t\t\t\t\t-Sun altitude: -17.00 deg\n",
      "\t\t\t\t\t-Moon distance: 30.00 deg\n"
     ]
    },
    {
     "name": "stdout",
     "output_type": "stream",
     "text": [
      "Calculating visibility of source ZTF18aceyjfx (ra: 187.092185, dec: 62.383324) with uh88.\n"
     ]
    },
    {
     "name": "stderr",
     "output_type": "stream",
     "text": [
      "INFO:root:computed dark times (sun_alt: -17.00) between 2018-11-14 00:00:00.000 and 2018-11-27 23:30:00.000. Total of 147.00 hours of dark\n",
      "INFO:root:source is visible for a total of 0.000 hours. Took 1.28e+00 sec\n",
      "INFO:root:computing visibility of source at (ra: 169.484828, dec: 27.591036) from observatory uh88\n",
      "INFO:root:using visibility constraints:\n",
      "\t\t\t\t\t-Time resolution: 30.00 min\n",
      "\t\t\t\t\t-Airmass limit: 1.60\n",
      "\t\t\t\t\t-Sun altitude: -17.00 deg\n",
      "\t\t\t\t\t-Moon distance: 30.00 deg\n"
     ]
    },
    {
     "name": "stdout",
     "output_type": "stream",
     "text": [
      "Visibility : 0\n",
      "Calculating visibility of source ZTF18acbwghc (ra: 169.484828, dec: 27.591036) with uh88.\n"
     ]
    },
    {
     "name": "stderr",
     "output_type": "stream",
     "text": [
      "INFO:root:computed dark times (sun_alt: -17.00) between 2018-11-14 00:00:00.000 and 2018-11-27 23:30:00.000. Total of 147.00 hours of dark\n",
      "INFO:root:source is visible for a total of 21.000 hours. Took 1.39e+00 sec\n",
      "INFO:root:computing visibility of source at (ra: 169.072218, dec: 47.488951) from observatory uh88\n",
      "INFO:root:using visibility constraints:\n",
      "\t\t\t\t\t-Time resolution: 30.00 min\n",
      "\t\t\t\t\t-Airmass limit: 1.60\n",
      "\t\t\t\t\t-Sun altitude: -17.00 deg\n",
      "\t\t\t\t\t-Moon distance: 30.00 deg\n"
     ]
    },
    {
     "name": "stdout",
     "output_type": "stream",
     "text": [
      "Visibility : 42\n",
      "Calculating visibility of source ZTF18acbzvuu (ra: 169.072218, dec: 47.488951) with uh88.\n"
     ]
    },
    {
     "name": "stderr",
     "output_type": "stream",
     "text": [
      "INFO:root:computed dark times (sun_alt: -17.00) between 2018-11-14 00:00:00.000 and 2018-11-27 23:30:00.000. Total of 147.00 hours of dark\n",
      "INFO:root:source is visible for a total of 20.000 hours. Took 1.28e+00 sec\n",
      "INFO:root:computing visibility of source at (ra: 174.535025, dec: 59.923740) from observatory uh88\n",
      "INFO:root:using visibility constraints:\n",
      "\t\t\t\t\t-Time resolution: 30.00 min\n",
      "\t\t\t\t\t-Airmass limit: 1.60\n",
      "\t\t\t\t\t-Sun altitude: -17.00 deg\n",
      "\t\t\t\t\t-Moon distance: 30.00 deg\n"
     ]
    },
    {
     "name": "stdout",
     "output_type": "stream",
     "text": [
      "Visibility : 40\n",
      "Calculating visibility of source ZTF18acbzoxo (ra: 174.535025, dec: 59.923740) with uh88.\n"
     ]
    },
    {
     "name": "stderr",
     "output_type": "stream",
     "text": [
      "INFO:root:computed dark times (sun_alt: -17.00) between 2018-11-14 00:00:00.000 and 2018-11-27 23:30:00.000. Total of 147.00 hours of dark\n",
      "INFO:root:source is visible for a total of 9.000 hours. Took 1.23e+00 sec\n",
      "INFO:root:computing visibility of source at (ra: 158.396903, dec: 15.099423) from observatory uh88\n",
      "INFO:root:using visibility constraints:\n",
      "\t\t\t\t\t-Time resolution: 30.00 min\n",
      "\t\t\t\t\t-Airmass limit: 1.60\n",
      "\t\t\t\t\t-Sun altitude: -17.00 deg\n",
      "\t\t\t\t\t-Moon distance: 30.00 deg\n"
     ]
    },
    {
     "name": "stdout",
     "output_type": "stream",
     "text": [
      "Visibility : 18\n",
      "Calculating visibility of source ZTF18acepbxq (ra: 158.396903, dec: 15.099423) with uh88.\n"
     ]
    },
    {
     "name": "stderr",
     "output_type": "stream",
     "text": [
      "INFO:root:computed dark times (sun_alt: -17.00) between 2018-11-14 00:00:00.000 and 2018-11-27 23:30:00.000. Total of 147.00 hours of dark\n",
      "INFO:root:source is visible for a total of 29.000 hours. Took 1.37e+00 sec\n",
      "INFO:root:computing visibility of source at (ra: 22.449178, dec: 23.918892) from observatory uh88\n",
      "INFO:root:using visibility constraints:\n",
      "\t\t\t\t\t-Time resolution: 30.00 min\n",
      "\t\t\t\t\t-Airmass limit: 1.60\n",
      "\t\t\t\t\t-Sun altitude: -17.00 deg\n",
      "\t\t\t\t\t-Moon distance: 30.00 deg\n"
     ]
    },
    {
     "name": "stdout",
     "output_type": "stream",
     "text": [
      "Visibility : 58\n",
      "Calculating visibility of source ZTF18acbycjw (ra: 22.449178, dec: 23.918892) with uh88.\n"
     ]
    },
    {
     "name": "stderr",
     "output_type": "stream",
     "text": [
      "INFO:root:computed dark times (sun_alt: -17.00) between 2018-11-14 00:00:00.000 and 2018-11-27 23:30:00.000. Total of 147.00 hours of dark\n",
      "INFO:root:Too close the the moon.\n",
      "INFO:root:source is visible for a total of 70.000 hours. Took 1.20e+00 sec\n",
      "INFO:root:computing visibility of source at (ra: 124.351090, dec: 48.065551) from observatory uh88\n",
      "INFO:root:using visibility constraints:\n",
      "\t\t\t\t\t-Time resolution: 30.00 min\n",
      "\t\t\t\t\t-Airmass limit: 1.60\n",
      "\t\t\t\t\t-Sun altitude: -17.00 deg\n",
      "\t\t\t\t\t-Moon distance: 30.00 deg\n"
     ]
    },
    {
     "name": "stdout",
     "output_type": "stream",
     "text": [
      "Visibility : 140\n",
      "Calculating visibility of source ZTF18accnbgw (ra: 124.351090, dec: 48.065551) with uh88.\n"
     ]
    },
    {
     "name": "stderr",
     "output_type": "stream",
     "text": [
      "INFO:root:computed dark times (sun_alt: -17.00) between 2018-11-14 00:00:00.000 and 2018-11-27 23:30:00.000. Total of 147.00 hours of dark\n",
      "INFO:root:Too close the the moon.\n",
      "INFO:root:source is visible for a total of 51.500 hours. Took 1.36e+00 sec\n",
      "INFO:root:computing visibility of source at (ra: 166.554549, dec: 50.261242) from observatory uh88\n",
      "INFO:root:using visibility constraints:\n",
      "\t\t\t\t\t-Time resolution: 30.00 min\n",
      "\t\t\t\t\t-Airmass limit: 1.60\n",
      "\t\t\t\t\t-Sun altitude: -17.00 deg\n",
      "\t\t\t\t\t-Moon distance: 30.00 deg\n"
     ]
    },
    {
     "name": "stdout",
     "output_type": "stream",
     "text": [
      "Visibility : 103\n",
      "Calculating visibility of source ZTF18acbzvrn (ra: 166.554549, dec: 50.261242) with uh88.\n"
     ]
    },
    {
     "name": "stderr",
     "output_type": "stream",
     "text": [
      "INFO:root:computed dark times (sun_alt: -17.00) between 2018-11-14 00:00:00.000 and 2018-11-27 23:30:00.000. Total of 147.00 hours of dark\n",
      "INFO:root:source is visible for a total of 22.000 hours. Took 1.23e+00 sec\n",
      "INFO:root:computing visibility of source at (ra: 5.837349, dec: -1.758064) from observatory uh88\n",
      "INFO:root:using visibility constraints:\n",
      "\t\t\t\t\t-Time resolution: 30.00 min\n",
      "\t\t\t\t\t-Airmass limit: 1.60\n",
      "\t\t\t\t\t-Sun altitude: -17.00 deg\n",
      "\t\t\t\t\t-Moon distance: 30.00 deg\n"
     ]
    },
    {
     "name": "stdout",
     "output_type": "stream",
     "text": [
      "Visibility : 44\n",
      "Calculating visibility of source ZTF18acbxsec (ra: 5.837349, dec: -1.758064) with uh88.\n"
     ]
    },
    {
     "name": "stderr",
     "output_type": "stream",
     "text": [
      "INFO:root:computed dark times (sun_alt: -17.00) between 2018-11-14 00:00:00.000 and 2018-11-27 23:30:00.000. Total of 147.00 hours of dark\n",
      "INFO:root:Too close the the moon.\n",
      "INFO:root:source is visible for a total of 49.000 hours. Took 1.35e+00 sec\n",
      "INFO:root:computing visibility of source at (ra: 46.512097, dec: -15.611581) from observatory uh88\n",
      "INFO:root:using visibility constraints:\n",
      "\t\t\t\t\t-Time resolution: 30.00 min\n",
      "\t\t\t\t\t-Airmass limit: 1.60\n",
      "\t\t\t\t\t-Sun altitude: -17.00 deg\n",
      "\t\t\t\t\t-Moon distance: 30.00 deg\n"
     ]
    },
    {
     "name": "stdout",
     "output_type": "stream",
     "text": [
      "Visibility : 98\n",
      "Calculating visibility of source ZTF18acbvgqw (ra: 46.512097, dec: -15.611581) with uh88.\n"
     ]
    },
    {
     "name": "stderr",
     "output_type": "stream",
     "text": [
      "INFO:root:computed dark times (sun_alt: -17.00) between 2018-11-14 00:00:00.000 and 2018-11-27 23:30:00.000. Total of 147.00 hours of dark\n",
      "INFO:root:Too close the the moon.\n",
      "INFO:root:source is visible for a total of 66.000 hours. Took 1.33e+00 sec\n",
      "INFO:root:computing visibility of source at (ra: 95.182111, dec: 59.342639) from observatory uh88\n",
      "INFO:root:using visibility constraints:\n",
      "\t\t\t\t\t-Time resolution: 30.00 min\n",
      "\t\t\t\t\t-Airmass limit: 1.60\n",
      "\t\t\t\t\t-Sun altitude: -17.00 deg\n",
      "\t\t\t\t\t-Moon distance: 30.00 deg\n"
     ]
    },
    {
     "name": "stdout",
     "output_type": "stream",
     "text": [
      "Visibility : 132\n",
      "Calculating visibility of source ZTF18acbvugp (ra: 95.182111, dec: 59.342639) with uh88.\n"
     ]
    },
    {
     "name": "stderr",
     "output_type": "stream",
     "text": [
      "INFO:root:computed dark times (sun_alt: -17.00) between 2018-11-14 00:00:00.000 and 2018-11-27 23:30:00.000. Total of 147.00 hours of dark\n",
      "INFO:root:source is visible for a total of 83.000 hours. Took 1.20e+00 sec\n",
      "INFO:root:computing visibility of source at (ra: 122.268374, dec: 12.048363) from observatory uh88\n",
      "INFO:root:using visibility constraints:\n",
      "\t\t\t\t\t-Time resolution: 30.00 min\n",
      "\t\t\t\t\t-Airmass limit: 1.60\n",
      "\t\t\t\t\t-Sun altitude: -17.00 deg\n",
      "\t\t\t\t\t-Moon distance: 30.00 deg\n"
     ]
    },
    {
     "name": "stdout",
     "output_type": "stream",
     "text": [
      "Visibility : 166\n",
      "Calculating visibility of source ZTF18accvmgs (ra: 122.268374, dec: 12.048363) with uh88.\n"
     ]
    },
    {
     "name": "stderr",
     "output_type": "stream",
     "text": [
      "INFO:root:computed dark times (sun_alt: -17.00) between 2018-11-14 00:00:00.000 and 2018-11-27 23:30:00.000. Total of 147.00 hours of dark\n",
      "INFO:root:Too close the the moon.\n",
      "INFO:root:source is visible for a total of 47.500 hours. Took 1.19e+00 sec\n",
      "INFO:root:computing visibility of source at (ra: 196.120613, dec: 79.050586) from observatory uh88\n",
      "INFO:root:using visibility constraints:\n",
      "\t\t\t\t\t-Time resolution: 30.00 min\n",
      "\t\t\t\t\t-Airmass limit: 1.60\n",
      "\t\t\t\t\t-Sun altitude: -17.00 deg\n",
      "\t\t\t\t\t-Moon distance: 30.00 deg\n"
     ]
    },
    {
     "name": "stdout",
     "output_type": "stream",
     "text": [
      "Visibility : 95\n",
      "Calculating visibility of source ZTF18accndxn (ra: 196.120613, dec: 79.050586) with uh88.\n"
     ]
    },
    {
     "name": "stderr",
     "output_type": "stream",
     "text": [
      "INFO:root:computed dark times (sun_alt: -17.00) between 2018-11-14 00:00:00.000 and 2018-11-27 23:30:00.000. Total of 147.00 hours of dark\n",
      "INFO:root:source is visible for a total of 0.000 hours. Took 1.19e+00 sec\n",
      "INFO:root:computing visibility of source at (ra: 26.536800, dec: 33.795192) from observatory uh88\n",
      "INFO:root:using visibility constraints:\n",
      "\t\t\t\t\t-Time resolution: 30.00 min\n",
      "\t\t\t\t\t-Airmass limit: 1.60\n",
      "\t\t\t\t\t-Sun altitude: -17.00 deg\n",
      "\t\t\t\t\t-Moon distance: 30.00 deg\n"
     ]
    },
    {
     "name": "stdout",
     "output_type": "stream",
     "text": [
      "Visibility : 0\n",
      "Calculating visibility of source ZTF18acejgrz (ra: 26.536800, dec: 33.795192) with uh88.\n"
     ]
    },
    {
     "name": "stderr",
     "output_type": "stream",
     "text": [
      "INFO:root:computed dark times (sun_alt: -17.00) between 2018-11-14 00:00:00.000 and 2018-11-27 23:30:00.000. Total of 147.00 hours of dark\n",
      "INFO:root:Too close the the moon.\n",
      "INFO:root:source is visible for a total of 87.500 hours. Took 1.20e+00 sec\n",
      "INFO:root:computing visibility of source at (ra: 119.142283, dec: 30.176616) from observatory uh88\n",
      "INFO:root:using visibility constraints:\n",
      "\t\t\t\t\t-Time resolution: 30.00 min\n",
      "\t\t\t\t\t-Airmass limit: 1.60\n",
      "\t\t\t\t\t-Sun altitude: -17.00 deg\n",
      "\t\t\t\t\t-Moon distance: 30.00 deg\n"
     ]
    },
    {
     "name": "stdout",
     "output_type": "stream",
     "text": [
      "Visibility : 175\n",
      "Calculating visibility of source ZTF18acemhyb (ra: 119.142283, dec: 30.176616) with uh88.\n"
     ]
    },
    {
     "name": "stderr",
     "output_type": "stream",
     "text": [
      "INFO:root:computed dark times (sun_alt: -17.00) between 2018-11-14 00:00:00.000 and 2018-11-27 23:30:00.000. Total of 147.00 hours of dark\n",
      "INFO:root:Too close the the moon.\n",
      "INFO:root:source is visible for a total of 52.000 hours. Took 1.21e+00 sec\n",
      "INFO:root:computing visibility of source at (ra: 51.068658, dec: 16.177937) from observatory uh88\n",
      "INFO:root:using visibility constraints:\n",
      "\t\t\t\t\t-Time resolution: 30.00 min\n",
      "\t\t\t\t\t-Airmass limit: 1.60\n",
      "\t\t\t\t\t-Sun altitude: -17.00 deg\n",
      "\t\t\t\t\t-Moon distance: 30.00 deg\n"
     ]
    },
    {
     "name": "stdout",
     "output_type": "stream",
     "text": [
      "Visibility : 104\n",
      "Calculating visibility of source ZTF18acebefc (ra: 51.068658, dec: 16.177937) with uh88.\n"
     ]
    },
    {
     "name": "stderr",
     "output_type": "stream",
     "text": [
      "INFO:root:computed dark times (sun_alt: -17.00) between 2018-11-14 00:00:00.000 and 2018-11-27 23:30:00.000. Total of 147.00 hours of dark\n",
      "INFO:root:Too close the the moon.\n",
      "INFO:root:source is visible for a total of 74.000 hours. Took 1.56e+00 sec\n",
      "INFO:root:computing visibility of source at (ra: 357.879922, dec: 28.600345) from observatory uh88\n",
      "INFO:root:using visibility constraints:\n",
      "\t\t\t\t\t-Time resolution: 30.00 min\n",
      "\t\t\t\t\t-Airmass limit: 1.60\n",
      "\t\t\t\t\t-Sun altitude: -17.00 deg\n",
      "\t\t\t\t\t-Moon distance: 30.00 deg\n"
     ]
    },
    {
     "name": "stdout",
     "output_type": "stream",
     "text": [
      "Visibility : 148\n",
      "Calculating visibility of source ZTF18acchhpe (ra: 357.879922, dec: 28.600345) with uh88.\n"
     ]
    },
    {
     "name": "stderr",
     "output_type": "stream",
     "text": [
      "INFO:root:computed dark times (sun_alt: -17.00) between 2018-11-14 00:00:00.000 and 2018-11-27 23:30:00.000. Total of 147.00 hours of dark\n",
      "INFO:root:source is visible for a total of 76.000 hours. Took 1.59e+00 sec\n",
      "INFO:root:computing visibility of source at (ra: 70.815493, dec: -8.605053) from observatory uh88\n",
      "INFO:root:using visibility constraints:\n",
      "\t\t\t\t\t-Time resolution: 30.00 min\n",
      "\t\t\t\t\t-Airmass limit: 1.60\n",
      "\t\t\t\t\t-Sun altitude: -17.00 deg\n",
      "\t\t\t\t\t-Moon distance: 30.00 deg\n"
     ]
    },
    {
     "name": "stdout",
     "output_type": "stream",
     "text": [
      "Visibility : 152\n",
      "Calculating visibility of source ZTF18acbvkwl (ra: 70.815493, dec: -8.605053) with uh88.\n"
     ]
    },
    {
     "name": "stderr",
     "output_type": "stream",
     "text": [
      "INFO:root:computed dark times (sun_alt: -17.00) between 2018-11-14 00:00:00.000 and 2018-11-27 23:30:00.000. Total of 147.00 hours of dark\n",
      "INFO:root:Too close the the moon.\n",
      "INFO:root:source is visible for a total of 74.000 hours. Took 1.60e+00 sec\n"
     ]
    },
    {
     "name": "stdout",
     "output_type": "stream",
     "text": [
      "Visibility : 148\n"
     ]
    }
   ],
   "source": [
    "aentries = {}\n",
    "for snname in trigger:\n",
    "    if snname in lcodone:\n",
    "        print('Already done once, skip until request for more data')\n",
    "        continue\n",
    "    ra = apl.sources[snname]['ra']\n",
    "    dec = apl.sources[snname]['dec']\n",
    "    print('Calculating visibility of source %s (ra: %f, dec: %f) with %s.'%(snname, ra, dec, obs))\n",
    "    obs_w = observatories[obs].compute_visibility(ra, dec, trange,airmass_th=1.6,dt_min=30)\n",
    "    amasses = obs_w['airmass']\n",
    "    # If we have more than five entries in the good airmass range, submit\n",
    "    aentries[snname] = len(amasses)\n",
    "    print('Visibility : %s'%(len(amasses)))\n"
   ]
  },
  {
   "cell_type": "code",
   "execution_count": 52,
   "metadata": {},
   "outputs": [],
   "source": [
    "# Load LCO template\n",
    "with open('lcoapi.json','r') as fh:\n",
    "    api = json.load(fh)"
   ]
  },
  {
   "cell_type": "code",
   "execution_count": 93,
   "metadata": {},
   "outputs": [
    {
     "name": "stdout",
     "output_type": "stream",
     "text": [
      "ZTF18aceyjfx not visible, skip\n",
      "{'id': 719962, 'requests': [{'id': 1670919, 'location': {'telescope_class': '2m0'}, 'constraints': {'max_airmass': 1.6, 'min_lunar_distance': 30.0, 'max_lunar_phase': None, 'max_seeing': None, 'min_transparency': None}, 'target': {'type': 'SIDEREAL', 'name': 'ZTF18acepbxq', 'ra': 158.3969031, 'dec': 15.0994233, 'proper_motion_ra': 0.0, 'proper_motion_dec': 0.0, 'parallax': 0.0, 'radvel': 0.0, 'coordinate_system': 'ICRS', 'equinox': 'J2000', 'epoch': 2000.0, 'acquire_mode': None, 'rot_mode': 'VFLOAT', 'rot_angle': 0.0, 'vmag': None}, 'molecules': [{'type': 'LAMP_FLAT', 'args': '', 'priority': 1, 'ag_name': '', 'ag_mode': 'OPTIONAL', 'ag_filter': '', 'ag_exp_time': 10.0, 'ag_strategy': '', 'instrument_name': '2M0-FLOYDS-SCICAM', 'filter': '', 'readout_mode': '', 'spectra_lamp': '', 'spectra_slit': 'slit_1.6as', 'acquire_mode': 'WCS', 'acquire_radius_arcsec': 0.0, 'acquire_strategy': '', 'expmeter_mode': 'OFF', 'expmeter_snr': None, 'exposure_time': 60.0, 'exposure_count': 2, 'bin_x': 1, 'bin_y': 1, 'defocus': 0.0}, {'type': 'ARC', 'args': '', 'priority': 2, 'ag_name': '', 'ag_mode': 'OPTIONAL', 'ag_filter': '', 'ag_exp_time': 10.0, 'ag_strategy': '', 'instrument_name': '2M0-FLOYDS-SCICAM', 'filter': '', 'readout_mode': '', 'spectra_lamp': '', 'spectra_slit': 'slit_1.6as', 'acquire_mode': 'WCS', 'acquire_radius_arcsec': 0.0, 'acquire_strategy': '', 'expmeter_mode': 'OFF', 'expmeter_snr': None, 'exposure_time': 60.0, 'exposure_count': 2, 'bin_x': 1, 'bin_y': 1, 'defocus': 0.0}, {'type': 'SPECTRUM', 'args': '', 'priority': 3, 'ag_name': '', 'ag_mode': 'ON', 'ag_filter': '', 'ag_exp_time': 10.0, 'ag_strategy': '', 'instrument_name': '2M0-FLOYDS-SCICAM', 'filter': '', 'readout_mode': '', 'spectra_lamp': '', 'spectra_slit': 'slit_1.6as', 'acquire_mode': 'WCS', 'acquire_radius_arcsec': 0.0, 'acquire_strategy': '', 'expmeter_mode': 'OFF', 'expmeter_snr': None, 'exposure_time': 900.0, 'exposure_count': 2, 'bin_x': 1, 'bin_y': 1, 'defocus': 0.0}, {'type': 'ARC', 'args': '', 'priority': 4, 'ag_name': '', 'ag_mode': 'OPTIONAL', 'ag_filter': '', 'ag_exp_time': 10.0, 'ag_strategy': '', 'instrument_name': '2M0-FLOYDS-SCICAM', 'filter': '', 'readout_mode': '', 'spectra_lamp': '', 'spectra_slit': 'slit_1.6as', 'acquire_mode': 'WCS', 'acquire_radius_arcsec': 0.0, 'acquire_strategy': '', 'expmeter_mode': 'OFF', 'expmeter_snr': None, 'exposure_time': 60.0, 'exposure_count': 2, 'bin_x': 1, 'bin_y': 1, 'defocus': 0.0}, {'type': 'LAMP_FLAT', 'args': '', 'priority': 5, 'ag_name': '', 'ag_mode': 'OPTIONAL', 'ag_filter': '', 'ag_exp_time': 10.0, 'ag_strategy': '', 'instrument_name': '2M0-FLOYDS-SCICAM', 'filter': '', 'readout_mode': '', 'spectra_lamp': '', 'spectra_slit': 'slit_1.6as', 'acquire_mode': 'WCS', 'acquire_radius_arcsec': 0.0, 'acquire_strategy': '', 'expmeter_mode': 'OFF', 'expmeter_snr': None, 'exposure_time': 60.0, 'exposure_count': 2, 'bin_x': 1, 'bin_y': 1, 'defocus': 0.0}], 'windows': [{'start': '2018-11-14T09:52:13Z', 'end': '2018-11-20T09:52:13Z'}], 'duration': 3125, 'observation_note': '', 'state': 'PENDING', 'modified': '2018-11-14T11:01:59.346188Z', 'fail_count': 0, 'scheduled_count': 0, 'created': '2018-11-14T11:01:59.346210Z', 'completed': None, 'acceptability_threshold': 100.0}], 'submitter': 'Ampel', 'group_id': 'ampelLCO', 'observation_type': 'NORMAL', 'operator': 'SINGLE', 'ipp_value': 1.0, 'created': '2018-11-14T11:01:59.344550Z', 'state': 'PENDING', 'modified': '2018-11-14T11:01:59.344574Z', 'proposal': 'CON2018B-005'}\n",
      "{'id': 719963, 'requests': [{'id': 1670920, 'location': {'telescope_class': '2m0'}, 'constraints': {'max_airmass': 1.6, 'min_lunar_distance': 30.0, 'max_lunar_phase': None, 'max_seeing': None, 'min_transparency': None}, 'target': {'type': 'SIDEREAL', 'name': 'ZTF18acbycjw', 'ra': 22.4491776, 'dec': 23.9188919, 'proper_motion_ra': 0.0, 'proper_motion_dec': 0.0, 'parallax': 0.0, 'radvel': 0.0, 'coordinate_system': 'ICRS', 'equinox': 'J2000', 'epoch': 2000.0, 'acquire_mode': None, 'rot_mode': 'VFLOAT', 'rot_angle': 0.0, 'vmag': None}, 'molecules': [{'type': 'LAMP_FLAT', 'args': '', 'priority': 1, 'ag_name': '', 'ag_mode': 'OPTIONAL', 'ag_filter': '', 'ag_exp_time': 10.0, 'ag_strategy': '', 'instrument_name': '2M0-FLOYDS-SCICAM', 'filter': '', 'readout_mode': '', 'spectra_lamp': '', 'spectra_slit': 'slit_1.6as', 'acquire_mode': 'WCS', 'acquire_radius_arcsec': 0.0, 'acquire_strategy': '', 'expmeter_mode': 'OFF', 'expmeter_snr': None, 'exposure_time': 60.0, 'exposure_count': 2, 'bin_x': 1, 'bin_y': 1, 'defocus': 0.0}, {'type': 'ARC', 'args': '', 'priority': 2, 'ag_name': '', 'ag_mode': 'OPTIONAL', 'ag_filter': '', 'ag_exp_time': 10.0, 'ag_strategy': '', 'instrument_name': '2M0-FLOYDS-SCICAM', 'filter': '', 'readout_mode': '', 'spectra_lamp': '', 'spectra_slit': 'slit_1.6as', 'acquire_mode': 'WCS', 'acquire_radius_arcsec': 0.0, 'acquire_strategy': '', 'expmeter_mode': 'OFF', 'expmeter_snr': None, 'exposure_time': 60.0, 'exposure_count': 2, 'bin_x': 1, 'bin_y': 1, 'defocus': 0.0}, {'type': 'SPECTRUM', 'args': '', 'priority': 3, 'ag_name': '', 'ag_mode': 'ON', 'ag_filter': '', 'ag_exp_time': 10.0, 'ag_strategy': '', 'instrument_name': '2M0-FLOYDS-SCICAM', 'filter': '', 'readout_mode': '', 'spectra_lamp': '', 'spectra_slit': 'slit_1.6as', 'acquire_mode': 'WCS', 'acquire_radius_arcsec': 0.0, 'acquire_strategy': '', 'expmeter_mode': 'OFF', 'expmeter_snr': None, 'exposure_time': 900.0, 'exposure_count': 2, 'bin_x': 1, 'bin_y': 1, 'defocus': 0.0}, {'type': 'ARC', 'args': '', 'priority': 4, 'ag_name': '', 'ag_mode': 'OPTIONAL', 'ag_filter': '', 'ag_exp_time': 10.0, 'ag_strategy': '', 'instrument_name': '2M0-FLOYDS-SCICAM', 'filter': '', 'readout_mode': '', 'spectra_lamp': '', 'spectra_slit': 'slit_1.6as', 'acquire_mode': 'WCS', 'acquire_radius_arcsec': 0.0, 'acquire_strategy': '', 'expmeter_mode': 'OFF', 'expmeter_snr': None, 'exposure_time': 60.0, 'exposure_count': 2, 'bin_x': 1, 'bin_y': 1, 'defocus': 0.0}, {'type': 'LAMP_FLAT', 'args': '', 'priority': 5, 'ag_name': '', 'ag_mode': 'OPTIONAL', 'ag_filter': '', 'ag_exp_time': 10.0, 'ag_strategy': '', 'instrument_name': '2M0-FLOYDS-SCICAM', 'filter': '', 'readout_mode': '', 'spectra_lamp': '', 'spectra_slit': 'slit_1.6as', 'acquire_mode': 'WCS', 'acquire_radius_arcsec': 0.0, 'acquire_strategy': '', 'expmeter_mode': 'OFF', 'expmeter_snr': None, 'exposure_time': 60.0, 'exposure_count': 2, 'bin_x': 1, 'bin_y': 1, 'defocus': 0.0}], 'windows': [{'start': '2018-11-14T09:52:13Z', 'end': '2018-11-20T09:52:13Z'}], 'duration': 3125, 'observation_note': '', 'state': 'PENDING', 'modified': '2018-11-14T11:02:01.160776Z', 'fail_count': 0, 'scheduled_count': 0, 'created': '2018-11-14T11:02:01.160813Z', 'completed': None, 'acceptability_threshold': 100.0}], 'submitter': 'Ampel', 'group_id': 'ampelLCO', 'observation_type': 'NORMAL', 'operator': 'SINGLE', 'ipp_value': 1.0, 'created': '2018-11-14T11:02:01.158023Z', 'state': 'PENDING', 'modified': '2018-11-14T11:02:01.158058Z', 'proposal': 'CON2018B-005'}\n",
      "{'id': 719964, 'requests': [{'id': 1670921, 'location': {'telescope_class': '2m0'}, 'constraints': {'max_airmass': 1.6, 'min_lunar_distance': 30.0, 'max_lunar_phase': None, 'max_seeing': None, 'min_transparency': None}, 'target': {'type': 'SIDEREAL', 'name': 'ZTF18accnbgw', 'ra': 124.3510901, 'dec': 48.0655508, 'proper_motion_ra': 0.0, 'proper_motion_dec': 0.0, 'parallax': 0.0, 'radvel': 0.0, 'coordinate_system': 'ICRS', 'equinox': 'J2000', 'epoch': 2000.0, 'acquire_mode': None, 'rot_mode': 'VFLOAT', 'rot_angle': 0.0, 'vmag': None}, 'molecules': [{'type': 'LAMP_FLAT', 'args': '', 'priority': 1, 'ag_name': '', 'ag_mode': 'OPTIONAL', 'ag_filter': '', 'ag_exp_time': 10.0, 'ag_strategy': '', 'instrument_name': '2M0-FLOYDS-SCICAM', 'filter': '', 'readout_mode': '', 'spectra_lamp': '', 'spectra_slit': 'slit_1.6as', 'acquire_mode': 'WCS', 'acquire_radius_arcsec': 0.0, 'acquire_strategy': '', 'expmeter_mode': 'OFF', 'expmeter_snr': None, 'exposure_time': 60.0, 'exposure_count': 2, 'bin_x': 1, 'bin_y': 1, 'defocus': 0.0}, {'type': 'ARC', 'args': '', 'priority': 2, 'ag_name': '', 'ag_mode': 'OPTIONAL', 'ag_filter': '', 'ag_exp_time': 10.0, 'ag_strategy': '', 'instrument_name': '2M0-FLOYDS-SCICAM', 'filter': '', 'readout_mode': '', 'spectra_lamp': '', 'spectra_slit': 'slit_1.6as', 'acquire_mode': 'WCS', 'acquire_radius_arcsec': 0.0, 'acquire_strategy': '', 'expmeter_mode': 'OFF', 'expmeter_snr': None, 'exposure_time': 60.0, 'exposure_count': 2, 'bin_x': 1, 'bin_y': 1, 'defocus': 0.0}, {'type': 'SPECTRUM', 'args': '', 'priority': 3, 'ag_name': '', 'ag_mode': 'ON', 'ag_filter': '', 'ag_exp_time': 10.0, 'ag_strategy': '', 'instrument_name': '2M0-FLOYDS-SCICAM', 'filter': '', 'readout_mode': '', 'spectra_lamp': '', 'spectra_slit': 'slit_1.6as', 'acquire_mode': 'WCS', 'acquire_radius_arcsec': 0.0, 'acquire_strategy': '', 'expmeter_mode': 'OFF', 'expmeter_snr': None, 'exposure_time': 900.0, 'exposure_count': 2, 'bin_x': 1, 'bin_y': 1, 'defocus': 0.0}, {'type': 'ARC', 'args': '', 'priority': 4, 'ag_name': '', 'ag_mode': 'OPTIONAL', 'ag_filter': '', 'ag_exp_time': 10.0, 'ag_strategy': '', 'instrument_name': '2M0-FLOYDS-SCICAM', 'filter': '', 'readout_mode': '', 'spectra_lamp': '', 'spectra_slit': 'slit_1.6as', 'acquire_mode': 'WCS', 'acquire_radius_arcsec': 0.0, 'acquire_strategy': '', 'expmeter_mode': 'OFF', 'expmeter_snr': None, 'exposure_time': 60.0, 'exposure_count': 2, 'bin_x': 1, 'bin_y': 1, 'defocus': 0.0}, {'type': 'LAMP_FLAT', 'args': '', 'priority': 5, 'ag_name': '', 'ag_mode': 'OPTIONAL', 'ag_filter': '', 'ag_exp_time': 10.0, 'ag_strategy': '', 'instrument_name': '2M0-FLOYDS-SCICAM', 'filter': '', 'readout_mode': '', 'spectra_lamp': '', 'spectra_slit': 'slit_1.6as', 'acquire_mode': 'WCS', 'acquire_radius_arcsec': 0.0, 'acquire_strategy': '', 'expmeter_mode': 'OFF', 'expmeter_snr': None, 'exposure_time': 60.0, 'exposure_count': 2, 'bin_x': 1, 'bin_y': 1, 'defocus': 0.0}], 'windows': [{'start': '2018-11-14T09:52:13Z', 'end': '2018-11-20T09:52:13Z'}], 'duration': 3125, 'observation_note': '', 'state': 'PENDING', 'modified': '2018-11-14T11:02:02.245386Z', 'fail_count': 0, 'scheduled_count': 0, 'created': '2018-11-14T11:02:02.245410Z', 'completed': None, 'acceptability_threshold': 100.0}], 'submitter': 'Ampel', 'group_id': 'ampelLCO', 'observation_type': 'NORMAL', 'operator': 'SINGLE', 'ipp_value': 1.0, 'created': '2018-11-14T11:02:02.240449Z', 'state': 'PENDING', 'modified': '2018-11-14T11:02:02.240475Z', 'proposal': 'CON2018B-005'}\n"
     ]
    },
    {
     "name": "stdout",
     "output_type": "stream",
     "text": [
      "{'id': 719965, 'requests': [{'id': 1670922, 'location': {'telescope_class': '2m0'}, 'constraints': {'max_airmass': 1.6, 'min_lunar_distance': 30.0, 'max_lunar_phase': None, 'max_seeing': None, 'min_transparency': None}, 'target': {'type': 'SIDEREAL', 'name': 'ZTF18acbzvrn', 'ra': 166.5545491, 'dec': 50.2612422, 'proper_motion_ra': 0.0, 'proper_motion_dec': 0.0, 'parallax': 0.0, 'radvel': 0.0, 'coordinate_system': 'ICRS', 'equinox': 'J2000', 'epoch': 2000.0, 'acquire_mode': None, 'rot_mode': 'VFLOAT', 'rot_angle': 0.0, 'vmag': None}, 'molecules': [{'type': 'LAMP_FLAT', 'args': '', 'priority': 1, 'ag_name': '', 'ag_mode': 'OPTIONAL', 'ag_filter': '', 'ag_exp_time': 10.0, 'ag_strategy': '', 'instrument_name': '2M0-FLOYDS-SCICAM', 'filter': '', 'readout_mode': '', 'spectra_lamp': '', 'spectra_slit': 'slit_1.6as', 'acquire_mode': 'WCS', 'acquire_radius_arcsec': 0.0, 'acquire_strategy': '', 'expmeter_mode': 'OFF', 'expmeter_snr': None, 'exposure_time': 60.0, 'exposure_count': 2, 'bin_x': 1, 'bin_y': 1, 'defocus': 0.0}, {'type': 'ARC', 'args': '', 'priority': 2, 'ag_name': '', 'ag_mode': 'OPTIONAL', 'ag_filter': '', 'ag_exp_time': 10.0, 'ag_strategy': '', 'instrument_name': '2M0-FLOYDS-SCICAM', 'filter': '', 'readout_mode': '', 'spectra_lamp': '', 'spectra_slit': 'slit_1.6as', 'acquire_mode': 'WCS', 'acquire_radius_arcsec': 0.0, 'acquire_strategy': '', 'expmeter_mode': 'OFF', 'expmeter_snr': None, 'exposure_time': 60.0, 'exposure_count': 2, 'bin_x': 1, 'bin_y': 1, 'defocus': 0.0}, {'type': 'SPECTRUM', 'args': '', 'priority': 3, 'ag_name': '', 'ag_mode': 'ON', 'ag_filter': '', 'ag_exp_time': 10.0, 'ag_strategy': '', 'instrument_name': '2M0-FLOYDS-SCICAM', 'filter': '', 'readout_mode': '', 'spectra_lamp': '', 'spectra_slit': 'slit_1.6as', 'acquire_mode': 'WCS', 'acquire_radius_arcsec': 0.0, 'acquire_strategy': '', 'expmeter_mode': 'OFF', 'expmeter_snr': None, 'exposure_time': 900.0, 'exposure_count': 2, 'bin_x': 1, 'bin_y': 1, 'defocus': 0.0}, {'type': 'ARC', 'args': '', 'priority': 4, 'ag_name': '', 'ag_mode': 'OPTIONAL', 'ag_filter': '', 'ag_exp_time': 10.0, 'ag_strategy': '', 'instrument_name': '2M0-FLOYDS-SCICAM', 'filter': '', 'readout_mode': '', 'spectra_lamp': '', 'spectra_slit': 'slit_1.6as', 'acquire_mode': 'WCS', 'acquire_radius_arcsec': 0.0, 'acquire_strategy': '', 'expmeter_mode': 'OFF', 'expmeter_snr': None, 'exposure_time': 60.0, 'exposure_count': 2, 'bin_x': 1, 'bin_y': 1, 'defocus': 0.0}, {'type': 'LAMP_FLAT', 'args': '', 'priority': 5, 'ag_name': '', 'ag_mode': 'OPTIONAL', 'ag_filter': '', 'ag_exp_time': 10.0, 'ag_strategy': '', 'instrument_name': '2M0-FLOYDS-SCICAM', 'filter': '', 'readout_mode': '', 'spectra_lamp': '', 'spectra_slit': 'slit_1.6as', 'acquire_mode': 'WCS', 'acquire_radius_arcsec': 0.0, 'acquire_strategy': '', 'expmeter_mode': 'OFF', 'expmeter_snr': None, 'exposure_time': 60.0, 'exposure_count': 2, 'bin_x': 1, 'bin_y': 1, 'defocus': 0.0}], 'windows': [{'start': '2018-11-14T09:52:13Z', 'end': '2018-11-20T09:52:13Z'}], 'duration': 3125, 'observation_note': '', 'state': 'PENDING', 'modified': '2018-11-14T11:02:04.113524Z', 'fail_count': 0, 'scheduled_count': 0, 'created': '2018-11-14T11:02:04.113548Z', 'completed': None, 'acceptability_threshold': 100.0}], 'submitter': 'Ampel', 'group_id': 'ampelLCO', 'observation_type': 'NORMAL', 'operator': 'SINGLE', 'ipp_value': 1.0, 'created': '2018-11-14T11:02:04.107137Z', 'state': 'PENDING', 'modified': '2018-11-14T11:02:04.107161Z', 'proposal': 'CON2018B-005'}\n",
      "{'id': 719966, 'requests': [{'id': 1670923, 'location': {'telescope_class': '2m0'}, 'constraints': {'max_airmass': 1.6, 'min_lunar_distance': 30.0, 'max_lunar_phase': None, 'max_seeing': None, 'min_transparency': None}, 'target': {'type': 'SIDEREAL', 'name': 'ZTF18acbxsec', 'ra': 5.8373489, 'dec': -1.7580642, 'proper_motion_ra': 0.0, 'proper_motion_dec': 0.0, 'parallax': 0.0, 'radvel': 0.0, 'coordinate_system': 'ICRS', 'equinox': 'J2000', 'epoch': 2000.0, 'acquire_mode': None, 'rot_mode': 'VFLOAT', 'rot_angle': 0.0, 'vmag': None}, 'molecules': [{'type': 'LAMP_FLAT', 'args': '', 'priority': 1, 'ag_name': '', 'ag_mode': 'OPTIONAL', 'ag_filter': '', 'ag_exp_time': 10.0, 'ag_strategy': '', 'instrument_name': '2M0-FLOYDS-SCICAM', 'filter': '', 'readout_mode': '', 'spectra_lamp': '', 'spectra_slit': 'slit_1.6as', 'acquire_mode': 'WCS', 'acquire_radius_arcsec': 0.0, 'acquire_strategy': '', 'expmeter_mode': 'OFF', 'expmeter_snr': None, 'exposure_time': 60.0, 'exposure_count': 2, 'bin_x': 1, 'bin_y': 1, 'defocus': 0.0}, {'type': 'ARC', 'args': '', 'priority': 2, 'ag_name': '', 'ag_mode': 'OPTIONAL', 'ag_filter': '', 'ag_exp_time': 10.0, 'ag_strategy': '', 'instrument_name': '2M0-FLOYDS-SCICAM', 'filter': '', 'readout_mode': '', 'spectra_lamp': '', 'spectra_slit': 'slit_1.6as', 'acquire_mode': 'WCS', 'acquire_radius_arcsec': 0.0, 'acquire_strategy': '', 'expmeter_mode': 'OFF', 'expmeter_snr': None, 'exposure_time': 60.0, 'exposure_count': 2, 'bin_x': 1, 'bin_y': 1, 'defocus': 0.0}, {'type': 'SPECTRUM', 'args': '', 'priority': 3, 'ag_name': '', 'ag_mode': 'ON', 'ag_filter': '', 'ag_exp_time': 10.0, 'ag_strategy': '', 'instrument_name': '2M0-FLOYDS-SCICAM', 'filter': '', 'readout_mode': '', 'spectra_lamp': '', 'spectra_slit': 'slit_1.6as', 'acquire_mode': 'WCS', 'acquire_radius_arcsec': 0.0, 'acquire_strategy': '', 'expmeter_mode': 'OFF', 'expmeter_snr': None, 'exposure_time': 900.0, 'exposure_count': 2, 'bin_x': 1, 'bin_y': 1, 'defocus': 0.0}, {'type': 'ARC', 'args': '', 'priority': 4, 'ag_name': '', 'ag_mode': 'OPTIONAL', 'ag_filter': '', 'ag_exp_time': 10.0, 'ag_strategy': '', 'instrument_name': '2M0-FLOYDS-SCICAM', 'filter': '', 'readout_mode': '', 'spectra_lamp': '', 'spectra_slit': 'slit_1.6as', 'acquire_mode': 'WCS', 'acquire_radius_arcsec': 0.0, 'acquire_strategy': '', 'expmeter_mode': 'OFF', 'expmeter_snr': None, 'exposure_time': 60.0, 'exposure_count': 2, 'bin_x': 1, 'bin_y': 1, 'defocus': 0.0}, {'type': 'LAMP_FLAT', 'args': '', 'priority': 5, 'ag_name': '', 'ag_mode': 'OPTIONAL', 'ag_filter': '', 'ag_exp_time': 10.0, 'ag_strategy': '', 'instrument_name': '2M0-FLOYDS-SCICAM', 'filter': '', 'readout_mode': '', 'spectra_lamp': '', 'spectra_slit': 'slit_1.6as', 'acquire_mode': 'WCS', 'acquire_radius_arcsec': 0.0, 'acquire_strategy': '', 'expmeter_mode': 'OFF', 'expmeter_snr': None, 'exposure_time': 60.0, 'exposure_count': 2, 'bin_x': 1, 'bin_y': 1, 'defocus': 0.0}], 'windows': [{'start': '2018-11-14T09:52:13Z', 'end': '2018-11-20T09:52:13Z'}], 'duration': 3125, 'observation_note': '', 'state': 'PENDING', 'modified': '2018-11-14T11:02:05.567789Z', 'fail_count': 0, 'scheduled_count': 0, 'created': '2018-11-14T11:02:05.567827Z', 'completed': None, 'acceptability_threshold': 100.0}], 'submitter': 'Ampel', 'group_id': 'ampelLCO', 'observation_type': 'NORMAL', 'operator': 'SINGLE', 'ipp_value': 1.0, 'created': '2018-11-14T11:02:05.562649Z', 'state': 'PENDING', 'modified': '2018-11-14T11:02:05.562674Z', 'proposal': 'CON2018B-005'}\n",
      "{'id': 719967, 'requests': [{'id': 1670924, 'location': {'telescope_class': '2m0'}, 'constraints': {'max_airmass': 1.6, 'min_lunar_distance': 30.0, 'max_lunar_phase': None, 'max_seeing': None, 'min_transparency': None}, 'target': {'type': 'SIDEREAL', 'name': 'ZTF18acbvgqw', 'ra': 46.5120969, 'dec': -15.6115806, 'proper_motion_ra': 0.0, 'proper_motion_dec': 0.0, 'parallax': 0.0, 'radvel': 0.0, 'coordinate_system': 'ICRS', 'equinox': 'J2000', 'epoch': 2000.0, 'acquire_mode': None, 'rot_mode': 'VFLOAT', 'rot_angle': 0.0, 'vmag': None}, 'molecules': [{'type': 'LAMP_FLAT', 'args': '', 'priority': 1, 'ag_name': '', 'ag_mode': 'OPTIONAL', 'ag_filter': '', 'ag_exp_time': 10.0, 'ag_strategy': '', 'instrument_name': '2M0-FLOYDS-SCICAM', 'filter': '', 'readout_mode': '', 'spectra_lamp': '', 'spectra_slit': 'slit_1.6as', 'acquire_mode': 'WCS', 'acquire_radius_arcsec': 0.0, 'acquire_strategy': '', 'expmeter_mode': 'OFF', 'expmeter_snr': None, 'exposure_time': 60.0, 'exposure_count': 2, 'bin_x': 1, 'bin_y': 1, 'defocus': 0.0}, {'type': 'ARC', 'args': '', 'priority': 2, 'ag_name': '', 'ag_mode': 'OPTIONAL', 'ag_filter': '', 'ag_exp_time': 10.0, 'ag_strategy': '', 'instrument_name': '2M0-FLOYDS-SCICAM', 'filter': '', 'readout_mode': '', 'spectra_lamp': '', 'spectra_slit': 'slit_1.6as', 'acquire_mode': 'WCS', 'acquire_radius_arcsec': 0.0, 'acquire_strategy': '', 'expmeter_mode': 'OFF', 'expmeter_snr': None, 'exposure_time': 60.0, 'exposure_count': 2, 'bin_x': 1, 'bin_y': 1, 'defocus': 0.0}, {'type': 'SPECTRUM', 'args': '', 'priority': 3, 'ag_name': '', 'ag_mode': 'ON', 'ag_filter': '', 'ag_exp_time': 10.0, 'ag_strategy': '', 'instrument_name': '2M0-FLOYDS-SCICAM', 'filter': '', 'readout_mode': '', 'spectra_lamp': '', 'spectra_slit': 'slit_1.6as', 'acquire_mode': 'WCS', 'acquire_radius_arcsec': 0.0, 'acquire_strategy': '', 'expmeter_mode': 'OFF', 'expmeter_snr': None, 'exposure_time': 900.0, 'exposure_count': 2, 'bin_x': 1, 'bin_y': 1, 'defocus': 0.0}, {'type': 'ARC', 'args': '', 'priority': 4, 'ag_name': '', 'ag_mode': 'OPTIONAL', 'ag_filter': '', 'ag_exp_time': 10.0, 'ag_strategy': '', 'instrument_name': '2M0-FLOYDS-SCICAM', 'filter': '', 'readout_mode': '', 'spectra_lamp': '', 'spectra_slit': 'slit_1.6as', 'acquire_mode': 'WCS', 'acquire_radius_arcsec': 0.0, 'acquire_strategy': '', 'expmeter_mode': 'OFF', 'expmeter_snr': None, 'exposure_time': 60.0, 'exposure_count': 2, 'bin_x': 1, 'bin_y': 1, 'defocus': 0.0}, {'type': 'LAMP_FLAT', 'args': '', 'priority': 5, 'ag_name': '', 'ag_mode': 'OPTIONAL', 'ag_filter': '', 'ag_exp_time': 10.0, 'ag_strategy': '', 'instrument_name': '2M0-FLOYDS-SCICAM', 'filter': '', 'readout_mode': '', 'spectra_lamp': '', 'spectra_slit': 'slit_1.6as', 'acquire_mode': 'WCS', 'acquire_radius_arcsec': 0.0, 'acquire_strategy': '', 'expmeter_mode': 'OFF', 'expmeter_snr': None, 'exposure_time': 60.0, 'exposure_count': 2, 'bin_x': 1, 'bin_y': 1, 'defocus': 0.0}], 'windows': [{'start': '2018-11-14T09:52:13Z', 'end': '2018-11-20T09:52:13Z'}], 'duration': 3125, 'observation_note': '', 'state': 'PENDING', 'modified': '2018-11-14T11:02:07.253500Z', 'fail_count': 0, 'scheduled_count': 0, 'created': '2018-11-14T11:02:07.253523Z', 'completed': None, 'acceptability_threshold': 100.0}], 'submitter': 'Ampel', 'group_id': 'ampelLCO', 'observation_type': 'NORMAL', 'operator': 'SINGLE', 'ipp_value': 1.0, 'created': '2018-11-14T11:02:07.251883Z', 'state': 'PENDING', 'modified': '2018-11-14T11:02:07.251907Z', 'proposal': 'CON2018B-005'}\n"
     ]
    },
    {
     "name": "stdout",
     "output_type": "stream",
     "text": [
      "{'id': 719968, 'requests': [{'id': 1670925, 'location': {'telescope_class': '2m0'}, 'constraints': {'max_airmass': 1.6, 'min_lunar_distance': 30.0, 'max_lunar_phase': None, 'max_seeing': None, 'min_transparency': None}, 'target': {'type': 'SIDEREAL', 'name': 'ZTF18acbvugp', 'ra': 95.1821106, 'dec': 59.3426393, 'proper_motion_ra': 0.0, 'proper_motion_dec': 0.0, 'parallax': 0.0, 'radvel': 0.0, 'coordinate_system': 'ICRS', 'equinox': 'J2000', 'epoch': 2000.0, 'acquire_mode': None, 'rot_mode': 'VFLOAT', 'rot_angle': 0.0, 'vmag': None}, 'molecules': [{'type': 'LAMP_FLAT', 'args': '', 'priority': 1, 'ag_name': '', 'ag_mode': 'OPTIONAL', 'ag_filter': '', 'ag_exp_time': 10.0, 'ag_strategy': '', 'instrument_name': '2M0-FLOYDS-SCICAM', 'filter': '', 'readout_mode': '', 'spectra_lamp': '', 'spectra_slit': 'slit_1.6as', 'acquire_mode': 'WCS', 'acquire_radius_arcsec': 0.0, 'acquire_strategy': '', 'expmeter_mode': 'OFF', 'expmeter_snr': None, 'exposure_time': 60.0, 'exposure_count': 2, 'bin_x': 1, 'bin_y': 1, 'defocus': 0.0}, {'type': 'ARC', 'args': '', 'priority': 2, 'ag_name': '', 'ag_mode': 'OPTIONAL', 'ag_filter': '', 'ag_exp_time': 10.0, 'ag_strategy': '', 'instrument_name': '2M0-FLOYDS-SCICAM', 'filter': '', 'readout_mode': '', 'spectra_lamp': '', 'spectra_slit': 'slit_1.6as', 'acquire_mode': 'WCS', 'acquire_radius_arcsec': 0.0, 'acquire_strategy': '', 'expmeter_mode': 'OFF', 'expmeter_snr': None, 'exposure_time': 60.0, 'exposure_count': 2, 'bin_x': 1, 'bin_y': 1, 'defocus': 0.0}, {'type': 'SPECTRUM', 'args': '', 'priority': 3, 'ag_name': '', 'ag_mode': 'ON', 'ag_filter': '', 'ag_exp_time': 10.0, 'ag_strategy': '', 'instrument_name': '2M0-FLOYDS-SCICAM', 'filter': '', 'readout_mode': '', 'spectra_lamp': '', 'spectra_slit': 'slit_1.6as', 'acquire_mode': 'WCS', 'acquire_radius_arcsec': 0.0, 'acquire_strategy': '', 'expmeter_mode': 'OFF', 'expmeter_snr': None, 'exposure_time': 900.0, 'exposure_count': 2, 'bin_x': 1, 'bin_y': 1, 'defocus': 0.0}, {'type': 'ARC', 'args': '', 'priority': 4, 'ag_name': '', 'ag_mode': 'OPTIONAL', 'ag_filter': '', 'ag_exp_time': 10.0, 'ag_strategy': '', 'instrument_name': '2M0-FLOYDS-SCICAM', 'filter': '', 'readout_mode': '', 'spectra_lamp': '', 'spectra_slit': 'slit_1.6as', 'acquire_mode': 'WCS', 'acquire_radius_arcsec': 0.0, 'acquire_strategy': '', 'expmeter_mode': 'OFF', 'expmeter_snr': None, 'exposure_time': 60.0, 'exposure_count': 2, 'bin_x': 1, 'bin_y': 1, 'defocus': 0.0}, {'type': 'LAMP_FLAT', 'args': '', 'priority': 5, 'ag_name': '', 'ag_mode': 'OPTIONAL', 'ag_filter': '', 'ag_exp_time': 10.0, 'ag_strategy': '', 'instrument_name': '2M0-FLOYDS-SCICAM', 'filter': '', 'readout_mode': '', 'spectra_lamp': '', 'spectra_slit': 'slit_1.6as', 'acquire_mode': 'WCS', 'acquire_radius_arcsec': 0.0, 'acquire_strategy': '', 'expmeter_mode': 'OFF', 'expmeter_snr': None, 'exposure_time': 60.0, 'exposure_count': 2, 'bin_x': 1, 'bin_y': 1, 'defocus': 0.0}], 'windows': [{'start': '2018-11-14T09:52:13Z', 'end': '2018-11-20T09:52:13Z'}], 'duration': 3125, 'observation_note': '', 'state': 'PENDING', 'modified': '2018-11-14T11:02:08.362749Z', 'fail_count': 0, 'scheduled_count': 0, 'created': '2018-11-14T11:02:08.362774Z', 'completed': None, 'acceptability_threshold': 100.0}], 'submitter': 'Ampel', 'group_id': 'ampelLCO', 'observation_type': 'NORMAL', 'operator': 'SINGLE', 'ipp_value': 1.0, 'created': '2018-11-14T11:02:08.360855Z', 'state': 'PENDING', 'modified': '2018-11-14T11:02:08.360882Z', 'proposal': 'CON2018B-005'}\n",
      "{'id': 719969, 'requests': [{'id': 1670926, 'location': {'telescope_class': '2m0'}, 'constraints': {'max_airmass': 1.6, 'min_lunar_distance': 30.0, 'max_lunar_phase': None, 'max_seeing': None, 'min_transparency': None}, 'target': {'type': 'SIDEREAL', 'name': 'ZTF18accvmgs', 'ra': 122.2683745, 'dec': 12.0483634, 'proper_motion_ra': 0.0, 'proper_motion_dec': 0.0, 'parallax': 0.0, 'radvel': 0.0, 'coordinate_system': 'ICRS', 'equinox': 'J2000', 'epoch': 2000.0, 'acquire_mode': None, 'rot_mode': 'VFLOAT', 'rot_angle': 0.0, 'vmag': None}, 'molecules': [{'type': 'LAMP_FLAT', 'args': '', 'priority': 1, 'ag_name': '', 'ag_mode': 'OPTIONAL', 'ag_filter': '', 'ag_exp_time': 10.0, 'ag_strategy': '', 'instrument_name': '2M0-FLOYDS-SCICAM', 'filter': '', 'readout_mode': '', 'spectra_lamp': '', 'spectra_slit': 'slit_1.6as', 'acquire_mode': 'WCS', 'acquire_radius_arcsec': 0.0, 'acquire_strategy': '', 'expmeter_mode': 'OFF', 'expmeter_snr': None, 'exposure_time': 60.0, 'exposure_count': 2, 'bin_x': 1, 'bin_y': 1, 'defocus': 0.0}, {'type': 'ARC', 'args': '', 'priority': 2, 'ag_name': '', 'ag_mode': 'OPTIONAL', 'ag_filter': '', 'ag_exp_time': 10.0, 'ag_strategy': '', 'instrument_name': '2M0-FLOYDS-SCICAM', 'filter': '', 'readout_mode': '', 'spectra_lamp': '', 'spectra_slit': 'slit_1.6as', 'acquire_mode': 'WCS', 'acquire_radius_arcsec': 0.0, 'acquire_strategy': '', 'expmeter_mode': 'OFF', 'expmeter_snr': None, 'exposure_time': 60.0, 'exposure_count': 2, 'bin_x': 1, 'bin_y': 1, 'defocus': 0.0}, {'type': 'SPECTRUM', 'args': '', 'priority': 3, 'ag_name': '', 'ag_mode': 'ON', 'ag_filter': '', 'ag_exp_time': 10.0, 'ag_strategy': '', 'instrument_name': '2M0-FLOYDS-SCICAM', 'filter': '', 'readout_mode': '', 'spectra_lamp': '', 'spectra_slit': 'slit_1.6as', 'acquire_mode': 'WCS', 'acquire_radius_arcsec': 0.0, 'acquire_strategy': '', 'expmeter_mode': 'OFF', 'expmeter_snr': None, 'exposure_time': 900.0, 'exposure_count': 2, 'bin_x': 1, 'bin_y': 1, 'defocus': 0.0}, {'type': 'ARC', 'args': '', 'priority': 4, 'ag_name': '', 'ag_mode': 'OPTIONAL', 'ag_filter': '', 'ag_exp_time': 10.0, 'ag_strategy': '', 'instrument_name': '2M0-FLOYDS-SCICAM', 'filter': '', 'readout_mode': '', 'spectra_lamp': '', 'spectra_slit': 'slit_1.6as', 'acquire_mode': 'WCS', 'acquire_radius_arcsec': 0.0, 'acquire_strategy': '', 'expmeter_mode': 'OFF', 'expmeter_snr': None, 'exposure_time': 60.0, 'exposure_count': 2, 'bin_x': 1, 'bin_y': 1, 'defocus': 0.0}, {'type': 'LAMP_FLAT', 'args': '', 'priority': 5, 'ag_name': '', 'ag_mode': 'OPTIONAL', 'ag_filter': '', 'ag_exp_time': 10.0, 'ag_strategy': '', 'instrument_name': '2M0-FLOYDS-SCICAM', 'filter': '', 'readout_mode': '', 'spectra_lamp': '', 'spectra_slit': 'slit_1.6as', 'acquire_mode': 'WCS', 'acquire_radius_arcsec': 0.0, 'acquire_strategy': '', 'expmeter_mode': 'OFF', 'expmeter_snr': None, 'exposure_time': 60.0, 'exposure_count': 2, 'bin_x': 1, 'bin_y': 1, 'defocus': 0.0}], 'windows': [{'start': '2018-11-14T09:52:13Z', 'end': '2018-11-20T09:52:13Z'}], 'duration': 3125, 'observation_note': '', 'state': 'PENDING', 'modified': '2018-11-14T11:02:09.426698Z', 'fail_count': 0, 'scheduled_count': 0, 'created': '2018-11-14T11:02:09.426723Z', 'completed': None, 'acceptability_threshold': 100.0}], 'submitter': 'Ampel', 'group_id': 'ampelLCO', 'observation_type': 'NORMAL', 'operator': 'SINGLE', 'ipp_value': 1.0, 'created': '2018-11-14T11:02:09.424865Z', 'state': 'PENDING', 'modified': '2018-11-14T11:02:09.424891Z', 'proposal': 'CON2018B-005'}\n",
      "ZTF18accndxn not visible, skip\n",
      "{'id': 719970, 'requests': [{'id': 1670927, 'location': {'telescope_class': '2m0'}, 'constraints': {'max_airmass': 1.6, 'min_lunar_distance': 30.0, 'max_lunar_phase': None, 'max_seeing': None, 'min_transparency': None}, 'target': {'type': 'SIDEREAL', 'name': 'ZTF18acejgrz', 'ra': 26.5367995, 'dec': 33.7951923, 'proper_motion_ra': 0.0, 'proper_motion_dec': 0.0, 'parallax': 0.0, 'radvel': 0.0, 'coordinate_system': 'ICRS', 'equinox': 'J2000', 'epoch': 2000.0, 'acquire_mode': None, 'rot_mode': 'VFLOAT', 'rot_angle': 0.0, 'vmag': None}, 'molecules': [{'type': 'LAMP_FLAT', 'args': '', 'priority': 1, 'ag_name': '', 'ag_mode': 'OPTIONAL', 'ag_filter': '', 'ag_exp_time': 10.0, 'ag_strategy': '', 'instrument_name': '2M0-FLOYDS-SCICAM', 'filter': '', 'readout_mode': '', 'spectra_lamp': '', 'spectra_slit': 'slit_1.6as', 'acquire_mode': 'WCS', 'acquire_radius_arcsec': 0.0, 'acquire_strategy': '', 'expmeter_mode': 'OFF', 'expmeter_snr': None, 'exposure_time': 60.0, 'exposure_count': 2, 'bin_x': 1, 'bin_y': 1, 'defocus': 0.0}, {'type': 'ARC', 'args': '', 'priority': 2, 'ag_name': '', 'ag_mode': 'OPTIONAL', 'ag_filter': '', 'ag_exp_time': 10.0, 'ag_strategy': '', 'instrument_name': '2M0-FLOYDS-SCICAM', 'filter': '', 'readout_mode': '', 'spectra_lamp': '', 'spectra_slit': 'slit_1.6as', 'acquire_mode': 'WCS', 'acquire_radius_arcsec': 0.0, 'acquire_strategy': '', 'expmeter_mode': 'OFF', 'expmeter_snr': None, 'exposure_time': 60.0, 'exposure_count': 2, 'bin_x': 1, 'bin_y': 1, 'defocus': 0.0}, {'type': 'SPECTRUM', 'args': '', 'priority': 3, 'ag_name': '', 'ag_mode': 'ON', 'ag_filter': '', 'ag_exp_time': 10.0, 'ag_strategy': '', 'instrument_name': '2M0-FLOYDS-SCICAM', 'filter': '', 'readout_mode': '', 'spectra_lamp': '', 'spectra_slit': 'slit_1.6as', 'acquire_mode': 'WCS', 'acquire_radius_arcsec': 0.0, 'acquire_strategy': '', 'expmeter_mode': 'OFF', 'expmeter_snr': None, 'exposure_time': 900.0, 'exposure_count': 2, 'bin_x': 1, 'bin_y': 1, 'defocus': 0.0}, {'type': 'ARC', 'args': '', 'priority': 4, 'ag_name': '', 'ag_mode': 'OPTIONAL', 'ag_filter': '', 'ag_exp_time': 10.0, 'ag_strategy': '', 'instrument_name': '2M0-FLOYDS-SCICAM', 'filter': '', 'readout_mode': '', 'spectra_lamp': '', 'spectra_slit': 'slit_1.6as', 'acquire_mode': 'WCS', 'acquire_radius_arcsec': 0.0, 'acquire_strategy': '', 'expmeter_mode': 'OFF', 'expmeter_snr': None, 'exposure_time': 60.0, 'exposure_count': 2, 'bin_x': 1, 'bin_y': 1, 'defocus': 0.0}, {'type': 'LAMP_FLAT', 'args': '', 'priority': 5, 'ag_name': '', 'ag_mode': 'OPTIONAL', 'ag_filter': '', 'ag_exp_time': 10.0, 'ag_strategy': '', 'instrument_name': '2M0-FLOYDS-SCICAM', 'filter': '', 'readout_mode': '', 'spectra_lamp': '', 'spectra_slit': 'slit_1.6as', 'acquire_mode': 'WCS', 'acquire_radius_arcsec': 0.0, 'acquire_strategy': '', 'expmeter_mode': 'OFF', 'expmeter_snr': None, 'exposure_time': 60.0, 'exposure_count': 2, 'bin_x': 1, 'bin_y': 1, 'defocus': 0.0}], 'windows': [{'start': '2018-11-14T09:52:13Z', 'end': '2018-11-20T09:52:13Z'}], 'duration': 3125, 'observation_note': '', 'state': 'PENDING', 'modified': '2018-11-14T11:02:10.379575Z', 'fail_count': 0, 'scheduled_count': 0, 'created': '2018-11-14T11:02:10.379600Z', 'completed': None, 'acceptability_threshold': 100.0}], 'submitter': 'Ampel', 'group_id': 'ampelLCO', 'observation_type': 'NORMAL', 'operator': 'SINGLE', 'ipp_value': 1.0, 'created': '2018-11-14T11:02:10.374491Z', 'state': 'PENDING', 'modified': '2018-11-14T11:02:10.374524Z', 'proposal': 'CON2018B-005'}\n"
     ]
    },
    {
     "name": "stdout",
     "output_type": "stream",
     "text": [
      "{'id': 719971, 'requests': [{'id': 1670928, 'location': {'telescope_class': '2m0'}, 'constraints': {'max_airmass': 1.6, 'min_lunar_distance': 30.0, 'max_lunar_phase': None, 'max_seeing': None, 'min_transparency': None}, 'target': {'type': 'SIDEREAL', 'name': 'ZTF18acemhyb', 'ra': 119.1422834, 'dec': 30.1766162, 'proper_motion_ra': 0.0, 'proper_motion_dec': 0.0, 'parallax': 0.0, 'radvel': 0.0, 'coordinate_system': 'ICRS', 'equinox': 'J2000', 'epoch': 2000.0, 'acquire_mode': None, 'rot_mode': 'VFLOAT', 'rot_angle': 0.0, 'vmag': None}, 'molecules': [{'type': 'LAMP_FLAT', 'args': '', 'priority': 1, 'ag_name': '', 'ag_mode': 'OPTIONAL', 'ag_filter': '', 'ag_exp_time': 10.0, 'ag_strategy': '', 'instrument_name': '2M0-FLOYDS-SCICAM', 'filter': '', 'readout_mode': '', 'spectra_lamp': '', 'spectra_slit': 'slit_1.6as', 'acquire_mode': 'WCS', 'acquire_radius_arcsec': 0.0, 'acquire_strategy': '', 'expmeter_mode': 'OFF', 'expmeter_snr': None, 'exposure_time': 60.0, 'exposure_count': 2, 'bin_x': 1, 'bin_y': 1, 'defocus': 0.0}, {'type': 'ARC', 'args': '', 'priority': 2, 'ag_name': '', 'ag_mode': 'OPTIONAL', 'ag_filter': '', 'ag_exp_time': 10.0, 'ag_strategy': '', 'instrument_name': '2M0-FLOYDS-SCICAM', 'filter': '', 'readout_mode': '', 'spectra_lamp': '', 'spectra_slit': 'slit_1.6as', 'acquire_mode': 'WCS', 'acquire_radius_arcsec': 0.0, 'acquire_strategy': '', 'expmeter_mode': 'OFF', 'expmeter_snr': None, 'exposure_time': 60.0, 'exposure_count': 2, 'bin_x': 1, 'bin_y': 1, 'defocus': 0.0}, {'type': 'SPECTRUM', 'args': '', 'priority': 3, 'ag_name': '', 'ag_mode': 'ON', 'ag_filter': '', 'ag_exp_time': 10.0, 'ag_strategy': '', 'instrument_name': '2M0-FLOYDS-SCICAM', 'filter': '', 'readout_mode': '', 'spectra_lamp': '', 'spectra_slit': 'slit_1.6as', 'acquire_mode': 'WCS', 'acquire_radius_arcsec': 0.0, 'acquire_strategy': '', 'expmeter_mode': 'OFF', 'expmeter_snr': None, 'exposure_time': 900.0, 'exposure_count': 2, 'bin_x': 1, 'bin_y': 1, 'defocus': 0.0}, {'type': 'ARC', 'args': '', 'priority': 4, 'ag_name': '', 'ag_mode': 'OPTIONAL', 'ag_filter': '', 'ag_exp_time': 10.0, 'ag_strategy': '', 'instrument_name': '2M0-FLOYDS-SCICAM', 'filter': '', 'readout_mode': '', 'spectra_lamp': '', 'spectra_slit': 'slit_1.6as', 'acquire_mode': 'WCS', 'acquire_radius_arcsec': 0.0, 'acquire_strategy': '', 'expmeter_mode': 'OFF', 'expmeter_snr': None, 'exposure_time': 60.0, 'exposure_count': 2, 'bin_x': 1, 'bin_y': 1, 'defocus': 0.0}, {'type': 'LAMP_FLAT', 'args': '', 'priority': 5, 'ag_name': '', 'ag_mode': 'OPTIONAL', 'ag_filter': '', 'ag_exp_time': 10.0, 'ag_strategy': '', 'instrument_name': '2M0-FLOYDS-SCICAM', 'filter': '', 'readout_mode': '', 'spectra_lamp': '', 'spectra_slit': 'slit_1.6as', 'acquire_mode': 'WCS', 'acquire_radius_arcsec': 0.0, 'acquire_strategy': '', 'expmeter_mode': 'OFF', 'expmeter_snr': None, 'exposure_time': 60.0, 'exposure_count': 2, 'bin_x': 1, 'bin_y': 1, 'defocus': 0.0}], 'windows': [{'start': '2018-11-14T09:52:13Z', 'end': '2018-11-20T09:52:13Z'}], 'duration': 3125, 'observation_note': '', 'state': 'PENDING', 'modified': '2018-11-14T11:02:11.540098Z', 'fail_count': 0, 'scheduled_count': 0, 'created': '2018-11-14T11:02:11.540125Z', 'completed': None, 'acceptability_threshold': 100.0}], 'submitter': 'Ampel', 'group_id': 'ampelLCO', 'observation_type': 'NORMAL', 'operator': 'SINGLE', 'ipp_value': 1.0, 'created': '2018-11-14T11:02:11.531231Z', 'state': 'PENDING', 'modified': '2018-11-14T11:02:11.531255Z', 'proposal': 'CON2018B-005'}\n",
      "{'id': 719972, 'requests': [{'id': 1670929, 'location': {'telescope_class': '2m0'}, 'constraints': {'max_airmass': 1.6, 'min_lunar_distance': 30.0, 'max_lunar_phase': None, 'max_seeing': None, 'min_transparency': None}, 'target': {'type': 'SIDEREAL', 'name': 'ZTF18acebefc', 'ra': 51.0686576, 'dec': 16.1779369, 'proper_motion_ra': 0.0, 'proper_motion_dec': 0.0, 'parallax': 0.0, 'radvel': 0.0, 'coordinate_system': 'ICRS', 'equinox': 'J2000', 'epoch': 2000.0, 'acquire_mode': None, 'rot_mode': 'VFLOAT', 'rot_angle': 0.0, 'vmag': None}, 'molecules': [{'type': 'LAMP_FLAT', 'args': '', 'priority': 1, 'ag_name': '', 'ag_mode': 'OPTIONAL', 'ag_filter': '', 'ag_exp_time': 10.0, 'ag_strategy': '', 'instrument_name': '2M0-FLOYDS-SCICAM', 'filter': '', 'readout_mode': '', 'spectra_lamp': '', 'spectra_slit': 'slit_1.6as', 'acquire_mode': 'WCS', 'acquire_radius_arcsec': 0.0, 'acquire_strategy': '', 'expmeter_mode': 'OFF', 'expmeter_snr': None, 'exposure_time': 60.0, 'exposure_count': 2, 'bin_x': 1, 'bin_y': 1, 'defocus': 0.0}, {'type': 'ARC', 'args': '', 'priority': 2, 'ag_name': '', 'ag_mode': 'OPTIONAL', 'ag_filter': '', 'ag_exp_time': 10.0, 'ag_strategy': '', 'instrument_name': '2M0-FLOYDS-SCICAM', 'filter': '', 'readout_mode': '', 'spectra_lamp': '', 'spectra_slit': 'slit_1.6as', 'acquire_mode': 'WCS', 'acquire_radius_arcsec': 0.0, 'acquire_strategy': '', 'expmeter_mode': 'OFF', 'expmeter_snr': None, 'exposure_time': 60.0, 'exposure_count': 2, 'bin_x': 1, 'bin_y': 1, 'defocus': 0.0}, {'type': 'SPECTRUM', 'args': '', 'priority': 3, 'ag_name': '', 'ag_mode': 'ON', 'ag_filter': '', 'ag_exp_time': 10.0, 'ag_strategy': '', 'instrument_name': '2M0-FLOYDS-SCICAM', 'filter': '', 'readout_mode': '', 'spectra_lamp': '', 'spectra_slit': 'slit_1.6as', 'acquire_mode': 'WCS', 'acquire_radius_arcsec': 0.0, 'acquire_strategy': '', 'expmeter_mode': 'OFF', 'expmeter_snr': None, 'exposure_time': 900.0, 'exposure_count': 2, 'bin_x': 1, 'bin_y': 1, 'defocus': 0.0}, {'type': 'ARC', 'args': '', 'priority': 4, 'ag_name': '', 'ag_mode': 'OPTIONAL', 'ag_filter': '', 'ag_exp_time': 10.0, 'ag_strategy': '', 'instrument_name': '2M0-FLOYDS-SCICAM', 'filter': '', 'readout_mode': '', 'spectra_lamp': '', 'spectra_slit': 'slit_1.6as', 'acquire_mode': 'WCS', 'acquire_radius_arcsec': 0.0, 'acquire_strategy': '', 'expmeter_mode': 'OFF', 'expmeter_snr': None, 'exposure_time': 60.0, 'exposure_count': 2, 'bin_x': 1, 'bin_y': 1, 'defocus': 0.0}, {'type': 'LAMP_FLAT', 'args': '', 'priority': 5, 'ag_name': '', 'ag_mode': 'OPTIONAL', 'ag_filter': '', 'ag_exp_time': 10.0, 'ag_strategy': '', 'instrument_name': '2M0-FLOYDS-SCICAM', 'filter': '', 'readout_mode': '', 'spectra_lamp': '', 'spectra_slit': 'slit_1.6as', 'acquire_mode': 'WCS', 'acquire_radius_arcsec': 0.0, 'acquire_strategy': '', 'expmeter_mode': 'OFF', 'expmeter_snr': None, 'exposure_time': 60.0, 'exposure_count': 2, 'bin_x': 1, 'bin_y': 1, 'defocus': 0.0}], 'windows': [{'start': '2018-11-14T09:52:13Z', 'end': '2018-11-20T09:52:13Z'}], 'duration': 3125, 'observation_note': '', 'state': 'PENDING', 'modified': '2018-11-14T11:02:12.595521Z', 'fail_count': 0, 'scheduled_count': 0, 'created': '2018-11-14T11:02:12.595545Z', 'completed': None, 'acceptability_threshold': 100.0}], 'submitter': 'Ampel', 'group_id': 'ampelLCO', 'observation_type': 'NORMAL', 'operator': 'SINGLE', 'ipp_value': 1.0, 'created': '2018-11-14T11:02:12.593615Z', 'state': 'PENDING', 'modified': '2018-11-14T11:02:12.593641Z', 'proposal': 'CON2018B-005'}\n",
      "{'id': 719973, 'requests': [{'id': 1670930, 'location': {'telescope_class': '2m0'}, 'constraints': {'max_airmass': 1.6, 'min_lunar_distance': 30.0, 'max_lunar_phase': None, 'max_seeing': None, 'min_transparency': None}, 'target': {'type': 'SIDEREAL', 'name': 'ZTF18acchhpe', 'ra': 357.8799215, 'dec': 28.6003451, 'proper_motion_ra': 0.0, 'proper_motion_dec': 0.0, 'parallax': 0.0, 'radvel': 0.0, 'coordinate_system': 'ICRS', 'equinox': 'J2000', 'epoch': 2000.0, 'acquire_mode': None, 'rot_mode': 'VFLOAT', 'rot_angle': 0.0, 'vmag': None}, 'molecules': [{'type': 'LAMP_FLAT', 'args': '', 'priority': 1, 'ag_name': '', 'ag_mode': 'OPTIONAL', 'ag_filter': '', 'ag_exp_time': 10.0, 'ag_strategy': '', 'instrument_name': '2M0-FLOYDS-SCICAM', 'filter': '', 'readout_mode': '', 'spectra_lamp': '', 'spectra_slit': 'slit_1.6as', 'acquire_mode': 'WCS', 'acquire_radius_arcsec': 0.0, 'acquire_strategy': '', 'expmeter_mode': 'OFF', 'expmeter_snr': None, 'exposure_time': 60.0, 'exposure_count': 2, 'bin_x': 1, 'bin_y': 1, 'defocus': 0.0}, {'type': 'ARC', 'args': '', 'priority': 2, 'ag_name': '', 'ag_mode': 'OPTIONAL', 'ag_filter': '', 'ag_exp_time': 10.0, 'ag_strategy': '', 'instrument_name': '2M0-FLOYDS-SCICAM', 'filter': '', 'readout_mode': '', 'spectra_lamp': '', 'spectra_slit': 'slit_1.6as', 'acquire_mode': 'WCS', 'acquire_radius_arcsec': 0.0, 'acquire_strategy': '', 'expmeter_mode': 'OFF', 'expmeter_snr': None, 'exposure_time': 60.0, 'exposure_count': 2, 'bin_x': 1, 'bin_y': 1, 'defocus': 0.0}, {'type': 'SPECTRUM', 'args': '', 'priority': 3, 'ag_name': '', 'ag_mode': 'ON', 'ag_filter': '', 'ag_exp_time': 10.0, 'ag_strategy': '', 'instrument_name': '2M0-FLOYDS-SCICAM', 'filter': '', 'readout_mode': '', 'spectra_lamp': '', 'spectra_slit': 'slit_1.6as', 'acquire_mode': 'WCS', 'acquire_radius_arcsec': 0.0, 'acquire_strategy': '', 'expmeter_mode': 'OFF', 'expmeter_snr': None, 'exposure_time': 900.0, 'exposure_count': 2, 'bin_x': 1, 'bin_y': 1, 'defocus': 0.0}, {'type': 'ARC', 'args': '', 'priority': 4, 'ag_name': '', 'ag_mode': 'OPTIONAL', 'ag_filter': '', 'ag_exp_time': 10.0, 'ag_strategy': '', 'instrument_name': '2M0-FLOYDS-SCICAM', 'filter': '', 'readout_mode': '', 'spectra_lamp': '', 'spectra_slit': 'slit_1.6as', 'acquire_mode': 'WCS', 'acquire_radius_arcsec': 0.0, 'acquire_strategy': '', 'expmeter_mode': 'OFF', 'expmeter_snr': None, 'exposure_time': 60.0, 'exposure_count': 2, 'bin_x': 1, 'bin_y': 1, 'defocus': 0.0}, {'type': 'LAMP_FLAT', 'args': '', 'priority': 5, 'ag_name': '', 'ag_mode': 'OPTIONAL', 'ag_filter': '', 'ag_exp_time': 10.0, 'ag_strategy': '', 'instrument_name': '2M0-FLOYDS-SCICAM', 'filter': '', 'readout_mode': '', 'spectra_lamp': '', 'spectra_slit': 'slit_1.6as', 'acquire_mode': 'WCS', 'acquire_radius_arcsec': 0.0, 'acquire_strategy': '', 'expmeter_mode': 'OFF', 'expmeter_snr': None, 'exposure_time': 60.0, 'exposure_count': 2, 'bin_x': 1, 'bin_y': 1, 'defocus': 0.0}], 'windows': [{'start': '2018-11-14T09:52:13Z', 'end': '2018-11-20T09:52:13Z'}], 'duration': 3125, 'observation_note': '', 'state': 'PENDING', 'modified': '2018-11-14T11:02:13.605708Z', 'fail_count': 0, 'scheduled_count': 0, 'created': '2018-11-14T11:02:13.605732Z', 'completed': None, 'acceptability_threshold': 100.0}], 'submitter': 'Ampel', 'group_id': 'ampelLCO', 'observation_type': 'NORMAL', 'operator': 'SINGLE', 'ipp_value': 1.0, 'created': '2018-11-14T11:02:13.600156Z', 'state': 'PENDING', 'modified': '2018-11-14T11:02:13.600181Z', 'proposal': 'CON2018B-005'}\n"
     ]
    },
    {
     "name": "stdout",
     "output_type": "stream",
     "text": [
      "{'id': 719974, 'requests': [{'id': 1670931, 'location': {'telescope_class': '2m0'}, 'constraints': {'max_airmass': 1.6, 'min_lunar_distance': 30.0, 'max_lunar_phase': None, 'max_seeing': None, 'min_transparency': None}, 'target': {'type': 'SIDEREAL', 'name': 'ZTF18acbvkwl', 'ra': 70.8154927, 'dec': -8.6050531, 'proper_motion_ra': 0.0, 'proper_motion_dec': 0.0, 'parallax': 0.0, 'radvel': 0.0, 'coordinate_system': 'ICRS', 'equinox': 'J2000', 'epoch': 2000.0, 'acquire_mode': None, 'rot_mode': 'VFLOAT', 'rot_angle': 0.0, 'vmag': None}, 'molecules': [{'type': 'LAMP_FLAT', 'args': '', 'priority': 1, 'ag_name': '', 'ag_mode': 'OPTIONAL', 'ag_filter': '', 'ag_exp_time': 10.0, 'ag_strategy': '', 'instrument_name': '2M0-FLOYDS-SCICAM', 'filter': '', 'readout_mode': '', 'spectra_lamp': '', 'spectra_slit': 'slit_1.6as', 'acquire_mode': 'WCS', 'acquire_radius_arcsec': 0.0, 'acquire_strategy': '', 'expmeter_mode': 'OFF', 'expmeter_snr': None, 'exposure_time': 60.0, 'exposure_count': 2, 'bin_x': 1, 'bin_y': 1, 'defocus': 0.0}, {'type': 'ARC', 'args': '', 'priority': 2, 'ag_name': '', 'ag_mode': 'OPTIONAL', 'ag_filter': '', 'ag_exp_time': 10.0, 'ag_strategy': '', 'instrument_name': '2M0-FLOYDS-SCICAM', 'filter': '', 'readout_mode': '', 'spectra_lamp': '', 'spectra_slit': 'slit_1.6as', 'acquire_mode': 'WCS', 'acquire_radius_arcsec': 0.0, 'acquire_strategy': '', 'expmeter_mode': 'OFF', 'expmeter_snr': None, 'exposure_time': 60.0, 'exposure_count': 2, 'bin_x': 1, 'bin_y': 1, 'defocus': 0.0}, {'type': 'SPECTRUM', 'args': '', 'priority': 3, 'ag_name': '', 'ag_mode': 'ON', 'ag_filter': '', 'ag_exp_time': 10.0, 'ag_strategy': '', 'instrument_name': '2M0-FLOYDS-SCICAM', 'filter': '', 'readout_mode': '', 'spectra_lamp': '', 'spectra_slit': 'slit_1.6as', 'acquire_mode': 'WCS', 'acquire_radius_arcsec': 0.0, 'acquire_strategy': '', 'expmeter_mode': 'OFF', 'expmeter_snr': None, 'exposure_time': 900.0, 'exposure_count': 2, 'bin_x': 1, 'bin_y': 1, 'defocus': 0.0}, {'type': 'ARC', 'args': '', 'priority': 4, 'ag_name': '', 'ag_mode': 'OPTIONAL', 'ag_filter': '', 'ag_exp_time': 10.0, 'ag_strategy': '', 'instrument_name': '2M0-FLOYDS-SCICAM', 'filter': '', 'readout_mode': '', 'spectra_lamp': '', 'spectra_slit': 'slit_1.6as', 'acquire_mode': 'WCS', 'acquire_radius_arcsec': 0.0, 'acquire_strategy': '', 'expmeter_mode': 'OFF', 'expmeter_snr': None, 'exposure_time': 60.0, 'exposure_count': 2, 'bin_x': 1, 'bin_y': 1, 'defocus': 0.0}, {'type': 'LAMP_FLAT', 'args': '', 'priority': 5, 'ag_name': '', 'ag_mode': 'OPTIONAL', 'ag_filter': '', 'ag_exp_time': 10.0, 'ag_strategy': '', 'instrument_name': '2M0-FLOYDS-SCICAM', 'filter': '', 'readout_mode': '', 'spectra_lamp': '', 'spectra_slit': 'slit_1.6as', 'acquire_mode': 'WCS', 'acquire_radius_arcsec': 0.0, 'acquire_strategy': '', 'expmeter_mode': 'OFF', 'expmeter_snr': None, 'exposure_time': 60.0, 'exposure_count': 2, 'bin_x': 1, 'bin_y': 1, 'defocus': 0.0}], 'windows': [{'start': '2018-11-14T09:52:13Z', 'end': '2018-11-20T09:52:13Z'}], 'duration': 3125, 'observation_note': '', 'state': 'PENDING', 'modified': '2018-11-14T11:02:14.669211Z', 'fail_count': 0, 'scheduled_count': 0, 'created': '2018-11-14T11:02:14.669233Z', 'completed': None, 'acceptability_threshold': 100.0}], 'submitter': 'Ampel', 'group_id': 'ampelLCO', 'observation_type': 'NORMAL', 'operator': 'SINGLE', 'ipp_value': 1.0, 'created': '2018-11-14T11:02:14.667700Z', 'state': 'PENDING', 'modified': '2018-11-14T11:02:14.667724Z', 'proposal': 'CON2018B-005'}\n"
     ]
    }
   ],
   "source": [
    "lcoout = {}\n",
    "count = 0\n",
    "for snname, vis in aentries.items():\n",
    "    if vis < 5:\n",
    "        print('%s not visible, skip'%(snname))\n",
    "        continue\n",
    "    \n",
    "    # No need to resubmit\n",
    "    count +=1\n",
    "    if count <= 3:\n",
    "        continue\n",
    "    \n",
    "    \n",
    "    snapi = copy.deepcopy(api)\n",
    "\n",
    "    \n",
    "    # target\n",
    "    snapi['requests'][0]['target']['name'] = snname\n",
    "    snapi['requests'][0]['target']['ra'] = apl.sources[snname]['ra']\n",
    "    snapi['requests'][0]['target']['dec'] = apl.sources[snname]['dec']\n",
    "    \n",
    "    # windows we leave as default (could change default window)\n",
    "    # location is also default (2m telescope)\n",
    "    snapi['requests'][0]['constraints']['max_airmass'] = 1.6\n",
    "    \n",
    "    # We could leave the moleculres (obs) as default, or change slidwith\n",
    "    for mol in snapi['requests'][0]['molecules']:\n",
    "        mol['spectra_slit'] = 'slit_1.6as'\n",
    "    \n",
    "#    print(snapi)\n",
    "    \n",
    "    apiresponse = requests.post(\n",
    "#        'https://observe.lco.global/api/userrequests/validate/',\n",
    "        'https://observe.lco.global/api/userrequests/',\n",
    "        headers={'Authorization':'Token {}'.format(apitoken['token'])},\n",
    "        json=snapi    )\n",
    "    \n",
    "    \n",
    "    # Make sure this api call was successful\n",
    "    try:\n",
    "        apiresponse.raise_for_status()\n",
    "    except requests.exceptions.HTTPError as exc:\n",
    "        print('Request failed: {}'.format(apiresponse.content))\n",
    "        raise exc\n",
    "    \n",
    "    \n",
    "    print(apiresponse.json())\n",
    "    lcoout[snname] = apiresponse.json()\n",
    "    \n",
    "#    with open('lco_%s.json'%(snname),'w') as fh:\n",
    "#        json.dump(snapi,fh)\n",
    "        \n",
    "        "
   ]
  },
  {
   "cell_type": "code",
   "execution_count": 95,
   "metadata": {},
   "outputs": [],
   "source": [
    "# Now look at cpl SNIa for redshift\n",
    "obs = 'uh88'\n",
    "date = '2018-11-14'\n",
    "tshift = {'ntt': -0.25, 'uh88': 0}  # In units of days\n",
    "trange = [Time(Time(date).jd+tshift[obs],format='jd'), Time(Time(date).jd+14.+tshift[obs],format='jd')]"
   ]
  },
  {
   "cell_type": "code",
   "execution_count": 100,
   "metadata": {},
   "outputs": [
    {
     "name": "stderr",
     "output_type": "stream",
     "text": [
      "INFO:root:computing visibility of source at (ra: 164.223300, dec: 79.278500) from observatory uh88\n",
      "INFO:root:using visibility constraints:\n",
      "\t\t\t\t\t-Time resolution: 30.00 min\n",
      "\t\t\t\t\t-Airmass limit: 2.00\n",
      "\t\t\t\t\t-Sun altitude: -17.00 deg\n",
      "\t\t\t\t\t-Moon distance: 30.00 deg\n"
     ]
    },
    {
     "name": "stdout",
     "output_type": "stream",
     "text": [
      "Calculating visibility of source ZTF18aaaoktp (ra: 164.223300, dec: 79.278500) with uh88.\n"
     ]
    },
    {
     "name": "stderr",
     "output_type": "stream",
     "text": [
      "INFO:root:computed dark times (sun_alt: -17.00) between 2018-11-14 00:00:00.000 and 2018-11-27 23:30:00.000. Total of 147.00 hours of dark\n",
      "INFO:root:source is visible for a total of 9.000 hours. Took 1.40e+00 sec\n",
      "INFO:root:computing visibility of source at (ra: 166.486468, dec: 37.625131) from observatory uh88\n",
      "INFO:root:using visibility constraints:\n",
      "\t\t\t\t\t-Time resolution: 30.00 min\n",
      "\t\t\t\t\t-Airmass limit: 2.00\n",
      "\t\t\t\t\t-Sun altitude: -17.00 deg\n",
      "\t\t\t\t\t-Moon distance: 30.00 deg\n"
     ]
    },
    {
     "name": "stdout",
     "output_type": "stream",
     "text": [
      "Empty DataFrame\n",
      "Columns: [obj_id, objID, ra, dec, psfMag_u, psfMagerr_u, psfMag_g, psfMagerr_g, psfMag_r, psfMagerr_r, psfMag_i, psfMagerr_i, psfMag_z, psfMagerr_z, obj_id1, type]\n",
      "Index: []\n",
      "Calculating visibility of source ZTF18aabasml (ra: 166.486468, dec: 37.625131) with uh88.\n"
     ]
    },
    {
     "name": "stderr",
     "output_type": "stream",
     "text": [
      "INFO:root:computed dark times (sun_alt: -17.00) between 2018-11-14 00:00:00.000 and 2018-11-27 23:30:00.000. Total of 147.00 hours of dark\n",
      "INFO:root:source is visible for a total of 33.500 hours. Took 1.53e+00 sec\n",
      "INFO:root:computing visibility of source at (ra: 142.229656, dec: 49.238126) from observatory uh88\n",
      "INFO:root:using visibility constraints:\n",
      "\t\t\t\t\t-Time resolution: 30.00 min\n",
      "\t\t\t\t\t-Airmass limit: 2.00\n",
      "\t\t\t\t\t-Sun altitude: -17.00 deg\n",
      "\t\t\t\t\t-Moon distance: 30.00 deg\n"
     ]
    },
    {
     "name": "stdout",
     "output_type": "stream",
     "text": [
      "  obj_id                objID          ra        dec  psfMag_u  psfMagerr_u  \\\n",
      "0  obj_0  1237664667365474435  166.486444  37.625373    20.171     0.059048   \n",
      "\n",
      "   psfMag_g  psfMagerr_g  psfMag_r  psfMagerr_r  psfMag_i  psfMagerr_i  \\\n",
      "0  19.26391      0.02664  18.64412     0.017789  18.49139     0.019277   \n",
      "\n",
      "   psfMag_z  psfMagerr_z              obj_id1    type  \n",
      "0  18.34634     0.029218  1237664667365474435  GALAXY  \n",
      "Calculating visibility of source ZTF18aaasvcd (ra: 142.229656, dec: 49.238126) with uh88.\n"
     ]
    },
    {
     "name": "stderr",
     "output_type": "stream",
     "text": [
      "INFO:root:computed dark times (sun_alt: -17.00) between 2018-11-14 00:00:00.000 and 2018-11-27 23:30:00.000. Total of 147.00 hours of dark\n",
      "INFO:root:source is visible for a total of 56.500 hours. Took 1.36e+00 sec\n",
      "INFO:root:computing visibility of source at (ra: 162.818518, dec: 22.477620) from observatory uh88\n",
      "INFO:root:using visibility constraints:\n",
      "\t\t\t\t\t-Time resolution: 30.00 min\n",
      "\t\t\t\t\t-Airmass limit: 2.00\n",
      "\t\t\t\t\t-Sun altitude: -17.00 deg\n",
      "\t\t\t\t\t-Moon distance: 30.00 deg\n"
     ]
    },
    {
     "name": "stdout",
     "output_type": "stream",
     "text": [
      "  obj_id                objID          ra        dec  psfMag_u  psfMagerr_u  \\\n",
      "0  obj_0  1237657633799012471  142.230818  49.238476  20.98211     0.070985   \n",
      "\n",
      "   psfMag_g  psfMagerr_g  psfMag_r  psfMagerr_r  psfMag_i  psfMagerr_i  \\\n",
      "0  19.45826     0.021349  18.76872     0.019443  18.38582     0.023831   \n",
      "\n",
      "   psfMag_z  psfMagerr_z              obj_id1    type  \n",
      "0   17.7429     0.023164  1237657633799012471  GALAXY  \n",
      "Calculating visibility of source ZTF18aabsyqp (ra: 162.818518, dec: 22.477620) with uh88.\n"
     ]
    },
    {
     "name": "stderr",
     "output_type": "stream",
     "text": [
      "INFO:root:computed dark times (sun_alt: -17.00) between 2018-11-14 00:00:00.000 and 2018-11-27 23:30:00.000. Total of 147.00 hours of dark\n",
      "INFO:root:source is visible for a total of 35.000 hours. Took 1.33e+00 sec\n",
      "INFO:root:computing visibility of source at (ra: 155.540800, dec: 10.440000) from observatory uh88\n",
      "INFO:root:using visibility constraints:\n",
      "\t\t\t\t\t-Time resolution: 30.00 min\n",
      "\t\t\t\t\t-Airmass limit: 2.00\n",
      "\t\t\t\t\t-Sun altitude: -17.00 deg\n",
      "\t\t\t\t\t-Moon distance: 30.00 deg\n"
     ]
    },
    {
     "name": "stdout",
     "output_type": "stream",
     "text": [
      "  obj_id                objID          ra        dec  psfMag_u  psfMagerr_u  \\\n",
      "0  obj_0  1237667549270507623  162.819377  22.476898  20.26819     0.041999   \n",
      "\n",
      "   psfMag_g  psfMagerr_g  psfMag_r  psfMagerr_r  psfMag_i  psfMagerr_i  \\\n",
      "0  19.47486     0.025212  19.16901     0.016853  18.82948     0.022929   \n",
      "\n",
      "   psfMag_z  psfMagerr_z              obj_id1    type  \n",
      "0  18.51734     0.028754  1237667549270507623  GALAXY  \n",
      "Calculating visibility of source ZTF18aaaoaeq (ra: 155.540800, dec: 10.440000) with uh88.\n"
     ]
    },
    {
     "name": "stderr",
     "output_type": "stream",
     "text": [
      "INFO:root:computed dark times (sun_alt: -17.00) between 2018-11-14 00:00:00.000 and 2018-11-27 23:30:00.000. Total of 147.00 hours of dark\n",
      "INFO:root:source is visible for a total of 38.500 hours. Took 1.42e+00 sec\n",
      "INFO:root:computing visibility of source at (ra: 157.743500, dec: 23.788400) from observatory uh88\n",
      "INFO:root:using visibility constraints:\n",
      "\t\t\t\t\t-Time resolution: 30.00 min\n",
      "\t\t\t\t\t-Airmass limit: 2.00\n",
      "\t\t\t\t\t-Sun altitude: -17.00 deg\n",
      "\t\t\t\t\t-Moon distance: 30.00 deg\n"
     ]
    },
    {
     "name": "stdout",
     "output_type": "stream",
     "text": [
      "  obj_id                objID          ra        dec  psfMag_u  psfMagerr_u  \\\n",
      "0  obj_0  1237661064418820260  155.541085  10.440607  20.22861     0.052647   \n",
      "\n",
      "   psfMag_g  psfMagerr_g  psfMag_r  psfMagerr_r  psfMag_i  psfMagerr_i  \\\n",
      "0  19.59597     0.017096  18.93388     0.014163  18.35892     0.019376   \n",
      "\n",
      "   psfMag_z  psfMagerr_z              obj_id1    type  \n",
      "0  18.66984      0.03713  1237661064418820260  GALAXY  \n",
      "Calculating visibility of source ZTF18aaanzph (ra: 157.743500, dec: 23.788400) with uh88.\n"
     ]
    },
    {
     "name": "stderr",
     "output_type": "stream",
     "text": [
      "INFO:root:computed dark times (sun_alt: -17.00) between 2018-11-14 00:00:00.000 and 2018-11-27 23:30:00.000. Total of 147.00 hours of dark\n",
      "INFO:root:Too close the the moon.\n",
      "INFO:root:source is visible for a total of 38.500 hours. Took 1.51e+00 sec\n",
      "INFO:root:computing visibility of source at (ra: 205.999400, dec: 30.933600) from observatory uh88\n",
      "INFO:root:using visibility constraints:\n",
      "\t\t\t\t\t-Time resolution: 30.00 min\n",
      "\t\t\t\t\t-Airmass limit: 2.00\n",
      "\t\t\t\t\t-Sun altitude: -17.00 deg\n",
      "\t\t\t\t\t-Moon distance: 30.00 deg\n"
     ]
    },
    {
     "name": "stdout",
     "output_type": "stream",
     "text": [
      "Empty DataFrame\n",
      "Columns: [obj_id, objID, ra, dec, psfMag_u, psfMagerr_u, psfMag_g, psfMagerr_g, psfMag_r, psfMagerr_r, psfMag_i, psfMagerr_i, psfMag_z, psfMagerr_z, obj_id1, type]\n",
      "Index: []\n",
      "Calculating visibility of source ZTF18aaajrso (ra: 205.999400, dec: 30.933600) with uh88.\n"
     ]
    },
    {
     "name": "stderr",
     "output_type": "stream",
     "text": [
      "INFO:root:computed dark times (sun_alt: -17.00) between 2018-11-14 00:00:00.000 and 2018-11-27 23:30:00.000. Total of 147.00 hours of dark\n",
      "INFO:root:source is visible for a total of 0.000 hours. Took 1.83e+00 sec\n"
     ]
    },
    {
     "name": "stdout",
     "output_type": "stream",
     "text": [
      "Not enough visibility\n"
     ]
    },
    {
     "name": "stderr",
     "output_type": "stream",
     "text": [
      "INFO:root:computing visibility of source at (ra: 26.798700, dec: 18.798600) from observatory uh88\n",
      "INFO:root:using visibility constraints:\n",
      "\t\t\t\t\t-Time resolution: 30.00 min\n",
      "\t\t\t\t\t-Airmass limit: 2.00\n",
      "\t\t\t\t\t-Sun altitude: -17.00 deg\n",
      "\t\t\t\t\t-Moon distance: 30.00 deg\n"
     ]
    },
    {
     "name": "stdout",
     "output_type": "stream",
     "text": [
      "Empty DataFrame\n",
      "Columns: [obj_id, objID, ra, dec, psfMag_u, psfMagerr_u, psfMag_g, psfMagerr_g, psfMag_r, psfMagerr_r, psfMag_i, psfMagerr_i, psfMag_z, psfMagerr_z, obj_id1, type]\n",
      "Index: []\n",
      "Calculating visibility of source ZTF18aaadqua (ra: 26.798700, dec: 18.798600) with uh88.\n"
     ]
    },
    {
     "name": "stderr",
     "output_type": "stream",
     "text": [
      "INFO:root:computed dark times (sun_alt: -17.00) between 2018-11-14 00:00:00.000 and 2018-11-27 23:30:00.000. Total of 147.00 hours of dark\n",
      "INFO:root:Too close the the moon.\n",
      "INFO:root:source is visible for a total of 78.000 hours. Took 1.52e+00 sec\n",
      "INFO:root:computing visibility of source at (ra: 172.095205, dec: 44.748983) from observatory uh88\n",
      "INFO:root:using visibility constraints:\n",
      "\t\t\t\t\t-Time resolution: 30.00 min\n",
      "\t\t\t\t\t-Airmass limit: 2.00\n",
      "\t\t\t\t\t-Sun altitude: -17.00 deg\n",
      "\t\t\t\t\t-Moon distance: 30.00 deg\n"
     ]
    },
    {
     "name": "stdout",
     "output_type": "stream",
     "text": [
      "Empty DataFrame\n",
      "Columns: [obj_id, objID, ra, dec, psfMag_u, psfMagerr_u, psfMag_g, psfMagerr_g, psfMag_r, psfMagerr_r, psfMag_i, psfMagerr_i, psfMag_z, psfMagerr_z, obj_id1, type]\n",
      "Index: []\n",
      "Calculating visibility of source ZTF18aabtaor (ra: 172.095205, dec: 44.748983) with uh88.\n"
     ]
    },
    {
     "name": "stderr",
     "output_type": "stream",
     "text": [
      "INFO:root:computed dark times (sun_alt: -17.00) between 2018-11-14 00:00:00.000 and 2018-11-27 23:30:00.000. Total of 147.00 hours of dark\n",
      "INFO:root:source is visible for a total of 29.000 hours. Took 1.57e+00 sec\n",
      "INFO:root:computing visibility of source at (ra: 122.149952, dec: 20.063089) from observatory uh88\n",
      "INFO:root:using visibility constraints:\n",
      "\t\t\t\t\t-Time resolution: 30.00 min\n",
      "\t\t\t\t\t-Airmass limit: 2.00\n",
      "\t\t\t\t\t-Sun altitude: -17.00 deg\n",
      "\t\t\t\t\t-Moon distance: 30.00 deg\n"
     ]
    },
    {
     "name": "stdout",
     "output_type": "stream",
     "text": [
      "  obj_id                objID          ra        dec  psfMag_u  psfMagerr_u  \\\n",
      "0  obj_0  1237661873473323176  172.096014  44.750112  24.79434     0.873221   \n",
      "\n",
      "   psfMag_g  psfMagerr_g  psfMag_r  psfMagerr_r  psfMag_i  psfMagerr_i  \\\n",
      "0  25.02841     0.525499  23.04284     0.283704  21.84243     0.136227   \n",
      "\n",
      "   psfMag_z  psfMagerr_z              obj_id1  type  \n",
      "0  21.14004     0.202966  1237661873473323176  STAR  \n",
      "Calculating visibility of source ZTF18aabvpeg (ra: 122.149952, dec: 20.063089) with uh88.\n"
     ]
    },
    {
     "name": "stderr",
     "output_type": "stream",
     "text": [
      "INFO:root:computed dark times (sun_alt: -17.00) between 2018-11-14 00:00:00.000 and 2018-11-27 23:30:00.000. Total of 147.00 hours of dark\n",
      "INFO:root:Too close the the moon.\n",
      "INFO:root:source is visible for a total of 56.000 hours. Took 1.39e+00 sec\n",
      "INFO:root:computing visibility of source at (ra: 155.711526, dec: 14.054786) from observatory uh88\n",
      "INFO:root:using visibility constraints:\n",
      "\t\t\t\t\t-Time resolution: 30.00 min\n",
      "\t\t\t\t\t-Airmass limit: 2.00\n",
      "\t\t\t\t\t-Sun altitude: -17.00 deg\n",
      "\t\t\t\t\t-Moon distance: 30.00 deg\n"
     ]
    },
    {
     "name": "stdout",
     "output_type": "stream",
     "text": [
      "  obj_id                objID          ra       dec  psfMag_u  psfMagerr_u  \\\n",
      "0  obj_0  1237673809192354233  122.149909  20.06305  20.65698     0.063139   \n",
      "\n",
      "   psfMag_g  psfMagerr_g  psfMag_r  psfMagerr_r  psfMag_i  psfMagerr_i  \\\n",
      "0  19.52127     0.021386  19.03939     0.015599  18.79345     0.019033   \n",
      "\n",
      "   psfMag_z  psfMagerr_z              obj_id1    type  \n",
      "0   18.4018      0.02923  1237673809192354233  GALAXY  \n",
      "Calculating visibility of source ZTF18aabssme (ra: 155.711526, dec: 14.054786) with uh88.\n"
     ]
    },
    {
     "name": "stderr",
     "output_type": "stream",
     "text": [
      "INFO:root:computed dark times (sun_alt: -17.00) between 2018-11-14 00:00:00.000 and 2018-11-27 23:30:00.000. Total of 147.00 hours of dark\n",
      "INFO:root:Too close the the moon.\n",
      "INFO:root:source is visible for a total of 36.500 hours. Took 1.41e+00 sec\n",
      "INFO:root:computing visibility of source at (ra: 112.585914, dec: 18.190707) from observatory uh88\n",
      "INFO:root:using visibility constraints:\n",
      "\t\t\t\t\t-Time resolution: 30.00 min\n",
      "\t\t\t\t\t-Airmass limit: 2.00\n",
      "\t\t\t\t\t-Sun altitude: -17.00 deg\n",
      "\t\t\t\t\t-Moon distance: 30.00 deg\n"
     ]
    },
    {
     "name": "stdout",
     "output_type": "stream",
     "text": [
      "  obj_id                objID          ra        dec  psfMag_u  psfMagerr_u  \\\n",
      "0  obj_0  1237661070861402277  155.712038  14.054597  20.31717     0.048796   \n",
      "\n",
      "   psfMag_g  psfMagerr_g  psfMag_r  psfMagerr_r  psfMag_i  psfMagerr_i  \\\n",
      "0  19.42997     0.023872  19.18407     0.026927  19.04905     0.026021   \n",
      "\n",
      "   psfMag_z  psfMagerr_z              obj_id1    type  \n",
      "0  18.98486     0.049088  1237661070861402277  GALAXY  \n",
      "Calculating visibility of source ZTF18aabtwqb (ra: 112.585914, dec: 18.190707) with uh88.\n"
     ]
    },
    {
     "name": "stderr",
     "output_type": "stream",
     "text": [
      "INFO:root:computed dark times (sun_alt: -17.00) between 2018-11-14 00:00:00.000 and 2018-11-27 23:30:00.000. Total of 147.00 hours of dark\n",
      "INFO:root:Too close the the moon.\n",
      "INFO:root:source is visible for a total of 62.500 hours. Took 1.57e+00 sec\n",
      "INFO:root:computing visibility of source at (ra: 226.845150, dec: 38.416559) from observatory uh88\n",
      "INFO:root:using visibility constraints:\n",
      "\t\t\t\t\t-Time resolution: 30.00 min\n",
      "\t\t\t\t\t-Airmass limit: 2.00\n",
      "\t\t\t\t\t-Sun altitude: -17.00 deg\n",
      "\t\t\t\t\t-Moon distance: 30.00 deg\n"
     ]
    },
    {
     "name": "stdout",
     "output_type": "stream",
     "text": [
      "  obj_id                objID          ra        dec  psfMag_u  psfMagerr_u  \\\n",
      "0  obj_0  1237660765902865483  112.586723  18.190552  21.59531     0.108355   \n",
      "\n",
      "   psfMag_g  psfMagerr_g  psfMag_r  psfMagerr_r  psfMag_i  psfMagerr_i  \\\n",
      "0   20.5536     0.023356  19.92868      0.02046  19.59138     0.023331   \n",
      "\n",
      "   psfMag_z  psfMagerr_z              obj_id1    type  \n",
      "0    19.403     0.060501  1237660765902865483  GALAXY  \n",
      "Calculating visibility of source ZTF18aabyhlc (ra: 226.845150, dec: 38.416559) with uh88.\n"
     ]
    },
    {
     "name": "stderr",
     "output_type": "stream",
     "text": [
      "INFO:root:computed dark times (sun_alt: -17.00) between 2018-11-14 00:00:00.000 and 2018-11-27 23:30:00.000. Total of 147.00 hours of dark\n",
      "INFO:root:source is visible for a total of 0.000 hours. Took 1.61e+00 sec\n"
     ]
    },
    {
     "name": "stdout",
     "output_type": "stream",
     "text": [
      "Not enough visibility\n"
     ]
    },
    {
     "name": "stderr",
     "output_type": "stream",
     "text": [
      "INFO:root:computing visibility of source at (ra: 153.451142, dec: 38.763093) from observatory uh88\n",
      "INFO:root:using visibility constraints:\n",
      "\t\t\t\t\t-Time resolution: 30.00 min\n",
      "\t\t\t\t\t-Airmass limit: 2.00\n",
      "\t\t\t\t\t-Sun altitude: -17.00 deg\n",
      "\t\t\t\t\t-Moon distance: 30.00 deg\n"
     ]
    },
    {
     "name": "stdout",
     "output_type": "stream",
     "text": [
      "  obj_id                objID          ra        dec  psfMag_u  psfMagerr_u  \\\n",
      "0  obj_0  1237661433785286698  226.846446  38.417112  23.45411     0.844539   \n",
      "\n",
      "   psfMag_g  psfMagerr_g  psfMag_r  psfMagerr_r  psfMag_i  psfMagerr_i  \\\n",
      "0  23.24742     0.226043  22.62181     0.191254  23.06178     0.391157   \n",
      "\n",
      "   psfMag_z  psfMagerr_z              obj_id1  type  \n",
      "0  22.62136     0.626974  1237661433785286698  STAR  \n",
      "Calculating visibility of source ZTF18aabstmw (ra: 153.451142, dec: 38.763093) with uh88.\n"
     ]
    },
    {
     "name": "stderr",
     "output_type": "stream",
     "text": [
      "INFO:root:computed dark times (sun_alt: -17.00) between 2018-11-14 00:00:00.000 and 2018-11-27 23:30:00.000. Total of 147.00 hours of dark\n",
      "INFO:root:source is visible for a total of 45.500 hours. Took 1.45e+00 sec\n",
      "INFO:root:computing visibility of source at (ra: 215.692186, dec: 49.312286) from observatory uh88\n",
      "INFO:root:using visibility constraints:\n",
      "\t\t\t\t\t-Time resolution: 30.00 min\n",
      "\t\t\t\t\t-Airmass limit: 2.00\n",
      "\t\t\t\t\t-Sun altitude: -17.00 deg\n",
      "\t\t\t\t\t-Moon distance: 30.00 deg\n"
     ]
    },
    {
     "name": "stdout",
     "output_type": "stream",
     "text": [
      "Empty DataFrame\n",
      "Columns: [obj_id, objID, ra, dec, psfMag_u, psfMagerr_u, psfMag_g, psfMagerr_g, psfMag_r, psfMagerr_r, psfMag_i, psfMagerr_i, psfMag_z, psfMagerr_z, obj_id1, type]\n",
      "Index: []\n",
      "Calculating visibility of source ZTF18aagrcir (ra: 215.692186, dec: 49.312286) with uh88.\n"
     ]
    },
    {
     "name": "stderr",
     "output_type": "stream",
     "text": [
      "INFO:root:computed dark times (sun_alt: -17.00) between 2018-11-14 00:00:00.000 and 2018-11-27 23:30:00.000. Total of 147.00 hours of dark\n",
      "INFO:root:source is visible for a total of 0.000 hours. Took 1.46e+00 sec\n"
     ]
    },
    {
     "name": "stdout",
     "output_type": "stream",
     "text": [
      "Not enough visibility\n"
     ]
    },
    {
     "name": "stderr",
     "output_type": "stream",
     "text": [
      "INFO:root:computing visibility of source at (ra: 219.454198, dec: 45.549276) from observatory uh88\n",
      "INFO:root:using visibility constraints:\n",
      "\t\t\t\t\t-Time resolution: 30.00 min\n",
      "\t\t\t\t\t-Airmass limit: 2.00\n",
      "\t\t\t\t\t-Sun altitude: -17.00 deg\n",
      "\t\t\t\t\t-Moon distance: 30.00 deg\n"
     ]
    },
    {
     "name": "stdout",
     "output_type": "stream",
     "text": [
      "  obj_id                objID          ra        dec  psfMag_u  psfMagerr_u  \\\n",
      "0  obj_0  1237661959909278554  215.691941  49.311199  22.88848     0.343897   \n",
      "\n",
      "   psfMag_g  psfMagerr_g  psfMag_r  psfMagerr_r  psfMag_i  psfMagerr_i  \\\n",
      "0  21.77983     0.052044  21.42093     0.053072  21.07395     0.061296   \n",
      "\n",
      "   psfMag_z  psfMagerr_z              obj_id1    type  \n",
      "0   20.9388     0.166282  1237661959909278554  GALAXY  \n",
      "Calculating visibility of source ZTF18aaguhgb (ra: 219.454198, dec: 45.549276) with uh88.\n"
     ]
    },
    {
     "name": "stderr",
     "output_type": "stream",
     "text": [
      "INFO:root:computed dark times (sun_alt: -17.00) between 2018-11-14 00:00:00.000 and 2018-11-27 23:30:00.000. Total of 147.00 hours of dark\n",
      "INFO:root:source is visible for a total of 0.000 hours. Took 1.50e+00 sec\n"
     ]
    },
    {
     "name": "stdout",
     "output_type": "stream",
     "text": [
      "Not enough visibility\n"
     ]
    },
    {
     "name": "stderr",
     "output_type": "stream",
     "text": [
      "INFO:root:computing visibility of source at (ra: 251.856366, dec: 25.685070) from observatory uh88\n",
      "INFO:root:using visibility constraints:\n",
      "\t\t\t\t\t-Time resolution: 30.00 min\n",
      "\t\t\t\t\t-Airmass limit: 2.00\n",
      "\t\t\t\t\t-Sun altitude: -17.00 deg\n",
      "\t\t\t\t\t-Moon distance: 30.00 deg\n"
     ]
    },
    {
     "name": "stdout",
     "output_type": "stream",
     "text": [
      "  obj_id                objID          ra        dec  psfMag_u  psfMagerr_u  \\\n",
      "0  obj_0  1237661212582084760  219.454241  45.548407  20.06279      0.03879   \n",
      "\n",
      "   psfMag_g  psfMagerr_g  psfMag_r  psfMagerr_r  psfMag_i  psfMagerr_i  \\\n",
      "0  19.09634     0.020215  18.42664     0.016633  18.05081     0.013996   \n",
      "\n",
      "   psfMag_z  psfMagerr_z              obj_id1    type  \n",
      "0  17.94114     0.024936  1237661212582084760  GALAXY  \n",
      "Calculating visibility of source ZTF18aagrgao (ra: 251.856366, dec: 25.685070) with uh88.\n"
     ]
    },
    {
     "name": "stderr",
     "output_type": "stream",
     "text": [
      "INFO:root:computed dark times (sun_alt: -17.00) between 2018-11-14 00:00:00.000 and 2018-11-27 23:30:00.000. Total of 147.00 hours of dark\n",
      "INFO:root:source is visible for a total of 0.000 hours. Took 1.28e+00 sec\n"
     ]
    },
    {
     "name": "stdout",
     "output_type": "stream",
     "text": [
      "Not enough visibility\n"
     ]
    },
    {
     "name": "stderr",
     "output_type": "stream",
     "text": [
      "INFO:root:computing visibility of source at (ra: 250.915840, dec: 26.596255) from observatory uh88\n",
      "INFO:root:using visibility constraints:\n",
      "\t\t\t\t\t-Time resolution: 30.00 min\n",
      "\t\t\t\t\t-Airmass limit: 2.00\n",
      "\t\t\t\t\t-Sun altitude: -17.00 deg\n",
      "\t\t\t\t\t-Moon distance: 30.00 deg\n"
     ]
    },
    {
     "name": "stdout",
     "output_type": "stream",
     "text": [
      "  obj_id                objID          ra        dec  psfMag_u  psfMagerr_u  \\\n",
      "0  obj_0  1237662300840395048  251.857106  25.684797  21.28538     0.079289   \n",
      "\n",
      "   psfMag_g  psfMagerr_g  psfMag_r  psfMagerr_r  psfMag_i  psfMagerr_i  \\\n",
      "0  19.24158     0.014471  18.30147      0.01846  17.73427     0.013562   \n",
      "\n",
      "   psfMag_z  psfMagerr_z              obj_id1    type  \n",
      "0  17.37275     0.021112  1237662300840395048  GALAXY  \n",
      "Calculating visibility of source ZTF18aagrebu (ra: 250.915840, dec: 26.596255) with uh88.\n"
     ]
    },
    {
     "name": "stderr",
     "output_type": "stream",
     "text": [
      "INFO:root:computed dark times (sun_alt: -17.00) between 2018-11-14 00:00:00.000 and 2018-11-27 23:30:00.000. Total of 147.00 hours of dark\n",
      "INFO:root:source is visible for a total of 0.000 hours. Took 1.48e+00 sec\n"
     ]
    },
    {
     "name": "stdout",
     "output_type": "stream",
     "text": [
      "Not enough visibility\n"
     ]
    },
    {
     "name": "stderr",
     "output_type": "stream",
     "text": [
      "INFO:root:computing visibility of source at (ra: 236.095918, dec: 39.558094) from observatory uh88\n",
      "INFO:root:using visibility constraints:\n",
      "\t\t\t\t\t-Time resolution: 30.00 min\n",
      "\t\t\t\t\t-Airmass limit: 2.00\n",
      "\t\t\t\t\t-Sun altitude: -17.00 deg\n",
      "\t\t\t\t\t-Moon distance: 30.00 deg\n"
     ]
    },
    {
     "name": "stdout",
     "output_type": "stream",
     "text": [
      "Empty DataFrame\n",
      "Columns: [obj_id, objID, ra, dec, psfMag_u, psfMagerr_u, psfMag_g, psfMagerr_g, psfMag_r, psfMagerr_r, psfMag_i, psfMagerr_i, psfMag_z, psfMagerr_z, obj_id1, type]\n",
      "Index: []\n",
      "Calculating visibility of source ZTF18aagrcfl (ra: 236.095918, dec: 39.558094) with uh88.\n"
     ]
    },
    {
     "name": "stderr",
     "output_type": "stream",
     "text": [
      "INFO:root:computed dark times (sun_alt: -17.00) between 2018-11-14 00:00:00.000 and 2018-11-27 23:30:00.000. Total of 147.00 hours of dark\n",
      "INFO:root:source is visible for a total of 0.000 hours. Took 2.25e+00 sec\n"
     ]
    },
    {
     "name": "stdout",
     "output_type": "stream",
     "text": [
      "Not enough visibility\n"
     ]
    },
    {
     "name": "stderr",
     "output_type": "stream",
     "text": [
      "INFO:root:computing visibility of source at (ra: 222.223113, dec: 38.767538) from observatory uh88\n",
      "INFO:root:using visibility constraints:\n",
      "\t\t\t\t\t-Time resolution: 30.00 min\n",
      "\t\t\t\t\t-Airmass limit: 2.00\n",
      "\t\t\t\t\t-Sun altitude: -17.00 deg\n",
      "\t\t\t\t\t-Moon distance: 30.00 deg\n"
     ]
    },
    {
     "name": "stdout",
     "output_type": "stream",
     "text": [
      "  obj_id                objID          ra        dec  psfMag_u  psfMagerr_u  \\\n",
      "0  obj_0  1237662500004561215  236.096084  39.558941  20.55759     0.066011   \n",
      "\n",
      "   psfMag_g  psfMagerr_g  psfMag_r  psfMagerr_r  psfMag_i  psfMagerr_i  \\\n",
      "0  18.90598     0.017906  18.27487     0.024271  17.82147     0.018709   \n",
      "\n",
      "   psfMag_z  psfMagerr_z              obj_id1    type  \n",
      "0  17.55193     0.021249  1237662500004561215  GALAXY  \n",
      "Calculating visibility of source ZTF18aaccuih (ra: 222.223113, dec: 38.767538) with uh88.\n"
     ]
    },
    {
     "name": "stderr",
     "output_type": "stream",
     "text": [
      "INFO:root:computed dark times (sun_alt: -17.00) between 2018-11-14 00:00:00.000 and 2018-11-27 23:30:00.000. Total of 147.00 hours of dark\n",
      "INFO:root:source is visible for a total of 0.000 hours. Took 1.44e+00 sec\n"
     ]
    },
    {
     "name": "stdout",
     "output_type": "stream",
     "text": [
      "Not enough visibility\n"
     ]
    },
    {
     "name": "stderr",
     "output_type": "stream",
     "text": [
      "INFO:root:computing visibility of source at (ra: 248.048159, dec: 42.713424) from observatory uh88\n",
      "INFO:root:using visibility constraints:\n",
      "\t\t\t\t\t-Time resolution: 30.00 min\n",
      "\t\t\t\t\t-Airmass limit: 2.00\n",
      "\t\t\t\t\t-Sun altitude: -17.00 deg\n",
      "\t\t\t\t\t-Moon distance: 30.00 deg\n"
     ]
    },
    {
     "name": "stdout",
     "output_type": "stream",
     "text": [
      "  obj_id                objID          ra        dec  psfMag_u  psfMagerr_u  \\\n",
      "0  obj_0  1237661851481735334  222.224513  38.768252  20.23555     0.054019   \n",
      "\n",
      "   psfMag_g  psfMagerr_g  psfMag_r  psfMagerr_r  psfMag_i  psfMagerr_i  \\\n",
      "0  18.70245     0.022546  17.72849     0.019385  17.32785     0.018432   \n",
      "\n",
      "   psfMag_z  psfMagerr_z              obj_id1    type  \n",
      "0  17.04561     0.019622  1237661851481735334  GALAXY  \n",
      "Calculating visibility of source ZTF18aagtcxj (ra: 248.048159, dec: 42.713424) with uh88.\n"
     ]
    },
    {
     "name": "stderr",
     "output_type": "stream",
     "text": [
      "INFO:root:computed dark times (sun_alt: -17.00) between 2018-11-14 00:00:00.000 and 2018-11-27 23:30:00.000. Total of 147.00 hours of dark\n",
      "INFO:root:source is visible for a total of 0.000 hours. Took 1.22e+00 sec\n"
     ]
    },
    {
     "name": "stdout",
     "output_type": "stream",
     "text": [
      "Not enough visibility\n"
     ]
    },
    {
     "name": "stderr",
     "output_type": "stream",
     "text": [
      "INFO:root:computing visibility of source at (ra: 248.048179, dec: 42.713410) from observatory uh88\n",
      "INFO:root:using visibility constraints:\n",
      "\t\t\t\t\t-Time resolution: 30.00 min\n",
      "\t\t\t\t\t-Airmass limit: 2.00\n",
      "\t\t\t\t\t-Sun altitude: -17.00 deg\n",
      "\t\t\t\t\t-Moon distance: 30.00 deg\n"
     ]
    },
    {
     "name": "stdout",
     "output_type": "stream",
     "text": [
      "  obj_id                objID          ra        dec  psfMag_u  psfMagerr_u  \\\n",
      "0  obj_0  1237655501882982651  248.047403  42.713812  21.15138     0.082154   \n",
      "\n",
      "   psfMag_g  psfMagerr_g  psfMag_r  psfMagerr_r  psfMag_i  psfMagerr_i  \\\n",
      "0  19.39207     0.016716  18.43124      0.01833  18.20008     0.021467   \n",
      "\n",
      "   psfMag_z  psfMagerr_z              obj_id1    type  \n",
      "0  17.59014     0.020131  1237655501882982651  GALAXY  \n",
      "Calculating visibility of source ZTF18aagtdce (ra: 248.048179, dec: 42.713410) with uh88.\n"
     ]
    },
    {
     "name": "stderr",
     "output_type": "stream",
     "text": [
      "INFO:root:computed dark times (sun_alt: -17.00) between 2018-11-14 00:00:00.000 and 2018-11-27 23:30:00.000. Total of 147.00 hours of dark\n",
      "INFO:root:source is visible for a total of 0.000 hours. Took 1.25e+00 sec\n"
     ]
    },
    {
     "name": "stdout",
     "output_type": "stream",
     "text": [
      "Not enough visibility\n"
     ]
    },
    {
     "name": "stderr",
     "output_type": "stream",
     "text": [
      "INFO:root:computing visibility of source at (ra: 198.606088, dec: 50.977674) from observatory uh88\n",
      "INFO:root:using visibility constraints:\n",
      "\t\t\t\t\t-Time resolution: 30.00 min\n",
      "\t\t\t\t\t-Airmass limit: 2.00\n",
      "\t\t\t\t\t-Sun altitude: -17.00 deg\n",
      "\t\t\t\t\t-Moon distance: 30.00 deg\n"
     ]
    },
    {
     "name": "stdout",
     "output_type": "stream",
     "text": [
      "  obj_id                objID          ra        dec  psfMag_u  psfMagerr_u  \\\n",
      "0  obj_0  1237655501882982651  248.047403  42.713812  21.15138     0.082154   \n",
      "\n",
      "   psfMag_g  psfMagerr_g  psfMag_r  psfMagerr_r  psfMag_i  psfMagerr_i  \\\n",
      "0  19.39207     0.016716  18.43124      0.01833  18.20008     0.021467   \n",
      "\n",
      "   psfMag_z  psfMagerr_z              obj_id1    type  \n",
      "0  17.59014     0.020131  1237655501882982651  GALAXY  \n",
      "Calculating visibility of source ZTF18aagrtxs (ra: 198.606088, dec: 50.977674) with uh88.\n"
     ]
    },
    {
     "name": "stderr",
     "output_type": "stream",
     "text": [
      "INFO:root:computed dark times (sun_alt: -17.00) between 2018-11-14 00:00:00.000 and 2018-11-27 23:30:00.000. Total of 147.00 hours of dark\n",
      "INFO:root:source is visible for a total of 4.000 hours. Took 1.23e+00 sec\n"
     ]
    },
    {
     "name": "stdout",
     "output_type": "stream",
     "text": [
      "Not enough visibility\n"
     ]
    },
    {
     "name": "stderr",
     "output_type": "stream",
     "text": [
      "INFO:root:computing visibility of source at (ra: 273.827233, dec: 29.910746) from observatory uh88\n",
      "INFO:root:using visibility constraints:\n",
      "\t\t\t\t\t-Time resolution: 30.00 min\n",
      "\t\t\t\t\t-Airmass limit: 2.00\n",
      "\t\t\t\t\t-Sun altitude: -17.00 deg\n",
      "\t\t\t\t\t-Moon distance: 30.00 deg\n"
     ]
    },
    {
     "name": "stdout",
     "output_type": "stream",
     "text": [
      "Empty DataFrame\n",
      "Columns: [obj_id, objID, ra, dec, psfMag_u, psfMagerr_u, psfMag_g, psfMagerr_g, psfMag_r, psfMagerr_r, psfMag_i, psfMagerr_i, psfMag_z, psfMagerr_z, obj_id1, type]\n",
      "Index: []\n",
      "Calculating visibility of source ZTF18abmmkaz (ra: 273.827233, dec: 29.910746) with uh88.\n"
     ]
    },
    {
     "name": "stderr",
     "output_type": "stream",
     "text": [
      "INFO:root:computed dark times (sun_alt: -17.00) between 2018-11-14 00:00:00.000 and 2018-11-27 23:30:00.000. Total of 147.00 hours of dark\n",
      "INFO:root:source is visible for a total of 6.500 hours. Took 1.21e+00 sec\n",
      "INFO:root:computing visibility of source at (ra: 181.242924, dec: 32.391376) from observatory uh88\n",
      "INFO:root:using visibility constraints:\n",
      "\t\t\t\t\t-Time resolution: 30.00 min\n",
      "\t\t\t\t\t-Airmass limit: 2.00\n",
      "\t\t\t\t\t-Sun altitude: -17.00 deg\n",
      "\t\t\t\t\t-Moon distance: 30.00 deg\n"
     ]
    },
    {
     "name": "stdout",
     "output_type": "stream",
     "text": [
      "Empty DataFrame\n",
      "Columns: [obj_id, objID, ra, dec, psfMag_u, psfMagerr_u, psfMag_g, psfMagerr_g, psfMag_r, psfMagerr_r, psfMag_i, psfMagerr_i, psfMag_z, psfMagerr_z, obj_id1, type]\n",
      "Index: []\n",
      "Calculating visibility of source ZTF18aahfgsk (ra: 181.242924, dec: 32.391376) with uh88.\n"
     ]
    },
    {
     "name": "stderr",
     "output_type": "stream",
     "text": [
      "INFO:root:computed dark times (sun_alt: -17.00) between 2018-11-14 00:00:00.000 and 2018-11-27 23:30:00.000. Total of 147.00 hours of dark\n",
      "INFO:root:source is visible for a total of 19.000 hours. Took 1.22e+00 sec\n",
      "INFO:root:computing visibility of source at (ra: 254.749894, dec: 34.580565) from observatory uh88\n",
      "INFO:root:using visibility constraints:\n",
      "\t\t\t\t\t-Time resolution: 30.00 min\n",
      "\t\t\t\t\t-Airmass limit: 2.00\n",
      "\t\t\t\t\t-Sun altitude: -17.00 deg\n",
      "\t\t\t\t\t-Moon distance: 30.00 deg\n"
     ]
    },
    {
     "name": "stdout",
     "output_type": "stream",
     "text": [
      "  obj_id                objID          ra        dec  psfMag_u  psfMagerr_u  \\\n",
      "0  obj_0  1237665226767204469  181.244299  32.392054  23.64658     0.945773   \n",
      "\n",
      "   psfMag_g  psfMagerr_g  psfMag_r  psfMagerr_r  psfMag_i  psfMagerr_i  \\\n",
      "0  22.69121     0.441772  24.26218     1.301691  21.31526     0.450768   \n",
      "\n",
      "   psfMag_z  psfMagerr_z              obj_id1  type  \n",
      "0  22.82681     1.356097  1237665226767204469  STAR  \n",
      "Calculating visibility of source ZTF18aaialps (ra: 254.749894, dec: 34.580565) with uh88.\n"
     ]
    },
    {
     "name": "stderr",
     "output_type": "stream",
     "text": [
      "INFO:root:computed dark times (sun_alt: -17.00) between 2018-11-14 00:00:00.000 and 2018-11-27 23:30:00.000. Total of 147.00 hours of dark\n",
      "INFO:root:source is visible for a total of 0.000 hours. Took 1.27e+00 sec\n"
     ]
    },
    {
     "name": "stdout",
     "output_type": "stream",
     "text": [
      "Not enough visibility\n"
     ]
    },
    {
     "name": "stderr",
     "output_type": "stream",
     "text": [
      "INFO:root:computing visibility of source at (ra: 207.363205, dec: 26.462134) from observatory uh88\n",
      "INFO:root:using visibility constraints:\n",
      "\t\t\t\t\t-Time resolution: 30.00 min\n",
      "\t\t\t\t\t-Airmass limit: 2.00\n",
      "\t\t\t\t\t-Sun altitude: -17.00 deg\n",
      "\t\t\t\t\t-Moon distance: 30.00 deg\n"
     ]
    },
    {
     "name": "stdout",
     "output_type": "stream",
     "text": [
      "  obj_id                objID          ra        dec  psfMag_u  psfMagerr_u  \\\n",
      "0  obj_0  1237655473971594312  254.749846  34.580451  23.39477     0.429192   \n",
      "\n",
      "   psfMag_g  psfMagerr_g  psfMag_r  psfMagerr_r  psfMag_i  psfMagerr_i  \\\n",
      "0  22.94506     0.131139  22.58932     0.139649  22.47399     0.170634   \n",
      "\n",
      "   psfMag_z  psfMagerr_z              obj_id1    type  \n",
      "0  22.30937     0.405986  1237655473971594312  GALAXY  \n",
      "Calculating visibility of source ZTF18aahhffw (ra: 207.363205, dec: 26.462134) with uh88.\n"
     ]
    },
    {
     "name": "stderr",
     "output_type": "stream",
     "text": [
      "INFO:root:computed dark times (sun_alt: -17.00) between 2018-11-14 00:00:00.000 and 2018-11-27 23:30:00.000. Total of 147.00 hours of dark\n",
      "INFO:root:source is visible for a total of 0.000 hours. Took 1.27e+00 sec\n"
     ]
    },
    {
     "name": "stdout",
     "output_type": "stream",
     "text": [
      "Not enough visibility\n"
     ]
    },
    {
     "name": "stderr",
     "output_type": "stream",
     "text": [
      "INFO:root:computing visibility of source at (ra: 246.055792, dec: 25.272050) from observatory uh88\n",
      "INFO:root:using visibility constraints:\n",
      "\t\t\t\t\t-Time resolution: 30.00 min\n",
      "\t\t\t\t\t-Airmass limit: 2.00\n",
      "\t\t\t\t\t-Sun altitude: -17.00 deg\n",
      "\t\t\t\t\t-Moon distance: 30.00 deg\n"
     ]
    },
    {
     "name": "stdout",
     "output_type": "stream",
     "text": [
      "Empty DataFrame\n",
      "Columns: [obj_id, objID, ra, dec, psfMag_u, psfMagerr_u, psfMag_g, psfMagerr_g, psfMag_r, psfMagerr_r, psfMag_i, psfMagerr_i, psfMag_z, psfMagerr_z, obj_id1, type]\n",
      "Index: []\n",
      "Calculating visibility of source ZTF18aaiajvb (ra: 246.055792, dec: 25.272050) with uh88.\n"
     ]
    },
    {
     "name": "stderr",
     "output_type": "stream",
     "text": [
      "INFO:root:computed dark times (sun_alt: -17.00) between 2018-11-14 00:00:00.000 and 2018-11-27 23:30:00.000. Total of 147.00 hours of dark\n",
      "INFO:root:source is visible for a total of 0.000 hours. Took 1.23e+00 sec\n"
     ]
    },
    {
     "name": "stdout",
     "output_type": "stream",
     "text": [
      "Not enough visibility\n"
     ]
    },
    {
     "name": "stderr",
     "output_type": "stream",
     "text": [
      "INFO:root:computing visibility of source at (ra: 261.641604, dec: 34.373554) from observatory uh88\n",
      "INFO:root:using visibility constraints:\n",
      "\t\t\t\t\t-Time resolution: 30.00 min\n",
      "\t\t\t\t\t-Airmass limit: 2.00\n",
      "\t\t\t\t\t-Sun altitude: -17.00 deg\n",
      "\t\t\t\t\t-Moon distance: 30.00 deg\n"
     ]
    },
    {
     "name": "stdout",
     "output_type": "stream",
     "text": [
      "  obj_id                objID          ra        dec  psfMag_u  psfMagerr_u  \\\n",
      "0  obj_0  1237662640660021975  246.055921  25.271786  24.42428     0.838184   \n",
      "\n",
      "   psfMag_g  psfMagerr_g  psfMag_r  psfMagerr_r  psfMag_i  psfMagerr_i  \\\n",
      "0  23.16231     0.168897  22.59928     0.133067  22.76753     0.206871   \n",
      "\n",
      "   psfMag_z  psfMagerr_z              obj_id1    type  \n",
      "0  22.03871     0.358656  1237662640660021975  GALAXY  \n",
      "Calculating visibility of source ZTF18aaibibr (ra: 261.641604, dec: 34.373554) with uh88.\n"
     ]
    },
    {
     "name": "stderr",
     "output_type": "stream",
     "text": [
      "INFO:root:computed dark times (sun_alt: -17.00) between 2018-11-14 00:00:00.000 and 2018-11-27 23:30:00.000. Total of 147.00 hours of dark\n",
      "INFO:root:source is visible for a total of 0.000 hours. Took 1.31e+00 sec\n"
     ]
    },
    {
     "name": "stdout",
     "output_type": "stream",
     "text": [
      "Not enough visibility\n"
     ]
    },
    {
     "name": "stderr",
     "output_type": "stream",
     "text": [
      "INFO:root:computing visibility of source at (ra: 144.455533, dec: 12.464041) from observatory uh88\n",
      "INFO:root:using visibility constraints:\n",
      "\t\t\t\t\t-Time resolution: 30.00 min\n",
      "\t\t\t\t\t-Airmass limit: 2.00\n",
      "\t\t\t\t\t-Sun altitude: -17.00 deg\n",
      "\t\t\t\t\t-Moon distance: 30.00 deg\n"
     ]
    },
    {
     "name": "stdout",
     "output_type": "stream",
     "text": [
      "  obj_id                objID          ra        dec  psfMag_u  psfMagerr_u  \\\n",
      "0  obj_0  1237665582724874633  261.641188  34.373641  24.63423     1.545006   \n",
      "\n",
      "   psfMag_g  psfMagerr_g  psfMag_r  psfMagerr_r  psfMag_i  psfMagerr_i  \\\n",
      "0  25.11447     3.049927  24.80204     5.507475  23.22045     2.322507   \n",
      "\n",
      "   psfMag_z  psfMagerr_z              obj_id1  type  \n",
      "0   20.4438     0.443155  1237665582724874633  STAR  \n",
      "Calculating visibility of source ZTF18aahpaoa (ra: 144.455533, dec: 12.464041) with uh88.\n"
     ]
    },
    {
     "name": "stderr",
     "output_type": "stream",
     "text": [
      "INFO:root:computed dark times (sun_alt: -17.00) between 2018-11-14 00:00:00.000 and 2018-11-27 23:30:00.000. Total of 147.00 hours of dark\n",
      "INFO:root:Too close the the moon.\n",
      "INFO:root:source is visible for a total of 45.500 hours. Took 1.31e+00 sec\n",
      "INFO:root:computing visibility of source at (ra: 162.318086, dec: 26.373094) from observatory uh88\n",
      "INFO:root:using visibility constraints:\n",
      "\t\t\t\t\t-Time resolution: 30.00 min\n",
      "\t\t\t\t\t-Airmass limit: 2.00\n",
      "\t\t\t\t\t-Sun altitude: -17.00 deg\n",
      "\t\t\t\t\t-Moon distance: 30.00 deg\n"
     ]
    },
    {
     "name": "stdout",
     "output_type": "stream",
     "text": [
      "  obj_id                objID         ra        dec  psfMag_u  psfMagerr_u  \\\n",
      "0  obj_0  1237671260129722892  144.45553  12.464024  22.79801     0.259574   \n",
      "\n",
      "   psfMag_g  psfMagerr_g  psfMag_r  psfMagerr_r  psfMag_i  psfMagerr_i  \\\n",
      "0  21.82462     0.070124  21.57885     0.063423  21.38185      0.07683   \n",
      "\n",
      "   psfMag_z  psfMagerr_z              obj_id1    type  \n",
      "0  21.29818     0.232736  1237671260129722892  GALAXY  \n",
      "Calculating visibility of source ZTF18aahptcq (ra: 162.318086, dec: 26.373094) with uh88.\n"
     ]
    },
    {
     "name": "stderr",
     "output_type": "stream",
     "text": [
      "INFO:root:computed dark times (sun_alt: -17.00) between 2018-11-14 00:00:00.000 and 2018-11-27 23:30:00.000. Total of 147.00 hours of dark\n",
      "INFO:root:source is visible for a total of 36.000 hours. Took 1.22e+00 sec\n",
      "INFO:root:computing visibility of source at (ra: 176.549837, dec: 9.355021) from observatory uh88\n",
      "INFO:root:using visibility constraints:\n",
      "\t\t\t\t\t-Time resolution: 30.00 min\n",
      "\t\t\t\t\t-Airmass limit: 2.00\n",
      "\t\t\t\t\t-Sun altitude: -17.00 deg\n",
      "\t\t\t\t\t-Moon distance: 30.00 deg\n"
     ]
    },
    {
     "name": "stdout",
     "output_type": "stream",
     "text": [
      "Empty DataFrame\n",
      "Columns: [obj_id, objID, ra, dec, psfMag_u, psfMagerr_u, psfMag_g, psfMagerr_g, psfMag_r, psfMagerr_r, psfMag_i, psfMagerr_i, psfMag_z, psfMagerr_z, obj_id1, type]\n",
      "Index: []\n",
      "Calculating visibility of source ZTF18aahfxnn (ra: 176.549837, dec: 9.355021) with uh88.\n"
     ]
    },
    {
     "name": "stderr",
     "output_type": "stream",
     "text": [
      "INFO:root:computed dark times (sun_alt: -17.00) between 2018-11-14 00:00:00.000 and 2018-11-27 23:30:00.000. Total of 147.00 hours of dark\n",
      "INFO:root:source is visible for a total of 18.500 hours. Took 1.23e+00 sec\n",
      "INFO:root:computing visibility of source at (ra: 128.939324, dec: 28.270296) from observatory uh88\n",
      "INFO:root:using visibility constraints:\n",
      "\t\t\t\t\t-Time resolution: 30.00 min\n",
      "\t\t\t\t\t-Airmass limit: 2.00\n",
      "\t\t\t\t\t-Sun altitude: -17.00 deg\n",
      "\t\t\t\t\t-Moon distance: 30.00 deg\n"
     ]
    },
    {
     "name": "stdout",
     "output_type": "stream",
     "text": [
      "  obj_id                objID          ra       dec  psfMag_u  psfMagerr_u  \\\n",
      "0  obj_0  1237660613439652108  176.548695  9.354748  21.45237     0.139693   \n",
      "\n",
      "   psfMag_g  psfMagerr_g  psfMag_r  psfMagerr_r  psfMag_i  psfMagerr_i  \\\n",
      "0  20.34931     0.030623  19.81398     0.030339  19.47611     0.037374   \n",
      "\n",
      "   psfMag_z  psfMagerr_z              obj_id1    type  \n",
      "0  19.14663     0.066347  1237660613439652108  GALAXY  \n",
      "Calculating visibility of source ZTF18aahesrp (ra: 128.939324, dec: 28.270296) with uh88.\n"
     ]
    },
    {
     "name": "stderr",
     "output_type": "stream",
     "text": [
      "INFO:root:computed dark times (sun_alt: -17.00) between 2018-11-14 00:00:00.000 and 2018-11-27 23:30:00.000. Total of 147.00 hours of dark\n",
      "INFO:root:Too close the the moon.\n",
      "INFO:root:source is visible for a total of 57.000 hours. Took 1.23e+00 sec\n",
      "INFO:root:computing visibility of source at (ra: 127.808004, dec: 28.280234) from observatory uh88\n",
      "INFO:root:using visibility constraints:\n",
      "\t\t\t\t\t-Time resolution: 30.00 min\n",
      "\t\t\t\t\t-Airmass limit: 2.00\n",
      "\t\t\t\t\t-Sun altitude: -17.00 deg\n",
      "\t\t\t\t\t-Moon distance: 30.00 deg\n"
     ]
    },
    {
     "name": "stdout",
     "output_type": "stream",
     "text": [
      "  obj_id                objID          ra        dec  psfMag_u  psfMagerr_u  \\\n",
      "0  obj_0  1237661088032555305  128.938966  28.270478  21.39549     0.107971   \n",
      "\n",
      "   psfMag_g  psfMagerr_g  psfMag_r  psfMagerr_r  psfMag_i  psfMagerr_i  \\\n",
      "0  20.10288     0.023701  19.81686     0.022415  19.49596     0.023305   \n",
      "\n",
      "   psfMag_z  psfMagerr_z              obj_id1    type  \n",
      "0  19.40944     0.062305  1237661088032555305  GALAXY  \n",
      "Calculating visibility of source ZTF18aahrdpu (ra: 127.808004, dec: 28.280234) with uh88.\n"
     ]
    },
    {
     "name": "stderr",
     "output_type": "stream",
     "text": [
      "INFO:root:computed dark times (sun_alt: -17.00) between 2018-11-14 00:00:00.000 and 2018-11-27 23:30:00.000. Total of 147.00 hours of dark\n",
      "INFO:root:Too close the the moon.\n",
      "INFO:root:source is visible for a total of 57.500 hours. Took 1.23e+00 sec\n",
      "INFO:root:computing visibility of source at (ra: 200.670763, dec: 54.352365) from observatory uh88\n",
      "INFO:root:using visibility constraints:\n",
      "\t\t\t\t\t-Time resolution: 30.00 min\n",
      "\t\t\t\t\t-Airmass limit: 2.00\n",
      "\t\t\t\t\t-Sun altitude: -17.00 deg\n",
      "\t\t\t\t\t-Moon distance: 30.00 deg\n"
     ]
    },
    {
     "name": "stdout",
     "output_type": "stream",
     "text": [
      "  obj_id                objID          ra        dec  psfMag_u  psfMagerr_u  \\\n",
      "0  obj_0  1237660961861075060  127.807933  28.280258  21.18496     0.090578   \n",
      "\n",
      "   psfMag_g  psfMagerr_g  psfMag_r  psfMagerr_r  psfMag_i  psfMagerr_i  \\\n",
      "0  19.30961     0.350545  18.36375     0.443657  18.01699     0.478222   \n",
      "\n",
      "   psfMag_z  psfMagerr_z              obj_id1    type  \n",
      "0  17.68672     0.076885  1237660961861075060  GALAXY  \n",
      "Calculating visibility of source ZTF18aaitbcm (ra: 200.670763, dec: 54.352365) with uh88.\n"
     ]
    },
    {
     "name": "stderr",
     "output_type": "stream",
     "text": [
      "INFO:root:computed dark times (sun_alt: -17.00) between 2018-11-14 00:00:00.000 and 2018-11-27 23:30:00.000. Total of 147.00 hours of dark\n",
      "INFO:root:source is visible for a total of 2.500 hours. Took 1.22e+00 sec\n"
     ]
    },
    {
     "name": "stdout",
     "output_type": "stream",
     "text": [
      "Not enough visibility\n"
     ]
    },
    {
     "name": "stderr",
     "output_type": "stream",
     "text": [
      "INFO:root:computing visibility of source at (ra: 174.115711, dec: 17.921384) from observatory uh88\n",
      "INFO:root:using visibility constraints:\n",
      "\t\t\t\t\t-Time resolution: 30.00 min\n",
      "\t\t\t\t\t-Airmass limit: 2.00\n",
      "\t\t\t\t\t-Sun altitude: -17.00 deg\n",
      "\t\t\t\t\t-Moon distance: 30.00 deg\n"
     ]
    },
    {
     "name": "stdout",
     "output_type": "stream",
     "text": [
      "  obj_id                objID          ra        dec  psfMag_u  psfMagerr_u  \\\n",
      "0  obj_0  1237658917997052862  200.670521  54.352304  22.40693     0.268312   \n",
      "\n",
      "   psfMag_g  psfMagerr_g  psfMag_r  psfMagerr_r  psfMag_i  psfMagerr_i  \\\n",
      "0  23.13341     0.201238  23.39609     0.323519  22.84869      0.28832   \n",
      "\n",
      "   psfMag_z  psfMagerr_z              obj_id1    type  \n",
      "0  21.83527     0.459773  1237658917997052862  GALAXY  \n",
      "Calculating visibility of source ZTF18aaigbvt (ra: 174.115711, dec: 17.921384) with uh88.\n"
     ]
    },
    {
     "name": "stderr",
     "output_type": "stream",
     "text": [
      "INFO:root:computed dark times (sun_alt: -17.00) between 2018-11-14 00:00:00.000 and 2018-11-27 23:30:00.000. Total of 147.00 hours of dark\n",
      "INFO:root:source is visible for a total of 23.500 hours. Took 1.23e+00 sec\n",
      "INFO:root:computing visibility of source at (ra: 207.363189, dec: 26.462130) from observatory uh88\n",
      "INFO:root:using visibility constraints:\n",
      "\t\t\t\t\t-Time resolution: 30.00 min\n",
      "\t\t\t\t\t-Airmass limit: 2.00\n",
      "\t\t\t\t\t-Sun altitude: -17.00 deg\n",
      "\t\t\t\t\t-Moon distance: 30.00 deg\n"
     ]
    },
    {
     "name": "stdout",
     "output_type": "stream",
     "text": [
      "  obj_id                objID          ra        dec  psfMag_u  psfMagerr_u  \\\n",
      "0  obj_0  1237668586508845263  174.115628  17.921406  21.90867     0.157859   \n",
      "\n",
      "   psfMag_g  psfMagerr_g  psfMag_r  psfMagerr_r  psfMag_i  psfMagerr_i  \\\n",
      "0   20.6003     0.029824  19.72323     0.022329  19.38259     0.020533   \n",
      "\n",
      "   psfMag_z  psfMagerr_z              obj_id1    type  \n",
      "0  19.12591     0.047311  1237668586508845263  GALAXY  \n",
      "Calculating visibility of source ZTF18aahhenr (ra: 207.363189, dec: 26.462130) with uh88.\n"
     ]
    },
    {
     "name": "stderr",
     "output_type": "stream",
     "text": [
      "INFO:root:computed dark times (sun_alt: -17.00) between 2018-11-14 00:00:00.000 and 2018-11-27 23:30:00.000. Total of 147.00 hours of dark\n",
      "INFO:root:source is visible for a total of 0.000 hours. Took 1.23e+00 sec\n"
     ]
    },
    {
     "name": "stdout",
     "output_type": "stream",
     "text": [
      "Not enough visibility\n"
     ]
    },
    {
     "name": "stderr",
     "output_type": "stream",
     "text": [
      "INFO:root:computing visibility of source at (ra: 177.939687, dec: 57.799495) from observatory uh88\n",
      "INFO:root:using visibility constraints:\n",
      "\t\t\t\t\t-Time resolution: 30.00 min\n",
      "\t\t\t\t\t-Airmass limit: 2.00\n",
      "\t\t\t\t\t-Sun altitude: -17.00 deg\n",
      "\t\t\t\t\t-Moon distance: 30.00 deg\n"
     ]
    },
    {
     "name": "stdout",
     "output_type": "stream",
     "text": [
      "Empty DataFrame\n",
      "Columns: [obj_id, objID, ra, dec, psfMag_u, psfMagerr_u, psfMag_g, psfMagerr_g, psfMag_r, psfMagerr_r, psfMag_i, psfMagerr_i, psfMag_z, psfMagerr_z, obj_id1, type]\n",
      "Index: []\n",
      "Calculating visibility of source ZTF18aairuad (ra: 177.939687, dec: 57.799495) with uh88.\n"
     ]
    },
    {
     "name": "stderr",
     "output_type": "stream",
     "text": [
      "INFO:root:computed dark times (sun_alt: -17.00) between 2018-11-14 00:00:00.000 and 2018-11-27 23:30:00.000. Total of 147.00 hours of dark\n",
      "INFO:root:source is visible for a total of 22.500 hours. Took 1.24e+00 sec\n",
      "INFO:root:computing visibility of source at (ra: 154.314849, dec: 43.523354) from observatory uh88\n",
      "INFO:root:using visibility constraints:\n",
      "\t\t\t\t\t-Time resolution: 30.00 min\n",
      "\t\t\t\t\t-Airmass limit: 2.00\n",
      "\t\t\t\t\t-Sun altitude: -17.00 deg\n",
      "\t\t\t\t\t-Moon distance: 30.00 deg\n"
     ]
    },
    {
     "name": "stdout",
     "output_type": "stream",
     "text": [
      "  obj_id                objID          ra        dec  psfMag_u  psfMagerr_u  \\\n",
      "0  obj_0  1237661353779396732  177.937278  57.799858  20.34549     0.049992   \n",
      "\n",
      "   psfMag_g  psfMagerr_g  psfMag_r  psfMagerr_r  psfMag_i  psfMagerr_i  \\\n",
      "0  19.21979     0.017776  18.77811     0.024587  18.54809     0.018942   \n",
      "\n",
      "   psfMag_z  psfMagerr_z              obj_id1    type  \n",
      "0  18.45873      0.03456  1237661353779396732  GALAXY  \n",
      "Calculating visibility of source ZTF18aahfeiy (ra: 154.314849, dec: 43.523354) with uh88.\n"
     ]
    },
    {
     "name": "stderr",
     "output_type": "stream",
     "text": [
      "INFO:root:computed dark times (sun_alt: -17.00) between 2018-11-14 00:00:00.000 and 2018-11-27 23:30:00.000. Total of 147.00 hours of dark\n",
      "INFO:root:source is visible for a total of 45.500 hours. Took 1.24e+00 sec\n",
      "INFO:root:computing visibility of source at (ra: 159.516644, dec: 45.256634) from observatory uh88\n",
      "INFO:root:using visibility constraints:\n",
      "\t\t\t\t\t-Time resolution: 30.00 min\n",
      "\t\t\t\t\t-Airmass limit: 2.00\n",
      "\t\t\t\t\t-Sun altitude: -17.00 deg\n",
      "\t\t\t\t\t-Moon distance: 30.00 deg\n"
     ]
    },
    {
     "name": "stdout",
     "output_type": "stream",
     "text": [
      "Empty DataFrame\n",
      "Columns: [obj_id, objID, ra, dec, psfMag_u, psfMagerr_u, psfMag_g, psfMagerr_g, psfMag_r, psfMagerr_r, psfMag_i, psfMagerr_i, psfMag_z, psfMagerr_z, obj_id1, type]\n",
      "Index: []\n",
      "Calculating visibility of source ZTF18aahqavd (ra: 159.516644, dec: 45.256634) with uh88.\n"
     ]
    },
    {
     "name": "stderr",
     "output_type": "stream",
     "text": [
      "INFO:root:computed dark times (sun_alt: -17.00) between 2018-11-14 00:00:00.000 and 2018-11-27 23:30:00.000. Total of 147.00 hours of dark\n",
      "INFO:root:source is visible for a total of 40.500 hours. Took 1.23e+00 sec\n",
      "INFO:root:computing visibility of source at (ra: 266.036917, dec: 39.355337) from observatory uh88\n",
      "INFO:root:using visibility constraints:\n",
      "\t\t\t\t\t-Time resolution: 30.00 min\n",
      "\t\t\t\t\t-Airmass limit: 2.00\n",
      "\t\t\t\t\t-Sun altitude: -17.00 deg\n",
      "\t\t\t\t\t-Moon distance: 30.00 deg\n"
     ]
    },
    {
     "name": "stdout",
     "output_type": "stream",
     "text": [
      "  obj_id                objID          ra        dec  psfMag_u  psfMagerr_u  \\\n",
      "0  obj_0  1237660636533293293  159.515986  45.257119  21.62439     0.125559   \n",
      "\n",
      "   psfMag_g  psfMagerr_g  psfMag_r  psfMagerr_r  psfMag_i  psfMagerr_i  \\\n",
      "0  20.45243     0.032261  20.06555     0.024048  19.68186     0.029592   \n",
      "\n",
      "   psfMag_z  psfMagerr_z              obj_id1    type  \n",
      "0  19.77377     0.088548  1237660636533293293  GALAXY  \n",
      "Calculating visibility of source ZTF18aaimxdx (ra: 266.036917, dec: 39.355337) with uh88.\n"
     ]
    },
    {
     "name": "stderr",
     "output_type": "stream",
     "text": [
      "INFO:root:computed dark times (sun_alt: -17.00) between 2018-11-14 00:00:00.000 and 2018-11-27 23:30:00.000. Total of 147.00 hours of dark\n",
      "INFO:root:source is visible for a total of 2.000 hours. Took 1.22e+00 sec\n"
     ]
    },
    {
     "name": "stdout",
     "output_type": "stream",
     "text": [
      "Not enough visibility\n"
     ]
    },
    {
     "name": "stderr",
     "output_type": "stream",
     "text": [
      "INFO:root:computing visibility of source at (ra: 175.283292, dec: 24.819562) from observatory uh88\n",
      "INFO:root:using visibility constraints:\n",
      "\t\t\t\t\t-Time resolution: 30.00 min\n",
      "\t\t\t\t\t-Airmass limit: 2.00\n",
      "\t\t\t\t\t-Sun altitude: -17.00 deg\n",
      "\t\t\t\t\t-Moon distance: 30.00 deg\n"
     ]
    },
    {
     "name": "stdout",
     "output_type": "stream",
     "text": [
      "Empty DataFrame\n",
      "Columns: [obj_id, objID, ra, dec, psfMag_u, psfMagerr_u, psfMag_g, psfMagerr_g, psfMag_r, psfMagerr_r, psfMag_i, psfMagerr_i, psfMag_z, psfMagerr_z, obj_id1, type]\n",
      "Index: []\n",
      "Calculating visibility of source ZTF18aahfgyz (ra: 175.283292, dec: 24.819562) with uh88.\n"
     ]
    },
    {
     "name": "stderr",
     "output_type": "stream",
     "text": [
      "INFO:root:computed dark times (sun_alt: -17.00) between 2018-11-14 00:00:00.000 and 2018-11-27 23:30:00.000. Total of 147.00 hours of dark\n",
      "INFO:root:source is visible for a total of 24.000 hours. Took 1.22e+00 sec\n",
      "INFO:root:computing visibility of source at (ra: 241.149518, dec: 71.475490) from observatory uh88\n",
      "INFO:root:using visibility constraints:\n",
      "\t\t\t\t\t-Time resolution: 30.00 min\n",
      "\t\t\t\t\t-Airmass limit: 2.00\n",
      "\t\t\t\t\t-Sun altitude: -17.00 deg\n",
      "\t\t\t\t\t-Moon distance: 30.00 deg\n"
     ]
    },
    {
     "name": "stdout",
     "output_type": "stream",
     "text": [
      "Empty DataFrame\n",
      "Columns: [obj_id, objID, ra, dec, psfMag_u, psfMagerr_u, psfMag_g, psfMagerr_g, psfMag_r, psfMagerr_r, psfMag_i, psfMagerr_i, psfMag_z, psfMagerr_z, obj_id1, type]\n",
      "Index: []\n",
      "Calculating visibility of source ZTF18aaitowa (ra: 241.149518, dec: 71.475490) with uh88.\n"
     ]
    },
    {
     "name": "stderr",
     "output_type": "stream",
     "text": [
      "INFO:root:computed dark times (sun_alt: -17.00) between 2018-11-14 00:00:00.000 and 2018-11-27 23:30:00.000. Total of 147.00 hours of dark\n",
      "INFO:root:source is visible for a total of 0.000 hours. Took 1.26e+00 sec\n"
     ]
    },
    {
     "name": "stdout",
     "output_type": "stream",
     "text": [
      "Not enough visibility\n"
     ]
    },
    {
     "name": "stderr",
     "output_type": "stream",
     "text": [
      "INFO:root:computing visibility of source at (ra: 258.763573, dec: 34.827965) from observatory uh88\n",
      "INFO:root:using visibility constraints:\n",
      "\t\t\t\t\t-Time resolution: 30.00 min\n",
      "\t\t\t\t\t-Airmass limit: 2.00\n",
      "\t\t\t\t\t-Sun altitude: -17.00 deg\n",
      "\t\t\t\t\t-Moon distance: 30.00 deg\n"
     ]
    },
    {
     "name": "stdout",
     "output_type": "stream",
     "text": [
      "Empty DataFrame\n",
      "Columns: [obj_id, objID, ra, dec, psfMag_u, psfMagerr_u, psfMag_g, psfMagerr_g, psfMag_r, psfMagerr_r, psfMag_i, psfMagerr_i, psfMag_z, psfMagerr_z, obj_id1, type]\n",
      "Index: []\n",
      "Calculating visibility of source ZTF18aajsbbq (ra: 258.763573, dec: 34.827965) with uh88.\n"
     ]
    },
    {
     "name": "stderr",
     "output_type": "stream",
     "text": [
      "INFO:root:computed dark times (sun_alt: -17.00) between 2018-11-14 00:00:00.000 and 2018-11-27 23:30:00.000. Total of 147.00 hours of dark\n",
      "INFO:root:source is visible for a total of 0.000 hours. Took 1.21e+00 sec\n"
     ]
    },
    {
     "name": "stdout",
     "output_type": "stream",
     "text": [
      "Not enough visibility\n"
     ]
    },
    {
     "name": "stderr",
     "output_type": "stream",
     "text": [
      "INFO:root:computing visibility of source at (ra: 219.888691, dec: 29.711363) from observatory uh88\n",
      "INFO:root:using visibility constraints:\n",
      "\t\t\t\t\t-Time resolution: 30.00 min\n",
      "\t\t\t\t\t-Airmass limit: 2.00\n",
      "\t\t\t\t\t-Sun altitude: -17.00 deg\n",
      "\t\t\t\t\t-Moon distance: 30.00 deg\n"
     ]
    },
    {
     "name": "stdout",
     "output_type": "stream",
     "text": [
      "  obj_id                objID          ra        dec  psfMag_u  psfMagerr_u  \\\n",
      "0  obj_0  1237671936044237123  258.763603  34.828006  20.37595     0.065461   \n",
      "\n",
      "   psfMag_g  psfMagerr_g  psfMag_r  psfMagerr_r  psfMag_i  psfMagerr_i  \\\n",
      "0   18.6111     0.017584  17.89626     0.013678  17.55441       0.0127   \n",
      "\n",
      "   psfMag_z  psfMagerr_z              obj_id1    type  \n",
      "0  17.28799     0.023976  1237671936044237123  GALAXY  \n",
      "Calculating visibility of source ZTF18aailvrv (ra: 219.888691, dec: 29.711363) with uh88.\n"
     ]
    },
    {
     "name": "stderr",
     "output_type": "stream",
     "text": [
      "INFO:root:computed dark times (sun_alt: -17.00) between 2018-11-14 00:00:00.000 and 2018-11-27 23:30:00.000. Total of 147.00 hours of dark\n",
      "INFO:root:source is visible for a total of 0.000 hours. Took 1.23e+00 sec\n"
     ]
    },
    {
     "name": "stdout",
     "output_type": "stream",
     "text": [
      "Not enough visibility\n"
     ]
    },
    {
     "name": "stderr",
     "output_type": "stream",
     "text": [
      "INFO:root:computing visibility of source at (ra: 153.234535, dec: 46.418107) from observatory uh88\n",
      "INFO:root:using visibility constraints:\n",
      "\t\t\t\t\t-Time resolution: 30.00 min\n",
      "\t\t\t\t\t-Airmass limit: 2.00\n",
      "\t\t\t\t\t-Sun altitude: -17.00 deg\n",
      "\t\t\t\t\t-Moon distance: 30.00 deg\n"
     ]
    },
    {
     "name": "stdout",
     "output_type": "stream",
     "text": [
      "Empty DataFrame\n",
      "Columns: [obj_id, objID, ra, dec, psfMag_u, psfMagerr_u, psfMag_g, psfMagerr_g, psfMag_r, psfMagerr_r, psfMag_i, psfMagerr_i, psfMag_z, psfMagerr_z, obj_id1, type]\n",
      "Index: []\n",
      "Calculating visibility of source ZTF18aahpzhc (ra: 153.234535, dec: 46.418107) with uh88.\n"
     ]
    },
    {
     "name": "stderr",
     "output_type": "stream",
     "text": [
      "INFO:root:computed dark times (sun_alt: -17.00) between 2018-11-14 00:00:00.000 and 2018-11-27 23:30:00.000. Total of 147.00 hours of dark\n",
      "INFO:root:source is visible for a total of 46.000 hours. Took 1.25e+00 sec\n",
      "INFO:root:computing visibility of source at (ra: 239.192901, dec: 35.024647) from observatory uh88\n",
      "INFO:root:using visibility constraints:\n",
      "\t\t\t\t\t-Time resolution: 30.00 min\n",
      "\t\t\t\t\t-Airmass limit: 2.00\n",
      "\t\t\t\t\t-Sun altitude: -17.00 deg\n",
      "\t\t\t\t\t-Moon distance: 30.00 deg\n"
     ]
    },
    {
     "name": "stdout",
     "output_type": "stream",
     "text": [
      "Empty DataFrame\n",
      "Columns: [obj_id, objID, ra, dec, psfMag_u, psfMagerr_u, psfMag_g, psfMagerr_g, psfMag_r, psfMagerr_r, psfMag_i, psfMagerr_i, psfMag_z, psfMagerr_z, obj_id1, type]\n",
      "Index: []\n",
      "Calculating visibility of source ZTF18aaiwkwk (ra: 239.192901, dec: 35.024647) with uh88.\n"
     ]
    },
    {
     "name": "stderr",
     "output_type": "stream",
     "text": [
      "INFO:root:computed dark times (sun_alt: -17.00) between 2018-11-14 00:00:00.000 and 2018-11-27 23:30:00.000. Total of 147.00 hours of dark\n",
      "INFO:root:source is visible for a total of 0.000 hours. Took 1.23e+00 sec\n"
     ]
    },
    {
     "name": "stdout",
     "output_type": "stream",
     "text": [
      "Not enough visibility\n"
     ]
    },
    {
     "name": "stderr",
     "output_type": "stream",
     "text": [
      "INFO:root:computing visibility of source at (ra: 261.967644, dec: 60.095504) from observatory uh88\n",
      "INFO:root:using visibility constraints:\n",
      "\t\t\t\t\t-Time resolution: 30.00 min\n",
      "\t\t\t\t\t-Airmass limit: 2.00\n",
      "\t\t\t\t\t-Sun altitude: -17.00 deg\n",
      "\t\t\t\t\t-Moon distance: 30.00 deg\n"
     ]
    },
    {
     "name": "stdout",
     "output_type": "stream",
     "text": [
      "  obj_id                objID          ra       dec  psfMag_u  psfMagerr_u  \\\n",
      "0  obj_0  1237662474228924588  239.193127  35.02507  20.41956     0.052576   \n",
      "\n",
      "   psfMag_g  psfMagerr_g  psfMag_r  psfMagerr_r  psfMag_i  psfMagerr_i  \\\n",
      "0  18.39577     0.019346  17.47792     0.013415  17.10225     0.014796   \n",
      "\n",
      "   psfMag_z  psfMagerr_z              obj_id1    type  \n",
      "0  16.78304      0.02752  1237662474228924588  GALAXY  \n",
      "Calculating visibility of source ZTF18aajtlbf (ra: 261.967644, dec: 60.095504) with uh88.\n"
     ]
    },
    {
     "name": "stderr",
     "output_type": "stream",
     "text": [
      "INFO:root:computed dark times (sun_alt: -17.00) between 2018-11-14 00:00:00.000 and 2018-11-27 23:30:00.000. Total of 147.00 hours of dark\n",
      "INFO:root:source is visible for a total of 0.000 hours. Took 1.21e+00 sec\n"
     ]
    },
    {
     "name": "stdout",
     "output_type": "stream",
     "text": [
      "Not enough visibility\n"
     ]
    },
    {
     "name": "stderr",
     "output_type": "stream",
     "text": [
      "INFO:root:computing visibility of source at (ra: 198.274495, dec: 23.459515) from observatory uh88\n",
      "INFO:root:using visibility constraints:\n",
      "\t\t\t\t\t-Time resolution: 30.00 min\n",
      "\t\t\t\t\t-Airmass limit: 2.00\n",
      "\t\t\t\t\t-Sun altitude: -17.00 deg\n",
      "\t\t\t\t\t-Moon distance: 30.00 deg\n"
     ]
    },
    {
     "name": "stdout",
     "output_type": "stream",
     "text": [
      "Empty DataFrame\n",
      "Columns: [obj_id, objID, ra, dec, psfMag_u, psfMagerr_u, psfMag_g, psfMagerr_g, psfMag_r, psfMagerr_r, psfMag_i, psfMagerr_i, psfMag_z, psfMagerr_z, obj_id1, type]\n",
      "Index: []\n",
      "Calculating visibility of source ZTF18aahjafd (ra: 198.274495, dec: 23.459515) with uh88.\n"
     ]
    },
    {
     "name": "stderr",
     "output_type": "stream",
     "text": [
      "INFO:root:computed dark times (sun_alt: -17.00) between 2018-11-14 00:00:00.000 and 2018-11-27 23:30:00.000. Total of 147.00 hours of dark\n",
      "INFO:root:source is visible for a total of 2.500 hours. Took 1.22e+00 sec\n"
     ]
    },
    {
     "name": "stdout",
     "output_type": "stream",
     "text": [
      "Not enough visibility\n"
     ]
    },
    {
     "name": "stderr",
     "output_type": "stream",
     "text": [
      "INFO:root:computing visibility of source at (ra: 124.917826, dec: 27.530440) from observatory uh88\n",
      "INFO:root:using visibility constraints:\n",
      "\t\t\t\t\t-Time resolution: 30.00 min\n",
      "\t\t\t\t\t-Airmass limit: 2.00\n",
      "\t\t\t\t\t-Sun altitude: -17.00 deg\n",
      "\t\t\t\t\t-Moon distance: 30.00 deg\n"
     ]
    },
    {
     "name": "stdout",
     "output_type": "stream",
     "text": [
      "  obj_id                objID          ra        dec  psfMag_u  psfMagerr_u  \\\n",
      "0  obj_0  1237667446198304861  198.274416  23.459349  20.29909     0.048111   \n",
      "\n",
      "   psfMag_g  psfMagerr_g  psfMag_r  psfMagerr_r  psfMag_i  psfMagerr_i  \\\n",
      "0   18.7775      0.01837  18.13507     0.020546  17.81314     0.017171   \n",
      "\n",
      "   psfMag_z  psfMagerr_z              obj_id1    type  \n",
      "0  17.53908     0.021433  1237667446198304861  GALAXY  \n",
      "Calculating visibility of source ZTF18aajwdwz (ra: 124.917826, dec: 27.530440) with uh88.\n"
     ]
    },
    {
     "name": "stderr",
     "output_type": "stream",
     "text": [
      "INFO:root:computed dark times (sun_alt: -17.00) between 2018-11-14 00:00:00.000 and 2018-11-27 23:30:00.000. Total of 147.00 hours of dark\n",
      "INFO:root:Too close the the moon.\n",
      "INFO:root:source is visible for a total of 55.000 hours. Took 1.22e+00 sec\n",
      "INFO:root:computing visibility of source at (ra: 193.455971, dec: 29.590753) from observatory uh88\n",
      "INFO:root:using visibility constraints:\n",
      "\t\t\t\t\t-Time resolution: 30.00 min\n",
      "\t\t\t\t\t-Airmass limit: 2.00\n",
      "\t\t\t\t\t-Sun altitude: -17.00 deg\n",
      "\t\t\t\t\t-Moon distance: 30.00 deg\n"
     ]
    },
    {
     "name": "stdout",
     "output_type": "stream",
     "text": [
      "Empty DataFrame\n",
      "Columns: [obj_id, objID, ra, dec, psfMag_u, psfMagerr_u, psfMag_g, psfMagerr_g, psfMag_r, psfMagerr_r, psfMag_i, psfMagerr_i, psfMag_z, psfMagerr_z, obj_id1, type]\n",
      "Index: []\n",
      "Calculating visibility of source ZTF18aahjaxz (ra: 193.455971, dec: 29.590753) with uh88.\n"
     ]
    },
    {
     "name": "stderr",
     "output_type": "stream",
     "text": [
      "INFO:root:computed dark times (sun_alt: -17.00) between 2018-11-14 00:00:00.000 and 2018-11-27 23:30:00.000. Total of 147.00 hours of dark\n",
      "INFO:root:source is visible for a total of 7.500 hours. Took 1.22e+00 sec\n",
      "INFO:root:computing visibility of source at (ra: 196.869461, dec: 21.469759) from observatory uh88\n",
      "INFO:root:using visibility constraints:\n",
      "\t\t\t\t\t-Time resolution: 30.00 min\n",
      "\t\t\t\t\t-Airmass limit: 2.00\n",
      "\t\t\t\t\t-Sun altitude: -17.00 deg\n",
      "\t\t\t\t\t-Moon distance: 30.00 deg\n"
     ]
    },
    {
     "name": "stdout",
     "output_type": "stream",
     "text": [
      "  obj_id                objID          ra        dec  psfMag_u  psfMagerr_u  \\\n",
      "0  obj_0  1237667254019031160  193.456779  29.591658  22.72389     0.294225   \n",
      "\n",
      "   psfMag_g  psfMagerr_g  psfMag_r  psfMagerr_r  psfMag_i  psfMagerr_i  \\\n",
      "0  23.49606     0.245046   22.7702     0.291456  22.92416     0.483386   \n",
      "\n",
      "   psfMag_z  psfMagerr_z              obj_id1  type  \n",
      "0  22.14206     0.583509  1237667254019031160  STAR  \n",
      "Calculating visibility of source ZTF18aajnrgu (ra: 196.869461, dec: 21.469759) with uh88.\n"
     ]
    },
    {
     "name": "stderr",
     "output_type": "stream",
     "text": [
      "INFO:root:computed dark times (sun_alt: -17.00) between 2018-11-14 00:00:00.000 and 2018-11-27 23:30:00.000. Total of 147.00 hours of dark\n",
      "INFO:root:source is visible for a total of 3.000 hours. Took 1.25e+00 sec\n"
     ]
    },
    {
     "name": "stdout",
     "output_type": "stream",
     "text": [
      "Not enough visibility\n"
     ]
    },
    {
     "name": "stderr",
     "output_type": "stream",
     "text": [
      "INFO:root:computing visibility of source at (ra: 219.374148, dec: 43.674197) from observatory uh88\n",
      "INFO:root:using visibility constraints:\n",
      "\t\t\t\t\t-Time resolution: 30.00 min\n",
      "\t\t\t\t\t-Airmass limit: 2.00\n",
      "\t\t\t\t\t-Sun altitude: -17.00 deg\n",
      "\t\t\t\t\t-Moon distance: 30.00 deg\n"
     ]
    },
    {
     "name": "stdout",
     "output_type": "stream",
     "text": [
      "Empty DataFrame\n",
      "Columns: [obj_id, objID, ra, dec, psfMag_u, psfMagerr_u, psfMag_g, psfMagerr_g, psfMag_r, psfMagerr_r, psfMag_i, psfMagerr_i, psfMag_z, psfMagerr_z, obj_id1, type]\n",
      "Index: []\n",
      "Calculating visibility of source ZTF18aajnyyp (ra: 219.374148, dec: 43.674197) with uh88.\n"
     ]
    },
    {
     "name": "stderr",
     "output_type": "stream",
     "text": [
      "INFO:root:computed dark times (sun_alt: -17.00) between 2018-11-14 00:00:00.000 and 2018-11-27 23:30:00.000. Total of 147.00 hours of dark\n",
      "INFO:root:source is visible for a total of 0.000 hours. Took 1.22e+00 sec\n"
     ]
    },
    {
     "name": "stdout",
     "output_type": "stream",
     "text": [
      "Not enough visibility\n"
     ]
    },
    {
     "name": "stderr",
     "output_type": "stream",
     "text": [
      "INFO:root:computing visibility of source at (ra: 181.952339, dec: 22.597210) from observatory uh88\n",
      "INFO:root:using visibility constraints:\n",
      "\t\t\t\t\t-Time resolution: 30.00 min\n",
      "\t\t\t\t\t-Airmass limit: 2.00\n",
      "\t\t\t\t\t-Sun altitude: -17.00 deg\n",
      "\t\t\t\t\t-Moon distance: 30.00 deg\n"
     ]
    },
    {
     "name": "stdout",
     "output_type": "stream",
     "text": [
      "  obj_id                objID         ra        dec  psfMag_u  psfMagerr_u  \\\n",
      "0  obj_0  1237661210434928646  219.37415  43.674049  20.21893     0.039368   \n",
      "\n",
      "   psfMag_g  psfMagerr_g  psfMag_r  psfMagerr_r  psfMag_i  psfMagerr_i  \\\n",
      "0  18.77477     0.019023  18.11568     0.014217  17.69479     0.014116   \n",
      "\n",
      "   psfMag_z  psfMagerr_z              obj_id1    type  \n",
      "0  17.22809     0.021096  1237661210434928646  GALAXY  \n",
      "Calculating visibility of source ZTF18aahsmrw (ra: 181.952339, dec: 22.597210) with uh88.\n"
     ]
    },
    {
     "name": "stderr",
     "output_type": "stream",
     "text": [
      "INFO:root:computed dark times (sun_alt: -17.00) between 2018-11-14 00:00:00.000 and 2018-11-27 23:30:00.000. Total of 147.00 hours of dark\n",
      "INFO:root:source is visible for a total of 17.500 hours. Took 1.23e+00 sec\n",
      "INFO:root:computing visibility of source at (ra: 159.649486, dec: 35.971413) from observatory uh88\n",
      "INFO:root:using visibility constraints:\n",
      "\t\t\t\t\t-Time resolution: 30.00 min\n",
      "\t\t\t\t\t-Airmass limit: 2.00\n",
      "\t\t\t\t\t-Sun altitude: -17.00 deg\n",
      "\t\t\t\t\t-Moon distance: 30.00 deg\n"
     ]
    },
    {
     "name": "stdout",
     "output_type": "stream",
     "text": [
      "  obj_id                objID          ra       dec  psfMag_u  psfMagerr_u  \\\n",
      "0  obj_0  1237667782833537144  181.952348  22.59715   20.5487     0.071749   \n",
      "\n",
      "   psfMag_g  psfMagerr_g  psfMag_r  psfMagerr_r  psfMag_i  psfMagerr_i  \\\n",
      "0   18.8347     0.024158  18.03197     0.019528  17.64329     0.022784   \n",
      "\n",
      "   psfMag_z  psfMagerr_z              obj_id1    type  \n",
      "0   17.3075     0.028017  1237667782833537144  GALAXY  \n",
      "Calculating visibility of source ZTF18aajhdsz (ra: 159.649486, dec: 35.971413) with uh88.\n"
     ]
    },
    {
     "name": "stderr",
     "output_type": "stream",
     "text": [
      "INFO:root:computed dark times (sun_alt: -17.00) between 2018-11-14 00:00:00.000 and 2018-11-27 23:30:00.000. Total of 147.00 hours of dark\n",
      "INFO:root:source is visible for a total of 40.000 hours. Took 1.22e+00 sec\n",
      "INFO:root:computing visibility of source at (ra: 210.015779, dec: 61.085658) from observatory uh88\n",
      "INFO:root:using visibility constraints:\n",
      "\t\t\t\t\t-Time resolution: 30.00 min\n",
      "\t\t\t\t\t-Airmass limit: 2.00\n",
      "\t\t\t\t\t-Sun altitude: -17.00 deg\n",
      "\t\t\t\t\t-Moon distance: 30.00 deg\n"
     ]
    },
    {
     "name": "stdout",
     "output_type": "stream",
     "text": [
      "  obj_id                objID          ra        dec  psfMag_u  psfMagerr_u  \\\n",
      "0  obj_0  1237664880493789327  159.649919  35.971281  20.30145     0.069133   \n",
      "\n",
      "   psfMag_g  psfMagerr_g  psfMag_r  psfMagerr_r  psfMag_i  psfMagerr_i  \\\n",
      "0  19.26885      0.03153  19.04097     0.020724  18.92278     0.015467   \n",
      "\n",
      "   psfMag_z  psfMagerr_z              obj_id1    type  \n",
      "0   18.8522     0.040098  1237664880493789327  GALAXY  \n",
      "Calculating visibility of source ZTF18aakdyym (ra: 210.015779, dec: 61.085658) with uh88.\n"
     ]
    },
    {
     "name": "stderr",
     "output_type": "stream",
     "text": [
      "INFO:root:computed dark times (sun_alt: -17.00) between 2018-11-14 00:00:00.000 and 2018-11-27 23:30:00.000. Total of 147.00 hours of dark\n",
      "INFO:root:source is visible for a total of 0.000 hours. Took 1.22e+00 sec\n"
     ]
    },
    {
     "name": "stdout",
     "output_type": "stream",
     "text": [
      "Not enough visibility\n"
     ]
    },
    {
     "name": "stderr",
     "output_type": "stream",
     "text": [
      "INFO:root:computing visibility of source at (ra: 260.479411, dec: 29.309323) from observatory uh88\n",
      "INFO:root:using visibility constraints:\n",
      "\t\t\t\t\t-Time resolution: 30.00 min\n",
      "\t\t\t\t\t-Airmass limit: 2.00\n",
      "\t\t\t\t\t-Sun altitude: -17.00 deg\n",
      "\t\t\t\t\t-Moon distance: 30.00 deg\n"
     ]
    },
    {
     "name": "stdout",
     "output_type": "stream",
     "text": [
      "  obj_id                objID          ra        dec  psfMag_u  psfMagerr_u  \\\n",
      "0  obj_0  1237655465921347758  210.017004  61.085716  21.10028     0.082106   \n",
      "\n",
      "   psfMag_g  psfMagerr_g  psfMag_r  psfMagerr_r  psfMag_i  psfMagerr_i  \\\n",
      "0  20.37174     0.026023  20.01885      0.02455   19.8196     0.026241   \n",
      "\n",
      "   psfMag_z  psfMagerr_z              obj_id1    type  \n",
      "0  19.70106     0.075034  1237655465921347758  GALAXY  \n",
      "Calculating visibility of source ZTF18aakzliv (ra: 260.479411, dec: 29.309323) with uh88.\n"
     ]
    },
    {
     "name": "stderr",
     "output_type": "stream",
     "text": [
      "INFO:root:computed dark times (sun_alt: -17.00) between 2018-11-14 00:00:00.000 and 2018-11-27 23:30:00.000. Total of 147.00 hours of dark\n",
      "INFO:root:source is visible for a total of 0.000 hours. Took 1.22e+00 sec\n"
     ]
    },
    {
     "name": "stdout",
     "output_type": "stream",
     "text": [
      "Not enough visibility\n"
     ]
    },
    {
     "name": "stderr",
     "output_type": "stream",
     "text": [
      "INFO:root:computing visibility of source at (ra: 266.986056, dec: 34.932628) from observatory uh88\n",
      "INFO:root:using visibility constraints:\n",
      "\t\t\t\t\t-Time resolution: 30.00 min\n",
      "\t\t\t\t\t-Airmass limit: 2.00\n",
      "\t\t\t\t\t-Sun altitude: -17.00 deg\n",
      "\t\t\t\t\t-Moon distance: 30.00 deg\n"
     ]
    },
    {
     "name": "stdout",
     "output_type": "stream",
     "text": [
      "Empty DataFrame\n",
      "Columns: [obj_id, objID, ra, dec, psfMag_u, psfMagerr_u, psfMag_g, psfMagerr_g, psfMag_r, psfMagerr_r, psfMag_i, psfMagerr_i, psfMag_z, psfMagerr_z, obj_id1, type]\n",
      "Index: []\n",
      "Calculating visibility of source ZTF18aamlqqh (ra: 266.986056, dec: 34.932628) with uh88.\n"
     ]
    },
    {
     "name": "stderr",
     "output_type": "stream",
     "text": [
      "INFO:root:computed dark times (sun_alt: -17.00) between 2018-11-14 00:00:00.000 and 2018-11-27 23:30:00.000. Total of 147.00 hours of dark\n",
      "INFO:root:source is visible for a total of 2.000 hours. Took 1.23e+00 sec\n"
     ]
    },
    {
     "name": "stdout",
     "output_type": "stream",
     "text": [
      "Not enough visibility\n"
     ]
    },
    {
     "name": "stderr",
     "output_type": "stream",
     "text": [
      "INFO:root:computing visibility of source at (ra: 269.959361, dec: 40.826166) from observatory uh88\n",
      "INFO:root:using visibility constraints:\n",
      "\t\t\t\t\t-Time resolution: 30.00 min\n",
      "\t\t\t\t\t-Airmass limit: 2.00\n",
      "\t\t\t\t\t-Sun altitude: -17.00 deg\n",
      "\t\t\t\t\t-Moon distance: 30.00 deg\n"
     ]
    },
    {
     "name": "stdout",
     "output_type": "stream",
     "text": [
      "Empty DataFrame\n",
      "Columns: [obj_id, objID, ra, dec, psfMag_u, psfMagerr_u, psfMag_g, psfMagerr_g, psfMag_r, psfMagerr_r, psfMag_i, psfMagerr_i, psfMag_z, psfMagerr_z, obj_id1, type]\n",
      "Index: []\n",
      "Calculating visibility of source ZTF18aalcxig (ra: 269.959361, dec: 40.826166) with uh88.\n"
     ]
    },
    {
     "name": "stderr",
     "output_type": "stream",
     "text": [
      "INFO:root:computed dark times (sun_alt: -17.00) between 2018-11-14 00:00:00.000 and 2018-11-27 23:30:00.000. Total of 147.00 hours of dark\n",
      "INFO:root:source is visible for a total of 4.000 hours. Took 1.23e+00 sec\n"
     ]
    },
    {
     "name": "stdout",
     "output_type": "stream",
     "text": [
      "Not enough visibility\n"
     ]
    },
    {
     "name": "stderr",
     "output_type": "stream",
     "text": [
      "INFO:root:computing visibility of source at (ra: 273.907192, dec: 38.069302) from observatory uh88\n",
      "INFO:root:using visibility constraints:\n",
      "\t\t\t\t\t-Time resolution: 30.00 min\n",
      "\t\t\t\t\t-Airmass limit: 2.00\n",
      "\t\t\t\t\t-Sun altitude: -17.00 deg\n",
      "\t\t\t\t\t-Moon distance: 30.00 deg\n"
     ]
    },
    {
     "name": "stdout",
     "output_type": "stream",
     "text": [
      "  obj_id                objID          ra        dec  psfMag_u  psfMagerr_u  \\\n",
      "0  obj_0  1237659898328777216  269.959564  40.826819  22.39458     0.293145   \n",
      "\n",
      "   psfMag_g  psfMagerr_g  psfMag_r  psfMagerr_r  psfMag_i  psfMagerr_i  \\\n",
      "0   25.1139     2.212232  24.80188     3.388229  24.36189     2.633303   \n",
      "\n",
      "   psfMag_z  psfMagerr_z              obj_id1    type  \n",
      "0  22.82687     1.337201  1237659898328777216  GALAXY  \n",
      "Calculating visibility of source ZTF18aaohzei (ra: 273.907192, dec: 38.069302) with uh88.\n"
     ]
    },
    {
     "name": "stderr",
     "output_type": "stream",
     "text": [
      "INFO:root:computed dark times (sun_alt: -17.00) between 2018-11-14 00:00:00.000 and 2018-11-27 23:30:00.000. Total of 147.00 hours of dark\n",
      "INFO:root:source is visible for a total of 8.000 hours. Took 1.23e+00 sec\n",
      "INFO:root:computing visibility of source at (ra: 254.714855, dec: 30.185013) from observatory uh88\n",
      "INFO:root:using visibility constraints:\n",
      "\t\t\t\t\t-Time resolution: 30.00 min\n",
      "\t\t\t\t\t-Airmass limit: 2.00\n",
      "\t\t\t\t\t-Sun altitude: -17.00 deg\n",
      "\t\t\t\t\t-Moon distance: 30.00 deg\n"
     ]
    },
    {
     "name": "stdout",
     "output_type": "stream",
     "text": [
      "Empty DataFrame\n",
      "Columns: [obj_id, objID, ra, dec, psfMag_u, psfMagerr_u, psfMag_g, psfMagerr_g, psfMag_r, psfMagerr_r, psfMag_i, psfMagerr_i, psfMag_z, psfMagerr_z, obj_id1, type]\n",
      "Index: []\n",
      "Calculating visibility of source ZTF18aaommeg (ra: 254.714855, dec: 30.185013) with uh88.\n"
     ]
    },
    {
     "name": "stderr",
     "output_type": "stream",
     "text": [
      "INFO:root:computed dark times (sun_alt: -17.00) between 2018-11-14 00:00:00.000 and 2018-11-27 23:30:00.000. Total of 147.00 hours of dark\n",
      "INFO:root:source is visible for a total of 0.000 hours. Took 1.26e+00 sec\n"
     ]
    },
    {
     "name": "stdout",
     "output_type": "stream",
     "text": [
      "Not enough visibility\n"
     ]
    },
    {
     "name": "stderr",
     "output_type": "stream",
     "text": [
      "INFO:root:computing visibility of source at (ra: 181.361107, dec: 20.299052) from observatory uh88\n",
      "INFO:root:using visibility constraints:\n",
      "\t\t\t\t\t-Time resolution: 30.00 min\n",
      "\t\t\t\t\t-Airmass limit: 2.00\n",
      "\t\t\t\t\t-Sun altitude: -17.00 deg\n",
      "\t\t\t\t\t-Moon distance: 30.00 deg\n"
     ]
    },
    {
     "name": "stdout",
     "output_type": "stream",
     "text": [
      "  obj_id                objID          ra        dec  psfMag_u  psfMagerr_u  \\\n",
      "0  obj_0  1237659324960473637  254.714789  30.185212  22.45096     0.269449   \n",
      "\n",
      "   psfMag_g  psfMagerr_g  psfMag_r  psfMagerr_r  psfMag_i  psfMagerr_i  \\\n",
      "0  20.78133     0.031852  19.82247     0.026419  19.41349     0.027615   \n",
      "\n",
      "   psfMag_z  psfMagerr_z              obj_id1    type  \n",
      "0  18.92943     0.044696  1237659324960473637  GALAXY  \n",
      "Calculating visibility of source ZTF18aahfzea (ra: 181.361107, dec: 20.299052) with uh88.\n"
     ]
    },
    {
     "name": "stderr",
     "output_type": "stream",
     "text": [
      "INFO:root:computed dark times (sun_alt: -17.00) between 2018-11-14 00:00:00.000 and 2018-11-27 23:30:00.000. Total of 147.00 hours of dark\n",
      "INFO:root:source is visible for a total of 17.500 hours. Took 1.21e+00 sec\n",
      "INFO:root:computing visibility of source at (ra: 203.773276, dec: 53.875198) from observatory uh88\n",
      "INFO:root:using visibility constraints:\n",
      "\t\t\t\t\t-Time resolution: 30.00 min\n",
      "\t\t\t\t\t-Airmass limit: 2.00\n",
      "\t\t\t\t\t-Sun altitude: -17.00 deg\n",
      "\t\t\t\t\t-Moon distance: 30.00 deg\n"
     ]
    },
    {
     "name": "stdout",
     "output_type": "stream",
     "text": [
      "  obj_id                objID          ra        dec  psfMag_u  psfMagerr_u  \\\n",
      "0  obj_0  1237667915955700023  181.361271  20.298693  24.19345     0.762958   \n",
      "\n",
      "   psfMag_g  psfMagerr_g  psfMag_r  psfMagerr_r  psfMag_i  psfMagerr_i  \\\n",
      "0  24.16511     0.339991  23.27281     0.373807  24.34816     0.452697   \n",
      "\n",
      "   psfMag_z  psfMagerr_z              obj_id1  type  \n",
      "0  23.22495     0.434858  1237667915955700023  STAR  \n",
      "Calculating visibility of source ZTF18aakecej (ra: 203.773276, dec: 53.875198) with uh88.\n"
     ]
    },
    {
     "name": "stderr",
     "output_type": "stream",
     "text": [
      "INFO:root:computed dark times (sun_alt: -17.00) between 2018-11-14 00:00:00.000 and 2018-11-27 23:30:00.000. Total of 147.00 hours of dark\n",
      "INFO:root:source is visible for a total of 1.000 hours. Took 1.21e+00 sec\n"
     ]
    },
    {
     "name": "stdout",
     "output_type": "stream",
     "text": [
      "Not enough visibility\n"
     ]
    },
    {
     "name": "stderr",
     "output_type": "stream",
     "text": [
      "INFO:root:computing visibility of source at (ra: 184.510567, dec: 19.620815) from observatory uh88\n",
      "INFO:root:using visibility constraints:\n",
      "\t\t\t\t\t-Time resolution: 30.00 min\n",
      "\t\t\t\t\t-Airmass limit: 2.00\n",
      "\t\t\t\t\t-Sun altitude: -17.00 deg\n",
      "\t\t\t\t\t-Moon distance: 30.00 deg\n"
     ]
    },
    {
     "name": "stdout",
     "output_type": "stream",
     "text": [
      "Empty DataFrame\n",
      "Columns: [obj_id, objID, ra, dec, psfMag_u, psfMagerr_u, psfMag_g, psfMagerr_g, psfMag_r, psfMagerr_r, psfMag_i, psfMagerr_i, psfMag_z, psfMagerr_z, obj_id1, type]\n",
      "Index: []\n",
      "Calculating visibility of source ZTF18aakcsqt (ra: 184.510567, dec: 19.620815) with uh88.\n"
     ]
    },
    {
     "name": "stderr",
     "output_type": "stream",
     "text": [
      "INFO:root:computed dark times (sun_alt: -17.00) between 2018-11-14 00:00:00.000 and 2018-11-27 23:30:00.000. Total of 147.00 hours of dark\n",
      "INFO:root:source is visible for a total of 14.000 hours. Took 1.24e+00 sec\n",
      "INFO:root:computing visibility of source at (ra: 187.323299, dec: 6.341142) from observatory uh88\n",
      "INFO:root:using visibility constraints:\n",
      "\t\t\t\t\t-Time resolution: 30.00 min\n",
      "\t\t\t\t\t-Airmass limit: 2.00\n",
      "\t\t\t\t\t-Sun altitude: -17.00 deg\n",
      "\t\t\t\t\t-Moon distance: 30.00 deg\n"
     ]
    },
    {
     "name": "stdout",
     "output_type": "stream",
     "text": [
      "  obj_id                objID          ra        dec  psfMag_u  psfMagerr_u  \\\n",
      "0  obj_0  1237668297667051874  184.510669  19.620606   22.5028     0.248619   \n",
      "\n",
      "   psfMag_g  psfMagerr_g  psfMag_r  psfMagerr_r  psfMag_i  psfMagerr_i  \\\n",
      "0  21.75568     0.060789  21.28906     0.051798  21.29848     0.069058   \n",
      "\n",
      "   psfMag_z  psfMagerr_z              obj_id1    type  \n",
      "0  20.82304     0.179724  1237668297667051874  GALAXY  \n",
      "Calculating visibility of source ZTF18aaphzut (ra: 187.323299, dec: 6.341142) with uh88.\n"
     ]
    },
    {
     "name": "stderr",
     "output_type": "stream",
     "text": [
      "INFO:root:computed dark times (sun_alt: -17.00) between 2018-11-14 00:00:00.000 and 2018-11-27 23:30:00.000. Total of 147.00 hours of dark\n",
      "INFO:root:source is visible for a total of 8.000 hours. Took 1.24e+00 sec\n",
      "INFO:root:computing visibility of source at (ra: 179.904165, dec: 27.530583) from observatory uh88\n",
      "INFO:root:using visibility constraints:\n",
      "\t\t\t\t\t-Time resolution: 30.00 min\n",
      "\t\t\t\t\t-Airmass limit: 2.00\n",
      "\t\t\t\t\t-Sun altitude: -17.00 deg\n",
      "\t\t\t\t\t-Moon distance: 30.00 deg\n"
     ]
    },
    {
     "name": "stdout",
     "output_type": "stream",
     "text": [
      "  obj_id                objID          ra       dec  psfMag_u  psfMagerr_u  \\\n",
      "0  obj_0  1237661970112840095  187.323132  6.341091  23.04366     0.331316   \n",
      "\n",
      "   psfMag_g  psfMagerr_g  psfMag_r  psfMagerr_r  psfMag_i  psfMagerr_i  \\\n",
      "0   20.9413     0.035627  20.06908     0.025057   19.6132      0.02348   \n",
      "\n",
      "   psfMag_z  psfMagerr_z              obj_id1    type  \n",
      "0  19.16137     0.042182  1237661970112840095  GALAXY  \n",
      "Calculating visibility of source ZTF18aapictz (ra: 179.904165, dec: 27.530583) with uh88.\n"
     ]
    },
    {
     "name": "stderr",
     "output_type": "stream",
     "text": [
      "INFO:root:computed dark times (sun_alt: -17.00) between 2018-11-14 00:00:00.000 and 2018-11-27 23:30:00.000. Total of 147.00 hours of dark\n",
      "INFO:root:source is visible for a total of 20.000 hours. Took 1.23e+00 sec\n",
      "INFO:root:computing visibility of source at (ra: 198.097902, dec: 47.450720) from observatory uh88\n",
      "INFO:root:using visibility constraints:\n",
      "\t\t\t\t\t-Time resolution: 30.00 min\n",
      "\t\t\t\t\t-Airmass limit: 2.00\n",
      "\t\t\t\t\t-Sun altitude: -17.00 deg\n",
      "\t\t\t\t\t-Moon distance: 30.00 deg\n"
     ]
    },
    {
     "name": "stdout",
     "output_type": "stream",
     "text": [
      "  obj_id                objID          ra        dec  psfMag_u  psfMagerr_u  \\\n",
      "0  obj_0  1237667323254997927  179.904474  27.530755  22.32595     0.200939   \n",
      "\n",
      "   psfMag_g  psfMagerr_g  psfMag_r  psfMagerr_r  psfMag_i  psfMagerr_i  \\\n",
      "0  22.10789     0.067528  22.03641     0.104805  21.80724      0.12828   \n",
      "\n",
      "   psfMag_z  psfMagerr_z              obj_id1    type  \n",
      "0  21.90862     0.480519  1237667323254997927  GALAXY  \n",
      "Calculating visibility of source ZTF18aaqcqve (ra: 198.097902, dec: 47.450720) with uh88.\n"
     ]
    },
    {
     "name": "stderr",
     "output_type": "stream",
     "text": [
      "INFO:root:computed dark times (sun_alt: -17.00) between 2018-11-14 00:00:00.000 and 2018-11-27 23:30:00.000. Total of 147.00 hours of dark\n",
      "INFO:root:source is visible for a total of 4.500 hours. Took 1.24e+00 sec\n"
     ]
    },
    {
     "name": "stdout",
     "output_type": "stream",
     "text": [
      "Not enough visibility\n"
     ]
    },
    {
     "name": "stderr",
     "output_type": "stream",
     "text": [
      "INFO:root:computing visibility of source at (ra: 178.049330, dec: 51.360146) from observatory uh88\n",
      "INFO:root:using visibility constraints:\n",
      "\t\t\t\t\t-Time resolution: 30.00 min\n",
      "\t\t\t\t\t-Airmass limit: 2.00\n",
      "\t\t\t\t\t-Sun altitude: -17.00 deg\n",
      "\t\t\t\t\t-Moon distance: 30.00 deg\n"
     ]
    },
    {
     "name": "stdout",
     "output_type": "stream",
     "text": [
      "  obj_id                objID          ra        dec  psfMag_u  psfMagerr_u  \\\n",
      "0  obj_0  1237661435385938656  198.098011  47.450702  23.30411     0.357984   \n",
      "\n",
      "   psfMag_g  psfMagerr_g  psfMag_r  psfMagerr_r  psfMag_i  psfMagerr_i  \\\n",
      "0  22.68668     0.098353  22.02231     0.079528  21.79187     0.101693   \n",
      "\n",
      "   psfMag_z  psfMagerr_z              obj_id1    type  \n",
      "0  21.31992     0.226277  1237661435385938656  GALAXY  \n",
      "Calculating visibility of source ZTF18aaobguk (ra: 178.049330, dec: 51.360146) with uh88.\n"
     ]
    },
    {
     "name": "stderr",
     "output_type": "stream",
     "text": [
      "INFO:root:computed dark times (sun_alt: -17.00) between 2018-11-14 00:00:00.000 and 2018-11-27 23:30:00.000. Total of 147.00 hours of dark\n",
      "INFO:root:source is visible for a total of 23.500 hours. Took 1.24e+00 sec\n",
      "INFO:root:computing visibility of source at (ra: 269.417710, dec: 50.038652) from observatory uh88\n",
      "INFO:root:using visibility constraints:\n",
      "\t\t\t\t\t-Time resolution: 30.00 min\n",
      "\t\t\t\t\t-Airmass limit: 2.00\n",
      "\t\t\t\t\t-Sun altitude: -17.00 deg\n",
      "\t\t\t\t\t-Moon distance: 30.00 deg\n"
     ]
    },
    {
     "name": "stdout",
     "output_type": "stream",
     "text": [
      "  obj_id                objID          ra        dec  psfMag_u  psfMagerr_u  \\\n",
      "0  obj_0  1237657855535612055  178.050647  51.360084  22.13915     0.161494   \n",
      "\n",
      "   psfMag_g  psfMagerr_g  psfMag_r  psfMagerr_r  psfMag_i  psfMagerr_i  \\\n",
      "0  19.41739     0.017155  18.02601      0.01643  17.15179     0.016122   \n",
      "\n",
      "   psfMag_z  psfMagerr_z              obj_id1  type  \n",
      "0  16.72086     0.028765  1237657855535612055  STAR  \n",
      "Calculating visibility of source ZTF18aamigmk (ra: 269.417710, dec: 50.038652) with uh88.\n"
     ]
    },
    {
     "name": "stderr",
     "output_type": "stream",
     "text": [
      "INFO:root:computed dark times (sun_alt: -17.00) between 2018-11-14 00:00:00.000 and 2018-11-27 23:30:00.000. Total of 147.00 hours of dark\n",
      "INFO:root:source is visible for a total of 3.500 hours. Took 1.22e+00 sec\n"
     ]
    },
    {
     "name": "stdout",
     "output_type": "stream",
     "text": [
      "Not enough visibility\n"
     ]
    },
    {
     "name": "stderr",
     "output_type": "stream",
     "text": [
      "INFO:root:computing visibility of source at (ra: 199.858026, dec: 66.391852) from observatory uh88\n",
      "INFO:root:using visibility constraints:\n",
      "\t\t\t\t\t-Time resolution: 30.00 min\n",
      "\t\t\t\t\t-Airmass limit: 2.00\n",
      "\t\t\t\t\t-Sun altitude: -17.00 deg\n",
      "\t\t\t\t\t-Moon distance: 30.00 deg\n"
     ]
    },
    {
     "name": "stdout",
     "output_type": "stream",
     "text": [
      "Empty DataFrame\n",
      "Columns: [obj_id, objID, ra, dec, psfMag_u, psfMagerr_u, psfMag_g, psfMagerr_g, psfMag_r, psfMagerr_r, psfMag_i, psfMagerr_i, psfMag_z, psfMagerr_z, obj_id1, type]\n",
      "Index: []\n",
      "Calculating visibility of source ZTF18aaocqhe (ra: 199.858026, dec: 66.391852) with uh88.\n"
     ]
    },
    {
     "name": "stderr",
     "output_type": "stream",
     "text": [
      "INFO:root:computed dark times (sun_alt: -17.00) between 2018-11-14 00:00:00.000 and 2018-11-27 23:30:00.000. Total of 147.00 hours of dark\n",
      "INFO:root:source is visible for a total of 1.000 hours. Took 1.22e+00 sec\n"
     ]
    },
    {
     "name": "stdout",
     "output_type": "stream",
     "text": [
      "Not enough visibility\n"
     ]
    },
    {
     "name": "stderr",
     "output_type": "stream",
     "text": [
      "INFO:root:computing visibility of source at (ra: 223.206415, dec: 18.080267) from observatory uh88\n",
      "INFO:root:using visibility constraints:\n",
      "\t\t\t\t\t-Time resolution: 30.00 min\n",
      "\t\t\t\t\t-Airmass limit: 2.00\n",
      "\t\t\t\t\t-Sun altitude: -17.00 deg\n",
      "\t\t\t\t\t-Moon distance: 30.00 deg\n"
     ]
    },
    {
     "name": "stdout",
     "output_type": "stream",
     "text": [
      "  obj_id                objID          ra        dec  psfMag_u  psfMagerr_u  \\\n",
      "0  obj_0  1237651272440021114  199.857966  66.392082  21.02988      0.08191   \n",
      "\n",
      "   psfMag_g  psfMagerr_g  psfMag_r  psfMagerr_r  psfMag_i  psfMagerr_i  \\\n",
      "0  19.92871     0.025388  19.44264     0.017155   19.1598     0.021916   \n",
      "\n",
      "   psfMag_z  psfMagerr_z              obj_id1    type  \n",
      "0  18.90039     0.048595  1237651272440021114  GALAXY  \n",
      "Calculating visibility of source ZTF18aaotzhu (ra: 223.206415, dec: 18.080267) with uh88.\n"
     ]
    },
    {
     "name": "stderr",
     "output_type": "stream",
     "text": [
      "INFO:root:computed dark times (sun_alt: -17.00) between 2018-11-14 00:00:00.000 and 2018-11-27 23:30:00.000. Total of 147.00 hours of dark\n",
      "INFO:root:source is visible for a total of 0.000 hours. Took 1.22e+00 sec\n"
     ]
    },
    {
     "name": "stdout",
     "output_type": "stream",
     "text": [
      "Not enough visibility\n"
     ]
    },
    {
     "name": "stderr",
     "output_type": "stream",
     "text": [
      "INFO:root:computing visibility of source at (ra: 250.710025, dec: 43.662580) from observatory uh88\n",
      "INFO:root:using visibility constraints:\n",
      "\t\t\t\t\t-Time resolution: 30.00 min\n",
      "\t\t\t\t\t-Airmass limit: 2.00\n",
      "\t\t\t\t\t-Sun altitude: -17.00 deg\n",
      "\t\t\t\t\t-Moon distance: 30.00 deg\n"
     ]
    },
    {
     "name": "stdout",
     "output_type": "stream",
     "text": [
      "Empty DataFrame\n",
      "Columns: [obj_id, objID, ra, dec, psfMag_u, psfMagerr_u, psfMag_g, psfMagerr_g, psfMag_r, psfMagerr_r, psfMag_i, psfMagerr_i, psfMag_z, psfMagerr_z, obj_id1, type]\n",
      "Index: []\n",
      "Calculating visibility of source ZTF18aapuntm (ra: 250.710025, dec: 43.662580) with uh88.\n"
     ]
    },
    {
     "name": "stderr",
     "output_type": "stream",
     "text": [
      "INFO:root:computed dark times (sun_alt: -17.00) between 2018-11-14 00:00:00.000 and 2018-11-27 23:30:00.000. Total of 147.00 hours of dark\n",
      "INFO:root:source is visible for a total of 0.000 hours. Took 1.23e+00 sec\n"
     ]
    },
    {
     "name": "stdout",
     "output_type": "stream",
     "text": [
      "Not enough visibility\n"
     ]
    },
    {
     "name": "stderr",
     "output_type": "stream",
     "text": [
      "INFO:root:computing visibility of source at (ra: 196.510264, dec: 48.277352) from observatory uh88\n",
      "INFO:root:using visibility constraints:\n",
      "\t\t\t\t\t-Time resolution: 30.00 min\n",
      "\t\t\t\t\t-Airmass limit: 2.00\n",
      "\t\t\t\t\t-Sun altitude: -17.00 deg\n",
      "\t\t\t\t\t-Moon distance: 30.00 deg\n"
     ]
    },
    {
     "name": "stdout",
     "output_type": "stream",
     "text": [
      "  obj_id                objID          ra        dec  psfMag_u  psfMagerr_u  \\\n",
      "0  obj_0  1237651714262893067  250.709983  43.662622   23.2357     0.432418   \n",
      "\n",
      "   psfMag_g  psfMagerr_g  psfMag_r  psfMagerr_r  psfMag_i  psfMagerr_i  \\\n",
      "0  20.68643     0.027829  19.89726     0.021865  19.62589     0.022085   \n",
      "\n",
      "   psfMag_z  psfMagerr_z              obj_id1    type  \n",
      "0  19.26367     0.055535  1237651714262893067  GALAXY  \n",
      "Calculating visibility of source ZTF18aaqcqkv (ra: 196.510264, dec: 48.277352) with uh88.\n"
     ]
    },
    {
     "name": "stderr",
     "output_type": "stream",
     "text": [
      "INFO:root:computed dark times (sun_alt: -17.00) between 2018-11-14 00:00:00.000 and 2018-11-27 23:30:00.000. Total of 147.00 hours of dark\n",
      "INFO:root:source is visible for a total of 6.000 hours. Took 1.26e+00 sec\n",
      "INFO:root:computing visibility of source at (ra: 251.605444, dec: 25.421596) from observatory uh88\n",
      "INFO:root:using visibility constraints:\n",
      "\t\t\t\t\t-Time resolution: 30.00 min\n",
      "\t\t\t\t\t-Airmass limit: 2.00\n",
      "\t\t\t\t\t-Sun altitude: -17.00 deg\n",
      "\t\t\t\t\t-Moon distance: 30.00 deg\n"
     ]
    },
    {
     "name": "stdout",
     "output_type": "stream",
     "text": [
      "  obj_id                objID          ra        dec  psfMag_u  psfMagerr_u  \\\n",
      "0  obj_0  1237661149768187987  196.510349  48.277422  23.00625     0.303076   \n",
      "\n",
      "   psfMag_g  psfMagerr_g  psfMag_r  psfMagerr_r  psfMag_i  psfMagerr_i  \\\n",
      "0  21.03158     0.041579  20.03819     0.025013  19.62765     0.031566   \n",
      "\n",
      "   psfMag_z  psfMagerr_z              obj_id1    type  \n",
      "0  19.51438     0.079796  1237661149768187987  GALAXY  \n",
      "Calculating visibility of source ZTF18aapqwyv (ra: 251.605444, dec: 25.421596) with uh88.\n"
     ]
    },
    {
     "name": "stderr",
     "output_type": "stream",
     "text": [
      "INFO:root:computed dark times (sun_alt: -17.00) between 2018-11-14 00:00:00.000 and 2018-11-27 23:30:00.000. Total of 147.00 hours of dark\n",
      "INFO:root:source is visible for a total of 0.000 hours. Took 1.24e+00 sec\n"
     ]
    },
    {
     "name": "stdout",
     "output_type": "stream",
     "text": [
      "Not enough visibility\n"
     ]
    },
    {
     "name": "stderr",
     "output_type": "stream",
     "text": [
      "INFO:root:computing visibility of source at (ra: 174.146198, dec: 34.589528) from observatory uh88\n",
      "INFO:root:using visibility constraints:\n",
      "\t\t\t\t\t-Time resolution: 30.00 min\n",
      "\t\t\t\t\t-Airmass limit: 2.00\n",
      "\t\t\t\t\t-Sun altitude: -17.00 deg\n",
      "\t\t\t\t\t-Moon distance: 30.00 deg\n"
     ]
    },
    {
     "name": "stdout",
     "output_type": "stream",
     "text": [
      "  obj_id                objID          ra       dec  psfMag_u  psfMagerr_u  \\\n",
      "0  obj_0  1237662474235216266  251.605432  25.42147   20.6208     0.060643   \n",
      "\n",
      "   psfMag_g  psfMagerr_g  psfMag_r  psfMagerr_r  psfMag_i  psfMagerr_i  \\\n",
      "0    18.956     0.019949  18.10258     0.016885  17.71803     0.016194   \n",
      "\n",
      "   psfMag_z  psfMagerr_z              obj_id1    type  \n",
      "0  17.39509     0.018069  1237662474235216266  GALAXY  \n",
      "Calculating visibility of source ZTF18aaobjwr (ra: 174.146198, dec: 34.589528) with uh88.\n"
     ]
    },
    {
     "name": "stderr",
     "output_type": "stream",
     "text": [
      "INFO:root:computed dark times (sun_alt: -17.00) between 2018-11-14 00:00:00.000 and 2018-11-27 23:30:00.000. Total of 147.00 hours of dark\n",
      "INFO:root:source is visible for a total of 26.000 hours. Took 1.23e+00 sec\n",
      "INFO:root:computing visibility of source at (ra: 200.350017, dec: 68.826394) from observatory uh88\n",
      "INFO:root:using visibility constraints:\n",
      "\t\t\t\t\t-Time resolution: 30.00 min\n",
      "\t\t\t\t\t-Airmass limit: 2.00\n",
      "\t\t\t\t\t-Sun altitude: -17.00 deg\n",
      "\t\t\t\t\t-Moon distance: 30.00 deg\n"
     ]
    },
    {
     "name": "stdout",
     "output_type": "stream",
     "text": [
      "  obj_id                objID          ra        dec  psfMag_u  psfMagerr_u  \\\n",
      "0  obj_0  1237665128540012761  174.145203  34.589453  21.39885     0.102655   \n",
      "\n",
      "   psfMag_g  psfMagerr_g  psfMag_r  psfMagerr_r  psfMag_i  psfMagerr_i  \\\n",
      "0  19.66067     0.035256  18.60705     0.013214  18.26576     0.016086   \n",
      "\n",
      "   psfMag_z  psfMagerr_z              obj_id1    type  \n",
      "0   17.8724     0.024598  1237665128540012761  GALAXY  \n",
      "Calculating visibility of source ZTF18aaqeygf (ra: 200.350017, dec: 68.826394) with uh88.\n"
     ]
    },
    {
     "name": "stderr",
     "output_type": "stream",
     "text": [
      "INFO:root:computed dark times (sun_alt: -17.00) between 2018-11-14 00:00:00.000 and 2018-11-27 23:30:00.000. Total of 147.00 hours of dark\n",
      "INFO:root:source is visible for a total of 0.000 hours. Took 1.24e+00 sec\n"
     ]
    },
    {
     "name": "stdout",
     "output_type": "stream",
     "text": [
      "Not enough visibility\n"
     ]
    },
    {
     "name": "stderr",
     "output_type": "stream",
     "text": [
      "INFO:root:computing visibility of source at (ra: 189.621710, dec: 39.003068) from observatory uh88\n",
      "INFO:root:using visibility constraints:\n",
      "\t\t\t\t\t-Time resolution: 30.00 min\n",
      "\t\t\t\t\t-Airmass limit: 2.00\n",
      "\t\t\t\t\t-Sun altitude: -17.00 deg\n",
      "\t\t\t\t\t-Moon distance: 30.00 deg\n"
     ]
    },
    {
     "name": "stdout",
     "output_type": "stream",
     "text": [
      "Empty DataFrame\n",
      "Columns: [obj_id, objID, ra, dec, psfMag_u, psfMagerr_u, psfMag_g, psfMagerr_g, psfMag_r, psfMagerr_r, psfMag_i, psfMagerr_i, psfMag_z, psfMagerr_z, obj_id1, type]\n",
      "Index: []\n",
      "Calculating visibility of source ZTF18aaqjvjr (ra: 189.621710, dec: 39.003068) with uh88.\n"
     ]
    },
    {
     "name": "stderr",
     "output_type": "stream",
     "text": [
      "INFO:root:computed dark times (sun_alt: -17.00) between 2018-11-14 00:00:00.000 and 2018-11-27 23:30:00.000. Total of 147.00 hours of dark\n",
      "INFO:root:source is visible for a total of 12.000 hours. Took 1.23e+00 sec\n",
      "INFO:root:computing visibility of source at (ra: 215.396021, dec: 49.547193) from observatory uh88\n",
      "INFO:root:using visibility constraints:\n",
      "\t\t\t\t\t-Time resolution: 30.00 min\n",
      "\t\t\t\t\t-Airmass limit: 2.00\n",
      "\t\t\t\t\t-Sun altitude: -17.00 deg\n",
      "\t\t\t\t\t-Moon distance: 30.00 deg\n"
     ]
    },
    {
     "name": "stdout",
     "output_type": "stream",
     "text": [
      "  obj_id                objID         ra        dec  psfMag_u  psfMagerr_u  \\\n",
      "0  obj_0  1237664667373404397  189.62152  39.003131  22.63684     0.284196   \n",
      "\n",
      "   psfMag_g  psfMagerr_g  psfMag_r  psfMagerr_r  psfMag_i  psfMagerr_i  \\\n",
      "0    21.264     0.042207  20.66447     0.036659  20.37972     0.037565   \n",
      "\n",
      "   psfMag_z  psfMagerr_z              obj_id1    type  \n",
      "0  19.83711     0.094606  1237664667373404397  GALAXY  \n",
      "Calculating visibility of source ZTF18aapsedq (ra: 215.396021, dec: 49.547193) with uh88.\n"
     ]
    },
    {
     "name": "stderr",
     "output_type": "stream",
     "text": [
      "INFO:root:computed dark times (sun_alt: -17.00) between 2018-11-14 00:00:00.000 and 2018-11-27 23:30:00.000. Total of 147.00 hours of dark\n",
      "INFO:root:source is visible for a total of 0.000 hours. Took 1.25e+00 sec\n"
     ]
    },
    {
     "name": "stdout",
     "output_type": "stream",
     "text": [
      "Not enough visibility\n"
     ]
    },
    {
     "name": "stderr",
     "output_type": "stream",
     "text": [
      "INFO:root:computing visibility of source at (ra: 193.852773, dec: 45.578339) from observatory uh88\n",
      "INFO:root:using visibility constraints:\n",
      "\t\t\t\t\t-Time resolution: 30.00 min\n",
      "\t\t\t\t\t-Airmass limit: 2.00\n",
      "\t\t\t\t\t-Sun altitude: -17.00 deg\n",
      "\t\t\t\t\t-Moon distance: 30.00 deg\n"
     ]
    },
    {
     "name": "stdout",
     "output_type": "stream",
     "text": [
      "Empty DataFrame\n",
      "Columns: [obj_id, objID, ra, dec, psfMag_u, psfMagerr_u, psfMag_g, psfMagerr_g, psfMag_r, psfMagerr_r, psfMag_i, psfMagerr_i, psfMag_z, psfMagerr_z, obj_id1, type]\n",
      "Index: []\n",
      "Calculating visibility of source ZTF18aaqcqvr (ra: 193.852773, dec: 45.578339) with uh88.\n"
     ]
    },
    {
     "name": "stderr",
     "output_type": "stream",
     "text": [
      "INFO:root:computed dark times (sun_alt: -17.00) between 2018-11-14 00:00:00.000 and 2018-11-27 23:30:00.000. Total of 147.00 hours of dark\n",
      "INFO:root:source is visible for a total of 9.000 hours. Took 1.25e+00 sec\n",
      "INFO:root:computing visibility of source at (ra: 179.525029, dec: 58.986045) from observatory uh88\n",
      "INFO:root:using visibility constraints:\n",
      "\t\t\t\t\t-Time resolution: 30.00 min\n",
      "\t\t\t\t\t-Airmass limit: 2.00\n",
      "\t\t\t\t\t-Sun altitude: -17.00 deg\n",
      "\t\t\t\t\t-Moon distance: 30.00 deg\n"
     ]
    },
    {
     "name": "stdout",
     "output_type": "stream",
     "text": [
      "  obj_id                objID          ra        dec  psfMag_u  psfMagerr_u  \\\n",
      "0  obj_0  1237661874016878801  193.852835  45.578774   21.3763     0.092547   \n",
      "\n",
      "   psfMag_g  psfMagerr_g  psfMag_r  psfMagerr_r  psfMag_i  psfMagerr_i  \\\n",
      "0  20.11729     0.025884   19.5683     0.020658  19.21708     0.019857   \n",
      "\n",
      "   psfMag_z  psfMagerr_z              obj_id1    type  \n",
      "0  19.04394     0.037063  1237661874016878801  GALAXY  \n",
      "Calculating visibility of source ZTF18aaocrmb (ra: 179.525029, dec: 58.986045) with uh88.\n"
     ]
    },
    {
     "name": "stderr",
     "output_type": "stream",
     "text": [
      "INFO:root:computed dark times (sun_alt: -17.00) between 2018-11-14 00:00:00.000 and 2018-11-27 23:30:00.000. Total of 147.00 hours of dark\n",
      "INFO:root:source is visible for a total of 21.000 hours. Took 1.25e+00 sec\n",
      "INFO:root:computing visibility of source at (ra: 228.185628, dec: 40.109926) from observatory uh88\n",
      "INFO:root:using visibility constraints:\n",
      "\t\t\t\t\t-Time resolution: 30.00 min\n",
      "\t\t\t\t\t-Airmass limit: 2.00\n",
      "\t\t\t\t\t-Sun altitude: -17.00 deg\n",
      "\t\t\t\t\t-Moon distance: 30.00 deg\n"
     ]
    },
    {
     "name": "stdout",
     "output_type": "stream",
     "text": [
      "  obj_id                objID          ra        dec  psfMag_u  psfMagerr_u  \\\n",
      "0  obj_0  1237658310792380848  179.525116  58.986061  23.21446     0.937845   \n",
      "\n",
      "   psfMag_g  psfMagerr_g  psfMag_r  psfMagerr_r  psfMag_i  psfMagerr_i  \\\n",
      "0  21.67407     0.058617  20.91274     0.042616  20.33314     0.043198   \n",
      "\n",
      "   psfMag_z  psfMagerr_z              obj_id1    type  \n",
      "0  20.20733     0.122515  1237658310792380848  GALAXY  \n",
      "Calculating visibility of source ZTF18aaqehoc (ra: 228.185628, dec: 40.109926) with uh88.\n"
     ]
    },
    {
     "name": "stderr",
     "output_type": "stream",
     "text": [
      "INFO:root:computed dark times (sun_alt: -17.00) between 2018-11-14 00:00:00.000 and 2018-11-27 23:30:00.000. Total of 147.00 hours of dark\n",
      "INFO:root:source is visible for a total of 0.000 hours. Took 1.21e+00 sec\n"
     ]
    },
    {
     "name": "stdout",
     "output_type": "stream",
     "text": [
      "Not enough visibility\n"
     ]
    },
    {
     "name": "stderr",
     "output_type": "stream",
     "text": [
      "INFO:root:computing visibility of source at (ra: 231.659589, dec: 28.866273) from observatory uh88\n",
      "INFO:root:using visibility constraints:\n",
      "\t\t\t\t\t-Time resolution: 30.00 min\n",
      "\t\t\t\t\t-Airmass limit: 2.00\n",
      "\t\t\t\t\t-Sun altitude: -17.00 deg\n",
      "\t\t\t\t\t-Moon distance: 30.00 deg\n"
     ]
    },
    {
     "name": "stdout",
     "output_type": "stream",
     "text": [
      "  obj_id                objID          ra        dec  psfMag_u  psfMagerr_u  \\\n",
      "0  obj_0  1237661210438140055  228.185644  40.109902  20.21286     0.048852   \n",
      "\n",
      "   psfMag_g  psfMagerr_g  psfMag_r  psfMagerr_r  psfMag_i  psfMagerr_i  \\\n",
      "0  18.61184     0.052678   18.2561     0.028847  17.98053     0.017003   \n",
      "\n",
      "   psfMag_z  psfMagerr_z              obj_id1    type  \n",
      "0  17.62791     0.038634  1237661210438140055  GALAXY  \n",
      "Calculating visibility of source ZTF18aaovbiy (ra: 231.659589, dec: 28.866273) with uh88.\n"
     ]
    },
    {
     "name": "stderr",
     "output_type": "stream",
     "text": [
      "INFO:root:computed dark times (sun_alt: -17.00) between 2018-11-14 00:00:00.000 and 2018-11-27 23:30:00.000. Total of 147.00 hours of dark\n",
      "INFO:root:source is visible for a total of 0.000 hours. Took 1.21e+00 sec\n"
     ]
    },
    {
     "name": "stdout",
     "output_type": "stream",
     "text": [
      "Not enough visibility\n"
     ]
    },
    {
     "name": "stderr",
     "output_type": "stream",
     "text": [
      "INFO:root:computing visibility of source at (ra: 145.294362, dec: 24.022459) from observatory uh88\n",
      "INFO:root:using visibility constraints:\n",
      "\t\t\t\t\t-Time resolution: 30.00 min\n",
      "\t\t\t\t\t-Airmass limit: 2.00\n",
      "\t\t\t\t\t-Sun altitude: -17.00 deg\n",
      "\t\t\t\t\t-Moon distance: 30.00 deg\n"
     ]
    },
    {
     "name": "stdout",
     "output_type": "stream",
     "text": [
      "  obj_id                objID          ra        dec  psfMag_u  psfMagerr_u  \\\n",
      "0  obj_0  1237662661602968040  231.659817  28.866326  21.79419     0.116954   \n",
      "\n",
      "   psfMag_g  psfMagerr_g  psfMag_r  psfMagerr_r  psfMag_i  psfMagerr_i  \\\n",
      "0  20.78609     0.031638   20.1853     0.023522  19.73658     0.025182   \n",
      "\n",
      "   psfMag_z  psfMagerr_z              obj_id1    type  \n",
      "0   19.1143     0.052229  1237662661602968040  GALAXY  \n",
      "Calculating visibility of source ZTF18aakaljn (ra: 145.294362, dec: 24.022459) with uh88.\n"
     ]
    },
    {
     "name": "stderr",
     "output_type": "stream",
     "text": [
      "INFO:root:computed dark times (sun_alt: -17.00) between 2018-11-14 00:00:00.000 and 2018-11-27 23:30:00.000. Total of 147.00 hours of dark\n",
      "INFO:root:Too close the the moon.\n",
      "INFO:root:source is visible for a total of 47.500 hours. Took 1.22e+00 sec\n",
      "INFO:root:computing visibility of source at (ra: 223.085316, dec: 30.905831) from observatory uh88\n",
      "INFO:root:using visibility constraints:\n",
      "\t\t\t\t\t-Time resolution: 30.00 min\n",
      "\t\t\t\t\t-Airmass limit: 2.00\n",
      "\t\t\t\t\t-Sun altitude: -17.00 deg\n",
      "\t\t\t\t\t-Moon distance: 30.00 deg\n"
     ]
    },
    {
     "name": "stdout",
     "output_type": "stream",
     "text": [
      "  obj_id                objID          ra        dec  psfMag_u  psfMagerr_u  \\\n",
      "0  obj_0  1237667211587551370  145.293395  24.022837  20.44033     0.054279   \n",
      "\n",
      "   psfMag_g  psfMagerr_g  psfMag_r  psfMagerr_r  psfMag_i  psfMagerr_i  \\\n",
      "0  18.87541     0.022079  18.33595     0.030465  17.66615     0.013441   \n",
      "\n",
      "   psfMag_z  psfMagerr_z              obj_id1    type  \n",
      "0   17.3974      0.02067  1237667211587551370  GALAXY  \n",
      "Calculating visibility of source ZTF18aaqculk (ra: 223.085316, dec: 30.905831) with uh88.\n"
     ]
    },
    {
     "name": "stderr",
     "output_type": "stream",
     "text": [
      "INFO:root:computed dark times (sun_alt: -17.00) between 2018-11-14 00:00:00.000 and 2018-11-27 23:30:00.000. Total of 147.00 hours of dark\n",
      "INFO:root:source is visible for a total of 0.000 hours. Took 1.22e+00 sec\n"
     ]
    },
    {
     "name": "stdout",
     "output_type": "stream",
     "text": [
      "Not enough visibility\n"
     ]
    },
    {
     "name": "stderr",
     "output_type": "stream",
     "text": [
      "INFO:root:computing visibility of source at (ra: 190.563121, dec: 42.271684) from observatory uh88\n",
      "INFO:root:using visibility constraints:\n",
      "\t\t\t\t\t-Time resolution: 30.00 min\n",
      "\t\t\t\t\t-Airmass limit: 2.00\n",
      "\t\t\t\t\t-Sun altitude: -17.00 deg\n",
      "\t\t\t\t\t-Moon distance: 30.00 deg\n"
     ]
    },
    {
     "name": "stdout",
     "output_type": "stream",
     "text": [
      "  obj_id                objID          ra        dec  psfMag_u  psfMagerr_u  \\\n",
      "0  obj_0  1237664853110358797  223.085762  30.905955  23.05107     0.293572   \n",
      "\n",
      "   psfMag_g  psfMagerr_g  psfMag_r  psfMagerr_r  psfMag_i  psfMagerr_i  \\\n",
      "0  21.90129     0.058613   21.3692       0.0509  21.04659      0.05328   \n",
      "\n",
      "   psfMag_z  psfMagerr_z              obj_id1    type  \n",
      "0  20.86014     0.158962  1237664853110358797  GALAXY  \n",
      "Calculating visibility of source ZTF18aaqcozd (ra: 190.563121, dec: 42.271684) with uh88.\n"
     ]
    },
    {
     "name": "stderr",
     "output_type": "stream",
     "text": [
      "INFO:root:computed dark times (sun_alt: -17.00) between 2018-11-14 00:00:00.000 and 2018-11-27 23:30:00.000. Total of 147.00 hours of dark\n",
      "INFO:root:source is visible for a total of 11.500 hours. Took 1.21e+00 sec\n",
      "INFO:root:computing visibility of source at (ra: 159.649644, dec: 35.971167) from observatory uh88\n",
      "INFO:root:using visibility constraints:\n",
      "\t\t\t\t\t-Time resolution: 30.00 min\n",
      "\t\t\t\t\t-Airmass limit: 2.00\n",
      "\t\t\t\t\t-Sun altitude: -17.00 deg\n",
      "\t\t\t\t\t-Moon distance: 30.00 deg\n"
     ]
    },
    {
     "name": "stdout",
     "output_type": "stream",
     "text": [
      "Empty DataFrame\n",
      "Columns: [obj_id, objID, ra, dec, psfMag_u, psfMagerr_u, psfMag_g, psfMagerr_g, psfMag_r, psfMagerr_r, psfMag_i, psfMagerr_i, psfMag_z, psfMagerr_z, obj_id1, type]\n",
      "Index: []\n",
      "Calculating visibility of source ZTF18aahqmsr (ra: 159.649644, dec: 35.971167) with uh88.\n"
     ]
    },
    {
     "name": "stderr",
     "output_type": "stream",
     "text": [
      "INFO:root:computed dark times (sun_alt: -17.00) between 2018-11-14 00:00:00.000 and 2018-11-27 23:30:00.000. Total of 147.00 hours of dark\n",
      "INFO:root:source is visible for a total of 40.000 hours. Took 1.28e+00 sec\n",
      "INFO:root:computing visibility of source at (ra: 179.549798, dec: 49.320511) from observatory uh88\n",
      "INFO:root:using visibility constraints:\n",
      "\t\t\t\t\t-Time resolution: 30.00 min\n",
      "\t\t\t\t\t-Airmass limit: 2.00\n",
      "\t\t\t\t\t-Sun altitude: -17.00 deg\n",
      "\t\t\t\t\t-Moon distance: 30.00 deg\n"
     ]
    },
    {
     "name": "stdout",
     "output_type": "stream",
     "text": [
      "  obj_id                objID          ra        dec  psfMag_u  psfMagerr_u  \\\n",
      "0  obj_0  1237664880493789327  159.649919  35.971281  20.30145     0.069133   \n",
      "\n",
      "   psfMag_g  psfMagerr_g  psfMag_r  psfMagerr_r  psfMag_i  psfMagerr_i  \\\n",
      "0  19.26885      0.03153  19.04097     0.020724  18.92278     0.015467   \n",
      "\n",
      "   psfMag_z  psfMagerr_z              obj_id1    type  \n",
      "0   18.8522     0.040098  1237664880493789327  GALAXY  \n",
      "Calculating visibility of source ZTF18aakoylt (ra: 179.549798, dec: 49.320511) with uh88.\n"
     ]
    },
    {
     "name": "stderr",
     "output_type": "stream",
     "text": [
      "INFO:root:computed dark times (sun_alt: -17.00) between 2018-11-14 00:00:00.000 and 2018-11-27 23:30:00.000. Total of 147.00 hours of dark\n",
      "INFO:root:source is visible for a total of 22.000 hours. Took 1.24e+00 sec\n",
      "INFO:root:computing visibility of source at (ra: 248.565681, dec: 26.889656) from observatory uh88\n",
      "INFO:root:using visibility constraints:\n",
      "\t\t\t\t\t-Time resolution: 30.00 min\n",
      "\t\t\t\t\t-Airmass limit: 2.00\n",
      "\t\t\t\t\t-Sun altitude: -17.00 deg\n",
      "\t\t\t\t\t-Moon distance: 30.00 deg\n"
     ]
    },
    {
     "name": "stdout",
     "output_type": "stream",
     "text": [
      "  obj_id                objID          ra        dec  psfMag_u  psfMagerr_u  \\\n",
      "0  obj_0  1237658203973091435  179.547787  49.320769  20.66118     0.056932   \n",
      "\n",
      "   psfMag_g  psfMagerr_g  psfMag_r  psfMagerr_r  psfMag_i  psfMagerr_i  \\\n",
      "0   19.6864     0.021571  19.34234     0.027978  19.06696     0.015754   \n",
      "\n",
      "   psfMag_z  psfMagerr_z              obj_id1    type  \n",
      "0  18.66791      0.03387  1237658203973091435  GALAXY  \n",
      "Calculating visibility of source ZTF18aaqnrum (ra: 248.565681, dec: 26.889656) with uh88.\n"
     ]
    },
    {
     "name": "stderr",
     "output_type": "stream",
     "text": [
      "INFO:root:computed dark times (sun_alt: -17.00) between 2018-11-14 00:00:00.000 and 2018-11-27 23:30:00.000. Total of 147.00 hours of dark\n",
      "INFO:root:source is visible for a total of 0.000 hours. Took 1.24e+00 sec\n"
     ]
    },
    {
     "name": "stdout",
     "output_type": "stream",
     "text": [
      "Not enough visibility\n"
     ]
    },
    {
     "name": "stderr",
     "output_type": "stream",
     "text": [
      "INFO:root:computing visibility of source at (ra: 155.760070, dec: 45.702523) from observatory uh88\n",
      "INFO:root:using visibility constraints:\n",
      "\t\t\t\t\t-Time resolution: 30.00 min\n",
      "\t\t\t\t\t-Airmass limit: 2.00\n",
      "\t\t\t\t\t-Sun altitude: -17.00 deg\n",
      "\t\t\t\t\t-Moon distance: 30.00 deg\n"
     ]
    },
    {
     "name": "stdout",
     "output_type": "stream",
     "text": [
      "  obj_id                objID          ra        dec  psfMag_u  psfMagerr_u  \\\n",
      "0  obj_0  1237661465455428438  248.564606  26.890351  24.42156      0.69019   \n",
      "\n",
      "   psfMag_g  psfMagerr_g  psfMag_r  psfMagerr_r  psfMag_i  psfMagerr_i  \\\n",
      "0  23.43693     0.198269  22.19507     0.102791  21.54373     0.091322   \n",
      "\n",
      "   psfMag_z  psfMagerr_z              obj_id1    type  \n",
      "0  21.21258     0.198906  1237661465455428438  GALAXY  \n",
      "Calculating visibility of source ZTF18aaqqhis (ra: 155.760070, dec: 45.702523) with uh88.\n"
     ]
    },
    {
     "name": "stderr",
     "output_type": "stream",
     "text": [
      "INFO:root:computed dark times (sun_alt: -17.00) between 2018-11-14 00:00:00.000 and 2018-11-27 23:30:00.000. Total of 147.00 hours of dark\n",
      "INFO:root:source is visible for a total of 44.000 hours. Took 1.22e+00 sec\n",
      "INFO:root:computing visibility of source at (ra: 255.907758, dec: 36.429195) from observatory uh88\n",
      "INFO:root:using visibility constraints:\n",
      "\t\t\t\t\t-Time resolution: 30.00 min\n",
      "\t\t\t\t\t-Airmass limit: 2.00\n",
      "\t\t\t\t\t-Sun altitude: -17.00 deg\n",
      "\t\t\t\t\t-Moon distance: 30.00 deg\n"
     ]
    },
    {
     "name": "stdout",
     "output_type": "stream",
     "text": [
      "  obj_id                objID          ra        dec  psfMag_u  psfMagerr_u  \\\n",
      "0  obj_0  1237658612513636451  155.760027  45.702481  19.63531     0.032738   \n",
      "\n",
      "   psfMag_g  psfMagerr_g  psfMag_r  psfMagerr_r  psfMag_i  psfMagerr_i  \\\n",
      "0  18.38095     0.028593  17.86617     0.019127  17.57593     0.017481   \n",
      "\n",
      "   psfMag_z  psfMagerr_z              obj_id1    type  \n",
      "0  17.38416     0.024984  1237658612513636451  GALAXY  \n",
      "Calculating visibility of source ZTF18aaqskoy (ra: 255.907758, dec: 36.429195) with uh88.\n"
     ]
    },
    {
     "name": "stderr",
     "output_type": "stream",
     "text": [
      "INFO:root:computed dark times (sun_alt: -17.00) between 2018-11-14 00:00:00.000 and 2018-11-27 23:30:00.000. Total of 147.00 hours of dark\n",
      "INFO:root:source is visible for a total of 0.000 hours. Took 1.22e+00 sec\n"
     ]
    },
    {
     "name": "stdout",
     "output_type": "stream",
     "text": [
      "Not enough visibility\n"
     ]
    },
    {
     "name": "stderr",
     "output_type": "stream",
     "text": [
      "INFO:root:computing visibility of source at (ra: 200.841596, dec: 45.644230) from observatory uh88\n",
      "INFO:root:using visibility constraints:\n",
      "\t\t\t\t\t-Time resolution: 30.00 min\n",
      "\t\t\t\t\t-Airmass limit: 2.00\n",
      "\t\t\t\t\t-Sun altitude: -17.00 deg\n",
      "\t\t\t\t\t-Moon distance: 30.00 deg\n"
     ]
    },
    {
     "name": "stdout",
     "output_type": "stream",
     "text": [
      "  obj_id                objID          ra        dec  psfMag_u  psfMagerr_u  \\\n",
      "0  obj_0  1237655504034201755  255.907044  36.428183  22.44107     1.340153   \n",
      "\n",
      "   psfMag_g  psfMagerr_g  psfMag_r  psfMagerr_r  psfMag_i  psfMagerr_i  \\\n",
      "0   23.1851     0.160291  22.50444     0.120313  22.47081     0.194417   \n",
      "\n",
      "   psfMag_z  psfMagerr_z              obj_id1    type  \n",
      "0  22.42975     0.464509  1237655504034201755  GALAXY  \n",
      "Calculating visibility of source ZTF18aaqjxid (ra: 200.841596, dec: 45.644230) with uh88.\n"
     ]
    },
    {
     "name": "stderr",
     "output_type": "stream",
     "text": [
      "INFO:root:computed dark times (sun_alt: -17.00) between 2018-11-14 00:00:00.000 and 2018-11-27 23:30:00.000. Total of 147.00 hours of dark\n",
      "INFO:root:source is visible for a total of 3.000 hours. Took 1.22e+00 sec\n"
     ]
    },
    {
     "name": "stdout",
     "output_type": "stream",
     "text": [
      "Not enough visibility\n"
     ]
    },
    {
     "name": "stderr",
     "output_type": "stream",
     "text": [
      "INFO:root:computing visibility of source at (ra: 122.473487, dec: 35.077386) from observatory uh88\n",
      "INFO:root:using visibility constraints:\n",
      "\t\t\t\t\t-Time resolution: 30.00 min\n",
      "\t\t\t\t\t-Airmass limit: 2.00\n",
      "\t\t\t\t\t-Sun altitude: -17.00 deg\n",
      "\t\t\t\t\t-Moon distance: 30.00 deg\n"
     ]
    },
    {
     "name": "stdout",
     "output_type": "stream",
     "text": [
      "  obj_id                objID         ra        dec  psfMag_u  psfMagerr_u  \\\n",
      "0  obj_0  1237661360760750448  200.84086  45.645013   21.8473     0.149105   \n",
      "\n",
      "   psfMag_g  psfMagerr_g  psfMag_r  psfMagerr_r  psfMag_i  psfMagerr_i  \\\n",
      "0  20.69562     0.027368  20.33191     0.033917  20.26147     0.039997   \n",
      "\n",
      "   psfMag_z  psfMagerr_z              obj_id1    type  \n",
      "0  20.25971     0.123704  1237661360760750448  GALAXY  \n",
      "Calculating visibility of source ZTF18aaqpjja (ra: 122.473487, dec: 35.077386) with uh88.\n"
     ]
    },
    {
     "name": "stderr",
     "output_type": "stream",
     "text": [
      "INFO:root:computed dark times (sun_alt: -17.00) between 2018-11-14 00:00:00.000 and 2018-11-27 23:30:00.000. Total of 147.00 hours of dark\n",
      "INFO:root:Too close the the moon.\n",
      "INFO:root:source is visible for a total of 57.500 hours. Took 1.24e+00 sec\n",
      "INFO:root:computing visibility of source at (ra: 195.655463, dec: 55.925733) from observatory uh88\n",
      "INFO:root:using visibility constraints:\n",
      "\t\t\t\t\t-Time resolution: 30.00 min\n",
      "\t\t\t\t\t-Airmass limit: 2.00\n",
      "\t\t\t\t\t-Sun altitude: -17.00 deg\n",
      "\t\t\t\t\t-Moon distance: 30.00 deg\n"
     ]
    },
    {
     "name": "stdout",
     "output_type": "stream",
     "text": [
      "  obj_id                objID          ra        dec  psfMag_u  psfMagerr_u  \\\n",
      "0  obj_0  1237657594075283477  122.473695  35.076594  19.22436     0.022866   \n",
      "\n",
      "   psfMag_g  psfMagerr_g  psfMag_r  psfMagerr_r  psfMag_i  psfMagerr_i  \\\n",
      "0  17.89556     0.018362  17.19371     0.018175  16.87355     0.015742   \n",
      "\n",
      "   psfMag_z  psfMagerr_z              obj_id1    type  \n",
      "0  16.59721     0.020466  1237657594075283477  GALAXY  \n",
      "Calculating visibility of source ZTF18aarldnh (ra: 195.655463, dec: 55.925733) with uh88.\n"
     ]
    },
    {
     "name": "stderr",
     "output_type": "stream",
     "text": [
      "INFO:root:computed dark times (sun_alt: -17.00) between 2018-11-14 00:00:00.000 and 2018-11-27 23:30:00.000. Total of 147.00 hours of dark\n",
      "INFO:root:source is visible for a total of 6.500 hours. Took 1.24e+00 sec\n",
      "INFO:root:computing visibility of source at (ra: 167.969056, dec: 39.605030) from observatory uh88\n",
      "INFO:root:using visibility constraints:\n",
      "\t\t\t\t\t-Time resolution: 30.00 min\n",
      "\t\t\t\t\t-Airmass limit: 2.00\n",
      "\t\t\t\t\t-Sun altitude: -17.00 deg\n",
      "\t\t\t\t\t-Moon distance: 30.00 deg\n"
     ]
    },
    {
     "name": "stdout",
     "output_type": "stream",
     "text": [
      "Empty DataFrame\n",
      "Columns: [obj_id, objID, ra, dec, psfMag_u, psfMagerr_u, psfMag_g, psfMagerr_g, psfMag_r, psfMagerr_r, psfMag_i, psfMagerr_i, psfMag_z, psfMagerr_z, obj_id1, type]\n",
      "Index: []\n",
      "Calculating visibility of source ZTF18aaqkqxi (ra: 167.969056, dec: 39.605030) with uh88.\n"
     ]
    },
    {
     "name": "stderr",
     "output_type": "stream",
     "text": [
      "INFO:root:computed dark times (sun_alt: -17.00) between 2018-11-14 00:00:00.000 and 2018-11-27 23:30:00.000. Total of 147.00 hours of dark\n",
      "INFO:root:source is visible for a total of 32.000 hours. Took 1.25e+00 sec\n",
      "INFO:root:computing visibility of source at (ra: 206.355040, dec: 26.424237) from observatory uh88\n",
      "INFO:root:using visibility constraints:\n",
      "\t\t\t\t\t-Time resolution: 30.00 min\n",
      "\t\t\t\t\t-Airmass limit: 2.00\n",
      "\t\t\t\t\t-Sun altitude: -17.00 deg\n",
      "\t\t\t\t\t-Moon distance: 30.00 deg\n"
     ]
    },
    {
     "name": "stdout",
     "output_type": "stream",
     "text": [
      "  obj_id                objID          ra        dec  psfMag_u  psfMagerr_u  \\\n",
      "0  obj_0  1237662226209308779  167.969029  39.605043  20.60881      0.08133   \n",
      "\n",
      "   psfMag_g  psfMagerr_g  psfMag_r  psfMagerr_r  psfMag_i  psfMagerr_i  \\\n",
      "0  19.09351     0.018942  18.30593     0.015393  18.02282      0.03791   \n",
      "\n",
      "   psfMag_z  psfMagerr_z              obj_id1    type  \n",
      "0  17.75723     0.026259  1237662226209308779  GALAXY  \n",
      "Calculating visibility of source ZTF18aaqedfj (ra: 206.355040, dec: 26.424237) with uh88.\n"
     ]
    },
    {
     "name": "stderr",
     "output_type": "stream",
     "text": [
      "INFO:root:computed dark times (sun_alt: -17.00) between 2018-11-14 00:00:00.000 and 2018-11-27 23:30:00.000. Total of 147.00 hours of dark\n",
      "INFO:root:source is visible for a total of 0.000 hours. Took 1.22e+00 sec\n"
     ]
    },
    {
     "name": "stdout",
     "output_type": "stream",
     "text": [
      "Not enough visibility\n"
     ]
    },
    {
     "name": "stderr",
     "output_type": "stream",
     "text": [
      "INFO:root:computing visibility of source at (ra: 155.087800, dec: 29.412637) from observatory uh88\n",
      "INFO:root:using visibility constraints:\n",
      "\t\t\t\t\t-Time resolution: 30.00 min\n",
      "\t\t\t\t\t-Airmass limit: 2.00\n",
      "\t\t\t\t\t-Sun altitude: -17.00 deg\n",
      "\t\t\t\t\t-Moon distance: 30.00 deg\n"
     ]
    },
    {
     "name": "stdout",
     "output_type": "stream",
     "text": [
      "  obj_id                objID         ra        dec  psfMag_u  psfMagerr_u  \\\n",
      "0  obj_0  1237665549959889047  206.35529  26.424534  21.00229     0.083515   \n",
      "\n",
      "   psfMag_g  psfMagerr_g  psfMag_r  psfMagerr_r  psfMag_i  psfMagerr_i  \\\n",
      "0  19.22957     0.020902  18.47151     0.021882  18.13281      0.01859   \n",
      "\n",
      "   psfMag_z  psfMagerr_z              obj_id1    type  \n",
      "0  17.91563     0.025242  1237665549959889047  GALAXY  \n",
      "Calculating visibility of source ZTF18aarbify (ra: 155.087800, dec: 29.412637) with uh88.\n"
     ]
    },
    {
     "name": "stderr",
     "output_type": "stream",
     "text": [
      "INFO:root:computed dark times (sun_alt: -17.00) between 2018-11-14 00:00:00.000 and 2018-11-27 23:30:00.000. Total of 147.00 hours of dark\n",
      "INFO:root:Too close the the moon.\n",
      "INFO:root:source is visible for a total of 40.000 hours. Took 1.23e+00 sec\n",
      "INFO:root:computing visibility of source at (ra: 155.671320, dec: 15.939108) from observatory uh88\n",
      "INFO:root:using visibility constraints:\n",
      "\t\t\t\t\t-Time resolution: 30.00 min\n",
      "\t\t\t\t\t-Airmass limit: 2.00\n",
      "\t\t\t\t\t-Sun altitude: -17.00 deg\n",
      "\t\t\t\t\t-Moon distance: 30.00 deg\n"
     ]
    },
    {
     "name": "stdout",
     "output_type": "stream",
     "text": [
      "  obj_id                objID          ra        dec  psfMag_u  psfMagerr_u  \\\n",
      "0  obj_0  1237664869218255059  155.087805  29.412632  20.34545     0.075572   \n",
      "\n",
      "   psfMag_g  psfMagerr_g  psfMag_r  psfMagerr_r  psfMag_i  psfMagerr_i  \\\n",
      "0  18.48506     0.030959  17.55047     0.015067   17.1439      0.01809   \n",
      "\n",
      "   psfMag_z  psfMagerr_z              obj_id1    type  \n",
      "0  16.76858     0.022722  1237664869218255059  GALAXY  \n",
      "Calculating visibility of source ZTF18aarbgdn (ra: 155.671320, dec: 15.939108) with uh88.\n"
     ]
    },
    {
     "name": "stderr",
     "output_type": "stream",
     "text": [
      "INFO:root:computed dark times (sun_alt: -17.00) between 2018-11-14 00:00:00.000 and 2018-11-27 23:30:00.000. Total of 147.00 hours of dark\n",
      "INFO:root:Too close the the moon.\n",
      "INFO:root:source is visible for a total of 36.500 hours. Took 1.23e+00 sec\n",
      "INFO:root:computing visibility of source at (ra: 151.482745, dec: 34.497820) from observatory uh88\n",
      "INFO:root:using visibility constraints:\n",
      "\t\t\t\t\t-Time resolution: 30.00 min\n",
      "\t\t\t\t\t-Airmass limit: 2.00\n",
      "\t\t\t\t\t-Sun altitude: -17.00 deg\n",
      "\t\t\t\t\t-Moon distance: 30.00 deg\n"
     ]
    },
    {
     "name": "stdout",
     "output_type": "stream",
     "text": [
      "  obj_id                objID          ra        dec  psfMag_u  psfMagerr_u  \\\n",
      "0  obj_0  1237668496310206652  155.671377  15.939408  19.14052     0.030793   \n",
      "\n",
      "   psfMag_g  psfMagerr_g  psfMag_r  psfMagerr_r  psfMag_i  psfMagerr_i  \\\n",
      "0  17.39788     0.015711  16.61516     0.016949  16.25941     0.016786   \n",
      "\n",
      "   psfMag_z  psfMagerr_z              obj_id1    type  \n",
      "0  16.00916     0.013807  1237668496310206652  GALAXY  \n",
      "Calculating visibility of source ZTF18aarcygc (ra: 151.482745, dec: 34.497820) with uh88.\n"
     ]
    },
    {
     "name": "stderr",
     "output_type": "stream",
     "text": [
      "INFO:root:computed dark times (sun_alt: -17.00) between 2018-11-14 00:00:00.000 and 2018-11-27 23:30:00.000. Total of 147.00 hours of dark\n",
      "INFO:root:Too close the the moon.\n",
      "INFO:root:source is visible for a total of 43.000 hours. Took 1.23e+00 sec\n",
      "INFO:root:computing visibility of source at (ra: 167.459325, dec: 28.971380) from observatory uh88\n",
      "INFO:root:using visibility constraints:\n",
      "\t\t\t\t\t-Time resolution: 30.00 min\n",
      "\t\t\t\t\t-Airmass limit: 2.00\n",
      "\t\t\t\t\t-Sun altitude: -17.00 deg\n",
      "\t\t\t\t\t-Moon distance: 30.00 deg\n"
     ]
    },
    {
     "name": "stdout",
     "output_type": "stream",
     "text": [
      "  obj_id                objID          ra        dec  psfMag_u  psfMagerr_u  \\\n",
      "0  obj_0  1237664667896906153  151.483304  34.497985  22.48853     0.293977   \n",
      "\n",
      "   psfMag_g  psfMagerr_g  psfMag_r  psfMagerr_r  psfMag_i  psfMagerr_i  \\\n",
      "0  21.53148     0.053345  21.33552     0.063164   21.3205     0.095144   \n",
      "\n",
      "   psfMag_z  psfMagerr_z              obj_id1    type  \n",
      "0  20.76313     0.230283  1237664667896906153  GALAXY  \n",
      "Calculating visibility of source ZTF18aarcypa (ra: 167.459325, dec: 28.971380) with uh88.\n"
     ]
    },
    {
     "name": "stderr",
     "output_type": "stream",
     "text": [
      "INFO:root:computed dark times (sun_alt: -17.00) between 2018-11-14 00:00:00.000 and 2018-11-27 23:30:00.000. Total of 147.00 hours of dark\n",
      "INFO:root:source is visible for a total of 31.500 hours. Took 1.25e+00 sec\n",
      "INFO:root:computing visibility of source at (ra: 222.286095, dec: 16.457723) from observatory uh88\n",
      "INFO:root:using visibility constraints:\n",
      "\t\t\t\t\t-Time resolution: 30.00 min\n",
      "\t\t\t\t\t-Airmass limit: 2.00\n",
      "\t\t\t\t\t-Sun altitude: -17.00 deg\n",
      "\t\t\t\t\t-Moon distance: 30.00 deg\n"
     ]
    },
    {
     "name": "stdout",
     "output_type": "stream",
     "text": [
      "  obj_id                objID          ra        dec  psfMag_u  psfMagerr_u  \\\n",
      "0  obj_0  1237667211596464313  167.459579  28.971337  19.56899      0.03276   \n",
      "\n",
      "   psfMag_g  psfMagerr_g  psfMag_r  psfMagerr_r  psfMag_i  psfMagerr_i  \\\n",
      "0  17.79791      0.02068  16.99388      0.01434  16.72653     0.012383   \n",
      "\n",
      "   psfMag_z  psfMagerr_z              obj_id1    type  \n",
      "0  16.34429     0.026526  1237667211596464313  GALAXY  \n",
      "Calculating visibility of source ZTF18aaqgadq (ra: 222.286095, dec: 16.457723) with uh88.\n"
     ]
    },
    {
     "name": "stderr",
     "output_type": "stream",
     "text": [
      "INFO:root:computed dark times (sun_alt: -17.00) between 2018-11-14 00:00:00.000 and 2018-11-27 23:30:00.000. Total of 147.00 hours of dark\n",
      "INFO:root:source is visible for a total of 0.000 hours. Took 1.25e+00 sec\n"
     ]
    },
    {
     "name": "stdout",
     "output_type": "stream",
     "text": [
      "Not enough visibility\n"
     ]
    },
    {
     "name": "stderr",
     "output_type": "stream",
     "text": [
      "INFO:root:computing visibility of source at (ra: 118.763215, dec: 14.357566) from observatory uh88\n",
      "INFO:root:using visibility constraints:\n",
      "\t\t\t\t\t-Time resolution: 30.00 min\n",
      "\t\t\t\t\t-Airmass limit: 2.00\n",
      "\t\t\t\t\t-Sun altitude: -17.00 deg\n",
      "\t\t\t\t\t-Moon distance: 30.00 deg\n"
     ]
    },
    {
     "name": "stdout",
     "output_type": "stream",
     "text": [
      "  obj_id                objID          ra        dec  psfMag_u  psfMagerr_u  \\\n",
      "0  obj_0  1237668272443687096  222.286955  16.457653  20.97267     0.069413   \n",
      "\n",
      "   psfMag_g  psfMagerr_g  psfMag_r  psfMagerr_r  psfMag_i  psfMagerr_i  \\\n",
      "0  18.91196     0.019556  18.10128     0.015583  17.77363     0.017663   \n",
      "\n",
      "   psfMag_z  psfMagerr_z              obj_id1    type  \n",
      "0   17.3636     0.020373  1237668272443687096  GALAXY  \n",
      "Calculating visibility of source ZTF18aaqpkvx (ra: 118.763215, dec: 14.357566) with uh88.\n"
     ]
    },
    {
     "name": "stderr",
     "output_type": "stream",
     "text": [
      "INFO:root:computed dark times (sun_alt: -17.00) between 2018-11-14 00:00:00.000 and 2018-11-27 23:30:00.000. Total of 147.00 hours of dark\n",
      "INFO:root:Too close the the moon.\n",
      "INFO:root:source is visible for a total of 57.500 hours. Took 1.21e+00 sec\n",
      "INFO:root:computing visibility of source at (ra: 214.837279, dec: 36.172106) from observatory uh88\n",
      "INFO:root:using visibility constraints:\n",
      "\t\t\t\t\t-Time resolution: 30.00 min\n",
      "\t\t\t\t\t-Airmass limit: 2.00\n",
      "\t\t\t\t\t-Sun altitude: -17.00 deg\n",
      "\t\t\t\t\t-Moon distance: 30.00 deg\n"
     ]
    },
    {
     "name": "stdout",
     "output_type": "stream",
     "text": [
      "  obj_id                objID          ra        dec  psfMag_u  psfMagerr_u  \\\n",
      "0  obj_0  1237667255599104396  118.763396  14.357678  20.66861     0.069092   \n",
      "\n",
      "   psfMag_g  psfMagerr_g  psfMag_r  psfMagerr_r  psfMag_i  psfMagerr_i  \\\n",
      "0  18.95335     0.013389  18.04565     0.016306  17.66513     0.015724   \n",
      "\n",
      "   psfMag_z  psfMagerr_z              obj_id1    type  \n",
      "0  17.32294     0.018217  1237667255599104396  GALAXY  \n",
      "Calculating visibility of source ZTF18aataafd (ra: 214.837279, dec: 36.172106) with uh88.\n"
     ]
    },
    {
     "name": "stderr",
     "output_type": "stream",
     "text": [
      "INFO:root:computed dark times (sun_alt: -17.00) between 2018-11-14 00:00:00.000 and 2018-11-27 23:30:00.000. Total of 147.00 hours of dark\n",
      "INFO:root:source is visible for a total of 0.000 hours. Took 1.21e+00 sec\n"
     ]
    },
    {
     "name": "stdout",
     "output_type": "stream",
     "text": [
      "Not enough visibility\n"
     ]
    },
    {
     "name": "stderr",
     "output_type": "stream",
     "text": [
      "INFO:root:computing visibility of source at (ra: 202.053044, dec: 53.916028) from observatory uh88\n",
      "INFO:root:using visibility constraints:\n",
      "\t\t\t\t\t-Time resolution: 30.00 min\n",
      "\t\t\t\t\t-Airmass limit: 2.00\n",
      "\t\t\t\t\t-Sun altitude: -17.00 deg\n",
      "\t\t\t\t\t-Moon distance: 30.00 deg\n"
     ]
    },
    {
     "name": "stdout",
     "output_type": "stream",
     "text": [
      "  obj_id                objID          ra        dec  psfMag_u  psfMagerr_u  \\\n",
      "0  obj_0  1237662225151623376  214.836697  36.172283  21.07354     0.071323   \n",
      "\n",
      "   psfMag_g  psfMagerr_g  psfMag_r  psfMagerr_r  psfMag_i  psfMagerr_i  \\\n",
      "0   20.0468     0.040631  19.59817     0.028693  19.42649     0.030031   \n",
      "\n",
      "   psfMag_z  psfMagerr_z              obj_id1    type  \n",
      "0  19.09679      0.05696  1237662225151623376  GALAXY  \n",
      "Calculating visibility of source ZTF18aaqcugm (ra: 202.053044, dec: 53.916028) with uh88.\n"
     ]
    },
    {
     "name": "stderr",
     "output_type": "stream",
     "text": [
      "INFO:root:computed dark times (sun_alt: -17.00) between 2018-11-14 00:00:00.000 and 2018-11-27 23:30:00.000. Total of 147.00 hours of dark\n",
      "INFO:root:source is visible for a total of 2.000 hours. Took 1.21e+00 sec\n"
     ]
    },
    {
     "name": "stdout",
     "output_type": "stream",
     "text": [
      "Not enough visibility\n"
     ]
    },
    {
     "name": "stderr",
     "output_type": "stream",
     "text": [
      "INFO:root:computing visibility of source at (ra: 195.640437, dec: 36.387488) from observatory uh88\n",
      "INFO:root:using visibility constraints:\n",
      "\t\t\t\t\t-Time resolution: 30.00 min\n",
      "\t\t\t\t\t-Airmass limit: 2.00\n",
      "\t\t\t\t\t-Sun altitude: -17.00 deg\n",
      "\t\t\t\t\t-Moon distance: 30.00 deg\n"
     ]
    },
    {
     "name": "stdout",
     "output_type": "stream",
     "text": [
      "  obj_id                objID          ra        dec  psfMag_u  psfMagerr_u  \\\n",
      "0  obj_0  1237658802042372162  202.052768  53.915546   23.4312     0.461416   \n",
      "\n",
      "   psfMag_g  psfMagerr_g  psfMag_r  psfMagerr_r  psfMag_i  psfMagerr_i  \\\n",
      "0  23.96093     0.413721  23.51092     0.625523  22.71885     0.255055   \n",
      "\n",
      "   psfMag_z  psfMagerr_z              obj_id1    type  \n",
      "0  22.19415     0.654763  1237658802042372162  GALAXY  \n",
      "Calculating visibility of source ZTF18aarohda (ra: 195.640437, dec: 36.387488) with uh88.\n"
     ]
    },
    {
     "name": "stderr",
     "output_type": "stream",
     "text": [
      "INFO:root:computed dark times (sun_alt: -17.00) between 2018-11-14 00:00:00.000 and 2018-11-27 23:30:00.000. Total of 147.00 hours of dark\n",
      "INFO:root:source is visible for a total of 6.500 hours. Took 1.22e+00 sec\n",
      "INFO:root:computing visibility of source at (ra: 251.384242, dec: 59.918625) from observatory uh88\n",
      "INFO:root:using visibility constraints:\n",
      "\t\t\t\t\t-Time resolution: 30.00 min\n",
      "\t\t\t\t\t-Airmass limit: 2.00\n",
      "\t\t\t\t\t-Sun altitude: -17.00 deg\n",
      "\t\t\t\t\t-Moon distance: 30.00 deg\n"
     ]
    },
    {
     "name": "stdout",
     "output_type": "stream",
     "text": [
      "  obj_id                objID          ra        dec  psfMag_u  psfMagerr_u  \\\n",
      "0  obj_0  1237664672179159150  195.640502  36.387024  21.24547     0.083429   \n",
      "\n",
      "   psfMag_g  psfMagerr_g  psfMag_r  psfMagerr_r  psfMag_i  psfMagerr_i  \\\n",
      "0  20.00323     0.143987  19.49998     0.247785  19.28396     0.439681   \n",
      "\n",
      "   psfMag_z  psfMagerr_z              obj_id1    type  \n",
      "0  18.95764     0.471039  1237664672179159150  GALAXY  \n",
      "Calculating visibility of source ZTF18aatzygk (ra: 251.384242, dec: 59.918625) with uh88.\n"
     ]
    },
    {
     "name": "stderr",
     "output_type": "stream",
     "text": [
      "INFO:root:computed dark times (sun_alt: -17.00) between 2018-11-14 00:00:00.000 and 2018-11-27 23:30:00.000. Total of 147.00 hours of dark\n",
      "INFO:root:source is visible for a total of 0.000 hours. Took 1.30e+00 sec\n"
     ]
    },
    {
     "name": "stdout",
     "output_type": "stream",
     "text": [
      "Not enough visibility\n"
     ]
    },
    {
     "name": "stderr",
     "output_type": "stream",
     "text": [
      "INFO:root:computing visibility of source at (ra: 251.353328, dec: 35.956043) from observatory uh88\n",
      "INFO:root:using visibility constraints:\n",
      "\t\t\t\t\t-Time resolution: 30.00 min\n",
      "\t\t\t\t\t-Airmass limit: 2.00\n",
      "\t\t\t\t\t-Sun altitude: -17.00 deg\n",
      "\t\t\t\t\t-Moon distance: 30.00 deg\n"
     ]
    },
    {
     "name": "stdout",
     "output_type": "stream",
     "text": [
      "Empty DataFrame\n",
      "Columns: [obj_id, objID, ra, dec, psfMag_u, psfMagerr_u, psfMag_g, psfMagerr_g, psfMag_r, psfMagerr_r, psfMag_i, psfMagerr_i, psfMag_z, psfMagerr_z, obj_id1, type]\n",
      "Index: []\n",
      "Calculating visibility of source ZTF18aarqnje (ra: 251.353328, dec: 35.956043) with uh88.\n"
     ]
    },
    {
     "name": "stderr",
     "output_type": "stream",
     "text": [
      "INFO:root:computed dark times (sun_alt: -17.00) between 2018-11-14 00:00:00.000 and 2018-11-27 23:30:00.000. Total of 147.00 hours of dark\n",
      "INFO:root:source is visible for a total of 0.000 hours. Took 1.24e+00 sec\n"
     ]
    },
    {
     "name": "stdout",
     "output_type": "stream",
     "text": [
      "Not enough visibility\n"
     ]
    },
    {
     "name": "stderr",
     "output_type": "stream",
     "text": [
      "INFO:root:computing visibility of source at (ra: 244.934293, dec: 50.551867) from observatory uh88\n",
      "INFO:root:using visibility constraints:\n",
      "\t\t\t\t\t-Time resolution: 30.00 min\n",
      "\t\t\t\t\t-Airmass limit: 2.00\n",
      "\t\t\t\t\t-Sun altitude: -17.00 deg\n",
      "\t\t\t\t\t-Moon distance: 30.00 deg\n"
     ]
    },
    {
     "name": "stdout",
     "output_type": "stream",
     "text": [
      "  obj_id                objID          ra        dec  psfMag_u  psfMagerr_u  \\\n",
      "0  obj_0  1237659326568333845  251.351861  35.955773  21.99261     0.196202   \n",
      "\n",
      "   psfMag_g  psfMagerr_g  psfMag_r  psfMagerr_r  psfMag_i  psfMagerr_i  \\\n",
      "0  21.24075     0.037527   20.5428     0.031046  20.40988     0.038729   \n",
      "\n",
      "   psfMag_z  psfMagerr_z              obj_id1    type  \n",
      "0  20.19643     0.099524  1237659326568333845  GALAXY  \n",
      "Calculating visibility of source ZTF18abmjyvo (ra: 244.934293, dec: 50.551867) with uh88.\n"
     ]
    },
    {
     "name": "stderr",
     "output_type": "stream",
     "text": [
      "INFO:root:computed dark times (sun_alt: -17.00) between 2018-11-14 00:00:00.000 and 2018-11-27 23:30:00.000. Total of 147.00 hours of dark\n",
      "INFO:root:source is visible for a total of 0.000 hours. Took 1.27e+00 sec\n"
     ]
    },
    {
     "name": "stdout",
     "output_type": "stream",
     "text": [
      "Not enough visibility\n"
     ]
    },
    {
     "name": "stderr",
     "output_type": "stream",
     "text": [
      "INFO:root:computing visibility of source at (ra: 276.107960, dec: 44.130398) from observatory uh88\n",
      "INFO:root:using visibility constraints:\n",
      "\t\t\t\t\t-Time resolution: 30.00 min\n",
      "\t\t\t\t\t-Airmass limit: 2.00\n",
      "\t\t\t\t\t-Sun altitude: -17.00 deg\n",
      "\t\t\t\t\t-Moon distance: 30.00 deg\n"
     ]
    },
    {
     "name": "stdout",
     "output_type": "stream",
     "text": [
      "  obj_id                objID          ra        dec  psfMag_u  psfMagerr_u  \\\n",
      "0  obj_0  1237654949452710074  244.934259  50.550871   24.1048     1.100708   \n",
      "\n",
      "   psfMag_g  psfMagerr_g  psfMag_r  psfMagerr_r  psfMag_i  psfMagerr_i  \\\n",
      "0   24.4829     0.677849  22.62973     0.233772  23.49911     2.318513   \n",
      "\n",
      "   psfMag_z  psfMagerr_z              obj_id1  type  \n",
      "0  21.40973     0.376009  1237654949452710074  STAR  \n",
      "Calculating visibility of source ZTF18aaslhxt (ra: 276.107960, dec: 44.130398) with uh88.\n"
     ]
    },
    {
     "name": "stderr",
     "output_type": "stream",
     "text": [
      "INFO:root:computed dark times (sun_alt: -17.00) between 2018-11-14 00:00:00.000 and 2018-11-27 23:30:00.000. Total of 147.00 hours of dark\n",
      "INFO:root:source is visible for a total of 10.500 hours. Took 1.24e+00 sec\n",
      "INFO:root:computing visibility of source at (ra: 208.612692, dec: 39.722635) from observatory uh88\n",
      "INFO:root:using visibility constraints:\n",
      "\t\t\t\t\t-Time resolution: 30.00 min\n",
      "\t\t\t\t\t-Airmass limit: 2.00\n",
      "\t\t\t\t\t-Sun altitude: -17.00 deg\n",
      "\t\t\t\t\t-Moon distance: 30.00 deg\n"
     ]
    },
    {
     "name": "stdout",
     "output_type": "stream",
     "text": [
      "Empty DataFrame\n",
      "Columns: [obj_id, objID, ra, dec, psfMag_u, psfMagerr_u, psfMag_g, psfMagerr_g, psfMag_r, psfMagerr_r, psfMag_i, psfMagerr_i, psfMag_z, psfMagerr_z, obj_id1, type]\n",
      "Index: []\n",
      "Calculating visibility of source ZTF18aasesgl (ra: 208.612692, dec: 39.722635) with uh88.\n"
     ]
    },
    {
     "name": "stderr",
     "output_type": "stream",
     "text": [
      "INFO:root:computed dark times (sun_alt: -17.00) between 2018-11-14 00:00:00.000 and 2018-11-27 23:30:00.000. Total of 147.00 hours of dark\n",
      "INFO:root:source is visible for a total of 0.000 hours. Took 1.23e+00 sec\n"
     ]
    },
    {
     "name": "stdout",
     "output_type": "stream",
     "text": [
      "Not enough visibility\n"
     ]
    },
    {
     "name": "stderr",
     "output_type": "stream",
     "text": [
      "INFO:root:computing visibility of source at (ra: 173.260583, dec: 62.743958) from observatory uh88\n",
      "INFO:root:using visibility constraints:\n",
      "\t\t\t\t\t-Time resolution: 30.00 min\n",
      "\t\t\t\t\t-Airmass limit: 2.00\n",
      "\t\t\t\t\t-Sun altitude: -17.00 deg\n",
      "\t\t\t\t\t-Moon distance: 30.00 deg\n"
     ]
    },
    {
     "name": "stdout",
     "output_type": "stream",
     "text": [
      "  obj_id                objID          ra        dec  psfMag_u  psfMagerr_u  \\\n",
      "0  obj_0  1237662306187280568  208.612679  39.722593  21.30639     0.072776   \n",
      "\n",
      "   psfMag_g  psfMagerr_g  psfMag_r  psfMagerr_r  psfMag_i  psfMagerr_i  \\\n",
      "0   19.4884     0.019662  18.59998     0.014066  18.26174     0.021058   \n",
      "\n",
      "   psfMag_z  psfMagerr_z              obj_id1    type  \n",
      "0  17.92639     0.024134  1237662306187280568  GALAXY  \n",
      "Calculating visibility of source ZTF18aaroihe (ra: 173.260583, dec: 62.743958) with uh88.\n"
     ]
    },
    {
     "name": "stderr",
     "output_type": "stream",
     "text": [
      "INFO:root:computed dark times (sun_alt: -17.00) between 2018-11-14 00:00:00.000 and 2018-11-27 23:30:00.000. Total of 147.00 hours of dark\n",
      "INFO:root:source is visible for a total of 25.000 hours. Took 1.23e+00 sec\n",
      "INFO:root:computing visibility of source at (ra: 195.110479, dec: 18.619366) from observatory uh88\n",
      "INFO:root:using visibility constraints:\n",
      "\t\t\t\t\t-Time resolution: 30.00 min\n",
      "\t\t\t\t\t-Airmass limit: 2.00\n",
      "\t\t\t\t\t-Sun altitude: -17.00 deg\n",
      "\t\t\t\t\t-Moon distance: 30.00 deg\n"
     ]
    },
    {
     "name": "stdout",
     "output_type": "stream",
     "text": [
      "Empty DataFrame\n",
      "Columns: [obj_id, objID, ra, dec, psfMag_u, psfMagerr_u, psfMag_g, psfMagerr_g, psfMag_r, psfMagerr_r, psfMag_i, psfMagerr_i, psfMag_z, psfMagerr_z, obj_id1, type]\n",
      "Index: []\n",
      "Calculating visibility of source ZTF18aahheaj (ra: 195.110479, dec: 18.619366) with uh88.\n"
     ]
    },
    {
     "name": "stderr",
     "output_type": "stream",
     "text": [
      "INFO:root:computed dark times (sun_alt: -17.00) between 2018-11-14 00:00:00.000 and 2018-11-27 23:30:00.000. Total of 147.00 hours of dark\n",
      "INFO:root:source is visible for a total of 4.000 hours. Took 1.24e+00 sec\n"
     ]
    },
    {
     "name": "stdout",
     "output_type": "stream",
     "text": [
      "Not enough visibility\n"
     ]
    },
    {
     "name": "stderr",
     "output_type": "stream",
     "text": [
      "INFO:root:computing visibility of source at (ra: 129.927577, dec: 41.015372) from observatory uh88\n",
      "INFO:root:using visibility constraints:\n",
      "\t\t\t\t\t-Time resolution: 30.00 min\n",
      "\t\t\t\t\t-Airmass limit: 2.00\n",
      "\t\t\t\t\t-Sun altitude: -17.00 deg\n",
      "\t\t\t\t\t-Moon distance: 30.00 deg\n"
     ]
    },
    {
     "name": "stdout",
     "output_type": "stream",
     "text": [
      "  obj_id                objID          ra        dec  psfMag_u  psfMagerr_u  \\\n",
      "0  obj_0  1237668296597700818  195.111793  18.619763  21.96531     0.144885   \n",
      "\n",
      "   psfMag_g  psfMagerr_g  psfMag_r  psfMagerr_r  psfMag_i  psfMagerr_i  \\\n",
      "0  20.79701     0.038632  20.54889     0.028713  20.22957     0.033007   \n",
      "\n",
      "   psfMag_z  psfMagerr_z              obj_id1    type  \n",
      "0   19.8591     0.074783  1237668296597700818  GALAXY  \n",
      "Calculating visibility of source ZTF18aaqjhqz (ra: 129.927577, dec: 41.015372) with uh88.\n"
     ]
    },
    {
     "name": "stderr",
     "output_type": "stream",
     "text": [
      "INFO:root:computed dark times (sun_alt: -17.00) between 2018-11-14 00:00:00.000 and 2018-11-27 23:30:00.000. Total of 147.00 hours of dark\n",
      "INFO:root:Too close the the moon.\n",
      "INFO:root:source is visible for a total of 57.500 hours. Took 1.23e+00 sec\n",
      "INFO:root:computing visibility of source at (ra: 190.399665, dec: 35.576991) from observatory uh88\n",
      "INFO:root:using visibility constraints:\n",
      "\t\t\t\t\t-Time resolution: 30.00 min\n",
      "\t\t\t\t\t-Airmass limit: 2.00\n",
      "\t\t\t\t\t-Sun altitude: -17.00 deg\n",
      "\t\t\t\t\t-Moon distance: 30.00 deg\n"
     ]
    },
    {
     "name": "stdout",
     "output_type": "stream",
     "text": [
      "  obj_id                objID          ra        dec  psfMag_u  psfMagerr_u  \\\n",
      "0  obj_0  1237657606963528041  129.927483  41.016542  21.45308     0.121635   \n",
      "\n",
      "   psfMag_g  psfMagerr_g  psfMag_r  psfMagerr_r  psfMag_i  psfMagerr_i  \\\n",
      "0  20.29302     0.031359  19.98467      0.02207  19.83011      0.02607   \n",
      "\n",
      "   psfMag_z  psfMagerr_z              obj_id1    type  \n",
      "0  19.82352     0.070031  1237657606963528041  GALAXY  \n",
      "Calculating visibility of source ZTF18aarxzmv (ra: 190.399665, dec: 35.576991) with uh88.\n"
     ]
    },
    {
     "name": "stderr",
     "output_type": "stream",
     "text": [
      "INFO:root:computed dark times (sun_alt: -17.00) between 2018-11-14 00:00:00.000 and 2018-11-27 23:30:00.000. Total of 147.00 hours of dark\n",
      "INFO:root:source is visible for a total of 11.000 hours. Took 1.22e+00 sec\n",
      "INFO:root:computing visibility of source at (ra: 222.409548, dec: 25.370141) from observatory uh88\n",
      "INFO:root:using visibility constraints:\n",
      "\t\t\t\t\t-Time resolution: 30.00 min\n",
      "\t\t\t\t\t-Airmass limit: 2.00\n",
      "\t\t\t\t\t-Sun altitude: -17.00 deg\n",
      "\t\t\t\t\t-Moon distance: 30.00 deg\n"
     ]
    },
    {
     "name": "stdout",
     "output_type": "stream",
     "text": [
      "  obj_id                objID          ra       dec  psfMag_u  psfMagerr_u  \\\n",
      "0  obj_0  1237665025980760086  190.399756  35.57708  23.53631     0.597779   \n",
      "\n",
      "   psfMag_g  psfMagerr_g  psfMag_r  psfMagerr_r  psfMag_i  psfMagerr_i  \\\n",
      "0  22.78392     0.135762  22.23552     0.111012  21.67516     0.120402   \n",
      "\n",
      "   psfMag_z  psfMagerr_z              obj_id1    type  \n",
      "0  22.53475     0.510628  1237665025980760086  GALAXY  \n",
      "Calculating visibility of source ZTF18aaripcr (ra: 222.409548, dec: 25.370141) with uh88.\n"
     ]
    },
    {
     "name": "stderr",
     "output_type": "stream",
     "text": [
      "INFO:root:computed dark times (sun_alt: -17.00) between 2018-11-14 00:00:00.000 and 2018-11-27 23:30:00.000. Total of 147.00 hours of dark\n",
      "INFO:root:source is visible for a total of 0.000 hours. Took 1.22e+00 sec\n"
     ]
    },
    {
     "name": "stdout",
     "output_type": "stream",
     "text": [
      "Not enough visibility\n"
     ]
    },
    {
     "name": "stderr",
     "output_type": "stream",
     "text": [
      "INFO:root:computing visibility of source at (ra: 261.413161, dec: 59.446771) from observatory uh88\n",
      "INFO:root:using visibility constraints:\n",
      "\t\t\t\t\t-Time resolution: 30.00 min\n",
      "\t\t\t\t\t-Airmass limit: 2.00\n",
      "\t\t\t\t\t-Sun altitude: -17.00 deg\n",
      "\t\t\t\t\t-Moon distance: 30.00 deg\n"
     ]
    },
    {
     "name": "stdout",
     "output_type": "stream",
     "text": [
      "  obj_id                objID          ra        dec  psfMag_u  psfMagerr_u  \\\n",
      "0  obj_0  1237665429711159372  222.409203  25.370231  24.21743     1.053938   \n",
      "\n",
      "   psfMag_g  psfMagerr_g  psfMag_r  psfMagerr_r  psfMag_i  psfMagerr_i  \\\n",
      "0  22.60589     0.121371  21.39769     0.069382  20.91167     0.077467   \n",
      "\n",
      "   psfMag_z  psfMagerr_z              obj_id1    type  \n",
      "0  20.42169     0.153112  1237665429711159372  GALAXY  \n",
      "Calculating visibility of source ZTF18aasdted (ra: 261.413161, dec: 59.446771) with uh88.\n"
     ]
    },
    {
     "name": "stderr",
     "output_type": "stream",
     "text": [
      "INFO:root:computed dark times (sun_alt: -17.00) between 2018-11-14 00:00:00.000 and 2018-11-27 23:30:00.000. Total of 147.00 hours of dark\n",
      "INFO:root:source is visible for a total of 0.000 hours. Took 1.23e+00 sec\n"
     ]
    },
    {
     "name": "stdout",
     "output_type": "stream",
     "text": [
      "Not enough visibility\n"
     ]
    },
    {
     "name": "stderr",
     "output_type": "stream",
     "text": [
      "INFO:root:computing visibility of source at (ra: 237.514802, dec: 42.088478) from observatory uh88\n",
      "INFO:root:using visibility constraints:\n",
      "\t\t\t\t\t-Time resolution: 30.00 min\n",
      "\t\t\t\t\t-Airmass limit: 2.00\n",
      "\t\t\t\t\t-Sun altitude: -17.00 deg\n",
      "\t\t\t\t\t-Moon distance: 30.00 deg\n"
     ]
    },
    {
     "name": "stdout",
     "output_type": "stream",
     "text": [
      "Empty DataFrame\n",
      "Columns: [obj_id, objID, ra, dec, psfMag_u, psfMagerr_u, psfMag_g, psfMagerr_g, psfMag_r, psfMagerr_r, psfMag_i, psfMagerr_i, psfMag_z, psfMagerr_z, obj_id1, type]\n",
      "Index: []\n",
      "Calculating visibility of source ZTF18aagstdc (ra: 237.514802, dec: 42.088478) with uh88.\n"
     ]
    },
    {
     "name": "stderr",
     "output_type": "stream",
     "text": [
      "INFO:root:computed dark times (sun_alt: -17.00) between 2018-11-14 00:00:00.000 and 2018-11-27 23:30:00.000. Total of 147.00 hours of dark\n",
      "INFO:root:source is visible for a total of 0.000 hours. Took 1.23e+00 sec\n"
     ]
    },
    {
     "name": "stdout",
     "output_type": "stream",
     "text": [
      "Not enough visibility\n"
     ]
    },
    {
     "name": "stderr",
     "output_type": "stream",
     "text": [
      "INFO:root:computing visibility of source at (ra: 236.566613, dec: 29.094615) from observatory uh88\n",
      "INFO:root:using visibility constraints:\n",
      "\t\t\t\t\t-Time resolution: 30.00 min\n",
      "\t\t\t\t\t-Airmass limit: 2.00\n",
      "\t\t\t\t\t-Sun altitude: -17.00 deg\n",
      "\t\t\t\t\t-Moon distance: 30.00 deg\n"
     ]
    },
    {
     "name": "stdout",
     "output_type": "stream",
     "text": [
      "  obj_id                objID          ra        dec  psfMag_u  psfMagerr_u  \\\n",
      "0  obj_0  1237659161199772454  237.514877  42.088448   23.4848     0.407357   \n",
      "\n",
      "   psfMag_g  psfMagerr_g  psfMag_r  psfMagerr_r  psfMag_i  psfMagerr_i  \\\n",
      "0   22.1203     0.067437  21.81677     0.063858  21.63747     0.081908   \n",
      "\n",
      "   psfMag_z  psfMagerr_z              obj_id1    type  \n",
      "0  21.12197     0.197854  1237659161199772454  GALAXY  \n",
      "Calculating visibility of source ZTF18aaqgbju (ra: 236.566613, dec: 29.094615) with uh88.\n"
     ]
    },
    {
     "name": "stderr",
     "output_type": "stream",
     "text": [
      "INFO:root:computed dark times (sun_alt: -17.00) between 2018-11-14 00:00:00.000 and 2018-11-27 23:30:00.000. Total of 147.00 hours of dark\n",
      "INFO:root:source is visible for a total of 0.000 hours. Took 1.24e+00 sec\n"
     ]
    },
    {
     "name": "stdout",
     "output_type": "stream",
     "text": [
      "Not enough visibility\n"
     ]
    },
    {
     "name": "stderr",
     "output_type": "stream",
     "text": [
      "INFO:root:computing visibility of source at (ra: 238.580035, dec: 39.453919) from observatory uh88\n",
      "INFO:root:using visibility constraints:\n",
      "\t\t\t\t\t-Time resolution: 30.00 min\n",
      "\t\t\t\t\t-Airmass limit: 2.00\n",
      "\t\t\t\t\t-Sun altitude: -17.00 deg\n",
      "\t\t\t\t\t-Moon distance: 30.00 deg\n"
     ]
    },
    {
     "name": "stdout",
     "output_type": "stream",
     "text": [
      "  obj_id                objID          ra        dec  psfMag_u  psfMagerr_u  \\\n",
      "0  obj_0  1237662340011196847  236.566651  29.094216   22.0228      0.14805   \n",
      "\n",
      "   psfMag_g  psfMagerr_g  psfMag_r  psfMagerr_r  psfMag_i  psfMagerr_i  \\\n",
      "0  21.40728     0.044668  21.13501     0.045435  21.03646     0.057065   \n",
      "\n",
      "   psfMag_z  psfMagerr_z              obj_id1    type  \n",
      "0  20.80565     0.179178  1237662340011196847  GALAXY  \n",
      "Calculating visibility of source ZTF18aaunfqq (ra: 238.580035, dec: 39.453919) with uh88.\n"
     ]
    },
    {
     "name": "stderr",
     "output_type": "stream",
     "text": [
      "INFO:root:computed dark times (sun_alt: -17.00) between 2018-11-14 00:00:00.000 and 2018-11-27 23:30:00.000. Total of 147.00 hours of dark\n",
      "INFO:root:source is visible for a total of 0.000 hours. Took 1.24e+00 sec\n"
     ]
    },
    {
     "name": "stdout",
     "output_type": "stream",
     "text": [
      "Not enough visibility\n"
     ]
    },
    {
     "name": "stderr",
     "output_type": "stream",
     "text": [
      "INFO:root:computing visibility of source at (ra: 271.165071, dec: 41.549482) from observatory uh88\n",
      "INFO:root:using visibility constraints:\n",
      "\t\t\t\t\t-Time resolution: 30.00 min\n",
      "\t\t\t\t\t-Airmass limit: 2.00\n",
      "\t\t\t\t\t-Sun altitude: -17.00 deg\n",
      "\t\t\t\t\t-Moon distance: 30.00 deg\n"
     ]
    },
    {
     "name": "stdout",
     "output_type": "stream",
     "text": [
      "  obj_id                objID          ra        dec  psfMag_u  psfMagerr_u  \\\n",
      "0  obj_0  1237659118794834035  238.579561  39.453876  19.95076      0.04874   \n",
      "\n",
      "   psfMag_g  psfMagerr_g  psfMag_r  psfMagerr_r  psfMag_i  psfMagerr_i  \\\n",
      "0  19.09744     0.018694  18.53355     0.018539  18.16307     0.026966   \n",
      "\n",
      "   psfMag_z  psfMagerr_z              obj_id1    type  \n",
      "0  17.98611     0.023863  1237659118794834035  GALAXY  \n",
      "Calculating visibility of source ZTF18aauocnw (ra: 271.165071, dec: 41.549482) with uh88.\n"
     ]
    },
    {
     "name": "stderr",
     "output_type": "stream",
     "text": [
      "INFO:root:computed dark times (sun_alt: -17.00) between 2018-11-14 00:00:00.000 and 2018-11-27 23:30:00.000. Total of 147.00 hours of dark\n",
      "INFO:root:source is visible for a total of 5.000 hours. Took 1.22e+00 sec\n",
      "INFO:root:computing visibility of source at (ra: 207.970375, dec: 47.256988) from observatory uh88\n",
      "INFO:root:using visibility constraints:\n",
      "\t\t\t\t\t-Time resolution: 30.00 min\n",
      "\t\t\t\t\t-Airmass limit: 2.00\n",
      "\t\t\t\t\t-Sun altitude: -17.00 deg\n",
      "\t\t\t\t\t-Moon distance: 30.00 deg\n"
     ]
    },
    {
     "name": "stdout",
     "output_type": "stream",
     "text": [
      "Empty DataFrame\n",
      "Columns: [obj_id, objID, ra, dec, psfMag_u, psfMagerr_u, psfMag_g, psfMagerr_g, psfMag_r, psfMagerr_r, psfMag_i, psfMagerr_i, psfMag_z, psfMagerr_z, obj_id1, type]\n",
      "Index: []\n",
      "Calculating visibility of source ZTF18aaqqoqs (ra: 207.970375, dec: 47.256988) with uh88.\n"
     ]
    },
    {
     "name": "stderr",
     "output_type": "stream",
     "text": [
      "INFO:root:computed dark times (sun_alt: -17.00) between 2018-11-14 00:00:00.000 and 2018-11-27 23:30:00.000. Total of 147.00 hours of dark\n",
      "INFO:root:source is visible for a total of 0.000 hours. Took 1.24e+00 sec\n"
     ]
    },
    {
     "name": "stdout",
     "output_type": "stream",
     "text": [
      "Not enough visibility\n"
     ]
    },
    {
     "name": "stderr",
     "output_type": "stream",
     "text": [
      "INFO:root:computing visibility of source at (ra: 239.671000, dec: 21.120439) from observatory uh88\n",
      "INFO:root:using visibility constraints:\n",
      "\t\t\t\t\t-Time resolution: 30.00 min\n",
      "\t\t\t\t\t-Airmass limit: 2.00\n",
      "\t\t\t\t\t-Sun altitude: -17.00 deg\n",
      "\t\t\t\t\t-Moon distance: 30.00 deg\n"
     ]
    },
    {
     "name": "stdout",
     "output_type": "stream",
     "text": [
      "  obj_id                objID          ra        dec  psfMag_u  psfMagerr_u  \\\n",
      "0  obj_0  1237661150845272312  207.969621  47.257559  22.10938      0.16378   \n",
      "\n",
      "   psfMag_g  psfMagerr_g  psfMag_r  psfMagerr_r  psfMag_i  psfMagerr_i  \\\n",
      "0   21.3041      0.05456  21.02705     0.044495  20.86453     0.054046   \n",
      "\n",
      "   psfMag_z  psfMagerr_z              obj_id1    type  \n",
      "0  20.97474      0.23893  1237661150845272312  GALAXY  \n",
      "Calculating visibility of source ZTF18aauworo (ra: 239.671000, dec: 21.120439) with uh88.\n"
     ]
    },
    {
     "name": "stderr",
     "output_type": "stream",
     "text": [
      "INFO:root:computed dark times (sun_alt: -17.00) between 2018-11-14 00:00:00.000 and 2018-11-27 23:30:00.000. Total of 147.00 hours of dark\n",
      "INFO:root:source is visible for a total of 0.000 hours. Took 1.24e+00 sec\n"
     ]
    },
    {
     "name": "stdout",
     "output_type": "stream",
     "text": [
      "Not enough visibility\n"
     ]
    },
    {
     "name": "stderr",
     "output_type": "stream",
     "text": [
      "INFO:root:computing visibility of source at (ra: 248.928186, dec: 4.825874) from observatory uh88\n",
      "INFO:root:using visibility constraints:\n",
      "\t\t\t\t\t-Time resolution: 30.00 min\n",
      "\t\t\t\t\t-Airmass limit: 2.00\n",
      "\t\t\t\t\t-Sun altitude: -17.00 deg\n",
      "\t\t\t\t\t-Moon distance: 30.00 deg\n"
     ]
    },
    {
     "name": "stdout",
     "output_type": "stream",
     "text": [
      "Empty DataFrame\n",
      "Columns: [obj_id, objID, ra, dec, psfMag_u, psfMagerr_u, psfMag_g, psfMagerr_g, psfMag_r, psfMagerr_r, psfMag_i, psfMagerr_i, psfMag_z, psfMagerr_z, obj_id1, type]\n",
      "Index: []\n",
      "Calculating visibility of source ZTF18aavjnfx (ra: 248.928186, dec: 4.825874) with uh88.\n"
     ]
    },
    {
     "name": "stderr",
     "output_type": "stream",
     "text": [
      "INFO:root:computed dark times (sun_alt: -17.00) between 2018-11-14 00:00:00.000 and 2018-11-27 23:30:00.000. Total of 147.00 hours of dark\n",
      "INFO:root:source is visible for a total of 0.000 hours. Took 1.21e+00 sec\n"
     ]
    },
    {
     "name": "stdout",
     "output_type": "stream",
     "text": [
      "Not enough visibility\n"
     ]
    },
    {
     "name": "stderr",
     "output_type": "stream",
     "text": [
      "INFO:root:computing visibility of source at (ra: 278.560842, dec: 32.919384) from observatory uh88\n",
      "INFO:root:using visibility constraints:\n",
      "\t\t\t\t\t-Time resolution: 30.00 min\n",
      "\t\t\t\t\t-Airmass limit: 2.00\n",
      "\t\t\t\t\t-Sun altitude: -17.00 deg\n",
      "\t\t\t\t\t-Moon distance: 30.00 deg\n"
     ]
    },
    {
     "name": "stdout",
     "output_type": "stream",
     "text": [
      "  obj_id                objID          ra       dec  psfMag_u  psfMagerr_u  \\\n",
      "0  obj_0  1237662198293005502  248.929042  4.825912  23.53501     0.618364   \n",
      "\n",
      "   psfMag_g  psfMagerr_g  psfMag_r  psfMagerr_r  psfMag_i  psfMagerr_i  \\\n",
      "0  21.94683     0.074903  21.51494     0.063934  21.30507     0.075894   \n",
      "\n",
      "   psfMag_z  psfMagerr_z              obj_id1    type  \n",
      "0  21.17863     0.231567  1237662198293005502  GALAXY  \n",
      "Calculating visibility of source ZTF18aauqdyb (ra: 278.560842, dec: 32.919384) with uh88.\n"
     ]
    },
    {
     "name": "stderr",
     "output_type": "stream",
     "text": [
      "INFO:root:computed dark times (sun_alt: -17.00) between 2018-11-14 00:00:00.000 and 2018-11-27 23:30:00.000. Total of 147.00 hours of dark\n",
      "INFO:root:source is visible for a total of 11.000 hours. Took 1.22e+00 sec\n",
      "INFO:root:computing visibility of source at (ra: 173.616128, dec: 46.362625) from observatory uh88\n",
      "INFO:root:using visibility constraints:\n",
      "\t\t\t\t\t-Time resolution: 30.00 min\n",
      "\t\t\t\t\t-Airmass limit: 2.00\n",
      "\t\t\t\t\t-Sun altitude: -17.00 deg\n",
      "\t\t\t\t\t-Moon distance: 30.00 deg\n"
     ]
    },
    {
     "name": "stdout",
     "output_type": "stream",
     "text": [
      "Empty DataFrame\n",
      "Columns: [obj_id, objID, ra, dec, psfMag_u, psfMagerr_u, psfMag_g, psfMagerr_g, psfMag_r, psfMagerr_r, psfMag_i, psfMagerr_i, psfMag_z, psfMagerr_z, obj_id1, type]\n",
      "Index: []\n",
      "Calculating visibility of source ZTF18aauizcr (ra: 173.616128, dec: 46.362625) with uh88.\n"
     ]
    },
    {
     "name": "stderr",
     "output_type": "stream",
     "text": [
      "INFO:root:computed dark times (sun_alt: -17.00) between 2018-11-14 00:00:00.000 and 2018-11-27 23:30:00.000. Total of 147.00 hours of dark\n",
      "INFO:root:source is visible for a total of 27.500 hours. Took 1.22e+00 sec\n",
      "INFO:root:computing visibility of source at (ra: 224.369232, dec: 5.842294) from observatory uh88\n",
      "INFO:root:using visibility constraints:\n",
      "\t\t\t\t\t-Time resolution: 30.00 min\n",
      "\t\t\t\t\t-Airmass limit: 2.00\n",
      "\t\t\t\t\t-Sun altitude: -17.00 deg\n",
      "\t\t\t\t\t-Moon distance: 30.00 deg\n"
     ]
    },
    {
     "name": "stdout",
     "output_type": "stream",
     "text": [
      "  obj_id                objID          ra        dec  psfMag_u  psfMagerr_u  \\\n",
      "0  obj_0  1237660634927005795  173.614236  46.363007   22.5162     0.346313   \n",
      "\n",
      "   psfMag_g  psfMagerr_g  psfMag_r  psfMagerr_r  psfMag_i  psfMagerr_i  \\\n",
      "0  23.14244     0.264438  22.98967     0.468347   23.5472     0.807185   \n",
      "\n",
      "   psfMag_z  psfMagerr_z              obj_id1  type  \n",
      "0  22.82695     1.104369  1237660634927005795  STAR  \n",
      "Calculating visibility of source ZTF18aauxltf (ra: 224.369232, dec: 5.842294) with uh88.\n"
     ]
    },
    {
     "name": "stderr",
     "output_type": "stream",
     "text": [
      "INFO:root:computed dark times (sun_alt: -17.00) between 2018-11-14 00:00:00.000 and 2018-11-27 23:30:00.000. Total of 147.00 hours of dark\n",
      "INFO:root:source is visible for a total of 0.000 hours. Took 1.24e+00 sec\n"
     ]
    },
    {
     "name": "stdout",
     "output_type": "stream",
     "text": [
      "Not enough visibility\n"
     ]
    },
    {
     "name": "stderr",
     "output_type": "stream",
     "text": [
      "INFO:root:computing visibility of source at (ra: 177.568804, dec: 51.453440) from observatory uh88\n",
      "INFO:root:using visibility constraints:\n",
      "\t\t\t\t\t-Time resolution: 30.00 min\n",
      "\t\t\t\t\t-Airmass limit: 2.00\n",
      "\t\t\t\t\t-Sun altitude: -17.00 deg\n",
      "\t\t\t\t\t-Moon distance: 30.00 deg\n"
     ]
    },
    {
     "name": "stdout",
     "output_type": "stream",
     "text": [
      "Empty DataFrame\n",
      "Columns: [obj_id, objID, ra, dec, psfMag_u, psfMagerr_u, psfMag_g, psfMagerr_g, psfMag_r, psfMagerr_r, psfMag_i, psfMagerr_i, psfMag_z, psfMagerr_z, obj_id1, type]\n",
      "Index: []\n",
      "Calculating visibility of source ZTF18aauhxce (ra: 177.568804, dec: 51.453440) with uh88.\n"
     ]
    },
    {
     "name": "stderr",
     "output_type": "stream",
     "text": [
      "INFO:root:computed dark times (sun_alt: -17.00) between 2018-11-14 00:00:00.000 and 2018-11-27 23:30:00.000. Total of 147.00 hours of dark\n",
      "INFO:root:source is visible for a total of 24.000 hours. Took 1.24e+00 sec\n",
      "INFO:root:computing visibility of source at (ra: 244.270759, dec: 50.792451) from observatory uh88\n",
      "INFO:root:using visibility constraints:\n",
      "\t\t\t\t\t-Time resolution: 30.00 min\n",
      "\t\t\t\t\t-Airmass limit: 2.00\n",
      "\t\t\t\t\t-Sun altitude: -17.00 deg\n",
      "\t\t\t\t\t-Moon distance: 30.00 deg\n"
     ]
    },
    {
     "name": "stdout",
     "output_type": "stream",
     "text": [
      "Empty DataFrame\n",
      "Columns: [obj_id, objID, ra, dec, psfMag_u, psfMagerr_u, psfMag_g, psfMagerr_g, psfMag_r, psfMagerr_r, psfMag_i, psfMagerr_i, psfMag_z, psfMagerr_z, obj_id1, type]\n",
      "Index: []\n",
      "Calculating visibility of source ZTF18aaumlfl (ra: 244.270759, dec: 50.792451) with uh88.\n"
     ]
    },
    {
     "name": "stderr",
     "output_type": "stream",
     "text": [
      "INFO:root:computed dark times (sun_alt: -17.00) between 2018-11-14 00:00:00.000 and 2018-11-27 23:30:00.000. Total of 147.00 hours of dark\n",
      "INFO:root:source is visible for a total of 0.000 hours. Took 1.24e+00 sec\n"
     ]
    },
    {
     "name": "stdout",
     "output_type": "stream",
     "text": [
      "Not enough visibility\n"
     ]
    },
    {
     "name": "stderr",
     "output_type": "stream",
     "text": [
      "INFO:root:computing visibility of source at (ra: 160.139424, dec: 47.040104) from observatory uh88\n",
      "INFO:root:using visibility constraints:\n",
      "\t\t\t\t\t-Time resolution: 30.00 min\n",
      "\t\t\t\t\t-Airmass limit: 2.00\n",
      "\t\t\t\t\t-Sun altitude: -17.00 deg\n",
      "\t\t\t\t\t-Moon distance: 30.00 deg\n"
     ]
    },
    {
     "name": "stdout",
     "output_type": "stream",
     "text": [
      "Empty DataFrame\n",
      "Columns: [obj_id, objID, ra, dec, psfMag_u, psfMagerr_u, psfMag_g, psfMagerr_g, psfMag_r, psfMagerr_r, psfMag_i, psfMagerr_i, psfMag_z, psfMagerr_z, obj_id1, type]\n",
      "Index: []\n",
      "Calculating visibility of source ZTF18aawcwsx (ra: 160.139424, dec: 47.040104) with uh88.\n"
     ]
    },
    {
     "name": "stderr",
     "output_type": "stream",
     "text": [
      "INFO:root:computed dark times (sun_alt: -17.00) between 2018-11-14 00:00:00.000 and 2018-11-27 23:30:00.000. Total of 147.00 hours of dark\n",
      "INFO:root:source is visible for a total of 40.000 hours. Took 1.22e+00 sec\n",
      "INFO:root:computing visibility of source at (ra: 165.619155, dec: 34.302427) from observatory uh88\n",
      "INFO:root:using visibility constraints:\n",
      "\t\t\t\t\t-Time resolution: 30.00 min\n",
      "\t\t\t\t\t-Airmass limit: 2.00\n",
      "\t\t\t\t\t-Sun altitude: -17.00 deg\n",
      "\t\t\t\t\t-Moon distance: 30.00 deg\n"
     ]
    },
    {
     "name": "stdout",
     "output_type": "stream",
     "text": [
      "  obj_id                objID          ra        dec  psfMag_u  psfMagerr_u  \\\n",
      "0  obj_0  1237658204504260682  160.139215  47.040234  21.47591     0.086897   \n",
      "\n",
      "   psfMag_g  psfMagerr_g  psfMag_r  psfMagerr_r  psfMag_i  psfMagerr_i  \\\n",
      "0  20.84777     0.028451  20.50858      0.02796  20.40453     0.033958   \n",
      "\n",
      "   psfMag_z  psfMagerr_z              obj_id1    type  \n",
      "0   20.2514     0.096678  1237658204504260682  GALAXY  \n",
      "Calculating visibility of source ZTF18aarktll (ra: 165.619155, dec: 34.302427) with uh88.\n"
     ]
    },
    {
     "name": "stderr",
     "output_type": "stream",
     "text": [
      "INFO:root:computed dark times (sun_alt: -17.00) between 2018-11-14 00:00:00.000 and 2018-11-27 23:30:00.000. Total of 147.00 hours of dark\n",
      "INFO:root:source is visible for a total of 34.000 hours. Took 1.23e+00 sec\n",
      "INFO:root:computing visibility of source at (ra: 194.344252, dec: 26.814877) from observatory uh88\n",
      "INFO:root:using visibility constraints:\n",
      "\t\t\t\t\t-Time resolution: 30.00 min\n",
      "\t\t\t\t\t-Airmass limit: 2.00\n",
      "\t\t\t\t\t-Sun altitude: -17.00 deg\n",
      "\t\t\t\t\t-Moon distance: 30.00 deg\n"
     ]
    },
    {
     "name": "stdout",
     "output_type": "stream",
     "text": [
      "  obj_id                objID          ra        dec  psfMag_u  psfMagerr_u  \\\n",
      "0  obj_0  1237665129610739923  165.620383  34.302674  21.66884     0.138474   \n",
      "\n",
      "   psfMag_g  psfMagerr_g  psfMag_r  psfMagerr_r  psfMag_i  psfMagerr_i  \\\n",
      "0  21.08858       0.0432  20.41796      0.03105   20.2757     0.037754   \n",
      "\n",
      "   psfMag_z  psfMagerr_z              obj_id1    type  \n",
      "0  20.14012     0.103744  1237665129610739923  GALAXY  \n",
      "Calculating visibility of source ZTF18aavnxar (ra: 194.344252, dec: 26.814877) with uh88.\n"
     ]
    },
    {
     "name": "stderr",
     "output_type": "stream",
     "text": [
      "INFO:root:computed dark times (sun_alt: -17.00) between 2018-11-14 00:00:00.000 and 2018-11-27 23:30:00.000. Total of 147.00 hours of dark\n",
      "INFO:root:source is visible for a total of 6.000 hours. Took 1.24e+00 sec\n",
      "INFO:root:computing visibility of source at (ra: 109.483097, dec: 40.985493) from observatory uh88\n",
      "INFO:root:using visibility constraints:\n",
      "\t\t\t\t\t-Time resolution: 30.00 min\n",
      "\t\t\t\t\t-Airmass limit: 2.00\n",
      "\t\t\t\t\t-Sun altitude: -17.00 deg\n",
      "\t\t\t\t\t-Moon distance: 30.00 deg\n"
     ]
    },
    {
     "name": "stdout",
     "output_type": "stream",
     "text": [
      "  obj_id                objID          ra        dec  psfMag_u  psfMagerr_u  \\\n",
      "0  obj_0  1237667322723762350  194.344367  26.814848  21.29335     0.089939   \n",
      "\n",
      "   psfMag_g  psfMagerr_g  psfMag_r  psfMagerr_r  psfMag_i  psfMagerr_i  \\\n",
      "0   19.3334     0.021983  18.51621     0.025421  18.09935     0.028224   \n",
      "\n",
      "   psfMag_z  psfMagerr_z              obj_id1    type  \n",
      "0  17.54832     0.019858  1237667322723762350  GALAXY  \n",
      "Calculating visibility of source ZTF18aarymnz (ra: 109.483097, dec: 40.985493) with uh88.\n"
     ]
    },
    {
     "name": "stderr",
     "output_type": "stream",
     "text": [
      "INFO:root:computed dark times (sun_alt: -17.00) between 2018-11-14 00:00:00.000 and 2018-11-27 23:30:00.000. Total of 147.00 hours of dark\n",
      "INFO:root:Too close the the moon.\n",
      "INFO:root:source is visible for a total of 67.500 hours. Took 1.23e+00 sec\n",
      "INFO:root:computing visibility of source at (ra: 215.449377, dec: 48.166595) from observatory uh88\n",
      "INFO:root:using visibility constraints:\n",
      "\t\t\t\t\t-Time resolution: 30.00 min\n",
      "\t\t\t\t\t-Airmass limit: 2.00\n",
      "\t\t\t\t\t-Sun altitude: -17.00 deg\n",
      "\t\t\t\t\t-Moon distance: 30.00 deg\n"
     ]
    },
    {
     "name": "stdout",
     "output_type": "stream",
     "text": [
      "Empty DataFrame\n",
      "Columns: [obj_id, objID, ra, dec, psfMag_u, psfMagerr_u, psfMag_g, psfMagerr_g, psfMag_r, psfMagerr_r, psfMag_i, psfMagerr_i, psfMag_z, psfMagerr_z, obj_id1, type]\n",
      "Index: []\n",
      "Calculating visibility of source ZTF18aavrzxp (ra: 215.449377, dec: 48.166595) with uh88.\n"
     ]
    },
    {
     "name": "stderr",
     "output_type": "stream",
     "text": [
      "INFO:root:computed dark times (sun_alt: -17.00) between 2018-11-14 00:00:00.000 and 2018-11-27 23:30:00.000. Total of 147.00 hours of dark\n",
      "INFO:root:source is visible for a total of 0.000 hours. Took 1.22e+00 sec\n"
     ]
    },
    {
     "name": "stdout",
     "output_type": "stream",
     "text": [
      "Not enough visibility\n"
     ]
    },
    {
     "name": "stderr",
     "output_type": "stream",
     "text": [
      "INFO:root:computing visibility of source at (ra: 163.166341, dec: 19.945794) from observatory uh88\n",
      "INFO:root:using visibility constraints:\n",
      "\t\t\t\t\t-Time resolution: 30.00 min\n",
      "\t\t\t\t\t-Airmass limit: 2.00\n",
      "\t\t\t\t\t-Sun altitude: -17.00 deg\n",
      "\t\t\t\t\t-Moon distance: 30.00 deg\n"
     ]
    },
    {
     "name": "stdout",
     "output_type": "stream",
     "text": [
      "Empty DataFrame\n",
      "Columns: [obj_id, objID, ra, dec, psfMag_u, psfMagerr_u, psfMag_g, psfMagerr_g, psfMag_r, psfMagerr_r, psfMag_i, psfMagerr_i, psfMag_z, psfMagerr_z, obj_id1, type]\n",
      "Index: []\n",
      "Calculating visibility of source ZTF18aasrssa (ra: 163.166341, dec: 19.945794) with uh88.\n"
     ]
    },
    {
     "name": "stderr",
     "output_type": "stream",
     "text": [
      "INFO:root:computed dark times (sun_alt: -17.00) between 2018-11-14 00:00:00.000 and 2018-11-27 23:30:00.000. Total of 147.00 hours of dark\n",
      "INFO:root:source is visible for a total of 34.000 hours. Took 1.23e+00 sec\n",
      "INFO:root:computing visibility of source at (ra: 247.046356, dec: 39.820130) from observatory uh88\n",
      "INFO:root:using visibility constraints:\n",
      "\t\t\t\t\t-Time resolution: 30.00 min\n",
      "\t\t\t\t\t-Airmass limit: 2.00\n",
      "\t\t\t\t\t-Sun altitude: -17.00 deg\n",
      "\t\t\t\t\t-Moon distance: 30.00 deg\n"
     ]
    },
    {
     "name": "stdout",
     "output_type": "stream",
     "text": [
      "Empty DataFrame\n",
      "Columns: [obj_id, objID, ra, dec, psfMag_u, psfMagerr_u, psfMag_g, psfMagerr_g, psfMag_r, psfMagerr_r, psfMag_i, psfMagerr_i, psfMag_z, psfMagerr_z, obj_id1, type]\n",
      "Index: []\n",
      "Calculating visibility of source ZTF18aaxcntm (ra: 247.046356, dec: 39.820130) with uh88.\n"
     ]
    },
    {
     "name": "stderr",
     "output_type": "stream",
     "text": [
      "INFO:root:computed dark times (sun_alt: -17.00) between 2018-11-14 00:00:00.000 and 2018-11-27 23:30:00.000. Total of 147.00 hours of dark\n",
      "INFO:root:source is visible for a total of 0.000 hours. Took 1.23e+00 sec\n"
     ]
    },
    {
     "name": "stdout",
     "output_type": "stream",
     "text": [
      "Not enough visibility\n"
     ]
    },
    {
     "name": "stderr",
     "output_type": "stream",
     "text": [
      "INFO:root:computing visibility of source at (ra: 185.543231, dec: 26.994553) from observatory uh88\n",
      "INFO:root:using visibility constraints:\n",
      "\t\t\t\t\t-Time resolution: 30.00 min\n",
      "\t\t\t\t\t-Airmass limit: 2.00\n",
      "\t\t\t\t\t-Sun altitude: -17.00 deg\n",
      "\t\t\t\t\t-Moon distance: 30.00 deg\n"
     ]
    },
    {
     "name": "stdout",
     "output_type": "stream",
     "text": [
      "  obj_id                objID          ra        dec  psfMag_u  psfMagerr_u  \\\n",
      "0  obj_0  1237659330852028673  247.046997  39.818865  21.52966     0.213973   \n",
      "\n",
      "   psfMag_g  psfMagerr_g  psfMag_r  psfMagerr_r  psfMag_i  psfMagerr_i  \\\n",
      "0  20.88816     0.370277  21.56107     1.476675  21.31521     1.643046   \n",
      "\n",
      "   psfMag_z  psfMagerr_z              obj_id1    type  \n",
      "0  22.82658     1.218941  1237659330852028673  GALAXY  \n",
      "Calculating visibility of source ZTF18aabxrjp (ra: 185.543231, dec: 26.994553) with uh88.\n"
     ]
    },
    {
     "name": "stderr",
     "output_type": "stream",
     "text": [
      "INFO:root:computed dark times (sun_alt: -17.00) between 2018-11-14 00:00:00.000 and 2018-11-27 23:30:00.000. Total of 147.00 hours of dark\n",
      "INFO:root:source is visible for a total of 14.500 hours. Took 1.22e+00 sec\n",
      "INFO:root:computing visibility of source at (ra: 178.189518, dec: 37.854263) from observatory uh88\n",
      "INFO:root:using visibility constraints:\n",
      "\t\t\t\t\t-Time resolution: 30.00 min\n",
      "\t\t\t\t\t-Airmass limit: 2.00\n",
      "\t\t\t\t\t-Sun altitude: -17.00 deg\n",
      "\t\t\t\t\t-Moon distance: 30.00 deg\n"
     ]
    },
    {
     "name": "stdout",
     "output_type": "stream",
     "text": [
      "  obj_id                objID          ra        dec  psfMag_u  psfMagerr_u  \\\n",
      "0  obj_0  1237667442434441342  185.543456  26.994541  20.96542     0.076252   \n",
      "\n",
      "   psfMag_g  psfMagerr_g  psfMag_r  psfMagerr_r  psfMag_i  psfMagerr_i  \\\n",
      "0   19.0169     0.017824  18.16209     0.019807  17.78327     0.012861   \n",
      "\n",
      "   psfMag_z  psfMagerr_z              obj_id1    type  \n",
      "0  17.52656     0.022307  1237667442434441342  GALAXY  \n",
      "Calculating visibility of source ZTF18aabqgnb (ra: 178.189518, dec: 37.854263) with uh88.\n"
     ]
    },
    {
     "name": "stderr",
     "output_type": "stream",
     "text": [
      "INFO:root:computed dark times (sun_alt: -17.00) between 2018-11-14 00:00:00.000 and 2018-11-27 23:30:00.000. Total of 147.00 hours of dark\n",
      "INFO:root:source is visible for a total of 23.000 hours. Took 1.23e+00 sec\n",
      "INFO:root:computing visibility of source at (ra: 213.829739, dec: 16.892165) from observatory uh88\n",
      "INFO:root:using visibility constraints:\n",
      "\t\t\t\t\t-Time resolution: 30.00 min\n",
      "\t\t\t\t\t-Airmass limit: 2.00\n",
      "\t\t\t\t\t-Sun altitude: -17.00 deg\n",
      "\t\t\t\t\t-Moon distance: 30.00 deg\n"
     ]
    },
    {
     "name": "stdout",
     "output_type": "stream",
     "text": [
      "  obj_id                objID          ra        dec  psfMag_u  psfMagerr_u  \\\n",
      "0  obj_0  1237664338790384206  178.189301  37.854506  22.28948     0.196565   \n",
      "\n",
      "   psfMag_g  psfMagerr_g  psfMag_r  psfMagerr_r  psfMag_i  psfMagerr_i  \\\n",
      "0  21.73587     0.057826  21.50406     0.073394  20.90112     0.077836   \n",
      "\n",
      "   psfMag_z  psfMagerr_z              obj_id1    type  \n",
      "0  20.62174     0.168825  1237664338790384206  GALAXY  \n",
      "Calculating visibility of source ZTF18aawdpnm (ra: 213.829739, dec: 16.892165) with uh88.\n"
     ]
    },
    {
     "name": "stderr",
     "output_type": "stream",
     "text": [
      "INFO:root:computed dark times (sun_alt: -17.00) between 2018-11-14 00:00:00.000 and 2018-11-27 23:30:00.000. Total of 147.00 hours of dark\n",
      "INFO:root:source is visible for a total of 0.000 hours. Took 1.24e+00 sec\n"
     ]
    },
    {
     "name": "stdout",
     "output_type": "stream",
     "text": [
      "Not enough visibility\n"
     ]
    },
    {
     "name": "stderr",
     "output_type": "stream",
     "text": [
      "INFO:root:computing visibility of source at (ra: 213.343762, dec: 22.578353) from observatory uh88\n",
      "INFO:root:using visibility constraints:\n",
      "\t\t\t\t\t-Time resolution: 30.00 min\n",
      "\t\t\t\t\t-Airmass limit: 2.00\n",
      "\t\t\t\t\t-Sun altitude: -17.00 deg\n",
      "\t\t\t\t\t-Moon distance: 30.00 deg\n"
     ]
    },
    {
     "name": "stdout",
     "output_type": "stream",
     "text": [
      "Empty DataFrame\n",
      "Columns: [obj_id, objID, ra, dec, psfMag_u, psfMagerr_u, psfMag_g, psfMagerr_g, psfMag_r, psfMagerr_r, psfMag_i, psfMagerr_i, psfMag_z, psfMagerr_z, obj_id1, type]\n",
      "Index: []\n",
      "Calculating visibility of source ZTF18aauvnhh (ra: 213.343762, dec: 22.578353) with uh88.\n"
     ]
    },
    {
     "name": "stderr",
     "output_type": "stream",
     "text": [
      "INFO:root:computed dark times (sun_alt: -17.00) between 2018-11-14 00:00:00.000 and 2018-11-27 23:30:00.000. Total of 147.00 hours of dark\n",
      "INFO:root:source is visible for a total of 0.000 hours. Took 1.24e+00 sec\n"
     ]
    },
    {
     "name": "stdout",
     "output_type": "stream",
     "text": [
      "Not enough visibility\n"
     ]
    },
    {
     "name": "stderr",
     "output_type": "stream",
     "text": [
      "INFO:root:computing visibility of source at (ra: 224.769072, dec: 19.587246) from observatory uh88\n",
      "INFO:root:using visibility constraints:\n",
      "\t\t\t\t\t-Time resolution: 30.00 min\n",
      "\t\t\t\t\t-Airmass limit: 2.00\n",
      "\t\t\t\t\t-Sun altitude: -17.00 deg\n",
      "\t\t\t\t\t-Moon distance: 30.00 deg\n"
     ]
    },
    {
     "name": "stdout",
     "output_type": "stream",
     "text": [
      "  obj_id                objID          ra        dec  psfMag_u  psfMagerr_u  \\\n",
      "0  obj_0  1237665566606491809  213.343509  22.578103  20.75218     0.064431   \n",
      "\n",
      "   psfMag_g  psfMagerr_g  psfMag_r  psfMagerr_r  psfMag_i  psfMagerr_i  \\\n",
      "0  19.69811     0.015871  19.32889     0.015789  19.00688     0.021136   \n",
      "\n",
      "   psfMag_z  psfMagerr_z              obj_id1    type  \n",
      "0  18.55745     0.036653  1237665566606491809  GALAXY  \n",
      "Calculating visibility of source ZTF18aaqfziz (ra: 224.769072, dec: 19.587246) with uh88.\n"
     ]
    },
    {
     "name": "stderr",
     "output_type": "stream",
     "text": [
      "INFO:root:computed dark times (sun_alt: -17.00) between 2018-11-14 00:00:00.000 and 2018-11-27 23:30:00.000. Total of 147.00 hours of dark\n",
      "INFO:root:source is visible for a total of 0.000 hours. Took 1.22e+00 sec\n"
     ]
    },
    {
     "name": "stdout",
     "output_type": "stream",
     "text": [
      "Not enough visibility\n"
     ]
    },
    {
     "name": "stderr",
     "output_type": "stream",
     "text": [
      "INFO:root:computing visibility of source at (ra: 291.911571, dec: 61.947213) from observatory uh88\n",
      "INFO:root:using visibility constraints:\n",
      "\t\t\t\t\t-Time resolution: 30.00 min\n",
      "\t\t\t\t\t-Airmass limit: 2.00\n",
      "\t\t\t\t\t-Sun altitude: -17.00 deg\n",
      "\t\t\t\t\t-Moon distance: 30.00 deg\n"
     ]
    },
    {
     "name": "stdout",
     "output_type": "stream",
     "text": [
      "  obj_id                objID          ra        dec  psfMag_u  psfMagerr_u  \\\n",
      "0  obj_0  1237665566074470565  224.769073  19.587236  22.13243     0.250983   \n",
      "\n",
      "   psfMag_g  psfMagerr_g  psfMag_r  psfMagerr_r  psfMag_i  psfMagerr_i  \\\n",
      "0  25.11422     0.961434  24.35093     0.735323  24.36196     1.398343   \n",
      "\n",
      "   psfMag_z  psfMagerr_z              obj_id1  type  \n",
      "0  22.82671     0.913341  1237665566074470565  STAR  \n",
      "Calculating visibility of source ZTF18aaupmks (ra: 291.911571, dec: 61.947213) with uh88.\n"
     ]
    },
    {
     "name": "stderr",
     "output_type": "stream",
     "text": [
      "INFO:root:computed dark times (sun_alt: -17.00) between 2018-11-14 00:00:00.000 and 2018-11-27 23:30:00.000. Total of 147.00 hours of dark\n",
      "INFO:root:source is visible for a total of 23.000 hours. Took 1.21e+00 sec\n",
      "INFO:root:computing visibility of source at (ra: 253.354329, dec: 64.124350) from observatory uh88\n",
      "INFO:root:using visibility constraints:\n",
      "\t\t\t\t\t-Time resolution: 30.00 min\n",
      "\t\t\t\t\t-Airmass limit: 2.00\n",
      "\t\t\t\t\t-Sun altitude: -17.00 deg\n",
      "\t\t\t\t\t-Moon distance: 30.00 deg\n"
     ]
    },
    {
     "name": "stdout",
     "output_type": "stream",
     "text": [
      "  obj_id                objID          ra        dec  psfMag_u  psfMagerr_u  \\\n",
      "0  obj_0  1237671939274375496  291.911531  61.947279  19.07774     0.029508   \n",
      "\n",
      "   psfMag_g  psfMagerr_g  psfMag_r  psfMagerr_r  psfMag_i  psfMagerr_i  \\\n",
      "0  17.48538     0.114649  16.89656     0.092783  16.55651     0.091261   \n",
      "\n",
      "   psfMag_z  psfMagerr_z              obj_id1    type  \n",
      "0  16.21852     0.052301  1237671939274375496  GALAXY  \n",
      "Calculating visibility of source ZTF18aawtveo (ra: 253.354329, dec: 64.124350) with uh88.\n"
     ]
    },
    {
     "name": "stderr",
     "output_type": "stream",
     "text": [
      "INFO:root:computed dark times (sun_alt: -17.00) between 2018-11-14 00:00:00.000 and 2018-11-27 23:30:00.000. Total of 147.00 hours of dark\n",
      "INFO:root:source is visible for a total of 0.000 hours. Took 1.23e+00 sec\n"
     ]
    },
    {
     "name": "stdout",
     "output_type": "stream",
     "text": [
      "Not enough visibility\n"
     ]
    },
    {
     "name": "stderr",
     "output_type": "stream",
     "text": [
      "INFO:root:computing visibility of source at (ra: 195.320997, dec: 59.810030) from observatory uh88\n",
      "INFO:root:using visibility constraints:\n",
      "\t\t\t\t\t-Time resolution: 30.00 min\n",
      "\t\t\t\t\t-Airmass limit: 2.00\n",
      "\t\t\t\t\t-Sun altitude: -17.00 deg\n",
      "\t\t\t\t\t-Moon distance: 30.00 deg\n"
     ]
    },
    {
     "name": "stdout",
     "output_type": "stream",
     "text": [
      "  obj_id                objID          ra        dec  psfMag_u  psfMagerr_u  \\\n",
      "0  obj_0  1237671769078563124  253.354356  64.124287  21.28437     0.120152   \n",
      "\n",
      "   psfMag_g  psfMagerr_g  psfMag_r  psfMagerr_r  psfMag_i  psfMagerr_i  \\\n",
      "0  19.56527      0.02102  18.34751       0.0148  18.03019     0.019198   \n",
      "\n",
      "   psfMag_z  psfMagerr_z              obj_id1    type  \n",
      "0  17.73937       0.0276  1237671769078563124  GALAXY  \n",
      "Calculating visibility of source ZTF18aawpcel (ra: 195.320997, dec: 59.810030) with uh88.\n"
     ]
    },
    {
     "name": "stderr",
     "output_type": "stream",
     "text": [
      "INFO:root:computed dark times (sun_alt: -17.00) between 2018-11-14 00:00:00.000 and 2018-11-27 23:30:00.000. Total of 147.00 hours of dark\n",
      "INFO:root:source is visible for a total of 6.000 hours. Took 1.22e+00 sec\n",
      "INFO:root:computing visibility of source at (ra: 231.944990, dec: 34.948197) from observatory uh88\n",
      "INFO:root:using visibility constraints:\n",
      "\t\t\t\t\t-Time resolution: 30.00 min\n",
      "\t\t\t\t\t-Airmass limit: 2.00\n",
      "\t\t\t\t\t-Sun altitude: -17.00 deg\n",
      "\t\t\t\t\t-Moon distance: 30.00 deg\n"
     ]
    },
    {
     "name": "stdout",
     "output_type": "stream",
     "text": [
      "  obj_id                objID          ra        dec  psfMag_u  psfMagerr_u  \\\n",
      "0  obj_0  1237658312406466772  195.318745  59.809945  21.52628     0.137501   \n",
      "\n",
      "   psfMag_g  psfMagerr_g  psfMag_r  psfMagerr_r  psfMag_i  psfMagerr_i  \\\n",
      "0  20.65531     0.031457  20.33131     0.028848  20.12896     0.033171   \n",
      "\n",
      "   psfMag_z  psfMagerr_z              obj_id1    type  \n",
      "0  20.17717      0.15233  1237658312406466772  GALAXY  \n",
      "Calculating visibility of source ZTF18aaqffyp (ra: 231.944990, dec: 34.948197) with uh88.\n"
     ]
    },
    {
     "name": "stderr",
     "output_type": "stream",
     "text": [
      "INFO:root:computed dark times (sun_alt: -17.00) between 2018-11-14 00:00:00.000 and 2018-11-27 23:30:00.000. Total of 147.00 hours of dark\n",
      "INFO:root:source is visible for a total of 0.000 hours. Took 1.21e+00 sec\n"
     ]
    },
    {
     "name": "stdout",
     "output_type": "stream",
     "text": [
      "Not enough visibility\n"
     ]
    },
    {
     "name": "stderr",
     "output_type": "stream",
     "text": [
      "INFO:root:computing visibility of source at (ra: 284.754260, dec: 63.755168) from observatory uh88\n",
      "INFO:root:using visibility constraints:\n",
      "\t\t\t\t\t-Time resolution: 30.00 min\n",
      "\t\t\t\t\t-Airmass limit: 2.00\n",
      "\t\t\t\t\t-Sun altitude: -17.00 deg\n",
      "\t\t\t\t\t-Moon distance: 30.00 deg\n"
     ]
    },
    {
     "name": "stdout",
     "output_type": "stream",
     "text": [
      "  obj_id                objID          ra        dec  psfMag_u  psfMagerr_u  \\\n",
      "0  obj_0  1237661873493442732  231.946475  34.948707  21.91199     0.121003   \n",
      "\n",
      "   psfMag_g  psfMagerr_g  psfMag_r  psfMagerr_r  psfMag_i  psfMagerr_i  \\\n",
      "0  20.77759     0.026118  20.18034     0.023369   19.8802      0.02416   \n",
      "\n",
      "   psfMag_z  psfMagerr_z              obj_id1    type  \n",
      "0  19.76913     0.061824  1237661873493442732  GALAXY  \n",
      "Calculating visibility of source ZTF18aaxcxih (ra: 284.754260, dec: 63.755168) with uh88.\n"
     ]
    },
    {
     "name": "stderr",
     "output_type": "stream",
     "text": [
      "INFO:root:computed dark times (sun_alt: -17.00) between 2018-11-14 00:00:00.000 and 2018-11-27 23:30:00.000. Total of 147.00 hours of dark\n",
      "INFO:root:source is visible for a total of 15.000 hours. Took 1.21e+00 sec\n",
      "INFO:root:computing visibility of source at (ra: 264.583664, dec: 67.849436) from observatory uh88\n",
      "INFO:root:using visibility constraints:\n",
      "\t\t\t\t\t-Time resolution: 30.00 min\n",
      "\t\t\t\t\t-Airmass limit: 2.00\n",
      "\t\t\t\t\t-Sun altitude: -17.00 deg\n",
      "\t\t\t\t\t-Moon distance: 30.00 deg\n"
     ]
    },
    {
     "name": "stdout",
     "output_type": "stream",
     "text": [
      "  obj_id                objID          ra       dec  psfMag_u  psfMagerr_u  \\\n",
      "0  obj_0  1237671772834759882  284.753701  63.75537  23.08825     0.432939   \n",
      "\n",
      "   psfMag_g  psfMagerr_g  psfMag_r  psfMagerr_r  psfMag_i  psfMagerr_i  \\\n",
      "0  21.51617     0.048543  21.16292     0.044065  20.90331     0.049577   \n",
      "\n",
      "   psfMag_z  psfMagerr_z              obj_id1    type  \n",
      "0  20.32368     0.125223  1237671772834759882  GALAXY  \n",
      "Calculating visibility of source ZTF18aaxavsk (ra: 264.583664, dec: 67.849436) with uh88.\n"
     ]
    },
    {
     "name": "stderr",
     "output_type": "stream",
     "text": [
      "INFO:root:computed dark times (sun_alt: -17.00) between 2018-11-14 00:00:00.000 and 2018-11-27 23:30:00.000. Total of 147.00 hours of dark\n",
      "INFO:root:source is visible for a total of 0.000 hours. Took 1.23e+00 sec\n"
     ]
    },
    {
     "name": "stdout",
     "output_type": "stream",
     "text": [
      "Not enough visibility\n"
     ]
    },
    {
     "name": "stderr",
     "output_type": "stream",
     "text": [
      "INFO:root:computing visibility of source at (ra: 206.735199, dec: 43.137281) from observatory uh88\n",
      "INFO:root:using visibility constraints:\n",
      "\t\t\t\t\t-Time resolution: 30.00 min\n",
      "\t\t\t\t\t-Airmass limit: 2.00\n",
      "\t\t\t\t\t-Sun altitude: -17.00 deg\n",
      "\t\t\t\t\t-Moon distance: 30.00 deg\n"
     ]
    },
    {
     "name": "stdout",
     "output_type": "stream",
     "text": [
      "  obj_id                objID          ra        dec  psfMag_u  psfMagerr_u  \\\n",
      "0  obj_0  1237656564896039083  264.582901  67.849377  20.93878     0.068867   \n",
      "\n",
      "   psfMag_g  psfMagerr_g  psfMag_r  psfMagerr_r  psfMag_i  psfMagerr_i  \\\n",
      "0  20.18707     0.023793  20.02706     0.026176  19.96752     0.027469   \n",
      "\n",
      "   psfMag_z  psfMagerr_z              obj_id1    type  \n",
      "0  19.78976     0.069988  1237656564896039083  GALAXY  \n",
      "Calculating visibility of source ZTF18aavrwhu (ra: 206.735199, dec: 43.137281) with uh88.\n"
     ]
    },
    {
     "name": "stderr",
     "output_type": "stream",
     "text": [
      "INFO:root:computed dark times (sun_alt: -17.00) between 2018-11-14 00:00:00.000 and 2018-11-27 23:30:00.000. Total of 147.00 hours of dark\n",
      "INFO:root:source is visible for a total of 0.000 hours. Took 1.24e+00 sec\n"
     ]
    },
    {
     "name": "stdout",
     "output_type": "stream",
     "text": [
      "Not enough visibility\n"
     ]
    },
    {
     "name": "stderr",
     "output_type": "stream",
     "text": [
      "INFO:root:computing visibility of source at (ra: 185.006943, dec: 56.158855) from observatory uh88\n",
      "INFO:root:using visibility constraints:\n",
      "\t\t\t\t\t-Time resolution: 30.00 min\n",
      "\t\t\t\t\t-Airmass limit: 2.00\n",
      "\t\t\t\t\t-Sun altitude: -17.00 deg\n",
      "\t\t\t\t\t-Moon distance: 30.00 deg\n"
     ]
    },
    {
     "name": "stdout",
     "output_type": "stream",
     "text": [
      "  obj_id                objID          ra        dec  psfMag_u  psfMagerr_u  \\\n",
      "0  obj_0  1237661851476295747  206.734329  43.137524  20.34854     0.054289   \n",
      "\n",
      "   psfMag_g  psfMagerr_g  psfMag_r  psfMagerr_r  psfMag_i  psfMagerr_i  \\\n",
      "0  19.16405     0.023314  18.80082     0.019128   18.5785     0.026127   \n",
      "\n",
      "   psfMag_z  psfMagerr_z              obj_id1    type  \n",
      "0  18.48268     0.033187  1237661851476295747  GALAXY  \n",
      "Calculating visibility of source ZTF18aaxdrjn (ra: 185.006943, dec: 56.158855) with uh88.\n"
     ]
    },
    {
     "name": "stderr",
     "output_type": "stream",
     "text": [
      "INFO:root:computed dark times (sun_alt: -17.00) between 2018-11-14 00:00:00.000 and 2018-11-27 23:30:00.000. Total of 147.00 hours of dark\n",
      "INFO:root:source is visible for a total of 16.500 hours. Took 1.22e+00 sec\n",
      "INFO:root:computing visibility of source at (ra: 160.337982, dec: 45.670390) from observatory uh88\n",
      "INFO:root:using visibility constraints:\n",
      "\t\t\t\t\t-Time resolution: 30.00 min\n",
      "\t\t\t\t\t-Airmass limit: 2.00\n",
      "\t\t\t\t\t-Sun altitude: -17.00 deg\n",
      "\t\t\t\t\t-Moon distance: 30.00 deg\n"
     ]
    },
    {
     "name": "stdout",
     "output_type": "stream",
     "text": [
      "Empty DataFrame\n",
      "Columns: [obj_id, objID, ra, dec, psfMag_u, psfMagerr_u, psfMag_g, psfMagerr_g, psfMag_r, psfMagerr_r, psfMag_i, psfMagerr_i, psfMag_z, psfMagerr_z, obj_id1, type]\n",
      "Index: []\n",
      "Calculating visibility of source ZTF18aaxkfos (ra: 160.337982, dec: 45.670390) with uh88.\n"
     ]
    },
    {
     "name": "stderr",
     "output_type": "stream",
     "text": [
      "INFO:root:computed dark times (sun_alt: -17.00) between 2018-11-14 00:00:00.000 and 2018-11-27 23:30:00.000. Total of 147.00 hours of dark\n",
      "INFO:root:source is visible for a total of 39.500 hours. Took 1.24e+00 sec\n",
      "INFO:root:computing visibility of source at (ra: 216.667388, dec: 7.618321) from observatory uh88\n",
      "INFO:root:using visibility constraints:\n",
      "\t\t\t\t\t-Time resolution: 30.00 min\n",
      "\t\t\t\t\t-Airmass limit: 2.00\n",
      "\t\t\t\t\t-Sun altitude: -17.00 deg\n",
      "\t\t\t\t\t-Moon distance: 30.00 deg\n"
     ]
    },
    {
     "name": "stdout",
     "output_type": "stream",
     "text": [
      "  obj_id                objID          ra        dec  psfMag_u  psfMagerr_u  \\\n",
      "0  obj_0  1237661358610710616  160.337791  45.670357  21.42616     0.101365   \n",
      "\n",
      "   psfMag_g  psfMagerr_g  psfMag_r  psfMagerr_r  psfMag_i  psfMagerr_i  \\\n",
      "0  19.81735      0.02889  19.13319      0.03517  18.70194     0.037882   \n",
      "\n",
      "   psfMag_z  psfMagerr_z              obj_id1    type  \n",
      "0  18.30963     0.028792  1237661358610710616  GALAXY  \n",
      "Calculating visibility of source ZTF18aaxmixe (ra: 216.667388, dec: 7.618321) with uh88.\n"
     ]
    },
    {
     "name": "stderr",
     "output_type": "stream",
     "text": [
      "INFO:root:computed dark times (sun_alt: -17.00) between 2018-11-14 00:00:00.000 and 2018-11-27 23:30:00.000. Total of 147.00 hours of dark\n",
      "INFO:root:source is visible for a total of 0.000 hours. Took 1.25e+00 sec\n"
     ]
    },
    {
     "name": "stdout",
     "output_type": "stream",
     "text": [
      "Not enough visibility\n"
     ]
    },
    {
     "name": "stderr",
     "output_type": "stream",
     "text": [
      "INFO:root:computing visibility of source at (ra: 185.142342, dec: 22.842328) from observatory uh88\n",
      "INFO:root:using visibility constraints:\n",
      "\t\t\t\t\t-Time resolution: 30.00 min\n",
      "\t\t\t\t\t-Airmass limit: 2.00\n",
      "\t\t\t\t\t-Sun altitude: -17.00 deg\n",
      "\t\t\t\t\t-Moon distance: 30.00 deg\n"
     ]
    },
    {
     "name": "stdout",
     "output_type": "stream",
     "text": [
      "  obj_id                objID          ra       dec  psfMag_u  psfMagerr_u  \\\n",
      "0  obj_0  1237662269142860020  216.667337  7.618302  20.96642     0.105244   \n",
      "\n",
      "   psfMag_g  psfMagerr_g  psfMag_r  psfMagerr_r  psfMag_i  psfMagerr_i  \\\n",
      "0  19.04299     0.197696  18.22364     0.154876  17.82821     0.128977   \n",
      "\n",
      "   psfMag_z  psfMagerr_z              obj_id1    type  \n",
      "0  17.52028      0.08555  1237662269142860020  GALAXY  \n",
      "Calculating visibility of source ZTF18aaxmacd (ra: 185.142342, dec: 22.842328) with uh88.\n"
     ]
    },
    {
     "name": "stderr",
     "output_type": "stream",
     "text": [
      "INFO:root:computed dark times (sun_alt: -17.00) between 2018-11-14 00:00:00.000 and 2018-11-27 23:30:00.000. Total of 147.00 hours of dark\n",
      "INFO:root:source is visible for a total of 14.000 hours. Took 1.22e+00 sec\n",
      "INFO:root:computing visibility of source at (ra: 241.739810, dec: 59.015209) from observatory uh88\n",
      "INFO:root:using visibility constraints:\n",
      "\t\t\t\t\t-Time resolution: 30.00 min\n",
      "\t\t\t\t\t-Airmass limit: 2.00\n",
      "\t\t\t\t\t-Sun altitude: -17.00 deg\n",
      "\t\t\t\t\t-Moon distance: 30.00 deg\n"
     ]
    },
    {
     "name": "stdout",
     "output_type": "stream",
     "text": [
      "  obj_id                objID          ra        dec  psfMag_u  psfMagerr_u  \\\n",
      "0  obj_0  1237667735582671408  185.142169  22.842074   22.7994     0.286244   \n",
      "\n",
      "   psfMag_g  psfMagerr_g  psfMag_r  psfMagerr_r  psfMag_i  psfMagerr_i  \\\n",
      "0  22.48207     0.098701  22.23389     0.106996  21.95891     0.119445   \n",
      "\n",
      "   psfMag_z  psfMagerr_z              obj_id1    type  \n",
      "0  22.95648     0.600374  1237667735582671408  GALAXY  \n",
      "Calculating visibility of source ZTF18aaxrvzj (ra: 241.739810, dec: 59.015209) with uh88.\n"
     ]
    },
    {
     "name": "stderr",
     "output_type": "stream",
     "text": [
      "INFO:root:computed dark times (sun_alt: -17.00) between 2018-11-14 00:00:00.000 and 2018-11-27 23:30:00.000. Total of 147.00 hours of dark\n",
      "INFO:root:source is visible for a total of 0.000 hours. Took 1.22e+00 sec\n"
     ]
    },
    {
     "name": "stdout",
     "output_type": "stream",
     "text": [
      "Not enough visibility\n"
     ]
    },
    {
     "name": "stderr",
     "output_type": "stream",
     "text": [
      "INFO:root:computing visibility of source at (ra: 260.161091, dec: 52.041936) from observatory uh88\n",
      "INFO:root:using visibility constraints:\n",
      "\t\t\t\t\t-Time resolution: 30.00 min\n",
      "\t\t\t\t\t-Airmass limit: 2.00\n",
      "\t\t\t\t\t-Sun altitude: -17.00 deg\n",
      "\t\t\t\t\t-Moon distance: 30.00 deg\n"
     ]
    },
    {
     "name": "stdout",
     "output_type": "stream",
     "text": [
      "  obj_id                objID          ra        dec  psfMag_u  psfMagerr_u  \\\n",
      "0  obj_0  1237665582712619693  241.739605  59.015233  22.93176     0.400893   \n",
      "\n",
      "   psfMag_g  psfMagerr_g  psfMag_r  psfMagerr_r  psfMag_i  psfMagerr_i  \\\n",
      "0  23.02568      0.16345  22.47673     0.130907  22.38372     0.178379   \n",
      "\n",
      "   psfMag_z  psfMagerr_z              obj_id1    type  \n",
      "0  21.63581      0.35946  1237665582712619693  GALAXY  \n",
      "Calculating visibility of source ZTF18aaydmkh (ra: 260.161091, dec: 52.041936) with uh88.\n"
     ]
    },
    {
     "name": "stderr",
     "output_type": "stream",
     "text": [
      "INFO:root:computed dark times (sun_alt: -17.00) between 2018-11-14 00:00:00.000 and 2018-11-27 23:30:00.000. Total of 147.00 hours of dark\n",
      "INFO:root:source is visible for a total of 0.000 hours. Took 1.21e+00 sec\n"
     ]
    },
    {
     "name": "stdout",
     "output_type": "stream",
     "text": [
      "Not enough visibility\n"
     ]
    },
    {
     "name": "stderr",
     "output_type": "stream",
     "text": [
      "INFO:root:computing visibility of source at (ra: 165.570616, dec: 58.234024) from observatory uh88\n",
      "INFO:root:using visibility constraints:\n",
      "\t\t\t\t\t-Time resolution: 30.00 min\n",
      "\t\t\t\t\t-Airmass limit: 2.00\n",
      "\t\t\t\t\t-Sun altitude: -17.00 deg\n",
      "\t\t\t\t\t-Moon distance: 30.00 deg\n"
     ]
    },
    {
     "name": "stdout",
     "output_type": "stream",
     "text": [
      "  obj_id                objID          ra        dec  psfMag_u  psfMagerr_u  \\\n",
      "0  obj_0  1237651211216355636  260.160908  52.041917  21.08671     0.077528   \n",
      "\n",
      "   psfMag_g  psfMagerr_g  psfMag_r  psfMagerr_r  psfMag_i  psfMagerr_i  \\\n",
      "0   19.5261     0.017334  18.57708     0.016685  17.97443     0.018965   \n",
      "\n",
      "   psfMag_z  psfMagerr_z              obj_id1    type  \n",
      "0  17.69695     0.021833  1237651211216355636  GALAXY  \n",
      "Calculating visibility of source ZTF18aawxlxf (ra: 165.570616, dec: 58.234024) with uh88.\n"
     ]
    },
    {
     "name": "stderr",
     "output_type": "stream",
     "text": [
      "INFO:root:computed dark times (sun_alt: -17.00) between 2018-11-14 00:00:00.000 and 2018-11-27 23:30:00.000. Total of 147.00 hours of dark\n",
      "INFO:root:source is visible for a total of 34.000 hours. Took 1.24e+00 sec\n",
      "INFO:root:computing visibility of source at (ra: 222.747052, dec: 55.194193) from observatory uh88\n",
      "INFO:root:using visibility constraints:\n",
      "\t\t\t\t\t-Time resolution: 30.00 min\n",
      "\t\t\t\t\t-Airmass limit: 2.00\n",
      "\t\t\t\t\t-Sun altitude: -17.00 deg\n",
      "\t\t\t\t\t-Moon distance: 30.00 deg\n"
     ]
    },
    {
     "name": "stdout",
     "output_type": "stream",
     "text": [
      "Empty DataFrame\n",
      "Columns: [obj_id, objID, ra, dec, psfMag_u, psfMagerr_u, psfMag_g, psfMagerr_g, psfMag_r, psfMagerr_r, psfMag_i, psfMagerr_i, psfMag_z, psfMagerr_z, obj_id1, type]\n",
      "Index: []\n",
      "Calculating visibility of source ZTF18aaykuzt (ra: 222.747052, dec: 55.194193) with uh88.\n"
     ]
    },
    {
     "name": "stderr",
     "output_type": "stream",
     "text": [
      "INFO:root:computed dark times (sun_alt: -17.00) between 2018-11-14 00:00:00.000 and 2018-11-27 23:30:00.000. Total of 147.00 hours of dark\n",
      "INFO:root:source is visible for a total of 0.000 hours. Took 1.23e+00 sec\n"
     ]
    },
    {
     "name": "stdout",
     "output_type": "stream",
     "text": [
      "Not enough visibility\n"
     ]
    },
    {
     "name": "stderr",
     "output_type": "stream",
     "text": [
      "INFO:root:computing visibility of source at (ra: 216.189203, dec: 5.839848) from observatory uh88\n",
      "INFO:root:using visibility constraints:\n",
      "\t\t\t\t\t-Time resolution: 30.00 min\n",
      "\t\t\t\t\t-Airmass limit: 2.00\n",
      "\t\t\t\t\t-Sun altitude: -17.00 deg\n",
      "\t\t\t\t\t-Moon distance: 30.00 deg\n"
     ]
    },
    {
     "name": "stdout",
     "output_type": "stream",
     "text": [
      "  obj_id                objID          ra        dec  psfMag_u  psfMagerr_u  \\\n",
      "0  obj_0  1237659327093211928  222.747047  55.194218  23.30635     0.513167   \n",
      "\n",
      "   psfMag_g  psfMagerr_g  psfMag_r  psfMagerr_r  psfMag_i  psfMagerr_i  \\\n",
      "0  22.46634     0.092658  21.78066     0.070455  21.58764     0.083456   \n",
      "\n",
      "   psfMag_z  psfMagerr_z              obj_id1    type  \n",
      "0  21.80393     0.339844  1237659327093211928  GALAXY  \n",
      "Calculating visibility of source ZTF18aaxxewy (ra: 216.189203, dec: 5.839848) with uh88.\n"
     ]
    },
    {
     "name": "stderr",
     "output_type": "stream",
     "text": [
      "INFO:root:computed dark times (sun_alt: -17.00) between 2018-11-14 00:00:00.000 and 2018-11-27 23:30:00.000. Total of 147.00 hours of dark\n",
      "INFO:root:source is visible for a total of 0.000 hours. Took 1.24e+00 sec\n"
     ]
    },
    {
     "name": "stdout",
     "output_type": "stream",
     "text": [
      "Not enough visibility\n"
     ]
    },
    {
     "name": "stderr",
     "output_type": "stream",
     "text": [
      "INFO:root:computing visibility of source at (ra: 217.972839, dec: 38.431160) from observatory uh88\n",
      "INFO:root:using visibility constraints:\n",
      "\t\t\t\t\t-Time resolution: 30.00 min\n",
      "\t\t\t\t\t-Airmass limit: 2.00\n",
      "\t\t\t\t\t-Sun altitude: -17.00 deg\n",
      "\t\t\t\t\t-Moon distance: 30.00 deg\n"
     ]
    },
    {
     "name": "stdout",
     "output_type": "stream",
     "text": [
      "  obj_id                objID          ra       dec  psfMag_u  psfMagerr_u  \\\n",
      "0  obj_0  1237662266995245194  216.189454  5.839205  20.26801     0.045194   \n",
      "\n",
      "   psfMag_g  psfMagerr_g  psfMag_r  psfMagerr_r  psfMag_i  psfMagerr_i  \\\n",
      "0  19.40882     0.020981  19.19139     0.018153  18.92146     0.018682   \n",
      "\n",
      "   psfMag_z  psfMagerr_z              obj_id1    type  \n",
      "0  18.62503     0.036419  1237662266995245194  GALAXY  \n",
      "Calculating visibility of source ZTF18aayjomr (ra: 217.972839, dec: 38.431160) with uh88.\n"
     ]
    },
    {
     "name": "stderr",
     "output_type": "stream",
     "text": [
      "INFO:root:computed dark times (sun_alt: -17.00) between 2018-11-14 00:00:00.000 and 2018-11-27 23:30:00.000. Total of 147.00 hours of dark\n",
      "INFO:root:source is visible for a total of 0.000 hours. Took 1.23e+00 sec\n"
     ]
    },
    {
     "name": "stdout",
     "output_type": "stream",
     "text": [
      "Not enough visibility\n"
     ]
    },
    {
     "name": "stderr",
     "output_type": "stream",
     "text": [
      "INFO:root:computing visibility of source at (ra: 232.576178, dec: 57.658500) from observatory uh88\n",
      "INFO:root:using visibility constraints:\n",
      "\t\t\t\t\t-Time resolution: 30.00 min\n",
      "\t\t\t\t\t-Airmass limit: 2.00\n",
      "\t\t\t\t\t-Sun altitude: -17.00 deg\n",
      "\t\t\t\t\t-Moon distance: 30.00 deg\n"
     ]
    },
    {
     "name": "stdout",
     "output_type": "stream",
     "text": [
      "Empty DataFrame\n",
      "Columns: [obj_id, objID, ra, dec, psfMag_u, psfMagerr_u, psfMag_g, psfMagerr_g, psfMag_r, psfMagerr_r, psfMag_i, psfMagerr_i, psfMag_z, psfMagerr_z, obj_id1, type]\n",
      "Index: []\n",
      "Calculating visibility of source ZTF18aaxqyki (ra: 232.576178, dec: 57.658500) with uh88.\n"
     ]
    },
    {
     "name": "stderr",
     "output_type": "stream",
     "text": [
      "INFO:root:computed dark times (sun_alt: -17.00) between 2018-11-14 00:00:00.000 and 2018-11-27 23:30:00.000. Total of 147.00 hours of dark\n",
      "INFO:root:source is visible for a total of 0.000 hours. Took 1.22e+00 sec\n"
     ]
    },
    {
     "name": "stdout",
     "output_type": "stream",
     "text": [
      "Not enough visibility\n"
     ]
    },
    {
     "name": "stderr",
     "output_type": "stream",
     "text": [
      "INFO:root:computing visibility of source at (ra: 156.527241, dec: 47.274287) from observatory uh88\n",
      "INFO:root:using visibility constraints:\n",
      "\t\t\t\t\t-Time resolution: 30.00 min\n",
      "\t\t\t\t\t-Airmass limit: 2.00\n",
      "\t\t\t\t\t-Sun altitude: -17.00 deg\n",
      "\t\t\t\t\t-Moon distance: 30.00 deg\n"
     ]
    },
    {
     "name": "stdout",
     "output_type": "stream",
     "text": [
      "Empty DataFrame\n",
      "Columns: [obj_id, objID, ra, dec, psfMag_u, psfMagerr_u, psfMag_g, psfMagerr_g, psfMag_r, psfMagerr_r, psfMag_i, psfMagerr_i, psfMag_z, psfMagerr_z, obj_id1, type]\n",
      "Index: []\n",
      "Calculating visibility of source ZTF18aaxnkos (ra: 156.527241, dec: 47.274287) with uh88.\n"
     ]
    },
    {
     "name": "stderr",
     "output_type": "stream",
     "text": [
      "INFO:root:computed dark times (sun_alt: -17.00) between 2018-11-14 00:00:00.000 and 2018-11-27 23:30:00.000. Total of 147.00 hours of dark\n",
      "INFO:root:source is visible for a total of 43.500 hours. Took 1.21e+00 sec\n",
      "INFO:root:computing visibility of source at (ra: 198.667748, dec: 24.005746) from observatory uh88\n",
      "INFO:root:using visibility constraints:\n",
      "\t\t\t\t\t-Time resolution: 30.00 min\n",
      "\t\t\t\t\t-Airmass limit: 2.00\n",
      "\t\t\t\t\t-Sun altitude: -17.00 deg\n",
      "\t\t\t\t\t-Moon distance: 30.00 deg\n"
     ]
    },
    {
     "name": "stdout",
     "output_type": "stream",
     "text": [
      "  obj_id                objID          ra        dec  psfMag_u  psfMagerr_u  \\\n",
      "0  obj_0  1237658614124707965  156.526632  47.273202  19.56803     0.055981   \n",
      "\n",
      "   psfMag_g  psfMagerr_g  psfMag_r  psfMagerr_r  psfMag_i  psfMagerr_i  \\\n",
      "0  18.50319     0.023012  18.03819     0.022681  17.76069      0.01135   \n",
      "\n",
      "   psfMag_z  psfMagerr_z              obj_id1    type  \n",
      "0  17.44197     0.019982  1237658614124707965  GALAXY  \n",
      "Calculating visibility of source ZTF18aayidfz (ra: 198.667748, dec: 24.005746) with uh88.\n"
     ]
    },
    {
     "name": "stderr",
     "output_type": "stream",
     "text": [
      "INFO:root:computed dark times (sun_alt: -17.00) between 2018-11-14 00:00:00.000 and 2018-11-27 23:30:00.000. Total of 147.00 hours of dark\n",
      "INFO:root:source is visible for a total of 2.500 hours. Took 1.24e+00 sec\n"
     ]
    },
    {
     "name": "stdout",
     "output_type": "stream",
     "text": [
      "Not enough visibility\n"
     ]
    },
    {
     "name": "stderr",
     "output_type": "stream",
     "text": [
      "INFO:root:computing visibility of source at (ra: 232.043459, dec: 16.929110) from observatory uh88\n",
      "INFO:root:using visibility constraints:\n",
      "\t\t\t\t\t-Time resolution: 30.00 min\n",
      "\t\t\t\t\t-Airmass limit: 2.00\n",
      "\t\t\t\t\t-Sun altitude: -17.00 deg\n",
      "\t\t\t\t\t-Moon distance: 30.00 deg\n"
     ]
    },
    {
     "name": "stdout",
     "output_type": "stream",
     "text": [
      "Empty DataFrame\n",
      "Columns: [obj_id, objID, ra, dec, psfMag_u, psfMagerr_u, psfMag_g, psfMagerr_g, psfMag_r, psfMagerr_r, psfMag_i, psfMagerr_i, psfMag_z, psfMagerr_z, obj_id1, type]\n",
      "Index: []\n",
      "Calculating visibility of source ZTF18aaylcvo (ra: 232.043459, dec: 16.929110) with uh88.\n"
     ]
    },
    {
     "name": "stderr",
     "output_type": "stream",
     "text": [
      "INFO:root:computed dark times (sun_alt: -17.00) between 2018-11-14 00:00:00.000 and 2018-11-27 23:30:00.000. Total of 147.00 hours of dark\n",
      "INFO:root:source is visible for a total of 0.000 hours. Took 1.23e+00 sec\n"
     ]
    },
    {
     "name": "stdout",
     "output_type": "stream",
     "text": [
      "Not enough visibility\n"
     ]
    },
    {
     "name": "stderr",
     "output_type": "stream",
     "text": [
      "INFO:root:computing visibility of source at (ra: 183.449632, dec: 40.715653) from observatory uh88\n",
      "INFO:root:using visibility constraints:\n",
      "\t\t\t\t\t-Time resolution: 30.00 min\n",
      "\t\t\t\t\t-Airmass limit: 2.00\n",
      "\t\t\t\t\t-Sun altitude: -17.00 deg\n",
      "\t\t\t\t\t-Moon distance: 30.00 deg\n"
     ]
    },
    {
     "name": "stdout",
     "output_type": "stream",
     "text": [
      "Empty DataFrame\n",
      "Columns: [obj_id, objID, ra, dec, psfMag_u, psfMagerr_u, psfMag_g, psfMagerr_g, psfMag_r, psfMagerr_r, psfMag_i, psfMagerr_i, psfMag_z, psfMagerr_z, obj_id1, type]\n",
      "Index: []\n",
      "Calculating visibility of source ZTF18aayivxm (ra: 183.449632, dec: 40.715653) with uh88.\n"
     ]
    },
    {
     "name": "stderr",
     "output_type": "stream",
     "text": [
      "INFO:root:computed dark times (sun_alt: -17.00) between 2018-11-14 00:00:00.000 and 2018-11-27 23:30:00.000. Total of 147.00 hours of dark\n",
      "INFO:root:source is visible for a total of 18.000 hours. Took 1.22e+00 sec\n",
      "INFO:root:computing visibility of source at (ra: 183.387376, dec: 25.451561) from observatory uh88\n",
      "INFO:root:using visibility constraints:\n",
      "\t\t\t\t\t-Time resolution: 30.00 min\n",
      "\t\t\t\t\t-Airmass limit: 2.00\n",
      "\t\t\t\t\t-Sun altitude: -17.00 deg\n",
      "\t\t\t\t\t-Moon distance: 30.00 deg\n"
     ]
    },
    {
     "name": "stdout",
     "output_type": "stream",
     "text": [
      "  obj_id                objID          ra        dec  psfMag_u  psfMagerr_u  \\\n",
      "0  obj_0  1237664669518790823  183.450131  40.714962  22.86845     0.300259   \n",
      "\n",
      "   psfMag_g  psfMagerr_g  psfMag_r  psfMagerr_r  psfMag_i  psfMagerr_i  \\\n",
      "0  25.11443     2.934758  24.80223     3.865805  22.75407      1.28672   \n",
      "\n",
      "   psfMag_z  psfMagerr_z              obj_id1  type  \n",
      "0  22.82695     1.263368  1237664669518790823  STAR  \n",
      "Calculating visibility of source ZTF18aayxupv (ra: 183.387376, dec: 25.451561) with uh88.\n"
     ]
    },
    {
     "name": "stderr",
     "output_type": "stream",
     "text": [
      "INFO:root:computed dark times (sun_alt: -17.00) between 2018-11-14 00:00:00.000 and 2018-11-27 23:30:00.000. Total of 147.00 hours of dark\n",
      "INFO:root:source is visible for a total of 16.500 hours. Took 1.27e+00 sec\n",
      "INFO:root:computing visibility of source at (ra: 224.878285, dec: 28.183015) from observatory uh88\n",
      "INFO:root:using visibility constraints:\n",
      "\t\t\t\t\t-Time resolution: 30.00 min\n",
      "\t\t\t\t\t-Airmass limit: 2.00\n",
      "\t\t\t\t\t-Sun altitude: -17.00 deg\n",
      "\t\t\t\t\t-Moon distance: 30.00 deg\n"
     ]
    },
    {
     "name": "stdout",
     "output_type": "stream",
     "text": [
      "  obj_id                objID          ra        dec  psfMag_u  psfMagerr_u  \\\n",
      "0  obj_0  1237667912203239535  183.387541  25.451254  21.06961     0.077501   \n",
      "\n",
      "   psfMag_g  psfMagerr_g  psfMag_r  psfMagerr_r  psfMag_i  psfMagerr_i  \\\n",
      "0  19.78764     0.020604   19.1181     0.018907  18.78625     0.023715   \n",
      "\n",
      "   psfMag_z  psfMagerr_z              obj_id1    type  \n",
      "0  18.48936     0.032782  1237667912203239535  GALAXY  \n",
      "Calculating visibility of source ZTF18aaykmzg (ra: 224.878285, dec: 28.183015) with uh88.\n"
     ]
    },
    {
     "name": "stderr",
     "output_type": "stream",
     "text": [
      "INFO:root:computed dark times (sun_alt: -17.00) between 2018-11-14 00:00:00.000 and 2018-11-27 23:30:00.000. Total of 147.00 hours of dark\n",
      "INFO:root:source is visible for a total of 0.000 hours. Took 1.23e+00 sec\n"
     ]
    },
    {
     "name": "stdout",
     "output_type": "stream",
     "text": [
      "Not enough visibility\n"
     ]
    },
    {
     "name": "stderr",
     "output_type": "stream",
     "text": [
      "INFO:root:computing visibility of source at (ra: 223.701669, dec: 5.507432) from observatory uh88\n",
      "INFO:root:using visibility constraints:\n",
      "\t\t\t\t\t-Time resolution: 30.00 min\n",
      "\t\t\t\t\t-Airmass limit: 2.00\n",
      "\t\t\t\t\t-Sun altitude: -17.00 deg\n",
      "\t\t\t\t\t-Moon distance: 30.00 deg\n"
     ]
    },
    {
     "name": "stdout",
     "output_type": "stream",
     "text": [
      "  obj_id                objID          ra        dec  psfMag_u  psfMagerr_u  \\\n",
      "0  obj_0  1237665102215250161  224.878326  28.183001  21.04265     0.140274   \n",
      "\n",
      "   psfMag_g  psfMagerr_g  psfMag_r  psfMagerr_r  psfMag_i  psfMagerr_i  \\\n",
      "0  19.20593     0.109847  18.46818     0.107461  18.11191       0.1139   \n",
      "\n",
      "   psfMag_z  psfMagerr_z              obj_id1    type  \n",
      "0  17.68827     0.132969  1237665102215250161  GALAXY  \n",
      "Calculating visibility of source ZTF18aaxxfah (ra: 223.701669, dec: 5.507432) with uh88.\n"
     ]
    },
    {
     "name": "stderr",
     "output_type": "stream",
     "text": [
      "INFO:root:computed dark times (sun_alt: -17.00) between 2018-11-14 00:00:00.000 and 2018-11-27 23:30:00.000. Total of 147.00 hours of dark\n",
      "INFO:root:source is visible for a total of 0.000 hours. Took 1.29e+00 sec\n"
     ]
    },
    {
     "name": "stdout",
     "output_type": "stream",
     "text": [
      "Not enough visibility\n"
     ]
    },
    {
     "name": "stderr",
     "output_type": "stream",
     "text": [
      "INFO:root:computing visibility of source at (ra: 200.116502, dec: 62.300840) from observatory uh88\n",
      "INFO:root:using visibility constraints:\n",
      "\t\t\t\t\t-Time resolution: 30.00 min\n",
      "\t\t\t\t\t-Airmass limit: 2.00\n",
      "\t\t\t\t\t-Sun altitude: -17.00 deg\n",
      "\t\t\t\t\t-Moon distance: 30.00 deg\n"
     ]
    },
    {
     "name": "stdout",
     "output_type": "stream",
     "text": [
      "  obj_id                objID          ra       dec  psfMag_u  psfMagerr_u  \\\n",
      "0  obj_0  1237655743481446665  223.700492  5.506802  20.21942      0.04789   \n",
      "\n",
      "   psfMag_g  psfMagerr_g  psfMag_r  psfMagerr_r  psfMag_i  psfMagerr_i  \\\n",
      "0  19.25988     0.022056  19.11039     0.021633  19.01869     0.022874   \n",
      "\n",
      "   psfMag_z  psfMagerr_z              obj_id1    type  \n",
      "0  18.95615     0.049478  1237655743481446665  GALAXY  \n",
      "Calculating visibility of source ZTF18aayjyub (ra: 200.116502, dec: 62.300840) with uh88.\n"
     ]
    },
    {
     "name": "stderr",
     "output_type": "stream",
     "text": [
      "INFO:root:computed dark times (sun_alt: -17.00) between 2018-11-14 00:00:00.000 and 2018-11-27 23:30:00.000. Total of 147.00 hours of dark\n",
      "INFO:root:source is visible for a total of 2.000 hours. Took 1.22e+00 sec\n"
     ]
    },
    {
     "name": "stdout",
     "output_type": "stream",
     "text": [
      "Not enough visibility\n"
     ]
    },
    {
     "name": "stderr",
     "output_type": "stream",
     "text": [
      "INFO:root:computing visibility of source at (ra: 249.633320, dec: 5.126474) from observatory uh88\n",
      "INFO:root:using visibility constraints:\n",
      "\t\t\t\t\t-Time resolution: 30.00 min\n",
      "\t\t\t\t\t-Airmass limit: 2.00\n",
      "\t\t\t\t\t-Sun altitude: -17.00 deg\n",
      "\t\t\t\t\t-Moon distance: 30.00 deg\n"
     ]
    },
    {
     "name": "stdout",
     "output_type": "stream",
     "text": [
      "  obj_id                objID          ra        dec  psfMag_u  psfMagerr_u  \\\n",
      "0  obj_0  1237655465382380063  200.116347  62.301101  23.16566     0.406334   \n",
      "\n",
      "   psfMag_g  psfMagerr_g  psfMag_r  psfMagerr_r  psfMag_i  psfMagerr_i  \\\n",
      "0  22.81983     0.133423  22.52886     0.142477  23.00999     0.332944   \n",
      "\n",
      "   psfMag_z  psfMagerr_z              obj_id1    type  \n",
      "0  22.18091     0.530638  1237655465382380063  GALAXY  \n",
      "Calculating visibility of source ZTF18aaylbjm (ra: 249.633320, dec: 5.126474) with uh88.\n"
     ]
    },
    {
     "name": "stderr",
     "output_type": "stream",
     "text": [
      "INFO:root:computed dark times (sun_alt: -17.00) between 2018-11-14 00:00:00.000 and 2018-11-27 23:30:00.000. Total of 147.00 hours of dark\n",
      "INFO:root:source is visible for a total of 0.000 hours. Took 1.22e+00 sec\n"
     ]
    },
    {
     "name": "stdout",
     "output_type": "stream",
     "text": [
      "Not enough visibility\n"
     ]
    },
    {
     "name": "stderr",
     "output_type": "stream",
     "text": [
      "INFO:root:computing visibility of source at (ra: 180.478571, dec: 36.895196) from observatory uh88\n",
      "INFO:root:using visibility constraints:\n",
      "\t\t\t\t\t-Time resolution: 30.00 min\n",
      "\t\t\t\t\t-Airmass limit: 2.00\n",
      "\t\t\t\t\t-Sun altitude: -17.00 deg\n",
      "\t\t\t\t\t-Moon distance: 30.00 deg\n"
     ]
    },
    {
     "name": "stdout",
     "output_type": "stream",
     "text": [
      "  obj_id                objID          ra      dec  psfMag_u  psfMagerr_u  \\\n",
      "0  obj_0  1237662198830138199  249.633299  5.12662  22.12683     0.177862   \n",
      "\n",
      "   psfMag_g  psfMagerr_g  psfMag_r  psfMagerr_r  psfMag_i  psfMagerr_i  \\\n",
      "0  21.20874     0.039674  20.72727     0.034337  20.61213     0.043806   \n",
      "\n",
      "   psfMag_z  psfMagerr_z              obj_id1    type  \n",
      "0  20.41178     0.123521  1237662198830138199  GALAXY  \n",
      "Calculating visibility of source ZTF18aayivoq (ra: 180.478571, dec: 36.895196) with uh88.\n"
     ]
    },
    {
     "name": "stderr",
     "output_type": "stream",
     "text": [
      "INFO:root:computed dark times (sun_alt: -17.00) between 2018-11-14 00:00:00.000 and 2018-11-27 23:30:00.000. Total of 147.00 hours of dark\n",
      "INFO:root:source is visible for a total of 20.500 hours. Took 1.25e+00 sec\n",
      "INFO:root:computing visibility of source at (ra: 244.741587, dec: 56.716880) from observatory uh88\n",
      "INFO:root:using visibility constraints:\n",
      "\t\t\t\t\t-Time resolution: 30.00 min\n",
      "\t\t\t\t\t-Airmass limit: 2.00\n",
      "\t\t\t\t\t-Sun altitude: -17.00 deg\n",
      "\t\t\t\t\t-Moon distance: 30.00 deg\n"
     ]
    },
    {
     "name": "stdout",
     "output_type": "stream",
     "text": [
      "  obj_id                objID        ra        dec  psfMag_u  psfMagerr_u  \\\n",
      "0  obj_0  1237664818212831343  180.4787  36.895218  20.25337     0.045519   \n",
      "\n",
      "   psfMag_g  psfMagerr_g  psfMag_r  psfMagerr_r  psfMag_i  psfMagerr_i  \\\n",
      "0   18.3768     0.024508  17.45941     0.017942  17.09779     0.019015   \n",
      "\n",
      "   psfMag_z  psfMagerr_z              obj_id1    type  \n",
      "0  16.80004     0.020627  1237664818212831343  GALAXY  \n",
      "Calculating visibility of source ZTF18aazixbw (ra: 244.741587, dec: 56.716880) with uh88.\n"
     ]
    },
    {
     "name": "stderr",
     "output_type": "stream",
     "text": [
      "INFO:root:computed dark times (sun_alt: -17.00) between 2018-11-14 00:00:00.000 and 2018-11-27 23:30:00.000. Total of 147.00 hours of dark\n",
      "INFO:root:source is visible for a total of 0.000 hours. Took 1.21e+00 sec\n"
     ]
    },
    {
     "name": "stdout",
     "output_type": "stream",
     "text": [
      "Not enough visibility\n"
     ]
    },
    {
     "name": "stderr",
     "output_type": "stream",
     "text": [
      "INFO:root:computing visibility of source at (ra: 252.905708, dec: 61.545373) from observatory uh88\n",
      "INFO:root:using visibility constraints:\n",
      "\t\t\t\t\t-Time resolution: 30.00 min\n",
      "\t\t\t\t\t-Airmass limit: 2.00\n",
      "\t\t\t\t\t-Sun altitude: -17.00 deg\n",
      "\t\t\t\t\t-Moon distance: 30.00 deg\n"
     ]
    },
    {
     "name": "stdout",
     "output_type": "stream",
     "text": [
      "Empty DataFrame\n",
      "Columns: [obj_id, objID, ra, dec, psfMag_u, psfMagerr_u, psfMag_g, psfMagerr_g, psfMag_r, psfMagerr_r, psfMag_i, psfMagerr_i, psfMag_z, psfMagerr_z, obj_id1, type]\n",
      "Index: []\n",
      "Calculating visibility of source ZTF18aaxwjmp (ra: 252.905708, dec: 61.545373) with uh88.\n"
     ]
    },
    {
     "name": "stderr",
     "output_type": "stream",
     "text": [
      "INFO:root:computed dark times (sun_alt: -17.00) between 2018-11-14 00:00:00.000 and 2018-11-27 23:30:00.000. Total of 147.00 hours of dark\n",
      "INFO:root:source is visible for a total of 0.000 hours. Took 1.22e+00 sec\n"
     ]
    },
    {
     "name": "stdout",
     "output_type": "stream",
     "text": [
      "Not enough visibility\n"
     ]
    },
    {
     "name": "stderr",
     "output_type": "stream",
     "text": [
      "INFO:root:computing visibility of source at (ra: 199.527617, dec: 27.873393) from observatory uh88\n",
      "INFO:root:using visibility constraints:\n",
      "\t\t\t\t\t-Time resolution: 30.00 min\n",
      "\t\t\t\t\t-Airmass limit: 2.00\n",
      "\t\t\t\t\t-Sun altitude: -17.00 deg\n",
      "\t\t\t\t\t-Moon distance: 30.00 deg\n"
     ]
    },
    {
     "name": "stdout",
     "output_type": "stream",
     "text": [
      "Empty DataFrame\n",
      "Columns: [obj_id, objID, ra, dec, psfMag_u, psfMagerr_u, psfMag_g, psfMagerr_g, psfMag_r, psfMagerr_r, psfMag_i, psfMagerr_i, psfMag_z, psfMagerr_z, obj_id1, type]\n",
      "Index: []\n",
      "Calculating visibility of source ZTF18aajpjdi (ra: 199.527617, dec: 27.873393) with uh88.\n"
     ]
    },
    {
     "name": "stderr",
     "output_type": "stream",
     "text": [
      "INFO:root:computed dark times (sun_alt: -17.00) between 2018-11-14 00:00:00.000 and 2018-11-27 23:30:00.000. Total of 147.00 hours of dark\n",
      "INFO:root:source is visible for a total of 2.500 hours. Took 1.22e+00 sec\n"
     ]
    },
    {
     "name": "stdout",
     "output_type": "stream",
     "text": [
      "Not enough visibility\n"
     ]
    },
    {
     "name": "stderr",
     "output_type": "stream",
     "text": [
      "INFO:root:computing visibility of source at (ra: 242.839452, dec: 36.994282) from observatory uh88\n",
      "INFO:root:using visibility constraints:\n",
      "\t\t\t\t\t-Time resolution: 30.00 min\n",
      "\t\t\t\t\t-Airmass limit: 2.00\n",
      "\t\t\t\t\t-Sun altitude: -17.00 deg\n",
      "\t\t\t\t\t-Moon distance: 30.00 deg\n"
     ]
    },
    {
     "name": "stdout",
     "output_type": "stream",
     "text": [
      "  obj_id                objID          ra        dec  psfMag_u  psfMagerr_u  \\\n",
      "0  obj_0  1237667444587298906  199.527638  27.873153  19.98044     0.048354   \n",
      "\n",
      "   psfMag_g  psfMagerr_g  psfMag_r  psfMagerr_r  psfMag_i  psfMagerr_i  \\\n",
      "0  19.21773     0.026373  19.13364     0.020487  18.83813     0.022381   \n",
      "\n",
      "   psfMag_z  psfMagerr_z              obj_id1    type  \n",
      "0  18.60045     0.035467  1237667444587298906  GALAXY  \n",
      "Calculating visibility of source ZTF18aazblzy (ra: 242.839452, dec: 36.994282) with uh88.\n"
     ]
    },
    {
     "name": "stderr",
     "output_type": "stream",
     "text": [
      "INFO:root:computed dark times (sun_alt: -17.00) between 2018-11-14 00:00:00.000 and 2018-11-27 23:30:00.000. Total of 147.00 hours of dark\n",
      "INFO:root:source is visible for a total of 0.000 hours. Took 1.22e+00 sec\n"
     ]
    },
    {
     "name": "stdout",
     "output_type": "stream",
     "text": [
      "Not enough visibility\n"
     ]
    },
    {
     "name": "stderr",
     "output_type": "stream",
     "text": [
      "INFO:root:computing visibility of source at (ra: 283.841004, dec: 56.588372) from observatory uh88\n",
      "INFO:root:using visibility constraints:\n",
      "\t\t\t\t\t-Time resolution: 30.00 min\n",
      "\t\t\t\t\t-Airmass limit: 2.00\n",
      "\t\t\t\t\t-Sun altitude: -17.00 deg\n",
      "\t\t\t\t\t-Moon distance: 30.00 deg\n"
     ]
    },
    {
     "name": "stdout",
     "output_type": "stream",
     "text": [
      "Empty DataFrame\n",
      "Columns: [obj_id, objID, ra, dec, psfMag_u, psfMagerr_u, psfMag_g, psfMagerr_g, psfMag_r, psfMagerr_r, psfMag_i, psfMagerr_i, psfMag_z, psfMagerr_z, obj_id1, type]\n",
      "Index: []\n",
      "Calculating visibility of source ZTF18aazsabq (ra: 283.841004, dec: 56.588372) with uh88.\n"
     ]
    },
    {
     "name": "stderr",
     "output_type": "stream",
     "text": [
      "INFO:root:computed dark times (sun_alt: -17.00) between 2018-11-14 00:00:00.000 and 2018-11-27 23:30:00.000. Total of 147.00 hours of dark\n",
      "INFO:root:source is visible for a total of 17.000 hours. Took 1.23e+00 sec\n",
      "INFO:root:computing visibility of source at (ra: 174.623497, dec: 20.528692) from observatory uh88\n",
      "INFO:root:using visibility constraints:\n",
      "\t\t\t\t\t-Time resolution: 30.00 min\n",
      "\t\t\t\t\t-Airmass limit: 2.00\n",
      "\t\t\t\t\t-Sun altitude: -17.00 deg\n",
      "\t\t\t\t\t-Moon distance: 30.00 deg\n"
     ]
    },
    {
     "name": "stdout",
     "output_type": "stream",
     "text": [
      "Empty DataFrame\n",
      "Columns: [obj_id, objID, ra, dec, psfMag_u, psfMagerr_u, psfMag_g, psfMagerr_g, psfMag_r, psfMagerr_r, psfMag_i, psfMagerr_i, psfMag_z, psfMagerr_z, obj_id1, type]\n",
      "Index: []\n",
      "Calculating visibility of source ZTF18aazgfkq (ra: 174.623497, dec: 20.528692) with uh88.\n"
     ]
    },
    {
     "name": "stderr",
     "output_type": "stream",
     "text": [
      "INFO:root:computed dark times (sun_alt: -17.00) between 2018-11-14 00:00:00.000 and 2018-11-27 23:30:00.000. Total of 147.00 hours of dark\n",
      "INFO:root:source is visible for a total of 24.000 hours. Took 1.23e+00 sec\n",
      "INFO:root:computing visibility of source at (ra: 224.976643, dec: 39.078829) from observatory uh88\n",
      "INFO:root:using visibility constraints:\n",
      "\t\t\t\t\t-Time resolution: 30.00 min\n",
      "\t\t\t\t\t-Airmass limit: 2.00\n",
      "\t\t\t\t\t-Sun altitude: -17.00 deg\n",
      "\t\t\t\t\t-Moon distance: 30.00 deg\n"
     ]
    },
    {
     "name": "stdout",
     "output_type": "stream",
     "text": [
      "  obj_id                objID          ra        dec  psfMag_u  psfMagerr_u  \\\n",
      "0  obj_0  1237667916489818174  174.622771  20.527706  18.94986     0.036915   \n",
      "\n",
      "   psfMag_g  psfMagerr_g  psfMag_r  psfMagerr_r  psfMag_i  psfMagerr_i  \\\n",
      "0  17.04064     0.023779   16.1179     0.012395  15.81113     0.012815   \n",
      "\n",
      "   psfMag_z  psfMagerr_z              obj_id1    type  \n",
      "0  15.51089     0.021539  1237667916489818174  GALAXY  \n",
      "Calculating visibility of source ZTF18aaxvpsw (ra: 224.976643, dec: 39.078829) with uh88.\n"
     ]
    },
    {
     "name": "stderr",
     "output_type": "stream",
     "text": [
      "INFO:root:computed dark times (sun_alt: -17.00) between 2018-11-14 00:00:00.000 and 2018-11-27 23:30:00.000. Total of 147.00 hours of dark\n",
      "INFO:root:source is visible for a total of 0.000 hours. Took 1.24e+00 sec\n"
     ]
    },
    {
     "name": "stdout",
     "output_type": "stream",
     "text": [
      "Not enough visibility\n"
     ]
    },
    {
     "name": "stderr",
     "output_type": "stream",
     "text": [
      "INFO:root:computing visibility of source at (ra: 194.569507, dec: 27.729285) from observatory uh88\n",
      "INFO:root:using visibility constraints:\n",
      "\t\t\t\t\t-Time resolution: 30.00 min\n",
      "\t\t\t\t\t-Airmass limit: 2.00\n",
      "\t\t\t\t\t-Sun altitude: -17.00 deg\n",
      "\t\t\t\t\t-Moon distance: 30.00 deg\n"
     ]
    },
    {
     "name": "stdout",
     "output_type": "stream",
     "text": [
      "  obj_id                objID          ra        dec  psfMag_u  psfMagerr_u  \\\n",
      "0  obj_0  1237661360769007833  224.976514  39.078769  21.06264     0.069863   \n",
      "\n",
      "   psfMag_g  psfMagerr_g  psfMag_r  psfMagerr_r  psfMag_i  psfMagerr_i  \\\n",
      "0  19.11991     0.015361  18.27571     0.017137  17.87231     0.016402   \n",
      "\n",
      "   psfMag_z  psfMagerr_z              obj_id1    type  \n",
      "0   17.5121     0.026538  1237661360769007833  GALAXY  \n",
      "Calculating visibility of source ZTF18aawczad (ra: 194.569507, dec: 27.729285) with uh88.\n"
     ]
    },
    {
     "name": "stderr",
     "output_type": "stream",
     "text": [
      "INFO:root:computed dark times (sun_alt: -17.00) between 2018-11-14 00:00:00.000 and 2018-11-27 23:30:00.000. Total of 147.00 hours of dark\n",
      "INFO:root:source is visible for a total of 6.000 hours. Took 1.23e+00 sec\n",
      "INFO:root:computing visibility of source at (ra: 266.472504, dec: 31.710562) from observatory uh88\n",
      "INFO:root:using visibility constraints:\n",
      "\t\t\t\t\t-Time resolution: 30.00 min\n",
      "\t\t\t\t\t-Airmass limit: 2.00\n",
      "\t\t\t\t\t-Sun altitude: -17.00 deg\n",
      "\t\t\t\t\t-Moon distance: 30.00 deg\n"
     ]
    },
    {
     "name": "stdout",
     "output_type": "stream",
     "text": [
      "  obj_id                objID          ra        dec  psfMag_u  psfMagerr_u  \\\n",
      "0  obj_0  1237667323797569720  194.570087  27.729674  21.31609     0.095644   \n",
      "\n",
      "   psfMag_g  psfMagerr_g  psfMag_r  psfMagerr_r  psfMag_i  psfMagerr_i  \\\n",
      "0  19.47448     0.021334  18.78769      0.01915  18.40248     0.021651   \n",
      "\n",
      "   psfMag_z  psfMagerr_z              obj_id1    type  \n",
      "0  17.91636     0.025344  1237667323797569720  GALAXY  \n",
      "Calculating visibility of source ZTF18aaytovs (ra: 266.472504, dec: 31.710562) with uh88.\n"
     ]
    },
    {
     "name": "stderr",
     "output_type": "stream",
     "text": [
      "INFO:root:computed dark times (sun_alt: -17.00) between 2018-11-14 00:00:00.000 and 2018-11-27 23:30:00.000. Total of 147.00 hours of dark\n",
      "INFO:root:source is visible for a total of 1.500 hours. Took 1.23e+00 sec\n"
     ]
    },
    {
     "name": "stdout",
     "output_type": "stream",
     "text": [
      "Not enough visibility\n"
     ]
    },
    {
     "name": "stderr",
     "output_type": "stream",
     "text": [
      "INFO:root:computing visibility of source at (ra: 281.585125, dec: 70.737069) from observatory uh88\n",
      "INFO:root:using visibility constraints:\n",
      "\t\t\t\t\t-Time resolution: 30.00 min\n",
      "\t\t\t\t\t-Airmass limit: 2.00\n",
      "\t\t\t\t\t-Sun altitude: -17.00 deg\n",
      "\t\t\t\t\t-Moon distance: 30.00 deg\n"
     ]
    },
    {
     "name": "stdout",
     "output_type": "stream",
     "text": [
      "Empty DataFrame\n",
      "Columns: [obj_id, objID, ra, dec, psfMag_u, psfMagerr_u, psfMag_g, psfMagerr_g, psfMag_r, psfMagerr_r, psfMag_i, psfMagerr_i, psfMag_z, psfMagerr_z, obj_id1, type]\n",
      "Index: []\n",
      "Calculating visibility of source ZTF18abaeawz (ra: 281.585125, dec: 70.737069) with uh88.\n"
     ]
    },
    {
     "name": "stderr",
     "output_type": "stream",
     "text": [
      "INFO:root:computed dark times (sun_alt: -17.00) between 2018-11-14 00:00:00.000 and 2018-11-27 23:30:00.000. Total of 147.00 hours of dark\n",
      "INFO:root:source is visible for a total of 7.500 hours. Took 1.23e+00 sec\n",
      "INFO:root:computing visibility of source at (ra: 269.511440, dec: 69.072814) from observatory uh88\n",
      "INFO:root:using visibility constraints:\n",
      "\t\t\t\t\t-Time resolution: 30.00 min\n",
      "\t\t\t\t\t-Airmass limit: 2.00\n",
      "\t\t\t\t\t-Sun altitude: -17.00 deg\n",
      "\t\t\t\t\t-Moon distance: 30.00 deg\n"
     ]
    },
    {
     "name": "stdout",
     "output_type": "stream",
     "text": [
      "Empty DataFrame\n",
      "Columns: [obj_id, objID, ra, dec, psfMag_u, psfMagerr_u, psfMag_g, psfMagerr_g, psfMag_r, psfMagerr_r, psfMag_i, psfMagerr_i, psfMag_z, psfMagerr_z, obj_id1, type]\n",
      "Index: []\n",
      "Calculating visibility of source ZTF18aazcoob (ra: 269.511440, dec: 69.072814) with uh88.\n"
     ]
    },
    {
     "name": "stderr",
     "output_type": "stream",
     "text": [
      "INFO:root:computed dark times (sun_alt: -17.00) between 2018-11-14 00:00:00.000 and 2018-11-27 23:30:00.000. Total of 147.00 hours of dark\n",
      "INFO:root:source is visible for a total of 0.500 hours. Took 1.23e+00 sec\n"
     ]
    },
    {
     "name": "stdout",
     "output_type": "stream",
     "text": [
      "Not enough visibility\n"
     ]
    },
    {
     "name": "stderr",
     "output_type": "stream",
     "text": [
      "INFO:root:computing visibility of source at (ra: 208.639095, dec: 40.169953) from observatory uh88\n",
      "INFO:root:using visibility constraints:\n",
      "\t\t\t\t\t-Time resolution: 30.00 min\n",
      "\t\t\t\t\t-Airmass limit: 2.00\n",
      "\t\t\t\t\t-Sun altitude: -17.00 deg\n",
      "\t\t\t\t\t-Moon distance: 30.00 deg\n"
     ]
    },
    {
     "name": "stdout",
     "output_type": "stream",
     "text": [
      "Empty DataFrame\n",
      "Columns: [obj_id, objID, ra, dec, psfMag_u, psfMagerr_u, psfMag_g, psfMagerr_g, psfMag_r, psfMagerr_r, psfMag_i, psfMagerr_i, psfMag_z, psfMagerr_z, obj_id1, type]\n",
      "Index: []\n",
      "Calculating visibility of source ZTF18abatffv (ra: 208.639095, dec: 40.169953) with uh88.\n"
     ]
    },
    {
     "name": "stderr",
     "output_type": "stream",
     "text": [
      "INFO:root:computed dark times (sun_alt: -17.00) between 2018-11-14 00:00:00.000 and 2018-11-27 23:30:00.000. Total of 147.00 hours of dark\n",
      "INFO:root:source is visible for a total of 0.000 hours. Took 1.25e+00 sec\n"
     ]
    },
    {
     "name": "stdout",
     "output_type": "stream",
     "text": [
      "Not enough visibility\n"
     ]
    },
    {
     "name": "stderr",
     "output_type": "stream",
     "text": [
      "INFO:root:computing visibility of source at (ra: 238.226810, dec: 50.619472) from observatory uh88\n",
      "INFO:root:using visibility constraints:\n",
      "\t\t\t\t\t-Time resolution: 30.00 min\n",
      "\t\t\t\t\t-Airmass limit: 2.00\n",
      "\t\t\t\t\t-Sun altitude: -17.00 deg\n",
      "\t\t\t\t\t-Moon distance: 30.00 deg\n"
     ]
    },
    {
     "name": "stdout",
     "output_type": "stream",
     "text": [
      "  obj_id                objID          ra        dec  psfMag_u  psfMagerr_u  \\\n",
      "0  obj_0  1237662306724085970  208.640639  40.170591  21.20818     0.071241   \n",
      "\n",
      "   psfMag_g  psfMagerr_g  psfMag_r  psfMagerr_r  psfMag_i  psfMagerr_i  \\\n",
      "0  20.41991     0.025656  19.90858     0.025868  19.66697     0.020944   \n",
      "\n",
      "   psfMag_z  psfMagerr_z              obj_id1    type  \n",
      "0  19.34606     0.050443  1237662306724085970  GALAXY  \n",
      "Calculating visibility of source ZTF18abbpeqo (ra: 238.226810, dec: 50.619472) with uh88.\n"
     ]
    },
    {
     "name": "stderr",
     "output_type": "stream",
     "text": [
      "INFO:root:computed dark times (sun_alt: -17.00) between 2018-11-14 00:00:00.000 and 2018-11-27 23:30:00.000. Total of 147.00 hours of dark\n",
      "INFO:root:source is visible for a total of 0.000 hours. Took 1.23e+00 sec\n"
     ]
    },
    {
     "name": "stdout",
     "output_type": "stream",
     "text": [
      "Not enough visibility\n"
     ]
    },
    {
     "name": "stderr",
     "output_type": "stream",
     "text": [
      "INFO:root:computing visibility of source at (ra: 202.980707, dec: 23.283223) from observatory uh88\n",
      "INFO:root:using visibility constraints:\n",
      "\t\t\t\t\t-Time resolution: 30.00 min\n",
      "\t\t\t\t\t-Airmass limit: 2.00\n",
      "\t\t\t\t\t-Sun altitude: -17.00 deg\n",
      "\t\t\t\t\t-Moon distance: 30.00 deg\n"
     ]
    },
    {
     "name": "stdout",
     "output_type": "stream",
     "text": [
      "  obj_id                objID          ra        dec  psfMag_u  psfMagerr_u  \\\n",
      "0  obj_0  1237655349964832923  238.225681  50.618748  19.34716     0.031835   \n",
      "\n",
      "   psfMag_g  psfMagerr_g  psfMag_r  psfMagerr_r  psfMag_i  psfMagerr_i  \\\n",
      "0  18.05299     0.017073  17.57787     0.018769  17.15251     0.011964   \n",
      "\n",
      "   psfMag_z  psfMagerr_z              obj_id1    type  \n",
      "0  16.90134     0.019862  1237655349964832923  GALAXY  \n",
      "Calculating visibility of source ZTF18aazxthg (ra: 202.980707, dec: 23.283223) with uh88.\n"
     ]
    },
    {
     "name": "stderr",
     "output_type": "stream",
     "text": [
      "INFO:root:computed dark times (sun_alt: -17.00) between 2018-11-14 00:00:00.000 and 2018-11-27 23:30:00.000. Total of 147.00 hours of dark\n",
      "INFO:root:source is visible for a total of 0.500 hours. Took 1.22e+00 sec\n"
     ]
    },
    {
     "name": "stdout",
     "output_type": "stream",
     "text": [
      "Not enough visibility\n"
     ]
    },
    {
     "name": "stderr",
     "output_type": "stream",
     "text": [
      "INFO:root:computing visibility of source at (ra: 331.405598, dec: 44.837658) from observatory uh88\n",
      "INFO:root:using visibility constraints:\n",
      "\t\t\t\t\t-Time resolution: 30.00 min\n",
      "\t\t\t\t\t-Airmass limit: 2.00\n",
      "\t\t\t\t\t-Sun altitude: -17.00 deg\n",
      "\t\t\t\t\t-Moon distance: 30.00 deg\n"
     ]
    },
    {
     "name": "stdout",
     "output_type": "stream",
     "text": [
      "Empty DataFrame\n",
      "Columns: [obj_id, objID, ra, dec, psfMag_u, psfMagerr_u, psfMag_g, psfMagerr_g, psfMag_r, psfMagerr_r, psfMag_i, psfMagerr_i, psfMag_z, psfMagerr_z, obj_id1, type]\n",
      "Index: []\n",
      "Calculating visibility of source ZTF18abbodly (ra: 331.405598, dec: 44.837658) with uh88.\n"
     ]
    },
    {
     "name": "stderr",
     "output_type": "stream",
     "text": [
      "INFO:root:computed dark times (sun_alt: -17.00) between 2018-11-14 00:00:00.000 and 2018-11-27 23:30:00.000. Total of 147.00 hours of dark\n",
      "INFO:root:source is visible for a total of 61.500 hours. Took 1.29e+00 sec\n",
      "INFO:root:computing visibility of source at (ra: 231.549761, dec: 6.357168) from observatory uh88\n",
      "INFO:root:using visibility constraints:\n",
      "\t\t\t\t\t-Time resolution: 30.00 min\n",
      "\t\t\t\t\t-Airmass limit: 2.00\n",
      "\t\t\t\t\t-Sun altitude: -17.00 deg\n",
      "\t\t\t\t\t-Moon distance: 30.00 deg\n"
     ]
    },
    {
     "name": "stdout",
     "output_type": "stream",
     "text": [
      "  obj_id                objID          ra        dec  psfMag_u  psfMagerr_u  \\\n",
      "0  obj_0  1237672026780336738  331.405573  44.837876  21.87865     0.187688   \n",
      "\n",
      "   psfMag_g  psfMagerr_g  psfMag_r  psfMagerr_r  psfMag_i  psfMagerr_i  \\\n",
      "0  19.45885     0.026521  18.26671     0.022795  17.42873     0.016474   \n",
      "\n",
      "   psfMag_z  psfMagerr_z              obj_id1    type  \n",
      "0  16.92957     0.018657  1237672026780336738  GALAXY  \n",
      "Calculating visibility of source ZTF18aaxtcdm (ra: 231.549761, dec: 6.357168) with uh88.\n"
     ]
    },
    {
     "name": "stderr",
     "output_type": "stream",
     "text": [
      "INFO:root:computed dark times (sun_alt: -17.00) between 2018-11-14 00:00:00.000 and 2018-11-27 23:30:00.000. Total of 147.00 hours of dark\n",
      "INFO:root:source is visible for a total of 0.000 hours. Took 1.27e+00 sec\n"
     ]
    },
    {
     "name": "stdout",
     "output_type": "stream",
     "text": [
      "Not enough visibility\n"
     ]
    },
    {
     "name": "stderr",
     "output_type": "stream",
     "text": [
      "INFO:root:computing visibility of source at (ra: 254.905133, dec: 59.073259) from observatory uh88\n",
      "INFO:root:using visibility constraints:\n",
      "\t\t\t\t\t-Time resolution: 30.00 min\n",
      "\t\t\t\t\t-Airmass limit: 2.00\n",
      "\t\t\t\t\t-Sun altitude: -17.00 deg\n",
      "\t\t\t\t\t-Moon distance: 30.00 deg\n"
     ]
    },
    {
     "name": "stdout",
     "output_type": "stream",
     "text": [
      "  obj_id                objID          ra      dec  psfMag_u  psfMagerr_u  \\\n",
      "0  obj_0  1237662269149348716  231.549854  6.35722  23.53299     0.481547   \n",
      "\n",
      "   psfMag_g  psfMagerr_g  psfMag_r  psfMagerr_r  psfMag_i  psfMagerr_i  \\\n",
      "0  22.77489     0.107892  22.22116     0.107892  21.78441     0.127309   \n",
      "\n",
      "   psfMag_z  psfMagerr_z              obj_id1    type  \n",
      "0  21.85705     0.423676  1237662269149348716  GALAXY  \n",
      "Calculating visibility of source ZTF18aazabmh (ra: 254.905133, dec: 59.073259) with uh88.\n"
     ]
    },
    {
     "name": "stderr",
     "output_type": "stream",
     "text": [
      "INFO:root:computed dark times (sun_alt: -17.00) between 2018-11-14 00:00:00.000 and 2018-11-27 23:30:00.000. Total of 147.00 hours of dark\n",
      "INFO:root:source is visible for a total of 0.000 hours. Took 1.23e+00 sec\n"
     ]
    },
    {
     "name": "stdout",
     "output_type": "stream",
     "text": [
      "Not enough visibility\n"
     ]
    },
    {
     "name": "stderr",
     "output_type": "stream",
     "text": [
      "INFO:root:computing visibility of source at (ra: 276.559071, dec: 45.010192) from observatory uh88\n",
      "INFO:root:using visibility constraints:\n",
      "\t\t\t\t\t-Time resolution: 30.00 min\n",
      "\t\t\t\t\t-Airmass limit: 2.00\n",
      "\t\t\t\t\t-Sun altitude: -17.00 deg\n",
      "\t\t\t\t\t-Moon distance: 30.00 deg\n"
     ]
    },
    {
     "name": "stdout",
     "output_type": "stream",
     "text": [
      "Empty DataFrame\n",
      "Columns: [obj_id, objID, ra, dec, psfMag_u, psfMagerr_u, psfMag_g, psfMagerr_g, psfMag_r, psfMagerr_r, psfMag_i, psfMagerr_i, psfMag_z, psfMagerr_z, obj_id1, type]\n",
      "Index: []\n",
      "Calculating visibility of source ZTF18abaxlpi (ra: 276.559071, dec: 45.010192) with uh88.\n"
     ]
    },
    {
     "name": "stderr",
     "output_type": "stream",
     "text": [
      "INFO:root:computed dark times (sun_alt: -17.00) between 2018-11-14 00:00:00.000 and 2018-11-27 23:30:00.000. Total of 147.00 hours of dark\n",
      "INFO:root:source is visible for a total of 10.500 hours. Took 1.23e+00 sec\n",
      "INFO:root:computing visibility of source at (ra: 315.205268, dec: 9.524493) from observatory uh88\n",
      "INFO:root:using visibility constraints:\n",
      "\t\t\t\t\t-Time resolution: 30.00 min\n",
      "\t\t\t\t\t-Airmass limit: 2.00\n",
      "\t\t\t\t\t-Sun altitude: -17.00 deg\n",
      "\t\t\t\t\t-Moon distance: 30.00 deg\n"
     ]
    },
    {
     "name": "stdout",
     "output_type": "stream",
     "text": [
      "Empty DataFrame\n",
      "Columns: [obj_id, objID, ra, dec, psfMag_u, psfMagerr_u, psfMag_g, psfMagerr_g, psfMag_r, psfMagerr_r, psfMag_i, psfMagerr_i, psfMag_z, psfMagerr_z, obj_id1, type]\n",
      "Index: []\n",
      "Calculating visibility of source ZTF18abadjhx (ra: 315.205268, dec: 9.524493) with uh88.\n"
     ]
    },
    {
     "name": "stderr",
     "output_type": "stream",
     "text": [
      "INFO:root:computed dark times (sun_alt: -17.00) between 2018-11-14 00:00:00.000 and 2018-11-27 23:30:00.000. Total of 147.00 hours of dark\n",
      "INFO:root:Too close the the moon.\n",
      "INFO:root:source is visible for a total of 31.500 hours. Took 1.39e+00 sec\n",
      "INFO:root:computing visibility of source at (ra: 209.808346, dec: 28.540767) from observatory uh88\n",
      "INFO:root:using visibility constraints:\n",
      "\t\t\t\t\t-Time resolution: 30.00 min\n",
      "\t\t\t\t\t-Airmass limit: 2.00\n",
      "\t\t\t\t\t-Sun altitude: -17.00 deg\n",
      "\t\t\t\t\t-Moon distance: 30.00 deg\n"
     ]
    },
    {
     "name": "stdout",
     "output_type": "stream",
     "text": [
      "  obj_id                objID          ra       dec  psfMag_u  psfMagerr_u  \\\n",
      "0  obj_0  1237653007582627077  315.205397  9.524094  20.24455     0.048588   \n",
      "\n",
      "   psfMag_g  psfMagerr_g  psfMag_r  psfMagerr_r  psfMag_i  psfMagerr_i  \\\n",
      "0  19.01974     0.014281  18.50119     0.009797  18.07133     0.014822   \n",
      "\n",
      "   psfMag_z  psfMagerr_z              obj_id1    type  \n",
      "0  17.65709     0.023589  1237653007582627077  GALAXY  \n",
      "Calculating visibility of source ZTF18aayiahw (ra: 209.808346, dec: 28.540767) with uh88.\n"
     ]
    },
    {
     "name": "stderr",
     "output_type": "stream",
     "text": [
      "INFO:root:computed dark times (sun_alt: -17.00) between 2018-11-14 00:00:00.000 and 2018-11-27 23:30:00.000. Total of 147.00 hours of dark\n",
      "INFO:root:source is visible for a total of 0.000 hours. Took 1.26e+00 sec\n"
     ]
    },
    {
     "name": "stdout",
     "output_type": "stream",
     "text": [
      "Not enough visibility\n"
     ]
    },
    {
     "name": "stderr",
     "output_type": "stream",
     "text": [
      "INFO:root:computing visibility of source at (ra: 164.612857, dec: 51.695783) from observatory uh88\n",
      "INFO:root:using visibility constraints:\n",
      "\t\t\t\t\t-Time resolution: 30.00 min\n",
      "\t\t\t\t\t-Airmass limit: 2.00\n",
      "\t\t\t\t\t-Sun altitude: -17.00 deg\n",
      "\t\t\t\t\t-Moon distance: 30.00 deg\n"
     ]
    },
    {
     "name": "stdout",
     "output_type": "stream",
     "text": [
      "Empty DataFrame\n",
      "Columns: [obj_id, objID, ra, dec, psfMag_u, psfMagerr_u, psfMag_g, psfMagerr_g, psfMag_r, psfMagerr_r, psfMag_i, psfMagerr_i, psfMag_z, psfMagerr_z, obj_id1, type]\n",
      "Index: []\n",
      "Calculating visibility of source ZTF18aaxcfbt (ra: 164.612857, dec: 51.695783) with uh88.\n"
     ]
    },
    {
     "name": "stderr",
     "output_type": "stream",
     "text": [
      "INFO:root:computed dark times (sun_alt: -17.00) between 2018-11-14 00:00:00.000 and 2018-11-27 23:30:00.000. Total of 147.00 hours of dark\n",
      "INFO:root:source is visible for a total of 36.000 hours. Took 1.90e+00 sec\n",
      "INFO:root:computing visibility of source at (ra: 260.101653, dec: 55.214646) from observatory uh88\n",
      "INFO:root:using visibility constraints:\n",
      "\t\t\t\t\t-Time resolution: 30.00 min\n",
      "\t\t\t\t\t-Airmass limit: 2.00\n",
      "\t\t\t\t\t-Sun altitude: -17.00 deg\n",
      "\t\t\t\t\t-Moon distance: 30.00 deg\n"
     ]
    },
    {
     "name": "stdout",
     "output_type": "stream",
     "text": [
      "  obj_id                objID          ra        dec  psfMag_u  psfMagerr_u  \\\n",
      "0  obj_0  1237657630597513335  164.613286  51.695589   21.6044     0.137889   \n",
      "\n",
      "   psfMag_g  psfMagerr_g  psfMag_r  psfMagerr_r  psfMag_i  psfMagerr_i  \\\n",
      "0   20.2806     0.030983  19.74699     0.023987  19.42064     0.027422   \n",
      "\n",
      "   psfMag_z  psfMagerr_z              obj_id1    type  \n",
      "0  19.26125     0.057302  1237657630597513335  GALAXY  \n",
      "Calculating visibility of source ZTF18aazjztm (ra: 260.101653, dec: 55.214646) with uh88.\n"
     ]
    },
    {
     "name": "stderr",
     "output_type": "stream",
     "text": [
      "INFO:root:computed dark times (sun_alt: -17.00) between 2018-11-14 00:00:00.000 and 2018-11-27 23:30:00.000. Total of 147.00 hours of dark\n",
      "INFO:root:source is visible for a total of 0.000 hours. Took 1.53e+00 sec\n"
     ]
    },
    {
     "name": "stdout",
     "output_type": "stream",
     "text": [
      "Not enough visibility\n"
     ]
    },
    {
     "name": "stderr",
     "output_type": "stream",
     "text": [
      "INFO:root:computing visibility of source at (ra: 248.860111, dec: 62.534335) from observatory uh88\n",
      "INFO:root:using visibility constraints:\n",
      "\t\t\t\t\t-Time resolution: 30.00 min\n",
      "\t\t\t\t\t-Airmass limit: 2.00\n",
      "\t\t\t\t\t-Sun altitude: -17.00 deg\n",
      "\t\t\t\t\t-Moon distance: 30.00 deg\n"
     ]
    },
    {
     "name": "stdout",
     "output_type": "stream",
     "text": [
      "  obj_id                objID          ra        dec  psfMag_u  psfMagerr_u  \\\n",
      "0  obj_0  1237651212288786656  260.101504  55.214182  20.45932     0.045479   \n",
      "\n",
      "   psfMag_g  psfMagerr_g  psfMag_r  psfMagerr_r  psfMag_i  psfMagerr_i  \\\n",
      "0  19.13873     0.023487  18.42255     0.016442  18.02444     0.017757   \n",
      "\n",
      "   psfMag_z  psfMagerr_z              obj_id1    type  \n",
      "0  17.66739     0.028212  1237651212288786656  GALAXY  \n",
      "Calculating visibility of source ZTF18abclalx (ra: 248.860111, dec: 62.534335) with uh88.\n"
     ]
    },
    {
     "name": "stderr",
     "output_type": "stream",
     "text": [
      "INFO:root:computed dark times (sun_alt: -17.00) between 2018-11-14 00:00:00.000 and 2018-11-27 23:30:00.000. Total of 147.00 hours of dark\n",
      "INFO:root:source is visible for a total of 0.000 hours. Took 1.60e+00 sec\n"
     ]
    },
    {
     "name": "stdout",
     "output_type": "stream",
     "text": [
      "Not enough visibility\n"
     ]
    },
    {
     "name": "stderr",
     "output_type": "stream",
     "text": [
      "INFO:root:computing visibility of source at (ra: 230.351295, dec: 69.606287) from observatory uh88\n",
      "INFO:root:using visibility constraints:\n",
      "\t\t\t\t\t-Time resolution: 30.00 min\n",
      "\t\t\t\t\t-Airmass limit: 2.00\n",
      "\t\t\t\t\t-Sun altitude: -17.00 deg\n",
      "\t\t\t\t\t-Moon distance: 30.00 deg\n"
     ]
    },
    {
     "name": "stdout",
     "output_type": "stream",
     "text": [
      "  obj_id                objID          ra        dec  psfMag_u  psfMagerr_u  \\\n",
      "0  obj_0  1237671939265790331  248.860707  62.534044  21.91369     0.177835   \n",
      "\n",
      "   psfMag_g  psfMagerr_g  psfMag_r  psfMagerr_r  psfMag_i  psfMagerr_i  \\\n",
      "0  20.54382     0.029793  19.80416     0.023039  19.49969     0.022738   \n",
      "\n",
      "   psfMag_z  psfMagerr_z              obj_id1    type  \n",
      "0  19.04431     0.044216  1237671939265790331  GALAXY  \n",
      "Calculating visibility of source ZTF18abcecfi (ra: 230.351295, dec: 69.606287) with uh88.\n"
     ]
    },
    {
     "name": "stderr",
     "output_type": "stream",
     "text": [
      "INFO:root:computed dark times (sun_alt: -17.00) between 2018-11-14 00:00:00.000 and 2018-11-27 23:30:00.000. Total of 147.00 hours of dark\n",
      "INFO:root:source is visible for a total of 0.000 hours. Took 1.23e+00 sec\n"
     ]
    },
    {
     "name": "stdout",
     "output_type": "stream",
     "text": [
      "Not enough visibility\n"
     ]
    },
    {
     "name": "stderr",
     "output_type": "stream",
     "text": [
      "INFO:root:computing visibility of source at (ra: 222.973479, dec: 46.645749) from observatory uh88\n",
      "INFO:root:using visibility constraints:\n",
      "\t\t\t\t\t-Time resolution: 30.00 min\n",
      "\t\t\t\t\t-Airmass limit: 2.00\n",
      "\t\t\t\t\t-Sun altitude: -17.00 deg\n",
      "\t\t\t\t\t-Moon distance: 30.00 deg\n"
     ]
    },
    {
     "name": "stdout",
     "output_type": "stream",
     "text": [
      "Empty DataFrame\n",
      "Columns: [obj_id, objID, ra, dec, psfMag_u, psfMagerr_u, psfMag_g, psfMagerr_g, psfMag_r, psfMagerr_r, psfMag_i, psfMagerr_i, psfMag_z, psfMagerr_z, obj_id1, type]\n",
      "Index: []\n",
      "Calculating visibility of source ZTF18abckujg (ra: 222.973479, dec: 46.645749) with uh88.\n"
     ]
    },
    {
     "name": "stderr",
     "output_type": "stream",
     "text": [
      "INFO:root:computed dark times (sun_alt: -17.00) between 2018-11-14 00:00:00.000 and 2018-11-27 23:30:00.000. Total of 147.00 hours of dark\n",
      "INFO:root:source is visible for a total of 0.000 hours. Took 1.27e+00 sec\n"
     ]
    },
    {
     "name": "stdout",
     "output_type": "stream",
     "text": [
      "Not enough visibility\n"
     ]
    },
    {
     "name": "stderr",
     "output_type": "stream",
     "text": [
      "INFO:root:computing visibility of source at (ra: 258.592528, dec: 48.264377) from observatory uh88\n",
      "INFO:root:using visibility constraints:\n",
      "\t\t\t\t\t-Time resolution: 30.00 min\n",
      "\t\t\t\t\t-Airmass limit: 2.00\n",
      "\t\t\t\t\t-Sun altitude: -17.00 deg\n",
      "\t\t\t\t\t-Moon distance: 30.00 deg\n"
     ]
    },
    {
     "name": "stdout",
     "output_type": "stream",
     "text": [
      "  obj_id                objID          ra        dec  psfMag_u  psfMagerr_u  \\\n",
      "0  obj_0  1237662302974312661  222.974152  46.646456  21.09089     0.073156   \n",
      "\n",
      "   psfMag_g  psfMagerr_g  psfMag_r  psfMagerr_r  psfMag_i  psfMagerr_i  \\\n",
      "0  20.25992     0.031547  19.69071     0.026788  19.49854     0.058628   \n",
      "\n",
      "   psfMag_z  psfMagerr_z              obj_id1    type  \n",
      "0  19.24996     0.160911  1237662302974312661  GALAXY  \n",
      "Calculating visibility of source ZTF18abclfee (ra: 258.592528, dec: 48.264377) with uh88.\n"
     ]
    },
    {
     "name": "stderr",
     "output_type": "stream",
     "text": [
      "INFO:root:computed dark times (sun_alt: -17.00) between 2018-11-14 00:00:00.000 and 2018-11-27 23:30:00.000. Total of 147.00 hours of dark\n",
      "INFO:root:source is visible for a total of 0.000 hours. Took 1.26e+00 sec\n"
     ]
    },
    {
     "name": "stdout",
     "output_type": "stream",
     "text": [
      "Not enough visibility\n"
     ]
    },
    {
     "name": "stderr",
     "output_type": "stream",
     "text": [
      "INFO:root:computing visibility of source at (ra: 221.352286, dec: 78.284722) from observatory uh88\n",
      "INFO:root:using visibility constraints:\n",
      "\t\t\t\t\t-Time resolution: 30.00 min\n",
      "\t\t\t\t\t-Airmass limit: 2.00\n",
      "\t\t\t\t\t-Sun altitude: -17.00 deg\n",
      "\t\t\t\t\t-Moon distance: 30.00 deg\n"
     ]
    },
    {
     "name": "stdout",
     "output_type": "stream",
     "text": [
      "Empty DataFrame\n",
      "Columns: [obj_id, objID, ra, dec, psfMag_u, psfMagerr_u, psfMag_g, psfMagerr_g, psfMag_r, psfMagerr_r, psfMag_i, psfMagerr_i, psfMag_z, psfMagerr_z, obj_id1, type]\n",
      "Index: []\n",
      "Calculating visibility of source ZTF18abbqjds (ra: 221.352286, dec: 78.284722) with uh88.\n"
     ]
    },
    {
     "name": "stderr",
     "output_type": "stream",
     "text": [
      "INFO:root:computed dark times (sun_alt: -17.00) between 2018-11-14 00:00:00.000 and 2018-11-27 23:30:00.000. Total of 147.00 hours of dark\n",
      "INFO:root:source is visible for a total of 0.000 hours. Took 1.24e+00 sec\n"
     ]
    },
    {
     "name": "stdout",
     "output_type": "stream",
     "text": [
      "Not enough visibility\n"
     ]
    },
    {
     "name": "stderr",
     "output_type": "stream",
     "text": [
      "INFO:root:computing visibility of source at (ra: 205.283202, dec: 28.886520) from observatory uh88\n",
      "INFO:root:using visibility constraints:\n",
      "\t\t\t\t\t-Time resolution: 30.00 min\n",
      "\t\t\t\t\t-Airmass limit: 2.00\n",
      "\t\t\t\t\t-Sun altitude: -17.00 deg\n",
      "\t\t\t\t\t-Moon distance: 30.00 deg\n"
     ]
    },
    {
     "name": "stdout",
     "output_type": "stream",
     "text": [
      "Empty DataFrame\n",
      "Columns: [obj_id, objID, ra, dec, psfMag_u, psfMagerr_u, psfMag_g, psfMagerr_g, psfMag_r, psfMagerr_r, psfMag_i, psfMagerr_i, psfMag_z, psfMagerr_z, obj_id1, type]\n",
      "Index: []\n",
      "Calculating visibility of source ZTF18abcicrq (ra: 205.283202, dec: 28.886520) with uh88.\n"
     ]
    },
    {
     "name": "stderr",
     "output_type": "stream",
     "text": [
      "INFO:root:computed dark times (sun_alt: -17.00) between 2018-11-14 00:00:00.000 and 2018-11-27 23:30:00.000. Total of 147.00 hours of dark\n",
      "INFO:root:source is visible for a total of 0.000 hours. Took 1.25e+00 sec\n"
     ]
    },
    {
     "name": "stdout",
     "output_type": "stream",
     "text": [
      "Not enough visibility\n"
     ]
    },
    {
     "name": "stderr",
     "output_type": "stream",
     "text": [
      "INFO:root:computing visibility of source at (ra: 181.669237, dec: 59.513364) from observatory uh88\n",
      "INFO:root:using visibility constraints:\n",
      "\t\t\t\t\t-Time resolution: 30.00 min\n",
      "\t\t\t\t\t-Airmass limit: 2.00\n",
      "\t\t\t\t\t-Sun altitude: -17.00 deg\n",
      "\t\t\t\t\t-Moon distance: 30.00 deg\n"
     ]
    },
    {
     "name": "stdout",
     "output_type": "stream",
     "text": [
      "  obj_id                objID          ra        dec  psfMag_u  psfMagerr_u  \\\n",
      "0  obj_0  1237665442593505404  205.283878  28.886327  20.95574     0.081117   \n",
      "\n",
      "   psfMag_g  psfMagerr_g  psfMag_r  psfMagerr_r  psfMag_i  psfMagerr_i  \\\n",
      "0  18.97913     0.021479  18.07425     0.018077  17.61334     0.019289   \n",
      "\n",
      "   psfMag_z  psfMagerr_z              obj_id1    type  \n",
      "0  17.31784     0.018714  1237665442593505404  GALAXY  \n",
      "Calculating visibility of source ZTF18abckujq (ra: 181.669237, dec: 59.513364) with uh88.\n"
     ]
    },
    {
     "name": "stderr",
     "output_type": "stream",
     "text": [
      "INFO:root:computed dark times (sun_alt: -17.00) between 2018-11-14 00:00:00.000 and 2018-11-27 23:30:00.000. Total of 147.00 hours of dark\n",
      "INFO:root:source is visible for a total of 18.500 hours. Took 1.26e+00 sec\n",
      "INFO:root:computing visibility of source at (ra: 261.133482, dec: 70.372448) from observatory uh88\n",
      "INFO:root:using visibility constraints:\n",
      "\t\t\t\t\t-Time resolution: 30.00 min\n",
      "\t\t\t\t\t-Airmass limit: 2.00\n",
      "\t\t\t\t\t-Sun altitude: -17.00 deg\n",
      "\t\t\t\t\t-Moon distance: 30.00 deg\n"
     ]
    },
    {
     "name": "stdout",
     "output_type": "stream",
     "text": [
      "Empty DataFrame\n",
      "Columns: [obj_id, objID, ra, dec, psfMag_u, psfMagerr_u, psfMag_g, psfMagerr_g, psfMag_r, psfMagerr_r, psfMag_i, psfMagerr_i, psfMag_z, psfMagerr_z, obj_id1, type]\n",
      "Index: []\n",
      "Calculating visibility of source ZTF18abbvsiv (ra: 261.133482, dec: 70.372448) with uh88.\n"
     ]
    },
    {
     "name": "stderr",
     "output_type": "stream",
     "text": [
      "INFO:root:computed dark times (sun_alt: -17.00) between 2018-11-14 00:00:00.000 and 2018-11-27 23:30:00.000. Total of 147.00 hours of dark\n",
      "INFO:root:source is visible for a total of 0.000 hours. Took 1.26e+00 sec\n"
     ]
    },
    {
     "name": "stdout",
     "output_type": "stream",
     "text": [
      "Not enough visibility\n"
     ]
    },
    {
     "name": "stderr",
     "output_type": "stream",
     "text": [
      "INFO:root:computing visibility of source at (ra: 281.559808, dec: 35.968692) from observatory uh88\n",
      "INFO:root:using visibility constraints:\n",
      "\t\t\t\t\t-Time resolution: 30.00 min\n",
      "\t\t\t\t\t-Airmass limit: 2.00\n",
      "\t\t\t\t\t-Sun altitude: -17.00 deg\n",
      "\t\t\t\t\t-Moon distance: 30.00 deg\n"
     ]
    },
    {
     "name": "stdout",
     "output_type": "stream",
     "text": [
      "  obj_id                objID          ra        dec  psfMag_u  psfMagerr_u  \\\n",
      "0  obj_0  1237655748310663502  261.130993  70.373127  19.26123     0.030527   \n",
      "\n",
      "   psfMag_g  psfMagerr_g  psfMag_r  psfMagerr_r  psfMag_i  psfMagerr_i  \\\n",
      "0  17.22174     0.023245  16.47586     0.016455   16.0297     0.015788   \n",
      "\n",
      "   psfMag_z  psfMagerr_z              obj_id1    type  \n",
      "0  15.59337     0.020167  1237655748310663502  GALAXY  \n",
      "Calculating visibility of source ZTF18abcflnz (ra: 281.559808, dec: 35.968692) with uh88.\n"
     ]
    },
    {
     "name": "stderr",
     "output_type": "stream",
     "text": [
      "INFO:root:computed dark times (sun_alt: -17.00) between 2018-11-14 00:00:00.000 and 2018-11-27 23:30:00.000. Total of 147.00 hours of dark\n",
      "INFO:root:source is visible for a total of 14.500 hours. Took 1.25e+00 sec\n",
      "INFO:root:computing visibility of source at (ra: 328.079085, dec: 44.244049) from observatory uh88\n",
      "INFO:root:using visibility constraints:\n",
      "\t\t\t\t\t-Time resolution: 30.00 min\n",
      "\t\t\t\t\t-Airmass limit: 2.00\n",
      "\t\t\t\t\t-Sun altitude: -17.00 deg\n",
      "\t\t\t\t\t-Moon distance: 30.00 deg\n"
     ]
    },
    {
     "name": "stdout",
     "output_type": "stream",
     "text": [
      "Empty DataFrame\n",
      "Columns: [obj_id, objID, ra, dec, psfMag_u, psfMagerr_u, psfMag_g, psfMagerr_g, psfMag_r, psfMagerr_r, psfMag_i, psfMagerr_i, psfMag_z, psfMagerr_z, obj_id1, type]\n",
      "Index: []\n",
      "Calculating visibility of source ZTF18abakjgq (ra: 328.079085, dec: 44.244049) with uh88.\n"
     ]
    },
    {
     "name": "stderr",
     "output_type": "stream",
     "text": [
      "INFO:root:computed dark times (sun_alt: -17.00) between 2018-11-14 00:00:00.000 and 2018-11-27 23:30:00.000. Total of 147.00 hours of dark\n",
      "INFO:root:source is visible for a total of 59.000 hours. Took 1.29e+00 sec\n",
      "INFO:root:computing visibility of source at (ra: 195.440410, dec: 61.465480) from observatory uh88\n",
      "INFO:root:using visibility constraints:\n",
      "\t\t\t\t\t-Time resolution: 30.00 min\n",
      "\t\t\t\t\t-Airmass limit: 2.00\n",
      "\t\t\t\t\t-Sun altitude: -17.00 deg\n",
      "\t\t\t\t\t-Moon distance: 30.00 deg\n"
     ]
    },
    {
     "name": "stdout",
     "output_type": "stream",
     "text": [
      "Empty DataFrame\n",
      "Columns: [obj_id, objID, ra, dec, psfMag_u, psfMagerr_u, psfMag_g, psfMagerr_g, psfMag_r, psfMagerr_r, psfMag_i, psfMagerr_i, psfMag_z, psfMagerr_z, obj_id1, type]\n",
      "Index: []\n",
      "Calculating visibility of source ZTF18abcdzyc (ra: 195.440410, dec: 61.465480) with uh88.\n"
     ]
    },
    {
     "name": "stderr",
     "output_type": "stream",
     "text": [
      "INFO:root:computed dark times (sun_alt: -17.00) between 2018-11-14 00:00:00.000 and 2018-11-27 23:30:00.000. Total of 147.00 hours of dark\n",
      "INFO:root:source is visible for a total of 5.000 hours. Took 1.28e+00 sec\n",
      "INFO:root:computing visibility of source at (ra: 266.102607, dec: 55.175433) from observatory uh88\n",
      "INFO:root:using visibility constraints:\n",
      "\t\t\t\t\t-Time resolution: 30.00 min\n",
      "\t\t\t\t\t-Airmass limit: 2.00\n",
      "\t\t\t\t\t-Sun altitude: -17.00 deg\n",
      "\t\t\t\t\t-Moon distance: 30.00 deg\n"
     ]
    },
    {
     "name": "stdout",
     "output_type": "stream",
     "text": [
      "  obj_id                objID          ra        dec  psfMag_u  psfMagerr_u  \\\n",
      "0  obj_0  1237655463770914947  195.440579  61.465475  19.96783     0.038375   \n",
      "\n",
      "   psfMag_g  psfMagerr_g  psfMag_r  psfMagerr_r  psfMag_i  psfMagerr_i  \\\n",
      "0  18.25937     0.025184  17.47024     0.012849  17.15948     0.015571   \n",
      "\n",
      "   psfMag_z  psfMagerr_z              obj_id1    type  \n",
      "0  16.83208     0.019874  1237655463770914947  GALAXY  \n",
      "Calculating visibility of source ZTF18abcsgvj (ra: 266.102607, dec: 55.175433) with uh88.\n"
     ]
    },
    {
     "name": "stderr",
     "output_type": "stream",
     "text": [
      "INFO:root:computed dark times (sun_alt: -17.00) between 2018-11-14 00:00:00.000 and 2018-11-27 23:30:00.000. Total of 147.00 hours of dark\n",
      "INFO:root:source is visible for a total of 1.500 hours. Took 1.24e+00 sec\n"
     ]
    },
    {
     "name": "stdout",
     "output_type": "stream",
     "text": [
      "Not enough visibility\n"
     ]
    },
    {
     "name": "stderr",
     "output_type": "stream",
     "text": [
      "INFO:root:computing visibility of source at (ra: 233.014830, dec: 23.517036) from observatory uh88\n",
      "INFO:root:using visibility constraints:\n",
      "\t\t\t\t\t-Time resolution: 30.00 min\n",
      "\t\t\t\t\t-Airmass limit: 2.00\n",
      "\t\t\t\t\t-Sun altitude: -17.00 deg\n",
      "\t\t\t\t\t-Moon distance: 30.00 deg\n"
     ]
    },
    {
     "name": "stdout",
     "output_type": "stream",
     "text": [
      "  obj_id                objID          ra        dec  psfMag_u  psfMagerr_u  \\\n",
      "0  obj_0  1237656562754060323  266.102819  55.174923  21.20688     0.105996   \n",
      "\n",
      "   psfMag_g  psfMagerr_g  psfMag_r  psfMagerr_r  psfMag_i  psfMagerr_i  \\\n",
      "0  19.09718     0.040309  18.30489     0.027996  17.90858     0.030697   \n",
      "\n",
      "   psfMag_z  psfMagerr_z              obj_id1    type  \n",
      "0  17.40969     0.024113  1237656562754060323  GALAXY  \n",
      "Calculating visibility of source ZTF18aazhwnh (ra: 233.014830, dec: 23.517036) with uh88.\n"
     ]
    },
    {
     "name": "stderr",
     "output_type": "stream",
     "text": [
      "INFO:root:computed dark times (sun_alt: -17.00) between 2018-11-14 00:00:00.000 and 2018-11-27 23:30:00.000. Total of 147.00 hours of dark\n",
      "INFO:root:source is visible for a total of 0.000 hours. Took 1.23e+00 sec\n"
     ]
    },
    {
     "name": "stdout",
     "output_type": "stream",
     "text": [
      "Not enough visibility\n"
     ]
    },
    {
     "name": "stderr",
     "output_type": "stream",
     "text": [
      "INFO:root:computing visibility of source at (ra: 198.892984, dec: 28.342910) from observatory uh88\n",
      "INFO:root:using visibility constraints:\n",
      "\t\t\t\t\t-Time resolution: 30.00 min\n",
      "\t\t\t\t\t-Airmass limit: 2.00\n",
      "\t\t\t\t\t-Sun altitude: -17.00 deg\n",
      "\t\t\t\t\t-Moon distance: 30.00 deg\n"
     ]
    },
    {
     "name": "stdout",
     "output_type": "stream",
     "text": [
      "  obj_id                objID          ra        dec  psfMag_u  psfMagerr_u  \\\n",
      "0  obj_0  1237665536538378272  233.014725  23.517004  21.12125     0.110028   \n",
      "\n",
      "   psfMag_g  psfMagerr_g  psfMag_r  psfMagerr_r  psfMag_i  psfMagerr_i  \\\n",
      "0  19.09908     0.018293  18.16977     0.016296   17.7822     0.014515   \n",
      "\n",
      "   psfMag_z  psfMagerr_z              obj_id1    type  \n",
      "0   17.3564     0.027351  1237665536538378272  GALAXY  \n",
      "Calculating visibility of source ZTF18abcrtnq (ra: 198.892984, dec: 28.342910) with uh88.\n"
     ]
    },
    {
     "name": "stderr",
     "output_type": "stream",
     "text": [
      "INFO:root:computed dark times (sun_alt: -17.00) between 2018-11-14 00:00:00.000 and 2018-11-27 23:30:00.000. Total of 147.00 hours of dark\n",
      "INFO:root:source is visible for a total of 3.000 hours. Took 1.25e+00 sec\n"
     ]
    },
    {
     "name": "stdout",
     "output_type": "stream",
     "text": [
      "Not enough visibility\n"
     ]
    },
    {
     "name": "stderr",
     "output_type": "stream",
     "text": [
      "INFO:root:computing visibility of source at (ra: 239.259639, dec: 37.417178) from observatory uh88\n",
      "INFO:root:using visibility constraints:\n",
      "\t\t\t\t\t-Time resolution: 30.00 min\n",
      "\t\t\t\t\t-Airmass limit: 2.00\n",
      "\t\t\t\t\t-Sun altitude: -17.00 deg\n",
      "\t\t\t\t\t-Moon distance: 30.00 deg\n"
     ]
    },
    {
     "name": "stdout",
     "output_type": "stream",
     "text": [
      "Empty DataFrame\n",
      "Columns: [obj_id, objID, ra, dec, psfMag_u, psfMagerr_u, psfMag_g, psfMagerr_g, psfMag_r, psfMagerr_r, psfMag_i, psfMagerr_i, psfMag_z, psfMagerr_z, obj_id1, type]\n",
      "Index: []\n",
      "Calculating visibility of source ZTF18abcrxoj (ra: 239.259639, dec: 37.417178) with uh88.\n"
     ]
    },
    {
     "name": "stderr",
     "output_type": "stream",
     "text": [
      "INFO:root:computed dark times (sun_alt: -17.00) between 2018-11-14 00:00:00.000 and 2018-11-27 23:30:00.000. Total of 147.00 hours of dark\n",
      "INFO:root:source is visible for a total of 0.000 hours. Took 1.24e+00 sec\n"
     ]
    },
    {
     "name": "stdout",
     "output_type": "stream",
     "text": [
      "Not enough visibility\n"
     ]
    },
    {
     "name": "stderr",
     "output_type": "stream",
     "text": [
      "INFO:root:computing visibility of source at (ra: 214.312971, dec: 59.276367) from observatory uh88\n",
      "INFO:root:using visibility constraints:\n",
      "\t\t\t\t\t-Time resolution: 30.00 min\n",
      "\t\t\t\t\t-Airmass limit: 2.00\n",
      "\t\t\t\t\t-Sun altitude: -17.00 deg\n",
      "\t\t\t\t\t-Moon distance: 30.00 deg\n"
     ]
    },
    {
     "name": "stdout",
     "output_type": "stream",
     "text": [
      "  obj_id                objID          ra        dec  psfMag_u  psfMagerr_u  \\\n",
      "0  obj_0  1237662500006002900  239.261263  37.416679  19.71826     0.041089   \n",
      "\n",
      "   psfMag_g  psfMagerr_g  psfMag_r  psfMagerr_r  psfMag_i  psfMagerr_i  \\\n",
      "0  17.82381     0.021905  17.22457     0.022827   16.8533     0.024242   \n",
      "\n",
      "   psfMag_z  psfMagerr_z              obj_id1    type  \n",
      "0  16.56208     0.021943  1237662500006002900  GALAXY  \n",
      "Calculating visibility of source ZTF18aaumeys (ra: 214.312971, dec: 59.276367) with uh88.\n"
     ]
    },
    {
     "name": "stderr",
     "output_type": "stream",
     "text": [
      "INFO:root:computed dark times (sun_alt: -17.00) between 2018-11-14 00:00:00.000 and 2018-11-27 23:30:00.000. Total of 147.00 hours of dark\n",
      "INFO:root:source is visible for a total of 0.000 hours. Took 1.24e+00 sec\n"
     ]
    },
    {
     "name": "stdout",
     "output_type": "stream",
     "text": [
      "Not enough visibility\n"
     ]
    },
    {
     "name": "stderr",
     "output_type": "stream",
     "text": [
      "INFO:root:computing visibility of source at (ra: 226.994167, dec: 1.232398) from observatory uh88\n",
      "INFO:root:using visibility constraints:\n",
      "\t\t\t\t\t-Time resolution: 30.00 min\n",
      "\t\t\t\t\t-Airmass limit: 2.00\n",
      "\t\t\t\t\t-Sun altitude: -17.00 deg\n",
      "\t\t\t\t\t-Moon distance: 30.00 deg\n"
     ]
    },
    {
     "name": "stdout",
     "output_type": "stream",
     "text": [
      "  obj_id                objID          ra        dec  psfMag_u  psfMagerr_u  \\\n",
      "0  obj_0  1237655464848785731  214.313612  59.277133  22.48807     0.253997   \n",
      "\n",
      "   psfMag_g  psfMagerr_g  psfMag_r  psfMagerr_r  psfMag_i  psfMagerr_i  \\\n",
      "0  21.74629     0.160026   22.1171     0.160955   21.6606      0.16128   \n",
      "\n",
      "   psfMag_z  psfMagerr_z              obj_id1  type  \n",
      "0  22.82671     1.008341  1237655464848785731  STAR  \n",
      "Calculating visibility of source ZTF18abcpolh (ra: 226.994167, dec: 1.232398) with uh88.\n"
     ]
    },
    {
     "name": "stderr",
     "output_type": "stream",
     "text": [
      "INFO:root:computed dark times (sun_alt: -17.00) between 2018-11-14 00:00:00.000 and 2018-11-27 23:30:00.000. Total of 147.00 hours of dark\n",
      "INFO:root:source is visible for a total of 0.000 hours. Took 1.25e+00 sec\n"
     ]
    },
    {
     "name": "stdout",
     "output_type": "stream",
     "text": [
      "Not enough visibility\n"
     ]
    },
    {
     "name": "stderr",
     "output_type": "stream",
     "text": [
      "INFO:root:computing visibility of source at (ra: 181.149469, dec: 12.556791) from observatory uh88\n",
      "INFO:root:using visibility constraints:\n",
      "\t\t\t\t\t-Time resolution: 30.00 min\n",
      "\t\t\t\t\t-Airmass limit: 2.00\n",
      "\t\t\t\t\t-Sun altitude: -17.00 deg\n",
      "\t\t\t\t\t-Moon distance: 30.00 deg\n"
     ]
    },
    {
     "name": "stdout",
     "output_type": "stream",
     "text": [
      "Empty DataFrame\n",
      "Columns: [obj_id, objID, ra, dec, psfMag_u, psfMagerr_u, psfMag_g, psfMagerr_g, psfMag_r, psfMagerr_r, psfMag_i, psfMagerr_i, psfMag_z, psfMagerr_z, obj_id1, type]\n",
      "Index: []\n",
      "Calculating visibility of source ZTF18abcryxz (ra: 181.149469, dec: 12.556791) with uh88.\n"
     ]
    },
    {
     "name": "stderr",
     "output_type": "stream",
     "text": [
      "INFO:root:computed dark times (sun_alt: -17.00) between 2018-11-14 00:00:00.000 and 2018-11-27 23:30:00.000. Total of 147.00 hours of dark\n",
      "INFO:root:source is visible for a total of 15.500 hours. Took 1.25e+00 sec\n",
      "INFO:root:computing visibility of source at (ra: 214.575032, dec: 28.973291) from observatory uh88\n",
      "INFO:root:using visibility constraints:\n",
      "\t\t\t\t\t-Time resolution: 30.00 min\n",
      "\t\t\t\t\t-Airmass limit: 2.00\n",
      "\t\t\t\t\t-Sun altitude: -17.00 deg\n",
      "\t\t\t\t\t-Moon distance: 30.00 deg\n"
     ]
    },
    {
     "name": "stdout",
     "output_type": "stream",
     "text": [
      "  obj_id                objID          ra        dec  psfMag_u  psfMagerr_u  \\\n",
      "0  obj_0  1237661812810055830  181.149684  12.556747  19.95242     0.049997   \n",
      "\n",
      "   psfMag_g  psfMagerr_g  psfMag_r  psfMagerr_r  psfMag_i  psfMagerr_i  \\\n",
      "0  17.89912     0.018748  17.03734     0.012801  16.77347     0.010726   \n",
      "\n",
      "   psfMag_z  psfMagerr_z              obj_id1    type  \n",
      "0    16.389     0.013633  1237661812810055830  GALAXY  \n",
      "Calculating visibility of source ZTF18abcxyjp (ra: 214.575032, dec: 28.973291) with uh88.\n"
     ]
    },
    {
     "name": "stderr",
     "output_type": "stream",
     "text": [
      "INFO:root:computed dark times (sun_alt: -17.00) between 2018-11-14 00:00:00.000 and 2018-11-27 23:30:00.000. Total of 147.00 hours of dark\n",
      "INFO:root:source is visible for a total of 0.000 hours. Took 1.23e+00 sec\n"
     ]
    },
    {
     "name": "stdout",
     "output_type": "stream",
     "text": [
      "Not enough visibility\n"
     ]
    },
    {
     "name": "stderr",
     "output_type": "stream",
     "text": [
      "INFO:root:computing visibility of source at (ra: 253.197279, dec: 51.563427) from observatory uh88\n",
      "INFO:root:using visibility constraints:\n",
      "\t\t\t\t\t-Time resolution: 30.00 min\n",
      "\t\t\t\t\t-Airmass limit: 2.00\n",
      "\t\t\t\t\t-Sun altitude: -17.00 deg\n",
      "\t\t\t\t\t-Moon distance: 30.00 deg\n"
     ]
    },
    {
     "name": "stdout",
     "output_type": "stream",
     "text": [
      "  obj_id                objID          ra        dec  psfMag_u  psfMagerr_u  \\\n",
      "0  obj_0  1237665179521187959  214.576263  28.972578  22.35867     0.239403   \n",
      "\n",
      "   psfMag_g  psfMagerr_g  psfMag_r  psfMagerr_r  psfMag_i  psfMagerr_i  \\\n",
      "0   22.7301     0.174931   23.9817     0.698576  24.02221     0.628727   \n",
      "\n",
      "   psfMag_z  psfMagerr_z              obj_id1  type  \n",
      "0    22.827     0.805509  1237665179521187959  STAR  \n",
      "Calculating visibility of source ZTF18abdbuty (ra: 253.197279, dec: 51.563427) with uh88.\n"
     ]
    },
    {
     "name": "stderr",
     "output_type": "stream",
     "text": [
      "INFO:root:computed dark times (sun_alt: -17.00) between 2018-11-14 00:00:00.000 and 2018-11-27 23:30:00.000. Total of 147.00 hours of dark\n",
      "INFO:root:source is visible for a total of 0.000 hours. Took 1.26e+00 sec\n"
     ]
    },
    {
     "name": "stdout",
     "output_type": "stream",
     "text": [
      "Not enough visibility\n"
     ]
    },
    {
     "name": "stderr",
     "output_type": "stream",
     "text": [
      "INFO:root:computing visibility of source at (ra: 216.980163, dec: 40.974345) from observatory uh88\n",
      "INFO:root:using visibility constraints:\n",
      "\t\t\t\t\t-Time resolution: 30.00 min\n",
      "\t\t\t\t\t-Airmass limit: 2.00\n",
      "\t\t\t\t\t-Sun altitude: -17.00 deg\n",
      "\t\t\t\t\t-Moon distance: 30.00 deg\n"
     ]
    },
    {
     "name": "stdout",
     "output_type": "stream",
     "text": [
      "  obj_id                objID          ra        dec  psfMag_u  psfMagerr_u  \\\n",
      "0  obj_0  1237665584864362841  253.197805  51.563664  20.33237     0.058482   \n",
      "\n",
      "   psfMag_g  psfMagerr_g  psfMag_r  psfMagerr_r  psfMag_i  psfMagerr_i  \\\n",
      "0   18.9273     0.016723  18.28831     0.013528  17.93774     0.013285   \n",
      "\n",
      "   psfMag_z  psfMagerr_z              obj_id1    type  \n",
      "0  17.59571      0.02164  1237665584864362841  GALAXY  \n",
      "Calculating visibility of source ZTF18abdfazk (ra: 216.980163, dec: 40.974345) with uh88.\n"
     ]
    },
    {
     "name": "stderr",
     "output_type": "stream",
     "text": [
      "INFO:root:computed dark times (sun_alt: -17.00) between 2018-11-14 00:00:00.000 and 2018-11-27 23:30:00.000. Total of 147.00 hours of dark\n",
      "INFO:root:source is visible for a total of 0.000 hours. Took 1.26e+00 sec\n"
     ]
    },
    {
     "name": "stdout",
     "output_type": "stream",
     "text": [
      "Not enough visibility\n"
     ]
    },
    {
     "name": "stderr",
     "output_type": "stream",
     "text": [
      "INFO:root:computing visibility of source at (ra: 223.493025, dec: 26.001970) from observatory uh88\n",
      "INFO:root:using visibility constraints:\n",
      "\t\t\t\t\t-Time resolution: 30.00 min\n",
      "\t\t\t\t\t-Airmass limit: 2.00\n",
      "\t\t\t\t\t-Sun altitude: -17.00 deg\n",
      "\t\t\t\t\t-Moon distance: 30.00 deg\n"
     ]
    },
    {
     "name": "stdout",
     "output_type": "stream",
     "text": [
      "  obj_id                objID          ra        dec  psfMag_u  psfMagerr_u  \\\n",
      "0  obj_0  1237661873487610113  216.980751  40.974427  21.07917     0.064156   \n",
      "\n",
      "   psfMag_g  psfMagerr_g  psfMag_r  psfMagerr_r  psfMag_i  psfMagerr_i  \\\n",
      "0  20.23192     0.027421  19.96589     0.027219  19.72318     0.028948   \n",
      "\n",
      "   psfMag_z  psfMagerr_z              obj_id1    type  \n",
      "0   19.7377     0.058011  1237661873487610113  GALAXY  \n",
      "Calculating visibility of source ZTF18abdfaqi (ra: 223.493025, dec: 26.001970) with uh88.\n"
     ]
    },
    {
     "name": "stderr",
     "output_type": "stream",
     "text": [
      "INFO:root:computed dark times (sun_alt: -17.00) between 2018-11-14 00:00:00.000 and 2018-11-27 23:30:00.000. Total of 147.00 hours of dark\n",
      "INFO:root:source is visible for a total of 0.000 hours. Took 1.24e+00 sec\n"
     ]
    },
    {
     "name": "stdout",
     "output_type": "stream",
     "text": [
      "Not enough visibility\n"
     ]
    },
    {
     "name": "stderr",
     "output_type": "stream",
     "text": [
      "INFO:root:computing visibility of source at (ra: 266.075637, dec: 68.029073) from observatory uh88\n",
      "INFO:root:using visibility constraints:\n",
      "\t\t\t\t\t-Time resolution: 30.00 min\n",
      "\t\t\t\t\t-Airmass limit: 2.00\n",
      "\t\t\t\t\t-Sun altitude: -17.00 deg\n",
      "\t\t\t\t\t-Moon distance: 30.00 deg\n"
     ]
    },
    {
     "name": "stdout",
     "output_type": "stream",
     "text": [
      "  obj_id                objID        ra       dec  psfMag_u  psfMagerr_u  \\\n",
      "0  obj_0  1237665178987987117  223.4939  26.00159  20.59549     0.067248   \n",
      "\n",
      "   psfMag_g  psfMagerr_g  psfMag_r  psfMagerr_r  psfMag_i  psfMagerr_i  \\\n",
      "0  19.60054     0.035737  19.27803     0.016696  19.31119     0.023504   \n",
      "\n",
      "   psfMag_z  psfMagerr_z              obj_id1    type  \n",
      "0  18.90011     0.046036  1237665178987987117  GALAXY  \n",
      "Calculating visibility of source ZTF18abdefet (ra: 266.075637, dec: 68.029073) with uh88.\n"
     ]
    },
    {
     "name": "stderr",
     "output_type": "stream",
     "text": [
      "INFO:root:computed dark times (sun_alt: -17.00) between 2018-11-14 00:00:00.000 and 2018-11-27 23:30:00.000. Total of 147.00 hours of dark\n",
      "INFO:root:source is visible for a total of 0.000 hours. Took 1.24e+00 sec\n"
     ]
    },
    {
     "name": "stdout",
     "output_type": "stream",
     "text": [
      "Not enough visibility\n"
     ]
    },
    {
     "name": "stderr",
     "output_type": "stream",
     "text": [
      "INFO:root:computing visibility of source at (ra: 254.771116, dec: 47.236423) from observatory uh88\n",
      "INFO:root:using visibility constraints:\n",
      "\t\t\t\t\t-Time resolution: 30.00 min\n",
      "\t\t\t\t\t-Airmass limit: 2.00\n",
      "\t\t\t\t\t-Sun altitude: -17.00 deg\n",
      "\t\t\t\t\t-Moon distance: 30.00 deg\n"
     ]
    },
    {
     "name": "stdout",
     "output_type": "stream",
     "text": [
      "Empty DataFrame\n",
      "Columns: [obj_id, objID, ra, dec, psfMag_u, psfMagerr_u, psfMag_g, psfMagerr_g, psfMag_r, psfMagerr_r, psfMag_i, psfMagerr_i, psfMag_z, psfMagerr_z, obj_id1, type]\n",
      "Index: []\n",
      "Calculating visibility of source ZTF18abauprj (ra: 254.771116, dec: 47.236423) with uh88.\n"
     ]
    },
    {
     "name": "stderr",
     "output_type": "stream",
     "text": [
      "INFO:root:computed dark times (sun_alt: -17.00) between 2018-11-14 00:00:00.000 and 2018-11-27 23:30:00.000. Total of 147.00 hours of dark\n",
      "INFO:root:source is visible for a total of 0.000 hours. Took 1.30e+00 sec\n"
     ]
    },
    {
     "name": "stdout",
     "output_type": "stream",
     "text": [
      "Not enough visibility\n"
     ]
    },
    {
     "name": "stderr",
     "output_type": "stream",
     "text": [
      "INFO:root:computing visibility of source at (ra: 191.625909, dec: 77.280975) from observatory uh88\n",
      "INFO:root:using visibility constraints:\n",
      "\t\t\t\t\t-Time resolution: 30.00 min\n",
      "\t\t\t\t\t-Airmass limit: 2.00\n",
      "\t\t\t\t\t-Sun altitude: -17.00 deg\n",
      "\t\t\t\t\t-Moon distance: 30.00 deg\n"
     ]
    },
    {
     "name": "stdout",
     "output_type": "stream",
     "text": [
      "  obj_id                objID          ra        dec  psfMag_u  psfMagerr_u  \\\n",
      "0  obj_0  1237668503833608306  254.772392  47.235712  25.35592      0.67479   \n",
      "\n",
      "   psfMag_g  psfMagerr_g  psfMag_r  psfMagerr_r  psfMag_i  psfMagerr_i  \\\n",
      "0  24.57703     0.423127  23.53366     0.330981  25.08591     0.632977   \n",
      "\n",
      "   psfMag_z  psfMagerr_z              obj_id1    type  \n",
      "0  21.89104     0.794202  1237668503833608306  GALAXY  \n",
      "Calculating visibility of source ZTF18abdcfgz (ra: 191.625909, dec: 77.280975) with uh88.\n"
     ]
    },
    {
     "name": "stderr",
     "output_type": "stream",
     "text": [
      "INFO:root:computed dark times (sun_alt: -17.00) between 2018-11-14 00:00:00.000 and 2018-11-27 23:30:00.000. Total of 147.00 hours of dark\n",
      "INFO:root:source is visible for a total of 0.000 hours. Took 1.26e+00 sec\n"
     ]
    },
    {
     "name": "stdout",
     "output_type": "stream",
     "text": [
      "Not enough visibility\n"
     ]
    },
    {
     "name": "stderr",
     "output_type": "stream",
     "text": [
      "INFO:root:computing visibility of source at (ra: 245.179920, dec: 65.639154) from observatory uh88\n",
      "INFO:root:using visibility constraints:\n",
      "\t\t\t\t\t-Time resolution: 30.00 min\n",
      "\t\t\t\t\t-Airmass limit: 2.00\n",
      "\t\t\t\t\t-Sun altitude: -17.00 deg\n",
      "\t\t\t\t\t-Moon distance: 30.00 deg\n"
     ]
    },
    {
     "name": "stdout",
     "output_type": "stream",
     "text": [
      "Empty DataFrame\n",
      "Columns: [obj_id, objID, ra, dec, psfMag_u, psfMagerr_u, psfMag_g, psfMagerr_g, psfMag_r, psfMagerr_r, psfMag_i, psfMagerr_i, psfMag_z, psfMagerr_z, obj_id1, type]\n",
      "Index: []\n",
      "Calculating visibility of source ZTF18abdfwur (ra: 245.179920, dec: 65.639154) with uh88.\n"
     ]
    },
    {
     "name": "stderr",
     "output_type": "stream",
     "text": [
      "INFO:root:computed dark times (sun_alt: -17.00) between 2018-11-14 00:00:00.000 and 2018-11-27 23:30:00.000. Total of 147.00 hours of dark\n",
      "INFO:root:source is visible for a total of 0.000 hours. Took 1.24e+00 sec\n"
     ]
    },
    {
     "name": "stdout",
     "output_type": "stream",
     "text": [
      "Not enough visibility\n"
     ]
    },
    {
     "name": "stderr",
     "output_type": "stream",
     "text": [
      "INFO:root:computing visibility of source at (ra: 255.593985, dec: 57.751433) from observatory uh88\n",
      "INFO:root:using visibility constraints:\n",
      "\t\t\t\t\t-Time resolution: 30.00 min\n",
      "\t\t\t\t\t-Airmass limit: 2.00\n",
      "\t\t\t\t\t-Sun altitude: -17.00 deg\n",
      "\t\t\t\t\t-Moon distance: 30.00 deg\n"
     ]
    },
    {
     "name": "stdout",
     "output_type": "stream",
     "text": [
      "Empty DataFrame\n",
      "Columns: [obj_id, objID, ra, dec, psfMag_u, psfMagerr_u, psfMag_g, psfMagerr_g, psfMag_r, psfMagerr_r, psfMag_i, psfMagerr_i, psfMag_z, psfMagerr_z, obj_id1, type]\n",
      "Index: []\n",
      "Calculating visibility of source ZTF18abdfydj (ra: 255.593985, dec: 57.751433) with uh88.\n"
     ]
    },
    {
     "name": "stderr",
     "output_type": "stream",
     "text": [
      "INFO:root:computed dark times (sun_alt: -17.00) between 2018-11-14 00:00:00.000 and 2018-11-27 23:30:00.000. Total of 147.00 hours of dark\n",
      "INFO:root:source is visible for a total of 0.000 hours. Took 1.22e+00 sec\n"
     ]
    },
    {
     "name": "stdout",
     "output_type": "stream",
     "text": [
      "Not enough visibility\n"
     ]
    },
    {
     "name": "stderr",
     "output_type": "stream",
     "text": [
      "INFO:root:computing visibility of source at (ra: 261.422809, dec: 23.869154) from observatory uh88\n",
      "INFO:root:using visibility constraints:\n",
      "\t\t\t\t\t-Time resolution: 30.00 min\n",
      "\t\t\t\t\t-Airmass limit: 2.00\n",
      "\t\t\t\t\t-Sun altitude: -17.00 deg\n",
      "\t\t\t\t\t-Moon distance: 30.00 deg\n"
     ]
    },
    {
     "name": "stdout",
     "output_type": "stream",
     "text": [
      "Empty DataFrame\n",
      "Columns: [obj_id, objID, ra, dec, psfMag_u, psfMagerr_u, psfMag_g, psfMagerr_g, psfMag_r, psfMagerr_r, psfMag_i, psfMagerr_i, psfMag_z, psfMagerr_z, obj_id1, type]\n",
      "Index: []\n",
      "Calculating visibility of source ZTF18abdgwxn (ra: 261.422809, dec: 23.869154) with uh88.\n"
     ]
    },
    {
     "name": "stderr",
     "output_type": "stream",
     "text": [
      "INFO:root:computed dark times (sun_alt: -17.00) between 2018-11-14 00:00:00.000 and 2018-11-27 23:30:00.000. Total of 147.00 hours of dark\n",
      "INFO:root:source is visible for a total of 0.000 hours. Took 1.23e+00 sec\n"
     ]
    },
    {
     "name": "stdout",
     "output_type": "stream",
     "text": [
      "Not enough visibility\n"
     ]
    },
    {
     "name": "stderr",
     "output_type": "stream",
     "text": [
      "INFO:root:computing visibility of source at (ra: 241.267320, dec: 36.094086) from observatory uh88\n",
      "INFO:root:using visibility constraints:\n",
      "\t\t\t\t\t-Time resolution: 30.00 min\n",
      "\t\t\t\t\t-Airmass limit: 2.00\n",
      "\t\t\t\t\t-Sun altitude: -17.00 deg\n",
      "\t\t\t\t\t-Moon distance: 30.00 deg\n"
     ]
    },
    {
     "name": "stdout",
     "output_type": "stream",
     "text": [
      "Empty DataFrame\n",
      "Columns: [obj_id, objID, ra, dec, psfMag_u, psfMagerr_u, psfMag_g, psfMagerr_g, psfMag_r, psfMagerr_r, psfMag_i, psfMagerr_i, psfMag_z, psfMagerr_z, obj_id1, type]\n",
      "Index: []\n",
      "Calculating visibility of source ZTF18abddrhd (ra: 241.267320, dec: 36.094086) with uh88.\n"
     ]
    },
    {
     "name": "stderr",
     "output_type": "stream",
     "text": [
      "INFO:root:computed dark times (sun_alt: -17.00) between 2018-11-14 00:00:00.000 and 2018-11-27 23:30:00.000. Total of 147.00 hours of dark\n",
      "INFO:root:source is visible for a total of 0.000 hours. Took 1.26e+00 sec\n"
     ]
    },
    {
     "name": "stdout",
     "output_type": "stream",
     "text": [
      "Not enough visibility\n"
     ]
    },
    {
     "name": "stderr",
     "output_type": "stream",
     "text": [
      "INFO:root:computing visibility of source at (ra: 213.076037, dec: 62.642979) from observatory uh88\n",
      "INFO:root:using visibility constraints:\n",
      "\t\t\t\t\t-Time resolution: 30.00 min\n",
      "\t\t\t\t\t-Airmass limit: 2.00\n",
      "\t\t\t\t\t-Sun altitude: -17.00 deg\n",
      "\t\t\t\t\t-Moon distance: 30.00 deg\n"
     ]
    },
    {
     "name": "stdout",
     "output_type": "stream",
     "text": [
      "  obj_id                objID          ra        dec  psfMag_u  psfMagerr_u  \\\n",
      "0  obj_0  1237662500006854730  241.267164  36.094464  20.74001     0.178314   \n",
      "\n",
      "   psfMag_g  psfMagerr_g  psfMag_r  psfMagerr_r  psfMag_i  psfMagerr_i  \\\n",
      "0  19.98096     0.396357  19.57109     0.547441  19.41977     0.376235   \n",
      "\n",
      "   psfMag_z  psfMagerr_z              obj_id1    type  \n",
      "0  19.43198     0.363917  1237662500006854730  GALAXY  \n",
      "Calculating visibility of source ZTF18abdiwpt (ra: 213.076037, dec: 62.642979) with uh88.\n"
     ]
    },
    {
     "name": "stderr",
     "output_type": "stream",
     "text": [
      "INFO:root:computed dark times (sun_alt: -17.00) between 2018-11-14 00:00:00.000 and 2018-11-27 23:30:00.000. Total of 147.00 hours of dark\n",
      "INFO:root:source is visible for a total of 0.000 hours. Took 1.27e+00 sec\n"
     ]
    },
    {
     "name": "stdout",
     "output_type": "stream",
     "text": [
      "Not enough visibility\n"
     ]
    },
    {
     "name": "stderr",
     "output_type": "stream",
     "text": [
      "INFO:root:computing visibility of source at (ra: 184.683509, dec: 44.781974) from observatory uh88\n",
      "INFO:root:using visibility constraints:\n",
      "\t\t\t\t\t-Time resolution: 30.00 min\n",
      "\t\t\t\t\t-Airmass limit: 2.00\n",
      "\t\t\t\t\t-Sun altitude: -17.00 deg\n",
      "\t\t\t\t\t-Moon distance: 30.00 deg\n"
     ]
    },
    {
     "name": "stdout",
     "output_type": "stream",
     "text": [
      "  obj_id                objID          ra        dec  psfMag_u  psfMagerr_u  \\\n",
      "0  obj_0  1237654344401420503  213.077889  62.642656  20.46889     0.046925   \n",
      "\n",
      "   psfMag_g  psfMagerr_g  psfMag_r  psfMagerr_r  psfMag_i  psfMagerr_i  \\\n",
      "0  19.71011     0.027936  19.32434     0.036988  19.10295     0.041894   \n",
      "\n",
      "   psfMag_z  psfMagerr_z              obj_id1    type  \n",
      "0  19.09456     0.051424  1237654344401420503  GALAXY  \n",
      "Calculating visibility of source ZTF18abdiqdh (ra: 184.683509, dec: 44.781974) with uh88.\n"
     ]
    },
    {
     "name": "stderr",
     "output_type": "stream",
     "text": [
      "INFO:root:computed dark times (sun_alt: -17.00) between 2018-11-14 00:00:00.000 and 2018-11-27 23:30:00.000. Total of 147.00 hours of dark\n",
      "INFO:root:source is visible for a total of 17.500 hours. Took 1.24e+00 sec\n",
      "INFO:root:computing visibility of source at (ra: 240.935075, dec: 54.304103) from observatory uh88\n",
      "INFO:root:using visibility constraints:\n",
      "\t\t\t\t\t-Time resolution: 30.00 min\n",
      "\t\t\t\t\t-Airmass limit: 2.00\n",
      "\t\t\t\t\t-Sun altitude: -17.00 deg\n",
      "\t\t\t\t\t-Moon distance: 30.00 deg\n"
     ]
    },
    {
     "name": "stdout",
     "output_type": "stream",
     "text": [
      "  obj_id                objID          ra        dec  psfMag_u  psfMagerr_u  \\\n",
      "0  obj_0  1237661872403447862  184.684728  44.781182  18.32852     0.026178   \n",
      "\n",
      "   psfMag_g  psfMagerr_g  psfMag_r  psfMagerr_r  psfMag_i  psfMagerr_i  \\\n",
      "0  16.66525     0.022505  15.97355     0.023487  15.65485     0.025804   \n",
      "\n",
      "   psfMag_z  psfMagerr_z              obj_id1    type  \n",
      "0  15.33712     0.016211  1237661872403447862  GALAXY  \n",
      "Calculating visibility of source ZTF18abealop (ra: 240.935075, dec: 54.304103) with uh88.\n"
     ]
    },
    {
     "name": "stderr",
     "output_type": "stream",
     "text": [
      "INFO:root:computed dark times (sun_alt: -17.00) between 2018-11-14 00:00:00.000 and 2018-11-27 23:30:00.000. Total of 147.00 hours of dark\n",
      "INFO:root:source is visible for a total of 0.000 hours. Took 1.25e+00 sec\n"
     ]
    },
    {
     "name": "stdout",
     "output_type": "stream",
     "text": [
      "Not enough visibility\n"
     ]
    },
    {
     "name": "stderr",
     "output_type": "stream",
     "text": [
      "INFO:root:computing visibility of source at (ra: 257.918155, dec: 79.643706) from observatory uh88\n",
      "INFO:root:using visibility constraints:\n",
      "\t\t\t\t\t-Time resolution: 30.00 min\n",
      "\t\t\t\t\t-Airmass limit: 2.00\n",
      "\t\t\t\t\t-Sun altitude: -17.00 deg\n",
      "\t\t\t\t\t-Moon distance: 30.00 deg\n"
     ]
    },
    {
     "name": "stdout",
     "output_type": "stream",
     "text": [
      "  obj_id                objID          ra        dec  psfMag_u  psfMagerr_u  \\\n",
      "0  obj_0  1237654949987614775  240.934203  54.303568  20.28723     0.063632   \n",
      "\n",
      "   psfMag_g  psfMagerr_g  psfMag_r  psfMagerr_r  psfMag_i  psfMagerr_i  \\\n",
      "0   19.3284     0.020403  18.88064     0.025389   18.5558     0.023022   \n",
      "\n",
      "   psfMag_z  psfMagerr_z              obj_id1    type  \n",
      "0  18.42899     0.033457  1237654949987614775  GALAXY  \n",
      "Calculating visibility of source ZTF18abdhsfc (ra: 257.918155, dec: 79.643706) with uh88.\n"
     ]
    },
    {
     "name": "stderr",
     "output_type": "stream",
     "text": [
      "INFO:root:computed dark times (sun_alt: -17.00) between 2018-11-14 00:00:00.000 and 2018-11-27 23:30:00.000. Total of 147.00 hours of dark\n",
      "INFO:root:source is visible for a total of 0.000 hours. Took 1.24e+00 sec\n"
     ]
    },
    {
     "name": "stdout",
     "output_type": "stream",
     "text": [
      "Not enough visibility\n"
     ]
    },
    {
     "name": "stderr",
     "output_type": "stream",
     "text": [
      "INFO:root:computing visibility of source at (ra: 222.023413, dec: 63.216676) from observatory uh88\n",
      "INFO:root:using visibility constraints:\n",
      "\t\t\t\t\t-Time resolution: 30.00 min\n",
      "\t\t\t\t\t-Airmass limit: 2.00\n",
      "\t\t\t\t\t-Sun altitude: -17.00 deg\n",
      "\t\t\t\t\t-Moon distance: 30.00 deg\n"
     ]
    },
    {
     "name": "stdout",
     "output_type": "stream",
     "text": [
      "Empty DataFrame\n",
      "Columns: [obj_id, objID, ra, dec, psfMag_u, psfMagerr_u, psfMag_g, psfMagerr_g, psfMag_r, psfMagerr_r, psfMag_i, psfMagerr_i, psfMag_z, psfMagerr_z, obj_id1, type]\n",
      "Index: []\n",
      "Calculating visibility of source ZTF18abdrmin (ra: 222.023413, dec: 63.216676) with uh88.\n"
     ]
    },
    {
     "name": "stderr",
     "output_type": "stream",
     "text": [
      "INFO:root:computed dark times (sun_alt: -17.00) between 2018-11-14 00:00:00.000 and 2018-11-27 23:30:00.000. Total of 147.00 hours of dark\n",
      "INFO:root:source is visible for a total of 0.000 hours. Took 1.23e+00 sec\n"
     ]
    },
    {
     "name": "stdout",
     "output_type": "stream",
     "text": [
      "Not enough visibility\n"
     ]
    },
    {
     "name": "stderr",
     "output_type": "stream",
     "text": [
      "INFO:root:computing visibility of source at (ra: 274.339409, dec: 54.537470) from observatory uh88\n",
      "INFO:root:using visibility constraints:\n",
      "\t\t\t\t\t-Time resolution: 30.00 min\n",
      "\t\t\t\t\t-Airmass limit: 2.00\n",
      "\t\t\t\t\t-Sun altitude: -17.00 deg\n",
      "\t\t\t\t\t-Moon distance: 30.00 deg\n"
     ]
    },
    {
     "name": "stdout",
     "output_type": "stream",
     "text": [
      "  obj_id                objID         ra        dec  psfMag_u  psfMagerr_u  \\\n",
      "0  obj_0  1237674479197814996  222.02579  63.216615  19.62968     0.041015   \n",
      "\n",
      "   psfMag_g  psfMagerr_g  psfMag_r  psfMagerr_r  psfMag_i  psfMagerr_i  \\\n",
      "0  17.83181     0.022853  16.94726     0.016459  16.42476     0.024008   \n",
      "\n",
      "   psfMag_z  psfMagerr_z              obj_id1    type  \n",
      "0  16.27602      0.02527  1237674479197814996  GALAXY  \n",
      "Calculating visibility of source ZTF18abfgygp (ra: 274.339409, dec: 54.537470) with uh88.\n"
     ]
    },
    {
     "name": "stderr",
     "output_type": "stream",
     "text": [
      "INFO:root:computed dark times (sun_alt: -17.00) between 2018-11-14 00:00:00.000 and 2018-11-27 23:30:00.000. Total of 147.00 hours of dark\n",
      "INFO:root:source is visible for a total of 8.000 hours. Took 1.27e+00 sec\n",
      "INFO:root:computing visibility of source at (ra: 233.487151, dec: 31.169838) from observatory uh88\n",
      "INFO:root:using visibility constraints:\n",
      "\t\t\t\t\t-Time resolution: 30.00 min\n",
      "\t\t\t\t\t-Airmass limit: 2.00\n",
      "\t\t\t\t\t-Sun altitude: -17.00 deg\n",
      "\t\t\t\t\t-Moon distance: 30.00 deg\n"
     ]
    },
    {
     "name": "stdout",
     "output_type": "stream",
     "text": [
      "Empty DataFrame\n",
      "Columns: [obj_id, objID, ra, dec, psfMag_u, psfMagerr_u, psfMag_g, psfMagerr_g, psfMag_r, psfMagerr_r, psfMag_i, psfMagerr_i, psfMag_z, psfMagerr_z, obj_id1, type]\n",
      "Index: []\n",
      "Calculating visibility of source ZTF18abetehf (ra: 233.487151, dec: 31.169838) with uh88.\n"
     ]
    },
    {
     "name": "stderr",
     "output_type": "stream",
     "text": [
      "INFO:root:computed dark times (sun_alt: -17.00) between 2018-11-14 00:00:00.000 and 2018-11-27 23:30:00.000. Total of 147.00 hours of dark\n",
      "INFO:root:source is visible for a total of 0.000 hours. Took 1.25e+00 sec\n"
     ]
    },
    {
     "name": "stdout",
     "output_type": "stream",
     "text": [
      "Not enough visibility\n"
     ]
    },
    {
     "name": "stderr",
     "output_type": "stream",
     "text": [
      "INFO:root:computing visibility of source at (ra: 250.902241, dec: 33.533601) from observatory uh88\n",
      "INFO:root:using visibility constraints:\n",
      "\t\t\t\t\t-Time resolution: 30.00 min\n",
      "\t\t\t\t\t-Airmass limit: 2.00\n",
      "\t\t\t\t\t-Sun altitude: -17.00 deg\n",
      "\t\t\t\t\t-Moon distance: 30.00 deg\n"
     ]
    },
    {
     "name": "stdout",
     "output_type": "stream",
     "text": [
      "  obj_id                objID          ra        dec  psfMag_u  psfMagerr_u  \\\n",
      "0  obj_0  1237662340546625732  233.486348  31.169149  20.15063     0.039812   \n",
      "\n",
      "   psfMag_g  psfMagerr_g  psfMag_r  psfMagerr_r  psfMag_i  psfMagerr_i  \\\n",
      "0  18.19862     0.018213  17.29297     0.015912  16.93633     0.016237   \n",
      "\n",
      "   psfMag_z  psfMagerr_z              obj_id1    type  \n",
      "0  16.59997     0.022074  1237662340546625732  GALAXY  \n",
      "Calculating visibility of source ZTF18abdmgab (ra: 250.902241, dec: 33.533601) with uh88.\n"
     ]
    },
    {
     "name": "stderr",
     "output_type": "stream",
     "text": [
      "INFO:root:computed dark times (sun_alt: -17.00) between 2018-11-14 00:00:00.000 and 2018-11-27 23:30:00.000. Total of 147.00 hours of dark\n",
      "INFO:root:source is visible for a total of 0.000 hours. Took 1.24e+00 sec\n"
     ]
    },
    {
     "name": "stdout",
     "output_type": "stream",
     "text": [
      "Not enough visibility\n"
     ]
    },
    {
     "name": "stderr",
     "output_type": "stream",
     "text": [
      "INFO:root:computing visibility of source at (ra: 217.309055, dec: 46.050859) from observatory uh88\n",
      "INFO:root:using visibility constraints:\n",
      "\t\t\t\t\t-Time resolution: 30.00 min\n",
      "\t\t\t\t\t-Airmass limit: 2.00\n",
      "\t\t\t\t\t-Sun altitude: -17.00 deg\n",
      "\t\t\t\t\t-Moon distance: 30.00 deg\n"
     ]
    },
    {
     "name": "stdout",
     "output_type": "stream",
     "text": [
      "Empty DataFrame\n",
      "Columns: [obj_id, objID, ra, dec, psfMag_u, psfMagerr_u, psfMag_g, psfMagerr_g, psfMag_r, psfMagerr_r, psfMag_i, psfMagerr_i, psfMag_z, psfMagerr_z, obj_id1, type]\n",
      "Index: []\n",
      "Calculating visibility of source ZTF18abetewu (ra: 217.309055, dec: 46.050859) with uh88.\n"
     ]
    },
    {
     "name": "stderr",
     "output_type": "stream",
     "text": [
      "INFO:root:computed dark times (sun_alt: -17.00) between 2018-11-14 00:00:00.000 and 2018-11-27 23:30:00.000. Total of 147.00 hours of dark\n",
      "INFO:root:source is visible for a total of 0.000 hours. Took 1.22e+00 sec\n"
     ]
    },
    {
     "name": "stdout",
     "output_type": "stream",
     "text": [
      "Not enough visibility\n"
     ]
    },
    {
     "name": "stderr",
     "output_type": "stream",
     "text": [
      "INFO:root:computing visibility of source at (ra: 256.683436, dec: 18.357057) from observatory uh88\n",
      "INFO:root:using visibility constraints:\n",
      "\t\t\t\t\t-Time resolution: 30.00 min\n",
      "\t\t\t\t\t-Airmass limit: 2.00\n",
      "\t\t\t\t\t-Sun altitude: -17.00 deg\n",
      "\t\t\t\t\t-Moon distance: 30.00 deg\n"
     ]
    },
    {
     "name": "stdout",
     "output_type": "stream",
     "text": [
      "  obj_id                objID          ra        dec  psfMag_u  psfMagerr_u  \\\n",
      "0  obj_0  1237658205594779813  217.309014  46.050859  20.66783     0.057254   \n",
      "\n",
      "   psfMag_g  psfMagerr_g  psfMag_r  psfMagerr_r  psfMag_i  psfMagerr_i  \\\n",
      "0  19.23764     0.021271   18.6047     0.015118  18.26142     0.023437   \n",
      "\n",
      "   psfMag_z  psfMagerr_z              obj_id1    type  \n",
      "0  18.13214     0.025878  1237658205594779813  GALAXY  \n",
      "Calculating visibility of source ZTF18abcvush (ra: 256.683436, dec: 18.357057) with uh88.\n"
     ]
    },
    {
     "name": "stderr",
     "output_type": "stream",
     "text": [
      "INFO:root:computed dark times (sun_alt: -17.00) between 2018-11-14 00:00:00.000 and 2018-11-27 23:30:00.000. Total of 147.00 hours of dark\n",
      "INFO:root:source is visible for a total of 0.000 hours. Took 1.24e+00 sec\n"
     ]
    },
    {
     "name": "stdout",
     "output_type": "stream",
     "text": [
      "Not enough visibility\n"
     ]
    },
    {
     "name": "stderr",
     "output_type": "stream",
     "text": [
      "INFO:root:computing visibility of source at (ra: 308.077654, dec: 58.198432) from observatory uh88\n",
      "INFO:root:using visibility constraints:\n",
      "\t\t\t\t\t-Time resolution: 30.00 min\n",
      "\t\t\t\t\t-Airmass limit: 2.00\n",
      "\t\t\t\t\t-Sun altitude: -17.00 deg\n",
      "\t\t\t\t\t-Moon distance: 30.00 deg\n"
     ]
    },
    {
     "name": "stdout",
     "output_type": "stream",
     "text": [
      "  obj_id                objID          ra        dec  psfMag_u  psfMagerr_u  \\\n",
      "0  obj_0  1237662336264045004  256.683588  18.357117  20.40664     0.080728   \n",
      "\n",
      "   psfMag_g  psfMagerr_g  psfMag_r  psfMagerr_r  psfMag_i  psfMagerr_i  \\\n",
      "0  18.19305     0.013136  17.28551     0.010599  16.92603     0.010422   \n",
      "\n",
      "   psfMag_z  psfMagerr_z              obj_id1    type  \n",
      "0  16.54222     0.015233  1237662336264045004  GALAXY  \n",
      "Calculating visibility of source ZTF18abebzog (ra: 308.077654, dec: 58.198432) with uh88.\n"
     ]
    },
    {
     "name": "stderr",
     "output_type": "stream",
     "text": [
      "INFO:root:computed dark times (sun_alt: -17.00) between 2018-11-14 00:00:00.000 and 2018-11-27 23:30:00.000. Total of 147.00 hours of dark\n",
      "INFO:root:source is visible for a total of 38.500 hours. Took 1.24e+00 sec\n",
      "INFO:root:computing visibility of source at (ra: 268.210703, dec: 21.382642) from observatory uh88\n",
      "INFO:root:using visibility constraints:\n",
      "\t\t\t\t\t-Time resolution: 30.00 min\n",
      "\t\t\t\t\t-Airmass limit: 2.00\n",
      "\t\t\t\t\t-Sun altitude: -17.00 deg\n",
      "\t\t\t\t\t-Moon distance: 30.00 deg\n"
     ]
    },
    {
     "name": "stdout",
     "output_type": "stream",
     "text": [
      "Empty DataFrame\n",
      "Columns: [obj_id, objID, ra, dec, psfMag_u, psfMagerr_u, psfMag_g, psfMagerr_g, psfMag_r, psfMagerr_r, psfMag_i, psfMagerr_i, psfMag_z, psfMagerr_z, obj_id1, type]\n",
      "Index: []\n",
      "Calculating visibility of source ZTF18abeecwe (ra: 268.210703, dec: 21.382642) with uh88.\n"
     ]
    },
    {
     "name": "stderr",
     "output_type": "stream",
     "text": [
      "INFO:root:computed dark times (sun_alt: -17.00) between 2018-11-14 00:00:00.000 and 2018-11-27 23:30:00.000. Total of 147.00 hours of dark\n",
      "INFO:root:source is visible for a total of 1.500 hours. Took 1.23e+00 sec\n"
     ]
    },
    {
     "name": "stdout",
     "output_type": "stream",
     "text": [
      "Not enough visibility\n"
     ]
    },
    {
     "name": "stderr",
     "output_type": "stream",
     "text": [
      "INFO:root:computing visibility of source at (ra: 260.037274, dec: 9.492291) from observatory uh88\n",
      "INFO:root:using visibility constraints:\n",
      "\t\t\t\t\t-Time resolution: 30.00 min\n",
      "\t\t\t\t\t-Airmass limit: 2.00\n",
      "\t\t\t\t\t-Sun altitude: -17.00 deg\n",
      "\t\t\t\t\t-Moon distance: 30.00 deg\n"
     ]
    },
    {
     "name": "stdout",
     "output_type": "stream",
     "text": [
      "Empty DataFrame\n",
      "Columns: [obj_id, objID, ra, dec, psfMag_u, psfMagerr_u, psfMag_g, psfMagerr_g, psfMag_r, psfMagerr_r, psfMag_i, psfMagerr_i, psfMag_z, psfMagerr_z, obj_id1, type]\n",
      "Index: []\n",
      "Calculating visibility of source ZTF18abeaipj (ra: 260.037274, dec: 9.492291) with uh88.\n"
     ]
    },
    {
     "name": "stderr",
     "output_type": "stream",
     "text": [
      "INFO:root:computed dark times (sun_alt: -17.00) between 2018-11-14 00:00:00.000 and 2018-11-27 23:30:00.000. Total of 147.00 hours of dark\n",
      "INFO:root:source is visible for a total of 0.000 hours. Took 1.24e+00 sec\n"
     ]
    },
    {
     "name": "stdout",
     "output_type": "stream",
     "text": [
      "Not enough visibility\n"
     ]
    },
    {
     "name": "stderr",
     "output_type": "stream",
     "text": [
      "INFO:root:computing visibility of source at (ra: 251.292111, dec: 42.717882) from observatory uh88\n",
      "INFO:root:using visibility constraints:\n",
      "\t\t\t\t\t-Time resolution: 30.00 min\n",
      "\t\t\t\t\t-Airmass limit: 2.00\n",
      "\t\t\t\t\t-Sun altitude: -17.00 deg\n",
      "\t\t\t\t\t-Moon distance: 30.00 deg\n"
     ]
    },
    {
     "name": "stdout",
     "output_type": "stream",
     "text": [
      "Empty DataFrame\n",
      "Columns: [obj_id, objID, ra, dec, psfMag_u, psfMagerr_u, psfMag_g, psfMagerr_g, psfMag_r, psfMagerr_r, psfMag_i, psfMagerr_i, psfMag_z, psfMagerr_z, obj_id1, type]\n",
      "Index: []\n",
      "Calculating visibility of source ZTF18aansqun (ra: 251.292111, dec: 42.717882) with uh88.\n"
     ]
    },
    {
     "name": "stderr",
     "output_type": "stream",
     "text": [
      "INFO:root:computed dark times (sun_alt: -17.00) between 2018-11-14 00:00:00.000 and 2018-11-27 23:30:00.000. Total of 147.00 hours of dark\n",
      "INFO:root:source is visible for a total of 0.000 hours. Took 1.25e+00 sec\n"
     ]
    },
    {
     "name": "stdout",
     "output_type": "stream",
     "text": [
      "Not enough visibility\n"
     ]
    },
    {
     "name": "stderr",
     "output_type": "stream",
     "text": [
      "INFO:root:computing visibility of source at (ra: 247.795837, dec: 60.597732) from observatory uh88\n",
      "INFO:root:using visibility constraints:\n",
      "\t\t\t\t\t-Time resolution: 30.00 min\n",
      "\t\t\t\t\t-Airmass limit: 2.00\n",
      "\t\t\t\t\t-Sun altitude: -17.00 deg\n",
      "\t\t\t\t\t-Moon distance: 30.00 deg\n"
     ]
    },
    {
     "name": "stdout",
     "output_type": "stream",
     "text": [
      "  obj_id                objID          ra        dec  psfMag_u  psfMagerr_u  \\\n",
      "0  obj_0  1237655504567926803  251.292141  42.717698  19.63948     0.035141   \n",
      "\n",
      "   psfMag_g  psfMagerr_g  psfMag_r  psfMagerr_r  psfMag_i  psfMagerr_i  \\\n",
      "0   18.4991     0.017923   17.8698     0.014371  17.41505     0.017131   \n",
      "\n",
      "   psfMag_z  psfMagerr_z              obj_id1    type  \n",
      "0  17.18696     0.017574  1237655504567926803  GALAXY  \n",
      "Calculating visibility of source ZTF18abdkimx (ra: 247.795837, dec: 60.597732) with uh88.\n"
     ]
    },
    {
     "name": "stderr",
     "output_type": "stream",
     "text": [
      "INFO:root:computed dark times (sun_alt: -17.00) between 2018-11-14 00:00:00.000 and 2018-11-27 23:30:00.000. Total of 147.00 hours of dark\n",
      "INFO:root:source is visible for a total of 0.000 hours. Took 1.23e+00 sec\n"
     ]
    },
    {
     "name": "stdout",
     "output_type": "stream",
     "text": [
      "Not enough visibility\n"
     ]
    },
    {
     "name": "stderr",
     "output_type": "stream",
     "text": [
      "INFO:root:computing visibility of source at (ra: 192.864539, dec: 20.606471) from observatory uh88\n",
      "INFO:root:using visibility constraints:\n",
      "\t\t\t\t\t-Time resolution: 30.00 min\n",
      "\t\t\t\t\t-Airmass limit: 2.00\n",
      "\t\t\t\t\t-Sun altitude: -17.00 deg\n",
      "\t\t\t\t\t-Moon distance: 30.00 deg\n"
     ]
    },
    {
     "name": "stdout",
     "output_type": "stream",
     "text": [
      "Empty DataFrame\n",
      "Columns: [obj_id, objID, ra, dec, psfMag_u, psfMagerr_u, psfMag_g, psfMagerr_g, psfMag_r, psfMagerr_r, psfMag_i, psfMagerr_i, psfMag_z, psfMagerr_z, obj_id1, type]\n",
      "Index: []\n",
      "Calculating visibility of source ZTF18abcrzfz (ra: 192.864539, dec: 20.606471) with uh88.\n"
     ]
    },
    {
     "name": "stderr",
     "output_type": "stream",
     "text": [
      "INFO:root:computed dark times (sun_alt: -17.00) between 2018-11-14 00:00:00.000 and 2018-11-27 23:30:00.000. Total of 147.00 hours of dark\n",
      "INFO:root:source is visible for a total of 6.500 hours. Took 1.22e+00 sec\n",
      "INFO:root:computing visibility of source at (ra: 272.988876, dec: 30.045416) from observatory uh88\n",
      "INFO:root:using visibility constraints:\n",
      "\t\t\t\t\t-Time resolution: 30.00 min\n",
      "\t\t\t\t\t-Airmass limit: 2.00\n",
      "\t\t\t\t\t-Sun altitude: -17.00 deg\n",
      "\t\t\t\t\t-Moon distance: 30.00 deg\n"
     ]
    },
    {
     "name": "stdout",
     "output_type": "stream",
     "text": [
      "  obj_id                objID          ra        dec  psfMag_u  psfMagerr_u  \\\n",
      "0  obj_0  1237667916497289456  192.864611  20.606314  21.70016     0.123443   \n",
      "\n",
      "   psfMag_g  psfMagerr_g  psfMag_r  psfMagerr_r  psfMag_i  psfMagerr_i  \\\n",
      "0   20.6971     0.032483  20.32275     0.030833  20.25293     0.033182   \n",
      "\n",
      "   psfMag_z  psfMagerr_z              obj_id1    type  \n",
      "0  19.87456      0.06666  1237667916497289456  GALAXY  \n",
      "Calculating visibility of source ZTF18abcysdx (ra: 272.988876, dec: 30.045416) with uh88.\n"
     ]
    },
    {
     "name": "stderr",
     "output_type": "stream",
     "text": [
      "INFO:root:computed dark times (sun_alt: -17.00) between 2018-11-14 00:00:00.000 and 2018-11-27 23:30:00.000. Total of 147.00 hours of dark\n",
      "INFO:root:source is visible for a total of 6.000 hours. Took 1.23e+00 sec\n",
      "INFO:root:computing visibility of source at (ra: 204.697001, dec: 30.959583) from observatory uh88\n",
      "INFO:root:using visibility constraints:\n",
      "\t\t\t\t\t-Time resolution: 30.00 min\n",
      "\t\t\t\t\t-Airmass limit: 2.00\n",
      "\t\t\t\t\t-Sun altitude: -17.00 deg\n",
      "\t\t\t\t\t-Moon distance: 30.00 deg\n"
     ]
    },
    {
     "name": "stdout",
     "output_type": "stream",
     "text": [
      "Empty DataFrame\n",
      "Columns: [obj_id, objID, ra, dec, psfMag_u, psfMagerr_u, psfMag_g, psfMagerr_g, psfMag_r, psfMagerr_r, psfMag_i, psfMagerr_i, psfMag_z, psfMagerr_z, obj_id1, type]\n",
      "Index: []\n",
      "Calculating visibility of source ZTF18aavnvmp (ra: 204.697001, dec: 30.959583) with uh88.\n"
     ]
    },
    {
     "name": "stderr",
     "output_type": "stream",
     "text": [
      "INFO:root:computed dark times (sun_alt: -17.00) between 2018-11-14 00:00:00.000 and 2018-11-27 23:30:00.000. Total of 147.00 hours of dark\n",
      "INFO:root:source is visible for a total of 0.000 hours. Took 1.27e+00 sec\n"
     ]
    },
    {
     "name": "stdout",
     "output_type": "stream",
     "text": [
      "Not enough visibility\n"
     ]
    },
    {
     "name": "stderr",
     "output_type": "stream",
     "text": [
      "INFO:root:computing visibility of source at (ra: 258.128892, dec: 26.018613) from observatory uh88\n",
      "INFO:root:using visibility constraints:\n",
      "\t\t\t\t\t-Time resolution: 30.00 min\n",
      "\t\t\t\t\t-Airmass limit: 2.00\n",
      "\t\t\t\t\t-Sun altitude: -17.00 deg\n",
      "\t\t\t\t\t-Moon distance: 30.00 deg\n"
     ]
    },
    {
     "name": "stdout",
     "output_type": "stream",
     "text": [
      "  obj_id                objID         ra        dec  psfMag_u  psfMagerr_u  \\\n",
      "0  obj_0  1237665330396594427  204.69692  30.959597  22.12422     0.187117   \n",
      "\n",
      "   psfMag_g  psfMagerr_g  psfMag_r  psfMagerr_r  psfMag_i  psfMagerr_i  \\\n",
      "0  20.50427     0.022411  19.71225     0.020378  19.37364      0.02624   \n",
      "\n",
      "   psfMag_z  psfMagerr_z              obj_id1    type  \n",
      "0   19.0877     0.063835  1237665330396594427  GALAXY  \n",
      "Calculating visibility of source ZTF18abfzkno (ra: 258.128892, dec: 26.018613) with uh88.\n"
     ]
    },
    {
     "name": "stderr",
     "output_type": "stream",
     "text": [
      "INFO:root:computed dark times (sun_alt: -17.00) between 2018-11-14 00:00:00.000 and 2018-11-27 23:30:00.000. Total of 147.00 hours of dark\n",
      "INFO:root:source is visible for a total of 0.000 hours. Took 1.25e+00 sec\n"
     ]
    },
    {
     "name": "stdout",
     "output_type": "stream",
     "text": [
      "Not enough visibility\n"
     ]
    },
    {
     "name": "stderr",
     "output_type": "stream",
     "text": [
      "INFO:root:computing visibility of source at (ra: 208.643965, dec: 42.774648) from observatory uh88\n",
      "INFO:root:using visibility constraints:\n",
      "\t\t\t\t\t-Time resolution: 30.00 min\n",
      "\t\t\t\t\t-Airmass limit: 2.00\n",
      "\t\t\t\t\t-Sun altitude: -17.00 deg\n",
      "\t\t\t\t\t-Moon distance: 30.00 deg\n"
     ]
    },
    {
     "name": "stdout",
     "output_type": "stream",
     "text": [
      "  obj_id                objID          ra        dec  psfMag_u  psfMagerr_u  \\\n",
      "0  obj_0  1237659329785561834  258.128889  26.018559  21.14341     0.116315   \n",
      "\n",
      "   psfMag_g  psfMagerr_g  psfMag_r  psfMagerr_r  psfMag_i  psfMagerr_i  \\\n",
      "0  20.51883     0.029061  20.07853     0.025842  19.97333     0.032612   \n",
      "\n",
      "   psfMag_z  psfMagerr_z              obj_id1    type  \n",
      "0  19.82143     0.100068  1237659329785561834  GALAXY  \n",
      "Calculating visibility of source ZTF18abetejo (ra: 208.643965, dec: 42.774648) with uh88.\n"
     ]
    },
    {
     "name": "stderr",
     "output_type": "stream",
     "text": [
      "INFO:root:computed dark times (sun_alt: -17.00) between 2018-11-14 00:00:00.000 and 2018-11-27 23:30:00.000. Total of 147.00 hours of dark\n",
      "INFO:root:source is visible for a total of 0.000 hours. Took 1.25e+00 sec\n"
     ]
    },
    {
     "name": "stdout",
     "output_type": "stream",
     "text": [
      "Not enough visibility\n"
     ]
    },
    {
     "name": "stderr",
     "output_type": "stream",
     "text": [
      "INFO:root:computing visibility of source at (ra: 348.522621, dec: 29.633343) from observatory uh88\n",
      "INFO:root:using visibility constraints:\n",
      "\t\t\t\t\t-Time resolution: 30.00 min\n",
      "\t\t\t\t\t-Airmass limit: 2.00\n",
      "\t\t\t\t\t-Sun altitude: -17.00 deg\n",
      "\t\t\t\t\t-Moon distance: 30.00 deg\n"
     ]
    },
    {
     "name": "stdout",
     "output_type": "stream",
     "text": [
      "  obj_id                objID          ra        dec  psfMag_u  psfMagerr_u  \\\n",
      "0  obj_0  1237661851476885676  208.643553  42.774369   19.4856     0.029491   \n",
      "\n",
      "   psfMag_g  psfMagerr_g  psfMag_r  psfMagerr_r  psfMag_i  psfMagerr_i  \\\n",
      "0  17.73803     0.019626  16.72032      0.02191  16.45138     0.016989   \n",
      "\n",
      "   psfMag_z  psfMagerr_z              obj_id1    type  \n",
      "0  16.24139     0.021026  1237661851476885676  GALAXY  \n",
      "Calculating visibility of source ZTF18abdpvnd (ra: 348.522621, dec: 29.633343) with uh88.\n"
     ]
    },
    {
     "name": "stderr",
     "output_type": "stream",
     "text": [
      "INFO:root:computed dark times (sun_alt: -17.00) between 2018-11-14 00:00:00.000 and 2018-11-27 23:30:00.000. Total of 147.00 hours of dark\n",
      "INFO:root:source is visible for a total of 76.000 hours. Took 1.33e+00 sec\n",
      "INFO:root:computing visibility of source at (ra: 236.423423, dec: 11.952758) from observatory uh88\n",
      "INFO:root:using visibility constraints:\n",
      "\t\t\t\t\t-Time resolution: 30.00 min\n",
      "\t\t\t\t\t-Airmass limit: 2.00\n",
      "\t\t\t\t\t-Sun altitude: -17.00 deg\n",
      "\t\t\t\t\t-Moon distance: 30.00 deg\n"
     ]
    },
    {
     "name": "stdout",
     "output_type": "stream",
     "text": [
      "  obj_id                objID          ra        dec  psfMag_u  psfMagerr_u  \\\n",
      "0  obj_0  1237680530815975998  348.522618  29.634627  22.10575     1.065521   \n",
      "\n",
      "   psfMag_g  psfMagerr_g  psfMag_r  psfMagerr_r  psfMag_i  psfMagerr_i  \\\n",
      "0  25.15646     0.448944  24.45392     0.600498  24.09277     0.812914   \n",
      "\n",
      "   psfMag_z  psfMagerr_z              obj_id1  type  \n",
      "0  22.70278     0.583162  1237680530815975998  STAR  \n",
      "Calculating visibility of source ZTF18abgledy (ra: 236.423423, dec: 11.952758) with uh88.\n"
     ]
    },
    {
     "name": "stderr",
     "output_type": "stream",
     "text": [
      "INFO:root:computed dark times (sun_alt: -17.00) between 2018-11-14 00:00:00.000 and 2018-11-27 23:30:00.000. Total of 147.00 hours of dark\n",
      "INFO:root:source is visible for a total of 0.000 hours. Took 1.25e+00 sec\n"
     ]
    },
    {
     "name": "stdout",
     "output_type": "stream",
     "text": [
      "Not enough visibility\n"
     ]
    },
    {
     "name": "stderr",
     "output_type": "stream",
     "text": [
      "INFO:root:computing visibility of source at (ra: 274.054520, dec: 55.590888) from observatory uh88\n",
      "INFO:root:using visibility constraints:\n",
      "\t\t\t\t\t-Time resolution: 30.00 min\n",
      "\t\t\t\t\t-Airmass limit: 2.00\n",
      "\t\t\t\t\t-Sun altitude: -17.00 deg\n",
      "\t\t\t\t\t-Moon distance: 30.00 deg\n"
     ]
    },
    {
     "name": "stdout",
     "output_type": "stream",
     "text": [
      "  obj_id                objID          ra        dec  psfMag_u  psfMagerr_u  \\\n",
      "0  obj_0  1237668333108658813  236.423906  11.953066  22.50732     0.227231   \n",
      "\n",
      "   psfMag_g  psfMagerr_g  psfMag_r  psfMagerr_r  psfMag_i  psfMagerr_i  \\\n",
      "0  23.63662     0.295819  23.23913     0.548899  23.58706      1.03523   \n",
      "\n",
      "   psfMag_z  psfMagerr_z              obj_id1    type  \n",
      "0   22.8269     1.225093  1237668333108658813  GALAXY  \n",
      "Calculating visibility of source ZTF18abgmcmv (ra: 274.054520, dec: 55.590888) with uh88.\n"
     ]
    },
    {
     "name": "stderr",
     "output_type": "stream",
     "text": [
      "INFO:root:computed dark times (sun_alt: -17.00) between 2018-11-14 00:00:00.000 and 2018-11-27 23:30:00.000. Total of 147.00 hours of dark\n",
      "INFO:root:source is visible for a total of 7.500 hours. Took 1.24e+00 sec\n",
      "INFO:root:computing visibility of source at (ra: 213.618588, dec: 23.007997) from observatory uh88\n",
      "INFO:root:using visibility constraints:\n",
      "\t\t\t\t\t-Time resolution: 30.00 min\n",
      "\t\t\t\t\t-Airmass limit: 2.00\n",
      "\t\t\t\t\t-Sun altitude: -17.00 deg\n",
      "\t\t\t\t\t-Moon distance: 30.00 deg\n"
     ]
    },
    {
     "name": "stdout",
     "output_type": "stream",
     "text": [
      "Empty DataFrame\n",
      "Columns: [obj_id, objID, ra, dec, psfMag_u, psfMagerr_u, psfMag_g, psfMagerr_g, psfMag_r, psfMagerr_r, psfMag_i, psfMagerr_i, psfMag_z, psfMagerr_z, obj_id1, type]\n",
      "Index: []\n",
      "Calculating visibility of source ZTF18abdrbok (ra: 213.618588, dec: 23.007997) with uh88.\n"
     ]
    },
    {
     "name": "stderr",
     "output_type": "stream",
     "text": [
      "INFO:root:computed dark times (sun_alt: -17.00) between 2018-11-14 00:00:00.000 and 2018-11-27 23:30:00.000. Total of 147.00 hours of dark\n",
      "INFO:root:source is visible for a total of 0.000 hours. Took 1.22e+00 sec\n"
     ]
    },
    {
     "name": "stdout",
     "output_type": "stream",
     "text": [
      "Not enough visibility\n"
     ]
    },
    {
     "name": "stderr",
     "output_type": "stream",
     "text": [
      "INFO:root:computing visibility of source at (ra: 216.803303, dec: 16.862670) from observatory uh88\n",
      "INFO:root:using visibility constraints:\n",
      "\t\t\t\t\t-Time resolution: 30.00 min\n",
      "\t\t\t\t\t-Airmass limit: 2.00\n",
      "\t\t\t\t\t-Sun altitude: -17.00 deg\n",
      "\t\t\t\t\t-Moon distance: 30.00 deg\n"
     ]
    },
    {
     "name": "stdout",
     "output_type": "stream",
     "text": [
      "  obj_id                objID          ra        dec  psfMag_u  psfMagerr_u  \\\n",
      "0  obj_0  1237665567143428225  213.618687  23.008274  23.88896     0.536794   \n",
      "\n",
      "   psfMag_g  psfMagerr_g  psfMag_r  psfMagerr_r  psfMag_i  psfMagerr_i  \\\n",
      "0  22.06724     0.068362  21.71669     0.067492  21.34745     0.074731   \n",
      "\n",
      "   psfMag_z  psfMagerr_z              obj_id1    type  \n",
      "0  21.10665     0.209435  1237665567143428225  GALAXY  \n",
      "Calculating visibility of source ZTF18abespgb (ra: 216.803303, dec: 16.862670) with uh88.\n"
     ]
    },
    {
     "name": "stderr",
     "output_type": "stream",
     "text": [
      "INFO:root:computed dark times (sun_alt: -17.00) between 2018-11-14 00:00:00.000 and 2018-11-27 23:30:00.000. Total of 147.00 hours of dark\n",
      "INFO:root:source is visible for a total of 0.000 hours. Took 1.25e+00 sec\n"
     ]
    },
    {
     "name": "stdout",
     "output_type": "stream",
     "text": [
      "Not enough visibility\n"
     ]
    },
    {
     "name": "stderr",
     "output_type": "stream",
     "text": [
      "INFO:root:computing visibility of source at (ra: 284.989742, dec: 72.267328) from observatory uh88\n",
      "INFO:root:using visibility constraints:\n",
      "\t\t\t\t\t-Time resolution: 30.00 min\n",
      "\t\t\t\t\t-Airmass limit: 2.00\n",
      "\t\t\t\t\t-Sun altitude: -17.00 deg\n",
      "\t\t\t\t\t-Moon distance: 30.00 deg\n"
     ]
    },
    {
     "name": "stdout",
     "output_type": "stream",
     "text": [
      "  obj_id                objID          ra        dec  psfMag_u  psfMagerr_u  \\\n",
      "0  obj_0  1237668297680486548  216.803413  16.862822  20.30494     0.053076   \n",
      "\n",
      "   psfMag_g  psfMagerr_g  psfMag_r  psfMagerr_r  psfMag_i  psfMagerr_i  \\\n",
      "0  19.34291     0.020851  19.15271     0.016327   18.9949     0.017284   \n",
      "\n",
      "   psfMag_z  psfMagerr_z              obj_id1    type  \n",
      "0  18.77623      0.04007  1237668297680486548  GALAXY  \n",
      "Calculating visibility of source ZTF18abfhryc (ra: 284.989742, dec: 72.267328) with uh88.\n"
     ]
    },
    {
     "name": "stderr",
     "output_type": "stream",
     "text": [
      "INFO:root:computed dark times (sun_alt: -17.00) between 2018-11-14 00:00:00.000 and 2018-11-27 23:30:00.000. Total of 147.00 hours of dark\n",
      "INFO:root:source is visible for a total of 9.000 hours. Took 1.24e+00 sec\n",
      "INFO:root:computing visibility of source at (ra: 284.317988, dec: 46.499096) from observatory uh88\n",
      "INFO:root:using visibility constraints:\n",
      "\t\t\t\t\t-Time resolution: 30.00 min\n",
      "\t\t\t\t\t-Airmass limit: 2.00\n",
      "\t\t\t\t\t-Sun altitude: -17.00 deg\n",
      "\t\t\t\t\t-Moon distance: 30.00 deg\n"
     ]
    },
    {
     "name": "stdout",
     "output_type": "stream",
     "text": [
      "Empty DataFrame\n",
      "Columns: [obj_id, objID, ra, dec, psfMag_u, psfMagerr_u, psfMag_g, psfMagerr_g, psfMag_r, psfMagerr_r, psfMag_i, psfMagerr_i, psfMag_z, psfMagerr_z, obj_id1, type]\n",
      "Index: []\n",
      "Calculating visibility of source ZTF18abeegsl (ra: 284.317988, dec: 46.499096) with uh88.\n"
     ]
    },
    {
     "name": "stderr",
     "output_type": "stream",
     "text": [
      "INFO:root:computed dark times (sun_alt: -17.00) between 2018-11-14 00:00:00.000 and 2018-11-27 23:30:00.000. Total of 147.00 hours of dark\n",
      "INFO:root:source is visible for a total of 17.500 hours. Took 1.23e+00 sec\n",
      "INFO:root:computing visibility of source at (ra: 252.487620, dec: 27.640817) from observatory uh88\n",
      "INFO:root:using visibility constraints:\n",
      "\t\t\t\t\t-Time resolution: 30.00 min\n",
      "\t\t\t\t\t-Airmass limit: 2.00\n",
      "\t\t\t\t\t-Sun altitude: -17.00 deg\n",
      "\t\t\t\t\t-Moon distance: 30.00 deg\n"
     ]
    },
    {
     "name": "stdout",
     "output_type": "stream",
     "text": [
      "Empty DataFrame\n",
      "Columns: [obj_id, objID, ra, dec, psfMag_u, psfMagerr_u, psfMag_g, psfMagerr_g, psfMag_r, psfMagerr_r, psfMag_i, psfMagerr_i, psfMag_z, psfMagerr_z, obj_id1, type]\n",
      "Index: []\n",
      "Calculating visibility of source ZTF18abhhnnv (ra: 252.487620, dec: 27.640817) with uh88.\n"
     ]
    },
    {
     "name": "stderr",
     "output_type": "stream",
     "text": [
      "INFO:root:computed dark times (sun_alt: -17.00) between 2018-11-14 00:00:00.000 and 2018-11-27 23:30:00.000. Total of 147.00 hours of dark\n",
      "INFO:root:source is visible for a total of 0.000 hours. Took 1.22e+00 sec\n"
     ]
    },
    {
     "name": "stdout",
     "output_type": "stream",
     "text": [
      "Not enough visibility\n"
     ]
    },
    {
     "name": "stderr",
     "output_type": "stream",
     "text": [
      "INFO:root:computing visibility of source at (ra: 280.730061, dec: 50.659334) from observatory uh88\n",
      "INFO:root:using visibility constraints:\n",
      "\t\t\t\t\t-Time resolution: 30.00 min\n",
      "\t\t\t\t\t-Airmass limit: 2.00\n",
      "\t\t\t\t\t-Sun altitude: -17.00 deg\n",
      "\t\t\t\t\t-Moon distance: 30.00 deg\n"
     ]
    },
    {
     "name": "stdout",
     "output_type": "stream",
     "text": [
      "  obj_id                objID          ra       dec  psfMag_u  psfMagerr_u  \\\n",
      "0  obj_0  1237662302987419996  252.487778  27.64091  22.11259     0.207539   \n",
      "\n",
      "   psfMag_g  psfMagerr_g  psfMag_r  psfMagerr_r  psfMag_i  psfMagerr_i  \\\n",
      "0  21.18179     0.082569  21.11167     0.099898  21.28875     0.162289   \n",
      "\n",
      "   psfMag_z  psfMagerr_z              obj_id1    type  \n",
      "0  21.37642     0.342812  1237662302987419996  GALAXY  \n",
      "Calculating visibility of source ZTF18aawurud (ra: 280.730061, dec: 50.659334) with uh88.\n"
     ]
    },
    {
     "name": "stderr",
     "output_type": "stream",
     "text": [
      "INFO:root:computed dark times (sun_alt: -17.00) between 2018-11-14 00:00:00.000 and 2018-11-27 23:30:00.000. Total of 147.00 hours of dark\n",
      "INFO:root:source is visible for a total of 14.000 hours. Took 1.25e+00 sec\n",
      "INFO:root:computing visibility of source at (ra: 217.540991, dec: 55.886411) from observatory uh88\n",
      "INFO:root:using visibility constraints:\n",
      "\t\t\t\t\t-Time resolution: 30.00 min\n",
      "\t\t\t\t\t-Airmass limit: 2.00\n",
      "\t\t\t\t\t-Sun altitude: -17.00 deg\n",
      "\t\t\t\t\t-Moon distance: 30.00 deg\n"
     ]
    },
    {
     "name": "stdout",
     "output_type": "stream",
     "text": [
      "Empty DataFrame\n",
      "Columns: [obj_id, objID, ra, dec, psfMag_u, psfMagerr_u, psfMag_g, psfMagerr_g, psfMag_r, psfMagerr_r, psfMag_i, psfMagerr_i, psfMag_z, psfMagerr_z, obj_id1, type]\n",
      "Index: []\n",
      "Calculating visibility of source ZTF18abgqkpc (ra: 217.540991, dec: 55.886411) with uh88.\n"
     ]
    },
    {
     "name": "stderr",
     "output_type": "stream",
     "text": [
      "INFO:root:computed dark times (sun_alt: -17.00) between 2018-11-14 00:00:00.000 and 2018-11-27 23:30:00.000. Total of 147.00 hours of dark\n",
      "INFO:root:source is visible for a total of 0.000 hours. Took 1.81e+00 sec\n"
     ]
    },
    {
     "name": "stdout",
     "output_type": "stream",
     "text": [
      "Not enough visibility\n"
     ]
    },
    {
     "name": "stderr",
     "output_type": "stream",
     "text": [
      "INFO:root:computing visibility of source at (ra: 287.169018, dec: 78.477715) from observatory uh88\n",
      "INFO:root:using visibility constraints:\n",
      "\t\t\t\t\t-Time resolution: 30.00 min\n",
      "\t\t\t\t\t-Airmass limit: 2.00\n",
      "\t\t\t\t\t-Sun altitude: -17.00 deg\n",
      "\t\t\t\t\t-Moon distance: 30.00 deg\n"
     ]
    },
    {
     "name": "stdout",
     "output_type": "stream",
     "text": [
      "  obj_id                objID          ra        dec  psfMag_u  psfMagerr_u  \\\n",
      "0  obj_0  1237659326018224217  217.540821  55.886224  22.84961     0.396247   \n",
      "\n",
      "   psfMag_g  psfMagerr_g  psfMag_r  psfMagerr_r  psfMag_i  psfMagerr_i  \\\n",
      "0  20.35601     0.047451   19.2788     0.029726  18.74747     0.026371   \n",
      "\n",
      "   psfMag_z  psfMagerr_z              obj_id1    type  \n",
      "0  18.28349     0.034036  1237659326018224217  GALAXY  \n",
      "Calculating visibility of source ZTF18abgosbg (ra: 287.169018, dec: 78.477715) with uh88.\n"
     ]
    },
    {
     "name": "stderr",
     "output_type": "stream",
     "text": [
      "INFO:root:computed dark times (sun_alt: -17.00) between 2018-11-14 00:00:00.000 and 2018-11-27 23:30:00.000. Total of 147.00 hours of dark\n",
      "INFO:root:source is visible for a total of 0.000 hours. Took 1.89e+00 sec\n"
     ]
    },
    {
     "name": "stdout",
     "output_type": "stream",
     "text": [
      "Not enough visibility\n"
     ]
    },
    {
     "name": "stderr",
     "output_type": "stream",
     "text": [
      "INFO:root:computing visibility of source at (ra: 266.184579, dec: 38.164065) from observatory uh88\n",
      "INFO:root:using visibility constraints:\n",
      "\t\t\t\t\t-Time resolution: 30.00 min\n",
      "\t\t\t\t\t-Airmass limit: 2.00\n",
      "\t\t\t\t\t-Sun altitude: -17.00 deg\n",
      "\t\t\t\t\t-Moon distance: 30.00 deg\n"
     ]
    },
    {
     "name": "stdout",
     "output_type": "stream",
     "text": [
      "  obj_id                objID          ra        dec  psfMag_u  psfMagerr_u  \\\n",
      "0  obj_0  1237663268797809079  287.167797  78.478471  20.71824     0.081894   \n",
      "\n",
      "   psfMag_g  psfMagerr_g  psfMag_r  psfMagerr_r  psfMag_i  psfMagerr_i  \\\n",
      "0   19.0332     0.046083  18.27992     0.077922  17.87524      0.10101   \n",
      "\n",
      "   psfMag_z  psfMagerr_z              obj_id1    type  \n",
      "0  17.47224     0.093531  1237663268797809079  GALAXY  \n",
      "Calculating visibility of source ZTF18abgxvra (ra: 266.184579, dec: 38.164065) with uh88.\n"
     ]
    },
    {
     "name": "stderr",
     "output_type": "stream",
     "text": [
      "INFO:root:computed dark times (sun_alt: -17.00) between 2018-11-14 00:00:00.000 and 2018-11-27 23:30:00.000. Total of 147.00 hours of dark\n",
      "INFO:root:source is visible for a total of 2.000 hours. Took 1.87e+00 sec\n"
     ]
    },
    {
     "name": "stdout",
     "output_type": "stream",
     "text": [
      "Not enough visibility\n"
     ]
    },
    {
     "name": "stderr",
     "output_type": "stream",
     "text": [
      "INFO:root:computing visibility of source at (ra: 274.799090, dec: 54.088693) from observatory uh88\n",
      "INFO:root:using visibility constraints:\n",
      "\t\t\t\t\t-Time resolution: 30.00 min\n",
      "\t\t\t\t\t-Airmass limit: 2.00\n",
      "\t\t\t\t\t-Sun altitude: -17.00 deg\n",
      "\t\t\t\t\t-Moon distance: 30.00 deg\n"
     ]
    },
    {
     "name": "stdout",
     "output_type": "stream",
     "text": [
      "Empty DataFrame\n",
      "Columns: [obj_id, objID, ra, dec, psfMag_u, psfMagerr_u, psfMag_g, psfMagerr_g, psfMag_r, psfMagerr_r, psfMag_i, psfMagerr_i, psfMag_z, psfMagerr_z, obj_id1, type]\n",
      "Index: []\n",
      "Calculating visibility of source ZTF18abimsyv (ra: 274.799090, dec: 54.088693) with uh88.\n"
     ]
    },
    {
     "name": "stderr",
     "output_type": "stream",
     "text": [
      "INFO:root:computed dark times (sun_alt: -17.00) between 2018-11-14 00:00:00.000 and 2018-11-27 23:30:00.000. Total of 147.00 hours of dark\n",
      "INFO:root:source is visible for a total of 8.500 hours. Took 1.71e+00 sec\n",
      "INFO:root:computing visibility of source at (ra: 330.173783, dec: 19.666136) from observatory uh88\n",
      "INFO:root:using visibility constraints:\n",
      "\t\t\t\t\t-Time resolution: 30.00 min\n",
      "\t\t\t\t\t-Airmass limit: 2.00\n",
      "\t\t\t\t\t-Sun altitude: -17.00 deg\n",
      "\t\t\t\t\t-Moon distance: 30.00 deg\n"
     ]
    },
    {
     "name": "stdout",
     "output_type": "stream",
     "text": [
      "Empty DataFrame\n",
      "Columns: [obj_id, objID, ra, dec, psfMag_u, psfMagerr_u, psfMag_g, psfMagerr_g, psfMag_r, psfMagerr_r, psfMag_i, psfMagerr_i, psfMag_z, psfMagerr_z, obj_id1, type]\n",
      "Index: []\n",
      "Calculating visibility of source ZTF18abiinnl (ra: 330.173783, dec: 19.666136) with uh88.\n"
     ]
    },
    {
     "name": "stderr",
     "output_type": "stream",
     "text": [
      "INFO:root:computed dark times (sun_alt: -17.00) between 2018-11-14 00:00:00.000 and 2018-11-27 23:30:00.000. Total of 147.00 hours of dark\n",
      "INFO:root:source is visible for a total of 57.500 hours. Took 1.63e+00 sec\n",
      "INFO:root:computing visibility of source at (ra: 307.148199, dec: 25.735655) from observatory uh88\n",
      "INFO:root:using visibility constraints:\n",
      "\t\t\t\t\t-Time resolution: 30.00 min\n",
      "\t\t\t\t\t-Airmass limit: 2.00\n",
      "\t\t\t\t\t-Sun altitude: -17.00 deg\n",
      "\t\t\t\t\t-Moon distance: 30.00 deg\n"
     ]
    },
    {
     "name": "stdout",
     "output_type": "stream",
     "text": [
      "  obj_id                objID          ra        dec  psfMag_u  psfMagerr_u  \\\n",
      "0  obj_0  1237666243607134633  330.173453  19.666812  22.64442     0.621813   \n",
      "\n",
      "   psfMag_g  psfMagerr_g  psfMag_r  psfMagerr_r  psfMag_i  psfMagerr_i  \\\n",
      "0  21.91496     0.218846  21.24134       0.1388  21.65051     0.302294   \n",
      "\n",
      "   psfMag_z  psfMagerr_z              obj_id1    type  \n",
      "0  22.77369     0.727802  1237666243607134633  GALAXY  \n",
      "Calculating visibility of source ZTF18abhpzig (ra: 307.148199, dec: 25.735655) with uh88.\n"
     ]
    },
    {
     "name": "stderr",
     "output_type": "stream",
     "text": [
      "INFO:root:computed dark times (sun_alt: -17.00) between 2018-11-14 00:00:00.000 and 2018-11-27 23:30:00.000. Total of 147.00 hours of dark\n",
      "INFO:root:source is visible for a total of 37.000 hours. Took 1.49e+00 sec\n",
      "INFO:root:computing visibility of source at (ra: 251.428184, dec: 37.890427) from observatory uh88\n",
      "INFO:root:using visibility constraints:\n",
      "\t\t\t\t\t-Time resolution: 30.00 min\n",
      "\t\t\t\t\t-Airmass limit: 2.00\n",
      "\t\t\t\t\t-Sun altitude: -17.00 deg\n",
      "\t\t\t\t\t-Moon distance: 30.00 deg\n"
     ]
    },
    {
     "name": "stdout",
     "output_type": "stream",
     "text": [
      "Empty DataFrame\n",
      "Columns: [obj_id, objID, ra, dec, psfMag_u, psfMagerr_u, psfMag_g, psfMagerr_g, psfMag_r, psfMagerr_r, psfMag_i, psfMagerr_i, psfMag_z, psfMagerr_z, obj_id1, type]\n",
      "Index: []\n",
      "Calculating visibility of source ZTF18abfwuwn (ra: 251.428184, dec: 37.890427) with uh88.\n"
     ]
    },
    {
     "name": "stderr",
     "output_type": "stream",
     "text": [
      "INFO:root:computed dark times (sun_alt: -17.00) between 2018-11-14 00:00:00.000 and 2018-11-27 23:30:00.000. Total of 147.00 hours of dark\n",
      "INFO:root:source is visible for a total of 0.000 hours. Took 1.45e+00 sec\n"
     ]
    },
    {
     "name": "stdout",
     "output_type": "stream",
     "text": [
      "Not enough visibility\n"
     ]
    },
    {
     "name": "stderr",
     "output_type": "stream",
     "text": [
      "INFO:root:computing visibility of source at (ra: 275.770788, dec: 27.471120) from observatory uh88\n",
      "INFO:root:using visibility constraints:\n",
      "\t\t\t\t\t-Time resolution: 30.00 min\n",
      "\t\t\t\t\t-Airmass limit: 2.00\n",
      "\t\t\t\t\t-Sun altitude: -17.00 deg\n",
      "\t\t\t\t\t-Moon distance: 30.00 deg\n"
     ]
    },
    {
     "name": "stdout",
     "output_type": "stream",
     "text": [
      "Empty DataFrame\n",
      "Columns: [obj_id, objID, ra, dec, psfMag_u, psfMagerr_u, psfMag_g, psfMagerr_g, psfMag_r, psfMagerr_r, psfMag_i, psfMagerr_i, psfMag_z, psfMagerr_z, obj_id1, type]\n",
      "Index: []\n",
      "Calculating visibility of source ZTF18abhxidv (ra: 275.770788, dec: 27.471120) with uh88.\n"
     ]
    },
    {
     "name": "stderr",
     "output_type": "stream",
     "text": [
      "INFO:root:computed dark times (sun_alt: -17.00) between 2018-11-14 00:00:00.000 and 2018-11-27 23:30:00.000. Total of 147.00 hours of dark\n",
      "INFO:root:source is visible for a total of 8.000 hours. Took 1.51e+00 sec\n",
      "INFO:root:computing visibility of source at (ra: 214.202101, dec: 58.485403) from observatory uh88\n",
      "INFO:root:using visibility constraints:\n",
      "\t\t\t\t\t-Time resolution: 30.00 min\n",
      "\t\t\t\t\t-Airmass limit: 2.00\n",
      "\t\t\t\t\t-Sun altitude: -17.00 deg\n",
      "\t\t\t\t\t-Moon distance: 30.00 deg\n"
     ]
    },
    {
     "name": "stdout",
     "output_type": "stream",
     "text": [
      "Empty DataFrame\n",
      "Columns: [obj_id, objID, ra, dec, psfMag_u, psfMagerr_u, psfMag_g, psfMagerr_g, psfMag_r, psfMagerr_r, psfMag_i, psfMagerr_i, psfMag_z, psfMagerr_z, obj_id1, type]\n",
      "Index: []\n",
      "Calculating visibility of source ZTF18aailmnv (ra: 214.202101, dec: 58.485403) with uh88.\n"
     ]
    },
    {
     "name": "stderr",
     "output_type": "stream",
     "text": [
      "INFO:root:computed dark times (sun_alt: -17.00) between 2018-11-14 00:00:00.000 and 2018-11-27 23:30:00.000. Total of 147.00 hours of dark\n",
      "INFO:root:source is visible for a total of 0.000 hours. Took 1.53e+00 sec\n"
     ]
    },
    {
     "name": "stdout",
     "output_type": "stream",
     "text": [
      "Not enough visibility\n"
     ]
    },
    {
     "name": "stderr",
     "output_type": "stream",
     "text": [
      "INFO:root:computing visibility of source at (ra: 232.588454, dec: 27.629517) from observatory uh88\n",
      "INFO:root:using visibility constraints:\n",
      "\t\t\t\t\t-Time resolution: 30.00 min\n",
      "\t\t\t\t\t-Airmass limit: 2.00\n",
      "\t\t\t\t\t-Sun altitude: -17.00 deg\n",
      "\t\t\t\t\t-Moon distance: 30.00 deg\n"
     ]
    },
    {
     "name": "stdout",
     "output_type": "stream",
     "text": [
      "  obj_id                objID         ra        dec  psfMag_u  psfMagerr_u  \\\n",
      "0  obj_0  1237655463775174826  214.20225  58.485964  21.77367     0.151969   \n",
      "\n",
      "   psfMag_g  psfMagerr_g  psfMag_r  psfMagerr_r  psfMag_i  psfMagerr_i  \\\n",
      "0  20.91094      0.04158  20.61036     0.033485   20.3226     0.041396   \n",
      "\n",
      "   psfMag_z  psfMagerr_z              obj_id1    type  \n",
      "0  20.39771     0.132429  1237655463775174826  GALAXY  \n",
      "Calculating visibility of source ZTF18abixkjh (ra: 232.588454, dec: 27.629517) with uh88.\n"
     ]
    },
    {
     "name": "stderr",
     "output_type": "stream",
     "text": [
      "INFO:root:computed dark times (sun_alt: -17.00) between 2018-11-14 00:00:00.000 and 2018-11-27 23:30:00.000. Total of 147.00 hours of dark\n",
      "INFO:root:source is visible for a total of 0.000 hours. Took 1.30e+00 sec\n"
     ]
    },
    {
     "name": "stdout",
     "output_type": "stream",
     "text": [
      "Not enough visibility\n"
     ]
    },
    {
     "name": "stderr",
     "output_type": "stream",
     "text": [
      "INFO:root:computing visibility of source at (ra: 277.678070, dec: 54.634454) from observatory uh88\n",
      "INFO:root:using visibility constraints:\n",
      "\t\t\t\t\t-Time resolution: 30.00 min\n",
      "\t\t\t\t\t-Airmass limit: 2.00\n",
      "\t\t\t\t\t-Sun altitude: -17.00 deg\n",
      "\t\t\t\t\t-Moon distance: 30.00 deg\n"
     ]
    },
    {
     "name": "stdout",
     "output_type": "stream",
     "text": [
      "  obj_id                objID          ra        dec  psfMag_u  psfMagerr_u  \\\n",
      "0  obj_0  1237664853651095654  232.587854  27.629123  22.98804     0.269784   \n",
      "\n",
      "   psfMag_g  psfMagerr_g  psfMag_r  psfMagerr_r  psfMag_i  psfMagerr_i  \\\n",
      "0  21.57334     0.041566  21.52243      0.04944  21.51053     0.069596   \n",
      "\n",
      "   psfMag_z  psfMagerr_z              obj_id1    type  \n",
      "0  21.51999     0.906423  1237664853651095654  GALAXY  \n",
      "Calculating visibility of source ZTF18abhpgje (ra: 277.678070, dec: 54.634454) with uh88.\n"
     ]
    },
    {
     "name": "stderr",
     "output_type": "stream",
     "text": [
      "INFO:root:computed dark times (sun_alt: -17.00) between 2018-11-14 00:00:00.000 and 2018-11-27 23:30:00.000. Total of 147.00 hours of dark\n",
      "INFO:root:source is visible for a total of 11.000 hours. Took 1.35e+00 sec\n",
      "INFO:root:computing visibility of source at (ra: 294.940718, dec: 0.881559) from observatory uh88\n",
      "INFO:root:using visibility constraints:\n",
      "\t\t\t\t\t-Time resolution: 30.00 min\n",
      "\t\t\t\t\t-Airmass limit: 2.00\n",
      "\t\t\t\t\t-Sun altitude: -17.00 deg\n",
      "\t\t\t\t\t-Moon distance: 30.00 deg\n"
     ]
    },
    {
     "name": "stdout",
     "output_type": "stream",
     "text": [
      "Empty DataFrame\n",
      "Columns: [obj_id, objID, ra, dec, psfMag_u, psfMagerr_u, psfMag_g, psfMagerr_g, psfMag_r, psfMagerr_r, psfMag_i, psfMagerr_i, psfMag_z, psfMagerr_z, obj_id1, type]\n",
      "Index: []\n",
      "Calculating visibility of source ZTF18abiyatb (ra: 294.940718, dec: 0.881559) with uh88.\n"
     ]
    },
    {
     "name": "stderr",
     "output_type": "stream",
     "text": [
      "INFO:root:computed dark times (sun_alt: -17.00) between 2018-11-14 00:00:00.000 and 2018-11-27 23:30:00.000. Total of 147.00 hours of dark\n",
      "INFO:root:Too close the the moon.\n",
      "INFO:root:source is visible for a total of 17.000 hours. Took 1.30e+00 sec\n",
      "INFO:root:computing visibility of source at (ra: 226.376834, dec: 30.910255) from observatory uh88\n",
      "INFO:root:using visibility constraints:\n",
      "\t\t\t\t\t-Time resolution: 30.00 min\n",
      "\t\t\t\t\t-Airmass limit: 2.00\n",
      "\t\t\t\t\t-Sun altitude: -17.00 deg\n",
      "\t\t\t\t\t-Moon distance: 30.00 deg\n"
     ]
    },
    {
     "name": "stdout",
     "output_type": "stream",
     "text": [
      "Empty DataFrame\n",
      "Columns: [obj_id, objID, ra, dec, psfMag_u, psfMagerr_u, psfMag_g, psfMagerr_g, psfMag_r, psfMagerr_r, psfMag_i, psfMagerr_i, psfMag_z, psfMagerr_z, obj_id1, type]\n",
      "Index: []\n",
      "Calculating visibility of source ZTF18abjvhec (ra: 226.376834, dec: 30.910255) with uh88.\n"
     ]
    },
    {
     "name": "stderr",
     "output_type": "stream",
     "text": [
      "INFO:root:computed dark times (sun_alt: -17.00) between 2018-11-14 00:00:00.000 and 2018-11-27 23:30:00.000. Total of 147.00 hours of dark\n",
      "INFO:root:source is visible for a total of 0.000 hours. Took 1.35e+00 sec\n"
     ]
    },
    {
     "name": "stdout",
     "output_type": "stream",
     "text": [
      "Not enough visibility\n"
     ]
    },
    {
     "name": "stderr",
     "output_type": "stream",
     "text": [
      "INFO:root:computing visibility of source at (ra: 338.784981, dec: 17.389071) from observatory uh88\n",
      "INFO:root:using visibility constraints:\n",
      "\t\t\t\t\t-Time resolution: 30.00 min\n",
      "\t\t\t\t\t-Airmass limit: 2.00\n",
      "\t\t\t\t\t-Sun altitude: -17.00 deg\n",
      "\t\t\t\t\t-Moon distance: 30.00 deg\n"
     ]
    },
    {
     "name": "stdout",
     "output_type": "stream",
     "text": [
      "Empty DataFrame\n",
      "Columns: [obj_id, objID, ra, dec, psfMag_u, psfMagerr_u, psfMag_g, psfMagerr_g, psfMag_r, psfMagerr_r, psfMag_i, psfMagerr_i, psfMag_z, psfMagerr_z, obj_id1, type]\n",
      "Index: []\n",
      "Calculating visibility of source ZTF18abilofa (ra: 338.784981, dec: 17.389071) with uh88.\n"
     ]
    },
    {
     "name": "stderr",
     "output_type": "stream",
     "text": [
      "INFO:root:computed dark times (sun_alt: -17.00) between 2018-11-14 00:00:00.000 and 2018-11-27 23:30:00.000. Total of 147.00 hours of dark\n",
      "INFO:root:Too close the the moon.\n",
      "INFO:root:source is visible for a total of 55.000 hours. Took 1.36e+00 sec\n",
      "INFO:root:computing visibility of source at (ra: 185.653406, dec: 47.969264) from observatory uh88\n",
      "INFO:root:using visibility constraints:\n",
      "\t\t\t\t\t-Time resolution: 30.00 min\n",
      "\t\t\t\t\t-Airmass limit: 2.00\n",
      "\t\t\t\t\t-Sun altitude: -17.00 deg\n",
      "\t\t\t\t\t-Moon distance: 30.00 deg\n"
     ]
    },
    {
     "name": "stdout",
     "output_type": "stream",
     "text": [
      "  obj_id                objID          ra        dec  psfMag_u  psfMagerr_u  \\\n",
      "0  obj_0  1237666185636741423  338.784004  17.389595  20.62913     0.051122   \n",
      "\n",
      "   psfMag_g  psfMagerr_g  psfMag_r  psfMagerr_r  psfMag_i  psfMagerr_i  \\\n",
      "0  19.50171     0.023218  18.89347     0.017349  18.61624     0.014933   \n",
      "\n",
      "   psfMag_z  psfMagerr_z              obj_id1    type  \n",
      "0  18.49901      0.03031  1237666185636741423  GALAXY  \n",
      "Calculating visibility of source ZTF18abiirfq (ra: 185.653406, dec: 47.969264) with uh88.\n"
     ]
    },
    {
     "name": "stderr",
     "output_type": "stream",
     "text": [
      "INFO:root:computed dark times (sun_alt: -17.00) between 2018-11-14 00:00:00.000 and 2018-11-27 23:30:00.000. Total of 147.00 hours of dark\n",
      "INFO:root:source is visible for a total of 16.500 hours. Took 1.28e+00 sec\n",
      "INFO:root:computing visibility of source at (ra: 226.098355, dec: 61.621448) from observatory uh88\n",
      "INFO:root:using visibility constraints:\n",
      "\t\t\t\t\t-Time resolution: 30.00 min\n",
      "\t\t\t\t\t-Airmass limit: 2.00\n",
      "\t\t\t\t\t-Sun altitude: -17.00 deg\n",
      "\t\t\t\t\t-Moon distance: 30.00 deg\n"
     ]
    },
    {
     "name": "stdout",
     "output_type": "stream",
     "text": [
      "  obj_id                objID          ra        dec  psfMag_u  psfMagerr_u  \\\n",
      "0  obj_0  1237661358081441903  185.653407  47.969117  20.73374     0.058874   \n",
      "\n",
      "   psfMag_g  psfMagerr_g  psfMag_r  psfMagerr_r  psfMag_i  psfMagerr_i  \\\n",
      "0   19.3144     0.025633  19.24635     0.019348  19.00255     0.022567   \n",
      "\n",
      "   psfMag_z  psfMagerr_z              obj_id1    type  \n",
      "0  18.71016     0.038715  1237661358081441903  GALAXY  \n",
      "Calculating visibility of source ZTF18abjtgdo (ra: 226.098355, dec: 61.621448) with uh88.\n"
     ]
    },
    {
     "name": "stderr",
     "output_type": "stream",
     "text": [
      "INFO:root:computed dark times (sun_alt: -17.00) between 2018-11-14 00:00:00.000 and 2018-11-27 23:30:00.000. Total of 147.00 hours of dark\n",
      "INFO:root:source is visible for a total of 0.000 hours. Took 1.47e+00 sec\n"
     ]
    },
    {
     "name": "stdout",
     "output_type": "stream",
     "text": [
      "Not enough visibility\n"
     ]
    },
    {
     "name": "stderr",
     "output_type": "stream",
     "text": [
      "INFO:root:computing visibility of source at (ra: 309.916423, dec: 13.135760) from observatory uh88\n",
      "INFO:root:using visibility constraints:\n",
      "\t\t\t\t\t-Time resolution: 30.00 min\n",
      "\t\t\t\t\t-Airmass limit: 2.00\n",
      "\t\t\t\t\t-Sun altitude: -17.00 deg\n",
      "\t\t\t\t\t-Moon distance: 30.00 deg\n"
     ]
    },
    {
     "name": "stdout",
     "output_type": "stream",
     "text": [
      "  obj_id                objID          ra        dec  psfMag_u  psfMagerr_u  \\\n",
      "0  obj_0  1237651539257131111  226.097562  61.621195  21.15451     0.076477   \n",
      "\n",
      "   psfMag_g  psfMagerr_g  psfMag_r  psfMagerr_r  psfMag_i  psfMagerr_i  \\\n",
      "0  19.45949     0.023017   18.6017      0.01914  18.08208     0.020449   \n",
      "\n",
      "   psfMag_z  psfMagerr_z              obj_id1    type  \n",
      "0  17.81628      0.02482  1237651539257131111  GALAXY  \n",
      "Calculating visibility of source ZTF18abjgyyr (ra: 309.916423, dec: 13.135760) with uh88.\n"
     ]
    },
    {
     "name": "stderr",
     "output_type": "stream",
     "text": [
      "INFO:root:computed dark times (sun_alt: -17.00) between 2018-11-14 00:00:00.000 and 2018-11-27 23:30:00.000. Total of 147.00 hours of dark\n",
      "INFO:root:source is visible for a total of 37.000 hours. Took 1.59e+00 sec\n",
      "INFO:root:computing visibility of source at (ra: 234.221239, dec: 66.058085) from observatory uh88\n",
      "INFO:root:using visibility constraints:\n",
      "\t\t\t\t\t-Time resolution: 30.00 min\n",
      "\t\t\t\t\t-Airmass limit: 2.00\n",
      "\t\t\t\t\t-Sun altitude: -17.00 deg\n",
      "\t\t\t\t\t-Moon distance: 30.00 deg\n"
     ]
    },
    {
     "name": "stdout",
     "output_type": "stream",
     "text": [
      "Empty DataFrame\n",
      "Columns: [obj_id, objID, ra, dec, psfMag_u, psfMagerr_u, psfMag_g, psfMagerr_g, psfMag_r, psfMagerr_r, psfMag_i, psfMagerr_i, psfMag_z, psfMagerr_z, obj_id1, type]\n",
      "Index: []\n",
      "Calculating visibility of source ZTF18abjtger (ra: 234.221239, dec: 66.058085) with uh88.\n"
     ]
    },
    {
     "name": "stderr",
     "output_type": "stream",
     "text": [
      "INFO:root:computed dark times (sun_alt: -17.00) between 2018-11-14 00:00:00.000 and 2018-11-27 23:30:00.000. Total of 147.00 hours of dark\n",
      "INFO:root:source is visible for a total of 0.000 hours. Took 1.35e+00 sec\n"
     ]
    },
    {
     "name": "stdout",
     "output_type": "stream",
     "text": [
      "Not enough visibility\n"
     ]
    },
    {
     "name": "stderr",
     "output_type": "stream",
     "text": [
      "INFO:root:computing visibility of source at (ra: 240.272638, dec: 11.944185) from observatory uh88\n",
      "INFO:root:using visibility constraints:\n",
      "\t\t\t\t\t-Time resolution: 30.00 min\n",
      "\t\t\t\t\t-Airmass limit: 2.00\n",
      "\t\t\t\t\t-Sun altitude: -17.00 deg\n",
      "\t\t\t\t\t-Moon distance: 30.00 deg\n"
     ]
    },
    {
     "name": "stdout",
     "output_type": "stream",
     "text": [
      "Empty DataFrame\n",
      "Columns: [obj_id, objID, ra, dec, psfMag_u, psfMagerr_u, psfMag_g, psfMagerr_g, psfMag_r, psfMagerr_r, psfMag_i, psfMagerr_i, psfMag_z, psfMagerr_z, obj_id1, type]\n",
      "Index: []\n",
      "Calculating visibility of source ZTF18abjvzxx (ra: 240.272638, dec: 11.944185) with uh88.\n"
     ]
    },
    {
     "name": "stderr",
     "output_type": "stream",
     "text": [
      "INFO:root:computed dark times (sun_alt: -17.00) between 2018-11-14 00:00:00.000 and 2018-11-27 23:30:00.000. Total of 147.00 hours of dark\n",
      "INFO:root:source is visible for a total of 0.000 hours. Took 1.53e+00 sec\n"
     ]
    },
    {
     "name": "stdout",
     "output_type": "stream",
     "text": [
      "Not enough visibility\n"
     ]
    },
    {
     "name": "stderr",
     "output_type": "stream",
     "text": [
      "INFO:root:computing visibility of source at (ra: 332.097386, dec: 11.379285) from observatory uh88\n",
      "INFO:root:using visibility constraints:\n",
      "\t\t\t\t\t-Time resolution: 30.00 min\n",
      "\t\t\t\t\t-Airmass limit: 2.00\n",
      "\t\t\t\t\t-Sun altitude: -17.00 deg\n",
      "\t\t\t\t\t-Moon distance: 30.00 deg\n"
     ]
    },
    {
     "name": "stdout",
     "output_type": "stream",
     "text": [
      "  obj_id                objID         ra        dec  psfMag_u  psfMagerr_u  \\\n",
      "0  obj_0  1237668272451551354  240.27199  11.943667  24.25778     0.610416   \n",
      "\n",
      "   psfMag_g  psfMagerr_g  psfMag_r  psfMagerr_r  psfMag_i  psfMagerr_i  \\\n",
      "0  22.91311     0.132953  22.54354     0.139138  22.30429     0.195534   \n",
      "\n",
      "   psfMag_z  psfMagerr_z              obj_id1    type  \n",
      "0  21.61411      0.57646  1237668272451551354  GALAXY  \n",
      "Calculating visibility of source ZTF18abjrfqx (ra: 332.097386, dec: 11.379285) with uh88.\n"
     ]
    },
    {
     "name": "stderr",
     "output_type": "stream",
     "text": [
      "INFO:root:computed dark times (sun_alt: -17.00) between 2018-11-14 00:00:00.000 and 2018-11-27 23:30:00.000. Total of 147.00 hours of dark\n",
      "INFO:root:Too close the the moon.\n",
      "INFO:root:source is visible for a total of 47.500 hours. Took 1.52e+00 sec\n",
      "INFO:root:computing visibility of source at (ra: 231.744969, dec: 8.261491) from observatory uh88\n",
      "INFO:root:using visibility constraints:\n",
      "\t\t\t\t\t-Time resolution: 30.00 min\n",
      "\t\t\t\t\t-Airmass limit: 2.00\n",
      "\t\t\t\t\t-Sun altitude: -17.00 deg\n",
      "\t\t\t\t\t-Moon distance: 30.00 deg\n"
     ]
    },
    {
     "name": "stdout",
     "output_type": "stream",
     "text": [
      "Empty DataFrame\n",
      "Columns: [obj_id, objID, ra, dec, psfMag_u, psfMagerr_u, psfMag_g, psfMagerr_g, psfMag_r, psfMagerr_r, psfMag_i, psfMagerr_i, psfMag_z, psfMagerr_z, obj_id1, type]\n",
      "Index: []\n",
      "Calculating visibility of source ZTF18aartjmf (ra: 231.744969, dec: 8.261491) with uh88.\n"
     ]
    },
    {
     "name": "stderr",
     "output_type": "stream",
     "text": [
      "INFO:root:computed dark times (sun_alt: -17.00) between 2018-11-14 00:00:00.000 and 2018-11-27 23:30:00.000. Total of 147.00 hours of dark\n",
      "INFO:root:source is visible for a total of 0.000 hours. Took 1.32e+00 sec\n"
     ]
    },
    {
     "name": "stdout",
     "output_type": "stream",
     "text": [
      "Not enough visibility\n"
     ]
    },
    {
     "name": "stderr",
     "output_type": "stream",
     "text": [
      "INFO:root:computing visibility of source at (ra: 339.337937, dec: 22.379571) from observatory uh88\n",
      "INFO:root:using visibility constraints:\n",
      "\t\t\t\t\t-Time resolution: 30.00 min\n",
      "\t\t\t\t\t-Airmass limit: 2.00\n",
      "\t\t\t\t\t-Sun altitude: -17.00 deg\n",
      "\t\t\t\t\t-Moon distance: 30.00 deg\n"
     ]
    },
    {
     "name": "stdout",
     "output_type": "stream",
     "text": [
      "  obj_id                objID          ra       dec  psfMag_u  psfMagerr_u  \\\n",
      "0  obj_0  1237662198822273075  231.744843  8.262015   19.4784     0.028538   \n",
      "\n",
      "   psfMag_g  psfMagerr_g  psfMag_r  psfMagerr_r  psfMag_i  psfMagerr_i  \\\n",
      "0  17.74747      0.01311   17.1918     0.015933  16.78666     0.012783   \n",
      "\n",
      "   psfMag_z  psfMagerr_z              obj_id1    type  \n",
      "0  16.40302     0.016334  1237662198822273075  GALAXY  \n",
      "Calculating visibility of source ZTF18abhqdpv (ra: 339.337937, dec: 22.379571) with uh88.\n"
     ]
    },
    {
     "name": "stderr",
     "output_type": "stream",
     "text": [
      "INFO:root:computed dark times (sun_alt: -17.00) between 2018-11-14 00:00:00.000 and 2018-11-27 23:30:00.000. Total of 147.00 hours of dark\n",
      "INFO:root:source is visible for a total of 66.500 hours. Took 1.93e+00 sec\n",
      "INFO:root:computing visibility of source at (ra: 242.470157, dec: 65.938467) from observatory uh88\n",
      "INFO:root:using visibility constraints:\n",
      "\t\t\t\t\t-Time resolution: 30.00 min\n",
      "\t\t\t\t\t-Airmass limit: 2.00\n",
      "\t\t\t\t\t-Sun altitude: -17.00 deg\n",
      "\t\t\t\t\t-Moon distance: 30.00 deg\n"
     ]
    },
    {
     "name": "stdout",
     "output_type": "stream",
     "text": [
      "  obj_id                objID          ra        dec  psfMag_u  psfMagerr_u  \\\n",
      "0  obj_0  1237666244684808574  339.338112  22.379854  19.48204     0.031911   \n",
      "\n",
      "   psfMag_g  psfMagerr_g  psfMag_r  psfMagerr_r  psfMag_i  psfMagerr_i  \\\n",
      "0  18.28529     0.024328  17.83683     0.011991  17.55489     0.020882   \n",
      "\n",
      "   psfMag_z  psfMagerr_z              obj_id1    type  \n",
      "0  17.41817     0.022854  1237666244684808574  GALAXY  \n",
      "Calculating visibility of source ZTF18abkifng (ra: 242.470157, dec: 65.938467) with uh88.\n"
     ]
    },
    {
     "name": "stderr",
     "output_type": "stream",
     "text": [
      "INFO:root:computed dark times (sun_alt: -17.00) between 2018-11-14 00:00:00.000 and 2018-11-27 23:30:00.000. Total of 147.00 hours of dark\n",
      "INFO:root:source is visible for a total of 0.000 hours. Took 1.68e+00 sec\n"
     ]
    },
    {
     "name": "stdout",
     "output_type": "stream",
     "text": [
      "Not enough visibility\n"
     ]
    },
    {
     "name": "stderr",
     "output_type": "stream",
     "text": [
      "INFO:root:computing visibility of source at (ra: 316.540081, dec: 70.352362) from observatory uh88\n",
      "INFO:root:using visibility constraints:\n",
      "\t\t\t\t\t-Time resolution: 30.00 min\n",
      "\t\t\t\t\t-Airmass limit: 2.00\n",
      "\t\t\t\t\t-Sun altitude: -17.00 deg\n",
      "\t\t\t\t\t-Moon distance: 30.00 deg\n"
     ]
    },
    {
     "name": "stdout",
     "output_type": "stream",
     "text": [
      "Empty DataFrame\n",
      "Columns: [obj_id, objID, ra, dec, psfMag_u, psfMagerr_u, psfMag_g, psfMagerr_g, psfMag_r, psfMagerr_r, psfMag_i, psfMagerr_i, psfMag_z, psfMagerr_z, obj_id1, type]\n",
      "Index: []\n",
      "Calculating visibility of source ZTF18abjqmqt (ra: 316.540081, dec: 70.352362) with uh88.\n"
     ]
    },
    {
     "name": "stderr",
     "output_type": "stream",
     "text": [
      "INFO:root:computed dark times (sun_alt: -17.00) between 2018-11-14 00:00:00.000 and 2018-11-27 23:30:00.000. Total of 147.00 hours of dark\n",
      "INFO:root:source is visible for a total of 40.000 hours. Took 1.28e+00 sec\n",
      "INFO:root:computing visibility of source at (ra: 256.651374, dec: 24.545319) from observatory uh88\n",
      "INFO:root:using visibility constraints:\n",
      "\t\t\t\t\t-Time resolution: 30.00 min\n",
      "\t\t\t\t\t-Airmass limit: 2.00\n",
      "\t\t\t\t\t-Sun altitude: -17.00 deg\n",
      "\t\t\t\t\t-Moon distance: 30.00 deg\n"
     ]
    },
    {
     "name": "stdout",
     "output_type": "stream",
     "text": [
      "Empty DataFrame\n",
      "Columns: [obj_id, objID, ra, dec, psfMag_u, psfMagerr_u, psfMag_g, psfMagerr_g, psfMag_r, psfMagerr_r, psfMag_i, psfMagerr_i, psfMag_z, psfMagerr_z, obj_id1, type]\n",
      "Index: []\n",
      "Calculating visibility of source ZTF18abkhcrj (ra: 256.651374, dec: 24.545319) with uh88.\n"
     ]
    },
    {
     "name": "stderr",
     "output_type": "stream",
     "text": [
      "INFO:root:computed dark times (sun_alt: -17.00) between 2018-11-14 00:00:00.000 and 2018-11-27 23:30:00.000. Total of 147.00 hours of dark\n",
      "INFO:root:source is visible for a total of 0.000 hours. Took 1.29e+00 sec\n"
     ]
    },
    {
     "name": "stdout",
     "output_type": "stream",
     "text": [
      "Not enough visibility\n"
     ]
    },
    {
     "name": "stderr",
     "output_type": "stream",
     "text": [
      "INFO:root:computing visibility of source at (ra: 245.871714, dec: 28.833043) from observatory uh88\n",
      "INFO:root:using visibility constraints:\n",
      "\t\t\t\t\t-Time resolution: 30.00 min\n",
      "\t\t\t\t\t-Airmass limit: 2.00\n",
      "\t\t\t\t\t-Sun altitude: -17.00 deg\n",
      "\t\t\t\t\t-Moon distance: 30.00 deg\n"
     ]
    },
    {
     "name": "stdout",
     "output_type": "stream",
     "text": [
      "  obj_id                objID          ra        dec  psfMag_u  psfMagerr_u  \\\n",
      "0  obj_0  1237661386013278608  256.651394  24.545393  21.35009     0.075493   \n",
      "\n",
      "   psfMag_g  psfMagerr_g  psfMag_r  psfMagerr_r  psfMag_i  psfMagerr_i  \\\n",
      "0  19.90153     0.022641  19.07931     0.014931  18.57565     0.016587   \n",
      "\n",
      "   psfMag_z  psfMagerr_z              obj_id1    type  \n",
      "0  18.08722     0.027177  1237661386013278608  GALAXY  \n",
      "Calculating visibility of source ZTF18abkigee (ra: 245.871714, dec: 28.833043) with uh88.\n"
     ]
    },
    {
     "name": "stderr",
     "output_type": "stream",
     "text": [
      "INFO:root:computed dark times (sun_alt: -17.00) between 2018-11-14 00:00:00.000 and 2018-11-27 23:30:00.000. Total of 147.00 hours of dark\n",
      "INFO:root:source is visible for a total of 0.000 hours. Took 1.25e+00 sec\n"
     ]
    },
    {
     "name": "stdout",
     "output_type": "stream",
     "text": [
      "Not enough visibility\n"
     ]
    },
    {
     "name": "stderr",
     "output_type": "stream",
     "text": [
      "INFO:root:computing visibility of source at (ra: 236.529615, dec: 29.733471) from observatory uh88\n",
      "INFO:root:using visibility constraints:\n",
      "\t\t\t\t\t-Time resolution: 30.00 min\n",
      "\t\t\t\t\t-Airmass limit: 2.00\n",
      "\t\t\t\t\t-Sun altitude: -17.00 deg\n",
      "\t\t\t\t\t-Moon distance: 30.00 deg\n"
     ]
    },
    {
     "name": "stdout",
     "output_type": "stream",
     "text": [
      "  obj_id                objID          ra        dec  psfMag_u  psfMagerr_u  \\\n",
      "0  obj_0  1237661465454052356  245.871676  28.833017  23.00378     0.983281   \n",
      "\n",
      "   psfMag_g  psfMagerr_g  psfMag_r  psfMagerr_r  psfMag_i  psfMagerr_i  \\\n",
      "0  22.42019     0.077905  22.28611     0.100522  21.81562     0.105787   \n",
      "\n",
      "   psfMag_z  psfMagerr_z              obj_id1    type  \n",
      "0  21.82021     0.294099  1237661465454052356  GALAXY  \n",
      "Calculating visibility of source ZTF18abkhcwl (ra: 236.529615, dec: 29.733471) with uh88.\n"
     ]
    },
    {
     "name": "stderr",
     "output_type": "stream",
     "text": [
      "INFO:root:computed dark times (sun_alt: -17.00) between 2018-11-14 00:00:00.000 and 2018-11-27 23:30:00.000. Total of 147.00 hours of dark\n",
      "INFO:root:source is visible for a total of 0.000 hours. Took 1.22e+00 sec\n"
     ]
    },
    {
     "name": "stdout",
     "output_type": "stream",
     "text": [
      "Not enough visibility\n"
     ]
    },
    {
     "name": "stderr",
     "output_type": "stream",
     "text": [
      "INFO:root:computing visibility of source at (ra: 240.014905, dec: 23.380728) from observatory uh88\n",
      "INFO:root:using visibility constraints:\n",
      "\t\t\t\t\t-Time resolution: 30.00 min\n",
      "\t\t\t\t\t-Airmass limit: 2.00\n",
      "\t\t\t\t\t-Sun altitude: -17.00 deg\n",
      "\t\t\t\t\t-Moon distance: 30.00 deg\n"
     ]
    },
    {
     "name": "stdout",
     "output_type": "stream",
     "text": [
      "  obj_id                objID         ra        dec  psfMag_u  psfMagerr_u  \\\n",
      "0  obj_0  1237662306735030580  236.53014  29.733172  22.69313     0.231724   \n",
      "\n",
      "   psfMag_g  psfMagerr_g  psfMag_r  psfMagerr_r  psfMag_i  psfMagerr_i  \\\n",
      "0  24.98932     0.365579   24.8021     1.292495  24.36163     1.131151   \n",
      "\n",
      "   psfMag_z  psfMagerr_z              obj_id1  type  \n",
      "0  22.76096     1.030439  1237662306735030580  STAR  \n",
      "Calculating visibility of source ZTF18abjwahi (ra: 240.014905, dec: 23.380728) with uh88.\n"
     ]
    },
    {
     "name": "stderr",
     "output_type": "stream",
     "text": [
      "INFO:root:computed dark times (sun_alt: -17.00) between 2018-11-14 00:00:00.000 and 2018-11-27 23:30:00.000. Total of 147.00 hours of dark\n",
      "INFO:root:source is visible for a total of 0.000 hours. Took 1.26e+00 sec\n"
     ]
    },
    {
     "name": "stdout",
     "output_type": "stream",
     "text": [
      "Not enough visibility\n"
     ]
    },
    {
     "name": "stderr",
     "output_type": "stream",
     "text": [
      "INFO:root:computing visibility of source at (ra: 243.952089, dec: 19.657044) from observatory uh88\n",
      "INFO:root:using visibility constraints:\n",
      "\t\t\t\t\t-Time resolution: 30.00 min\n",
      "\t\t\t\t\t-Airmass limit: 2.00\n",
      "\t\t\t\t\t-Sun altitude: -17.00 deg\n",
      "\t\t\t\t\t-Moon distance: 30.00 deg\n"
     ]
    },
    {
     "name": "stdout",
     "output_type": "stream",
     "text": [
      "  obj_id                objID         ra        dec  psfMag_u  psfMagerr_u  \\\n",
      "0  obj_0  1237662697038020910  240.01477  23.380955  22.04054     0.150074   \n",
      "\n",
      "   psfMag_g  psfMagerr_g  psfMag_r  psfMagerr_r  psfMag_i  psfMagerr_i  \\\n",
      "0  20.46593     0.023721  19.47274     0.018287  18.95553     0.020526   \n",
      "\n",
      "   psfMag_z  psfMagerr_z              obj_id1    type  \n",
      "0  18.57284     0.030228  1237662697038020910  GALAXY  \n",
      "Calculating visibility of source ZTF18abixkdo (ra: 243.952089, dec: 19.657044) with uh88.\n"
     ]
    },
    {
     "name": "stderr",
     "output_type": "stream",
     "text": [
      "INFO:root:computed dark times (sun_alt: -17.00) between 2018-11-14 00:00:00.000 and 2018-11-27 23:30:00.000. Total of 147.00 hours of dark\n",
      "INFO:root:source is visible for a total of 0.000 hours. Took 1.27e+00 sec\n"
     ]
    },
    {
     "name": "stdout",
     "output_type": "stream",
     "text": [
      "Not enough visibility\n"
     ]
    },
    {
     "name": "stderr",
     "output_type": "stream",
     "text": [
      "INFO:root:computing visibility of source at (ra: 224.693684, dec: 44.670682) from observatory uh88\n",
      "INFO:root:using visibility constraints:\n",
      "\t\t\t\t\t-Time resolution: 30.00 min\n",
      "\t\t\t\t\t-Airmass limit: 2.00\n",
      "\t\t\t\t\t-Sun altitude: -17.00 deg\n",
      "\t\t\t\t\t-Moon distance: 30.00 deg\n"
     ]
    },
    {
     "name": "stdout",
     "output_type": "stream",
     "text": [
      "Empty DataFrame\n",
      "Columns: [obj_id, objID, ra, dec, psfMag_u, psfMagerr_u, psfMag_g, psfMagerr_g, psfMag_r, psfMagerr_r, psfMag_i, psfMagerr_i, psfMag_z, psfMagerr_z, obj_id1, type]\n",
      "Index: []\n",
      "Calculating visibility of source ZTF18abjdjge (ra: 224.693684, dec: 44.670682) with uh88.\n"
     ]
    },
    {
     "name": "stderr",
     "output_type": "stream",
     "text": [
      "INFO:root:computed dark times (sun_alt: -17.00) between 2018-11-14 00:00:00.000 and 2018-11-27 23:30:00.000. Total of 147.00 hours of dark\n",
      "INFO:root:source is visible for a total of 0.000 hours. Took 1.25e+00 sec\n"
     ]
    },
    {
     "name": "stdout",
     "output_type": "stream",
     "text": [
      "Not enough visibility\n"
     ]
    },
    {
     "name": "stderr",
     "output_type": "stream",
     "text": [
      "INFO:root:computing visibility of source at (ra: 226.915528, dec: 38.462634) from observatory uh88\n",
      "INFO:root:using visibility constraints:\n",
      "\t\t\t\t\t-Time resolution: 30.00 min\n",
      "\t\t\t\t\t-Airmass limit: 2.00\n",
      "\t\t\t\t\t-Sun altitude: -17.00 deg\n",
      "\t\t\t\t\t-Moon distance: 30.00 deg\n"
     ]
    },
    {
     "name": "stdout",
     "output_type": "stream",
     "text": [
      "Empty DataFrame\n",
      "Columns: [obj_id, objID, ra, dec, psfMag_u, psfMagerr_u, psfMag_g, psfMagerr_g, psfMag_r, psfMagerr_r, psfMag_i, psfMagerr_i, psfMag_z, psfMagerr_z, obj_id1, type]\n",
      "Index: []\n",
      "Calculating visibility of source ZTF18abklljv (ra: 226.915528, dec: 38.462634) with uh88.\n"
     ]
    },
    {
     "name": "stderr",
     "output_type": "stream",
     "text": [
      "INFO:root:computed dark times (sun_alt: -17.00) between 2018-11-14 00:00:00.000 and 2018-11-27 23:30:00.000. Total of 147.00 hours of dark\n",
      "INFO:root:source is visible for a total of 0.000 hours. Took 1.21e+00 sec\n"
     ]
    },
    {
     "name": "stdout",
     "output_type": "stream",
     "text": [
      "Not enough visibility\n"
     ]
    },
    {
     "name": "stderr",
     "output_type": "stream",
     "text": [
      "INFO:root:computing visibility of source at (ra: 221.290554, dec: 9.273517) from observatory uh88\n",
      "INFO:root:using visibility constraints:\n",
      "\t\t\t\t\t-Time resolution: 30.00 min\n",
      "\t\t\t\t\t-Airmass limit: 2.00\n",
      "\t\t\t\t\t-Sun altitude: -17.00 deg\n",
      "\t\t\t\t\t-Moon distance: 30.00 deg\n"
     ]
    },
    {
     "name": "stdout",
     "output_type": "stream",
     "text": [
      "  obj_id                objID          ra       dec  psfMag_u  psfMagerr_u  \\\n",
      "0  obj_0  1237661433785287455  226.915739  38.46272  23.73032     0.445823   \n",
      "\n",
      "   psfMag_g  psfMagerr_g  psfMag_r  psfMagerr_r  psfMag_i  psfMagerr_i  \\\n",
      "0  23.41779     0.165278  22.74266      0.13149  22.85973     0.957637   \n",
      "\n",
      "   psfMag_z  psfMagerr_z              obj_id1    type  \n",
      "0  22.61151     0.465581  1237661433785287455  GALAXY  \n",
      "Calculating visibility of source ZTF18abjrznx (ra: 221.290554, dec: 9.273517) with uh88.\n"
     ]
    },
    {
     "name": "stderr",
     "output_type": "stream",
     "text": [
      "INFO:root:computed dark times (sun_alt: -17.00) between 2018-11-14 00:00:00.000 and 2018-11-27 23:30:00.000. Total of 147.00 hours of dark\n",
      "INFO:root:source is visible for a total of 0.000 hours. Took 1.24e+00 sec\n"
     ]
    },
    {
     "name": "stdout",
     "output_type": "stream",
     "text": [
      "Not enough visibility\n"
     ]
    },
    {
     "name": "stderr",
     "output_type": "stream",
     "text": [
      "INFO:root:computing visibility of source at (ra: 227.060639, dec: 34.868235) from observatory uh88\n",
      "INFO:root:using visibility constraints:\n",
      "\t\t\t\t\t-Time resolution: 30.00 min\n",
      "\t\t\t\t\t-Airmass limit: 2.00\n",
      "\t\t\t\t\t-Sun altitude: -17.00 deg\n",
      "\t\t\t\t\t-Moon distance: 30.00 deg\n"
     ]
    },
    {
     "name": "stdout",
     "output_type": "stream",
     "text": [
      "  obj_id                objID          ra       dec  psfMag_u  psfMagerr_u  \\\n",
      "0  obj_0  1237662239092703304  221.290678  9.274661   18.8045     0.029411   \n",
      "\n",
      "   psfMag_g  psfMagerr_g  psfMag_r  psfMagerr_r  psfMag_i  psfMagerr_i  \\\n",
      "0  16.95226      0.01759   16.2554     0.020867   15.8115      0.01763   \n",
      "\n",
      "   psfMag_z  psfMagerr_z              obj_id1    type  \n",
      "0  15.34262     0.016809  1237662239092703304  GALAXY  \n",
      "Calculating visibility of source ZTF18abkudjo (ra: 227.060639, dec: 34.868235) with uh88.\n"
     ]
    },
    {
     "name": "stderr",
     "output_type": "stream",
     "text": [
      "INFO:root:computed dark times (sun_alt: -17.00) between 2018-11-14 00:00:00.000 and 2018-11-27 23:30:00.000. Total of 147.00 hours of dark\n",
      "INFO:root:source is visible for a total of 0.000 hours. Took 1.21e+00 sec\n"
     ]
    },
    {
     "name": "stdout",
     "output_type": "stream",
     "text": [
      "Not enough visibility\n"
     ]
    },
    {
     "name": "stderr",
     "output_type": "stream",
     "text": [
      "INFO:root:computing visibility of source at (ra: 293.030194, dec: 0.378834) from observatory uh88\n",
      "INFO:root:using visibility constraints:\n",
      "\t\t\t\t\t-Time resolution: 30.00 min\n",
      "\t\t\t\t\t-Airmass limit: 2.00\n",
      "\t\t\t\t\t-Sun altitude: -17.00 deg\n",
      "\t\t\t\t\t-Moon distance: 30.00 deg\n"
     ]
    },
    {
     "name": "stdout",
     "output_type": "stream",
     "text": [
      "  obj_id                objID          ra        dec  psfMag_u  psfMagerr_u  \\\n",
      "0  obj_0  1237662307267772555  227.061346  34.869063  21.46169     0.070468   \n",
      "\n",
      "   psfMag_g  psfMagerr_g  psfMag_r  psfMagerr_r  psfMag_i  psfMagerr_i  \\\n",
      "0  19.77855     0.019275  18.89861     0.019081  18.65452     0.021929   \n",
      "\n",
      "   psfMag_z  psfMagerr_z              obj_id1    type  \n",
      "0  18.34202     0.026353  1237662307267772555  GALAXY  \n",
      "Calculating visibility of source ZTF18abiybfq (ra: 293.030194, dec: 0.378834) with uh88.\n"
     ]
    },
    {
     "name": "stderr",
     "output_type": "stream",
     "text": [
      "INFO:root:computed dark times (sun_alt: -17.00) between 2018-11-14 00:00:00.000 and 2018-11-27 23:30:00.000. Total of 147.00 hours of dark\n",
      "INFO:root:Too close the the moon.\n",
      "INFO:root:source is visible for a total of 15.500 hours. Took 1.21e+00 sec\n",
      "INFO:root:computing visibility of source at (ra: 248.843919, dec: 22.468396) from observatory uh88\n",
      "INFO:root:using visibility constraints:\n",
      "\t\t\t\t\t-Time resolution: 30.00 min\n",
      "\t\t\t\t\t-Airmass limit: 2.00\n",
      "\t\t\t\t\t-Sun altitude: -17.00 deg\n",
      "\t\t\t\t\t-Moon distance: 30.00 deg\n"
     ]
    },
    {
     "name": "stdout",
     "output_type": "stream",
     "text": [
      "Empty DataFrame\n",
      "Columns: [obj_id, objID, ra, dec, psfMag_u, psfMagerr_u, psfMag_g, psfMagerr_g, psfMag_r, psfMagerr_r, psfMag_i, psfMagerr_i, psfMag_z, psfMagerr_z, obj_id1, type]\n",
      "Index: []\n",
      "Calculating visibility of source ZTF18aaoxryq (ra: 248.843919, dec: 22.468396) with uh88.\n"
     ]
    },
    {
     "name": "stderr",
     "output_type": "stream",
     "text": [
      "INFO:root:computed dark times (sun_alt: -17.00) between 2018-11-14 00:00:00.000 and 2018-11-27 23:30:00.000. Total of 147.00 hours of dark\n",
      "INFO:root:source is visible for a total of 0.000 hours. Took 1.24e+00 sec\n"
     ]
    },
    {
     "name": "stdout",
     "output_type": "stream",
     "text": [
      "Not enough visibility\n"
     ]
    },
    {
     "name": "stderr",
     "output_type": "stream",
     "text": [
      "INFO:root:computing visibility of source at (ra: 211.096547, dec: 60.024438) from observatory uh88\n",
      "INFO:root:using visibility constraints:\n",
      "\t\t\t\t\t-Time resolution: 30.00 min\n",
      "\t\t\t\t\t-Airmass limit: 2.00\n",
      "\t\t\t\t\t-Sun altitude: -17.00 deg\n",
      "\t\t\t\t\t-Moon distance: 30.00 deg\n"
     ]
    },
    {
     "name": "stdout",
     "output_type": "stream",
     "text": [
      "  obj_id                objID          ra        dec  psfMag_u  psfMagerr_u  \\\n",
      "0  obj_0  1237662341090574610  248.843851  22.468436  21.30655     0.086135   \n",
      "\n",
      "   psfMag_g  psfMagerr_g  psfMag_r  psfMagerr_r  psfMag_i  psfMagerr_i  \\\n",
      "0  19.45557     0.018707   18.5938     0.015087  18.24912     0.014571   \n",
      "\n",
      "   psfMag_z  psfMagerr_z              obj_id1    type  \n",
      "0  17.93909     0.027198  1237662341090574610  GALAXY  \n",
      "Calculating visibility of source ZTF18ablmflp (ra: 211.096547, dec: 60.024438) with uh88.\n"
     ]
    },
    {
     "name": "stderr",
     "output_type": "stream",
     "text": [
      "INFO:root:computed dark times (sun_alt: -17.00) between 2018-11-14 00:00:00.000 and 2018-11-27 23:30:00.000. Total of 147.00 hours of dark\n",
      "INFO:root:source is visible for a total of 0.000 hours. Took 1.21e+00 sec\n"
     ]
    },
    {
     "name": "stdout",
     "output_type": "stream",
     "text": [
      "Not enough visibility\n"
     ]
    },
    {
     "name": "stderr",
     "output_type": "stream",
     "text": [
      "INFO:root:computing visibility of source at (ra: 237.776385, dec: 8.975483) from observatory uh88\n",
      "INFO:root:using visibility constraints:\n",
      "\t\t\t\t\t-Time resolution: 30.00 min\n",
      "\t\t\t\t\t-Airmass limit: 2.00\n",
      "\t\t\t\t\t-Sun altitude: -17.00 deg\n",
      "\t\t\t\t\t-Moon distance: 30.00 deg\n"
     ]
    },
    {
     "name": "stdout",
     "output_type": "stream",
     "text": [
      "Empty DataFrame\n",
      "Columns: [obj_id, objID, ra, dec, psfMag_u, psfMagerr_u, psfMag_g, psfMagerr_g, psfMag_r, psfMagerr_r, psfMag_i, psfMagerr_i, psfMag_z, psfMagerr_z, obj_id1, type]\n",
      "Index: []\n",
      "Calculating visibility of source ZTF18abjyime (ra: 237.776385, dec: 8.975483) with uh88.\n"
     ]
    },
    {
     "name": "stderr",
     "output_type": "stream",
     "text": [
      "INFO:root:computed dark times (sun_alt: -17.00) between 2018-11-14 00:00:00.000 and 2018-11-27 23:30:00.000. Total of 147.00 hours of dark\n",
      "INFO:root:source is visible for a total of 0.000 hours. Took 1.51e+00 sec\n"
     ]
    },
    {
     "name": "stdout",
     "output_type": "stream",
     "text": [
      "Not enough visibility\n"
     ]
    },
    {
     "name": "stderr",
     "output_type": "stream",
     "text": [
      "INFO:root:computing visibility of source at (ra: 235.046202, dec: 61.530014) from observatory uh88\n",
      "INFO:root:using visibility constraints:\n",
      "\t\t\t\t\t-Time resolution: 30.00 min\n",
      "\t\t\t\t\t-Airmass limit: 2.00\n",
      "\t\t\t\t\t-Sun altitude: -17.00 deg\n",
      "\t\t\t\t\t-Moon distance: 30.00 deg\n"
     ]
    },
    {
     "name": "stdout",
     "output_type": "stream",
     "text": [
      "Empty DataFrame\n",
      "Columns: [obj_id, objID, ra, dec, psfMag_u, psfMagerr_u, psfMag_g, psfMagerr_g, psfMag_r, psfMagerr_r, psfMag_i, psfMagerr_i, psfMag_z, psfMagerr_z, obj_id1, type]\n",
      "Index: []\n",
      "Calculating visibility of source ZTF18ablhvfr (ra: 235.046202, dec: 61.530014) with uh88.\n"
     ]
    },
    {
     "name": "stderr",
     "output_type": "stream",
     "text": [
      "INFO:root:computed dark times (sun_alt: -17.00) between 2018-11-14 00:00:00.000 and 2018-11-27 23:30:00.000. Total of 147.00 hours of dark\n",
      "INFO:root:source is visible for a total of 0.000 hours. Took 1.65e+00 sec\n"
     ]
    },
    {
     "name": "stdout",
     "output_type": "stream",
     "text": [
      "Not enough visibility\n"
     ]
    },
    {
     "name": "stderr",
     "output_type": "stream",
     "text": [
      "INFO:root:computing visibility of source at (ra: 248.843863, dec: 22.468485) from observatory uh88\n",
      "INFO:root:using visibility constraints:\n",
      "\t\t\t\t\t-Time resolution: 30.00 min\n",
      "\t\t\t\t\t-Airmass limit: 2.00\n",
      "\t\t\t\t\t-Sun altitude: -17.00 deg\n",
      "\t\t\t\t\t-Moon distance: 30.00 deg\n"
     ]
    },
    {
     "name": "stdout",
     "output_type": "stream",
     "text": [
      "  obj_id                objID          ra        dec  psfMag_u  psfMagerr_u  \\\n",
      "0  obj_0  1237671941410521223  235.044811  61.529481  20.67098     0.065975   \n",
      "\n",
      "   psfMag_g  psfMagerr_g  psfMag_r  psfMagerr_r  psfMag_i  psfMagerr_i  \\\n",
      "0  20.15032     0.031204  20.26538     0.029183  19.82817     0.029431   \n",
      "\n",
      "   psfMag_z  psfMagerr_z              obj_id1    type  \n",
      "0  20.12952      0.09683  1237671941410521223  GALAXY  \n",
      "Calculating visibility of source ZTF18ablrljh (ra: 248.843863, dec: 22.468485) with uh88.\n"
     ]
    },
    {
     "name": "stderr",
     "output_type": "stream",
     "text": [
      "INFO:root:computed dark times (sun_alt: -17.00) between 2018-11-14 00:00:00.000 and 2018-11-27 23:30:00.000. Total of 147.00 hours of dark\n",
      "INFO:root:source is visible for a total of 0.000 hours. Took 1.71e+00 sec\n"
     ]
    },
    {
     "name": "stdout",
     "output_type": "stream",
     "text": [
      "Not enough visibility\n"
     ]
    },
    {
     "name": "stderr",
     "output_type": "stream",
     "text": [
      "INFO:root:computing visibility of source at (ra: 223.384589, dec: 3.070487) from observatory uh88\n",
      "INFO:root:using visibility constraints:\n",
      "\t\t\t\t\t-Time resolution: 30.00 min\n",
      "\t\t\t\t\t-Airmass limit: 2.00\n",
      "\t\t\t\t\t-Sun altitude: -17.00 deg\n",
      "\t\t\t\t\t-Moon distance: 30.00 deg\n"
     ]
    },
    {
     "name": "stdout",
     "output_type": "stream",
     "text": [
      "  obj_id                objID          ra        dec  psfMag_u  psfMagerr_u  \\\n",
      "0  obj_0  1237662341090574610  248.843851  22.468436  21.30655     0.086135   \n",
      "\n",
      "   psfMag_g  psfMagerr_g  psfMag_r  psfMagerr_r  psfMag_i  psfMagerr_i  \\\n",
      "0  19.45557     0.018707   18.5938     0.015087  18.24912     0.014571   \n",
      "\n",
      "   psfMag_z  psfMagerr_z              obj_id1    type  \n",
      "0  17.93909     0.027198  1237662341090574610  GALAXY  \n",
      "Calculating visibility of source ZTF18abklaoj (ra: 223.384589, dec: 3.070487) with uh88.\n"
     ]
    },
    {
     "name": "stderr",
     "output_type": "stream",
     "text": [
      "INFO:root:computed dark times (sun_alt: -17.00) between 2018-11-14 00:00:00.000 and 2018-11-27 23:30:00.000. Total of 147.00 hours of dark\n",
      "INFO:root:source is visible for a total of 0.000 hours. Took 1.78e+00 sec\n"
     ]
    },
    {
     "name": "stdout",
     "output_type": "stream",
     "text": [
      "Not enough visibility\n"
     ]
    },
    {
     "name": "stderr",
     "output_type": "stream",
     "text": [
      "INFO:root:computing visibility of source at (ra: 243.586176, dec: 3.231950) from observatory uh88\n",
      "INFO:root:using visibility constraints:\n",
      "\t\t\t\t\t-Time resolution: 30.00 min\n",
      "\t\t\t\t\t-Airmass limit: 2.00\n",
      "\t\t\t\t\t-Sun altitude: -17.00 deg\n",
      "\t\t\t\t\t-Moon distance: 30.00 deg\n"
     ]
    },
    {
     "name": "stdout",
     "output_type": "stream",
     "text": [
      "  obj_id                objID          ra      dec  psfMag_u  psfMagerr_u  \\\n",
      "0  obj_0  1237654879130091674  223.385105  3.07089  24.82572     0.837058   \n",
      "\n",
      "   psfMag_g  psfMagerr_g  psfMag_r  psfMagerr_r  psfMag_i  psfMagerr_i  \\\n",
      "0  22.69635     0.237544  23.01323     0.291666  22.14674     0.250282   \n",
      "\n",
      "   psfMag_z  psfMagerr_z              obj_id1  type  \n",
      "0  22.22141      0.77201  1237654879130091674  STAR  \n",
      "Calculating visibility of source ZTF18abltdkd (ra: 243.586176, dec: 3.231950) with uh88.\n"
     ]
    },
    {
     "name": "stderr",
     "output_type": "stream",
     "text": [
      "INFO:root:computed dark times (sun_alt: -17.00) between 2018-11-14 00:00:00.000 and 2018-11-27 23:30:00.000. Total of 147.00 hours of dark\n",
      "INFO:root:source is visible for a total of 0.000 hours. Took 1.49e+00 sec\n"
     ]
    },
    {
     "name": "stdout",
     "output_type": "stream",
     "text": [
      "Not enough visibility\n"
     ]
    },
    {
     "name": "stderr",
     "output_type": "stream",
     "text": [
      "INFO:root:computing visibility of source at (ra: 234.133266, dec: 41.799897) from observatory uh88\n",
      "INFO:root:using visibility constraints:\n",
      "\t\t\t\t\t-Time resolution: 30.00 min\n",
      "\t\t\t\t\t-Airmass limit: 2.00\n",
      "\t\t\t\t\t-Sun altitude: -17.00 deg\n",
      "\t\t\t\t\t-Moon distance: 30.00 deg\n"
     ]
    },
    {
     "name": "stdout",
     "output_type": "stream",
     "text": [
      "  obj_id                objID          ra       dec  psfMag_u  psfMagerr_u  \\\n",
      "0  obj_0  1237655742953292993  243.586692  3.231183  23.64779      0.71909   \n",
      "\n",
      "   psfMag_g  psfMagerr_g  psfMag_r  psfMagerr_r  psfMag_i  psfMagerr_i  \\\n",
      "0  22.53798     0.136372  22.48003     0.172304  22.12315     0.191734   \n",
      "\n",
      "   psfMag_z  psfMagerr_z              obj_id1    type  \n",
      "0   22.2271     0.731091  1237655742953292993  GALAXY  \n",
      "Calculating visibility of source ZTF18ablqlzp (ra: 234.133266, dec: 41.799897) with uh88.\n"
     ]
    },
    {
     "name": "stderr",
     "output_type": "stream",
     "text": [
      "INFO:root:computed dark times (sun_alt: -17.00) between 2018-11-14 00:00:00.000 and 2018-11-27 23:30:00.000. Total of 147.00 hours of dark\n",
      "INFO:root:source is visible for a total of 0.000 hours. Took 1.35e+00 sec\n"
     ]
    },
    {
     "name": "stdout",
     "output_type": "stream",
     "text": [
      "Not enough visibility\n"
     ]
    },
    {
     "name": "stderr",
     "output_type": "stream",
     "text": [
      "INFO:root:computing visibility of source at (ra: 223.654635, dec: 69.648467) from observatory uh88\n",
      "INFO:root:using visibility constraints:\n",
      "\t\t\t\t\t-Time resolution: 30.00 min\n",
      "\t\t\t\t\t-Airmass limit: 2.00\n",
      "\t\t\t\t\t-Sun altitude: -17.00 deg\n",
      "\t\t\t\t\t-Moon distance: 30.00 deg\n"
     ]
    },
    {
     "name": "stdout",
     "output_type": "stream",
     "text": [
      "  obj_id                objID          ra        dec  psfMag_u  psfMagerr_u  \\\n",
      "0  obj_0  1237662303515246792  234.134712  41.799302  19.90325     0.040963   \n",
      "\n",
      "   psfMag_g  psfMagerr_g  psfMag_r  psfMagerr_r  psfMag_i  psfMagerr_i  \\\n",
      "0  18.26259     0.018346  17.59407     0.013747  17.16834     0.016853   \n",
      "\n",
      "   psfMag_z  psfMagerr_z              obj_id1    type  \n",
      "0  16.80962     0.019956  1237662303515246792  GALAXY  \n",
      "Calculating visibility of source ZTF18abltaxf (ra: 223.654635, dec: 69.648467) with uh88.\n"
     ]
    },
    {
     "name": "stderr",
     "output_type": "stream",
     "text": [
      "INFO:root:computed dark times (sun_alt: -17.00) between 2018-11-14 00:00:00.000 and 2018-11-27 23:30:00.000. Total of 147.00 hours of dark\n",
      "INFO:root:source is visible for a total of 0.000 hours. Took 1.84e+00 sec\n"
     ]
    },
    {
     "name": "stdout",
     "output_type": "stream",
     "text": [
      "Not enough visibility\n"
     ]
    },
    {
     "name": "stderr",
     "output_type": "stream",
     "text": [
      "INFO:root:computing visibility of source at (ra: 227.668702, dec: 8.574303) from observatory uh88\n",
      "INFO:root:using visibility constraints:\n",
      "\t\t\t\t\t-Time resolution: 30.00 min\n",
      "\t\t\t\t\t-Airmass limit: 2.00\n",
      "\t\t\t\t\t-Sun altitude: -17.00 deg\n",
      "\t\t\t\t\t-Moon distance: 30.00 deg\n"
     ]
    },
    {
     "name": "stdout",
     "output_type": "stream",
     "text": [
      "Empty DataFrame\n",
      "Columns: [obj_id, objID, ra, dec, psfMag_u, psfMagerr_u, psfMag_g, psfMagerr_g, psfMag_r, psfMagerr_r, psfMag_i, psfMagerr_i, psfMag_z, psfMagerr_z, obj_id1, type]\n",
      "Index: []\n",
      "Calculating visibility of source ZTF18abgkjff (ra: 227.668702, dec: 8.574303) with uh88.\n"
     ]
    },
    {
     "name": "stderr",
     "output_type": "stream",
     "text": [
      "INFO:root:computed dark times (sun_alt: -17.00) between 2018-11-14 00:00:00.000 and 2018-11-27 23:30:00.000. Total of 147.00 hours of dark\n",
      "INFO:root:source is visible for a total of 0.000 hours. Took 1.60e+00 sec\n"
     ]
    },
    {
     "name": "stdout",
     "output_type": "stream",
     "text": [
      "Not enough visibility\n"
     ]
    },
    {
     "name": "stderr",
     "output_type": "stream",
     "text": [
      "INFO:root:computing visibility of source at (ra: 227.633164, dec: 45.227291) from observatory uh88\n",
      "INFO:root:using visibility constraints:\n",
      "\t\t\t\t\t-Time resolution: 30.00 min\n",
      "\t\t\t\t\t-Airmass limit: 2.00\n",
      "\t\t\t\t\t-Sun altitude: -17.00 deg\n",
      "\t\t\t\t\t-Moon distance: 30.00 deg\n"
     ]
    },
    {
     "name": "stdout",
     "output_type": "stream",
     "text": [
      "Empty DataFrame\n",
      "Columns: [obj_id, objID, ra, dec, psfMag_u, psfMagerr_u, psfMag_g, psfMagerr_g, psfMag_r, psfMagerr_r, psfMag_i, psfMagerr_i, psfMag_z, psfMagerr_z, obj_id1, type]\n",
      "Index: []\n",
      "Calculating visibility of source ZTF18abixjey (ra: 227.633164, dec: 45.227291) with uh88.\n"
     ]
    },
    {
     "name": "stderr",
     "output_type": "stream",
     "text": [
      "INFO:root:computed dark times (sun_alt: -17.00) between 2018-11-14 00:00:00.000 and 2018-11-27 23:30:00.000. Total of 147.00 hours of dark\n",
      "INFO:root:source is visible for a total of 0.000 hours. Took 1.60e+00 sec\n"
     ]
    },
    {
     "name": "stdout",
     "output_type": "stream",
     "text": [
      "Not enough visibility\n"
     ]
    },
    {
     "name": "stderr",
     "output_type": "stream",
     "text": [
      "INFO:root:computing visibility of source at (ra: 340.261734, dec: 20.725562) from observatory uh88\n",
      "INFO:root:using visibility constraints:\n",
      "\t\t\t\t\t-Time resolution: 30.00 min\n",
      "\t\t\t\t\t-Airmass limit: 2.00\n",
      "\t\t\t\t\t-Sun altitude: -17.00 deg\n",
      "\t\t\t\t\t-Moon distance: 30.00 deg\n"
     ]
    },
    {
     "name": "stdout",
     "output_type": "stream",
     "text": [
      "  obj_id                objID          ra        dec  psfMag_u  psfMagerr_u  \\\n",
      "0  obj_0  1237662303512691458  227.633485  45.227356  25.12345     0.847944   \n",
      "\n",
      "   psfMag_g  psfMagerr_g  psfMag_r  psfMagerr_r  psfMag_i  psfMagerr_i  \\\n",
      "0  21.94384     0.063503  21.57664     0.068265  21.63922     0.101785   \n",
      "\n",
      "   psfMag_z  psfMagerr_z              obj_id1    type  \n",
      "0  21.28225     0.966761  1237662303512691458  GALAXY  \n",
      "Calculating visibility of source ZTF18abktphg (ra: 340.261734, dec: 20.725562) with uh88.\n"
     ]
    },
    {
     "name": "stderr",
     "output_type": "stream",
     "text": [
      "INFO:root:computed dark times (sun_alt: -17.00) between 2018-11-14 00:00:00.000 and 2018-11-27 23:30:00.000. Total of 147.00 hours of dark\n",
      "INFO:root:source is visible for a total of 66.500 hours. Took 1.75e+00 sec\n",
      "INFO:root:computing visibility of source at (ra: 244.828658, dec: 36.490373) from observatory uh88\n",
      "INFO:root:using visibility constraints:\n",
      "\t\t\t\t\t-Time resolution: 30.00 min\n",
      "\t\t\t\t\t-Airmass limit: 2.00\n",
      "\t\t\t\t\t-Sun altitude: -17.00 deg\n",
      "\t\t\t\t\t-Moon distance: 30.00 deg\n"
     ]
    },
    {
     "name": "stdout",
     "output_type": "stream",
     "text": [
      "  obj_id                objID          ra        dec  psfMag_u  psfMagerr_u  \\\n",
      "0  obj_0  1237680298346807723  340.262257  20.725523   20.4349     0.055822   \n",
      "\n",
      "   psfMag_g  psfMagerr_g  psfMag_r  psfMagerr_r  psfMag_i  psfMagerr_i  \\\n",
      "0  19.27939      0.02536   18.6124     0.021088  18.30651     0.021908   \n",
      "\n",
      "   psfMag_z  psfMagerr_z              obj_id1    type  \n",
      "0   18.0302     0.031538  1237680298346807723  GALAXY  \n",
      "Calculating visibility of source ZTF18ablqkba (ra: 244.828658, dec: 36.490373) with uh88.\n"
     ]
    },
    {
     "name": "stderr",
     "output_type": "stream",
     "text": [
      "INFO:root:computed dark times (sun_alt: -17.00) between 2018-11-14 00:00:00.000 and 2018-11-27 23:30:00.000. Total of 147.00 hours of dark\n",
      "INFO:root:source is visible for a total of 0.000 hours. Took 1.78e+00 sec\n"
     ]
    },
    {
     "name": "stdout",
     "output_type": "stream",
     "text": [
      "Not enough visibility\n"
     ]
    },
    {
     "name": "stderr",
     "output_type": "stream",
     "text": [
      "INFO:root:computing visibility of source at (ra: 249.416571, dec: 25.320907) from observatory uh88\n",
      "INFO:root:using visibility constraints:\n",
      "\t\t\t\t\t-Time resolution: 30.00 min\n",
      "\t\t\t\t\t-Airmass limit: 2.00\n",
      "\t\t\t\t\t-Sun altitude: -17.00 deg\n",
      "\t\t\t\t\t-Moon distance: 30.00 deg\n"
     ]
    },
    {
     "name": "stdout",
     "output_type": "stream",
     "text": [
      "  obj_id                objID          ra        dec  psfMag_u  psfMagerr_u  \\\n",
      "0  obj_0  1237659161203245622  244.828852  36.490967  22.66719     0.212685   \n",
      "\n",
      "   psfMag_g  psfMagerr_g  psfMag_r  psfMagerr_r  psfMag_i  psfMagerr_i  \\\n",
      "0  21.60792     0.047308  21.31006     0.045974  20.98966     0.054044   \n",
      "\n",
      "   psfMag_z  psfMagerr_z              obj_id1    type  \n",
      "0  20.50339     0.130906  1237659161203245622  GALAXY  \n",
      "Calculating visibility of source ZTF18ablqkud (ra: 249.416571, dec: 25.320907) with uh88.\n"
     ]
    },
    {
     "name": "stderr",
     "output_type": "stream",
     "text": [
      "INFO:root:computed dark times (sun_alt: -17.00) between 2018-11-14 00:00:00.000 and 2018-11-27 23:30:00.000. Total of 147.00 hours of dark\n",
      "INFO:root:source is visible for a total of 0.000 hours. Took 1.60e+00 sec\n"
     ]
    },
    {
     "name": "stdout",
     "output_type": "stream",
     "text": [
      "Not enough visibility\n"
     ]
    },
    {
     "name": "stderr",
     "output_type": "stream",
     "text": [
      "INFO:root:computing visibility of source at (ra: 246.302132, dec: 40.840290) from observatory uh88\n",
      "INFO:root:using visibility constraints:\n",
      "\t\t\t\t\t-Time resolution: 30.00 min\n",
      "\t\t\t\t\t-Airmass limit: 2.00\n",
      "\t\t\t\t\t-Sun altitude: -17.00 deg\n",
      "\t\t\t\t\t-Moon distance: 30.00 deg\n"
     ]
    },
    {
     "name": "stdout",
     "output_type": "stream",
     "text": [
      "  obj_id                objID          ra       dec  psfMag_u  psfMagerr_u  \\\n",
      "0  obj_0  1237662336796655821  249.416383  25.31996  21.03284     0.073201   \n",
      "\n",
      "   psfMag_g  psfMagerr_g  psfMag_r  psfMagerr_r  psfMag_i  psfMagerr_i  \\\n",
      "0   20.0678     0.020735   19.5662     0.018598  19.34276     0.019654   \n",
      "\n",
      "   psfMag_z  psfMagerr_z              obj_id1    type  \n",
      "0  19.10714     0.048834  1237662336796655821  GALAXY  \n",
      "Calculating visibility of source ZTF18abltdfj (ra: 246.302132, dec: 40.840290) with uh88.\n"
     ]
    },
    {
     "name": "stderr",
     "output_type": "stream",
     "text": [
      "INFO:root:computed dark times (sun_alt: -17.00) between 2018-11-14 00:00:00.000 and 2018-11-27 23:30:00.000. Total of 147.00 hours of dark\n",
      "INFO:root:source is visible for a total of 0.000 hours. Took 1.47e+00 sec\n"
     ]
    },
    {
     "name": "stdout",
     "output_type": "stream",
     "text": [
      "Not enough visibility\n"
     ]
    },
    {
     "name": "stderr",
     "output_type": "stream",
     "text": [
      "INFO:root:computing visibility of source at (ra: 284.718826, dec: 69.013495) from observatory uh88\n",
      "INFO:root:using visibility constraints:\n",
      "\t\t\t\t\t-Time resolution: 30.00 min\n",
      "\t\t\t\t\t-Airmass limit: 2.00\n",
      "\t\t\t\t\t-Sun altitude: -17.00 deg\n",
      "\t\t\t\t\t-Moon distance: 30.00 deg\n"
     ]
    },
    {
     "name": "stdout",
     "output_type": "stream",
     "text": [
      "Empty DataFrame\n",
      "Columns: [obj_id, objID, ra, dec, psfMag_u, psfMagerr_u, psfMag_g, psfMagerr_g, psfMag_r, psfMagerr_r, psfMag_i, psfMagerr_i, psfMag_z, psfMagerr_z, obj_id1, type]\n",
      "Index: []\n",
      "Calculating visibility of source ZTF18abjstcm (ra: 284.718826, dec: 69.013495) with uh88.\n"
     ]
    },
    {
     "name": "stderr",
     "output_type": "stream",
     "text": [
      "INFO:root:computed dark times (sun_alt: -17.00) between 2018-11-14 00:00:00.000 and 2018-11-27 23:30:00.000. Total of 147.00 hours of dark\n",
      "INFO:root:source is visible for a total of 11.500 hours. Took 1.80e+00 sec\n",
      "INFO:root:computing visibility of source at (ra: 226.913015, dec: 38.213656) from observatory uh88\n",
      "INFO:root:using visibility constraints:\n",
      "\t\t\t\t\t-Time resolution: 30.00 min\n",
      "\t\t\t\t\t-Airmass limit: 2.00\n",
      "\t\t\t\t\t-Sun altitude: -17.00 deg\n",
      "\t\t\t\t\t-Moon distance: 30.00 deg\n"
     ]
    },
    {
     "name": "stdout",
     "output_type": "stream",
     "text": [
      "Empty DataFrame\n",
      "Columns: [obj_id, objID, ra, dec, psfMag_u, psfMagerr_u, psfMag_g, psfMagerr_g, psfMag_r, psfMagerr_r, psfMag_i, psfMagerr_i, psfMag_z, psfMagerr_z, obj_id1, type]\n",
      "Index: []\n",
      "Calculating visibility of source ZTF18ablqjul (ra: 226.913015, dec: 38.213656) with uh88.\n"
     ]
    },
    {
     "name": "stderr",
     "output_type": "stream",
     "text": [
      "INFO:root:computed dark times (sun_alt: -17.00) between 2018-11-14 00:00:00.000 and 2018-11-27 23:30:00.000. Total of 147.00 hours of dark\n",
      "INFO:root:source is visible for a total of 0.000 hours. Took 1.51e+00 sec\n"
     ]
    },
    {
     "name": "stdout",
     "output_type": "stream",
     "text": [
      "Not enough visibility\n"
     ]
    },
    {
     "name": "stderr",
     "output_type": "stream",
     "text": [
      "INFO:root:computing visibility of source at (ra: 279.466132, dec: 51.838000) from observatory uh88\n",
      "INFO:root:using visibility constraints:\n",
      "\t\t\t\t\t-Time resolution: 30.00 min\n",
      "\t\t\t\t\t-Airmass limit: 2.00\n",
      "\t\t\t\t\t-Sun altitude: -17.00 deg\n",
      "\t\t\t\t\t-Moon distance: 30.00 deg\n"
     ]
    },
    {
     "name": "stdout",
     "output_type": "stream",
     "text": [
      "  obj_id                objID          ra        dec  psfMag_u  psfMagerr_u  \\\n",
      "0  obj_0  1237661360769794534  226.913058  38.213665  22.71585     0.285664   \n",
      "\n",
      "   psfMag_g  psfMagerr_g  psfMag_r  psfMagerr_r  psfMag_i  psfMagerr_i  \\\n",
      "0  22.27253     0.097665  22.04408     0.096488  21.80193     0.124246   \n",
      "\n",
      "   psfMag_z  psfMagerr_z              obj_id1    type  \n",
      "0  21.61688     0.424604  1237661360769794534  GALAXY  \n",
      "Calculating visibility of source ZTF18ablwtkf (ra: 279.466132, dec: 51.838000) with uh88.\n"
     ]
    },
    {
     "name": "stderr",
     "output_type": "stream",
     "text": [
      "INFO:root:computed dark times (sun_alt: -17.00) between 2018-11-14 00:00:00.000 and 2018-11-27 23:30:00.000. Total of 147.00 hours of dark\n",
      "INFO:root:source is visible for a total of 13.000 hours. Took 1.54e+00 sec\n",
      "INFO:root:computing visibility of source at (ra: 349.215897, dec: 41.059263) from observatory uh88\n",
      "INFO:root:using visibility constraints:\n",
      "\t\t\t\t\t-Time resolution: 30.00 min\n",
      "\t\t\t\t\t-Airmass limit: 2.00\n",
      "\t\t\t\t\t-Sun altitude: -17.00 deg\n",
      "\t\t\t\t\t-Moon distance: 30.00 deg\n"
     ]
    },
    {
     "name": "stdout",
     "output_type": "stream",
     "text": [
      "Empty DataFrame\n",
      "Columns: [obj_id, objID, ra, dec, psfMag_u, psfMagerr_u, psfMag_g, psfMagerr_g, psfMag_r, psfMagerr_r, psfMag_i, psfMagerr_i, psfMag_z, psfMagerr_z, obj_id1, type]\n",
      "Index: []\n",
      "Calculating visibility of source ZTF18abncdhd (ra: 349.215897, dec: 41.059263) with uh88.\n"
     ]
    },
    {
     "name": "stderr",
     "output_type": "stream",
     "text": [
      "INFO:root:computed dark times (sun_alt: -17.00) between 2018-11-14 00:00:00.000 and 2018-11-27 23:30:00.000. Total of 147.00 hours of dark\n",
      "INFO:root:source is visible for a total of 78.000 hours. Took 1.32e+00 sec\n",
      "INFO:root:computing visibility of source at (ra: 262.678144, dec: 62.831130) from observatory uh88\n",
      "INFO:root:using visibility constraints:\n",
      "\t\t\t\t\t-Time resolution: 30.00 min\n",
      "\t\t\t\t\t-Airmass limit: 2.00\n",
      "\t\t\t\t\t-Sun altitude: -17.00 deg\n",
      "\t\t\t\t\t-Moon distance: 30.00 deg\n"
     ]
    },
    {
     "name": "stdout",
     "output_type": "stream",
     "text": [
      "Empty DataFrame\n",
      "Columns: [obj_id, objID, ra, dec, psfMag_u, psfMagerr_u, psfMag_g, psfMagerr_g, psfMag_r, psfMagerr_r, psfMag_i, psfMagerr_i, psfMag_z, psfMagerr_z, obj_id1, type]\n",
      "Index: []\n",
      "Calculating visibility of source ZTF18ablongw (ra: 262.678144, dec: 62.831130) with uh88.\n"
     ]
    },
    {
     "name": "stderr",
     "output_type": "stream",
     "text": [
      "INFO:root:computed dark times (sun_alt: -17.00) between 2018-11-14 00:00:00.000 and 2018-11-27 23:30:00.000. Total of 147.00 hours of dark\n",
      "INFO:root:source is visible for a total of 0.000 hours. Took 1.57e+00 sec\n"
     ]
    },
    {
     "name": "stdout",
     "output_type": "stream",
     "text": [
      "Not enough visibility\n"
     ]
    },
    {
     "name": "stderr",
     "output_type": "stream",
     "text": [
      "INFO:root:computing visibility of source at (ra: 13.304222, dec: 20.714708) from observatory uh88\n",
      "INFO:root:using visibility constraints:\n",
      "\t\t\t\t\t-Time resolution: 30.00 min\n",
      "\t\t\t\t\t-Airmass limit: 2.00\n",
      "\t\t\t\t\t-Sun altitude: -17.00 deg\n",
      "\t\t\t\t\t-Moon distance: 30.00 deg\n"
     ]
    },
    {
     "name": "stdout",
     "output_type": "stream",
     "text": [
      "  obj_id                objID          ra        dec  psfMag_u  psfMagerr_u  \\\n",
      "0  obj_0  1237655746703327558  262.678314  62.831505   19.5697     0.032741   \n",
      "\n",
      "   psfMag_g  psfMagerr_g  psfMag_r  psfMagerr_r  psfMag_i  psfMagerr_i  \\\n",
      "0  18.03166     0.026962   17.3696     0.019665  17.01794     0.025406   \n",
      "\n",
      "   psfMag_z  psfMagerr_z              obj_id1    type  \n",
      "0  16.79205     0.023304  1237655746703327558  GALAXY  \n",
      "Calculating visibility of source ZTF18abmogag (ra: 13.304222, dec: 20.714708) with uh88.\n"
     ]
    },
    {
     "name": "stderr",
     "output_type": "stream",
     "text": [
      "INFO:root:computed dark times (sun_alt: -17.00) between 2018-11-14 00:00:00.000 and 2018-11-27 23:30:00.000. Total of 147.00 hours of dark\n",
      "INFO:root:Too close the the moon.\n",
      "INFO:root:source is visible for a total of 76.000 hours. Took 1.30e+00 sec\n",
      "INFO:root:computing visibility of source at (ra: 338.397306, dec: 41.783194) from observatory uh88\n",
      "INFO:root:using visibility constraints:\n",
      "\t\t\t\t\t-Time resolution: 30.00 min\n",
      "\t\t\t\t\t-Airmass limit: 2.00\n",
      "\t\t\t\t\t-Sun altitude: -17.00 deg\n",
      "\t\t\t\t\t-Moon distance: 30.00 deg\n"
     ]
    },
    {
     "name": "stdout",
     "output_type": "stream",
     "text": [
      "  obj_id                objID         ra        dec  psfMag_u  psfMagerr_u  \\\n",
      "0  obj_0  1237679504861233188  13.303682  20.714775  21.06936     0.184114   \n",
      "\n",
      "   psfMag_g  psfMagerr_g  psfMag_r  psfMagerr_r  psfMag_i  psfMagerr_i  \\\n",
      "0  19.02218     0.024714  17.83967     0.017805  17.09494     0.015851   \n",
      "\n",
      "   psfMag_z  psfMagerr_z              obj_id1    type  \n",
      "0  16.64752     0.024751  1237679504861233188  GALAXY  \n",
      "Calculating visibility of source ZTF18ablwgop (ra: 338.397306, dec: 41.783194) with uh88.\n"
     ]
    },
    {
     "name": "stderr",
     "output_type": "stream",
     "text": [
      "INFO:root:computed dark times (sun_alt: -17.00) between 2018-11-14 00:00:00.000 and 2018-11-27 23:30:00.000. Total of 147.00 hours of dark\n",
      "INFO:root:source is visible for a total of 68.000 hours. Took 1.25e+00 sec\n",
      "INFO:root:computing visibility of source at (ra: 297.701042, dec: 64.922859) from observatory uh88\n",
      "INFO:root:using visibility constraints:\n",
      "\t\t\t\t\t-Time resolution: 30.00 min\n",
      "\t\t\t\t\t-Airmass limit: 2.00\n",
      "\t\t\t\t\t-Sun altitude: -17.00 deg\n",
      "\t\t\t\t\t-Moon distance: 30.00 deg\n"
     ]
    },
    {
     "name": "stdout",
     "output_type": "stream",
     "text": [
      "Empty DataFrame\n",
      "Columns: [obj_id, objID, ra, dec, psfMag_u, psfMagerr_u, psfMag_g, psfMagerr_g, psfMag_r, psfMagerr_r, psfMag_i, psfMagerr_i, psfMag_z, psfMagerr_z, obj_id1, type]\n",
      "Index: []\n",
      "Calculating visibility of source ZTF18abfdupq (ra: 297.701042, dec: 64.922859) with uh88.\n"
     ]
    },
    {
     "name": "stderr",
     "output_type": "stream",
     "text": [
      "INFO:root:computed dark times (sun_alt: -17.00) between 2018-11-14 00:00:00.000 and 2018-11-27 23:30:00.000. Total of 147.00 hours of dark\n",
      "INFO:root:source is visible for a total of 26.500 hours. Took 1.30e+00 sec\n",
      "INFO:root:computing visibility of source at (ra: 206.727482, dec: 32.442861) from observatory uh88\n",
      "INFO:root:using visibility constraints:\n",
      "\t\t\t\t\t-Time resolution: 30.00 min\n",
      "\t\t\t\t\t-Airmass limit: 2.00\n",
      "\t\t\t\t\t-Sun altitude: -17.00 deg\n",
      "\t\t\t\t\t-Moon distance: 30.00 deg\n"
     ]
    },
    {
     "name": "stdout",
     "output_type": "stream",
     "text": [
      "Empty DataFrame\n",
      "Columns: [obj_id, objID, ra, dec, psfMag_u, psfMagerr_u, psfMag_g, psfMagerr_g, psfMag_r, psfMagerr_r, psfMag_i, psfMagerr_i, psfMag_z, psfMagerr_z, obj_id1, type]\n",
      "Index: []\n",
      "Calculating visibility of source ZTF18ablqhqx (ra: 206.727482, dec: 32.442861) with uh88.\n"
     ]
    },
    {
     "name": "stderr",
     "output_type": "stream",
     "text": [
      "INFO:root:computed dark times (sun_alt: -17.00) between 2018-11-14 00:00:00.000 and 2018-11-27 23:30:00.000. Total of 147.00 hours of dark\n",
      "INFO:root:source is visible for a total of 0.000 hours. Took 1.32e+00 sec\n"
     ]
    },
    {
     "name": "stdout",
     "output_type": "stream",
     "text": [
      "Not enough visibility\n"
     ]
    },
    {
     "name": "stderr",
     "output_type": "stream",
     "text": [
      "INFO:root:computing visibility of source at (ra: 325.047073, dec: 21.558394) from observatory uh88\n",
      "INFO:root:using visibility constraints:\n",
      "\t\t\t\t\t-Time resolution: 30.00 min\n",
      "\t\t\t\t\t-Airmass limit: 2.00\n",
      "\t\t\t\t\t-Sun altitude: -17.00 deg\n",
      "\t\t\t\t\t-Moon distance: 30.00 deg\n"
     ]
    },
    {
     "name": "stdout",
     "output_type": "stream",
     "text": [
      "  obj_id                objID          ra        dec  psfMag_u  psfMagerr_u  \\\n",
      "0  obj_0  1237665024376176758  206.726404  32.442314   24.4897     0.825781   \n",
      "\n",
      "   psfMag_g  psfMagerr_g  psfMag_r  psfMagerr_r  psfMag_i  psfMagerr_i  \\\n",
      "0  23.51924     0.366317  23.20575     0.332949  22.16554     0.165292   \n",
      "\n",
      "   psfMag_z  psfMagerr_z              obj_id1    type  \n",
      "0  21.78897     0.397599  1237665024376176758  GALAXY  \n",
      "Calculating visibility of source ZTF18abmrhom (ra: 325.047073, dec: 21.558394) with uh88.\n"
     ]
    },
    {
     "name": "stderr",
     "output_type": "stream",
     "text": [
      "INFO:root:computed dark times (sun_alt: -17.00) between 2018-11-14 00:00:00.000 and 2018-11-27 23:30:00.000. Total of 147.00 hours of dark\n",
      "INFO:root:source is visible for a total of 52.500 hours. Took 1.30e+00 sec\n",
      "INFO:root:computing visibility of source at (ra: 230.309773, dec: 30.636643) from observatory uh88\n",
      "INFO:root:using visibility constraints:\n",
      "\t\t\t\t\t-Time resolution: 30.00 min\n",
      "\t\t\t\t\t-Airmass limit: 2.00\n",
      "\t\t\t\t\t-Sun altitude: -17.00 deg\n",
      "\t\t\t\t\t-Moon distance: 30.00 deg\n"
     ]
    },
    {
     "name": "stdout",
     "output_type": "stream",
     "text": [
      "  obj_id                objID          ra        dec  psfMag_u  psfMagerr_u  \\\n",
      "0  obj_0  1237680306393056127  325.047263  21.558439  20.66837     0.076131   \n",
      "\n",
      "   psfMag_g  psfMagerr_g  psfMag_r  psfMagerr_r  psfMag_i  psfMagerr_i  \\\n",
      "0  18.89819     0.012454  18.01491     0.010414  17.78417     0.010673   \n",
      "\n",
      "   psfMag_z  psfMagerr_z              obj_id1    type  \n",
      "0  17.35722     0.019902  1237680306393056127  GALAXY  \n",
      "Calculating visibility of source ZTF18abmjvuf (ra: 230.309773, dec: 30.636643) with uh88.\n"
     ]
    },
    {
     "name": "stderr",
     "output_type": "stream",
     "text": [
      "INFO:root:computed dark times (sun_alt: -17.00) between 2018-11-14 00:00:00.000 and 2018-11-27 23:30:00.000. Total of 147.00 hours of dark\n",
      "INFO:root:source is visible for a total of 0.000 hours. Took 1.31e+00 sec\n"
     ]
    },
    {
     "name": "stdout",
     "output_type": "stream",
     "text": [
      "Not enough visibility\n"
     ]
    },
    {
     "name": "stderr",
     "output_type": "stream",
     "text": [
      "INFO:root:computing visibility of source at (ra: 195.302662, dec: 39.756435) from observatory uh88\n",
      "INFO:root:using visibility constraints:\n",
      "\t\t\t\t\t-Time resolution: 30.00 min\n",
      "\t\t\t\t\t-Airmass limit: 2.00\n",
      "\t\t\t\t\t-Sun altitude: -17.00 deg\n",
      "\t\t\t\t\t-Moon distance: 30.00 deg\n"
     ]
    },
    {
     "name": "stdout",
     "output_type": "stream",
     "text": [
      "Empty DataFrame\n",
      "Columns: [obj_id, objID, ra, dec, psfMag_u, psfMagerr_u, psfMag_g, psfMagerr_g, psfMag_r, psfMagerr_r, psfMag_i, psfMagerr_i, psfMag_z, psfMagerr_z, obj_id1, type]\n",
      "Index: []\n",
      "Calculating visibility of source ZTF18abnonwz (ra: 195.302662, dec: 39.756435) with uh88.\n"
     ]
    },
    {
     "name": "stderr",
     "output_type": "stream",
     "text": [
      "INFO:root:computed dark times (sun_alt: -17.00) between 2018-11-14 00:00:00.000 and 2018-11-27 23:30:00.000. Total of 147.00 hours of dark\n",
      "INFO:root:source is visible for a total of 7.000 hours. Took 1.29e+00 sec\n",
      "INFO:root:computing visibility of source at (ra: 328.652038, dec: 18.115517) from observatory uh88\n",
      "INFO:root:using visibility constraints:\n",
      "\t\t\t\t\t-Time resolution: 30.00 min\n",
      "\t\t\t\t\t-Airmass limit: 2.00\n",
      "\t\t\t\t\t-Sun altitude: -17.00 deg\n",
      "\t\t\t\t\t-Moon distance: 30.00 deg\n"
     ]
    },
    {
     "name": "stdout",
     "output_type": "stream",
     "text": [
      "  obj_id                objID          ra        dec  psfMag_u  psfMagerr_u  \\\n",
      "0  obj_0  1237664295293813056  195.301437  39.757007  23.41036     0.455803   \n",
      "\n",
      "   psfMag_g  psfMagerr_g  psfMag_r  psfMagerr_r  psfMag_i  psfMagerr_i  \\\n",
      "0  22.16271     0.138341   21.2796      0.11466  20.09117      0.06788   \n",
      "\n",
      "   psfMag_z  psfMagerr_z              obj_id1  type  \n",
      "0   19.3122     0.065093  1237664295293813056  STAR  \n",
      "Calculating visibility of source ZTF18abntsgz (ra: 328.652038, dec: 18.115517) with uh88.\n"
     ]
    },
    {
     "name": "stderr",
     "output_type": "stream",
     "text": [
      "INFO:root:computed dark times (sun_alt: -17.00) between 2018-11-14 00:00:00.000 and 2018-11-27 23:30:00.000. Total of 147.00 hours of dark\n",
      "INFO:root:source is visible for a total of 55.500 hours. Took 1.27e+00 sec\n",
      "INFO:root:computing visibility of source at (ra: 252.753454, dec: 25.875975) from observatory uh88\n",
      "INFO:root:using visibility constraints:\n",
      "\t\t\t\t\t-Time resolution: 30.00 min\n",
      "\t\t\t\t\t-Airmass limit: 2.00\n",
      "\t\t\t\t\t-Sun altitude: -17.00 deg\n",
      "\t\t\t\t\t-Moon distance: 30.00 deg\n"
     ]
    },
    {
     "name": "stdout",
     "output_type": "stream",
     "text": [
      "  obj_id                objID          ra        dec  psfMag_u  psfMagerr_u  \\\n",
      "0  obj_0  1237680297805021688  328.651036  18.114954  22.82537     0.458465   \n",
      "\n",
      "   psfMag_g  psfMagerr_g  psfMag_r  psfMagerr_r  psfMag_i  psfMagerr_i  \\\n",
      "0  25.11396     2.310612   24.3684     2.435801  22.41287     1.094957   \n",
      "\n",
      "   psfMag_z  psfMagerr_z              obj_id1  type  \n",
      "0  22.65208     2.316216  1237680297805021688  STAR  \n",
      "Calculating visibility of source ZTF18abmxfrc (ra: 252.753454, dec: 25.875975) with uh88.\n"
     ]
    },
    {
     "name": "stderr",
     "output_type": "stream",
     "text": [
      "INFO:root:computed dark times (sun_alt: -17.00) between 2018-11-14 00:00:00.000 and 2018-11-27 23:30:00.000. Total of 147.00 hours of dark\n",
      "INFO:root:source is visible for a total of 0.000 hours. Took 1.26e+00 sec\n"
     ]
    },
    {
     "name": "stdout",
     "output_type": "stream",
     "text": [
      "Not enough visibility\n"
     ]
    },
    {
     "name": "stderr",
     "output_type": "stream",
     "text": [
      "INFO:root:computing visibility of source at (ra: 254.616736, dec: 11.476635) from observatory uh88\n",
      "INFO:root:using visibility constraints:\n",
      "\t\t\t\t\t-Time resolution: 30.00 min\n",
      "\t\t\t\t\t-Airmass limit: 2.00\n",
      "\t\t\t\t\t-Sun altitude: -17.00 deg\n",
      "\t\t\t\t\t-Moon distance: 30.00 deg\n"
     ]
    },
    {
     "name": "stdout",
     "output_type": "stream",
     "text": [
      "  obj_id                objID          ra        dec  psfMag_u  psfMagerr_u  \\\n",
      "0  obj_0  1237662499476210466  252.753366  25.876362  22.08502     0.217723   \n",
      "\n",
      "   psfMag_g  psfMagerr_g  psfMag_r  psfMagerr_r  psfMag_i  psfMagerr_i  \\\n",
      "0  20.81314     0.030837  20.31123     0.031474     20.01     0.035193   \n",
      "\n",
      "   psfMag_z  psfMagerr_z              obj_id1    type  \n",
      "0  19.93942     0.109859  1237662499476210466  GALAXY  \n",
      "Calculating visibility of source ZTF18abmkaps (ra: 254.616736, dec: 11.476635) with uh88.\n"
     ]
    },
    {
     "name": "stderr",
     "output_type": "stream",
     "text": [
      "INFO:root:computed dark times (sun_alt: -17.00) between 2018-11-14 00:00:00.000 and 2018-11-27 23:30:00.000. Total of 147.00 hours of dark\n",
      "INFO:root:source is visible for a total of 0.000 hours. Took 1.28e+00 sec\n"
     ]
    },
    {
     "name": "stdout",
     "output_type": "stream",
     "text": [
      "Not enough visibility\n"
     ]
    },
    {
     "name": "stderr",
     "output_type": "stream",
     "text": [
      "INFO:root:computing visibility of source at (ra: 270.146627, dec: 61.697712) from observatory uh88\n",
      "INFO:root:using visibility constraints:\n",
      "\t\t\t\t\t-Time resolution: 30.00 min\n",
      "\t\t\t\t\t-Airmass limit: 2.00\n",
      "\t\t\t\t\t-Sun altitude: -17.00 deg\n",
      "\t\t\t\t\t-Moon distance: 30.00 deg\n"
     ]
    },
    {
     "name": "stdout",
     "output_type": "stream",
     "text": [
      "  obj_id                objID          ra        dec  psfMag_u  psfMagerr_u  \\\n",
      "0  obj_0  1237668572544893592  254.617778  11.477233  19.29403     0.029671   \n",
      "\n",
      "   psfMag_g  psfMagerr_g  psfMag_r  psfMagerr_r  psfMag_i  psfMagerr_i  \\\n",
      "0  17.58411     0.008985  16.78982     0.008655  16.45079     0.011523   \n",
      "\n",
      "   psfMag_z  psfMagerr_z              obj_id1    type  \n",
      "0  16.17383     0.014865  1237668572544893592  GALAXY  \n",
      "Calculating visibility of source ZTF18abmmdif (ra: 270.146627, dec: 61.697712) with uh88.\n"
     ]
    },
    {
     "name": "stderr",
     "output_type": "stream",
     "text": [
      "INFO:root:computed dark times (sun_alt: -17.00) between 2018-11-14 00:00:00.000 and 2018-11-27 23:30:00.000. Total of 147.00 hours of dark\n",
      "INFO:root:source is visible for a total of 3.000 hours. Took 1.32e+00 sec\n"
     ]
    },
    {
     "name": "stdout",
     "output_type": "stream",
     "text": [
      "Not enough visibility\n"
     ]
    },
    {
     "name": "stderr",
     "output_type": "stream",
     "text": [
      "INFO:root:computing visibility of source at (ra: 277.843210, dec: 63.741497) from observatory uh88\n",
      "INFO:root:using visibility constraints:\n",
      "\t\t\t\t\t-Time resolution: 30.00 min\n",
      "\t\t\t\t\t-Airmass limit: 2.00\n",
      "\t\t\t\t\t-Sun altitude: -17.00 deg\n",
      "\t\t\t\t\t-Moon distance: 30.00 deg\n"
     ]
    },
    {
     "name": "stdout",
     "output_type": "stream",
     "text": [
      "Empty DataFrame\n",
      "Columns: [obj_id, objID, ra, dec, psfMag_u, psfMagerr_u, psfMag_g, psfMagerr_g, psfMag_r, psfMagerr_r, psfMag_i, psfMagerr_i, psfMag_z, psfMagerr_z, obj_id1, type]\n",
      "Index: []\n",
      "Calculating visibility of source ZTF18abkhdxe (ra: 277.843210, dec: 63.741497) with uh88.\n"
     ]
    },
    {
     "name": "stderr",
     "output_type": "stream",
     "text": [
      "INFO:root:computed dark times (sun_alt: -17.00) between 2018-11-14 00:00:00.000 and 2018-11-27 23:30:00.000. Total of 147.00 hours of dark\n",
      "INFO:root:source is visible for a total of 9.000 hours. Took 1.29e+00 sec\n",
      "INFO:root:computing visibility of source at (ra: 243.640690, dec: 36.943399) from observatory uh88\n",
      "INFO:root:using visibility constraints:\n",
      "\t\t\t\t\t-Time resolution: 30.00 min\n",
      "\t\t\t\t\t-Airmass limit: 2.00\n",
      "\t\t\t\t\t-Sun altitude: -17.00 deg\n",
      "\t\t\t\t\t-Moon distance: 30.00 deg\n"
     ]
    },
    {
     "name": "stdout",
     "output_type": "stream",
     "text": [
      "  obj_id                objID          ra        dec  psfMag_u  psfMagerr_u  \\\n",
      "0  obj_0  1237671939271491947  277.842043  63.741504  22.46747      0.32491   \n",
      "\n",
      "   psfMag_g  psfMagerr_g  psfMag_r  psfMagerr_r  psfMag_i  psfMagerr_i  \\\n",
      "0  21.32537      0.04216  20.93748     0.037041  20.69042     0.041302   \n",
      "\n",
      "   psfMag_z  psfMagerr_z              obj_id1    type  \n",
      "0  20.22226     0.104508  1237671939271491947  GALAXY  \n",
      "Calculating visibility of source ZTF18aasprui (ra: 243.640690, dec: 36.943399) with uh88.\n"
     ]
    },
    {
     "name": "stderr",
     "output_type": "stream",
     "text": [
      "INFO:root:computed dark times (sun_alt: -17.00) between 2018-11-14 00:00:00.000 and 2018-11-27 23:30:00.000. Total of 147.00 hours of dark\n",
      "INFO:root:source is visible for a total of 0.000 hours. Took 1.25e+00 sec\n"
     ]
    },
    {
     "name": "stdout",
     "output_type": "stream",
     "text": [
      "Not enough visibility\n"
     ]
    },
    {
     "name": "stderr",
     "output_type": "stream",
     "text": [
      "INFO:root:computing visibility of source at (ra: 257.546516, dec: 21.649036) from observatory uh88\n",
      "INFO:root:using visibility constraints:\n",
      "\t\t\t\t\t-Time resolution: 30.00 min\n",
      "\t\t\t\t\t-Airmass limit: 2.00\n",
      "\t\t\t\t\t-Sun altitude: -17.00 deg\n",
      "\t\t\t\t\t-Moon distance: 30.00 deg\n"
     ]
    },
    {
     "name": "stdout",
     "output_type": "stream",
     "text": [
      "  obj_id                objID          ra        dec  psfMag_u  psfMagerr_u  \\\n",
      "0  obj_0  1237665357231357992  243.640213  36.943791  19.14083     0.026775   \n",
      "\n",
      "   psfMag_g  psfMagerr_g  psfMag_r  psfMagerr_r  psfMag_i  psfMagerr_i  \\\n",
      "0  18.31266      0.01736  17.95264     0.015194  17.66305     0.012883   \n",
      "\n",
      "   psfMag_z  psfMagerr_z              obj_id1    type  \n",
      "0  17.38974     0.019175  1237665357231357992  GALAXY  \n",
      "Calculating visibility of source ZTF18abmxahs (ra: 257.546516, dec: 21.649036) with uh88.\n"
     ]
    },
    {
     "name": "stderr",
     "output_type": "stream",
     "text": [
      "INFO:root:computed dark times (sun_alt: -17.00) between 2018-11-14 00:00:00.000 and 2018-11-27 23:30:00.000. Total of 147.00 hours of dark\n",
      "INFO:root:source is visible for a total of 0.000 hours. Took 1.21e+00 sec\n"
     ]
    },
    {
     "name": "stdout",
     "output_type": "stream",
     "text": [
      "Not enough visibility\n"
     ]
    },
    {
     "name": "stderr",
     "output_type": "stream",
     "text": [
      "INFO:root:computing visibility of source at (ra: 282.079539, dec: 30.607014) from observatory uh88\n",
      "INFO:root:using visibility constraints:\n",
      "\t\t\t\t\t-Time resolution: 30.00 min\n",
      "\t\t\t\t\t-Airmass limit: 2.00\n",
      "\t\t\t\t\t-Sun altitude: -17.00 deg\n",
      "\t\t\t\t\t-Moon distance: 30.00 deg\n"
     ]
    },
    {
     "name": "stdout",
     "output_type": "stream",
     "text": [
      "  obj_id                objID          ra        dec  psfMag_u  psfMagerr_u  \\\n",
      "0  obj_0  1237659152614359239  257.546114  21.649589  19.20417      0.02869   \n",
      "\n",
      "   psfMag_g  psfMagerr_g  psfMag_r  psfMagerr_r  psfMag_i  psfMagerr_i  \\\n",
      "0  18.67435     0.013068  18.51226     0.011793  18.27467     0.015686   \n",
      "\n",
      "   psfMag_z  psfMagerr_z              obj_id1    type  \n",
      "0  18.00244     0.028389  1237659152614359239  GALAXY  \n",
      "Calculating visibility of source ZTF18abmxmsv (ra: 282.079539, dec: 30.607014) with uh88.\n"
     ]
    },
    {
     "name": "stderr",
     "output_type": "stream",
     "text": [
      "INFO:root:computed dark times (sun_alt: -17.00) between 2018-11-14 00:00:00.000 and 2018-11-27 23:30:00.000. Total of 147.00 hours of dark\n",
      "INFO:root:source is visible for a total of 14.500 hours. Took 1.26e+00 sec\n",
      "INFO:root:computing visibility of source at (ra: 253.130110, dec: 23.383533) from observatory uh88\n",
      "INFO:root:using visibility constraints:\n",
      "\t\t\t\t\t-Time resolution: 30.00 min\n",
      "\t\t\t\t\t-Airmass limit: 2.00\n",
      "\t\t\t\t\t-Sun altitude: -17.00 deg\n",
      "\t\t\t\t\t-Moon distance: 30.00 deg\n"
     ]
    },
    {
     "name": "stdout",
     "output_type": "stream",
     "text": [
      "Empty DataFrame\n",
      "Columns: [obj_id, objID, ra, dec, psfMag_u, psfMagerr_u, psfMag_g, psfMagerr_g, psfMag_r, psfMagerr_r, psfMag_i, psfMagerr_i, psfMag_z, psfMagerr_z, obj_id1, type]\n",
      "Index: []\n",
      "Calculating visibility of source ZTF18ablqqqp (ra: 253.130110, dec: 23.383533) with uh88.\n"
     ]
    },
    {
     "name": "stderr",
     "output_type": "stream",
     "text": [
      "INFO:root:computed dark times (sun_alt: -17.00) between 2018-11-14 00:00:00.000 and 2018-11-27 23:30:00.000. Total of 147.00 hours of dark\n",
      "INFO:root:source is visible for a total of 0.000 hours. Took 1.26e+00 sec\n"
     ]
    },
    {
     "name": "stdout",
     "output_type": "stream",
     "text": [
      "Not enough visibility\n"
     ]
    },
    {
     "name": "stderr",
     "output_type": "stream",
     "text": [
      "INFO:root:computing visibility of source at (ra: 243.695776, dec: 43.305296) from observatory uh88\n",
      "INFO:root:using visibility constraints:\n",
      "\t\t\t\t\t-Time resolution: 30.00 min\n",
      "\t\t\t\t\t-Airmass limit: 2.00\n",
      "\t\t\t\t\t-Sun altitude: -17.00 deg\n",
      "\t\t\t\t\t-Moon distance: 30.00 deg\n"
     ]
    },
    {
     "name": "stdout",
     "output_type": "stream",
     "text": [
      "  obj_id                objID          ra       dec  psfMag_u  psfMagerr_u  \\\n",
      "0  obj_0  1237662337872102360  253.129579  23.38376   22.4364     0.196978   \n",
      "\n",
      "   psfMag_g  psfMagerr_g  psfMag_r  psfMagerr_r  psfMag_i  psfMagerr_i  \\\n",
      "0  21.30948     0.039853  20.93438     0.038384  20.57196       0.0466   \n",
      "\n",
      "   psfMag_z  psfMagerr_z              obj_id1    type  \n",
      "0  20.38523     0.133833  1237662337872102360  GALAXY  \n",
      "Calculating visibility of source ZTF18abobkii (ra: 243.695776, dec: 43.305296) with uh88.\n"
     ]
    },
    {
     "name": "stderr",
     "output_type": "stream",
     "text": [
      "INFO:root:computed dark times (sun_alt: -17.00) between 2018-11-14 00:00:00.000 and 2018-11-27 23:30:00.000. Total of 147.00 hours of dark\n",
      "INFO:root:source is visible for a total of 0.000 hours. Took 1.24e+00 sec\n"
     ]
    },
    {
     "name": "stdout",
     "output_type": "stream",
     "text": [
      "Not enough visibility\n"
     ]
    },
    {
     "name": "stderr",
     "output_type": "stream",
     "text": [
      "INFO:root:computing visibility of source at (ra: 251.374292, dec: 65.239057) from observatory uh88\n",
      "INFO:root:using visibility constraints:\n",
      "\t\t\t\t\t-Time resolution: 30.00 min\n",
      "\t\t\t\t\t-Airmass limit: 2.00\n",
      "\t\t\t\t\t-Sun altitude: -17.00 deg\n",
      "\t\t\t\t\t-Moon distance: 30.00 deg\n"
     ]
    },
    {
     "name": "stdout",
     "output_type": "stream",
     "text": [
      "  obj_id                objID         ra        dec  psfMag_u  psfMagerr_u  \\\n",
      "0  obj_0  1237665357234110752  243.69566  43.305266  20.05667     0.047431   \n",
      "\n",
      "   psfMag_g  psfMagerr_g  psfMag_r  psfMagerr_r  psfMag_i  psfMagerr_i  \\\n",
      "0  18.69694     0.018139   18.1176     0.014837  17.61565      0.01565   \n",
      "\n",
      "   psfMag_z  psfMagerr_z              obj_id1    type  \n",
      "0  17.28647      0.02038  1237665357234110752  GALAXY  \n",
      "Calculating visibility of source ZTF18abmxdhb (ra: 251.374292, dec: 65.239057) with uh88.\n"
     ]
    },
    {
     "name": "stderr",
     "output_type": "stream",
     "text": [
      "INFO:root:computed dark times (sun_alt: -17.00) between 2018-11-14 00:00:00.000 and 2018-11-27 23:30:00.000. Total of 147.00 hours of dark\n",
      "INFO:root:source is visible for a total of 0.000 hours. Took 1.26e+00 sec\n"
     ]
    },
    {
     "name": "stdout",
     "output_type": "stream",
     "text": [
      "Not enough visibility\n"
     ]
    },
    {
     "name": "stderr",
     "output_type": "stream",
     "text": [
      "INFO:root:computing visibility of source at (ra: 225.938066, dec: 61.567893) from observatory uh88\n",
      "INFO:root:using visibility constraints:\n",
      "\t\t\t\t\t-Time resolution: 30.00 min\n",
      "\t\t\t\t\t-Airmass limit: 2.00\n",
      "\t\t\t\t\t-Sun altitude: -17.00 deg\n",
      "\t\t\t\t\t-Moon distance: 30.00 deg\n"
     ]
    },
    {
     "name": "stdout",
     "output_type": "stream",
     "text": [
      "Empty DataFrame\n",
      "Columns: [obj_id, objID, ra, dec, psfMag_u, psfMagerr_u, psfMag_g, psfMagerr_g, psfMag_r, psfMagerr_r, psfMag_i, psfMagerr_i, psfMag_z, psfMagerr_z, obj_id1, type]\n",
      "Index: []\n",
      "Calculating visibility of source ZTF18abmoung (ra: 225.938066, dec: 61.567893) with uh88.\n"
     ]
    },
    {
     "name": "stderr",
     "output_type": "stream",
     "text": [
      "INFO:root:computed dark times (sun_alt: -17.00) between 2018-11-14 00:00:00.000 and 2018-11-27 23:30:00.000. Total of 147.00 hours of dark\n",
      "INFO:root:source is visible for a total of 0.000 hours. Took 1.26e+00 sec\n"
     ]
    },
    {
     "name": "stdout",
     "output_type": "stream",
     "text": [
      "Not enough visibility\n"
     ]
    },
    {
     "name": "stderr",
     "output_type": "stream",
     "text": [
      "INFO:root:computing visibility of source at (ra: 228.204884, dec: 56.259190) from observatory uh88\n",
      "INFO:root:using visibility constraints:\n",
      "\t\t\t\t\t-Time resolution: 30.00 min\n",
      "\t\t\t\t\t-Airmass limit: 2.00\n",
      "\t\t\t\t\t-Sun altitude: -17.00 deg\n",
      "\t\t\t\t\t-Moon distance: 30.00 deg\n"
     ]
    },
    {
     "name": "stdout",
     "output_type": "stream",
     "text": [
      "  obj_id                objID          ra        dec  psfMag_u  psfMagerr_u  \\\n",
      "0  obj_0  1237651539257065689  225.937814  61.567422   20.1843     0.039773   \n",
      "\n",
      "   psfMag_g  psfMagerr_g  psfMag_r  psfMagerr_r  psfMag_i  psfMagerr_i  \\\n",
      "0   19.2541     0.016596  18.80778     0.014148  18.50794     0.018178   \n",
      "\n",
      "   psfMag_z  psfMagerr_z              obj_id1    type  \n",
      "0  18.39473     0.032226  1237651539257065689  GALAXY  \n",
      "Calculating visibility of source ZTF18ablsztl (ra: 228.204884, dec: 56.259190) with uh88.\n"
     ]
    },
    {
     "name": "stderr",
     "output_type": "stream",
     "text": [
      "INFO:root:computed dark times (sun_alt: -17.00) between 2018-11-14 00:00:00.000 and 2018-11-27 23:30:00.000. Total of 147.00 hours of dark\n",
      "INFO:root:source is visible for a total of 0.000 hours. Took 1.25e+00 sec\n"
     ]
    },
    {
     "name": "stdout",
     "output_type": "stream",
     "text": [
      "Not enough visibility\n"
     ]
    },
    {
     "name": "stderr",
     "output_type": "stream",
     "text": [
      "INFO:root:computing visibility of source at (ra: 329.757532, dec: 11.103690) from observatory uh88\n",
      "INFO:root:using visibility constraints:\n",
      "\t\t\t\t\t-Time resolution: 30.00 min\n",
      "\t\t\t\t\t-Airmass limit: 2.00\n",
      "\t\t\t\t\t-Sun altitude: -17.00 deg\n",
      "\t\t\t\t\t-Moon distance: 30.00 deg\n"
     ]
    },
    {
     "name": "stdout",
     "output_type": "stream",
     "text": [
      "Empty DataFrame\n",
      "Columns: [obj_id, objID, ra, dec, psfMag_u, psfMagerr_u, psfMag_g, psfMagerr_g, psfMag_r, psfMagerr_r, psfMag_i, psfMagerr_i, psfMag_z, psfMagerr_z, obj_id1, type]\n",
      "Index: []\n",
      "Calculating visibility of source ZTF18abnxhmc (ra: 329.757532, dec: 11.103690) with uh88.\n"
     ]
    },
    {
     "name": "stderr",
     "output_type": "stream",
     "text": [
      "INFO:root:computed dark times (sun_alt: -17.00) between 2018-11-14 00:00:00.000 and 2018-11-27 23:30:00.000. Total of 147.00 hours of dark\n",
      "INFO:root:Too close the the moon.\n",
      "INFO:root:source is visible for a total of 42.000 hours. Took 1.21e+00 sec\n",
      "INFO:root:computing visibility of source at (ra: 221.376621, dec: 17.258223) from observatory uh88\n",
      "INFO:root:using visibility constraints:\n",
      "\t\t\t\t\t-Time resolution: 30.00 min\n",
      "\t\t\t\t\t-Airmass limit: 2.00\n",
      "\t\t\t\t\t-Sun altitude: -17.00 deg\n",
      "\t\t\t\t\t-Moon distance: 30.00 deg\n"
     ]
    },
    {
     "name": "stdout",
     "output_type": "stream",
     "text": [
      "Empty DataFrame\n",
      "Columns: [obj_id, objID, ra, dec, psfMag_u, psfMagerr_u, psfMag_g, psfMagerr_g, psfMag_r, psfMagerr_r, psfMag_i, psfMagerr_i, psfMag_z, psfMagerr_z, obj_id1, type]\n",
      "Index: []\n",
      "Calculating visibility of source ZTF18abkhbra (ra: 221.376621, dec: 17.258223) with uh88.\n"
     ]
    },
    {
     "name": "stderr",
     "output_type": "stream",
     "text": [
      "INFO:root:computed dark times (sun_alt: -17.00) between 2018-11-14 00:00:00.000 and 2018-11-27 23:30:00.000. Total of 147.00 hours of dark\n",
      "INFO:root:source is visible for a total of 0.000 hours. Took 1.26e+00 sec\n"
     ]
    },
    {
     "name": "stdout",
     "output_type": "stream",
     "text": [
      "Not enough visibility\n"
     ]
    },
    {
     "name": "stderr",
     "output_type": "stream",
     "text": [
      "INFO:root:computing visibility of source at (ra: 267.428615, dec: 54.399194) from observatory uh88\n",
      "INFO:root:using visibility constraints:\n",
      "\t\t\t\t\t-Time resolution: 30.00 min\n",
      "\t\t\t\t\t-Airmass limit: 2.00\n",
      "\t\t\t\t\t-Sun altitude: -17.00 deg\n",
      "\t\t\t\t\t-Moon distance: 30.00 deg\n"
     ]
    },
    {
     "name": "stdout",
     "output_type": "stream",
     "text": [
      "  obj_id                objID          ra        dec  psfMag_u  psfMagerr_u  \\\n",
      "0  obj_0  1237667781239243377  221.376862  17.258205  22.96718     0.331418   \n",
      "\n",
      "   psfMag_g  psfMagerr_g  psfMag_r  psfMagerr_r  psfMag_i  psfMagerr_i  \\\n",
      "0  22.31122     0.084061  22.46005     0.144506  22.21444     0.189903   \n",
      "\n",
      "   psfMag_z  psfMagerr_z              obj_id1    type  \n",
      "0  21.97755     0.421574  1237667781239243377  GALAXY  \n",
      "Calculating visibility of source ZTF18abnvnqb (ra: 267.428615, dec: 54.399194) with uh88.\n"
     ]
    },
    {
     "name": "stderr",
     "output_type": "stream",
     "text": [
      "INFO:root:computed dark times (sun_alt: -17.00) between 2018-11-14 00:00:00.000 and 2018-11-27 23:30:00.000. Total of 147.00 hours of dark\n",
      "INFO:root:source is visible for a total of 2.500 hours. Took 1.28e+00 sec\n"
     ]
    },
    {
     "name": "stdout",
     "output_type": "stream",
     "text": [
      "Not enough visibility\n"
     ]
    },
    {
     "name": "stderr",
     "output_type": "stream",
     "text": [
      "INFO:root:computing visibility of source at (ra: 244.677973, dec: 40.072587) from observatory uh88\n",
      "INFO:root:using visibility constraints:\n",
      "\t\t\t\t\t-Time resolution: 30.00 min\n",
      "\t\t\t\t\t-Airmass limit: 2.00\n",
      "\t\t\t\t\t-Sun altitude: -17.00 deg\n",
      "\t\t\t\t\t-Moon distance: 30.00 deg\n"
     ]
    },
    {
     "name": "stdout",
     "output_type": "stream",
     "text": [
      "  obj_id                objID          ra       dec  psfMag_u  psfMagerr_u  \\\n",
      "0  obj_0  1237655747780936400  267.428958  54.39918  21.90213     0.167517   \n",
      "\n",
      "   psfMag_g  psfMagerr_g  psfMag_r  psfMagerr_r  psfMag_i  psfMagerr_i  \\\n",
      "0  20.77597     0.033228  20.72081     0.034287  20.51913     0.040581   \n",
      "\n",
      "   psfMag_z  psfMagerr_z              obj_id1    type  \n",
      "0  20.13737     0.128211  1237655747780936400  GALAXY  \n",
      "Calculating visibility of source ZTF18aaxmhvk (ra: 244.677973, dec: 40.072587) with uh88.\n"
     ]
    },
    {
     "name": "stderr",
     "output_type": "stream",
     "text": [
      "INFO:root:computed dark times (sun_alt: -17.00) between 2018-11-14 00:00:00.000 and 2018-11-27 23:30:00.000. Total of 147.00 hours of dark\n",
      "INFO:root:source is visible for a total of 0.000 hours. Took 1.27e+00 sec\n"
     ]
    },
    {
     "name": "stdout",
     "output_type": "stream",
     "text": [
      "Not enough visibility\n"
     ]
    },
    {
     "name": "stderr",
     "output_type": "stream",
     "text": [
      "INFO:root:computing visibility of source at (ra: 285.850228, dec: 51.736485) from observatory uh88\n",
      "INFO:root:using visibility constraints:\n",
      "\t\t\t\t\t-Time resolution: 30.00 min\n",
      "\t\t\t\t\t-Airmass limit: 2.00\n",
      "\t\t\t\t\t-Sun altitude: -17.00 deg\n",
      "\t\t\t\t\t-Moon distance: 30.00 deg\n"
     ]
    },
    {
     "name": "stdout",
     "output_type": "stream",
     "text": [
      "Empty DataFrame\n",
      "Columns: [obj_id, objID, ra, dec, psfMag_u, psfMagerr_u, psfMag_g, psfMagerr_g, psfMag_r, psfMagerr_r, psfMag_i, psfMagerr_i, psfMag_z, psfMagerr_z, obj_id1, type]\n",
      "Index: []\n",
      "Calculating visibility of source ZTF18abkxlcz (ra: 285.850228, dec: 51.736485) with uh88.\n"
     ]
    },
    {
     "name": "stderr",
     "output_type": "stream",
     "text": [
      "INFO:root:computed dark times (sun_alt: -17.00) between 2018-11-14 00:00:00.000 and 2018-11-27 23:30:00.000. Total of 147.00 hours of dark\n",
      "INFO:root:source is visible for a total of 19.000 hours. Took 1.34e+00 sec\n",
      "INFO:root:computing visibility of source at (ra: 274.031067, dec: 70.017944) from observatory uh88\n",
      "INFO:root:using visibility constraints:\n",
      "\t\t\t\t\t-Time resolution: 30.00 min\n",
      "\t\t\t\t\t-Airmass limit: 2.00\n",
      "\t\t\t\t\t-Sun altitude: -17.00 deg\n",
      "\t\t\t\t\t-Moon distance: 30.00 deg\n"
     ]
    },
    {
     "name": "stdout",
     "output_type": "stream",
     "text": [
      "Empty DataFrame\n",
      "Columns: [obj_id, objID, ra, dec, psfMag_u, psfMagerr_u, psfMag_g, psfMagerr_g, psfMag_r, psfMagerr_r, psfMag_i, psfMagerr_i, psfMag_z, psfMagerr_z, obj_id1, type]\n",
      "Index: []\n",
      "Calculating visibility of source ZTF18abokpvh (ra: 274.031067, dec: 70.017944) with uh88.\n"
     ]
    },
    {
     "name": "stderr",
     "output_type": "stream",
     "text": [
      "INFO:root:computed dark times (sun_alt: -17.00) between 2018-11-14 00:00:00.000 and 2018-11-27 23:30:00.000. Total of 147.00 hours of dark\n",
      "INFO:root:source is visible for a total of 2.000 hours. Took 1.24e+00 sec\n"
     ]
    },
    {
     "name": "stdout",
     "output_type": "stream",
     "text": [
      "Not enough visibility\n"
     ]
    },
    {
     "name": "stderr",
     "output_type": "stream",
     "text": [
      "INFO:root:computing visibility of source at (ra: 41.029667, dec: 37.524294) from observatory uh88\n",
      "INFO:root:using visibility constraints:\n",
      "\t\t\t\t\t-Time resolution: 30.00 min\n",
      "\t\t\t\t\t-Airmass limit: 2.00\n",
      "\t\t\t\t\t-Sun altitude: -17.00 deg\n",
      "\t\t\t\t\t-Moon distance: 30.00 deg\n"
     ]
    },
    {
     "name": "stdout",
     "output_type": "stream",
     "text": [
      "Empty DataFrame\n",
      "Columns: [obj_id, objID, ra, dec, psfMag_u, psfMagerr_u, psfMag_g, psfMagerr_g, psfMag_r, psfMagerr_r, psfMag_i, psfMagerr_i, psfMag_z, psfMagerr_z, obj_id1, type]\n",
      "Index: []\n",
      "Calculating visibility of source ZTF18abnzocn (ra: 41.029667, dec: 37.524294) with uh88.\n"
     ]
    },
    {
     "name": "stderr",
     "output_type": "stream",
     "text": [
      "INFO:root:computed dark times (sun_alt: -17.00) between 2018-11-14 00:00:00.000 and 2018-11-27 23:30:00.000. Total of 147.00 hours of dark\n",
      "INFO:root:Too close the the moon.\n",
      "INFO:root:source is visible for a total of 103.000 hours. Took 1.25e+00 sec\n",
      "INFO:root:computing visibility of source at (ra: 242.676738, dec: 42.594065) from observatory uh88\n",
      "INFO:root:using visibility constraints:\n",
      "\t\t\t\t\t-Time resolution: 30.00 min\n",
      "\t\t\t\t\t-Airmass limit: 2.00\n",
      "\t\t\t\t\t-Sun altitude: -17.00 deg\n",
      "\t\t\t\t\t-Moon distance: 30.00 deg\n"
     ]
    },
    {
     "name": "stdout",
     "output_type": "stream",
     "text": [
      "Empty DataFrame\n",
      "Columns: [obj_id, objID, ra, dec, psfMag_u, psfMagerr_u, psfMag_g, psfMagerr_g, psfMag_r, psfMagerr_r, psfMag_i, psfMagerr_i, psfMag_z, psfMagerr_z, obj_id1, type]\n",
      "Index: []\n",
      "Calculating visibility of source ZTF18aboaeqy (ra: 242.676738, dec: 42.594065) with uh88.\n"
     ]
    },
    {
     "name": "stderr",
     "output_type": "stream",
     "text": [
      "INFO:root:computed dark times (sun_alt: -17.00) between 2018-11-14 00:00:00.000 and 2018-11-27 23:30:00.000. Total of 147.00 hours of dark\n",
      "INFO:root:source is visible for a total of 0.000 hours. Took 1.26e+00 sec\n"
     ]
    },
    {
     "name": "stdout",
     "output_type": "stream",
     "text": [
      "Not enough visibility\n"
     ]
    },
    {
     "name": "stderr",
     "output_type": "stream",
     "text": [
      "INFO:root:computing visibility of source at (ra: 293.416678, dec: 39.389274) from observatory uh88\n",
      "INFO:root:using visibility constraints:\n",
      "\t\t\t\t\t-Time resolution: 30.00 min\n",
      "\t\t\t\t\t-Airmass limit: 2.00\n",
      "\t\t\t\t\t-Sun altitude: -17.00 deg\n",
      "\t\t\t\t\t-Moon distance: 30.00 deg\n"
     ]
    },
    {
     "name": "stdout",
     "output_type": "stream",
     "text": [
      "  obj_id                objID          ra        dec  psfMag_u  psfMagerr_u  \\\n",
      "0  obj_0  1237659325490528445  242.676306  42.594039  21.67613     0.104825   \n",
      "\n",
      "   psfMag_g  psfMagerr_g  psfMag_r  psfMagerr_r  psfMag_i  psfMagerr_i  \\\n",
      "0  20.38692     0.025013  20.13291     0.022521  19.93281     0.026748   \n",
      "\n",
      "   psfMag_z  psfMagerr_z              obj_id1    type  \n",
      "0  19.77038     0.074336  1237659325490528445  GALAXY  \n",
      "Calculating visibility of source ZTF18abnucig (ra: 293.416678, dec: 39.389274) with uh88.\n"
     ]
    },
    {
     "name": "stderr",
     "output_type": "stream",
     "text": [
      "INFO:root:computed dark times (sun_alt: -17.00) between 2018-11-14 00:00:00.000 and 2018-11-27 23:30:00.000. Total of 147.00 hours of dark\n",
      "INFO:root:source is visible for a total of 26.000 hours. Took 1.21e+00 sec\n",
      "INFO:root:computing visibility of source at (ra: 321.832342, dec: 15.776696) from observatory uh88\n",
      "INFO:root:using visibility constraints:\n",
      "\t\t\t\t\t-Time resolution: 30.00 min\n",
      "\t\t\t\t\t-Airmass limit: 2.00\n",
      "\t\t\t\t\t-Sun altitude: -17.00 deg\n",
      "\t\t\t\t\t-Moon distance: 30.00 deg\n"
     ]
    },
    {
     "name": "stdout",
     "output_type": "stream",
     "text": [
      "Empty DataFrame\n",
      "Columns: [obj_id, objID, ra, dec, psfMag_u, psfMagerr_u, psfMag_g, psfMagerr_g, psfMag_r, psfMagerr_r, psfMag_i, psfMagerr_i, psfMag_z, psfMagerr_z, obj_id1, type]\n",
      "Index: []\n",
      "Calculating visibility of source ZTF18abmaewl (ra: 321.832342, dec: 15.776696) with uh88.\n"
     ]
    },
    {
     "name": "stderr",
     "output_type": "stream",
     "text": [
      "INFO:root:computed dark times (sun_alt: -17.00) between 2018-11-14 00:00:00.000 and 2018-11-27 23:30:00.000. Total of 147.00 hours of dark\n",
      "INFO:root:source is visible for a total of 48.500 hours. Took 1.89e+00 sec\n",
      "INFO:root:computing visibility of source at (ra: 331.736574, dec: 51.407243) from observatory uh88\n",
      "INFO:root:using visibility constraints:\n",
      "\t\t\t\t\t-Time resolution: 30.00 min\n",
      "\t\t\t\t\t-Airmass limit: 2.00\n",
      "\t\t\t\t\t-Sun altitude: -17.00 deg\n",
      "\t\t\t\t\t-Moon distance: 30.00 deg\n"
     ]
    },
    {
     "name": "stdout",
     "output_type": "stream",
     "text": [
      "Empty DataFrame\n",
      "Columns: [obj_id, objID, ra, dec, psfMag_u, psfMagerr_u, psfMag_g, psfMagerr_g, psfMag_r, psfMagerr_r, psfMag_i, psfMagerr_i, psfMag_z, psfMagerr_z, obj_id1, type]\n",
      "Index: []\n",
      "Calculating visibility of source ZTF18abmjcbs (ra: 331.736574, dec: 51.407243) with uh88.\n"
     ]
    },
    {
     "name": "stderr",
     "output_type": "stream",
     "text": [
      "INFO:root:computed dark times (sun_alt: -17.00) between 2018-11-14 00:00:00.000 and 2018-11-27 23:30:00.000. Total of 147.00 hours of dark\n",
      "INFO:root:source is visible for a total of 61.500 hours. Took 1.30e+00 sec\n",
      "INFO:root:computing visibility of source at (ra: 336.903357, dec: 22.895312) from observatory uh88\n",
      "INFO:root:using visibility constraints:\n",
      "\t\t\t\t\t-Time resolution: 30.00 min\n",
      "\t\t\t\t\t-Airmass limit: 2.00\n",
      "\t\t\t\t\t-Sun altitude: -17.00 deg\n",
      "\t\t\t\t\t-Moon distance: 30.00 deg\n"
     ]
    },
    {
     "name": "stdout",
     "output_type": "stream",
     "text": [
      "Empty DataFrame\n",
      "Columns: [obj_id, objID, ra, dec, psfMag_u, psfMagerr_u, psfMag_g, psfMagerr_g, psfMag_r, psfMagerr_r, psfMag_i, psfMagerr_i, psfMag_z, psfMagerr_z, obj_id1, type]\n",
      "Index: []\n",
      "Calculating visibility of source ZTF18abncimo (ra: 336.903357, dec: 22.895312) with uh88.\n"
     ]
    },
    {
     "name": "stderr",
     "output_type": "stream",
     "text": [
      "INFO:root:computed dark times (sun_alt: -17.00) between 2018-11-14 00:00:00.000 and 2018-11-27 23:30:00.000. Total of 147.00 hours of dark\n",
      "INFO:root:source is visible for a total of 64.500 hours. Took 1.22e+00 sec\n",
      "INFO:root:computing visibility of source at (ra: 260.814018, dec: 77.844896) from observatory uh88\n",
      "INFO:root:using visibility constraints:\n",
      "\t\t\t\t\t-Time resolution: 30.00 min\n",
      "\t\t\t\t\t-Airmass limit: 2.00\n",
      "\t\t\t\t\t-Sun altitude: -17.00 deg\n",
      "\t\t\t\t\t-Moon distance: 30.00 deg\n"
     ]
    },
    {
     "name": "stdout",
     "output_type": "stream",
     "text": [
      "  obj_id                objID          ra        dec  psfMag_u  psfMagerr_u  \\\n",
      "0  obj_0  1237666245757632653  336.903622  22.895237  18.32403     0.018857   \n",
      "\n",
      "   psfMag_g  psfMagerr_g  psfMag_r  psfMagerr_r  psfMag_i  psfMagerr_i  \\\n",
      "0  17.20518     0.024683  16.69598     0.027913  16.19971     0.048287   \n",
      "\n",
      "   psfMag_z  psfMagerr_z              obj_id1    type  \n",
      "0  16.06636     0.038829  1237666245757632653  GALAXY  \n",
      "Calculating visibility of source ZTF18abnvoel (ra: 260.814018, dec: 77.844896) with uh88.\n"
     ]
    },
    {
     "name": "stderr",
     "output_type": "stream",
     "text": [
      "INFO:root:computed dark times (sun_alt: -17.00) between 2018-11-14 00:00:00.000 and 2018-11-27 23:30:00.000. Total of 147.00 hours of dark\n",
      "INFO:root:source is visible for a total of 0.000 hours. Took 1.64e+00 sec\n"
     ]
    },
    {
     "name": "stdout",
     "output_type": "stream",
     "text": [
      "Not enough visibility\n"
     ]
    },
    {
     "name": "stderr",
     "output_type": "stream",
     "text": [
      "INFO:root:computing visibility of source at (ra: 328.500035, dec: 8.114686) from observatory uh88\n",
      "INFO:root:using visibility constraints:\n",
      "\t\t\t\t\t-Time resolution: 30.00 min\n",
      "\t\t\t\t\t-Airmass limit: 2.00\n",
      "\t\t\t\t\t-Sun altitude: -17.00 deg\n",
      "\t\t\t\t\t-Moon distance: 30.00 deg\n"
     ]
    },
    {
     "name": "stdout",
     "output_type": "stream",
     "text": [
      "  obj_id                objID          ra        dec  psfMag_u  psfMagerr_u  \\\n",
      "0  obj_0  1237663229605314606  260.812335  77.844025  21.00296      0.12504   \n",
      "\n",
      "   psfMag_g  psfMagerr_g  psfMag_r  psfMagerr_r  psfMag_i  psfMagerr_i  \\\n",
      "0  20.01774     0.123662  19.36283     1.877244  19.13125     2.345592   \n",
      "\n",
      "   psfMag_z  psfMagerr_z              obj_id1    type  \n",
      "0  19.15657     0.061756  1237663229605314606  GALAXY  \n",
      "Calculating visibility of source ZTF18abnygkb (ra: 328.500035, dec: 8.114686) with uh88.\n"
     ]
    },
    {
     "name": "stderr",
     "output_type": "stream",
     "text": [
      "INFO:root:computed dark times (sun_alt: -17.00) between 2018-11-14 00:00:00.000 and 2018-11-27 23:30:00.000. Total of 147.00 hours of dark\n",
      "INFO:root:Too close the the moon.\n",
      "INFO:root:source is visible for a total of 40.500 hours. Took 2.16e+00 sec\n",
      "INFO:root:computing visibility of source at (ra: 277.889386, dec: 49.816094) from observatory uh88\n",
      "INFO:root:using visibility constraints:\n",
      "\t\t\t\t\t-Time resolution: 30.00 min\n",
      "\t\t\t\t\t-Airmass limit: 2.00\n",
      "\t\t\t\t\t-Sun altitude: -17.00 deg\n",
      "\t\t\t\t\t-Moon distance: 30.00 deg\n"
     ]
    },
    {
     "name": "stdout",
     "output_type": "stream",
     "text": [
      "  obj_id                objID          ra       dec  psfMag_u  psfMagerr_u  \\\n",
      "0  obj_0  1237678846647206564  328.500085  8.115032  21.00941     0.068742   \n",
      "\n",
      "   psfMag_g  psfMagerr_g  psfMag_r  psfMagerr_r  psfMag_i  psfMagerr_i  \\\n",
      "0  18.97706     0.014996  18.20893     0.015605  17.84205      0.02386   \n",
      "\n",
      "   psfMag_z  psfMagerr_z              obj_id1    type  \n",
      "0   17.4853     0.021737  1237678846647206564  GALAXY  \n",
      "Calculating visibility of source ZTF18abpaywm (ra: 277.889386, dec: 49.816094) with uh88.\n"
     ]
    },
    {
     "name": "stderr",
     "output_type": "stream",
     "text": [
      "INFO:root:computed dark times (sun_alt: -17.00) between 2018-11-14 00:00:00.000 and 2018-11-27 23:30:00.000. Total of 147.00 hours of dark\n",
      "INFO:root:source is visible for a total of 11.500 hours. Took 1.86e+00 sec\n"
     ]
    },
    {
     "ename": "ReadTimeout",
     "evalue": "HTTPConnectionPool(host='skyserver.sdss.org', port=80): Read timed out. (read timeout=60)",
     "output_type": "error",
     "traceback": [
      "\u001b[0;31m---------------------------------------------------------------------------\u001b[0m",
      "\u001b[0;31mtimeout\u001b[0m                                   Traceback (most recent call last)",
      "\u001b[0;32m~/local/miniconda2/envs/py36/lib/python3.6/site-packages/urllib3/connectionpool.py\u001b[0m in \u001b[0;36m_make_request\u001b[0;34m(self, conn, method, url, timeout, chunked, **httplib_request_kw)\u001b[0m\n\u001b[1;32m    386\u001b[0m                     \u001b[0;31m# otherwise it looks like a programming error was the cause.\u001b[0m\u001b[0;34m\u001b[0m\u001b[0;34m\u001b[0m\u001b[0m\n\u001b[0;32m--> 387\u001b[0;31m                     \u001b[0msix\u001b[0m\u001b[0;34m.\u001b[0m\u001b[0mraise_from\u001b[0m\u001b[0;34m(\u001b[0m\u001b[0me\u001b[0m\u001b[0;34m,\u001b[0m \u001b[0;32mNone\u001b[0m\u001b[0;34m)\u001b[0m\u001b[0;34m\u001b[0m\u001b[0m\n\u001b[0m\u001b[1;32m    388\u001b[0m         \u001b[0;32mexcept\u001b[0m \u001b[0;34m(\u001b[0m\u001b[0mSocketTimeout\u001b[0m\u001b[0;34m,\u001b[0m \u001b[0mBaseSSLError\u001b[0m\u001b[0;34m,\u001b[0m \u001b[0mSocketError\u001b[0m\u001b[0;34m)\u001b[0m \u001b[0;32mas\u001b[0m \u001b[0me\u001b[0m\u001b[0;34m:\u001b[0m\u001b[0;34m\u001b[0m\u001b[0m\n",
      "\u001b[0;32m~/local/miniconda2/envs/py36/lib/python3.6/site-packages/urllib3/packages/six.py\u001b[0m in \u001b[0;36mraise_from\u001b[0;34m(value, from_value)\u001b[0m\n",
      "\u001b[0;32m~/local/miniconda2/envs/py36/lib/python3.6/site-packages/urllib3/connectionpool.py\u001b[0m in \u001b[0;36m_make_request\u001b[0;34m(self, conn, method, url, timeout, chunked, **httplib_request_kw)\u001b[0m\n\u001b[1;32m    382\u001b[0m                 \u001b[0;32mtry\u001b[0m\u001b[0;34m:\u001b[0m\u001b[0;34m\u001b[0m\u001b[0m\n\u001b[0;32m--> 383\u001b[0;31m                     \u001b[0mhttplib_response\u001b[0m \u001b[0;34m=\u001b[0m \u001b[0mconn\u001b[0m\u001b[0;34m.\u001b[0m\u001b[0mgetresponse\u001b[0m\u001b[0;34m(\u001b[0m\u001b[0;34m)\u001b[0m\u001b[0;34m\u001b[0m\u001b[0m\n\u001b[0m\u001b[1;32m    384\u001b[0m                 \u001b[0;32mexcept\u001b[0m \u001b[0mException\u001b[0m \u001b[0;32mas\u001b[0m \u001b[0me\u001b[0m\u001b[0;34m:\u001b[0m\u001b[0;34m\u001b[0m\u001b[0m\n",
      "\u001b[0;32m~/local/miniconda2/envs/py36/lib/python3.6/http/client.py\u001b[0m in \u001b[0;36mgetresponse\u001b[0;34m(self)\u001b[0m\n\u001b[1;32m   1330\u001b[0m             \u001b[0;32mtry\u001b[0m\u001b[0;34m:\u001b[0m\u001b[0;34m\u001b[0m\u001b[0m\n\u001b[0;32m-> 1331\u001b[0;31m                 \u001b[0mresponse\u001b[0m\u001b[0;34m.\u001b[0m\u001b[0mbegin\u001b[0m\u001b[0;34m(\u001b[0m\u001b[0;34m)\u001b[0m\u001b[0;34m\u001b[0m\u001b[0m\n\u001b[0m\u001b[1;32m   1332\u001b[0m             \u001b[0;32mexcept\u001b[0m \u001b[0mConnectionError\u001b[0m\u001b[0;34m:\u001b[0m\u001b[0;34m\u001b[0m\u001b[0m\n",
      "\u001b[0;32m~/local/miniconda2/envs/py36/lib/python3.6/http/client.py\u001b[0m in \u001b[0;36mbegin\u001b[0;34m(self)\u001b[0m\n\u001b[1;32m    296\u001b[0m         \u001b[0;32mwhile\u001b[0m \u001b[0;32mTrue\u001b[0m\u001b[0;34m:\u001b[0m\u001b[0;34m\u001b[0m\u001b[0m\n\u001b[0;32m--> 297\u001b[0;31m             \u001b[0mversion\u001b[0m\u001b[0;34m,\u001b[0m \u001b[0mstatus\u001b[0m\u001b[0;34m,\u001b[0m \u001b[0mreason\u001b[0m \u001b[0;34m=\u001b[0m \u001b[0mself\u001b[0m\u001b[0;34m.\u001b[0m\u001b[0m_read_status\u001b[0m\u001b[0;34m(\u001b[0m\u001b[0;34m)\u001b[0m\u001b[0;34m\u001b[0m\u001b[0m\n\u001b[0m\u001b[1;32m    298\u001b[0m             \u001b[0;32mif\u001b[0m \u001b[0mstatus\u001b[0m \u001b[0;34m!=\u001b[0m \u001b[0mCONTINUE\u001b[0m\u001b[0;34m:\u001b[0m\u001b[0;34m\u001b[0m\u001b[0m\n",
      "\u001b[0;32m~/local/miniconda2/envs/py36/lib/python3.6/http/client.py\u001b[0m in \u001b[0;36m_read_status\u001b[0;34m(self)\u001b[0m\n\u001b[1;32m    257\u001b[0m     \u001b[0;32mdef\u001b[0m \u001b[0m_read_status\u001b[0m\u001b[0;34m(\u001b[0m\u001b[0mself\u001b[0m\u001b[0;34m)\u001b[0m\u001b[0;34m:\u001b[0m\u001b[0;34m\u001b[0m\u001b[0m\n\u001b[0;32m--> 258\u001b[0;31m         \u001b[0mline\u001b[0m \u001b[0;34m=\u001b[0m \u001b[0mstr\u001b[0m\u001b[0;34m(\u001b[0m\u001b[0mself\u001b[0m\u001b[0;34m.\u001b[0m\u001b[0mfp\u001b[0m\u001b[0;34m.\u001b[0m\u001b[0mreadline\u001b[0m\u001b[0;34m(\u001b[0m\u001b[0m_MAXLINE\u001b[0m \u001b[0;34m+\u001b[0m \u001b[0;36m1\u001b[0m\u001b[0;34m)\u001b[0m\u001b[0;34m,\u001b[0m \u001b[0;34m\"iso-8859-1\"\u001b[0m\u001b[0;34m)\u001b[0m\u001b[0;34m\u001b[0m\u001b[0m\n\u001b[0m\u001b[1;32m    259\u001b[0m         \u001b[0;32mif\u001b[0m \u001b[0mlen\u001b[0m\u001b[0;34m(\u001b[0m\u001b[0mline\u001b[0m\u001b[0;34m)\u001b[0m \u001b[0;34m>\u001b[0m \u001b[0m_MAXLINE\u001b[0m\u001b[0;34m:\u001b[0m\u001b[0;34m\u001b[0m\u001b[0m\n",
      "\u001b[0;32m~/local/miniconda2/envs/py36/lib/python3.6/socket.py\u001b[0m in \u001b[0;36mreadinto\u001b[0;34m(self, b)\u001b[0m\n\u001b[1;32m    585\u001b[0m             \u001b[0;32mtry\u001b[0m\u001b[0;34m:\u001b[0m\u001b[0;34m\u001b[0m\u001b[0m\n\u001b[0;32m--> 586\u001b[0;31m                 \u001b[0;32mreturn\u001b[0m \u001b[0mself\u001b[0m\u001b[0;34m.\u001b[0m\u001b[0m_sock\u001b[0m\u001b[0;34m.\u001b[0m\u001b[0mrecv_into\u001b[0m\u001b[0;34m(\u001b[0m\u001b[0mb\u001b[0m\u001b[0;34m)\u001b[0m\u001b[0;34m\u001b[0m\u001b[0m\n\u001b[0m\u001b[1;32m    587\u001b[0m             \u001b[0;32mexcept\u001b[0m \u001b[0mtimeout\u001b[0m\u001b[0;34m:\u001b[0m\u001b[0;34m\u001b[0m\u001b[0m\n",
      "\u001b[0;31mtimeout\u001b[0m: timed out",
      "\nDuring handling of the above exception, another exception occurred:\n",
      "\u001b[0;31mReadTimeoutError\u001b[0m                          Traceback (most recent call last)",
      "\u001b[0;32m~/local/miniconda2/envs/py36/lib/python3.6/site-packages/requests/adapters.py\u001b[0m in \u001b[0;36msend\u001b[0;34m(self, request, stream, timeout, verify, cert, proxies)\u001b[0m\n\u001b[1;32m    439\u001b[0m                     \u001b[0mretries\u001b[0m\u001b[0;34m=\u001b[0m\u001b[0mself\u001b[0m\u001b[0;34m.\u001b[0m\u001b[0mmax_retries\u001b[0m\u001b[0;34m,\u001b[0m\u001b[0;34m\u001b[0m\u001b[0m\n\u001b[0;32m--> 440\u001b[0;31m                     \u001b[0mtimeout\u001b[0m\u001b[0;34m=\u001b[0m\u001b[0mtimeout\u001b[0m\u001b[0;34m\u001b[0m\u001b[0m\n\u001b[0m\u001b[1;32m    441\u001b[0m                 )\n",
      "\u001b[0;32m~/local/miniconda2/envs/py36/lib/python3.6/site-packages/urllib3/connectionpool.py\u001b[0m in \u001b[0;36murlopen\u001b[0;34m(self, method, url, body, headers, retries, redirect, assert_same_host, timeout, pool_timeout, release_conn, chunked, body_pos, **response_kw)\u001b[0m\n\u001b[1;32m    638\u001b[0m             retries = retries.increment(method, url, error=e, _pool=self,\n\u001b[0;32m--> 639\u001b[0;31m                                         _stacktrace=sys.exc_info()[2])\n\u001b[0m\u001b[1;32m    640\u001b[0m             \u001b[0mretries\u001b[0m\u001b[0;34m.\u001b[0m\u001b[0msleep\u001b[0m\u001b[0;34m(\u001b[0m\u001b[0;34m)\u001b[0m\u001b[0;34m\u001b[0m\u001b[0m\n",
      "\u001b[0;32m~/local/miniconda2/envs/py36/lib/python3.6/site-packages/urllib3/util/retry.py\u001b[0m in \u001b[0;36mincrement\u001b[0;34m(self, method, url, response, error, _pool, _stacktrace)\u001b[0m\n\u001b[1;32m    356\u001b[0m             \u001b[0;32mif\u001b[0m \u001b[0mread\u001b[0m \u001b[0;32mis\u001b[0m \u001b[0;32mFalse\u001b[0m \u001b[0;32mor\u001b[0m \u001b[0;32mnot\u001b[0m \u001b[0mself\u001b[0m\u001b[0;34m.\u001b[0m\u001b[0m_is_method_retryable\u001b[0m\u001b[0;34m(\u001b[0m\u001b[0mmethod\u001b[0m\u001b[0;34m)\u001b[0m\u001b[0;34m:\u001b[0m\u001b[0;34m\u001b[0m\u001b[0m\n\u001b[0;32m--> 357\u001b[0;31m                 \u001b[0;32mraise\u001b[0m \u001b[0msix\u001b[0m\u001b[0;34m.\u001b[0m\u001b[0mreraise\u001b[0m\u001b[0;34m(\u001b[0m\u001b[0mtype\u001b[0m\u001b[0;34m(\u001b[0m\u001b[0merror\u001b[0m\u001b[0;34m)\u001b[0m\u001b[0;34m,\u001b[0m \u001b[0merror\u001b[0m\u001b[0;34m,\u001b[0m \u001b[0m_stacktrace\u001b[0m\u001b[0;34m)\u001b[0m\u001b[0;34m\u001b[0m\u001b[0m\n\u001b[0m\u001b[1;32m    358\u001b[0m             \u001b[0;32melif\u001b[0m \u001b[0mread\u001b[0m \u001b[0;32mis\u001b[0m \u001b[0;32mnot\u001b[0m \u001b[0;32mNone\u001b[0m\u001b[0;34m:\u001b[0m\u001b[0;34m\u001b[0m\u001b[0m\n",
      "\u001b[0;32m~/local/miniconda2/envs/py36/lib/python3.6/site-packages/urllib3/packages/six.py\u001b[0m in \u001b[0;36mreraise\u001b[0;34m(tp, value, tb)\u001b[0m\n\u001b[1;32m    685\u001b[0m             \u001b[0;32mraise\u001b[0m \u001b[0mvalue\u001b[0m\u001b[0;34m.\u001b[0m\u001b[0mwith_traceback\u001b[0m\u001b[0;34m(\u001b[0m\u001b[0mtb\u001b[0m\u001b[0;34m)\u001b[0m\u001b[0;34m\u001b[0m\u001b[0m\n\u001b[0;32m--> 686\u001b[0;31m         \u001b[0;32mraise\u001b[0m \u001b[0mvalue\u001b[0m\u001b[0;34m\u001b[0m\u001b[0m\n\u001b[0m\u001b[1;32m    687\u001b[0m \u001b[0;34m\u001b[0m\u001b[0m\n",
      "\u001b[0;32m~/local/miniconda2/envs/py36/lib/python3.6/site-packages/urllib3/connectionpool.py\u001b[0m in \u001b[0;36murlopen\u001b[0;34m(self, method, url, body, headers, retries, redirect, assert_same_host, timeout, pool_timeout, release_conn, chunked, body_pos, **response_kw)\u001b[0m\n\u001b[1;32m    600\u001b[0m                                                   \u001b[0mbody\u001b[0m\u001b[0;34m=\u001b[0m\u001b[0mbody\u001b[0m\u001b[0;34m,\u001b[0m \u001b[0mheaders\u001b[0m\u001b[0;34m=\u001b[0m\u001b[0mheaders\u001b[0m\u001b[0;34m,\u001b[0m\u001b[0;34m\u001b[0m\u001b[0m\n\u001b[0;32m--> 601\u001b[0;31m                                                   chunked=chunked)\n\u001b[0m\u001b[1;32m    602\u001b[0m \u001b[0;34m\u001b[0m\u001b[0m\n",
      "\u001b[0;32m~/local/miniconda2/envs/py36/lib/python3.6/site-packages/urllib3/connectionpool.py\u001b[0m in \u001b[0;36m_make_request\u001b[0;34m(self, conn, method, url, timeout, chunked, **httplib_request_kw)\u001b[0m\n\u001b[1;32m    388\u001b[0m         \u001b[0;32mexcept\u001b[0m \u001b[0;34m(\u001b[0m\u001b[0mSocketTimeout\u001b[0m\u001b[0;34m,\u001b[0m \u001b[0mBaseSSLError\u001b[0m\u001b[0;34m,\u001b[0m \u001b[0mSocketError\u001b[0m\u001b[0;34m)\u001b[0m \u001b[0;32mas\u001b[0m \u001b[0me\u001b[0m\u001b[0;34m:\u001b[0m\u001b[0;34m\u001b[0m\u001b[0m\n\u001b[0;32m--> 389\u001b[0;31m             \u001b[0mself\u001b[0m\u001b[0;34m.\u001b[0m\u001b[0m_raise_timeout\u001b[0m\u001b[0;34m(\u001b[0m\u001b[0merr\u001b[0m\u001b[0;34m=\u001b[0m\u001b[0me\u001b[0m\u001b[0;34m,\u001b[0m \u001b[0murl\u001b[0m\u001b[0;34m=\u001b[0m\u001b[0murl\u001b[0m\u001b[0;34m,\u001b[0m \u001b[0mtimeout_value\u001b[0m\u001b[0;34m=\u001b[0m\u001b[0mread_timeout\u001b[0m\u001b[0;34m)\u001b[0m\u001b[0;34m\u001b[0m\u001b[0m\n\u001b[0m\u001b[1;32m    390\u001b[0m             \u001b[0;32mraise\u001b[0m\u001b[0;34m\u001b[0m\u001b[0m\n",
      "\u001b[0;32m~/local/miniconda2/envs/py36/lib/python3.6/site-packages/urllib3/connectionpool.py\u001b[0m in \u001b[0;36m_raise_timeout\u001b[0;34m(self, err, url, timeout_value)\u001b[0m\n\u001b[1;32m    308\u001b[0m         \u001b[0;32mif\u001b[0m \u001b[0misinstance\u001b[0m\u001b[0;34m(\u001b[0m\u001b[0merr\u001b[0m\u001b[0;34m,\u001b[0m \u001b[0mSocketTimeout\u001b[0m\u001b[0;34m)\u001b[0m\u001b[0;34m:\u001b[0m\u001b[0;34m\u001b[0m\u001b[0m\n\u001b[0;32m--> 309\u001b[0;31m             \u001b[0;32mraise\u001b[0m \u001b[0mReadTimeoutError\u001b[0m\u001b[0;34m(\u001b[0m\u001b[0mself\u001b[0m\u001b[0;34m,\u001b[0m \u001b[0murl\u001b[0m\u001b[0;34m,\u001b[0m \u001b[0;34m\"Read timed out. (read timeout=%s)\"\u001b[0m \u001b[0;34m%\u001b[0m \u001b[0mtimeout_value\u001b[0m\u001b[0;34m)\u001b[0m\u001b[0;34m\u001b[0m\u001b[0m\n\u001b[0m\u001b[1;32m    310\u001b[0m \u001b[0;34m\u001b[0m\u001b[0m\n",
      "\u001b[0;31mReadTimeoutError\u001b[0m: HTTPConnectionPool(host='skyserver.sdss.org', port=80): Read timed out. (read timeout=60)",
      "\nDuring handling of the above exception, another exception occurred:\n",
      "\u001b[0;31mReadTimeout\u001b[0m                               Traceback (most recent call last)",
      "\u001b[0;32m<ipython-input-100-309be5129c32>\u001b[0m in \u001b[0;36m<module>\u001b[0;34m()\u001b[0m\n\u001b[1;32m     14\u001b[0m     \u001b[0;31m# Explore SDSS query - should do for the full sample\u001b[0m\u001b[0;34m\u001b[0m\u001b[0;34m\u001b[0m\u001b[0m\n\u001b[1;32m     15\u001b[0m     \u001b[0mpos\u001b[0m \u001b[0;34m=\u001b[0m \u001b[0mSkyCoord\u001b[0m\u001b[0;34m(\u001b[0m\u001b[0mra\u001b[0m\u001b[0;34m,\u001b[0m\u001b[0mdec\u001b[0m\u001b[0;34m,\u001b[0m \u001b[0mframe\u001b[0m\u001b[0;34m=\u001b[0m\u001b[0;34m'icrs'\u001b[0m\u001b[0;34m,\u001b[0m \u001b[0munit\u001b[0m\u001b[0;34m=\u001b[0m\u001b[0;34m\"deg\"\u001b[0m\u001b[0;34m)\u001b[0m\u001b[0;34m\u001b[0m\u001b[0m\n\u001b[0;32m---> 16\u001b[0;31m     \u001b[0mresponse\u001b[0m \u001b[0;34m=\u001b[0m \u001b[0mSDSS\u001b[0m\u001b[0;34m.\u001b[0m\u001b[0mquery_crossid_async\u001b[0m\u001b[0;34m(\u001b[0m\u001b[0mpos\u001b[0m\u001b[0;34m)\u001b[0m\u001b[0;34m\u001b[0m\u001b[0m\n\u001b[0m\u001b[1;32m     17\u001b[0m     \u001b[0msdsstab\u001b[0m \u001b[0;34m=\u001b[0m \u001b[0mpd\u001b[0m\u001b[0;34m.\u001b[0m\u001b[0mread_table\u001b[0m\u001b[0;34m(\u001b[0m\u001b[0mStringIO\u001b[0m\u001b[0;34m(\u001b[0m\u001b[0mresponse\u001b[0m\u001b[0;34m.\u001b[0m\u001b[0mtext\u001b[0m\u001b[0;34m)\u001b[0m\u001b[0;34m,\u001b[0m\u001b[0msep\u001b[0m\u001b[0;34m=\u001b[0m\u001b[0;34m','\u001b[0m\u001b[0;34m,\u001b[0m\u001b[0mheader\u001b[0m\u001b[0;34m=\u001b[0m\u001b[0;36m1\u001b[0m\u001b[0;34m)\u001b[0m\u001b[0;34m\u001b[0m\u001b[0m\n\u001b[1;32m     18\u001b[0m     \u001b[0mprint\u001b[0m\u001b[0;34m(\u001b[0m\u001b[0msdsstab\u001b[0m\u001b[0;34m)\u001b[0m\u001b[0;34m\u001b[0m\u001b[0m\n",
      "\u001b[0;32m~/local/miniconda2/envs/py36/lib/python3.6/site-packages/astroquery/sdss/core.py\u001b[0m in \u001b[0;36mquery_crossid_async\u001b[0;34m(self, coordinates, obj_names, photoobj_fields, specobj_fields, get_query_payload, timeout, radius, data_release, cache)\u001b[0m\n\u001b[1;32m    166\u001b[0m         \u001b[0murl\u001b[0m \u001b[0;34m=\u001b[0m \u001b[0mself\u001b[0m\u001b[0;34m.\u001b[0m\u001b[0m_get_crossid_url\u001b[0m\u001b[0;34m(\u001b[0m\u001b[0mdata_release\u001b[0m\u001b[0;34m)\u001b[0m\u001b[0;34m\u001b[0m\u001b[0m\n\u001b[1;32m    167\u001b[0m         response = self._request(\"POST\", url, params=request_payload,\n\u001b[0;32m--> 168\u001b[0;31m                                  timeout=timeout, cache=cache)\n\u001b[0m\u001b[1;32m    169\u001b[0m         \u001b[0;32mreturn\u001b[0m \u001b[0mresponse\u001b[0m\u001b[0;34m\u001b[0m\u001b[0m\n\u001b[1;32m    170\u001b[0m \u001b[0;34m\u001b[0m\u001b[0m\n",
      "\u001b[0;32m~/local/miniconda2/envs/py36/lib/python3.6/site-packages/astroquery/query.py\u001b[0m in \u001b[0;36m_request\u001b[0;34m(self, method, url, params, data, headers, files, save, savedir, timeout, cache, stream, auth, continuation, verify)\u001b[0m\n\u001b[1;32m    203\u001b[0m                                              \u001b[0mstream\u001b[0m\u001b[0;34m=\u001b[0m\u001b[0mstream\u001b[0m\u001b[0;34m,\u001b[0m\u001b[0;34m\u001b[0m\u001b[0m\n\u001b[1;32m    204\u001b[0m                                              \u001b[0mauth\u001b[0m\u001b[0;34m=\u001b[0m\u001b[0mauth\u001b[0m\u001b[0;34m,\u001b[0m\u001b[0;34m\u001b[0m\u001b[0m\n\u001b[0;32m--> 205\u001b[0;31m                                              verify=verify)\n\u001b[0m\u001b[1;32m    206\u001b[0m                     \u001b[0mto_cache\u001b[0m\u001b[0;34m(\u001b[0m\u001b[0mresponse\u001b[0m\u001b[0;34m,\u001b[0m \u001b[0mquery\u001b[0m\u001b[0;34m.\u001b[0m\u001b[0mrequest_file\u001b[0m\u001b[0;34m(\u001b[0m\u001b[0mself\u001b[0m\u001b[0;34m.\u001b[0m\u001b[0mcache_location\u001b[0m\u001b[0;34m)\u001b[0m\u001b[0;34m)\u001b[0m\u001b[0;34m\u001b[0m\u001b[0m\n\u001b[1;32m    207\u001b[0m             \u001b[0mself\u001b[0m\u001b[0;34m.\u001b[0m\u001b[0m_last_query\u001b[0m \u001b[0;34m=\u001b[0m \u001b[0mquery\u001b[0m\u001b[0;34m\u001b[0m\u001b[0m\n",
      "\u001b[0;32m~/local/miniconda2/envs/py36/lib/python3.6/site-packages/astroquery/query.py\u001b[0m in \u001b[0;36mrequest\u001b[0;34m(self, session, cache_location, stream, auth, verify)\u001b[0m\n\u001b[1;32m     59\u001b[0m                                \u001b[0mdata\u001b[0m\u001b[0;34m=\u001b[0m\u001b[0mself\u001b[0m\u001b[0;34m.\u001b[0m\u001b[0mdata\u001b[0m\u001b[0;34m,\u001b[0m \u001b[0mheaders\u001b[0m\u001b[0;34m=\u001b[0m\u001b[0mself\u001b[0m\u001b[0;34m.\u001b[0m\u001b[0mheaders\u001b[0m\u001b[0;34m,\u001b[0m\u001b[0;34m\u001b[0m\u001b[0m\n\u001b[1;32m     60\u001b[0m                                \u001b[0mfiles\u001b[0m\u001b[0;34m=\u001b[0m\u001b[0mself\u001b[0m\u001b[0;34m.\u001b[0m\u001b[0mfiles\u001b[0m\u001b[0;34m,\u001b[0m \u001b[0mtimeout\u001b[0m\u001b[0;34m=\u001b[0m\u001b[0mself\u001b[0m\u001b[0;34m.\u001b[0m\u001b[0mtimeout\u001b[0m\u001b[0;34m,\u001b[0m\u001b[0;34m\u001b[0m\u001b[0m\n\u001b[0;32m---> 61\u001b[0;31m                                stream=stream, auth=auth, verify=verify)\n\u001b[0m\u001b[1;32m     62\u001b[0m \u001b[0;34m\u001b[0m\u001b[0m\n\u001b[1;32m     63\u001b[0m     \u001b[0;32mdef\u001b[0m \u001b[0mhash\u001b[0m\u001b[0;34m(\u001b[0m\u001b[0mself\u001b[0m\u001b[0;34m)\u001b[0m\u001b[0;34m:\u001b[0m\u001b[0;34m\u001b[0m\u001b[0m\n",
      "\u001b[0;32m~/local/miniconda2/envs/py36/lib/python3.6/site-packages/requests/sessions.py\u001b[0m in \u001b[0;36mrequest\u001b[0;34m(self, method, url, params, data, headers, cookies, files, auth, timeout, allow_redirects, proxies, hooks, stream, verify, cert, json)\u001b[0m\n\u001b[1;32m    506\u001b[0m         }\n\u001b[1;32m    507\u001b[0m         \u001b[0msend_kwargs\u001b[0m\u001b[0;34m.\u001b[0m\u001b[0mupdate\u001b[0m\u001b[0;34m(\u001b[0m\u001b[0msettings\u001b[0m\u001b[0;34m)\u001b[0m\u001b[0;34m\u001b[0m\u001b[0m\n\u001b[0;32m--> 508\u001b[0;31m         \u001b[0mresp\u001b[0m \u001b[0;34m=\u001b[0m \u001b[0mself\u001b[0m\u001b[0;34m.\u001b[0m\u001b[0msend\u001b[0m\u001b[0;34m(\u001b[0m\u001b[0mprep\u001b[0m\u001b[0;34m,\u001b[0m \u001b[0;34m**\u001b[0m\u001b[0msend_kwargs\u001b[0m\u001b[0;34m)\u001b[0m\u001b[0;34m\u001b[0m\u001b[0m\n\u001b[0m\u001b[1;32m    509\u001b[0m \u001b[0;34m\u001b[0m\u001b[0m\n\u001b[1;32m    510\u001b[0m         \u001b[0;32mreturn\u001b[0m \u001b[0mresp\u001b[0m\u001b[0;34m\u001b[0m\u001b[0m\n",
      "\u001b[0;32m~/local/miniconda2/envs/py36/lib/python3.6/site-packages/requests/sessions.py\u001b[0m in \u001b[0;36msend\u001b[0;34m(self, request, **kwargs)\u001b[0m\n\u001b[1;32m    616\u001b[0m \u001b[0;34m\u001b[0m\u001b[0m\n\u001b[1;32m    617\u001b[0m         \u001b[0;31m# Send the request\u001b[0m\u001b[0;34m\u001b[0m\u001b[0;34m\u001b[0m\u001b[0m\n\u001b[0;32m--> 618\u001b[0;31m         \u001b[0mr\u001b[0m \u001b[0;34m=\u001b[0m \u001b[0madapter\u001b[0m\u001b[0;34m.\u001b[0m\u001b[0msend\u001b[0m\u001b[0;34m(\u001b[0m\u001b[0mrequest\u001b[0m\u001b[0;34m,\u001b[0m \u001b[0;34m**\u001b[0m\u001b[0mkwargs\u001b[0m\u001b[0;34m)\u001b[0m\u001b[0;34m\u001b[0m\u001b[0m\n\u001b[0m\u001b[1;32m    619\u001b[0m \u001b[0;34m\u001b[0m\u001b[0m\n\u001b[1;32m    620\u001b[0m         \u001b[0;31m# Total elapsed time of the request (approximately)\u001b[0m\u001b[0;34m\u001b[0m\u001b[0;34m\u001b[0m\u001b[0m\n",
      "\u001b[0;32m~/local/miniconda2/envs/py36/lib/python3.6/site-packages/requests/adapters.py\u001b[0m in \u001b[0;36msend\u001b[0;34m(self, request, stream, timeout, verify, cert, proxies)\u001b[0m\n\u001b[1;32m    519\u001b[0m                 \u001b[0;32mraise\u001b[0m \u001b[0mSSLError\u001b[0m\u001b[0;34m(\u001b[0m\u001b[0me\u001b[0m\u001b[0;34m,\u001b[0m \u001b[0mrequest\u001b[0m\u001b[0;34m=\u001b[0m\u001b[0mrequest\u001b[0m\u001b[0;34m)\u001b[0m\u001b[0;34m\u001b[0m\u001b[0m\n\u001b[1;32m    520\u001b[0m             \u001b[0;32melif\u001b[0m \u001b[0misinstance\u001b[0m\u001b[0;34m(\u001b[0m\u001b[0me\u001b[0m\u001b[0;34m,\u001b[0m \u001b[0mReadTimeoutError\u001b[0m\u001b[0;34m)\u001b[0m\u001b[0;34m:\u001b[0m\u001b[0;34m\u001b[0m\u001b[0m\n\u001b[0;32m--> 521\u001b[0;31m                 \u001b[0;32mraise\u001b[0m \u001b[0mReadTimeout\u001b[0m\u001b[0;34m(\u001b[0m\u001b[0me\u001b[0m\u001b[0;34m,\u001b[0m \u001b[0mrequest\u001b[0m\u001b[0;34m=\u001b[0m\u001b[0mrequest\u001b[0m\u001b[0;34m)\u001b[0m\u001b[0;34m\u001b[0m\u001b[0m\n\u001b[0m\u001b[1;32m    522\u001b[0m             \u001b[0;32melse\u001b[0m\u001b[0;34m:\u001b[0m\u001b[0;34m\u001b[0m\u001b[0m\n\u001b[1;32m    523\u001b[0m                 \u001b[0;32mraise\u001b[0m\u001b[0;34m\u001b[0m\u001b[0m\n",
      "\u001b[0;31mReadTimeout\u001b[0m: HTTPConnectionPool(host='skyserver.sdss.org', port=80): Read timed out. (read timeout=60)"
     ]
    }
   ],
   "source": [
    "for snname, sninfo in cpl.sources.items():\n",
    "    if sninfo['classification'] is None: continue\n",
    "    if not re.search('Ia',sninfo['classification']) : continue\n",
    "        \n",
    "    ra = cpl.sources[snname]['ra']\n",
    "    dec = cpl.sources[snname]['dec']\n",
    "    print('Calculating visibility of source %s (ra: %f, dec: %f) with %s.'%(snname, ra, dec, obs))\n",
    "    obs_w = observatories[obs].compute_visibility(ra, dec, trange,airmass_th=2.0,dt_min=30)\n",
    "    amasses = obs_w['airmass']\n",
    "    if (len(amasses)<10):\n",
    "        print('Not enough visibility')\n",
    "\n",
    "    # Check SDSS\n",
    "    # Explore SDSS query - should do for the full sample\n",
    "    pos = SkyCoord(ra,dec, frame='icrs', unit=\"deg\")\n",
    "    response = SDSS.query_crossid_async(pos)\n",
    "    sdsstab = pd.read_table(StringIO(response.text),sep=',',header=1)\n",
    "    print(sdsstab)\n",
    "    continue\n",
    "    sdsstypes = sdsstab['type']\n",
    "    if len(sdsstypes) == 0:\n",
    "        # No SDSS match, continue\n",
    "        pass\n",
    "    elif len(sdsstypes) == 1 and cut_sdss_stars:\n",
    "        if sdsstypes[0]=='STAR':\n",
    "            msg = \"%s: Skipping %s due to photometric SDSS def\"%(date,sne[1][\"ztf_name\"])\n",
    "            logger.info(msg)\n",
    "            continue\n",
    "    else:\n",
    "        print(sdsstypes)\n",
    "        print('Multiple SDSS photometric matches...')\n",
    "    \n",
    "    \n",
    "    \n",
    "    \n",
    "    \n",
    "    aentries[snname] = len(amasses)\n",
    "        \n",
    "    print('snia')\n",
    "    print(snname)\n",
    "    print(sninfo)"
   ]
  },
  {
   "cell_type": "code",
   "execution_count": 50,
   "metadata": {},
   "outputs": [],
   "source": []
  },
  {
   "cell_type": "code",
   "execution_count": 51,
   "metadata": {},
   "outputs": [
    {
     "data": {
      "text/plain": [
       "{'group_id': 'ampelLCO',\n",
       " 'proposal': 'CON2018B-005',\n",
       " 'ipp_value': '1.0',\n",
       " 'operator': 'SINGLE',\n",
       " 'observation_type': 'NORMAL',\n",
       " 'requests': [{'acceptability_threshold': 100,\n",
       "   'target': {'name': 'ZTFSN',\n",
       "    'type': 'SIDEREAL',\n",
       "    'ra': '166.554549',\n",
       "    'dec': '50.261242',\n",
       "    'proper_motion_ra': 0,\n",
       "    'proper_motion_dec': 0,\n",
       "    'epoch': 2000,\n",
       "    'parallax': 0,\n",
       "    'rot_mode': 'VFLOAT',\n",
       "    'rot_angle': 0},\n",
       "   'molecules': [{'type': 'LAMP_FLAT',\n",
       "     'instrument_name': '2M0-FLOYDS-SCICAM',\n",
       "     'exposure_count': '2',\n",
       "     'bin_x': 1,\n",
       "     'bin_y': 1,\n",
       "     'fill_window': False,\n",
       "     'defocus': 0,\n",
       "     'ag_mode': 'OPTIONAL',\n",
       "     'acquire_mode': 'WCS',\n",
       "     'exposure_time': 60,\n",
       "     'spectra_slit': 'slit_2.0as'},\n",
       "    {'type': 'ARC',\n",
       "     'instrument_name': '2M0-FLOYDS-SCICAM',\n",
       "     'exposure_count': '2',\n",
       "     'bin_x': 1,\n",
       "     'bin_y': 1,\n",
       "     'fill_window': False,\n",
       "     'defocus': 0,\n",
       "     'ag_mode': 'OPTIONAL',\n",
       "     'acquire_mode': 'WCS',\n",
       "     'exposure_time': 60,\n",
       "     'spectra_slit': 'slit_2.0as'},\n",
       "    {'type': 'SPECTRUM',\n",
       "     'instrument_name': '2M0-FLOYDS-SCICAM',\n",
       "     'exposure_count': '2',\n",
       "     'bin_x': 1,\n",
       "     'bin_y': 1,\n",
       "     'fill_window': False,\n",
       "     'defocus': 0,\n",
       "     'ag_mode': 'ON',\n",
       "     'acquire_mode': 'WCS',\n",
       "     'exposure_time': '900',\n",
       "     'spectra_slit': 'slit_2.0as'},\n",
       "    {'type': 'ARC',\n",
       "     'instrument_name': '2M0-FLOYDS-SCICAM',\n",
       "     'exposure_count': '2',\n",
       "     'bin_x': 1,\n",
       "     'bin_y': 1,\n",
       "     'fill_window': False,\n",
       "     'defocus': 0,\n",
       "     'ag_mode': 'OPTIONAL',\n",
       "     'acquire_mode': 'WCS',\n",
       "     'exposure_time': 60,\n",
       "     'spectra_slit': 'slit_2.0as'},\n",
       "    {'type': 'LAMP_FLAT',\n",
       "     'instrument_name': '2M0-FLOYDS-SCICAM',\n",
       "     'exposure_count': '2',\n",
       "     'bin_x': 1,\n",
       "     'bin_y': 1,\n",
       "     'fill_window': False,\n",
       "     'defocus': 0,\n",
       "     'ag_mode': 'OPTIONAL',\n",
       "     'acquire_mode': 'WCS',\n",
       "     'exposure_time': 60,\n",
       "     'spectra_slit': 'slit_2.0as'}],\n",
       "   'windows': [{'start': '2018-11-14 09:52:13', 'end': '2018-11-20 09:52:13'}],\n",
       "   'location': {'telescope_class': '2m0'},\n",
       "   'constraints': {'max_airmass': '1.8', 'min_lunar_distance': 30}}]}"
      ]
     },
     "execution_count": 51,
     "metadata": {},
     "output_type": "execute_result"
    }
   ],
   "source": [
    "api"
   ]
  },
  {
   "cell_type": "code",
   "execution_count": null,
   "metadata": {},
   "outputs": [],
   "source": []
  },
  {
   "cell_type": "code",
   "execution_count": null,
   "metadata": {},
   "outputs": [],
   "source": []
  },
  {
   "cell_type": "code",
   "execution_count": 46,
   "metadata": {},
   "outputs": [
    {
     "ename": "NameError",
     "evalue": "name 'false' is not defined",
     "output_type": "error",
     "traceback": [
      "\u001b[0;31m---------------------------------------------------------------------------\u001b[0m",
      "\u001b[0;31mNameError\u001b[0m                                 Traceback (most recent call last)",
      "\u001b[0;32m<ipython-input-46-a727c03c80e7>\u001b[0m in \u001b[0;36m<module>\u001b[0;34m()\u001b[0m\n\u001b[0;32m----> 1\u001b[0;31m \u001b[0mlcojson\u001b[0m \u001b[0;34m=\u001b[0m \u001b[0;34m{\u001b[0m\u001b[0;34m\"group_id\"\u001b[0m\u001b[0;34m:\u001b[0m\u001b[0;34m\"ampelLCO\"\u001b[0m\u001b[0;34m,\u001b[0m\u001b[0;34m\"proposal\"\u001b[0m\u001b[0;34m:\u001b[0m\u001b[0;34m\"CON2018B-005\"\u001b[0m\u001b[0;34m,\u001b[0m\u001b[0;34m\"ipp_value\"\u001b[0m\u001b[0;34m:\u001b[0m\u001b[0;34m\"1.0\"\u001b[0m\u001b[0;34m,\u001b[0m\u001b[0;34m\"operator\"\u001b[0m\u001b[0;34m:\u001b[0m\u001b[0;34m\"SINGLE\"\u001b[0m\u001b[0;34m,\u001b[0m\u001b[0;34m\"observation_type\"\u001b[0m\u001b[0;34m:\u001b[0m\u001b[0;34m\"NORMAL\"\u001b[0m\u001b[0;34m,\u001b[0m\u001b[0;34m\"requests\"\u001b[0m\u001b[0;34m:\u001b[0m\u001b[0;34m[\u001b[0m\u001b[0;34m{\u001b[0m\u001b[0;34m\"acceptability_threshold\"\u001b[0m\u001b[0;34m:\u001b[0m\u001b[0;36m100\u001b[0m\u001b[0;34m,\u001b[0m\u001b[0;34m\"target\"\u001b[0m\u001b[0;34m:\u001b[0m\u001b[0;34m{\u001b[0m\u001b[0;34m\"name\"\u001b[0m\u001b[0;34m:\u001b[0m\u001b[0;34m\"ZTFSN\"\u001b[0m\u001b[0;34m,\u001b[0m\u001b[0;34m\"type\"\u001b[0m\u001b[0;34m:\u001b[0m\u001b[0;34m\"SIDEREAL\"\u001b[0m\u001b[0;34m,\u001b[0m\u001b[0;34m\"ra\"\u001b[0m\u001b[0;34m:\u001b[0m\u001b[0;34m\"166.554549\"\u001b[0m\u001b[0;34m,\u001b[0m\u001b[0;34m\"dec\"\u001b[0m\u001b[0;34m:\u001b[0m\u001b[0;34m\"50.261242\"\u001b[0m\u001b[0;34m,\u001b[0m\u001b[0;34m\"proper_motion_ra\"\u001b[0m\u001b[0;34m:\u001b[0m\u001b[0;36m0\u001b[0m\u001b[0;34m,\u001b[0m\u001b[0;34m\"proper_motion_dec\"\u001b[0m\u001b[0;34m:\u001b[0m\u001b[0;36m0\u001b[0m\u001b[0;34m,\u001b[0m\u001b[0;34m\"epoch\"\u001b[0m\u001b[0;34m:\u001b[0m\u001b[0;36m2000\u001b[0m\u001b[0;34m,\u001b[0m\u001b[0;34m\"parallax\"\u001b[0m\u001b[0;34m:\u001b[0m\u001b[0;36m0\u001b[0m\u001b[0;34m,\u001b[0m\u001b[0;34m\"rot_mode\"\u001b[0m\u001b[0;34m:\u001b[0m\u001b[0;34m\"VFLOAT\"\u001b[0m\u001b[0;34m,\u001b[0m\u001b[0;34m\"rot_angle\"\u001b[0m\u001b[0;34m:\u001b[0m\u001b[0;36m0\u001b[0m\u001b[0;34m}\u001b[0m\u001b[0;34m,\u001b[0m\u001b[0;34m\"molecules\"\u001b[0m\u001b[0;34m:\u001b[0m\u001b[0;34m[\u001b[0m\u001b[0;34m{\u001b[0m\u001b[0;34m\"type\"\u001b[0m\u001b[0;34m:\u001b[0m\u001b[0;34m\"LAMP_FLAT\"\u001b[0m\u001b[0;34m,\u001b[0m\u001b[0;34m\"instrument_name\"\u001b[0m\u001b[0;34m:\u001b[0m\u001b[0;34m\"2M0-FLOYDS-SCICAM\"\u001b[0m\u001b[0;34m,\u001b[0m\u001b[0;34m\"exposure_count\"\u001b[0m\u001b[0;34m:\u001b[0m\u001b[0;34m\"2\"\u001b[0m\u001b[0;34m,\u001b[0m\u001b[0;34m\"bin_x\"\u001b[0m\u001b[0;34m:\u001b[0m\u001b[0;36m1\u001b[0m\u001b[0;34m,\u001b[0m\u001b[0;34m\"bin_y\"\u001b[0m\u001b[0;34m:\u001b[0m\u001b[0;36m1\u001b[0m\u001b[0;34m,\u001b[0m\u001b[0;34m\"fill_window\"\u001b[0m\u001b[0;34m:\u001b[0m\u001b[0mfalse\u001b[0m\u001b[0;34m,\u001b[0m\u001b[0;34m\"defocus\"\u001b[0m\u001b[0;34m:\u001b[0m\u001b[0;36m0\u001b[0m\u001b[0;34m,\u001b[0m\u001b[0;34m\"ag_mode\"\u001b[0m\u001b[0;34m:\u001b[0m\u001b[0;34m\"OPTIONAL\"\u001b[0m\u001b[0;34m,\u001b[0m\u001b[0;34m\"acquire_mode\"\u001b[0m\u001b[0;34m:\u001b[0m\u001b[0;34m\"WCS\"\u001b[0m\u001b[0;34m,\u001b[0m\u001b[0;34m\"exposure_time\"\u001b[0m\u001b[0;34m:\u001b[0m\u001b[0;36m60\u001b[0m\u001b[0;34m,\u001b[0m\u001b[0;34m\"spectra_slit\"\u001b[0m\u001b[0;34m:\u001b[0m\u001b[0;34m\"slit_2.0as\"\u001b[0m\u001b[0;34m}\u001b[0m\u001b[0;34m,\u001b[0m\u001b[0;34m{\u001b[0m\u001b[0;34m\"type\"\u001b[0m\u001b[0;34m:\u001b[0m\u001b[0;34m\"ARC\"\u001b[0m\u001b[0;34m,\u001b[0m\u001b[0;34m\"instrument_name\"\u001b[0m\u001b[0;34m:\u001b[0m\u001b[0;34m\"2M0-FLOYDS-SCICAM\"\u001b[0m\u001b[0;34m,\u001b[0m\u001b[0;34m\"exposure_count\"\u001b[0m\u001b[0;34m:\u001b[0m\u001b[0;34m\"2\"\u001b[0m\u001b[0;34m,\u001b[0m\u001b[0;34m\"bin_x\"\u001b[0m\u001b[0;34m:\u001b[0m\u001b[0;36m1\u001b[0m\u001b[0;34m,\u001b[0m\u001b[0;34m\"bin_y\"\u001b[0m\u001b[0;34m:\u001b[0m\u001b[0;36m1\u001b[0m\u001b[0;34m,\u001b[0m\u001b[0;34m\"fill_window\"\u001b[0m\u001b[0;34m:\u001b[0m\u001b[0mfalse\u001b[0m\u001b[0;34m,\u001b[0m\u001b[0;34m\"defocus\"\u001b[0m\u001b[0;34m:\u001b[0m\u001b[0;36m0\u001b[0m\u001b[0;34m,\u001b[0m\u001b[0;34m\"ag_mode\"\u001b[0m\u001b[0;34m:\u001b[0m\u001b[0;34m\"OPTIONAL\"\u001b[0m\u001b[0;34m,\u001b[0m\u001b[0;34m\"acquire_mode\"\u001b[0m\u001b[0;34m:\u001b[0m\u001b[0;34m\"WCS\"\u001b[0m\u001b[0;34m,\u001b[0m\u001b[0;34m\"exposure_time\"\u001b[0m\u001b[0;34m:\u001b[0m\u001b[0;36m60\u001b[0m\u001b[0;34m,\u001b[0m\u001b[0;34m\"spectra_slit\"\u001b[0m\u001b[0;34m:\u001b[0m\u001b[0;34m\"slit_2.0as\"\u001b[0m\u001b[0;34m}\u001b[0m\u001b[0;34m,\u001b[0m\u001b[0;34m{\u001b[0m\u001b[0;34m\"type\"\u001b[0m\u001b[0;34m:\u001b[0m\u001b[0;34m\"SPECTRUM\"\u001b[0m\u001b[0;34m,\u001b[0m\u001b[0;34m\"instrument_name\"\u001b[0m\u001b[0;34m:\u001b[0m\u001b[0;34m\"2M0-FLOYDS-SCICAM\"\u001b[0m\u001b[0;34m,\u001b[0m\u001b[0;34m\"exposure_count\"\u001b[0m\u001b[0;34m:\u001b[0m\u001b[0;34m\"2\"\u001b[0m\u001b[0;34m,\u001b[0m\u001b[0;34m\"bin_x\"\u001b[0m\u001b[0;34m:\u001b[0m\u001b[0;36m1\u001b[0m\u001b[0;34m,\u001b[0m\u001b[0;34m\"bin_y\"\u001b[0m\u001b[0;34m:\u001b[0m\u001b[0;36m1\u001b[0m\u001b[0;34m,\u001b[0m\u001b[0;34m\"fill_window\"\u001b[0m\u001b[0;34m:\u001b[0m\u001b[0mfalse\u001b[0m\u001b[0;34m,\u001b[0m\u001b[0;34m\"defocus\"\u001b[0m\u001b[0;34m:\u001b[0m\u001b[0;36m0\u001b[0m\u001b[0;34m,\u001b[0m\u001b[0;34m\"ag_mode\"\u001b[0m\u001b[0;34m:\u001b[0m\u001b[0;34m\"ON\"\u001b[0m\u001b[0;34m,\u001b[0m\u001b[0;34m\"acquire_mode\"\u001b[0m\u001b[0;34m:\u001b[0m\u001b[0;34m\"WCS\"\u001b[0m\u001b[0;34m,\u001b[0m\u001b[0;34m\"exposure_time\"\u001b[0m\u001b[0;34m:\u001b[0m\u001b[0;34m\"900\"\u001b[0m\u001b[0;34m,\u001b[0m\u001b[0;34m\"spectra_slit\"\u001b[0m\u001b[0;34m:\u001b[0m\u001b[0;34m\"slit_2.0as\"\u001b[0m\u001b[0;34m}\u001b[0m\u001b[0;34m,\u001b[0m\u001b[0;34m{\u001b[0m\u001b[0;34m\"type\"\u001b[0m\u001b[0;34m:\u001b[0m\u001b[0;34m\"ARC\"\u001b[0m\u001b[0;34m,\u001b[0m\u001b[0;34m\"instrument_name\"\u001b[0m\u001b[0;34m:\u001b[0m\u001b[0;34m\"2M0-FLOYDS-SCICAM\"\u001b[0m\u001b[0;34m,\u001b[0m\u001b[0;34m\"exposure_count\"\u001b[0m\u001b[0;34m:\u001b[0m\u001b[0;34m\"2\"\u001b[0m\u001b[0;34m,\u001b[0m\u001b[0;34m\"bin_x\"\u001b[0m\u001b[0;34m:\u001b[0m\u001b[0;36m1\u001b[0m\u001b[0;34m,\u001b[0m\u001b[0;34m\"bin_y\"\u001b[0m\u001b[0;34m:\u001b[0m\u001b[0;36m1\u001b[0m\u001b[0;34m,\u001b[0m\u001b[0;34m\"fill_window\"\u001b[0m\u001b[0;34m:\u001b[0m\u001b[0mfalse\u001b[0m\u001b[0;34m,\u001b[0m\u001b[0;34m\"defocus\"\u001b[0m\u001b[0;34m:\u001b[0m\u001b[0;36m0\u001b[0m\u001b[0;34m,\u001b[0m\u001b[0;34m\"ag_mode\"\u001b[0m\u001b[0;34m:\u001b[0m\u001b[0;34m\"OPTIONAL\"\u001b[0m\u001b[0;34m,\u001b[0m\u001b[0;34m\"acquire_mode\"\u001b[0m\u001b[0;34m:\u001b[0m\u001b[0;34m\"WCS\"\u001b[0m\u001b[0;34m,\u001b[0m\u001b[0;34m\"exposure_time\"\u001b[0m\u001b[0;34m:\u001b[0m\u001b[0;36m60\u001b[0m\u001b[0;34m,\u001b[0m\u001b[0;34m\"spectra_slit\"\u001b[0m\u001b[0;34m:\u001b[0m\u001b[0;34m\"slit_2.0as\"\u001b[0m\u001b[0;34m}\u001b[0m\u001b[0;34m,\u001b[0m\u001b[0;34m{\u001b[0m\u001b[0;34m\"type\"\u001b[0m\u001b[0;34m:\u001b[0m\u001b[0;34m\"LAMP_FLAT\"\u001b[0m\u001b[0;34m,\u001b[0m\u001b[0;34m\"instrument_name\"\u001b[0m\u001b[0;34m:\u001b[0m\u001b[0;34m\"2M0-FLOYDS-SCICAM\"\u001b[0m\u001b[0;34m,\u001b[0m\u001b[0;34m\"exposure_count\"\u001b[0m\u001b[0;34m:\u001b[0m\u001b[0;34m\"2\"\u001b[0m\u001b[0;34m,\u001b[0m\u001b[0;34m\"bin_x\"\u001b[0m\u001b[0;34m:\u001b[0m\u001b[0;36m1\u001b[0m\u001b[0;34m,\u001b[0m\u001b[0;34m\"bin_y\"\u001b[0m\u001b[0;34m:\u001b[0m\u001b[0;36m1\u001b[0m\u001b[0;34m,\u001b[0m\u001b[0;34m\"fill_window\"\u001b[0m\u001b[0;34m:\u001b[0m\u001b[0mfalse\u001b[0m\u001b[0;34m,\u001b[0m\u001b[0;34m\"defocus\"\u001b[0m\u001b[0;34m:\u001b[0m\u001b[0;36m0\u001b[0m\u001b[0;34m,\u001b[0m\u001b[0;34m\"ag_mode\"\u001b[0m\u001b[0;34m:\u001b[0m\u001b[0;34m\"OPTIONAL\"\u001b[0m\u001b[0;34m,\u001b[0m\u001b[0;34m\"acquire_mode\"\u001b[0m\u001b[0;34m:\u001b[0m\u001b[0;34m\"WCS\"\u001b[0m\u001b[0;34m,\u001b[0m\u001b[0;34m\"exposure_time\"\u001b[0m\u001b[0;34m:\u001b[0m\u001b[0;36m60\u001b[0m\u001b[0;34m,\u001b[0m\u001b[0;34m\"spectra_slit\"\u001b[0m\u001b[0;34m:\u001b[0m\u001b[0;34m\"slit_2.0as\"\u001b[0m\u001b[0;34m}\u001b[0m\u001b[0;34m]\u001b[0m\u001b[0;34m,\u001b[0m\u001b[0;34m\"windows\"\u001b[0m\u001b[0;34m:\u001b[0m\u001b[0;34m[\u001b[0m\u001b[0;34m{\u001b[0m\u001b[0;34m\"start\"\u001b[0m\u001b[0;34m:\u001b[0m\u001b[0;34m\"2018-11-14 09:52:13\"\u001b[0m\u001b[0;34m,\u001b[0m\u001b[0;34m\"end\"\u001b[0m\u001b[0;34m:\u001b[0m\u001b[0;34m\"2018-11-20 09:52:13\"\u001b[0m\u001b[0;34m}\u001b[0m\u001b[0;34m]\u001b[0m\u001b[0;34m,\u001b[0m\u001b[0;34m\"location\"\u001b[0m\u001b[0;34m:\u001b[0m\u001b[0;34m{\u001b[0m\u001b[0;34m\"telescope_class\"\u001b[0m\u001b[0;34m:\u001b[0m\u001b[0;34m\"2m0\"\u001b[0m\u001b[0;34m}\u001b[0m\u001b[0;34m,\u001b[0m\u001b[0;34m\"constraints\"\u001b[0m\u001b[0;34m:\u001b[0m\u001b[0;34m{\u001b[0m\u001b[0;34m\"max_airmass\"\u001b[0m\u001b[0;34m:\u001b[0m\u001b[0;34m\"1.8\"\u001b[0m\u001b[0;34m,\u001b[0m\u001b[0;34m\"min_lunar_distance\"\u001b[0m\u001b[0;34m:\u001b[0m\u001b[0;36m30\u001b[0m\u001b[0;34m}\u001b[0m\u001b[0;34m}\u001b[0m\u001b[0;34m]\u001b[0m\u001b[0;34m}\u001b[0m\u001b[0;34m\u001b[0m\u001b[0m\n\u001b[0m",
      "\u001b[0;31mNameError\u001b[0m: name 'false' is not defined"
     ]
    }
   ],
   "source": [
    "lcojson = {\"group_id\":\"ampelLCO\",\"proposal\":\"CON2018B-005\",\"ipp_value\":\"1.0\",\"operator\":\"SINGLE\",\"observation_type\":\"NORMAL\",\"requests\":[{\"acceptability_threshold\":100,\"target\":{\"name\":\"ZTFSN\",\"type\":\"SIDEREAL\",\"ra\":\"166.554549\",\"dec\":\"50.261242\",\"proper_motion_ra\":0,\"proper_motion_dec\":0,\"epoch\":2000,\"parallax\":0,\"rot_mode\":\"VFLOAT\",\"rot_angle\":0},\"molecules\":[{\"type\":\"LAMP_FLAT\",\"instrument_name\":\"2M0-FLOYDS-SCICAM\",\"exposure_count\":\"2\",\"bin_x\":1,\"bin_y\":1,\"fill_window\":false,\"defocus\":0,\"ag_mode\":\"OPTIONAL\",\"acquire_mode\":\"WCS\",\"exposure_time\":60,\"spectra_slit\":\"slit_2.0as\"},{\"type\":\"ARC\",\"instrument_name\":\"2M0-FLOYDS-SCICAM\",\"exposure_count\":\"2\",\"bin_x\":1,\"bin_y\":1,\"fill_window\":false,\"defocus\":0,\"ag_mode\":\"OPTIONAL\",\"acquire_mode\":\"WCS\",\"exposure_time\":60,\"spectra_slit\":\"slit_2.0as\"},{\"type\":\"SPECTRUM\",\"instrument_name\":\"2M0-FLOYDS-SCICAM\",\"exposure_count\":\"2\",\"bin_x\":1,\"bin_y\":1,\"fill_window\":false,\"defocus\":0,\"ag_mode\":\"ON\",\"acquire_mode\":\"WCS\",\"exposure_time\":\"900\",\"spectra_slit\":\"slit_2.0as\"},{\"type\":\"ARC\",\"instrument_name\":\"2M0-FLOYDS-SCICAM\",\"exposure_count\":\"2\",\"bin_x\":1,\"bin_y\":1,\"fill_window\":false,\"defocus\":0,\"ag_mode\":\"OPTIONAL\",\"acquire_mode\":\"WCS\",\"exposure_time\":60,\"spectra_slit\":\"slit_2.0as\"},{\"type\":\"LAMP_FLAT\",\"instrument_name\":\"2M0-FLOYDS-SCICAM\",\"exposure_count\":\"2\",\"bin_x\":1,\"bin_y\":1,\"fill_window\":false,\"defocus\":0,\"ag_mode\":\"OPTIONAL\",\"acquire_mode\":\"WCS\",\"exposure_time\":60,\"spectra_slit\":\"slit_2.0as\"}],\"windows\":[{\"start\":\"2018-11-14 09:52:13\",\"end\":\"2018-11-20 09:52:13\"}],\"location\":{\"telescope_class\":\"2m0\"},\"constraints\":{\"max_airmass\":\"1.8\",\"min_lunar_distance\":30}}]}"
   ]
  },
  {
   "cell_type": "code",
   "execution_count": null,
   "metadata": {},
   "outputs": [],
   "source": []
  }
 ],
 "metadata": {
  "kernelspec": {
   "display_name": "Python 3",
   "language": "python",
   "name": "python3"
  },
  "language_info": {
   "codemirror_mode": {
    "name": "ipython",
    "version": 3
   },
   "file_extension": ".py",
   "mimetype": "text/x-python",
   "name": "python",
   "nbconvert_exporter": "python",
   "pygments_lexer": "ipython3",
   "version": "3.6.3"
  }
 },
 "nbformat": 4,
 "nbformat_minor": 2
}
