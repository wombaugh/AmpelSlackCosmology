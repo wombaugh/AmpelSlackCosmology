{
 "cells": [
  {
   "cell_type": "code",
   "execution_count": null,
   "metadata": {},
   "outputs": [],
   "source": [
    "from utils import get_config\n",
    "import marshaltools\n"
   ]
  },
  {
   "cell_type": "code",
   "execution_count": null,
   "metadata": {},
   "outputs": [],
   "source": [
    "pl = marshaltools.ProgramList('Redshift Completeness Factor',load_candidates=False,\n",
    "                              sfd_dir='/home/jnordin/local/git/simsurvey-examples/data/sfddata-master')\n"
   ]
  },
  {
   "cell_type": "code",
   "execution_count": null,
   "metadata": {},
   "outputs": [],
   "source": []
  },
  {
   "cell_type": "code",
   "execution_count": null,
   "metadata": {},
   "outputs": [],
   "source": [
    "for count, sn in enumerate(pl.sources.keys()):\n",
    "    # Only store objects with classification for now\n",
    "    if pl.sources[sn]['classification'] is None or pl.sources[sn]['classification']=='unclassified':\n",
    "        continue\n",
    "    if pl.sources[sn]['redshift'] is None:\n",
    "        # If a known star we keep it with redshift 0\n",
    "        if pl.sources[sn]['classification'] in ['CV','Var','star']:\n",
    "            z = 0\n",
    "        else:\n",
    "            continue\n",
    "    else:\n",
    "        z = pl.sources[sn]['redshift']\n",
    "    print('%s %s %s'%(sn,pl.sources[sn]['classification'],z))\n",
    "    \n",
    "    # Download specific LC\n",
    "    lc = pl.get_lightcurve(sn)\n",
    "    del pl.lightcurves[sn]\n",
    "    print(lc)\n",
    "    \n",
    "    data = lc.table\n",
    "    print(data)\n",
    "    \n",
    "    if count>10:\n",
    "        break"
   ]
  },
  {
   "cell_type": "code",
   "execution_count": null,
   "metadata": {},
   "outputs": [],
   "source": [
    "len(pl.sources)"
   ]
  },
  {
   "cell_type": "code",
   "execution_count": null,
   "metadata": {},
   "outputs": [],
   "source": [
    "pl.sources['ZTF18aahesrp']\n",
    "pl.table"
   ]
  },
  {
   "cell_type": "code",
   "execution_count": null,
   "metadata": {},
   "outputs": [],
   "source": [
    "pl.get_lightcurve('ZTF18aahesrp')"
   ]
  },
  {
   "cell_type": "code",
   "execution_count": null,
   "metadata": {},
   "outputs": [],
   "source": [
    "pl.lightcurves.keys()"
   ]
  },
  {
   "cell_type": "code",
   "execution_count": null,
   "metadata": {},
   "outputs": [],
   "source": [
    "dump = {}"
   ]
  },
  {
   "cell_type": "code",
   "execution_count": null,
   "metadata": {},
   "outputs": [],
   "source": [
    "for count, sn in enumerate(pl.sources.keys()):\n",
    "    print(count)\n",
    "    # Only store objects with classification for now\n",
    "    if sn in dump.keys() or sn in failed:\n",
    "        continue\n",
    "    \n",
    "    if pl.sources[sn]['classification'] is None or pl.sources[sn]['classification']=='unclassified':\n",
    "        continue\n",
    "    if pl.sources[sn]['redshift'] is None:\n",
    "        # If a known star we keep it with redshift 0\n",
    "        if pl.sources[sn]['classification'] in ['CV','Var','star']:\n",
    "            z = 0\n",
    "        else:\n",
    "            continue\n",
    "    else:\n",
    "        z = pl.sources[sn]['redshift']\n",
    "    print('%s %s %s'%(sn,pl.sources[sn]['classification'],z))\n",
    "    \n",
    "    # Try to get the lightcurve\n",
    "    lc = pl.get_lightcurve(sn)\n",
    "    del pl.lightcurves[sn]\n",
    "    #print(lc.table_sncosmo)\n",
    "    \n",
    "    dump[sn] = {'sn':sn,'type':pl.sources[sn]['classification'],'z':z,'lc_sncosmo':lc.table_sncosmo}\n",
    "    \n",
    "    #if count>10:\n",
    "    #    break\n",
    "    #if sn in pl.lightcurves.keys():\n",
    "    #    dump.append( {'sn':sn,'type':pl.sources[sn]['classification'],'z':z,'lc_sncosmo':pl.get_lightcurve('ZTF18aahesrp').table_sncosmo})"
   ]
  },
  {
   "cell_type": "code",
   "execution_count": null,
   "metadata": {},
   "outputs": [],
   "source": [
    "failed = ['ZTF18abukavn','ZTF19aaniqrr']"
   ]
  },
  {
   "cell_type": "code",
   "execution_count": null,
   "metadata": {},
   "outputs": [],
   "source": [
    "import pickle\n",
    "import random"
   ]
  },
  {
   "cell_type": "code",
   "execution_count": null,
   "metadata": {},
   "outputs": [],
   "source": [
    "pickle.dump( dump, open( \"rcf_lcsample.pkl\", \"wb\" ) )"
   ]
  },
  {
   "cell_type": "code",
   "execution_count": null,
   "metadata": {},
   "outputs": [],
   "source": [
    "cleansample = random.sample(list(dump),500)"
   ]
  },
  {
   "cell_type": "code",
   "execution_count": null,
   "metadata": {},
   "outputs": [],
   "source": [
    "sntypes = {sn:pl.sources[sn]['classification'] for sn in cleansample}\n",
    "pickle.dump( sntypes, open( \"rcf_types_subset.pkl\", \"wb\" ) )"
   ]
  },
  {
   "cell_type": "code",
   "execution_count": null,
   "metadata": {},
   "outputs": [],
   "source": [
    "notypesample = dict(dump)"
   ]
  },
  {
   "cell_type": "code",
   "execution_count": null,
   "metadata": {},
   "outputs": [],
   "source": [
    "for sn, sndict in notypesample.items():\n",
    "    sndict.pop('type')"
   ]
  },
  {
   "cell_type": "code",
   "execution_count": null,
   "metadata": {},
   "outputs": [],
   "source": [
    "len(dump)"
   ]
  },
  {
   "cell_type": "code",
   "execution_count": null,
   "metadata": {},
   "outputs": [],
   "source": [
    "sn = random.sample(list(dump),1)\n",
    "notypesample[sn[0]]"
   ]
  },
  {
   "cell_type": "code",
   "execution_count": null,
   "metadata": {},
   "outputs": [],
   "source": [
    "sntypes"
   ]
  },
  {
   "cell_type": "code",
   "execution_count": null,
   "metadata": {},
   "outputs": [],
   "source": []
  }
 ],
 "metadata": {
  "kernelspec": {
   "display_name": "Python 3",
   "language": "python",
   "name": "python3"
  },
  "language_info": {
   "codemirror_mode": {
    "name": "ipython",
    "version": 3
   },
   "file_extension": ".py",
   "mimetype": "text/x-python",
   "name": "python",
   "nbconvert_exporter": "python",
   "pygments_lexer": "ipython3",
   "version": "3.6.3"
  }
 },
 "nbformat": 4,
 "nbformat_minor": 2
}
