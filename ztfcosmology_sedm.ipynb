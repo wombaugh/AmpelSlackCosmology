{
 "cells": [
  {
   "cell_type": "code",
   "execution_count": 20,
   "metadata": {},
   "outputs": [],
   "source": [
    "import os\n",
    "import json\n",
    "import logging\n",
    "from IPython.display import clear_output\n",
    "from collections import OrderedDict as odict\n",
    "\n",
    "from marshaltools import ProgramList\n",
    "\n",
    "from utils import get_config"
   ]
  },
  {
   "cell_type": "code",
   "execution_count": 5,
   "metadata": {},
   "outputs": [],
   "source": [
    "# If you are running this notebook for the first time, you will be prompted to enter your username and\n",
    "# the path to your downloads from slack. If you entered something incorrectly, you can correct this in .config\n",
    "config = get_config()\n",
    "\n",
    "username = config['username']\n",
    "date = '2018-10-01'\n",
    "\n",
    "logpath = 'logs/'\n",
    "\n",
    "# log\n",
    "logger = logging.getLogger(username)\n",
    "handler = logging.FileHandler(os.path.join(logpath, 'ztfcosmo_sedm_%s_%s.log'%(date,username)))\n",
    "handler.setLevel(logging.INFO)\n",
    "formatter = logging.Formatter('%(asctime)s - %(name)s - %(levelname)s - %(message)s')\n",
    "handler.setFormatter(formatter)\n",
    "logger.addHandler(handler)"
   ]
  },
  {
   "cell_type": "code",
   "execution_count": 54,
   "metadata": {},
   "outputs": [
    {
     "name": "stderr",
     "output_type": "stream",
     "text": [
      "INFO:marshaltools.ProgramList:Initialized ProgramList for program AMPEL Test (ID 10)\n",
      "INFO:marshaltools.ProgramList:Loaded 214 saved sources for program AMPEL Test.\n"
     ]
    }
   ],
   "source": [
    "# allocation = {\n",
    "#     ztfname1: {\n",
    "#         telescope1: [date, status],\n",
    "#         telescope2: [...]}\n",
    "#     ztfname2: {...}\n",
    "# }\n",
    "\n",
    "targets = json.load(open('sne_following.json'))\n",
    "allocation = json.load(open('sne_allocation.json'))\n",
    "pl = ProgramList('AMPEL Test')"
   ]
  },
  {
   "cell_type": "code",
   "execution_count": 16,
   "metadata": {},
   "outputs": [],
   "source": [
    "# Step 1: check whether any previously allocated target is now typed on the marshal. If so mark it done.\n",
    "logger.info('Step 1: Automatic type query')\n",
    "for snname, info in allocation.items():\n",
    "    if 'sedm' in info.keys():\n",
    "        cl = pl.sources[snname]['classification']\n",
    "        if cl is not None:\n",
    "            info['sedm'][1] = 'done'\n",
    "            logger.info('Source %s has classification %s on the marshal now. Marking it as done.'%(snname, cl))"
   ]
  },
  {
   "cell_type": "code",
   "execution_count": 56,
   "metadata": {},
   "outputs": [],
   "source": [
    "options = odict()\n",
    "options['1'] = ['in_progress', 'in progress, i.e. in SEDM queue likely to be observed']\n",
    "options['2'] = ['failed', 'failed, i.e. obs not good, too faint or too low priority'] \n",
    "options['3'] = ['done', 'done, i.e a spectrum was observed by some telescope showing it either to be a SNIa or not']\n",
    "options['4'] = ['recheck', 'recheck, i.e. there is a spectrum but it is not typed (check later whether more spectra are warranted)']\n",
    "options['0'] = ['skip', 'skip, e.g. because it was not scheduled for SEDM yet']\n",
    "\n",
    "def input_prompt(snname, idx=None, options=options):\n",
    "    if idx is None:\n",
    "        print('Please check the SEDM status of target %s:'%snname)\n",
    "    else:\n",
    "        print('Please check the SEDM status of target %s (%s):'%(snname, idx))\n",
    "    print('http://skipper.caltech.edu:8080/cgi-bin/growth/view_source.cgi?name=%s\\n'%snname)\n",
    "    for k, v in options.items():\n",
    "        print('(%s) %s'%(k, v[1]))\n",
    "    i_ = input('Please select one of the options: ')\n",
    "    if i_ in options.keys():\n",
    "        return options[i_][0]\n",
    "    else:\n",
    "        return None"
   ]
  },
  {
   "cell_type": "code",
   "execution_count": 34,
   "metadata": {},
   "outputs": [],
   "source": [
    "# Step 2: check targets previously marked as SEDM targets for their progress\n",
    "# NOTE: Usage of SEDM do denote these targets' status is slightly misleading because it includes everything\n",
    "#       reported on the marshal\n",
    "logger.info('Step 2: Rechecking sources previously allocated to SEDM')\n",
    "for k, (snname, info) in enumerate(allocation.items()):\n",
    "    if 'sedm' in info.keys() and info['sedm'][1] != 'done':\n",
    "        done = False\n",
    "        while not done:\n",
    "            o_ = input_prompt(snname)\n",
    "            if o_ == 'skip':\n",
    "                logger.info('Source %s skipped.'%(snname))\n",
    "                done = True\n",
    "            elif o_ is not None:\n",
    "                info['sedm'] = [date, o_]\n",
    "                logger.info('Source %s updated to %s.'%(snname, o_))\n",
    "                done = True\n",
    "            else:\n",
    "                clear_output()\n",
    "                print('Error: Please select one of the options.')"
   ]
  },
  {
   "cell_type": "code",
   "execution_count": 42,
   "metadata": {},
   "outputs": [
    {
     "name": "stderr",
     "output_type": "stream",
     "text": [
      "INFO:ufeindt:Step 3: Checking new sources\n"
     ]
    },
    {
     "name": "stdout",
     "output_type": "stream",
     "text": [
      "Please re-check the SEDM status of target ZTF18abcqvhs:\n",
      "http://skipper.caltech.edu:8080/cgi-bin/growth/view_source.cgi?name=ZTF18abcqvhs\n",
      "\n",
      "(1) in progress, i.e. in SEDM queue likely to be observed\n",
      "(2) failed, i.e. obs not good, too faint or too low priority\n",
      "(3) done, i.e a spectrum was observed by some telescope showing it either to be a SNIa or not\n",
      "(0) skip\n",
      "Please select one of the options above: 0\n"
     ]
    },
    {
     "name": "stderr",
     "output_type": "stream",
     "text": [
      "INFO:ufeindt:Source ZTF18abcqvhs skipped.\n"
     ]
    },
    {
     "name": "stdout",
     "output_type": "stream",
     "text": [
      "Please re-check the SEDM status of target ZTF18abnujuy:\n",
      "http://skipper.caltech.edu:8080/cgi-bin/growth/view_source.cgi?name=ZTF18abnujuy\n",
      "\n",
      "(1) in progress, i.e. in SEDM queue likely to be observed\n",
      "(2) failed, i.e. obs not good, too faint or too low priority\n",
      "(3) done, i.e a spectrum was observed by some telescope showing it either to be a SNIa or not\n",
      "(0) skip\n",
      "Please select one of the options above: 0\n"
     ]
    },
    {
     "name": "stderr",
     "output_type": "stream",
     "text": [
      "INFO:ufeindt:Source ZTF18abnujuy skipped.\n"
     ]
    },
    {
     "name": "stdout",
     "output_type": "stream",
     "text": [
      "Please re-check the SEDM status of target ZTF18abqbdcd:\n",
      "http://skipper.caltech.edu:8080/cgi-bin/growth/view_source.cgi?name=ZTF18abqbdcd\n",
      "\n",
      "(1) in progress, i.e. in SEDM queue likely to be observed\n",
      "(2) failed, i.e. obs not good, too faint or too low priority\n",
      "(3) done, i.e a spectrum was observed by some telescope showing it either to be a SNIa or not\n",
      "(0) skip\n",
      "Please select one of the options above: 3\n"
     ]
    },
    {
     "name": "stderr",
     "output_type": "stream",
     "text": [
      "INFO:ufeindt:Source ZTF18abqbdcd added (status: done).\n"
     ]
    },
    {
     "name": "stdout",
     "output_type": "stream",
     "text": [
      "Please re-check the SEDM status of target ZTF18abrwswl:\n",
      "http://skipper.caltech.edu:8080/cgi-bin/growth/view_source.cgi?name=ZTF18abrwswl\n",
      "\n",
      "(1) in progress, i.e. in SEDM queue likely to be observed\n",
      "(2) failed, i.e. obs not good, too faint or too low priority\n",
      "(3) done, i.e a spectrum was observed by some telescope showing it either to be a SNIa or not\n",
      "(0) skip\n",
      "Please select one of the options above: 1\n"
     ]
    },
    {
     "name": "stderr",
     "output_type": "stream",
     "text": [
      "INFO:ufeindt:Source ZTF18abrwswl added (status: in_progress).\n"
     ]
    },
    {
     "name": "stdout",
     "output_type": "stream",
     "text": [
      "Please re-check the SEDM status of target ZTF18abptskn:\n",
      "http://skipper.caltech.edu:8080/cgi-bin/growth/view_source.cgi?name=ZTF18abptskn\n",
      "\n",
      "(1) in progress, i.e. in SEDM queue likely to be observed\n",
      "(2) failed, i.e. obs not good, too faint or too low priority\n",
      "(3) done, i.e a spectrum was observed by some telescope showing it either to be a SNIa or not\n",
      "(0) skip\n",
      "Please select one of the options above: 3\n"
     ]
    },
    {
     "name": "stderr",
     "output_type": "stream",
     "text": [
      "INFO:ufeindt:Source ZTF18abptskn added (status: done).\n",
      "INFO:ufeindt:Source ZTF18abscygs has classification SN Ia on the marshal now. Marking it as done.\n"
     ]
    },
    {
     "name": "stdout",
     "output_type": "stream",
     "text": [
      "Please re-check the SEDM status of target ZTF18abtkctg:\n",
      "http://skipper.caltech.edu:8080/cgi-bin/growth/view_source.cgi?name=ZTF18abtkctg\n",
      "\n",
      "(1) in progress, i.e. in SEDM queue likely to be observed\n",
      "(2) failed, i.e. obs not good, too faint or too low priority\n",
      "(3) done, i.e a spectrum was observed by some telescope showing it either to be a SNIa or not\n",
      "(0) skip\n",
      "Please select one of the options above: 0\n"
     ]
    },
    {
     "name": "stderr",
     "output_type": "stream",
     "text": [
      "INFO:ufeindt:Source ZTF18abtkctg skipped.\n"
     ]
    },
    {
     "name": "stdout",
     "output_type": "stream",
     "text": [
      "Please re-check the SEDM status of target ZTF18absnsqx:\n",
      "http://skipper.caltech.edu:8080/cgi-bin/growth/view_source.cgi?name=ZTF18absnsqx\n",
      "\n",
      "(1) in progress, i.e. in SEDM queue likely to be observed\n",
      "(2) failed, i.e. obs not good, too faint or too low priority\n",
      "(3) done, i.e a spectrum was observed by some telescope showing it either to be a SNIa or not\n",
      "(0) skip\n",
      "Please select one of the options above: 3\n"
     ]
    },
    {
     "name": "stderr",
     "output_type": "stream",
     "text": [
      "INFO:ufeindt:Source ZTF18absnsqx added (status: done).\n"
     ]
    },
    {
     "name": "stdout",
     "output_type": "stream",
     "text": [
      "Please re-check the SEDM status of target ZTF18abrwrch:\n",
      "http://skipper.caltech.edu:8080/cgi-bin/growth/view_source.cgi?name=ZTF18abrwrch\n",
      "\n",
      "(1) in progress, i.e. in SEDM queue likely to be observed\n",
      "(2) failed, i.e. obs not good, too faint or too low priority\n",
      "(3) done, i.e a spectrum was observed by some telescope showing it either to be a SNIa or not\n",
      "(0) skip\n",
      "Please select one of the options above: 0\n"
     ]
    },
    {
     "name": "stderr",
     "output_type": "stream",
     "text": [
      "INFO:ufeindt:Source ZTF18abrwrch skipped.\n",
      "INFO:ufeindt:Source ZTF18abtogdl has classification SN Ia on the marshal now. Marking it as done.\n"
     ]
    },
    {
     "name": "stdout",
     "output_type": "stream",
     "text": [
      "Please re-check the SEDM status of target ZTF18abuicad:\n",
      "http://skipper.caltech.edu:8080/cgi-bin/growth/view_source.cgi?name=ZTF18abuicad\n",
      "\n",
      "(1) in progress, i.e. in SEDM queue likely to be observed\n",
      "(2) failed, i.e. obs not good, too faint or too low priority\n",
      "(3) done, i.e a spectrum was observed by some telescope showing it either to be a SNIa or not\n",
      "(0) skip\n",
      "Please select one of the options above: 0\n"
     ]
    },
    {
     "name": "stderr",
     "output_type": "stream",
     "text": [
      "INFO:ufeindt:Source ZTF18abuicad skipped.\n"
     ]
    },
    {
     "name": "stdout",
     "output_type": "stream",
     "text": [
      "Please re-check the SEDM status of target ZTF18absmqmw:\n",
      "http://skipper.caltech.edu:8080/cgi-bin/growth/view_source.cgi?name=ZTF18absmqmw\n",
      "\n",
      "(1) in progress, i.e. in SEDM queue likely to be observed\n",
      "(2) failed, i.e. obs not good, too faint or too low priority\n",
      "(3) done, i.e a spectrum was observed by some telescope showing it either to be a SNIa or not\n",
      "(0) skip\n",
      "Please select one of the options above: 0\n"
     ]
    },
    {
     "name": "stderr",
     "output_type": "stream",
     "text": [
      "INFO:ufeindt:Source ZTF18absmqmw skipped.\n"
     ]
    },
    {
     "name": "stdout",
     "output_type": "stream",
     "text": [
      "Please re-check the SEDM status of target ZTF18absbspk:\n",
      "http://skipper.caltech.edu:8080/cgi-bin/growth/view_source.cgi?name=ZTF18absbspk\n",
      "\n",
      "(1) in progress, i.e. in SEDM queue likely to be observed\n",
      "(2) failed, i.e. obs not good, too faint or too low priority\n",
      "(3) done, i.e a spectrum was observed by some telescope showing it either to be a SNIa or not\n",
      "(0) skip\n",
      "Please select one of the options above: 1\n"
     ]
    },
    {
     "name": "stderr",
     "output_type": "stream",
     "text": [
      "INFO:ufeindt:Source ZTF18absbspk added (status: in_progress).\n"
     ]
    },
    {
     "name": "stdout",
     "output_type": "stream",
     "text": [
      "Please re-check the SEDM status of target ZTF18abuluko:\n",
      "http://skipper.caltech.edu:8080/cgi-bin/growth/view_source.cgi?name=ZTF18abuluko\n",
      "\n",
      "(1) in progress, i.e. in SEDM queue likely to be observed\n",
      "(2) failed, i.e. obs not good, too faint or too low priority\n",
      "(3) done, i.e a spectrum was observed by some telescope showing it either to be a SNIa or not\n",
      "(0) skip\n",
      "Please select one of the options above: 2\n"
     ]
    },
    {
     "name": "stderr",
     "output_type": "stream",
     "text": [
      "INFO:ufeindt:Source ZTF18abuluko added (status: failed).\n"
     ]
    },
    {
     "name": "stdout",
     "output_type": "stream",
     "text": [
      "Please re-check the SEDM status of target ZTF18aburkuo:\n",
      "http://skipper.caltech.edu:8080/cgi-bin/growth/view_source.cgi?name=ZTF18aburkuo\n",
      "\n",
      "(1) in progress, i.e. in SEDM queue likely to be observed\n",
      "(2) failed, i.e. obs not good, too faint or too low priority\n",
      "(3) done, i.e a spectrum was observed by some telescope showing it either to be a SNIa or not\n",
      "(0) skip\n",
      "Please select one of the options above: 2\n"
     ]
    },
    {
     "name": "stderr",
     "output_type": "stream",
     "text": [
      "INFO:ufeindt:Source ZTF18aburkuo added (status: failed).\n"
     ]
    },
    {
     "name": "stdout",
     "output_type": "stream",
     "text": [
      "Please re-check the SEDM status of target ZTF18abuksxd:\n",
      "http://skipper.caltech.edu:8080/cgi-bin/growth/view_source.cgi?name=ZTF18abuksxd\n",
      "\n",
      "(1) in progress, i.e. in SEDM queue likely to be observed\n",
      "(2) failed, i.e. obs not good, too faint or too low priority\n",
      "(3) done, i.e a spectrum was observed by some telescope showing it either to be a SNIa or not\n",
      "(0) skip\n",
      "Please select one of the options above: 2\n"
     ]
    },
    {
     "name": "stderr",
     "output_type": "stream",
     "text": [
      "INFO:ufeindt:Source ZTF18abuksxd added (status: failed).\n"
     ]
    },
    {
     "name": "stdout",
     "output_type": "stream",
     "text": [
      "Please re-check the SEDM status of target ZTF18abvnqqk:\n",
      "http://skipper.caltech.edu:8080/cgi-bin/growth/view_source.cgi?name=ZTF18abvnqqk\n",
      "\n",
      "(1) in progress, i.e. in SEDM queue likely to be observed\n",
      "(2) failed, i.e. obs not good, too faint or too low priority\n",
      "(3) done, i.e a spectrum was observed by some telescope showing it either to be a SNIa or not\n",
      "(0) skip\n",
      "Please select one of the options above: 2\n"
     ]
    },
    {
     "name": "stderr",
     "output_type": "stream",
     "text": [
      "INFO:ufeindt:Source ZTF18abvnqqk added (status: failed).\n"
     ]
    },
    {
     "name": "stdout",
     "output_type": "stream",
     "text": [
      "Please re-check the SEDM status of target ZTF18abuioue:\n",
      "http://skipper.caltech.edu:8080/cgi-bin/growth/view_source.cgi?name=ZTF18abuioue\n",
      "\n",
      "(1) in progress, i.e. in SEDM queue likely to be observed\n",
      "(2) failed, i.e. obs not good, too faint or too low priority\n",
      "(3) done, i.e a spectrum was observed by some telescope showing it either to be a SNIa or not\n",
      "(0) skip\n",
      "Please select one of the options above: 1\n"
     ]
    },
    {
     "name": "stderr",
     "output_type": "stream",
     "text": [
      "INFO:ufeindt:Source ZTF18abuioue added (status: in_progress).\n"
     ]
    },
    {
     "name": "stdout",
     "output_type": "stream",
     "text": [
      "Please re-check the SEDM status of target ZTF18abvvqtf:\n",
      "http://skipper.caltech.edu:8080/cgi-bin/growth/view_source.cgi?name=ZTF18abvvqtf\n",
      "\n",
      "(1) in progress, i.e. in SEDM queue likely to be observed\n",
      "(2) failed, i.e. obs not good, too faint or too low priority\n",
      "(3) done, i.e a spectrum was observed by some telescope showing it either to be a SNIa or not\n",
      "(0) skip\n",
      "Please select one of the options above: 1\n"
     ]
    },
    {
     "name": "stderr",
     "output_type": "stream",
     "text": [
      "INFO:ufeindt:Source ZTF18abvvqtf added (status: in_progress).\n",
      "INFO:ufeindt:Source ZTF18abwtops has classification SN Ia on the marshal now. Marking it as done.\n"
     ]
    },
    {
     "name": "stdout",
     "output_type": "stream",
     "text": [
      "Please re-check the SEDM status of target ZTF18abwblyl:\n",
      "http://skipper.caltech.edu:8080/cgi-bin/growth/view_source.cgi?name=ZTF18abwblyl\n",
      "\n",
      "(1) in progress, i.e. in SEDM queue likely to be observed\n",
      "(2) failed, i.e. obs not good, too faint or too low priority\n",
      "(3) done, i.e a spectrum was observed by some telescope showing it either to be a SNIa or not\n",
      "(0) skip\n",
      "Please select one of the options above: 0\n"
     ]
    },
    {
     "name": "stderr",
     "output_type": "stream",
     "text": [
      "INFO:ufeindt:Source ZTF18abwblyl skipped.\n"
     ]
    },
    {
     "name": "stdout",
     "output_type": "stream",
     "text": [
      "Please re-check the SEDM status of target ZTF18abtywgf:\n",
      "http://skipper.caltech.edu:8080/cgi-bin/growth/view_source.cgi?name=ZTF18abtywgf\n",
      "\n",
      "(1) in progress, i.e. in SEDM queue likely to be observed\n",
      "(2) failed, i.e. obs not good, too faint or too low priority\n",
      "(3) done, i.e a spectrum was observed by some telescope showing it either to be a SNIa or not\n",
      "(0) skip\n",
      "Please select one of the options above: 0\n"
     ]
    },
    {
     "name": "stderr",
     "output_type": "stream",
     "text": [
      "INFO:ufeindt:Source ZTF18abtywgf skipped.\n"
     ]
    },
    {
     "name": "stdout",
     "output_type": "stream",
     "text": [
      "Please re-check the SEDM status of target ZTF18abucflq:\n",
      "http://skipper.caltech.edu:8080/cgi-bin/growth/view_source.cgi?name=ZTF18abucflq\n",
      "\n",
      "(1) in progress, i.e. in SEDM queue likely to be observed\n",
      "(2) failed, i.e. obs not good, too faint or too low priority\n",
      "(3) done, i.e a spectrum was observed by some telescope showing it either to be a SNIa or not\n",
      "(0) skip\n",
      "Please select one of the options above: 3\n"
     ]
    },
    {
     "name": "stderr",
     "output_type": "stream",
     "text": [
      "INFO:ufeindt:Source ZTF18abucflq added (status: done).\n"
     ]
    },
    {
     "name": "stdout",
     "output_type": "stream",
     "text": [
      "Please re-check the SEDM status of target ZTF18abvrgjc:\n",
      "http://skipper.caltech.edu:8080/cgi-bin/growth/view_source.cgi?name=ZTF18abvrgjc\n",
      "\n",
      "(1) in progress, i.e. in SEDM queue likely to be observed\n",
      "(2) failed, i.e. obs not good, too faint or too low priority\n",
      "(3) done, i.e a spectrum was observed by some telescope showing it either to be a SNIa or not\n",
      "(0) skip\n",
      "Please select one of the options above: 0\n"
     ]
    },
    {
     "name": "stderr",
     "output_type": "stream",
     "text": [
      "INFO:ufeindt:Source ZTF18abvrgjc skipped.\n"
     ]
    },
    {
     "name": "stdout",
     "output_type": "stream",
     "text": [
      "Please re-check the SEDM status of target ZTF18abwkxgo:\n",
      "http://skipper.caltech.edu:8080/cgi-bin/growth/view_source.cgi?name=ZTF18abwkxgo\n",
      "\n",
      "(1) in progress, i.e. in SEDM queue likely to be observed\n",
      "(2) failed, i.e. obs not good, too faint or too low priority\n",
      "(3) done, i.e a spectrum was observed by some telescope showing it either to be a SNIa or not\n",
      "(0) skip\n",
      "Please select one of the options above: 0\n"
     ]
    },
    {
     "name": "stderr",
     "output_type": "stream",
     "text": [
      "INFO:ufeindt:Source ZTF18abwkxgo skipped.\n",
      "INFO:ufeindt:Source ZTF18abxygvv has classification SN Ia on the marshal now. Marking it as done.\n"
     ]
    },
    {
     "name": "stdout",
     "output_type": "stream",
     "text": [
      "Please re-check the SEDM status of target ZTF18abwlejr:\n",
      "http://skipper.caltech.edu:8080/cgi-bin/growth/view_source.cgi?name=ZTF18abwlejr\n",
      "\n",
      "(1) in progress, i.e. in SEDM queue likely to be observed\n",
      "(2) failed, i.e. obs not good, too faint or too low priority\n",
      "(3) done, i.e a spectrum was observed by some telescope showing it either to be a SNIa or not\n",
      "(0) skip\n",
      "Please select one of the options above: 2\n"
     ]
    },
    {
     "name": "stderr",
     "output_type": "stream",
     "text": [
      "INFO:ufeindt:Source ZTF18abwlejr added (status: failed).\n",
      "INFO:ufeindt:Source ZTF18abwnsoc has classification SN Ia on the marshal now. Marking it as done.\n"
     ]
    },
    {
     "name": "stdout",
     "output_type": "stream",
     "text": [
      "Please re-check the SEDM status of target ZTF18abxdkny:\n",
      "http://skipper.caltech.edu:8080/cgi-bin/growth/view_source.cgi?name=ZTF18abxdkny\n",
      "\n",
      "(1) in progress, i.e. in SEDM queue likely to be observed\n",
      "(2) failed, i.e. obs not good, too faint or too low priority\n",
      "(3) done, i.e a spectrum was observed by some telescope showing it either to be a SNIa or not\n",
      "(0) skip\n",
      "Please select one of the options above: 0\n"
     ]
    },
    {
     "name": "stderr",
     "output_type": "stream",
     "text": [
      "INFO:ufeindt:Source ZTF18abxdkny skipped.\n"
     ]
    },
    {
     "name": "stdout",
     "output_type": "stream",
     "text": [
      "Please re-check the SEDM status of target ZTF18abwlpzf:\n",
      "http://skipper.caltech.edu:8080/cgi-bin/growth/view_source.cgi?name=ZTF18abwlpzf\n",
      "\n",
      "(1) in progress, i.e. in SEDM queue likely to be observed\n",
      "(2) failed, i.e. obs not good, too faint or too low priority\n",
      "(3) done, i.e a spectrum was observed by some telescope showing it either to be a SNIa or not\n",
      "(0) skip\n",
      "Please select one of the options above: 0\n"
     ]
    },
    {
     "name": "stderr",
     "output_type": "stream",
     "text": [
      "INFO:ufeindt:Source ZTF18abwlpzf skipped.\n"
     ]
    },
    {
     "name": "stdout",
     "output_type": "stream",
     "text": [
      "Please re-check the SEDM status of target ZTF18ablllyw:\n",
      "http://skipper.caltech.edu:8080/cgi-bin/growth/view_source.cgi?name=ZTF18ablllyw\n",
      "\n",
      "(1) in progress, i.e. in SEDM queue likely to be observed\n",
      "(2) failed, i.e. obs not good, too faint or too low priority\n",
      "(3) done, i.e a spectrum was observed by some telescope showing it either to be a SNIa or not\n",
      "(0) skip\n",
      "Please select one of the options above: 2\n"
     ]
    },
    {
     "name": "stderr",
     "output_type": "stream",
     "text": [
      "INFO:ufeindt:Source ZTF18ablllyw added (status: failed).\n"
     ]
    },
    {
     "name": "stdout",
     "output_type": "stream",
     "text": [
      "Please re-check the SEDM status of target ZTF18abthaii:\n",
      "http://skipper.caltech.edu:8080/cgi-bin/growth/view_source.cgi?name=ZTF18abthaii\n",
      "\n",
      "(1) in progress, i.e. in SEDM queue likely to be observed\n",
      "(2) failed, i.e. obs not good, too faint or too low priority\n",
      "(3) done, i.e a spectrum was observed by some telescope showing it either to be a SNIa or not\n",
      "(0) skip\n",
      "Please select one of the options above: 3\n"
     ]
    },
    {
     "name": "stderr",
     "output_type": "stream",
     "text": [
      "INFO:ufeindt:Source ZTF18abthaii added (status: done).\n"
     ]
    },
    {
     "name": "stdout",
     "output_type": "stream",
     "text": [
      "Please re-check the SEDM status of target ZTF18abtghbi:\n",
      "http://skipper.caltech.edu:8080/cgi-bin/growth/view_source.cgi?name=ZTF18abtghbi\n",
      "\n",
      "(1) in progress, i.e. in SEDM queue likely to be observed\n",
      "(2) failed, i.e. obs not good, too faint or too low priority\n",
      "(3) done, i.e a spectrum was observed by some telescope showing it either to be a SNIa or not\n",
      "(0) skip\n",
      "Please select one of the options above: 0\n"
     ]
    },
    {
     "name": "stderr",
     "output_type": "stream",
     "text": [
      "INFO:ufeindt:Source ZTF18abtghbi skipped.\n"
     ]
    },
    {
     "name": "stdout",
     "output_type": "stream",
     "text": [
      "Please re-check the SEDM status of target ZTF18abtswjk:\n",
      "http://skipper.caltech.edu:8080/cgi-bin/growth/view_source.cgi?name=ZTF18abtswjk\n",
      "\n",
      "(1) in progress, i.e. in SEDM queue likely to be observed\n",
      "(2) failed, i.e. obs not good, too faint or too low priority\n",
      "(3) done, i.e a spectrum was observed by some telescope showing it either to be a SNIa or not\n",
      "(0) skip\n",
      "Please select one of the options above: 1\n"
     ]
    },
    {
     "name": "stderr",
     "output_type": "stream",
     "text": [
      "INFO:ufeindt:Source ZTF18abtswjk added (status: in_progress).\n"
     ]
    },
    {
     "name": "stdout",
     "output_type": "stream",
     "text": [
      "Please re-check the SEDM status of target ZTF18abqdwze:\n",
      "http://skipper.caltech.edu:8080/cgi-bin/growth/view_source.cgi?name=ZTF18abqdwze\n",
      "\n",
      "(1) in progress, i.e. in SEDM queue likely to be observed\n",
      "(2) failed, i.e. obs not good, too faint or too low priority\n",
      "(3) done, i.e a spectrum was observed by some telescope showing it either to be a SNIa or not\n",
      "(0) skip\n",
      "Please select one of the options above: 2\n"
     ]
    },
    {
     "name": "stderr",
     "output_type": "stream",
     "text": [
      "INFO:ufeindt:Source ZTF18abqdwze added (status: failed).\n"
     ]
    },
    {
     "name": "stdout",
     "output_type": "stream",
     "text": [
      "Please re-check the SEDM status of target ZTF18abwfmot:\n",
      "http://skipper.caltech.edu:8080/cgi-bin/growth/view_source.cgi?name=ZTF18abwfmot\n",
      "\n",
      "(1) in progress, i.e. in SEDM queue likely to be observed\n",
      "(2) failed, i.e. obs not good, too faint or too low priority\n",
      "(3) done, i.e a spectrum was observed by some telescope showing it either to be a SNIa or not\n",
      "(0) skip\n",
      "Please select one of the options above: 1\n"
     ]
    },
    {
     "name": "stderr",
     "output_type": "stream",
     "text": [
      "INFO:ufeindt:Source ZTF18abwfmot added (status: in_progress).\n",
      "INFO:ufeindt:Source ZTF18absoomk has classification SN Ia on the marshal now. Marking it as done.\n"
     ]
    },
    {
     "name": "stdout",
     "output_type": "stream",
     "text": [
      "Please re-check the SEDM status of target ZTF18abvnwzz:\n",
      "http://skipper.caltech.edu:8080/cgi-bin/growth/view_source.cgi?name=ZTF18abvnwzz\n",
      "\n",
      "(1) in progress, i.e. in SEDM queue likely to be observed\n",
      "(2) failed, i.e. obs not good, too faint or too low priority\n",
      "(3) done, i.e a spectrum was observed by some telescope showing it either to be a SNIa or not\n",
      "(0) skip\n",
      "Please select one of the options above: 0\n"
     ]
    },
    {
     "name": "stderr",
     "output_type": "stream",
     "text": [
      "INFO:ufeindt:Source ZTF18abvnwzz skipped.\n"
     ]
    },
    {
     "name": "stdout",
     "output_type": "stream",
     "text": [
      "Please re-check the SEDM status of target ZTF18aaupjtd:\n",
      "http://skipper.caltech.edu:8080/cgi-bin/growth/view_source.cgi?name=ZTF18aaupjtd\n",
      "\n",
      "(1) in progress, i.e. in SEDM queue likely to be observed\n",
      "(2) failed, i.e. obs not good, too faint or too low priority\n",
      "(3) done, i.e a spectrum was observed by some telescope showing it either to be a SNIa or not\n",
      "(0) skip\n",
      "Please select one of the options above: 0\n"
     ]
    },
    {
     "name": "stderr",
     "output_type": "stream",
     "text": [
      "INFO:ufeindt:Source ZTF18aaupjtd skipped.\n"
     ]
    },
    {
     "name": "stdout",
     "output_type": "stream",
     "text": [
      "Please re-check the SEDM status of target ZTF18ablruzq:\n",
      "http://skipper.caltech.edu:8080/cgi-bin/growth/view_source.cgi?name=ZTF18ablruzq\n",
      "\n",
      "(1) in progress, i.e. in SEDM queue likely to be observed\n",
      "(2) failed, i.e. obs not good, too faint or too low priority\n",
      "(3) done, i.e a spectrum was observed by some telescope showing it either to be a SNIa or not\n",
      "(0) skip\n",
      "Please select one of the options above: 0\n"
     ]
    },
    {
     "name": "stderr",
     "output_type": "stream",
     "text": [
      "INFO:ufeindt:Source ZTF18ablruzq skipped.\n",
      "INFO:ufeindt:Source ZTF18abtxvhy has classification SN Ia on the marshal now. Marking it as done.\n"
     ]
    },
    {
     "name": "stdout",
     "output_type": "stream",
     "text": [
      "Please re-check the SEDM status of target ZTF18abrzuqw:\n",
      "http://skipper.caltech.edu:8080/cgi-bin/growth/view_source.cgi?name=ZTF18abrzuqw\n",
      "\n",
      "(1) in progress, i.e. in SEDM queue likely to be observed\n",
      "(2) failed, i.e. obs not good, too faint or too low priority\n",
      "(3) done, i.e a spectrum was observed by some telescope showing it either to be a SNIa or not\n",
      "(0) skip\n",
      "Please select one of the options above: 1\n"
     ]
    },
    {
     "name": "stderr",
     "output_type": "stream",
     "text": [
      "INFO:ufeindt:Source ZTF18abrzuqw added (status: in_progress).\n"
     ]
    },
    {
     "name": "stdout",
     "output_type": "stream",
     "text": [
      "Please re-check the SEDM status of target ZTF18abvrzqj:\n",
      "http://skipper.caltech.edu:8080/cgi-bin/growth/view_source.cgi?name=ZTF18abvrzqj\n",
      "\n",
      "(1) in progress, i.e. in SEDM queue likely to be observed\n",
      "(2) failed, i.e. obs not good, too faint or too low priority\n",
      "(3) done, i.e a spectrum was observed by some telescope showing it either to be a SNIa or not\n",
      "(0) skip\n",
      "Please select one of the options above: 1\n"
     ]
    },
    {
     "name": "stderr",
     "output_type": "stream",
     "text": [
      "INFO:ufeindt:Source ZTF18abvrzqj added (status: in_progress).\n"
     ]
    },
    {
     "name": "stdout",
     "output_type": "stream",
     "text": [
      "Please re-check the SEDM status of target ZTF18abwbtco:\n",
      "http://skipper.caltech.edu:8080/cgi-bin/growth/view_source.cgi?name=ZTF18abwbtco\n",
      "\n",
      "(1) in progress, i.e. in SEDM queue likely to be observed\n",
      "(2) failed, i.e. obs not good, too faint or too low priority\n",
      "(3) done, i.e a spectrum was observed by some telescope showing it either to be a SNIa or not\n",
      "(0) skip\n",
      "Please select one of the options above: 3\n"
     ]
    },
    {
     "name": "stderr",
     "output_type": "stream",
     "text": [
      "INFO:ufeindt:Source ZTF18abwbtco added (status: done).\n"
     ]
    },
    {
     "name": "stdout",
     "output_type": "stream",
     "text": [
      "Please re-check the SEDM status of target ZTF18abvfecb:\n",
      "http://skipper.caltech.edu:8080/cgi-bin/growth/view_source.cgi?name=ZTF18abvfecb\n",
      "\n",
      "(1) in progress, i.e. in SEDM queue likely to be observed\n",
      "(2) failed, i.e. obs not good, too faint or too low priority\n",
      "(3) done, i.e a spectrum was observed by some telescope showing it either to be a SNIa or not\n",
      "(0) skip\n",
      "Please select one of the options above: 3\n"
     ]
    },
    {
     "name": "stderr",
     "output_type": "stream",
     "text": [
      "INFO:ufeindt:Source ZTF18abvfecb added (status: done).\n"
     ]
    },
    {
     "name": "stdout",
     "output_type": "stream",
     "text": [
      "Please re-check the SEDM status of target ZTF18abxdkni:\n",
      "http://skipper.caltech.edu:8080/cgi-bin/growth/view_source.cgi?name=ZTF18abxdkni\n",
      "\n",
      "(1) in progress, i.e. in SEDM queue likely to be observed\n",
      "(2) failed, i.e. obs not good, too faint or too low priority\n",
      "(3) done, i.e a spectrum was observed by some telescope showing it either to be a SNIa or not\n",
      "(0) skip\n",
      "Please select one of the options above: 2\n"
     ]
    },
    {
     "name": "stderr",
     "output_type": "stream",
     "text": [
      "INFO:ufeindt:Source ZTF18abxdkni added (status: failed).\n"
     ]
    },
    {
     "name": "stdout",
     "output_type": "stream",
     "text": [
      "Please re-check the SEDM status of target ZTF18absgvqb:\n",
      "http://skipper.caltech.edu:8080/cgi-bin/growth/view_source.cgi?name=ZTF18absgvqb\n",
      "\n",
      "(1) in progress, i.e. in SEDM queue likely to be observed\n",
      "(2) failed, i.e. obs not good, too faint or too low priority\n",
      "(3) done, i.e a spectrum was observed by some telescope showing it either to be a SNIa or not\n",
      "(0) skip\n",
      "Please select one of the options above: 0\n"
     ]
    },
    {
     "name": "stderr",
     "output_type": "stream",
     "text": [
      "INFO:ufeindt:Source ZTF18absgvqb skipped.\n"
     ]
    },
    {
     "name": "stdout",
     "output_type": "stream",
     "text": [
      "Please re-check the SEDM status of target ZTF18abwktmm:\n",
      "http://skipper.caltech.edu:8080/cgi-bin/growth/view_source.cgi?name=ZTF18abwktmm\n",
      "\n",
      "(1) in progress, i.e. in SEDM queue likely to be observed\n",
      "(2) failed, i.e. obs not good, too faint or too low priority\n",
      "(3) done, i.e a spectrum was observed by some telescope showing it either to be a SNIa or not\n",
      "(0) skip\n",
      "Please select one of the options above: 3\n"
     ]
    },
    {
     "name": "stderr",
     "output_type": "stream",
     "text": [
      "INFO:ufeindt:Source ZTF18abwktmm added (status: done).\n"
     ]
    },
    {
     "name": "stdout",
     "output_type": "stream",
     "text": [
      "Please re-check the SEDM status of target ZTF18abxyudf:\n",
      "http://skipper.caltech.edu:8080/cgi-bin/growth/view_source.cgi?name=ZTF18abxyudf\n",
      "\n",
      "(1) in progress, i.e. in SEDM queue likely to be observed\n",
      "(2) failed, i.e. obs not good, too faint or too low priority\n",
      "(3) done, i.e a spectrum was observed by some telescope showing it either to be a SNIa or not\n",
      "(0) skip\n",
      "Please select one of the options above: 1\n"
     ]
    },
    {
     "name": "stderr",
     "output_type": "stream",
     "text": [
      "INFO:ufeindt:Source ZTF18abxyudf added (status: in_progress).\n"
     ]
    },
    {
     "name": "stdout",
     "output_type": "stream",
     "text": [
      "Please re-check the SEDM status of target ZTF18abxwiqz:\n",
      "http://skipper.caltech.edu:8080/cgi-bin/growth/view_source.cgi?name=ZTF18abxwiqz\n",
      "\n",
      "(1) in progress, i.e. in SEDM queue likely to be observed\n",
      "(2) failed, i.e. obs not good, too faint or too low priority\n",
      "(3) done, i.e a spectrum was observed by some telescope showing it either to be a SNIa or not\n",
      "(0) skip\n",
      "Please select one of the options above: 1\n"
     ]
    },
    {
     "name": "stderr",
     "output_type": "stream",
     "text": [
      "INFO:ufeindt:Source ZTF18abxwiqz added (status: in_progress).\n"
     ]
    },
    {
     "name": "stdout",
     "output_type": "stream",
     "text": [
      "Please re-check the SEDM status of target ZTF18abxbhov:\n",
      "http://skipper.caltech.edu:8080/cgi-bin/growth/view_source.cgi?name=ZTF18abxbhov\n",
      "\n",
      "(1) in progress, i.e. in SEDM queue likely to be observed\n",
      "(2) failed, i.e. obs not good, too faint or too low priority\n",
      "(3) done, i.e a spectrum was observed by some telescope showing it either to be a SNIa or not\n",
      "(0) skip\n",
      "Please select one of the options above: 2\n"
     ]
    },
    {
     "name": "stderr",
     "output_type": "stream",
     "text": [
      "INFO:ufeindt:Source ZTF18abxbhov added (status: failed).\n",
      "INFO:ufeindt:Source ZTF18abvtrnc has classification SN Ia on the marshal now. Marking it as done.\n"
     ]
    },
    {
     "name": "stdout",
     "output_type": "stream",
     "text": [
      "Please re-check the SEDM status of target ZTF17aabihdn:\n",
      "http://skipper.caltech.edu:8080/cgi-bin/growth/view_source.cgi?name=ZTF17aabihdn\n",
      "\n",
      "(1) in progress, i.e. in SEDM queue likely to be observed\n",
      "(2) failed, i.e. obs not good, too faint or too low priority\n",
      "(3) done, i.e a spectrum was observed by some telescope showing it either to be a SNIa or not\n",
      "(0) skip\n",
      "Please select one of the options above: 0\n"
     ]
    },
    {
     "name": "stderr",
     "output_type": "stream",
     "text": [
      "INFO:ufeindt:Source ZTF17aabihdn skipped.\n"
     ]
    }
   ],
   "source": [
    "# Step 3: Go through targets not in the list and check their status\n",
    "# Skip sources that are not scheduled for SEDM\n",
    "logger.info('Step 3: Checking new sources')\n",
    "for snname in targets.keys():\n",
    "    if snname not in allocation.keys():\n",
    "        cl = pl.sources[snname]['classification']\n",
    "        if cl is not None:\n",
    "            if snname not in allocation:\n",
    "                allocation[snname] = {}\n",
    "            allocation[snname]['sedm'] = [date, 'done']\n",
    "            logger.info('Source %s has classification %s on the marshal now. Marking it as done.'%(snname, cl))\n",
    "        else:\n",
    "            done = False\n",
    "            while not done:\n",
    "                o_ = input_prompt(snname)\n",
    "                if o_ == 'skip':\n",
    "                    logger.info('Source %s skipped.'%(snname))\n",
    "                    done = True\n",
    "                    clear_output()\n",
    "                elif o_ is not None:\n",
    "                    if snname not in allocation:\n",
    "                        allocation[snname] = {}\n",
    "                    allocation[snname]['sedm'] = [date, o_]\n",
    "                    logger.info('Source %s added (status: %s).'%(snname, o_))\n",
    "                    done = True\n",
    "                    clear_output()\n",
    "                else:\n",
    "                    clear_output()\n",
    "                    print('Error: Please select one of the options.')"
   ]
  },
  {
   "cell_type": "code",
   "execution_count": 67,
   "metadata": {},
   "outputs": [],
   "source": [
    "json.dump(allocation, open('sne_allocation.json', 'w'))"
   ]
  },
  {
   "cell_type": "code",
   "execution_count": null,
   "metadata": {},
   "outputs": [],
   "source": []
  }
 ],
 "metadata": {
  "kernelspec": {
   "display_name": "Python 3",
   "language": "python",
   "name": "python3"
  },
  "language_info": {
   "codemirror_mode": {
    "name": "ipython",
    "version": 3
   },
   "file_extension": ".py",
   "mimetype": "text/x-python",
   "name": "python",
   "nbconvert_exporter": "python",
   "pygments_lexer": "ipython3",
   "version": "3.6.5"
  }
 },
 "nbformat": 4,
 "nbformat_minor": 2
}
