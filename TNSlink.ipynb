{
 "cells": [
  {
   "cell_type": "code",
   "execution_count": 1,
   "metadata": {},
   "outputs": [
    {
     "name": "stderr",
     "output_type": "stream",
     "text": [
      "/home/jnordin/local/miniconda2/envs/py36/lib/python3.6/importlib/_bootstrap.py:219: RuntimeWarning: numpy.dtype size changed, may indicate binary incompatibility. Expected 96, got 88\n",
      "  return f(*args, **kwds)\n",
      "/home/jnordin/local/miniconda2/envs/py36/lib/python3.6/importlib/_bootstrap.py:219: RuntimeWarning: numpy.dtype size changed, may indicate binary incompatibility. Expected 96, got 88\n",
      "  return f(*args, **kwds)\n"
     ]
    }
   ],
   "source": [
    "%load_ext autoreload\n",
    "%autoreload 2\n",
    "import sys, os, time\n",
    "import requests\n",
    "import logging\n",
    "import json\n",
    "import numpy as np\n",
    "import time\n",
    "import pandas as pd\n",
    "from utils import get_config\n",
    "import marshaltools\n",
    "from tns_bulk_report import addBulkReport, getBulkReportReply, TNSClient\n",
    "#import prepare_report as pr"
   ]
  },
  {
   "cell_type": "code",
   "execution_count": 2,
   "metadata": {},
   "outputs": [],
   "source": [
    "# These are the selection parameters, so sync with T3 later\n",
    "minpeakmag = 19.5   # A candidate need to have at least one detection brigther than this\n",
    "mindet = 5          # A candidate need to have at least this many detections\n",
    "minrefframes = 1    # Cut away alert information where this is not positive (how can it not be, but ok...)\n",
    "apikey = \"a3f9bcbbe6a26a1ae97a0eeefe465932e68cba83\" # public alerts\n",
    "#apikey = \"5c8fe85084b1c6f281f5d0e135e166af361ecfc3\" # private partnership data"
   ]
  },
  {
   "cell_type": "code",
   "execution_count": 17,
   "metadata": {},
   "outputs": [],
   "source": [
    "config = get_config()\n",
    "username = config['username']\n",
    "date = '2018-09-21'\n",
    "logpath = './logs/'\n",
    "logger = logging.getLogger(username)\n",
    "handler = logging.FileHandler(os.path.join(logpath, 'tnssubmit_%s_%s.log'%(date,username)))\n",
    "handler.setLevel(logging.INFO)\n",
    "formatter = logging.Formatter('%(asctime)s - %(name)s - %(levelname)s - %(message)s')\n",
    "handler.setFormatter(formatter)\n",
    "logger.addHandler(handler)"
   ]
  },
  {
   "cell_type": "code",
   "execution_count": 18,
   "metadata": {},
   "outputs": [
    {
     "name": "stdout",
     "output_type": "stream",
     "text": [
      "/home/jnordin/Downloads/\n",
      "ZTF18absldfl\n",
      "ZTF18aaqiivp\n",
      "ZTF18abqlpgq\n",
      "ZTF18abgmcmv\n",
      "ZTF18aayaphx\n",
      "ZTF18abnvotk\n",
      "ZTF18abrlupd\n",
      "ZTF18abeajml\n",
      "ZTF18abqboud\n",
      "ZTF18aavqdyq\n",
      "ZTF18abobkii\n",
      "ZTF18abtkpxi\n",
      "2018-09-21: Skipping ZTF18abtkpxi, never reached limit 19.5\n",
      "ZTF18abhpdpk\n",
      "2018-09-21: Skipping ZTF18abhpdpk, never reached limit 19.5\n",
      "ZTF18abehrdw\n",
      "2018-09-21: Skipping ZTF18abehrdw, less than 5 detections\n",
      "ZTF18absmsbm\n",
      "2018-09-21: Skipping ZTF18absmsbm, never reached limit 19.5\n",
      "ZTF17aaaafcd\n",
      "ZTF18abjrbza\n",
      "2018-09-21: Skipping ZTF18abjrbza, less than 5 detections\n",
      "ZTF18ablrlbm\n",
      "ZTF18abtgzie\n",
      "2018-09-21: Skipping ZTF18abtgzie, never reached limit 19.5\n",
      "ZTF18abtghbi\n",
      "ZTF18abtnflo\n",
      "ZTF18aaupjtd\n",
      "ZTF18abpamut\n",
      "ZTF18abmwfxd\n",
      "ZTF18abtcdfv\n",
      "2018-09-21: Skipping ZTF18abtcdfv, never reached limit 19.5\n",
      "ZTF18abryewg\n",
      "ZTF18abodiov\n",
      "2018-09-21: Skipping ZTF18abodiov, never reached limit 19.5\n",
      "ZTF18abnvoel\n",
      "ZTF18absrcps\n",
      "ZTF18absdgon\n",
      "ZTF18abqdtes\n",
      "ZTF18abfhryc\n",
      "ZTF18abaaeip\n",
      "2018-09-21: Skipping ZTF18abaaeip, never reached limit 19.5\n",
      "ZTF18absbgqd\n",
      "ZTF18abgrlpv\n",
      "ZTF18abhylym\n",
      "2018-09-21: Skipping ZTF18abhylym, never reached limit 19.5\n",
      "ZTF18aaykjei\n",
      "2018-09-21: Skipping ZTF18aaykjei, never reached limit 19.5\n",
      "ZTF18absdjms\n",
      "ZTF18abmjokl\n",
      "ZTF18aapcwvu\n",
      "ZTF18abqapch\n",
      "ZTF18absayvp\n",
      "ZTF18aampjcm\n",
      "ZTF18abqdwze\n",
      "ZTF18abkmfaj\n",
      "2018-09-21: Skipping ZTF18abkmfaj, never reached limit 19.5\n",
      "ZTF18aboltjz\n",
      "2018-09-21: Skipping ZTF18aboltjz, never reached limit 19.5\n",
      "ZTF18aaxugta\n",
      "2018-09-21: Skipping ZTF18aaxugta, never reached limit 19.5\n",
      "ZTF18abrzbum\n",
      "ZTF18abtkzfi\n",
      "2018-09-21: Skipping ZTF18abtkzfi, less than 5 detections\n",
      "ZTF18abtkctg\n",
      "ZTF18abtnwpa\n",
      "2018-09-21: Skipping ZTF18abtnwpa, never reached limit 19.5\n",
      "ZTF18abkhcrj\n",
      "ZTF18abmezaq\n",
      "ZTF18abauprj\n",
      "ZTF18aaygmuq\n",
      "2018-09-21: Skipping ZTF18aaygmuq, never reached limit 19.5\n",
      "ZTF18absliyc\n",
      "ZTF18absrkpl\n",
      "2018-09-21: Skipping ZTF18absrkpl, never reached limit 19.5\n",
      "ZTF18absloer\n",
      "ZTF18abporae\n",
      "ZTF18ablwafp\n",
      "ZTF18aajcqag\n",
      "ZTF18abtnlik\n",
      "ZTF18ablmduj\n",
      "ZTF18abodsjx\n",
      "2018-09-21: Skipping ZTF18abodsjx, never reached limit 19.5\n",
      "ZTF18absoocm\n",
      "2018-09-21: Skipping ZTF18absoocm, never reached limit 19.5\n",
      "ZTF18abgyjlk\n",
      "2018-09-21: Skipping ZTF18abgyjlk, never reached limit 19.5\n",
      "ZTF18abcqhgr\n",
      "2018-09-21: Skipping ZTF18abcqhgr, never reached limit 19.5\n",
      "ZTF18abntwqx\n",
      "2018-09-21: Skipping ZTF18abntwqx, never reached limit 19.5\n",
      "ZTF18abtfrbf\n",
      "ZTF18abmxfrc\n",
      "ZTF18abslxhz\n",
      "ZTF18abpudlt\n",
      "ZTF18absochz\n",
      "2018-09-21: Skipping ZTF18absochz, never reached limit 19.5\n",
      "ZTF18aasdted\n",
      "ZTF18abnvnqb\n",
      "ZTF17aaawzer\n",
      "ZTF18abmsmtt\n",
      "ZTF18abnujuy\n",
      "ZTF18absloog\n",
      "2018-09-21: Skipping ZTF18absloog, never reached limit 19.5\n",
      "ZTF18abrwudp\n",
      "ZTF18ablhvfr\n",
      "ZTF18abrwrch\n",
      "ZTF18abqyvzy\n",
      "ZTF18abmnvkx\n",
      "ZTF18abnxhmc\n",
      "ZTF18aaunlts\n",
      "ZTF18abrzevz\n",
      "ZTF18abspqiu\n",
      "2018-09-21: Skipping ZTF18abspqiu, never reached limit 19.5\n",
      "ZTF18abnnnzk\n",
      "ZTF18aaqduja\n",
      "ZTF18ablqjws\n",
      "ZTF18aborxlf\n",
      "2018-09-21: Skipping ZTF18aborxlf, less than 5 detections\n",
      "ZTF18abgqvwv\n",
      "ZTF18abjbgbs\n",
      "2018-09-21: Skipping ZTF18abjbgbs, never reached limit 19.5\n",
      "ZTF18abslxpd\n",
      "ZTF18abmxdhb\n",
      "ZTF18abmmdif\n",
      "ZTF18abnvjws\n",
      "ZTF18abnwufa\n",
      "2018-09-21: Skipping ZTF18abnwufa, never reached limit 19.5\n",
      "ZTF18abpvpei\n",
      "ZTF18aaqlksk\n",
      "ZTF18ablllyw\n",
      "ZTF18abtmbaz\n",
      "ZTF18abtmmff\n",
      "2018-09-21: Skipping ZTF18abtmmff, never reached limit 19.5\n",
      "ZTF18aamhnti\n",
      "ZTF18abscygs\n",
      "ZTF18aampiwv\n",
      "ZTF18abrwssj\n",
      "2018-09-21: Skipping ZTF18abrwssj, never reached limit 19.5\n",
      "ZTF18abojpnr\n",
      "ZTF18aagteoy\n",
      "ZTF18absdcab\n",
      "2018-09-21: Skipping ZTF18absdcab, less than 5 detections\n",
      "ZTF18aastkig\n",
      "2018-09-21: Skipping ZTF18aastkig, less than 5 detections\n",
      "ZTF18abiicmz\n",
      "ZTF18aaojsvk\n",
      "ZTF18abosrco\n",
      "ZTF18abodnlq\n",
      "2018-09-21: Skipping ZTF18abodnlq, never reached limit 19.5\n",
      "ZTF18abssdpi\n",
      "ZTF18abtphym\n",
      "ZTF18abntsgz\n",
      "ZTF18abnuhuy\n",
      "ZTF18abrwswl\n",
      "ZTF18abnyktn\n",
      "ZTF18abrzuqw\n",
      "ZTF18abgzkmf\n",
      "ZTF18abomklq\n",
      "ZTF18aaxkort\n",
      "2018-09-21: Skipping ZTF18aaxkort, less than 5 detections\n",
      "ZTF18abimsyv\n",
      "2018-09-21: Skipping ZTF18abimsyv, never reached limit 19.5\n",
      "ZTF18abskuxt\n",
      "2018-09-21: Skipping ZTF18abskuxt, never reached limit 19.5\n",
      "ZTF18abtobub\n",
      "2018-09-21: Skipping ZTF18abtobub, never reached limit 19.5\n",
      "ZTF18abdkkwa\n",
      "ZTF18abhpzig\n",
      "ZTF18abglwpn\n",
      "2018-09-21: Skipping ZTF18abglwpn, never reached limit 19.5\n",
      "ZTF18abrlljc\n",
      "ZTF18absbsoz\n",
      "ZTF18abktmfz\n",
      "ZTF18aapzqup\n",
      "ZTF18abokpvh\n",
      "ZTF18absbspk\n",
      "ZTF18absqhza\n",
      "ZTF18abcflnz\n",
      "ZTF18absgnio\n",
      "ZTF18aaqqukd\n",
      "ZTF18abslbyb\n",
      "ZTF18abolndd\n",
      "ZTF18absnmdd\n",
      "2018-09-21: Skipping ZTF18absnmdd, never reached limit 19.5\n",
      "ZTF18abdpvnd\n",
      "ZTF18abcfdzu\n",
      "ZTF18abpttky\n",
      "ZTF18aarpfya\n",
      "2018-09-21: Skipping ZTF18aarpfya, never reached limit 19.5\n",
      "ZTF18aanhtig\n",
      "2018-09-21: Skipping ZTF18aanhtig, never reached limit 19.5\n",
      "ZTF18aaxudip\n",
      "ZTF18abgoodz\n",
      "ZTF18abrlurr\n",
      "2018-09-21: Skipping ZTF18abrlurr, never reached limit 19.5\n",
      "ZTF18aalsiji\n",
      "ZTF18abqlkwb\n",
      "ZTF18abpaywm\n",
      "ZTF18abpplqk\n",
      "ZTF18abgvdtw\n",
      "ZTF18aawlhkh\n",
      "ZTF18abnygkb\n",
      "ZTF17aabuyyp\n",
      "ZTF18abkhqww\n",
      "2018-09-21: Skipping ZTF18abkhqww, never reached limit 19.5\n",
      "ZTF18abrzeym\n",
      "ZTF18absgvqb\n",
      "ZTF18aajtinl\n",
      "ZTF18abcoywh\n",
      "ZTF18abtlqub\n",
      "ZTF18absdbpd\n",
      "ZTF18aaqovfv\n",
      "ZTF18absnibc\n",
      "ZTF18abtnfnq\n",
      "ZTF18abckutn\n",
      "ZTF18abtogdl\n",
      "ZTF18absnsqx\n",
      "ZTF18abffyqp\n",
      "2018-09-21: Skipping ZTF18abffyqp, never reached limit 19.5\n",
      "ZTF18aabiggl\n",
      "2018-09-21: Skipping ZTF18aabiggl, never reached limit 19.5\n",
      "ZTF18abszxqc\n",
      "2018-09-21: Skipping ZTF18abszxqc, never reached limit 19.5\n",
      "ZTF18abmmkaz\n",
      "ZTF18abdklhh\n",
      "2018-09-21: Skipping ZTF18abdklhh, never reached limit 19.5\n",
      "ZTF18ablprcf\n",
      "ZTF18aayfoev\n",
      "2018-09-21: Skipping ZTF18aayfoev, never reached limit 19.5\n",
      "ZTF18abnzlai\n",
      "ZTF18abcqvhs\n",
      "ZTF18abmwnov\n",
      "ZTF18absoiae\n",
      "2018-09-21: Skipping ZTF18absoiae, never reached limit 19.5\n",
      "ZTF18abbmenz\n",
      "ZTF18abnuntb\n",
      "2018-09-21: Skipping ZTF18abnuntb, never reached limit 19.5\n",
      "ZTF18absmogv\n",
      "ZTF18abrytwr\n",
      "2018-09-21: Skipping ZTF18abrytwr, less than 5 detections\n",
      "ZTF18absqohp\n",
      "2018-09-21: Skipping ZTF18absqohp, never reached limit 19.5\n",
      "ZTF18aboebsg\n",
      "ZTF18aautopz\n",
      "2018-09-21: Skipping ZTF18aautopz, less than 5 detections\n",
      "ZTF18aaibiuc\n",
      "ZTF18abryqnn\n",
      "ZTF18absgnbm\n",
      "ZTF18abcptmt\n",
      "2018-09-21: Skipping ZTF18abcptmt, never reached limit 19.5\n",
      "ZTF18abokyfk\n",
      "ZTF18abrwqze\n",
      "2018-09-21: Skipping ZTF18abrwqze, never reached limit 19.5\n",
      "ZTF18abtigie\n",
      "2018-09-21: Skipping ZTF18abtigie, never reached limit 19.5\n",
      "ZTF18abshezu\n",
      "ZTF18absquza\n",
      "2018-09-21: Skipping ZTF18absquza, never reached limit 19.5\n",
      "ZTF18abtmxhz\n",
      "2018-09-21: Skipping ZTF18abtmxhz, never reached limit 19.5\n",
      "ZTF18abummai\n",
      "ZTF18abuatqi\n",
      "2018-09-21: Skipping ZTF18abuatqi, never reached limit 19.5\n",
      "ZTF18abtqrwa\n",
      "ZTF18abwhgcb\n",
      "2018-09-21: Skipping ZTF18abwhgcb, never reached limit 19.5\n",
      "ZTF18abvioui\n",
      "2018-09-21: Skipping ZTF18abvioui, less than 5 detections\n",
      "ZTF18absljwl\n",
      "ZTF18abuylyw\n",
      "2018-09-21: Skipping ZTF18abuylyw, never reached limit 19.5\n",
      "ZTF18abwegek\n",
      "ZTF18abtvbzx\n",
      "2018-09-21: Skipping ZTF18abtvbzx, never reached limit 19.5\n",
      "ZTF18abvrjyi\n",
      "2018-09-21: Skipping ZTF18abvrjyi, never reached limit 19.5\n",
      "ZTF18abugpwm\n",
      "2018-09-21: Skipping ZTF18abugpwm, never reached limit 19.5\n",
      "ZTF17aaaadqv\n",
      "ZTF18abnzksu\n",
      "ZTF18abunlhk\n",
      "ZTF18abtrktm\n",
      "2018-09-21: Skipping ZTF18abtrktm, less than 5 detections\n",
      "ZTF18abtmnha\n",
      "2018-09-21: Skipping ZTF18abtmnha, never reached limit 19.5\n",
      "ZTF18aamofne\n",
      "2018-09-21: Skipping ZTF18aamofne, never reached limit 19.5\n",
      "ZTF18abuhzfc\n",
      "ZTF18abujobx\n",
      "2018-09-21: Skipping ZTF18abujobx, less than 5 detections\n",
      "ZTF18abujamb\n",
      "ZTF18abvgjgb\n",
      "2018-09-21: Skipping ZTF18abvgjgb, less than 5 detections\n",
      "ZTF18abwdzxe\n",
      "2018-09-21: Skipping ZTF18abwdzxe, never reached limit 19.5\n",
      "ZTF18abmaebx\n",
      "2018-09-21: Skipping ZTF18abmaebx, never reached limit 19.5\n",
      "ZTF18abotssb\n",
      "2018-09-21: Skipping ZTF18abotssb, never reached limit 19.5\n",
      "ZTF18abupiap\n",
      "ZTF18abnuawt\n",
      "2018-09-21: Skipping ZTF18abnuawt, less than 5 detections\n",
      "ZTF18abwklar\n",
      "2018-09-21: Skipping ZTF18abwklar, less than 5 detections\n",
      "ZTF18abwfmot\n",
      "ZTF18abuxgmk\n",
      "2018-09-21: Skipping ZTF18abuxgmk, never reached limit 19.5\n",
      "ZTF18abwlejr\n",
      "ZTF18abufwxs\n",
      "ZTF18abvkvbt\n",
      "2018-09-21: Skipping ZTF18abvkvbt, never reached limit 19.5\n",
      "ZTF18abvkqkf\n",
      "2018-09-21: Skipping ZTF18abvkqkf, never reached limit 19.5\n",
      "ZTF18abvgehs\n",
      "2018-09-21: Skipping ZTF18abvgehs, never reached limit 19.5\n",
      "ZTF18abtyhyo\n",
      "2018-09-21: Skipping ZTF18abtyhyo, never reached limit 19.5\n",
      "ZTF18abvejqt\n",
      "2018-09-21: Skipping ZTF18abvejqt, never reached limit 19.5\n",
      "ZTF18abwlvna\n",
      "2018-09-21: Skipping ZTF18abwlvna, never reached limit 19.5\n",
      "ZTF18aavoyoq\n",
      "ZTF18abuiytq\n",
      "2018-09-21: Skipping ZTF18abuiytq, never reached limit 19.5\n",
      "ZTF18abvfecb\n",
      "2018-09-21: Skipping ZTF18abvfecb, less than 5 detections\n",
      "ZTF18abucvbf\n",
      "ZTF18abujiho\n",
      "2018-09-21: Skipping ZTF18abujiho, less than 5 detections\n",
      "ZTF18abuhyjv\n",
      "ZTF18aaqikyu\n",
      "ZTF18abtmtfy\n",
      "ZTF18abmsmnc\n",
      "ZTF18abvlfbn\n",
      "2018-09-21: Skipping ZTF18abvlfbn, never reached limit 19.5\n",
      "ZTF18aathgma\n",
      "2018-09-21: Skipping ZTF18aathgma, less than 5 detections\n",
      "ZTF18abvglon\n",
      "2018-09-21: Skipping ZTF18abvglon, less than 5 detections\n",
      "ZTF18absqitc\n",
      "2018-09-21: Skipping ZTF18absqitc, never reached limit 19.5\n",
      "ZTF18abufaej\n",
      "ZTF18abncrlw\n",
      "2018-09-21: Skipping ZTF18abncrlw, never reached limit 19.5\n",
      "ZTF17aaaqldq\n",
      "2018-09-21: Skipping ZTF17aaaqldq, less than 5 detections\n",
      "ZTF18abulqzb\n",
      "ZTF18abuluko\n",
      "2018-09-21: Skipping ZTF18abuluko, never reached limit 19.5\n",
      "ZTF18abwzauh\n",
      "2018-09-21: Skipping ZTF18abwzauh, never reached limit 19.5\n",
      "ZTF18abwqbxc\n",
      "ZTF18abvrzqj\n",
      "ZTF18abxcues\n",
      "2018-09-21: Skipping ZTF18abxcues, less than 5 detections\n",
      "ZTF18abwhsnx\n",
      "2018-09-21: Skipping ZTF18abwhsnx, never reached limit 19.5\n",
      "ZTF18abtqevs\n",
      "ZTF18abvkpxw\n",
      "2018-09-21: Skipping ZTF18abvkpxw, never reached limit 19.5\n",
      "ZTF18abwdnml\n",
      "ZTF18abvcrsv\n",
      "ZTF18abwkhjf\n",
      "2018-09-21: Skipping ZTF18abwkhjf, never reached limit 19.5\n",
      "ZTF18abwkczr\n",
      "2018-09-21: Skipping ZTF18abwkczr, less than 5 detections\n",
      "ZTF18abwxrhi\n",
      "2018-09-21: Skipping ZTF18abwxrhi, never reached limit 19.5\n",
      "ZTF18abvgizn\n",
      "2018-09-21: Skipping ZTF18abvgizn, never reached limit 19.5\n",
      "ZTF18abvbayb\n",
      "ZTF18abtzisn\n",
      "2018-09-21: Skipping ZTF18abtzisn, never reached limit 19.5\n",
      "ZTF18abxdkny\n",
      "2018-09-21: Skipping ZTF18abxdkny, never reached limit 19.5\n",
      "ZTF18abwkhiz\n",
      "2018-09-21: Skipping ZTF18abwkhiz, never reached limit 19.5\n",
      "ZTF18abvkmgw\n",
      "ZTF18abxdtyz\n",
      "2018-09-21: Skipping ZTF18abxdtyz, less than 5 detections\n",
      "ZTF18abvgivy\n",
      "2018-09-21: Skipping ZTF18abvgivy, less than 5 detections\n",
      "ZTF18abttvsu\n",
      "ZTF18abwlpzf\n",
      "2018-09-21: Skipping ZTF18abwlpzf, never reached limit 19.5\n",
      "ZTF18abtrknw\n",
      "ZTF18abvxoty\n",
      "2018-09-21: Skipping ZTF18abvxoty, less than 5 detections\n",
      "ZTF18abtsjfl\n",
      "2018-09-21: Skipping ZTF18abtsjfl, never reached limit 19.5\n",
      "ZTF18abwzhog\n",
      "2018-09-21: Skipping ZTF18abwzhog, never reached limit 19.5\n",
      "ZTF18abvxyyb\n",
      "2018-09-21: Skipping ZTF18abvxyyb, never reached limit 19.5\n",
      "ZTF18abupgql\n",
      "ZTF18abtjekr\n",
      "2018-09-21: Skipping ZTF18abtjekr, never reached limit 19.5\n",
      "ZTF18abtyrly\n",
      "2018-09-21: Skipping ZTF18abtyrly, never reached limit 19.5\n",
      "ZTF18absqpag\n",
      "2018-09-21: Skipping ZTF18absqpag, less than 5 detections\n",
      "ZTF18abtrccn\n",
      "2018-09-21: Skipping ZTF18abtrccn, never reached limit 19.5\n",
      "ZTF18abwdcdv\n",
      "2018-09-21: Skipping ZTF18abwdcdv, less than 5 detections\n",
      "ZTF18abwdoyd\n",
      "2018-09-21: Skipping ZTF18abwdoyd, less than 5 detections\n",
      "ZTF18abxftqm\n",
      "2018-09-21: Skipping ZTF18abxftqm, never reached limit 19.5\n",
      "ZTF18abuhudi\n",
      "2018-09-21: Skipping ZTF18abuhudi, never reached limit 19.5\n",
      "ZTF18abuprke\n",
      "2018-09-21: Skipping ZTF18abuprke, never reached limit 19.5\n",
      "ZTF18abulemm\n",
      "ZTF18abttkhq\n",
      "2018-09-21: Skipping ZTF18abttkhq, never reached limit 19.5\n",
      "ZTF18aburkuo\n",
      "2018-09-21: Skipping ZTF18aburkuo, never reached limit 19.5\n",
      "ZTF18abskzjm\n",
      "ZTF18aaymuou\n",
      "2018-09-21: Skipping ZTF18aaymuou, never reached limit 19.5\n",
      "ZTF18abnclbh\n",
      "2018-09-21: Skipping ZTF18abnclbh, never reached limit 19.5\n",
      "ZTF18abvmgck\n",
      "2018-09-21: Skipping ZTF18abvmgck, never reached limit 19.5\n",
      "ZTF18abvkugj\n",
      "2018-09-21: Skipping ZTF18abvkugj, never reached limit 19.5\n",
      "ZTF18abwfhqb\n",
      "2018-09-21: Skipping ZTF18abwfhqb, never reached limit 19.5\n",
      "ZTF18abtfvsk\n",
      "ZTF18abrzbtb\n",
      "2018-09-21: Skipping ZTF18abrzbtb, less than 5 detections\n",
      "ZTF18abrzbuj\n",
      "ZTF18abscyjj\n",
      "ZTF18absoogj\n",
      "2018-09-21: Skipping ZTF18absoogj, never reached limit 19.5\n",
      "ZTF18abtswjk\n",
      "ZTF18abukiix\n"
     ]
    },
    {
     "name": "stdout",
     "output_type": "stream",
     "text": [
      "2018-09-21: Skipping ZTF18abukiix, never reached limit 19.5\n",
      "ZTF18absoieo\n",
      "2018-09-21: Skipping ZTF18absoieo, less than 5 detections\n",
      "ZTF18abuksxd\n",
      "ZTF18aburrut\n",
      "2018-09-21: Skipping ZTF18aburrut, never reached limit 19.5\n",
      "ZTF18absljlb\n",
      "2018-09-21: Skipping ZTF18absljlb, never reached limit 19.5\n",
      "ZTF18abvuaiv\n",
      "2018-09-21: Skipping ZTF18abvuaiv, never reached limit 19.5\n",
      "ZTF18abvnwzz\n",
      "ZTF18abuehkg\n",
      "2018-09-21: Skipping ZTF18abuehkg, less than 5 detections\n",
      "ZTF18abvbpku\n",
      "2018-09-21: Skipping ZTF18abvbpku, less than 5 detections\n",
      "ZTF18abtmixs\n",
      "2018-09-21: Skipping ZTF18abtmixs, never reached limit 19.5\n",
      "ZTF18abvefxs\n",
      "2018-09-21: Skipping ZTF18abvefxs, less than 5 detections\n",
      "ZTF18abttaxw\n",
      "ZTF18abuyuqy\n",
      "2018-09-21: Skipping ZTF18abuyuqy, never reached limit 19.5\n",
      "ZTF18abwdhgw\n",
      "ZTF18abwgtih\n",
      "2018-09-21: Skipping ZTF18abwgtih, less than 5 detections\n",
      "ZTF18aakgsmi\n",
      "ZTF18aabilqu\n",
      "ZTF18abvmqnk\n",
      "ZTF18abwkrbl\n",
      "2018-09-21: Skipping ZTF18abwkrbl, less than 5 detections\n",
      "ZTF18abxfdcb\n",
      "2018-09-21: Skipping ZTF18abxfdcb, never reached limit 19.5\n",
      "ZTF18abadmii\n",
      "ZTF18abwzedh\n",
      "2018-09-21: Skipping ZTF18abwzedh, never reached limit 19.5\n",
      "ZTF18abuncpe\n",
      "2018-09-21: Skipping ZTF18abuncpe, less than 5 detections\n",
      "ZTF18abwugyc\n",
      "2018-09-21: Skipping ZTF18abwugyc, less than 5 detections\n",
      "ZTF18abwcgyo\n",
      "ZTF18abvgjvi\n",
      "2018-09-21: Skipping ZTF18abvgjvi, less than 5 detections\n",
      "ZTF18abwxdga\n",
      "2018-09-21: Skipping ZTF18abwxdga, never reached limit 19.5\n",
      "ZTF18abwlrdj\n",
      "2018-09-21: Skipping ZTF18abwlrdj, never reached limit 19.5\n",
      "ZTF18abtsacr\n",
      "2018-09-21: Skipping ZTF18abtsacr, never reached limit 19.5\n",
      "ZTF18abwnsoc\n",
      "2018-09-21: Skipping ZTF18abwnsoc, less than 5 detections\n",
      "ZTF18abujbio\n",
      "2018-09-21: Skipping ZTF18abujbio, less than 5 detections\n",
      "ZTF18abscyji\n",
      "ZTF18abvtzia\n",
      "2018-09-21: Skipping ZTF18abvtzia, less than 5 detections\n",
      "ZTF18abwgaek\n",
      "2018-09-21: Skipping ZTF18abwgaek, never reached limit 19.5\n",
      "ZTF18aaqzomm\n",
      "ZTF18abwfssc\n",
      "2018-09-21: Skipping ZTF18abwfssc, never reached limit 19.5\n",
      "ZTF18abwxbhn\n",
      "2018-09-21: Skipping ZTF18abwxbhn, never reached limit 19.5\n",
      "ZTF18abvlkyj\n",
      "ZTF18abtsoix\n",
      "2018-09-21: Skipping ZTF18abtsoix, never reached limit 19.5\n",
      "ZTF18abwlsoi\n",
      "2018-09-21: Skipping ZTF18abwlsoi, less than 5 detections\n",
      "ZTF18abvvmvw\n",
      "2018-09-21: Skipping ZTF18abvvmvw, less than 5 detections\n",
      "ZTF18abtslyt\n",
      "2018-09-21: Skipping ZTF18abtslyt, less than 5 detections\n",
      "ZTF18abumflq\n",
      "ZTF18abxdkni\n",
      "2018-09-21: Skipping ZTF18abxdkni, less than 5 detections\n",
      "ZTF18abspqsn\n",
      "ZTF18abwfyfb\n",
      "2018-09-21: Skipping ZTF18abwfyfb, never reached limit 19.5\n",
      "ZTF18abuoivh\n",
      "2018-09-21: Skipping ZTF18abuoivh, never reached limit 19.5\n",
      "ZTF18abuatfp\n",
      "2018-09-21: Skipping ZTF18abuatfp, less than 5 detections\n",
      "ZTF17aacpwpr\n",
      "ZTF18abwntpz\n",
      "ZTF18aabvpbb\n",
      "2018-09-21: Skipping ZTF18aabvpbb, less than 5 detections\n",
      "ZTF18abuqugw\n",
      "ZTF18abmsngt\n",
      "ZTF18abfsglv\n",
      "ZTF18abchfow\n",
      "ZTF18abvjzdz\n",
      "2018-09-21: Skipping ZTF18abvjzdz, never reached limit 19.5\n",
      "ZTF18abuobhg\n",
      "2018-09-21: Skipping ZTF18abuobhg, never reached limit 19.5\n",
      "ZTF18abtnfmp\n",
      "2018-09-21: Skipping ZTF18abtnfmp, less than 5 detections\n",
      "ZTF18abvnqqk\n",
      "ZTF18abwbtco\n",
      "ZTF18abvlchy\n",
      "ZTF18abwetvn\n",
      "2018-09-21: Skipping ZTF18abwetvn, never reached limit 19.5\n",
      "ZTF18abvujkl\n",
      "ZTF18abvkszn\n",
      "2018-09-21: Skipping ZTF18abvkszn, never reached limit 19.5\n",
      "ZTF18abfxqmz\n",
      "2018-09-21: Skipping ZTF18abfxqmz, less than 5 detections\n",
      "ZTF18abvytad\n",
      "ZTF18absoomk\n",
      "ZTF18abvxqtp\n",
      "ZTF18abvxdou\n",
      "ZTF18abxalmh\n",
      "2018-09-21: Skipping ZTF18abxalmh, never reached limit 19.5\n",
      "ZTF18abukmty\n",
      "ZTF18abvburn\n",
      "ZTF18abvywcl\n",
      "2018-09-21: Skipping ZTF18abvywcl, never reached limit 19.5\n",
      "ZTF18absdbye\n",
      "2018-09-21: Skipping ZTF18absdbye, less than 5 detections\n",
      "ZTF18abuwqdi\n",
      "2018-09-21: Skipping ZTF18abuwqdi, never reached limit 19.5\n",
      "ZTF18abwtops\n",
      "2018-09-21: Skipping ZTF18abwtops, never reached limit 19.5\n",
      "ZTF18abulkrl\n",
      "ZTF18abvxbfh\n",
      "ZTF18abvjgkm\n",
      "2018-09-21: Skipping ZTF18abvjgkm, never reached limit 19.5\n",
      "ZTF18abvvmdf\n",
      "2018-09-21: Skipping ZTF18abvvmdf, less than 5 detections\n",
      "ZTF18abwjven\n",
      "2018-09-21: Skipping ZTF18abwjven, never reached limit 19.5\n",
      "ZTF18absojdg\n",
      "2018-09-21: Skipping ZTF18absojdg, never reached limit 19.5\n",
      "ZTF18abvfejf\n",
      "2018-09-21: Skipping ZTF18abvfejf, less than 5 detections\n",
      "ZTF18abcleke\n",
      "2018-09-21: Skipping ZTF18abcleke, less than 5 detections\n",
      "ZTF18abvkhul\n",
      "ZTF18abtlwoj\n",
      "ZTF18abuiknd\n",
      "ZTF18absgmfy\n",
      "ZTF18abvsvjs\n",
      "2018-09-21: Skipping ZTF18abvsvjs, less than 5 detections\n",
      "ZTF18abvgjrk\n",
      "2018-09-21: Skipping ZTF18abvgjrk, less than 5 detections\n",
      "ZTF18abvyvlr\n",
      "ZTF18abxtncd\n",
      "2018-09-21: Skipping ZTF18abxtncd, never reached limit 19.5\n",
      "ZTF18abwdggw\n",
      "2018-09-21: Skipping ZTF18abwdggw, less than 5 detections\n",
      "ZTF18abtwhyo\n",
      "2018-09-21: Skipping ZTF18abtwhyo, less than 5 detections\n",
      "ZTF18aajmscy\n",
      "2018-09-21: Skipping ZTF18aajmscy, never reached limit 19.5\n",
      "ZTF18abxauks\n",
      "2018-09-21: Skipping ZTF18abxauks, never reached limit 19.5\n",
      "ZTF18abyeowr\n",
      "2018-09-21: Skipping ZTF18abyeowr, never reached limit 19.5\n",
      "ZTF18abuqhem\n",
      "2018-09-21: Skipping ZTF18abuqhem, less than 5 detections\n",
      "ZTF18abxcbny\n",
      "2018-09-21: Skipping ZTF18abxcbny, less than 5 detections\n",
      "ZTF18abxzbdj\n",
      "2018-09-21: Skipping ZTF18abxzbdj, never reached limit 19.5\n",
      "ZTF18aboqwkr\n",
      "2018-09-21: Skipping ZTF18aboqwkr, less than 5 detections\n",
      "ZTF18abxofrw\n",
      "2018-09-21: Skipping ZTF18abxofrw, never reached limit 19.5\n",
      "ZTF18abhfurc\n",
      "2018-09-21: Skipping ZTF18abhfurc, never reached limit 19.5\n",
      "ZTF18abwkoao\n",
      "2018-09-21: Skipping ZTF18abwkoao, never reached limit 19.5\n",
      "ZTF18abuvwbr\n",
      "2018-09-21: Skipping ZTF18abuvwbr, never reached limit 19.5\n",
      "ZTF18abfxacx\n",
      "2018-09-21: Skipping ZTF18abfxacx, never reached limit 19.5\n",
      "ZTF18abahnpw\n",
      "2018-09-21: Skipping ZTF18abahnpw, never reached limit 19.5\n",
      "ZTF18abwjzpq\n",
      "2018-09-21: Skipping ZTF18abwjzpq, less than 5 detections\n",
      "ZTF18aakvxqj\n",
      "2018-09-21: Skipping ZTF18aakvxqj, less than 5 detections\n",
      "ZTF18abxelyl\n",
      "2018-09-21: Skipping ZTF18abxelyl, less than 5 detections\n",
      "ZTF18abvfruc\n",
      "2018-09-21: Skipping ZTF18abvfruc, less than 5 detections\n",
      "ZTF18abxypzj\n",
      "2018-09-21: Skipping ZTF18abxypzj, never reached limit 19.5\n",
      "ZTF18abyevfw\n",
      "2018-09-21: Skipping ZTF18abyevfw, never reached limit 19.5\n",
      "ZTF18abuqgyb\n",
      "2018-09-21: Skipping ZTF18abuqgyb, less than 5 detections\n",
      "ZTF18aanojvu\n",
      "2018-09-21: Skipping ZTF18aanojvu, less than 5 detections\n",
      "ZTF18abyadtx\n",
      "2018-09-21: Skipping ZTF18abyadtx, never reached limit 19.5\n",
      "ZTF18abotffe\n",
      "2018-09-21: Skipping ZTF18abotffe, never reached limit 19.5\n",
      "ZTF18abyenwy\n",
      "2018-09-21: Skipping ZTF18abyenwy, never reached limit 19.5\n",
      "ZTF18abxikgn\n",
      "2018-09-21: Skipping ZTF18abxikgn, less than 5 detections\n",
      "ZTF18abcjlim\n",
      "2018-09-21: Skipping ZTF18abcjlim, less than 5 detections\n",
      "ZTF18abxfiec\n",
      "2018-09-21: Skipping ZTF18abxfiec, never reached limit 19.5\n",
      "ZTF18abaphmn\n",
      "2018-09-21: Skipping ZTF18abaphmn, never reached limit 19.5\n",
      "ZTF18abitmvq\n",
      "2018-09-21: Skipping ZTF18abitmvq, never reached limit 19.5\n",
      "ZTF18abwkxgo\n",
      "2018-09-21: Skipping ZTF18abwkxgo, never reached limit 19.5\n",
      "ZTF18abuyqbp\n",
      "2018-09-21: Skipping ZTF18abuyqbp, never reached limit 19.5\n",
      "ZTF18abxfcql\n",
      "2018-09-21: Skipping ZTF18abxfcql, never reached limit 19.5\n",
      "ZTF18abupqdm\n",
      "2018-09-21: Skipping ZTF18abupqdm, less than 5 detections\n",
      "ZTF18abyctym\n"
     ]
    },
    {
     "name": "stderr",
     "output_type": "stream",
     "text": [
      "INFO:jnordin:Found 217 candidates to submit\n"
     ]
    },
    {
     "name": "stdout",
     "output_type": "stream",
     "text": [
      "2018-09-21: Skipping ZTF18abyctym, never reached limit 19.5\n",
      "ZTF18abecggb\n",
      "2018-09-21: Skipping ZTF18abecggb, less than 5 detections\n",
      "ZTF18abwdpla\n",
      "2018-09-21: Skipping ZTF18abwdpla, less than 5 detections\n",
      "ZTF18abxgxpa\n",
      "2018-09-21: Skipping ZTF18abxgxpa, never reached limit 19.5\n",
      "ZTF18abyanoj\n",
      "2018-09-21: Skipping ZTF18abyanoj, never reached limit 19.5\n",
      "ZTF18abvfbnp\n",
      "2018-09-21: Skipping ZTF18abvfbnp, never reached limit 19.5\n",
      "ZTF18aaabltn\n",
      "2018-09-21: Skipping ZTF18aaabltn, less than 5 detections\n",
      "ZTF18aaghxan\n",
      "2018-09-21: Skipping ZTF18aaghxan, less than 5 detections\n",
      "ZTF18abxstkt\n",
      "2018-09-21: Skipping ZTF18abxstkt, never reached limit 19.5\n",
      "ZTF18aaubaen\n",
      "2018-09-21: Skipping ZTF18aaubaen, less than 5 detections\n",
      "ZTF18aavzlyn\n",
      "2018-09-21: Skipping ZTF18aavzlyn, less than 5 detections\n",
      "ZTF18abkwyix\n",
      "2018-09-21: Skipping ZTF18abkwyix, never reached limit 19.5\n",
      "ZTF18abxbwwf\n",
      "2018-09-21: Skipping ZTF18abxbwwf, less than 5 detections\n",
      "ZTF18abwwuug\n",
      "2018-09-21: Skipping ZTF18abwwuug, less than 5 detections\n",
      "ZTF18abvtdhu\n",
      "2018-09-21: Skipping ZTF18abvtdhu, never reached limit 19.5\n",
      "ZTF18abuyawg\n",
      "2018-09-21: Skipping ZTF18abuyawg, never reached limit 19.5\n",
      "ZTF18abxqzih\n",
      "2018-09-21: Skipping ZTF18abxqzih, less than 5 detections\n",
      "ZTF18abwkaob\n",
      "2018-09-21: Skipping ZTF18abwkaob, never reached limit 19.5\n",
      "ZTF18aboszfs\n",
      "2018-09-21: Skipping ZTF18aboszfs, less than 5 detections\n",
      "ZTF18abxazsz\n",
      "2018-09-21: Skipping ZTF18abxazsz, never reached limit 19.5\n",
      "ZTF18abxagiz\n",
      "2018-09-21: Skipping ZTF18abxagiz, never reached limit 19.5\n",
      "Left with 217 candidates\n"
     ]
    }
   ],
   "source": [
    "# Temporary reread detections\n",
    "slackfilepath = config['slackfilepath']\n",
    "print(slackfilepath)\n",
    "df_sum = pd.read_csv(os.path.join(slackfilepath, \"Summary_%s.csv\"%(date)))\n",
    "df_phot = pd.read_csv(os.path.join(slackfilepath, \"Photometry_%s.csv\"%(date)))\n",
    "\n",
    "if minrefframes>0:\n",
    "    df_phot = df_phot[df_phot[\"nframesref\"]>minrefframes]\n",
    "\n",
    "# Examine new candidates, build a list of the onces fulfilling basic criteria\n",
    "sncandidates = []\n",
    "for sne in df_sum.iterrows():\n",
    "    print( sne[1][\"ztf_name\"] )\n",
    "    phot = df_phot[ df_phot[\"ztf_name\"]==sne[1][\"ztf_name\"] ]\n",
    "    filters = phot[\"fid\"]\n",
    "    jd = phot[\"jd\"]\n",
    "    magpsf = phot['magpsf']\n",
    "    if np.min(magpsf)> minpeakmag:\n",
    "        msg = \"%s: Skipping %s, never reached limit %s\"%(date,sne[1][\"ztf_name\"],minpeakmag)\n",
    "        print(msg)\n",
    "        continue\n",
    "    if len(magpsf)< mindet:\n",
    "        msg = \"%s: Skipping %s, less than %s detections\"%(date,sne[1][\"ztf_name\"],mindet)\n",
    "        print(msg)\n",
    "        continue\n",
    "    sncandidates.append(sne[1][\"ztf_name\"])\n",
    "    continue\n",
    "        \n",
    "    \n",
    "\n",
    "print(\"Left with %s candidates\"%(len(sncandidates)))\n",
    "logger.info(\"Found %s candidates to submit\"%(len(sncandidates)))"
   ]
  },
  {
   "cell_type": "code",
   "execution_count": 5,
   "metadata": {},
   "outputs": [
    {
     "name": "stderr",
     "output_type": "stream",
     "text": [
      "INFO:marshaltools.ProgramList:Initialized ProgramList for program AMPEL Test (ID 4)\n",
      "INFO:marshaltools.ProgramList:Loaded 223 saved sources for program AMPEL Test.\n",
      "INFO:marshaltools.ProgramList:Initialized ProgramList for program Cosmology (ID 2)\n",
      "INFO:marshaltools.ProgramList:Loaded 480 saved sources for program Cosmology.\n"
     ]
    }
   ],
   "source": [
    "# Use Marshal data for now\n",
    "pl = marshaltools.ProgramList('AMPEL Test',load_candidates=False,\n",
    "                    sfd_dir='/home/jnordin/local/git/simsurvey-examples/data/sfddata-master')\n",
    "cpl = marshaltools.ProgramList('Cosmology',load_candidates=False,\n",
    "                    sfd_dir='/home/jnordin/local/git/simsurvey-examples/data/sfddata-master')"
   ]
  },
  {
   "cell_type": "code",
   "execution_count": 13,
   "metadata": {},
   "outputs": [
    {
     "name": "stdout",
     "output_type": "stream",
     "text": [
      "both count 15\n",
      "cosm count 23\n",
      "ampel count 18\n",
      "none count 56\n"
     ]
    }
   ],
   "source": [
    "# What fraction of the above candidates are in these programs\n",
    "inprog = {'both':[],'cosm':[], 'ampel':[],'none':[]}\n",
    "for sn in sncandidates:\n",
    "    if sn in cpl.sources and sn in pl.sources:\n",
    "        inprog['both'].append(sn)\n",
    "    elif sn in cpl.sources:\n",
    "        inprog['cosm'].append(sn)\n",
    "    elif sn in pl.sources:\n",
    "        inprog['ampel'].append(sn)\n",
    "    else:\n",
    "        inprog['none'].append(sn)\n",
    "\n",
    "for source, count in inprog.items():\n",
    "    print('%s count %s'%(source,len(count)))\n",
    "# Ok, have to use both programs..."
   ]
  },
  {
   "cell_type": "code",
   "execution_count": 19,
   "metadata": {},
   "outputs": [],
   "source": [
    "# TNS base entities\n",
    "atfields = [\"obs_date\", \"ra\", \"dec\", \"diffmaglim\", \"programid\", \"candid\", \"magpsf\", \"sigmapsf\", \"filter_id\"]\n",
    "atpos = {field:k for k,field in enumerate(atfields)}\n",
    "# Instrument/survey values\n",
    "ztf_tns = {\"flux_units\":\"1\", \"instrument_value\":196,\"exptime\":30,\"Observer\":\"ZTF\"}\n",
    "# Have to tie to TNS filter numbering\n",
    "# ZTFg 110 ZTFr 111 ZTFi 112\n",
    "tns_filters = {'g':110,'r':111,'i':112}\n",
    "exptime = 30\n",
    "\n",
    "tnsclient = TNSClient(logger,True,{'api_key':apikey})"
   ]
  },
  {
   "cell_type": "code",
   "execution_count": 20,
   "metadata": {},
   "outputs": [
    {
     "name": "stdout",
     "output_type": "stream",
     "text": [
      "ZTF18absldfl\n"
     ]
    },
    {
     "name": "stderr",
     "output_type": "stream",
     "text": [
      "INFO:jnordin:ZTF18absldfl already at TNS under name SN2018fsm\n",
      "INFO:jnordin:ZTF18aaqiivp not in marshal, skipping from trial tns\n"
     ]
    },
    {
     "name": "stdout",
     "output_type": "stream",
     "text": [
      "ZTF18absldfl already at TNS under name SN2018fsm\n",
      "ZTF18aaqiivp\n",
      "ZTF18aaqiivp not in marshal, skipping from trial tns\n",
      "ZTF18abqlpgq\n"
     ]
    },
    {
     "name": "stderr",
     "output_type": "stream",
     "text": [
      "INFO:jnordin:ZTF18abqlpgq already at TNS under name SN2018fsf\n"
     ]
    },
    {
     "name": "stdout",
     "output_type": "stream",
     "text": [
      "ZTF18abqlpgq already at TNS under name SN2018fsf\n",
      "ZTF18abgmcmv\n"
     ]
    },
    {
     "name": "stderr",
     "output_type": "stream",
     "text": [
      "INFO:jnordin:ZTF18abgmcmv already at TNS under name SN2018eay\n",
      "INFO:jnordin:ZTF18aayaphx not in marshal, skipping from trial tns\n"
     ]
    },
    {
     "name": "stdout",
     "output_type": "stream",
     "text": [
      "ZTF18abgmcmv already at TNS under name SN2018eay\n",
      "ZTF18aayaphx\n",
      "ZTF18aayaphx not in marshal, skipping from trial tns\n",
      "ZTF18abnvotk\n"
     ]
    },
    {
     "name": "stderr",
     "output_type": "stream",
     "text": [
      "INFO:jnordin:ZTF18abnvotk already at TNS under name AT2018hmf\n"
     ]
    },
    {
     "name": "stdout",
     "output_type": "stream",
     "text": [
      "ZTF18abnvotk already at TNS under name AT2018hmf\n",
      "ZTF18abrlupd\n"
     ]
    },
    {
     "name": "stderr",
     "output_type": "stream",
     "text": [
      "INFO:jnordin:ZTF18abrlupd already at TNS under name AT2018fry\n",
      "INFO:jnordin:ZTF18abeajml not in marshal, skipping from trial tns\n"
     ]
    },
    {
     "name": "stdout",
     "output_type": "stream",
     "text": [
      "ZTF18abrlupd already at TNS under name AT2018fry\n",
      "ZTF18abeajml\n",
      "ZTF18abeajml not in marshal, skipping from trial tns\n",
      "ZTF18abqboud\n"
     ]
    },
    {
     "name": "stderr",
     "output_type": "stream",
     "text": [
      "INFO:jnordin:ZTF18abqboud already at TNS under name AT2018frz\n",
      "INFO:jnordin:ZTF18aavqdyq not in marshal, skipping from trial tns\n"
     ]
    },
    {
     "name": "stdout",
     "output_type": "stream",
     "text": [
      "ZTF18abqboud already at TNS under name AT2018frz\n",
      "ZTF18aavqdyq\n",
      "ZTF18aavqdyq not in marshal, skipping from trial tns\n",
      "ZTF18abobkii\n"
     ]
    },
    {
     "name": "stderr",
     "output_type": "stream",
     "text": [
      "INFO:jnordin:ZTF18abobkii already at TNS under name SN2018flg\n"
     ]
    },
    {
     "name": "stdout",
     "output_type": "stream",
     "text": [
      "ZTF18abobkii already at TNS under name SN2018flg\n",
      "ZTF17aaaafcd\n"
     ]
    },
    {
     "name": "stderr",
     "output_type": "stream",
     "text": [
      "INFO:jnordin:ZTF17aaaafcd already at TNS under name AT2018hmg\n",
      "INFO:jnordin:ZTF18ablrlbm not in marshal, skipping from trial tns\n"
     ]
    },
    {
     "name": "stdout",
     "output_type": "stream",
     "text": [
      "ZTF17aaaafcd already at TNS under name AT2018hmg\n",
      "ZTF18ablrlbm\n",
      "ZTF18ablrlbm not in marshal, skipping from trial tns\n",
      "ZTF18abtghbi\n"
     ]
    },
    {
     "name": "stderr",
     "output_type": "stream",
     "text": [
      "INFO:jnordin:ZTF18abtghbi already at TNS under name AT2018hmh\n",
      "INFO:jnordin:ZTF18abtnflo not in marshal, skipping from trial tns\n"
     ]
    },
    {
     "name": "stdout",
     "output_type": "stream",
     "text": [
      "ZTF18abtghbi already at TNS under name AT2018hmh\n",
      "ZTF18abtnflo\n",
      "ZTF18abtnflo not in marshal, skipping from trial tns\n",
      "ZTF18aaupjtd\n"
     ]
    },
    {
     "name": "stderr",
     "output_type": "stream",
     "text": [
      "INFO:jnordin:ZTF18aaupjtd already at TNS under name AT2018hmi\n"
     ]
    },
    {
     "name": "stdout",
     "output_type": "stream",
     "text": [
      "ZTF18aaupjtd already at TNS under name AT2018hmi\n",
      "ZTF18abpamut\n"
     ]
    },
    {
     "name": "stderr",
     "output_type": "stream",
     "text": [
      "INFO:jnordin:ZTF18abpamut already at TNS under name SN2018fqe\n",
      "INFO:jnordin:ZTF18abmwfxd not in marshal, skipping from trial tns\n"
     ]
    },
    {
     "name": "stdout",
     "output_type": "stream",
     "text": [
      "ZTF18abpamut already at TNS under name SN2018fqe\n",
      "ZTF18abmwfxd\n",
      "ZTF18abmwfxd not in marshal, skipping from trial tns\n",
      "ZTF18abryewg\n"
     ]
    },
    {
     "name": "stderr",
     "output_type": "stream",
     "text": [
      "INFO:jnordin:ZTF18abryewg already at TNS under name AT2018geu\n"
     ]
    },
    {
     "name": "stdout",
     "output_type": "stream",
     "text": [
      "ZTF18abryewg already at TNS under name AT2018geu\n",
      "ZTF18abnvoel\n"
     ]
    },
    {
     "name": "stderr",
     "output_type": "stream",
     "text": [
      "INFO:jnordin:ZTF18abnvoel already at TNS under name AT2018hmj\n"
     ]
    },
    {
     "name": "stdout",
     "output_type": "stream",
     "text": [
      "ZTF18abnvoel already at TNS under name AT2018hmj\n",
      "ZTF18absrcps\n"
     ]
    },
    {
     "name": "stderr",
     "output_type": "stream",
     "text": [
      "INFO:jnordin:ZTF18absrcps already at TNS under name AT2018gsx\n"
     ]
    },
    {
     "name": "stdout",
     "output_type": "stream",
     "text": [
      "ZTF18absrcps already at TNS under name AT2018gsx\n",
      "ZTF18absdgon\n"
     ]
    },
    {
     "name": "stderr",
     "output_type": "stream",
     "text": [
      "INFO:jnordin:ZTF18absdgon already at TNS under name SN2018frx\n",
      "INFO:jnordin:ZTF18abqdtes not in marshal, skipping from trial tns\n"
     ]
    },
    {
     "name": "stdout",
     "output_type": "stream",
     "text": [
      "ZTF18absdgon already at TNS under name SN2018frx\n",
      "ZTF18abqdtes\n",
      "ZTF18abqdtes not in marshal, skipping from trial tns\n",
      "ZTF18abfhryc\n"
     ]
    },
    {
     "name": "stderr",
     "output_type": "stream",
     "text": [
      "INFO:jnordin:ZTF18abfhryc already at TNS under name SN2018dhw\n",
      "INFO:jnordin:ZTF18absbgqd not in marshal, skipping from trial tns\n",
      "INFO:jnordin:ZTF18abgrlpv not in marshal, skipping from trial tns\n"
     ]
    },
    {
     "name": "stdout",
     "output_type": "stream",
     "text": [
      "ZTF18abfhryc already at TNS under name SN2018dhw\n",
      "ZTF18absbgqd\n",
      "ZTF18absbgqd not in marshal, skipping from trial tns\n",
      "ZTF18abgrlpv\n",
      "ZTF18abgrlpv not in marshal, skipping from trial tns\n",
      "ZTF18absdjms\n"
     ]
    },
    {
     "name": "stderr",
     "output_type": "stream",
     "text": [
      "INFO:jnordin:ZTF18absdjms already at TNS under name AT2018hmk\n",
      "INFO:jnordin:ZTF18abmjokl not in marshal, skipping from trial tns\n",
      "INFO:jnordin:ZTF18aapcwvu not in marshal, skipping from trial tns\n"
     ]
    },
    {
     "name": "stdout",
     "output_type": "stream",
     "text": [
      "ZTF18absdjms already at TNS under name AT2018hmk\n",
      "ZTF18abmjokl\n",
      "ZTF18abmjokl not in marshal, skipping from trial tns\n",
      "ZTF18aapcwvu\n",
      "ZTF18aapcwvu not in marshal, skipping from trial tns\n",
      "ZTF18abqapch\n"
     ]
    },
    {
     "name": "stderr",
     "output_type": "stream",
     "text": [
      "INFO:jnordin:ZTF18abqapch already at TNS under name AT2018fwf\n"
     ]
    },
    {
     "name": "stdout",
     "output_type": "stream",
     "text": [
      "ZTF18abqapch already at TNS under name AT2018fwf\n",
      "ZTF18absayvp\n"
     ]
    },
    {
     "name": "stderr",
     "output_type": "stream",
     "text": [
      "INFO:jnordin:ZTF18absayvp already at TNS under name SN2018euz\n"
     ]
    },
    {
     "name": "stdout",
     "output_type": "stream",
     "text": [
      "ZTF18absayvp already at TNS under name SN2018euz\n",
      "ZTF18aampjcm\n"
     ]
    },
    {
     "name": "stderr",
     "output_type": "stream",
     "text": [
      "INFO:jnordin:ZTF18aampjcm already at TNS under name AT2018hml\n"
     ]
    },
    {
     "name": "stdout",
     "output_type": "stream",
     "text": [
      "ZTF18aampjcm already at TNS under name AT2018hml\n",
      "ZTF18abqdwze\n"
     ]
    },
    {
     "name": "stderr",
     "output_type": "stream",
     "text": [
      "INFO:jnordin:ZTF18abqdwze already at TNS under name AT2018hmm\n",
      "INFO:jnordin:ZTF18abrzbum not in marshal, skipping from trial tns\n"
     ]
    },
    {
     "name": "stdout",
     "output_type": "stream",
     "text": [
      "ZTF18abqdwze already at TNS under name AT2018hmm\n",
      "ZTF18abrzbum\n",
      "ZTF18abrzbum not in marshal, skipping from trial tns\n",
      "ZTF18abtkctg\n"
     ]
    },
    {
     "name": "stderr",
     "output_type": "stream",
     "text": [
      "INFO:jnordin:ZTF18abtkctg already at TNS under name AT2018hmn\n"
     ]
    },
    {
     "name": "stdout",
     "output_type": "stream",
     "text": [
      "ZTF18abtkctg already at TNS under name AT2018hmn\n",
      "ZTF18abkhcrj\n"
     ]
    },
    {
     "name": "stderr",
     "output_type": "stream",
     "text": [
      "INFO:jnordin:ZTF18abkhcrj already at TNS under name SN2018emi\n",
      "INFO:jnordin:ZTF18abmezaq not in marshal, skipping from trial tns\n"
     ]
    },
    {
     "name": "stdout",
     "output_type": "stream",
     "text": [
      "ZTF18abkhcrj already at TNS under name SN2018emi\n",
      "ZTF18abmezaq\n",
      "ZTF18abmezaq not in marshal, skipping from trial tns\n",
      "ZTF18abauprj\n"
     ]
    },
    {
     "name": "stderr",
     "output_type": "stream",
     "text": [
      "INFO:jnordin:ZTF18abauprj already at TNS under name SN2018cnw\n"
     ]
    },
    {
     "name": "stdout",
     "output_type": "stream",
     "text": [
      "ZTF18abauprj already at TNS under name SN2018cnw\n",
      "ZTF18absliyc\n"
     ]
    },
    {
     "name": "stderr",
     "output_type": "stream",
     "text": [
      "INFO:jnordin:ZTF18absliyc already at TNS under name SN2018gcj\n"
     ]
    },
    {
     "name": "stdout",
     "output_type": "stream",
     "text": [
      "ZTF18absliyc already at TNS under name SN2018gcj\n",
      "ZTF18absloer\n"
     ]
    },
    {
     "name": "stderr",
     "output_type": "stream",
     "text": [
      "INFO:jnordin:ZTF18absloer already at TNS under name AT2018fsy\n"
     ]
    },
    {
     "name": "stdout",
     "output_type": "stream",
     "text": [
      "ZTF18absloer already at TNS under name AT2018fsy\n",
      "ZTF18abporae\n"
     ]
    },
    {
     "name": "stderr",
     "output_type": "stream",
     "text": [
      "INFO:jnordin:ZTF18abporae already at TNS under name AT2018hmo\n"
     ]
    },
    {
     "name": "stdout",
     "output_type": "stream",
     "text": [
      "ZTF18abporae already at TNS under name AT2018hmo\n",
      "ZTF18ablwafp\n"
     ]
    },
    {
     "name": "stderr",
     "output_type": "stream",
     "text": [
      "INFO:jnordin:ZTF18ablwafp already at TNS under name SN2018ffs\n",
      "INFO:jnordin:ZTF18aajcqag not in marshal, skipping from trial tns\n"
     ]
    },
    {
     "name": "stdout",
     "output_type": "stream",
     "text": [
      "ZTF18ablwafp already at TNS under name SN2018ffs\n",
      "ZTF18aajcqag\n",
      "ZTF18aajcqag not in marshal, skipping from trial tns\n",
      "ZTF18abtnlik\n"
     ]
    },
    {
     "name": "stderr",
     "output_type": "stream",
     "text": [
      "INFO:jnordin:ZTF18abtnlik already at TNS under name SN2018ggq\n"
     ]
    },
    {
     "name": "stdout",
     "output_type": "stream",
     "text": [
      "ZTF18abtnlik already at TNS under name SN2018ggq\n",
      "ZTF18ablmduj\n"
     ]
    },
    {
     "name": "stderr",
     "output_type": "stream",
     "text": [
      "INFO:jnordin:ZTF18ablmduj already at TNS under name AT2018evr\n"
     ]
    },
    {
     "name": "stdout",
     "output_type": "stream",
     "text": [
      "ZTF18ablmduj already at TNS under name AT2018evr\n",
      "ZTF18abtfrbf\n"
     ]
    },
    {
     "name": "stderr",
     "output_type": "stream",
     "text": [
      "INFO:jnordin:ZTF18abtfrbf already at TNS under name SN2018gdg\n"
     ]
    },
    {
     "name": "stdout",
     "output_type": "stream",
     "text": [
      "ZTF18abtfrbf already at TNS under name SN2018gdg\n",
      "ZTF18abmxfrc\n"
     ]
    },
    {
     "name": "stderr",
     "output_type": "stream",
     "text": [
      "INFO:jnordin:ZTF18abmxfrc already at TNS under name SN2018fin\n"
     ]
    },
    {
     "name": "stdout",
     "output_type": "stream",
     "text": [
      "ZTF18abmxfrc already at TNS under name SN2018fin\n",
      "ZTF18abslxhz\n"
     ]
    },
    {
     "name": "stderr",
     "output_type": "stream",
     "text": [
      "INFO:jnordin:ZTF18abslxhz already at TNS under name AT2018hmp\n"
     ]
    },
    {
     "name": "stdout",
     "output_type": "stream",
     "text": [
      "ZTF18abslxhz already at TNS under name AT2018hmp\n",
      "ZTF18abpudlt\n"
     ]
    },
    {
     "name": "stderr",
     "output_type": "stream",
     "text": [
      "INFO:jnordin:ZTF18abpudlt already at TNS under name AT2018hmq\n"
     ]
    },
    {
     "name": "stdout",
     "output_type": "stream",
     "text": [
      "ZTF18abpudlt already at TNS under name AT2018hmq\n",
      "ZTF18aasdted\n"
     ]
    },
    {
     "name": "stderr",
     "output_type": "stream",
     "text": [
      "INFO:jnordin:ZTF18aasdted already at TNS under name SN2018big\n"
     ]
    },
    {
     "name": "stdout",
     "output_type": "stream",
     "text": [
      "ZTF18aasdted already at TNS under name SN2018big\n",
      "ZTF18abnvnqb\n"
     ]
    },
    {
     "name": "stderr",
     "output_type": "stream",
     "text": [
      "INFO:jnordin:ZTF18abnvnqb already at TNS under name AT2018hmr\n",
      "INFO:jnordin:ZTF17aaawzer not in marshal, skipping from trial tns\n",
      "INFO:jnordin:ZTF18abmsmtt not in marshal, skipping from trial tns\n"
     ]
    },
    {
     "name": "stdout",
     "output_type": "stream",
     "text": [
      "ZTF18abnvnqb already at TNS under name AT2018hmr\n",
      "ZTF17aaawzer\n",
      "ZTF17aaawzer not in marshal, skipping from trial tns\n",
      "ZTF18abmsmtt\n",
      "ZTF18abmsmtt not in marshal, skipping from trial tns\n",
      "ZTF18abnujuy\n"
     ]
    },
    {
     "name": "stderr",
     "output_type": "stream",
     "text": [
      "INFO:jnordin:ZTF18abnujuy already at TNS under name AT2018hms\n"
     ]
    },
    {
     "name": "stdout",
     "output_type": "stream",
     "text": [
      "ZTF18abnujuy already at TNS under name AT2018hms\n",
      "ZTF18abrwudp\n"
     ]
    },
    {
     "name": "stderr",
     "output_type": "stream",
     "text": [
      "INFO:jnordin:ZTF18abrwudp already at TNS under name AT2018hmt\n"
     ]
    },
    {
     "name": "stdout",
     "output_type": "stream",
     "text": [
      "ZTF18abrwudp already at TNS under name AT2018hmt\n",
      "ZTF18ablhvfr\n"
     ]
    },
    {
     "name": "stderr",
     "output_type": "stream",
     "text": [
      "INFO:jnordin:ZTF18ablhvfr already at TNS under name SN2018fcd\n"
     ]
    },
    {
     "name": "stdout",
     "output_type": "stream",
     "text": [
      "ZTF18ablhvfr already at TNS under name SN2018fcd\n",
      "ZTF18abrwrch\n"
     ]
    },
    {
     "name": "stderr",
     "output_type": "stream",
     "text": [
      "INFO:jnordin:ZTF18abrwrch already at TNS under name AT2018giw\n"
     ]
    },
    {
     "name": "stdout",
     "output_type": "stream",
     "text": [
      "ZTF18abrwrch already at TNS under name AT2018giw\n",
      "ZTF18abqyvzy\n"
     ]
    },
    {
     "name": "stderr",
     "output_type": "stream",
     "text": [
      "INFO:jnordin:ZTF18abqyvzy already at TNS under name SN2018fpb\n"
     ]
    },
    {
     "name": "stdout",
     "output_type": "stream",
     "text": [
      "ZTF18abqyvzy already at TNS under name SN2018fpb\n",
      "ZTF18abmnvkx\n"
     ]
    },
    {
     "name": "stderr",
     "output_type": "stream",
     "text": [
      "INFO:jnordin:ZTF18abmnvkx already at TNS under name AT2018hmu\n"
     ]
    },
    {
     "name": "stdout",
     "output_type": "stream",
     "text": [
      "ZTF18abmnvkx already at TNS under name AT2018hmu\n",
      "ZTF18abnxhmc\n"
     ]
    },
    {
     "name": "stderr",
     "output_type": "stream",
     "text": [
      "INFO:jnordin:ZTF18abnxhmc already at TNS under name SN2018fja\n",
      "INFO:jnordin:ZTF18aaunlts not in marshal, skipping from trial tns\n"
     ]
    },
    {
     "name": "stdout",
     "output_type": "stream",
     "text": [
      "ZTF18abnxhmc already at TNS under name SN2018fja\n",
      "ZTF18aaunlts\n",
      "ZTF18aaunlts not in marshal, skipping from trial tns\n",
      "ZTF18abrzevz\n"
     ]
    },
    {
     "name": "stderr",
     "output_type": "stream",
     "text": [
      "INFO:jnordin:ZTF18abrzevz already at TNS under name AT2018hmv\n"
     ]
    },
    {
     "name": "stdout",
     "output_type": "stream",
     "text": [
      "ZTF18abrzevz already at TNS under name AT2018hmv\n",
      "ZTF18abnnnzk\n"
     ]
    },
    {
     "name": "stderr",
     "output_type": "stream",
     "text": [
      "INFO:jnordin:ZTF18abnnnzk already at TNS under name AT2018fsd\n",
      "INFO:jnordin:ZTF18aaqduja not in marshal, skipping from trial tns\n",
      "INFO:jnordin:ZTF18ablqjws not in marshal, skipping from trial tns\n",
      "INFO:jnordin:ZTF18abgqvwv not in marshal, skipping from trial tns\n",
      "INFO:jnordin:ZTF18abslxpd not in marshal, skipping from trial tns\n"
     ]
    },
    {
     "name": "stdout",
     "output_type": "stream",
     "text": [
      "ZTF18abnnnzk already at TNS under name AT2018fsd\n",
      "ZTF18aaqduja\n",
      "ZTF18aaqduja not in marshal, skipping from trial tns\n",
      "ZTF18ablqjws\n",
      "ZTF18ablqjws not in marshal, skipping from trial tns\n",
      "ZTF18abgqvwv\n",
      "ZTF18abgqvwv not in marshal, skipping from trial tns\n",
      "ZTF18abslxpd\n",
      "ZTF18abslxpd not in marshal, skipping from trial tns\n",
      "ZTF18abmxdhb\n"
     ]
    },
    {
     "name": "stderr",
     "output_type": "stream",
     "text": [
      "INFO:jnordin:ZTF18abmxdhb already at TNS under name SN2018fjv\n"
     ]
    },
    {
     "name": "stdout",
     "output_type": "stream",
     "text": [
      "ZTF18abmxdhb already at TNS under name SN2018fjv\n",
      "ZTF18abmmdif\n"
     ]
    },
    {
     "name": "stderr",
     "output_type": "stream",
     "text": [
      "INFO:jnordin:ZTF18abmmdif already at TNS under name SN2018fec\n",
      "INFO:jnordin:ZTF18abnvjws not in marshal, skipping from trial tns\n",
      "INFO:jnordin:ZTF18abpvpei not in marshal, skipping from trial tns\n",
      "INFO:jnordin:ZTF18aaqlksk not in marshal, skipping from trial tns\n"
     ]
    },
    {
     "name": "stdout",
     "output_type": "stream",
     "text": [
      "ZTF18abmmdif already at TNS under name SN2018fec\n",
      "ZTF18abnvjws\n",
      "ZTF18abnvjws not in marshal, skipping from trial tns\n",
      "ZTF18abpvpei\n",
      "ZTF18abpvpei not in marshal, skipping from trial tns\n",
      "ZTF18aaqlksk\n",
      "ZTF18aaqlksk not in marshal, skipping from trial tns\n",
      "ZTF18ablllyw\n"
     ]
    },
    {
     "name": "stderr",
     "output_type": "stream",
     "text": [
      "INFO:jnordin:ZTF18ablllyw already at TNS under name AT2018ggv\n"
     ]
    },
    {
     "name": "stdout",
     "output_type": "stream",
     "text": [
      "ZTF18ablllyw already at TNS under name AT2018ggv\n",
      "ZTF18abtmbaz\n"
     ]
    },
    {
     "name": "stderr",
     "output_type": "stream",
     "text": [
      "INFO:jnordin:ZTF18abtmbaz already at TNS under name SN2018gff\n",
      "INFO:jnordin:ZTF18aamhnti not in marshal, skipping from trial tns\n"
     ]
    },
    {
     "name": "stdout",
     "output_type": "stream",
     "text": [
      "ZTF18abtmbaz already at TNS under name SN2018gff\n",
      "ZTF18aamhnti\n",
      "ZTF18aamhnti not in marshal, skipping from trial tns\n",
      "ZTF18abscygs\n"
     ]
    },
    {
     "name": "stderr",
     "output_type": "stream",
     "text": [
      "INFO:jnordin:ZTF18abscygs already at TNS under name AT2018gqe\n"
     ]
    },
    {
     "name": "stdout",
     "output_type": "stream",
     "text": [
      "ZTF18abscygs already at TNS under name AT2018gqe\n",
      "ZTF18aampiwv\n"
     ]
    },
    {
     "name": "stderr",
     "output_type": "stream",
     "text": [
      "INFO:jnordin:ZTF18aampiwv already at TNS under name AT2018hmw\n",
      "INFO:jnordin:ZTF18abojpnr not in marshal, skipping from trial tns\n",
      "INFO:jnordin:ZTF18aagteoy not in marshal, skipping from trial tns\n",
      "INFO:jnordin:ZTF18abiicmz not in marshal, skipping from trial tns\n",
      "INFO:jnordin:ZTF18aaojsvk not in marshal, skipping from trial tns\n"
     ]
    },
    {
     "name": "stdout",
     "output_type": "stream",
     "text": [
      "ZTF18aampiwv already at TNS under name AT2018hmw\n",
      "ZTF18abojpnr\n",
      "ZTF18abojpnr not in marshal, skipping from trial tns\n",
      "ZTF18aagteoy\n",
      "ZTF18aagteoy not in marshal, skipping from trial tns\n",
      "ZTF18abiicmz\n",
      "ZTF18abiicmz not in marshal, skipping from trial tns\n",
      "ZTF18aaojsvk\n",
      "ZTF18aaojsvk not in marshal, skipping from trial tns\n",
      "ZTF18abosrco\n"
     ]
    },
    {
     "name": "stderr",
     "output_type": "stream",
     "text": [
      "INFO:jnordin:ZTF18abosrco already at TNS under name SN2018epx\n"
     ]
    },
    {
     "name": "stdout",
     "output_type": "stream",
     "text": [
      "ZTF18abosrco already at TNS under name SN2018epx\n",
      "ZTF18abssdpi\n"
     ]
    },
    {
     "name": "stderr",
     "output_type": "stream",
     "text": [
      "INFO:jnordin:ZTF18abssdpi already at TNS under name AT2018hmx\n",
      "INFO:jnordin:ZTF18abtphym not in marshal, skipping from trial tns\n"
     ]
    },
    {
     "name": "stdout",
     "output_type": "stream",
     "text": [
      "ZTF18abssdpi already at TNS under name AT2018hmx\n",
      "ZTF18abtphym\n",
      "ZTF18abtphym not in marshal, skipping from trial tns\n",
      "ZTF18abntsgz\n"
     ]
    },
    {
     "name": "stderr",
     "output_type": "stream",
     "text": [
      "INFO:jnordin:ZTF18abntsgz already at TNS under name SN2018fiv\n"
     ]
    },
    {
     "name": "stdout",
     "output_type": "stream",
     "text": [
      "ZTF18abntsgz already at TNS under name SN2018fiv\n",
      "ZTF18abnuhuy\n"
     ]
    },
    {
     "name": "stderr",
     "output_type": "stream",
     "text": [
      "INFO:jnordin:ZTF18abnuhuy already at TNS under name AT2018fzo\n"
     ]
    },
    {
     "name": "stdout",
     "output_type": "stream",
     "text": [
      "ZTF18abnuhuy already at TNS under name AT2018fzo\n",
      "ZTF18abrwswl\n"
     ]
    },
    {
     "name": "stderr",
     "output_type": "stream",
     "text": [
      "INFO:jnordin:ZTF18abrwswl already at TNS under name AT2018hmy\n",
      "INFO:jnordin:ZTF18abnyktn not in marshal, skipping from trial tns\n"
     ]
    },
    {
     "name": "stdout",
     "output_type": "stream",
     "text": [
      "ZTF18abrwswl already at TNS under name AT2018hmy\n",
      "ZTF18abnyktn\n",
      "ZTF18abnyktn not in marshal, skipping from trial tns\n",
      "ZTF18abrzuqw\n"
     ]
    },
    {
     "name": "stderr",
     "output_type": "stream",
     "text": [
      "INFO:jnordin:ZTF18abrzuqw already at TNS under name AT2018hmz\n",
      "INFO:jnordin:ZTF18abgzkmf not in marshal, skipping from trial tns\n"
     ]
    },
    {
     "name": "stdout",
     "output_type": "stream",
     "text": [
      "ZTF18abrzuqw already at TNS under name AT2018hmz\n",
      "ZTF18abgzkmf\n",
      "ZTF18abgzkmf not in marshal, skipping from trial tns\n",
      "ZTF18abomklq\n"
     ]
    },
    {
     "name": "stderr",
     "output_type": "stream",
     "text": [
      "INFO:jnordin:ZTF18abomklq already at TNS under name SN2018fpi\n"
     ]
    },
    {
     "name": "stdout",
     "output_type": "stream",
     "text": [
      "ZTF18abomklq already at TNS under name SN2018fpi\n",
      "ZTF18abdkkwa\n"
     ]
    },
    {
     "name": "stderr",
     "output_type": "stream",
     "text": [
      "INFO:jnordin:ZTF18abdkkwa already at TNS under name SN2018dgx\n"
     ]
    },
    {
     "name": "stdout",
     "output_type": "stream",
     "text": [
      "ZTF18abdkkwa already at TNS under name SN2018dgx\n",
      "ZTF18abhpzig\n"
     ]
    },
    {
     "name": "stderr",
     "output_type": "stream",
     "text": [
      "INFO:jnordin:ZTF18abhpzig already at TNS under name SN2018ebk\n",
      "INFO:jnordin:ZTF18abrlljc not in marshal, skipping from trial tns\n"
     ]
    },
    {
     "name": "stdout",
     "output_type": "stream",
     "text": [
      "ZTF18abhpzig already at TNS under name SN2018ebk\n",
      "ZTF18abrlljc\n",
      "ZTF18abrlljc not in marshal, skipping from trial tns\n",
      "ZTF18absbsoz\n"
     ]
    },
    {
     "name": "stderr",
     "output_type": "stream",
     "text": [
      "INFO:jnordin:ZTF18absbsoz already at TNS under name AT2018ful\n",
      "INFO:jnordin:ZTF18abktmfz not in marshal, skipping from trial tns\n",
      "INFO:jnordin:ZTF18aapzqup not in marshal, skipping from trial tns\n"
     ]
    },
    {
     "name": "stdout",
     "output_type": "stream",
     "text": [
      "ZTF18absbsoz already at TNS under name AT2018ful\n",
      "ZTF18abktmfz\n",
      "ZTF18abktmfz not in marshal, skipping from trial tns\n",
      "ZTF18aapzqup\n",
      "ZTF18aapzqup not in marshal, skipping from trial tns\n",
      "ZTF18abokpvh\n"
     ]
    },
    {
     "name": "stderr",
     "output_type": "stream",
     "text": [
      "INFO:jnordin:ZTF18abokpvh already at TNS under name SN2018fnc\n"
     ]
    },
    {
     "name": "stdout",
     "output_type": "stream",
     "text": [
      "ZTF18abokpvh already at TNS under name SN2018fnc\n",
      "ZTF18absbspk\n"
     ]
    },
    {
     "name": "stderr",
     "output_type": "stream",
     "text": [
      "INFO:jnordin:ZTF18absbspk already at TNS under name AT2018hoi\n"
     ]
    },
    {
     "name": "stdout",
     "output_type": "stream",
     "text": [
      "ZTF18absbspk already at TNS under name AT2018hoi\n",
      "ZTF18absqhza\n"
     ]
    },
    {
     "name": "stderr",
     "output_type": "stream",
     "text": [
      "INFO:jnordin:ZTF18absqhza already at TNS under name SN2018fum\n"
     ]
    },
    {
     "name": "stdout",
     "output_type": "stream",
     "text": [
      "ZTF18absqhza already at TNS under name SN2018fum\n",
      "ZTF18abcflnz\n"
     ]
    },
    {
     "name": "stderr",
     "output_type": "stream",
     "text": [
      "INFO:jnordin:ZTF18abcflnz already at TNS under name SN2018cuw\n"
     ]
    },
    {
     "name": "stdout",
     "output_type": "stream",
     "text": [
      "ZTF18abcflnz already at TNS under name SN2018cuw\n",
      "ZTF18absgnio\n"
     ]
    },
    {
     "name": "stderr",
     "output_type": "stream",
     "text": [
      "INFO:jnordin:ZTF18absgnio already at TNS under name SN2018fuu\n",
      "INFO:jnordin:ZTF18aaqqukd not in marshal, skipping from trial tns\n",
      "INFO:jnordin:ZTF18abslbyb not in marshal, skipping from trial tns\n",
      "INFO:jnordin:ZTF18abolndd not in marshal, skipping from trial tns\n"
     ]
    },
    {
     "name": "stdout",
     "output_type": "stream",
     "text": [
      "ZTF18absgnio already at TNS under name SN2018fuu\n",
      "ZTF18aaqqukd\n",
      "ZTF18aaqqukd not in marshal, skipping from trial tns\n",
      "ZTF18abslbyb\n",
      "ZTF18abslbyb not in marshal, skipping from trial tns\n",
      "ZTF18abolndd\n",
      "ZTF18abolndd not in marshal, skipping from trial tns\n",
      "ZTF18abdpvnd\n"
     ]
    },
    {
     "name": "stderr",
     "output_type": "stream",
     "text": [
      "INFO:jnordin:ZTF18abdpvnd already at TNS under name SN2018dvf\n",
      "INFO:jnordin:ZTF18abcfdzu not in marshal, skipping from trial tns\n"
     ]
    },
    {
     "name": "stdout",
     "output_type": "stream",
     "text": [
      "ZTF18abdpvnd already at TNS under name SN2018dvf\n",
      "ZTF18abcfdzu\n",
      "ZTF18abcfdzu not in marshal, skipping from trial tns\n",
      "ZTF18abpttky\n"
     ]
    },
    {
     "name": "stderr",
     "output_type": "stream",
     "text": [
      "INFO:jnordin:ZTF18abpttky already at TNS under name SN2018fse\n",
      "INFO:jnordin:ZTF18aaxudip not in marshal, skipping from trial tns\n",
      "INFO:jnordin:ZTF18abgoodz not in marshal, skipping from trial tns\n",
      "INFO:jnordin:ZTF18aalsiji not in marshal, skipping from trial tns\n",
      "INFO:jnordin:ZTF18abqlkwb not in marshal, skipping from trial tns\n"
     ]
    },
    {
     "name": "stdout",
     "output_type": "stream",
     "text": [
      "ZTF18abpttky already at TNS under name SN2018fse\n",
      "ZTF18aaxudip\n",
      "ZTF18aaxudip not in marshal, skipping from trial tns\n",
      "ZTF18abgoodz\n",
      "ZTF18abgoodz not in marshal, skipping from trial tns\n",
      "ZTF18aalsiji\n",
      "ZTF18aalsiji not in marshal, skipping from trial tns\n",
      "ZTF18abqlkwb\n",
      "ZTF18abqlkwb not in marshal, skipping from trial tns\n",
      "ZTF18abpaywm\n"
     ]
    },
    {
     "name": "stderr",
     "output_type": "stream",
     "text": [
      "INFO:jnordin:ZTF18abpaywm already at TNS under name SN2018fne\n",
      "INFO:jnordin:ZTF18abpplqk not in marshal, skipping from trial tns\n",
      "INFO:jnordin:ZTF18abgvdtw not in marshal, skipping from trial tns\n"
     ]
    },
    {
     "name": "stdout",
     "output_type": "stream",
     "text": [
      "ZTF18abpaywm already at TNS under name SN2018fne\n",
      "ZTF18abpplqk\n",
      "ZTF18abpplqk not in marshal, skipping from trial tns\n",
      "ZTF18abgvdtw\n",
      "ZTF18abgvdtw not in marshal, skipping from trial tns\n",
      "ZTF18aawlhkh\n"
     ]
    },
    {
     "name": "stderr",
     "output_type": "stream",
     "text": [
      "INFO:jnordin:ZTF18aawlhkh already at TNS under name AT2018hnw\n"
     ]
    },
    {
     "name": "stdout",
     "output_type": "stream",
     "text": [
      "ZTF18aawlhkh already at TNS under name AT2018hnw\n",
      "ZTF18abnygkb\n"
     ]
    },
    {
     "name": "stderr",
     "output_type": "stream",
     "text": [
      "INFO:jnordin:ZTF18abnygkb already at TNS under name SN2018fmr\n",
      "INFO:jnordin:ZTF17aabuyyp not in marshal, skipping from trial tns\n"
     ]
    },
    {
     "name": "stdout",
     "output_type": "stream",
     "text": [
      "ZTF18abnygkb already at TNS under name SN2018fmr\n",
      "ZTF17aabuyyp\n",
      "ZTF17aabuyyp not in marshal, skipping from trial tns\n",
      "ZTF18abrzeym\n"
     ]
    },
    {
     "name": "stderr",
     "output_type": "stream",
     "text": [
      "INFO:jnordin:ZTF18abrzeym already at TNS under name SN2018ftt\n"
     ]
    },
    {
     "name": "stdout",
     "output_type": "stream",
     "text": [
      "ZTF18abrzeym already at TNS under name SN2018ftt\n",
      "ZTF18absgvqb\n"
     ]
    },
    {
     "name": "stderr",
     "output_type": "stream",
     "text": [
      "INFO:jnordin:ZTF18absgvqb already at TNS under name AT2018hnu\n",
      "INFO:jnordin:ZTF18aajtinl not in marshal, skipping from trial tns\n",
      "INFO:jnordin:ZTF18abcoywh not in marshal, skipping from trial tns\n",
      "INFO:jnordin:ZTF18abtlqub not in marshal, skipping from trial tns\n",
      "INFO:jnordin:ZTF18absdbpd not in marshal, skipping from trial tns\n",
      "INFO:jnordin:ZTF18aaqovfv not in marshal, skipping from trial tns\n",
      "INFO:jnordin:ZTF18absnibc not in marshal, skipping from trial tns\n",
      "INFO:jnordin:ZTF18abtnfnq not in marshal, skipping from trial tns\n",
      "INFO:jnordin:ZTF18abckutn not in marshal, skipping from trial tns\n"
     ]
    },
    {
     "name": "stdout",
     "output_type": "stream",
     "text": [
      "ZTF18absgvqb already at TNS under name AT2018hnu\n",
      "ZTF18aajtinl\n",
      "ZTF18aajtinl not in marshal, skipping from trial tns\n",
      "ZTF18abcoywh\n",
      "ZTF18abcoywh not in marshal, skipping from trial tns\n",
      "ZTF18abtlqub\n",
      "ZTF18abtlqub not in marshal, skipping from trial tns\n",
      "ZTF18absdbpd\n",
      "ZTF18absdbpd not in marshal, skipping from trial tns\n",
      "ZTF18aaqovfv\n",
      "ZTF18aaqovfv not in marshal, skipping from trial tns\n",
      "ZTF18absnibc\n",
      "ZTF18absnibc not in marshal, skipping from trial tns\n",
      "ZTF18abtnfnq\n",
      "ZTF18abtnfnq not in marshal, skipping from trial tns\n",
      "ZTF18abckutn\n",
      "ZTF18abckutn not in marshal, skipping from trial tns\n",
      "ZTF18abtogdl\n"
     ]
    },
    {
     "name": "stderr",
     "output_type": "stream",
     "text": [
      "INFO:jnordin:ZTF18abtogdl already at TNS under name SN2018gqa\n"
     ]
    },
    {
     "name": "stdout",
     "output_type": "stream",
     "text": [
      "ZTF18abtogdl already at TNS under name SN2018gqa\n",
      "ZTF18absnsqx\n"
     ]
    },
    {
     "name": "stderr",
     "output_type": "stream",
     "text": [
      "INFO:jnordin:ZTF18absnsqx already at TNS under name AT2018gfq\n"
     ]
    },
    {
     "name": "stdout",
     "output_type": "stream",
     "text": [
      "ZTF18absnsqx already at TNS under name AT2018gfq\n",
      "ZTF18abmmkaz\n"
     ]
    },
    {
     "name": "stderr",
     "output_type": "stream",
     "text": [
      "INFO:jnordin:ZTF18abmmkaz already at TNS under name SN2018fdz\n"
     ]
    },
    {
     "name": "stdout",
     "output_type": "stream",
     "text": [
      "ZTF18abmmkaz already at TNS under name SN2018fdz\n",
      "ZTF18ablprcf\n"
     ]
    },
    {
     "name": "stderr",
     "output_type": "stream",
     "text": [
      "INFO:jnordin:ZTF18ablprcf already at TNS under name AT2018hoh\n",
      "INFO:jnordin:ZTF18abnzlai not in marshal, skipping from trial tns\n"
     ]
    },
    {
     "name": "stdout",
     "output_type": "stream",
     "text": [
      "ZTF18ablprcf already at TNS under name AT2018hoh\n",
      "ZTF18abnzlai\n",
      "ZTF18abnzlai not in marshal, skipping from trial tns\n",
      "ZTF18abcqvhs\n"
     ]
    },
    {
     "name": "stderr",
     "output_type": "stream",
     "text": [
      "INFO:jnordin:ZTF18abcqvhs already at TNS under name AT2018hoa\n"
     ]
    },
    {
     "name": "stdout",
     "output_type": "stream",
     "text": [
      "ZTF18abcqvhs already at TNS under name AT2018hoa\n",
      "ZTF18abmwnov\n"
     ]
    },
    {
     "name": "stderr",
     "output_type": "stream",
     "text": [
      "INFO:jnordin:ZTF18abmwnov already at TNS under name SN2018fiw\n"
     ]
    },
    {
     "name": "stdout",
     "output_type": "stream",
     "text": [
      "ZTF18abmwnov already at TNS under name SN2018fiw\n",
      "ZTF18abbmenz\n"
     ]
    },
    {
     "name": "stderr",
     "output_type": "stream",
     "text": [
      "INFO:jnordin:Skipping. ZTF18abbmenz detected at first alert time 2458360.7284, no previous upper limit\n"
     ]
    },
    {
     "name": "stdout",
     "output_type": "stream",
     "text": [
      "Try TNS submit\n",
      "Skipping. ZTF18abbmenz detected at first alert time 2458360.7284, no previous upper limit\n",
      "ZTF18absmogv\n"
     ]
    },
    {
     "name": "stderr",
     "output_type": "stream",
     "text": [
      "INFO:jnordin:ZTF18absmogv already at TNS under name AT2018ghy\n"
     ]
    },
    {
     "name": "stdout",
     "output_type": "stream",
     "text": [
      "ZTF18absmogv already at TNS under name AT2018ghy\n",
      "ZTF18aboebsg\n"
     ]
    },
    {
     "name": "stderr",
     "output_type": "stream",
     "text": [
      "INFO:jnordin:ZTF18aboebsg already at TNS under name SN2018fst\n",
      "INFO:jnordin:ZTF18aaibiuc not in marshal, skipping from trial tns\n"
     ]
    },
    {
     "name": "stdout",
     "output_type": "stream",
     "text": [
      "ZTF18aboebsg already at TNS under name SN2018fst\n",
      "ZTF18aaibiuc\n",
      "ZTF18aaibiuc not in marshal, skipping from trial tns\n",
      "ZTF18abryqnn\n"
     ]
    },
    {
     "name": "stderr",
     "output_type": "stream",
     "text": [
      "INFO:jnordin:ZTF18abryqnn already at TNS under name SN2018fnf\n",
      "INFO:jnordin:ZTF18absgnbm not in marshal, skipping from trial tns\n",
      "INFO:jnordin:ZTF18abokyfk not in marshal, skipping from trial tns\n"
     ]
    },
    {
     "name": "stdout",
     "output_type": "stream",
     "text": [
      "ZTF18abryqnn already at TNS under name SN2018fnf\n",
      "ZTF18absgnbm\n",
      "ZTF18absgnbm not in marshal, skipping from trial tns\n",
      "ZTF18abokyfk\n",
      "ZTF18abokyfk not in marshal, skipping from trial tns\n",
      "ZTF18abshezu\n"
     ]
    },
    {
     "name": "stderr",
     "output_type": "stream",
     "text": [
      "INFO:jnordin:ZTF18abshezu already at TNS under name SN2018gft\n",
      "INFO:jnordin:ZTF18abummai not in marshal, skipping from trial tns\n"
     ]
    },
    {
     "name": "stdout",
     "output_type": "stream",
     "text": [
      "ZTF18abshezu already at TNS under name SN2018gft\n",
      "ZTF18abummai\n",
      "ZTF18abummai not in marshal, skipping from trial tns\n",
      "ZTF18abtqrwa\n"
     ]
    },
    {
     "name": "stderr",
     "output_type": "stream",
     "text": [
      "INFO:jnordin:ZTF18abtqrwa already at TNS under name AT2018hna\n",
      "INFO:jnordin:ZTF18absljwl not in marshal, skipping from trial tns\n",
      "INFO:jnordin:ZTF18abwegek not in marshal, skipping from trial tns\n"
     ]
    },
    {
     "name": "stdout",
     "output_type": "stream",
     "text": [
      "ZTF18abtqrwa already at TNS under name AT2018hna\n",
      "ZTF18absljwl\n",
      "ZTF18absljwl not in marshal, skipping from trial tns\n",
      "ZTF18abwegek\n",
      "ZTF18abwegek not in marshal, skipping from trial tns\n",
      "ZTF17aaaadqv\n"
     ]
    },
    {
     "name": "stderr",
     "output_type": "stream",
     "text": [
      "INFO:jnordin:ZTF17aaaadqv already at TNS under name AT2018hnb\n",
      "INFO:jnordin:ZTF18abnzksu not in marshal, skipping from trial tns\n",
      "INFO:jnordin:ZTF18abunlhk not in marshal, skipping from trial tns\n"
     ]
    },
    {
     "name": "stdout",
     "output_type": "stream",
     "text": [
      "ZTF17aaaadqv already at TNS under name AT2018hnb\n",
      "ZTF18abnzksu\n",
      "ZTF18abnzksu not in marshal, skipping from trial tns\n",
      "ZTF18abunlhk\n",
      "ZTF18abunlhk not in marshal, skipping from trial tns\n",
      "ZTF18abuhzfc\n"
     ]
    },
    {
     "name": "stderr",
     "output_type": "stream",
     "text": [
      "INFO:jnordin:ZTF18abuhzfc already at TNS under name SN2018ggx\n",
      "INFO:jnordin:ZTF18abujamb not in marshal, skipping from trial tns\n"
     ]
    },
    {
     "name": "stdout",
     "output_type": "stream",
     "text": [
      "ZTF18abuhzfc already at TNS under name SN2018ggx\n",
      "ZTF18abujamb\n",
      "ZTF18abujamb not in marshal, skipping from trial tns\n",
      "ZTF18abupiap\n"
     ]
    },
    {
     "name": "stderr",
     "output_type": "stream",
     "text": [
      "INFO:jnordin:ZTF18abupiap already at TNS under name SN2018gka\n"
     ]
    },
    {
     "name": "stdout",
     "output_type": "stream",
     "text": [
      "ZTF18abupiap already at TNS under name SN2018gka\n",
      "ZTF18abwfmot\n"
     ]
    },
    {
     "name": "stderr",
     "output_type": "stream",
     "text": [
      "INFO:jnordin:ZTF18abwfmot already at TNS under name AT2018hnc\n"
     ]
    },
    {
     "name": "stdout",
     "output_type": "stream",
     "text": [
      "ZTF18abwfmot already at TNS under name AT2018hnc\n",
      "ZTF18abwlejr\n"
     ]
    },
    {
     "name": "stderr",
     "output_type": "stream",
     "text": [
      "INFO:jnordin:ZTF18abwlejr already at TNS under name AT2018hnd\n"
     ]
    },
    {
     "name": "stdout",
     "output_type": "stream",
     "text": [
      "ZTF18abwlejr already at TNS under name AT2018hnd\n",
      "ZTF18abufwxs\n"
     ]
    },
    {
     "name": "stderr",
     "output_type": "stream",
     "text": [
      "INFO:jnordin:ZTF18abufwxs already at TNS under name AT2018hne\n",
      "INFO:jnordin:ZTF18aavoyoq not in marshal, skipping from trial tns\n"
     ]
    },
    {
     "name": "stdout",
     "output_type": "stream",
     "text": [
      "ZTF18abufwxs already at TNS under name AT2018hne\n",
      "ZTF18aavoyoq\n",
      "ZTF18aavoyoq not in marshal, skipping from trial tns\n",
      "ZTF18abucvbf\n"
     ]
    },
    {
     "name": "stderr",
     "output_type": "stream",
     "text": [
      "INFO:jnordin:ZTF18abucvbf already at TNS under name SN2018ggw\n"
     ]
    },
    {
     "name": "stdout",
     "output_type": "stream",
     "text": [
      "ZTF18abucvbf already at TNS under name SN2018ggw\n",
      "ZTF18abuhyjv\n"
     ]
    },
    {
     "name": "stderr",
     "output_type": "stream",
     "text": [
      "INFO:jnordin:ZTF18abuhyjv already at TNS under name SN2018gjt\n",
      "INFO:jnordin:ZTF18aaqikyu not in marshal, skipping from trial tns\n",
      "INFO:jnordin:ZTF18abtmtfy not in marshal, skipping from trial tns\n",
      "INFO:jnordin:ZTF18abmsmnc not in marshal, skipping from trial tns\n"
     ]
    },
    {
     "name": "stdout",
     "output_type": "stream",
     "text": [
      "ZTF18abuhyjv already at TNS under name SN2018gjt\n",
      "ZTF18aaqikyu\n",
      "ZTF18aaqikyu not in marshal, skipping from trial tns\n",
      "ZTF18abtmtfy\n",
      "ZTF18abtmtfy not in marshal, skipping from trial tns\n",
      "ZTF18abmsmnc\n",
      "ZTF18abmsmnc not in marshal, skipping from trial tns\n",
      "ZTF18abufaej\n"
     ]
    },
    {
     "name": "stderr",
     "output_type": "stream",
     "text": [
      "INFO:jnordin:ZTF18abufaej already at TNS under name AT2018hnf\n",
      "INFO:jnordin:ZTF18abulqzb not in marshal, skipping from trial tns\n",
      "INFO:jnordin:ZTF18abwqbxc not in marshal, skipping from trial tns\n"
     ]
    },
    {
     "name": "stdout",
     "output_type": "stream",
     "text": [
      "ZTF18abufaej already at TNS under name AT2018hnf\n",
      "ZTF18abulqzb\n",
      "ZTF18abulqzb not in marshal, skipping from trial tns\n",
      "ZTF18abwqbxc\n",
      "ZTF18abwqbxc not in marshal, skipping from trial tns\n",
      "ZTF18abvrzqj\n"
     ]
    },
    {
     "name": "stderr",
     "output_type": "stream",
     "text": [
      "INFO:jnordin:ZTF18abvrzqj already at TNS under name AT2018gub\n"
     ]
    },
    {
     "name": "stdout",
     "output_type": "stream",
     "text": [
      "ZTF18abvrzqj already at TNS under name AT2018gub\n",
      "ZTF18abtqevs\n"
     ]
    },
    {
     "name": "stderr",
     "output_type": "stream",
     "text": [
      "INFO:jnordin:ZTF18abtqevs already at TNS under name SN2018grt\n",
      "INFO:jnordin:ZTF18abwdnml not in marshal, skipping from trial tns\n",
      "INFO:jnordin:ZTF18abvcrsv not in marshal, skipping from trial tns\n"
     ]
    },
    {
     "name": "stdout",
     "output_type": "stream",
     "text": [
      "ZTF18abtqevs already at TNS under name SN2018grt\n",
      "ZTF18abwdnml\n",
      "ZTF18abwdnml not in marshal, skipping from trial tns\n",
      "ZTF18abvcrsv\n",
      "ZTF18abvcrsv not in marshal, skipping from trial tns\n",
      "ZTF18abvbayb\n"
     ]
    },
    {
     "name": "stderr",
     "output_type": "stream",
     "text": [
      "INFO:jnordin:ZTF18abvbayb already at TNS under name AT2018hng\n",
      "INFO:jnordin:ZTF18abvkmgw not in marshal, skipping from trial tns\n",
      "INFO:jnordin:ZTF18abttvsu not in marshal, skipping from trial tns\n",
      "INFO:jnordin:ZTF18abtrknw not in marshal, skipping from trial tns\n"
     ]
    },
    {
     "name": "stdout",
     "output_type": "stream",
     "text": [
      "ZTF18abvbayb already at TNS under name AT2018hng\n",
      "ZTF18abvkmgw\n",
      "ZTF18abvkmgw not in marshal, skipping from trial tns\n",
      "ZTF18abttvsu\n",
      "ZTF18abttvsu not in marshal, skipping from trial tns\n",
      "ZTF18abtrknw\n",
      "ZTF18abtrknw not in marshal, skipping from trial tns\n",
      "ZTF18abupgql\n"
     ]
    },
    {
     "name": "stderr",
     "output_type": "stream",
     "text": [
      "INFO:jnordin:ZTF18abupgql already at TNS under name SN2018gjr\n"
     ]
    },
    {
     "name": "stdout",
     "output_type": "stream",
     "text": [
      "ZTF18abupgql already at TNS under name SN2018gjr\n",
      "ZTF18abulemm\n"
     ]
    },
    {
     "name": "stderr",
     "output_type": "stream",
     "text": [
      "INFO:jnordin:ZTF18abulemm already at TNS under name AT2018hnh\n"
     ]
    },
    {
     "name": "stdout",
     "output_type": "stream",
     "text": [
      "ZTF18abulemm already at TNS under name AT2018hnh\n",
      "ZTF18abskzjm\n"
     ]
    },
    {
     "name": "stderr",
     "output_type": "stream",
     "text": [
      "INFO:jnordin:ZTF18abskzjm already at TNS under name SN2018gck\n"
     ]
    },
    {
     "name": "stdout",
     "output_type": "stream",
     "text": [
      "ZTF18abskzjm already at TNS under name SN2018gck\n",
      "ZTF18abtfvsk\n"
     ]
    },
    {
     "name": "stderr",
     "output_type": "stream",
     "text": [
      "INFO:jnordin:ZTF18abtfvsk already at TNS under name SN2018fop\n",
      "INFO:jnordin:ZTF18abrzbuj not in marshal, skipping from trial tns\n",
      "INFO:jnordin:ZTF18abscyjj not in marshal, skipping from trial tns\n"
     ]
    },
    {
     "name": "stdout",
     "output_type": "stream",
     "text": [
      "ZTF18abtfvsk already at TNS under name SN2018fop\n",
      "ZTF18abrzbuj\n",
      "ZTF18abrzbuj not in marshal, skipping from trial tns\n",
      "ZTF18abscyjj\n",
      "ZTF18abscyjj not in marshal, skipping from trial tns\n",
      "ZTF18abtswjk\n"
     ]
    },
    {
     "name": "stderr",
     "output_type": "stream",
     "text": [
      "INFO:jnordin:ZTF18abtswjk already at TNS under name SN2018gfx\n"
     ]
    },
    {
     "name": "stdout",
     "output_type": "stream",
     "text": [
      "ZTF18abtswjk already at TNS under name SN2018gfx\n",
      "ZTF18abuksxd\n"
     ]
    },
    {
     "name": "stderr",
     "output_type": "stream",
     "text": [
      "INFO:jnordin:ZTF18abuksxd already at TNS under name AT2018hni\n"
     ]
    },
    {
     "name": "stdout",
     "output_type": "stream",
     "text": [
      "ZTF18abuksxd already at TNS under name AT2018hni\n",
      "ZTF18abvnwzz\n"
     ]
    },
    {
     "name": "stderr",
     "output_type": "stream",
     "text": [
      "INFO:jnordin:ZTF18abvnwzz already at TNS under name AT2018hnj\n",
      "INFO:jnordin:ZTF18abttaxw not in marshal, skipping from trial tns\n",
      "INFO:jnordin:ZTF18abwdhgw not in marshal, skipping from trial tns\n"
     ]
    },
    {
     "name": "stdout",
     "output_type": "stream",
     "text": [
      "ZTF18abvnwzz already at TNS under name AT2018hnj\n",
      "ZTF18abttaxw\n",
      "ZTF18abttaxw not in marshal, skipping from trial tns\n",
      "ZTF18abwdhgw\n",
      "ZTF18abwdhgw not in marshal, skipping from trial tns\n",
      "ZTF18aakgsmi\n"
     ]
    },
    {
     "name": "stderr",
     "output_type": "stream",
     "text": [
      "INFO:jnordin:ZTF18aakgsmi already at TNS under name AT2018hnk\n",
      "INFO:jnordin:ZTF18aabilqu not in marshal, skipping from trial tns\n",
      "INFO:jnordin:ZTF18abvmqnk not in marshal, skipping from trial tns\n",
      "INFO:jnordin:ZTF18abadmii not in marshal, skipping from trial tns\n",
      "INFO:jnordin:ZTF18abwcgyo not in marshal, skipping from trial tns\n",
      "INFO:jnordin:ZTF18abscyji not in marshal, skipping from trial tns\n",
      "INFO:jnordin:ZTF18aaqzomm not in marshal, skipping from trial tns\n",
      "INFO:jnordin:ZTF18abvlkyj not in marshal, skipping from trial tns\n",
      "INFO:jnordin:ZTF18abumflq not in marshal, skipping from trial tns\n"
     ]
    },
    {
     "name": "stdout",
     "output_type": "stream",
     "text": [
      "ZTF18aakgsmi already at TNS under name AT2018hnk\n",
      "ZTF18aabilqu\n",
      "ZTF18aabilqu not in marshal, skipping from trial tns\n",
      "ZTF18abvmqnk\n",
      "ZTF18abvmqnk not in marshal, skipping from trial tns\n",
      "ZTF18abadmii\n",
      "ZTF18abadmii not in marshal, skipping from trial tns\n",
      "ZTF18abwcgyo\n",
      "ZTF18abwcgyo not in marshal, skipping from trial tns\n",
      "ZTF18abscyji\n",
      "ZTF18abscyji not in marshal, skipping from trial tns\n",
      "ZTF18aaqzomm\n",
      "ZTF18aaqzomm not in marshal, skipping from trial tns\n",
      "ZTF18abvlkyj\n",
      "ZTF18abvlkyj not in marshal, skipping from trial tns\n",
      "ZTF18abumflq\n",
      "ZTF18abumflq not in marshal, skipping from trial tns\n",
      "ZTF18abspqsn\n"
     ]
    },
    {
     "name": "stderr",
     "output_type": "stream",
     "text": [
      "INFO:jnordin:ZTF18abspqsn already at TNS under name SN2018gdl\n",
      "INFO:jnordin:ZTF17aacpwpr not in marshal, skipping from trial tns\n"
     ]
    },
    {
     "name": "stdout",
     "output_type": "stream",
     "text": [
      "ZTF18abspqsn already at TNS under name SN2018gdl\n",
      "ZTF17aacpwpr\n",
      "ZTF17aacpwpr not in marshal, skipping from trial tns\n",
      "ZTF18abwntpz\n"
     ]
    },
    {
     "name": "stderr",
     "output_type": "stream",
     "text": [
      "INFO:jnordin:ZTF18abwntpz already at TNS under name AT2018hnl\n"
     ]
    },
    {
     "name": "stdout",
     "output_type": "stream",
     "text": [
      "ZTF18abwntpz already at TNS under name AT2018hnl\n",
      "ZTF18abuqugw\n"
     ]
    },
    {
     "name": "stderr",
     "output_type": "stream",
     "text": [
      "INFO:jnordin:ZTF18abuqugw already at TNS under name SN2018geo\n",
      "INFO:jnordin:ZTF18abmsngt not in marshal, skipping from trial tns\n",
      "INFO:jnordin:ZTF18abfsglv not in marshal, skipping from trial tns\n",
      "INFO:jnordin:ZTF18abchfow not in marshal, skipping from trial tns\n"
     ]
    },
    {
     "name": "stdout",
     "output_type": "stream",
     "text": [
      "ZTF18abuqugw already at TNS under name SN2018geo\n",
      "ZTF18abmsngt\n",
      "ZTF18abmsngt not in marshal, skipping from trial tns\n",
      "ZTF18abfsglv\n",
      "ZTF18abfsglv not in marshal, skipping from trial tns\n",
      "ZTF18abchfow\n",
      "ZTF18abchfow not in marshal, skipping from trial tns\n",
      "ZTF18abvnqqk\n"
     ]
    },
    {
     "name": "stderr",
     "output_type": "stream",
     "text": [
      "INFO:jnordin:ZTF18abvnqqk already at TNS under name AT2018hnm\n"
     ]
    },
    {
     "name": "stdout",
     "output_type": "stream",
     "text": [
      "ZTF18abvnqqk already at TNS under name AT2018hnm\n",
      "ZTF18abwbtco\n"
     ]
    },
    {
     "name": "stderr",
     "output_type": "stream",
     "text": [
      "INFO:jnordin:ZTF18abwbtco already at TNS under name AT2018hnn\n"
     ]
    },
    {
     "name": "stdout",
     "output_type": "stream",
     "text": [
      "ZTF18abwbtco already at TNS under name AT2018hnn\n",
      "ZTF18abvlchy\n"
     ]
    },
    {
     "name": "stderr",
     "output_type": "stream",
     "text": [
      "INFO:jnordin:ZTF18abvlchy already at TNS under name SN2018gqb\n",
      "INFO:jnordin:ZTF18abvujkl not in marshal, skipping from trial tns\n",
      "INFO:jnordin:ZTF18abvytad not in marshal, skipping from trial tns\n"
     ]
    },
    {
     "name": "stdout",
     "output_type": "stream",
     "text": [
      "ZTF18abvlchy already at TNS under name SN2018gqb\n",
      "ZTF18abvujkl\n",
      "ZTF18abvujkl not in marshal, skipping from trial tns\n",
      "ZTF18abvytad\n",
      "ZTF18abvytad not in marshal, skipping from trial tns\n",
      "ZTF18absoomk\n"
     ]
    },
    {
     "name": "stderr",
     "output_type": "stream",
     "text": [
      "INFO:jnordin:ZTF18absoomk already at TNS under name SN2018ghp\n"
     ]
    },
    {
     "name": "stdout",
     "output_type": "stream",
     "text": [
      "ZTF18absoomk already at TNS under name SN2018ghp\n",
      "ZTF18abvxqtp\n"
     ]
    },
    {
     "name": "stderr",
     "output_type": "stream",
     "text": [
      "INFO:jnordin:ZTF18abvxqtp already at TNS under name AT2018gsm\n",
      "INFO:jnordin:ZTF18abvxdou not in marshal, skipping from trial tns\n"
     ]
    },
    {
     "name": "stdout",
     "output_type": "stream",
     "text": [
      "ZTF18abvxqtp already at TNS under name AT2018gsm\n",
      "ZTF18abvxdou\n",
      "ZTF18abvxdou not in marshal, skipping from trial tns\n",
      "ZTF18abukmty\n"
     ]
    },
    {
     "name": "stderr",
     "output_type": "stream",
     "text": [
      "INFO:jnordin:ZTF18abukmty already at TNS under name AT2018hno\n",
      "INFO:jnordin:ZTF18abvburn not in marshal, skipping from trial tns\n"
     ]
    },
    {
     "name": "stdout",
     "output_type": "stream",
     "text": [
      "ZTF18abukmty already at TNS under name AT2018hno\n",
      "ZTF18abvburn\n",
      "ZTF18abvburn not in marshal, skipping from trial tns\n",
      "ZTF18abulkrl\n"
     ]
    },
    {
     "name": "stderr",
     "output_type": "stream",
     "text": [
      "INFO:jnordin:ZTF18abulkrl already at TNS under name SN2018ghc\n",
      "INFO:jnordin:ZTF18abvxbfh not in marshal, skipping from trial tns\n"
     ]
    },
    {
     "name": "stdout",
     "output_type": "stream",
     "text": [
      "ZTF18abulkrl already at TNS under name SN2018ghc\n",
      "ZTF18abvxbfh\n",
      "ZTF18abvxbfh not in marshal, skipping from trial tns\n",
      "ZTF18abvkhul\n"
     ]
    },
    {
     "name": "stderr",
     "output_type": "stream",
     "text": [
      "INFO:jnordin:ZTF18abvkhul already at TNS under name AT2018hnp\n",
      "INFO:jnordin:ZTF18abtlwoj not in marshal, skipping from trial tns\n"
     ]
    },
    {
     "name": "stdout",
     "output_type": "stream",
     "text": [
      "ZTF18abvkhul already at TNS under name AT2018hnp\n",
      "ZTF18abtlwoj\n",
      "ZTF18abtlwoj not in marshal, skipping from trial tns\n",
      "ZTF18abuiknd\n"
     ]
    },
    {
     "name": "stderr",
     "output_type": "stream",
     "text": [
      "INFO:jnordin:ZTF18abuiknd already at TNS under name SN2018gtg\n",
      "INFO:jnordin:ZTF18absgmfy not in marshal, skipping from trial tns\n",
      "INFO:jnordin:ZTF18abvyvlr not in marshal, skipping from trial tns\n"
     ]
    },
    {
     "name": "stdout",
     "output_type": "stream",
     "text": [
      "ZTF18abuiknd already at TNS under name SN2018gtg\n",
      "ZTF18absgmfy\n",
      "ZTF18absgmfy not in marshal, skipping from trial tns\n",
      "ZTF18abvyvlr\n",
      "ZTF18abvyvlr not in marshal, skipping from trial tns\n"
     ]
    }
   ],
   "source": [
    "# Start collecting the data into dictionaries for submission\n",
    "atreport = {}\n",
    "atcounter = 0\n",
    "atreportlists = []   # These cannot have more than one hundred entries, so we do this cumbersome way\n",
    "tnsid = {}\n",
    "skipuntil = None\n",
    "for sn in sncandidates:\n",
    "    print(sn)\n",
    "    if skipuntil is not None and not skipuntil==sn:\n",
    "        continue\n",
    "    skipuntil = None\n",
    "\n",
    "   \n",
    "    \n",
    "\n",
    "    # Start defining AT dict\n",
    "    atdict = {\"groupid\":48, \"reporter\":\"Automatic AMPEL report on behalf of the Zwicky Transient Facility\", \n",
    "              \"at_type\": 1, \"internal_name\":sn, \n",
    "              \"internal_name_format\":{\"postfix\": \"\",\"prefix\": \"ZTF\", \"year_format\": \"YY\"}\n",
    "             }\n",
    "        \n",
    "\n",
    "    \n",
    "    # Hmm, we do not have upper limits. Load from marshal for now?\n",
    "    if sn in cpl.sources:\n",
    "        lc = cpl.get_lightcurve(sn)\n",
    "        del cpl.lightcurves[sn]\n",
    "    elif sn in pl.sources:\n",
    "        lc = pl.get_lightcurve(sn)\n",
    "        del pl.lightcurves[sn]\n",
    "    else:\n",
    "        msg = \"%s not in marshal, skipping from trial tns\"%(sn)\n",
    "        print(msg)\n",
    "        logger.info(msg)\n",
    "        continue\n",
    "\n",
    "        \n",
    "    # Check if already at TNS\n",
    "    [exist,tnsname] = tnsclient.checkTNS(lc.ra,lc.dec)\n",
    "    \n",
    "    if exist is True:\n",
    "        msg = (\"%s already at TNS under name %s\"%(sn,tnsname))\n",
    "        logger.info(msg)\n",
    "        print(msg)\n",
    "        tnsid[sn] = tnsname\n",
    "        continue\n",
    "    elif exist is False:\n",
    "        print(\"Try TNS submit\")\n",
    "    else:\n",
    "        sys.exit(\"Something went wrong with the TNS submit %s\"%(tnsname))\n",
    "        \n",
    " \n",
    "        \n",
    "        \n",
    "        \n",
    "    # Cut down to P48 g and r (note that we right now could include high density fields)\n",
    "    t = lc.table[(lc.table[\"instrument\"]=='P48+ZTF')]\n",
    "    t = t[((t['filter']=='g') | (t['filter']=='r') )]\n",
    "        \n",
    "    # Get date and info on upper limit\n",
    "    firstdet_jd = t[(t[\"magpsf\"]<30)]['jdobs'].min()\n",
    "    if firstdet_jd == t['jdobs'].min():\n",
    "        msg = (\"Skipping. %s detected at first alert time %s, no previous upper limit\"%(sn,firstdet_jd))\n",
    "        print( msg )\n",
    "        logger.info(msg)\n",
    "        continue\n",
    "    \n",
    "    \n",
    "    atdict[\"discovery_datetime\"] = firstdet_jd\n",
    "    print(firstdet_jd)\n",
    "    nondet_jd = t[(t[\"magpsf\"]==99) & (t['jdobs']<firstdet_jd) ]['jdobs'].max()\n",
    "    msg = \"First det at %s w nondetect at %s\"%(firstdet_jd,nondet_jd)\n",
    "    print(msg)\n",
    "    \n",
    "    f = t[t['jdobs']==nondet_jd]\n",
    "    atdict[\"non_detection\"] = {\"obsdate\": nondet_jd,\n",
    "                              \"limiting_flux\": f[\"limmag\"][0],\n",
    "                              \"filter_value\": tns_filters[f[\"filter\"][0]]}\n",
    "    atdict[\"non_detection\"].update(ztf_tns)  # Add the default ZTF values\n",
    "          \n",
    "          \n",
    "    # Add position\n",
    "    atdict[\"ra\"] = {\"value\": lc.ra, \"error\" : 0.2, \"units\":\"arcsec\"}\n",
    "    atdict[\"dec\"] = {\"value\": lc.dec, \"error\" : 0.2, \"units\":\"arcsec\"}\n",
    "\n",
    "          \n",
    "          \n",
    "          \n",
    "    # Photometry\n",
    "    # Find the first two detections and create photometry atdict\n",
    "    \n",
    "    atdict[\"photometry\"] = {\"photometry_group\":{}}\n",
    "    f = t[t['magpsf']<30]  # Non upper limits\n",
    "    print(f)\n",
    "    for counter, i in enumerate(f['jdobs'].argsort()[:2]):\n",
    "        print(f[\"jdobs\"][i])\n",
    "        photdict = {\"obsdate\":f[\"jdobs\"][i],\n",
    "                    \"flux\":f[\"magpsf\"][i],\n",
    "                    \"flux_err\":f[\"sigmamagpsf\"][i],\n",
    "                    \"limiting_flux\":f[\"limmag\"][i],\n",
    "                    \"filter_value\":tns_filters[f[\"filter\"][i]]\n",
    "                    }\n",
    "        photdict.update(ztf_tns)  # Add the default ZTF values\n",
    "        atdict[\"photometry\"][\"photometry_group\"][counter] = photdict\n",
    "    \n",
    "    # Proprietery\n",
    "    atdict[\"proprietary_period\"]: {\n",
    "        \"proprietary_period_units\": \"days\", \n",
    "        \"proprietary_period_value\": \"0\"}\n",
    "    atdict[\"proprietary_period_groups\"]: [ 48 ]\n",
    "    \n",
    "        \n",
    "\n",
    "    # Here we should collect files to upload and add these to the AT dict\n",
    "        \n",
    "    atreport[str(atcounter)] = atdict\n",
    "    atcounter += 1\n",
    "    logger.info('Added %s as id %s to TNS list'%(sn,atcounter))\n",
    "\n",
    "\n",
    "    \n",
    "    if atcounter==50:  # Change to 99\n",
    "        atreportlists.append( atreport )\n",
    "        atreport = {}\n",
    "        atcounter = 0\n",
    "        \n",
    "    \n",
    "# Add the last dict\n",
    "atreportlists.append( {\"at_report\":atreport} )"
   ]
  },
  {
   "cell_type": "code",
   "execution_count": 21,
   "metadata": {},
   "outputs": [
    {
     "data": {
      "text/plain": [
       "[{'at_report': {}}]"
      ]
     },
     "execution_count": 21,
     "metadata": {},
     "output_type": "execute_result"
    }
   ],
   "source": [
    "atreportlists"
   ]
  },
  {
   "cell_type": "code",
   "execution_count": 10,
   "metadata": {},
   "outputs": [],
   "source": [
    "for atreport in atreportlists:\n",
    "    if len(atreport['at_report'])==0 : continue\n",
    "        \n",
    "    # try to submit this\n",
    "    reportid = addBulkReport(atreport, apikey, logger)\n",
    "    if reportid:\n",
    "        print('TNS report ID %s'%(reportid) )\n",
    "        response3 = getBulkReportReply(reportid, apikey, logger)\n",
    "        if response3 is None:\n",
    "            print('Did TNS not have enough time to process?')\n",
    "            time.sleep(5)\n",
    "            response3 = getBulkReportReply(reportid, apikey, logger)\n",
    "            if response3 is None:\n",
    "                print('Really failed reply reading! ')\n",
    "                break\n",
    "        for r in response3:\n",
    "            print(r)\n",
    "    else:\n",
    "        print('Send failure - why? Try again?')\n"
   ]
  },
  {
   "cell_type": "code",
   "execution_count": null,
   "metadata": {},
   "outputs": [],
   "source": []
  },
  {
   "cell_type": "code",
   "execution_count": null,
   "metadata": {},
   "outputs": [],
   "source": []
  },
  {
   "cell_type": "code",
   "execution_count": null,
   "metadata": {},
   "outputs": [],
   "source": []
  },
  {
   "cell_type": "code",
   "execution_count": null,
   "metadata": {},
   "outputs": [],
   "source": []
  },
  {
   "cell_type": "code",
   "execution_count": null,
   "metadata": {},
   "outputs": [],
   "source": []
  },
  {
   "cell_type": "code",
   "execution_count": null,
   "metadata": {},
   "outputs": [],
   "source": []
  },
  {
   "cell_type": "code",
   "execution_count": null,
   "metadata": {},
   "outputs": [],
   "source": []
  },
  {
   "cell_type": "code",
   "execution_count": null,
   "metadata": {},
   "outputs": [],
   "source": []
  },
  {
   "cell_type": "code",
   "execution_count": null,
   "metadata": {},
   "outputs": [],
   "source": []
  },
  {
   "cell_type": "code",
   "execution_count": null,
   "metadata": {},
   "outputs": [],
   "source": [
    "\n"
   ]
  },
  {
   "cell_type": "code",
   "execution_count": null,
   "metadata": {},
   "outputs": [],
   "source": []
  },
  {
   "cell_type": "code",
   "execution_count": null,
   "metadata": {},
   "outputs": [],
   "source": []
  },
  {
   "cell_type": "code",
   "execution_count": null,
   "metadata": {},
   "outputs": [],
   "source": []
  },
  {
   "cell_type": "code",
   "execution_count": null,
   "metadata": {},
   "outputs": [],
   "source": [
    "\n",
    "  "
   ]
  },
  {
   "cell_type": "code",
   "execution_count": null,
   "metadata": {},
   "outputs": [],
   "source": []
  },
  {
   "cell_type": "code",
   "execution_count": null,
   "metadata": {},
   "outputs": [],
   "source": []
  },
  {
   "cell_type": "code",
   "execution_count": null,
   "metadata": {},
   "outputs": [],
   "source": []
  }
 ],
 "metadata": {
  "kernelspec": {
   "display_name": "Python 3",
   "language": "python",
   "name": "python3"
  },
  "language_info": {
   "codemirror_mode": {
    "name": "ipython",
    "version": 3
   },
   "file_extension": ".py",
   "mimetype": "text/x-python",
   "name": "python",
   "nbconvert_exporter": "python",
   "pygments_lexer": "ipython3",
   "version": "3.6.3"
  }
 },
 "nbformat": 4,
 "nbformat_minor": 2
}
